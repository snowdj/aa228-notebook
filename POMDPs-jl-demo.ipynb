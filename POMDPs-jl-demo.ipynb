{
 "cells": [
  {
   "cell_type": "code",
   "execution_count": null,
   "metadata": {
    "collapsed": true
   },
   "outputs": [],
   "source": [
    "Pkg.add(\"POMDPs\")\n",
    "Pkg.add(\"POMDPToolbox\")"
   ]
  },
  {
   "cell_type": "code",
   "execution_count": 1,
   "metadata": {
    "collapsed": false
   },
   "outputs": [],
   "source": [
    "using POMDPs\n",
    "using POMDPToolbox"
   ]
  },
  {
   "cell_type": "code",
   "execution_count": 2,
   "metadata": {
    "collapsed": false
   },
   "outputs": [],
   "source": [
    "importall POMDPs\n",
    "include(\"helpers.jl\");"
   ]
  },
  {
   "cell_type": "markdown",
   "metadata": {},
   "source": [
    "# Chain MDP\n",
    "\n",
    "State space: Integer representing which node we are in.\n",
    "\n",
    "Action space: Try to move left or right (represented by symbols `:left` and `:right`.\n",
    "\n",
    "Transitions: Move in action direction with probability `p_success`, otherwise move in the opposite direction.\n",
    "\n",
    "Reward: +1 for being in rightmost state"
   ]
  },
  {
   "cell_type": "code",
   "execution_count": 4,
   "metadata": {
    "collapsed": false,
    "scrolled": true
   },
   "outputs": [
    {
     "data": {
      "image/svg+xml": [
       "<?xml version=\"1.0\" encoding=\"UTF-8\"?>\n",
       "<svg xmlns=\"http://www.w3.org/2000/svg\" xmlns:xlink=\"http://www.w3.org/1999/xlink\" width=\"102.853pt\" height=\"17.814pt\" viewBox=\"0 0 102.853 17.814\" version=\"1.1\">\n",
       "<defs>\n",
       "<g>\n",
       "<symbol overflow=\"visible\" id=\"glyph-1509070005248971-0-0\">\n",
       "<path style=\"stroke:none;\" d=\"\"/>\n",
       "</symbol>\n",
       "<symbol overflow=\"visible\" id=\"glyph-1509070005248971-0-1\">\n",
       "<path style=\"stroke:none;\" d=\"M 2.9375 -6.375 C 2.9375 -6.625 2.9375 -6.640625 2.703125 -6.640625 C 2.078125 -6 1.203125 -6 0.890625 -6 L 0.890625 -5.6875 C 1.09375 -5.6875 1.671875 -5.6875 2.1875 -5.953125 L 2.1875 -0.78125 C 2.1875 -0.421875 2.15625 -0.3125 1.265625 -0.3125 L 0.953125 -0.3125 L 0.953125 0 C 1.296875 -0.03125 2.15625 -0.03125 2.5625 -0.03125 C 2.953125 -0.03125 3.828125 -0.03125 4.171875 0 L 4.171875 -0.3125 L 3.859375 -0.3125 C 2.953125 -0.3125 2.9375 -0.421875 2.9375 -0.78125 Z M 2.9375 -6.375 \"/>\n",
       "</symbol>\n",
       "<symbol overflow=\"visible\" id=\"glyph-1509070005248971-0-2\">\n",
       "<path style=\"stroke:none;\" d=\"M 1.265625 -0.765625 L 2.328125 -1.796875 C 3.875 -3.171875 4.46875 -3.703125 4.46875 -4.703125 C 4.46875 -5.84375 3.578125 -6.640625 2.359375 -6.640625 C 1.234375 -6.640625 0.5 -5.71875 0.5 -4.828125 C 0.5 -4.28125 1 -4.28125 1.03125 -4.28125 C 1.203125 -4.28125 1.546875 -4.390625 1.546875 -4.8125 C 1.546875 -5.0625 1.359375 -5.328125 1.015625 -5.328125 C 0.9375 -5.328125 0.921875 -5.328125 0.890625 -5.3125 C 1.109375 -5.96875 1.65625 -6.328125 2.234375 -6.328125 C 3.140625 -6.328125 3.5625 -5.515625 3.5625 -4.703125 C 3.5625 -3.90625 3.078125 -3.125 2.515625 -2.5 L 0.609375 -0.375 C 0.5 -0.265625 0.5 -0.234375 0.5 0 L 4.203125 0 L 4.46875 -1.734375 L 4.234375 -1.734375 C 4.171875 -1.4375 4.109375 -1 4 -0.84375 C 3.9375 -0.765625 3.28125 -0.765625 3.0625 -0.765625 Z M 1.265625 -0.765625 \"/>\n",
       "</symbol>\n",
       "<symbol overflow=\"visible\" id=\"glyph-1509070005248971-0-3\">\n",
       "<path style=\"stroke:none;\" d=\"M 2.890625 -3.515625 C 3.703125 -3.78125 4.28125 -4.46875 4.28125 -5.265625 C 4.28125 -6.078125 3.40625 -6.640625 2.453125 -6.640625 C 1.453125 -6.640625 0.6875 -6.046875 0.6875 -5.28125 C 0.6875 -4.953125 0.90625 -4.765625 1.203125 -4.765625 C 1.5 -4.765625 1.703125 -4.984375 1.703125 -5.28125 C 1.703125 -5.765625 1.234375 -5.765625 1.09375 -5.765625 C 1.390625 -6.265625 2.046875 -6.390625 2.40625 -6.390625 C 2.828125 -6.390625 3.375 -6.171875 3.375 -5.28125 C 3.375 -5.15625 3.34375 -4.578125 3.09375 -4.140625 C 2.796875 -3.65625 2.453125 -3.625 2.203125 -3.625 C 2.125 -3.609375 1.890625 -3.59375 1.8125 -3.59375 C 1.734375 -3.578125 1.671875 -3.5625 1.671875 -3.46875 C 1.671875 -3.359375 1.734375 -3.359375 1.90625 -3.359375 L 2.34375 -3.359375 C 3.15625 -3.359375 3.53125 -2.6875 3.53125 -1.703125 C 3.53125 -0.34375 2.84375 -0.0625 2.40625 -0.0625 C 1.96875 -0.0625 1.21875 -0.234375 0.875 -0.8125 C 1.21875 -0.765625 1.53125 -0.984375 1.53125 -1.359375 C 1.53125 -1.71875 1.265625 -1.921875 0.984375 -1.921875 C 0.734375 -1.921875 0.421875 -1.78125 0.421875 -1.34375 C 0.421875 -0.4375 1.34375 0.21875 2.4375 0.21875 C 3.65625 0.21875 4.5625 -0.6875 4.5625 -1.703125 C 4.5625 -2.515625 3.921875 -3.296875 2.890625 -3.515625 Z M 2.890625 -3.515625 \"/>\n",
       "</symbol>\n",
       "<symbol overflow=\"visible\" id=\"glyph-1509070005248971-0-4\">\n",
       "<path style=\"stroke:none;\" d=\"M 2.9375 -1.640625 L 2.9375 -0.78125 C 2.9375 -0.421875 2.90625 -0.3125 2.171875 -0.3125 L 1.96875 -0.3125 L 1.96875 0 C 2.375 -0.03125 2.890625 -0.03125 3.3125 -0.03125 C 3.734375 -0.03125 4.25 -0.03125 4.671875 0 L 4.671875 -0.3125 L 4.453125 -0.3125 C 3.71875 -0.3125 3.703125 -0.421875 3.703125 -0.78125 L 3.703125 -1.640625 L 4.6875 -1.640625 L 4.6875 -1.953125 L 3.703125 -1.953125 L 3.703125 -6.484375 C 3.703125 -6.6875 3.703125 -6.75 3.53125 -6.75 C 3.453125 -6.75 3.421875 -6.75 3.34375 -6.625 L 0.28125 -1.953125 L 0.28125 -1.640625 Z M 2.984375 -1.953125 L 0.5625 -1.953125 L 2.984375 -5.671875 Z M 2.984375 -1.953125 \"/>\n",
       "</symbol>\n",
       "</g>\n",
       "<clipPath id=\"clip-1509070005248971-1\">\n",
       "  <path d=\"M 0 0 L 18 0 L 18 17.8125 L 0 17.8125 Z M 0 0 \"/>\n",
       "</clipPath>\n",
       "<clipPath id=\"clip-1509070005248971-2\">\n",
       "  <path d=\"M 0 0 L 24 0 L 24 17.8125 L 0 17.8125 Z M 0 0 \"/>\n",
       "</clipPath>\n",
       "<clipPath id=\"clip-1509070005248971-3\">\n",
       "  <path d=\"M 28 0 L 46 0 L 46 17.8125 L 28 17.8125 Z M 28 0 \"/>\n",
       "</clipPath>\n",
       "<clipPath id=\"clip-1509070005248971-4\">\n",
       "  <path d=\"M 22 0 L 52 0 L 52 17.8125 L 22 17.8125 Z M 22 0 \"/>\n",
       "</clipPath>\n",
       "<clipPath id=\"clip-1509070005248971-5\">\n",
       "  <path d=\"M 56 0 L 75 0 L 75 17.8125 L 56 17.8125 Z M 56 0 \"/>\n",
       "</clipPath>\n",
       "<clipPath id=\"clip-1509070005248971-6\">\n",
       "  <path d=\"M 51 0 L 80 0 L 80 17.8125 L 51 17.8125 Z M 51 0 \"/>\n",
       "</clipPath>\n",
       "<clipPath id=\"clip-1509070005248971-7\">\n",
       "  <path d=\"M 85 0 L 102.851562 0 L 102.851562 17.8125 L 85 17.8125 Z M 85 0 \"/>\n",
       "</clipPath>\n",
       "<clipPath id=\"clip-1509070005248971-8\">\n",
       "  <path d=\"M 79 0 L 102.851562 0 L 102.851562 17.8125 L 79 17.8125 Z M 79 0 \"/>\n",
       "</clipPath>\n",
       "</defs>\n",
       "<g id=\"surface1\">\n",
       "<path style=\"fill:none;stroke-width:0.3985;stroke-linecap:butt;stroke-linejoin:miter;stroke:rgb(0%,0%,0%);stroke-opacity:1;stroke-miterlimit:10;\" d=\"M 28.34625 0.00075 L 113.389219 0.00075 \" transform=\"matrix(1,0,0,-1,-19.44,8.907)\"/>\n",
       "<g clip-path=\"url(#clip-1509070005248971-1)\" clip-rule=\"nonzero\">\n",
       "<path style=\" stroke:none;fill-rule:nonzero;fill:rgb(100%,100%,100%);fill-opacity:1;\" d=\"M 17.613281 8.90625 C 17.613281 4.097656 13.714844 0.199219 8.90625 0.199219 C 4.097656 0.199219 0.199219 4.097656 0.199219 8.90625 C 0.199219 13.714844 4.097656 17.613281 8.90625 17.613281 C 13.714844 17.613281 17.613281 13.714844 17.613281 8.90625 Z M 17.613281 8.90625 \"/>\n",
       "</g>\n",
       "<g clip-path=\"url(#clip-1509070005248971-2)\" clip-rule=\"nonzero\">\n",
       "<path style=\"fill:none;stroke-width:0.3985;stroke-linecap:butt;stroke-linejoin:miter;stroke:rgb(0%,0%,0%);stroke-opacity:1;stroke-miterlimit:10;\" d=\"M 37.053281 0.00075 C 37.053281 4.809344 33.154844 8.707781 28.34625 8.707781 C 23.537656 8.707781 19.639219 4.809344 19.639219 0.00075 C 19.639219 -4.807844 23.537656 -8.706281 28.34625 -8.706281 C 33.154844 -8.706281 37.053281 -4.807844 37.053281 0.00075 Z M 37.053281 0.00075 \" transform=\"matrix(1,0,0,-1,-19.44,8.907)\"/>\n",
       "</g>\n",
       "<g style=\"fill:rgb(0%,0%,0%);fill-opacity:1;\">\n",
       "  <use xlink:href=\"#glyph-1509070005248971-0-1\" x=\"6.416\" y=\"12.117\"/>\n",
       "</g>\n",
       "<g clip-path=\"url(#clip-1509070005248971-3)\" clip-rule=\"nonzero\">\n",
       "<path style=\" stroke:none;fill-rule:nonzero;fill:rgb(100%,100%,100%);fill-opacity:1;\" d=\"M 45.960938 8.90625 C 45.960938 4.097656 42.0625 0.199219 37.253906 0.199219 C 32.445312 0.199219 28.546875 4.097656 28.546875 8.90625 C 28.546875 13.714844 32.445312 17.613281 37.253906 17.613281 C 42.0625 17.613281 45.960938 13.714844 45.960938 8.90625 Z M 45.960938 8.90625 \"/>\n",
       "</g>\n",
       "<g clip-path=\"url(#clip-1509070005248971-4)\" clip-rule=\"nonzero\">\n",
       "<path style=\"fill:none;stroke-width:0.3985;stroke-linecap:butt;stroke-linejoin:miter;stroke:rgb(0%,0%,0%);stroke-opacity:1;stroke-miterlimit:10;\" d=\"M 65.400937 0.00075 C 65.400937 4.809344 61.5025 8.707781 56.693906 8.707781 C 51.885312 8.707781 47.986875 4.809344 47.986875 0.00075 C 47.986875 -4.807844 51.885312 -8.706281 56.693906 -8.706281 C 61.5025 -8.706281 65.400937 -4.807844 65.400937 0.00075 Z M 65.400937 0.00075 \" transform=\"matrix(1,0,0,-1,-19.44,8.907)\"/>\n",
       "</g>\n",
       "<g style=\"fill:rgb(0%,0%,0%);fill-opacity:1;\">\n",
       "  <use xlink:href=\"#glyph-1509070005248971-0-2\" x=\"34.763\" y=\"12.117\"/>\n",
       "</g>\n",
       "<g clip-path=\"url(#clip-1509070005248971-5)\" clip-rule=\"nonzero\">\n",
       "<path style=\" stroke:none;fill-rule:nonzero;fill:rgb(100%,100%,100%);fill-opacity:1;\" d=\"M 74.308594 8.90625 C 74.308594 4.097656 70.410156 0.199219 65.601562 0.199219 C 60.792969 0.199219 56.894531 4.097656 56.894531 8.90625 C 56.894531 13.714844 60.792969 17.613281 65.601562 17.613281 C 70.410156 17.613281 74.308594 13.714844 74.308594 8.90625 Z M 74.308594 8.90625 \"/>\n",
       "</g>\n",
       "<g clip-path=\"url(#clip-1509070005248971-6)\" clip-rule=\"nonzero\">\n",
       "<path style=\"fill:none;stroke-width:0.3985;stroke-linecap:butt;stroke-linejoin:miter;stroke:rgb(0%,0%,0%);stroke-opacity:1;stroke-miterlimit:10;\" d=\"M 93.748594 0.00075 C 93.748594 4.809344 89.850156 8.707781 85.041562 8.707781 C 80.232969 8.707781 76.334531 4.809344 76.334531 0.00075 C 76.334531 -4.807844 80.232969 -8.706281 85.041562 -8.706281 C 89.850156 -8.706281 93.748594 -4.807844 93.748594 0.00075 Z M 93.748594 0.00075 \" transform=\"matrix(1,0,0,-1,-19.44,8.907)\"/>\n",
       "</g>\n",
       "<g style=\"fill:rgb(0%,0%,0%);fill-opacity:1;\">\n",
       "  <use xlink:href=\"#glyph-1509070005248971-0-3\" x=\"63.109\" y=\"12.117\"/>\n",
       "</g>\n",
       "<g clip-path=\"url(#clip-1509070005248971-7)\" clip-rule=\"nonzero\">\n",
       "<path style=\" stroke:none;fill-rule:nonzero;fill:rgb(0%,100%,0%);fill-opacity:1;\" d=\"M 102.65625 8.90625 C 102.65625 4.097656 98.757812 0.199219 93.949219 0.199219 C 89.136719 0.199219 85.238281 4.097656 85.238281 8.90625 C 85.238281 13.714844 89.136719 17.613281 93.949219 17.613281 C 98.757812 17.613281 102.65625 13.714844 102.65625 8.90625 Z M 102.65625 8.90625 \"/>\n",
       "</g>\n",
       "<g clip-path=\"url(#clip-1509070005248971-8)\" clip-rule=\"nonzero\">\n",
       "<path style=\"fill:none;stroke-width:0.3985;stroke-linecap:butt;stroke-linejoin:miter;stroke:rgb(0%,0%,0%);stroke-opacity:1;stroke-miterlimit:10;\" d=\"M 122.09625 0.00075 C 122.09625 4.809344 118.197812 8.707781 113.389219 8.707781 C 108.576719 8.707781 104.678281 4.809344 104.678281 0.00075 C 104.678281 -4.807844 108.576719 -8.706281 113.389219 -8.706281 C 118.197812 -8.706281 122.09625 -4.807844 122.09625 0.00075 Z M 122.09625 0.00075 \" transform=\"matrix(1,0,0,-1,-19.44,8.907)\"/>\n",
       "</g>\n",
       "<g style=\"fill:rgb(0%,0%,0%);fill-opacity:1;\">\n",
       "  <use xlink:href=\"#glyph-1509070005248971-0-4\" x=\"91.456\" y=\"12.117\"/>\n",
       "</g>\n",
       "</g>\n",
       "</svg>\n",
       "\n"
      ],
      "text/plain": [
       "TikzPictures.TikzPicture(\"\\\\draw (1cm, 0cm) node[draw=black,circle,fill=white]{1} -- (2cm, 0cm) node[draw=black,circle,fill=white]{2} -- (3cm, 0cm) node[draw=black,circle,fill=white]{3} -- (4cm, 0cm) node[draw=black,circle,fill=green]{4};\", \"\", \"\", true, true)"
      ]
     },
     "execution_count": 4,
     "metadata": {},
     "output_type": "execute_result"
    }
   ],
   "source": [
    "plot_chain(4, fill=Dict(4=>\"green\"))"
   ]
  },
  {
   "cell_type": "markdown",
   "metadata": {},
   "source": [
    "First, create a new type that represents the MDP"
   ]
  },
  {
   "cell_type": "code",
   "execution_count": 6,
   "metadata": {
    "collapsed": false
   },
   "outputs": [],
   "source": [
    "struct ChainMDP <: MDP{Int, Symbol}\n",
    "    len::Int\n",
    "    p_success::Float64\n",
    "    discount::Float64\n",
    "end"
   ]
  },
  {
   "cell_type": "markdown",
   "metadata": {},
   "source": [
    "We define the behavior of the MDP by imlementing functions from the POMDPs.jl API (http://juliapomdp.github.io/POMDPs.jl/latest/api/). "
   ]
  },
  {
   "cell_type": "code",
   "execution_count": 7,
   "metadata": {
    "collapsed": false
   },
   "outputs": [
    {
     "name": "stdout",
     "output_type": "stream",
     "text": [
      "search: \u001b[1mS\u001b[22m\u001b[1mp\u001b[22m\u001b[1ma\u001b[22m\u001b[1mr\u001b[22m\u001b[1ms\u001b[22m\u001b[1me\u001b[22m\u001b[1mC\u001b[22m\u001b[1ma\u001b[22m\u001b[1mt\u001b[22m \u001b[1ms\u001b[22m\u001b[1mp\u001b[22m\u001b[1ma\u001b[22m\u001b[1mr\u001b[22m\u001b[1ms\u001b[22m\u001b[1me\u001b[22mve\u001b[1mc\u001b[22m \u001b[1mS\u001b[22m\u001b[1mp\u001b[22m\u001b[1ma\u001b[22m\u001b[1mr\u001b[22m\u001b[1ms\u001b[22m\u001b[1me\u001b[22mVe\u001b[1mc\u001b[22mtor \u001b[1mS\u001b[22m\u001b[1mp\u001b[22m\u001b[1ma\u001b[22m\u001b[1mr\u001b[22m\u001b[1ms\u001b[22m\u001b[1me\u001b[22mMatrix\u001b[1mC\u001b[22mSC Ab\u001b[1ms\u001b[22mtractS\u001b[1mp\u001b[22m\u001b[1ma\u001b[22m\u001b[1mr\u001b[22m\u001b[1ms\u001b[22m\u001b[1me\u001b[22mVe\u001b[1mc\u001b[22mtor\n",
      "\n"
     ]
    },
    {
     "data": {
      "text/markdown": [
       "```\n",
       "SparseCat(values, probabilities)\n",
       "```\n",
       "\n",
       "Create a sparse categorical distribution.\n",
       "\n",
       "`values` is an iterable object containing the possible values (can be of any type) in the distribution that have nonzero probability. `probabilities` is an iterable object that contains the associated probabilities.\n",
       "\n",
       "This is optimized for value iteration with a fast implementation of `weighted_iterator`. Both `pdf` and `rand` are order n.\n"
      ],
      "text/plain": [
       "```\n",
       "SparseCat(values, probabilities)\n",
       "```\n",
       "\n",
       "Create a sparse categorical distribution.\n",
       "\n",
       "`values` is an iterable object containing the possible values (can be of any type) in the distribution that have nonzero probability. `probabilities` is an iterable object that contains the associated probabilities.\n",
       "\n",
       "This is optimized for value iteration with a fast implementation of `weighted_iterator`. Both `pdf` and `rand` are order n.\n"
      ]
     },
     "execution_count": 7,
     "metadata": {},
     "output_type": "execute_result"
    }
   ],
   "source": [
    "?SparseCat"
   ]
  },
  {
   "cell_type": "code",
   "execution_count": 8,
   "metadata": {
    "collapsed": false
   },
   "outputs": [
    {
     "data": {
      "text/plain": [
       "transition (generic function with 1 method)"
      ]
     },
     "execution_count": 8,
     "metadata": {},
     "output_type": "execute_result"
    }
   ],
   "source": [
    "# the transition function returns the distribution of sp given that\n",
    "# action a is taken in state s\n",
    "function transition(mdp::ChainMDP, s::Int, a::Symbol)\n",
    "    if a == :right\n",
    "        success = min(s+1, mdp.len)\n",
    "        failure = max(s-1, 1)\n",
    "    else # a == :left\n",
    "        success = max(s-1, 1)\n",
    "        failure = min(s+1, mdp.len)\n",
    "    end\n",
    "    return SparseCat([success, failure], [mdp.p_success, 1.0-mdp.p_success])\n",
    "end"
   ]
  },
  {
   "cell_type": "markdown",
   "metadata": {},
   "source": [
    "Note: this allocates arrays in the return statement - it could be sped up by using [StaticArrays.jl](https://github.com/JuliaArrays/StaticArrays.jl)"
   ]
  },
  {
   "cell_type": "code",
   "execution_count": 9,
   "metadata": {
    "collapsed": false
   },
   "outputs": [
    {
     "data": {
      "text/plain": [
       "reward (generic function with 2 methods)"
      ]
     },
     "execution_count": 9,
     "metadata": {},
     "output_type": "execute_result"
    }
   ],
   "source": [
    "function reward(mdp::ChainMDP, s::Int, a::Symbol)\n",
    "    if s == mdp.len\n",
    "        return 1.0\n",
    "    else \n",
    "        return 0.0\n",
    "    end\n",
    "end"
   ]
  },
  {
   "cell_type": "code",
   "execution_count": 10,
   "metadata": {
    "collapsed": false
   },
   "outputs": [
    {
     "data": {
      "text/plain": [
       "discount (generic function with 4 methods)"
      ]
     },
     "execution_count": 10,
     "metadata": {},
     "output_type": "execute_result"
    }
   ],
   "source": [
    "discount(mdp::ChainMDP) = mdp.discount"
   ]
  },
  {
   "cell_type": "markdown",
   "metadata": {},
   "source": [
    "And that's all we need to define the MDP (for simulation at least)"
   ]
  },
  {
   "cell_type": "code",
   "execution_count": null,
   "metadata": {
    "collapsed": true
   },
   "outputs": [],
   "source": [
    "\n",
    "\n",
    "\n",
    "\n",
    "\n",
    "\n",
    "\n",
    "\n",
    "\n",
    "\n",
    "\n"
   ]
  },
  {
   "cell_type": "code",
   "execution_count": 11,
   "metadata": {
    "collapsed": false
   },
   "outputs": [
    {
     "data": {
      "text/plain": [
       "ChainMDP(4, 0.7, 0.9)"
      ]
     },
     "execution_count": 11,
     "metadata": {},
     "output_type": "execute_result"
    }
   ],
   "source": [
    "mdp = ChainMDP(4, 0.7, 0.9)"
   ]
  },
  {
   "cell_type": "code",
   "execution_count": 12,
   "metadata": {
    "collapsed": false
   },
   "outputs": [
    {
     "data": {
      "text/plain": [
       "POMDPToolbox.SparseCat{Array{Int64,1},Array{Float64,1}}([2, 1], [0.7, 0.3])"
      ]
     },
     "execution_count": 12,
     "metadata": {},
     "output_type": "execute_result"
    }
   ],
   "source": [
    "transition(mdp, 1, :right)"
   ]
  },
  {
   "cell_type": "code",
   "execution_count": 13,
   "metadata": {
    "collapsed": false
   },
   "outputs": [
    {
     "data": {
      "text/plain": [
       "0.0"
      ]
     },
     "execution_count": 13,
     "metadata": {},
     "output_type": "execute_result"
    }
   ],
   "source": [
    "reward(mdp, 1, :right)"
   ]
  },
  {
   "cell_type": "code",
   "execution_count": 14,
   "metadata": {
    "collapsed": false
   },
   "outputs": [
    {
     "data": {
      "text/plain": [
       "1.0"
      ]
     },
     "execution_count": 14,
     "metadata": {},
     "output_type": "execute_result"
    }
   ],
   "source": [
    "reward(mdp, 4, :left)"
   ]
  },
  {
   "cell_type": "code",
   "execution_count": null,
   "metadata": {
    "collapsed": true
   },
   "outputs": [],
   "source": [
    "\n",
    "\n",
    "\n",
    "\n",
    "\n",
    "\n",
    "\n",
    "\n",
    "\n",
    "\n"
   ]
  },
  {
   "cell_type": "markdown",
   "metadata": {},
   "source": [
    "# Simulations\n",
    "\n",
    "There are three basic ways to simulate a POMDP."
   ]
  },
  {
   "cell_type": "markdown",
   "metadata": {
    "collapsed": true
   },
   "source": [
    "\n",
    "\n",
    "If we want to try out simple policies we can use the `sim` function with a `do` block that defines the policy."
   ]
  },
  {
   "cell_type": "code",
   "execution_count": 17,
   "metadata": {
    "collapsed": false
   },
   "outputs": [],
   "source": [
    "history = sim(mdp, initial_state=1, max_steps=10) do s\n",
    "    if s == 2\n",
    "        return :left\n",
    "    end\n",
    "    return :right\n",
    "end;"
   ]
  },
  {
   "cell_type": "code",
   "execution_count": 18,
   "metadata": {
    "collapsed": false,
    "scrolled": true
   },
   "outputs": [
    {
     "name": "stdout",
     "output_type": "stream",
     "text": [
      "State:  1    Action:  right   Reward: 0\n",
      "State:  1    Action:  right   Reward: 0\n",
      "State:  1    Action:  right   Reward: 0\n",
      "State:  2    Action:   left   Reward: 0\n",
      "State:  1    Action:  right   Reward: 0\n",
      "State:  2    Action:   left   Reward: 0\n",
      "State:  1    Action:  right   Reward: 0\n",
      "State:  2    Action:   left   Reward: 0\n",
      "State:  3    Action:  right   Reward: 0\n",
      "State:  4    Action:  right   Reward: 1\n"
     ]
    }
   ],
   "source": [
    "for (s, a, r) in eachstep(history, \"sar\")\n",
    "    @printf(\"State: %2d    Action: %6s   Reward: %1d\\n\", s, a, r)\n",
    "end    "
   ]
  },
  {
   "cell_type": "code",
   "execution_count": null,
   "metadata": {
    "collapsed": true
   },
   "outputs": [],
   "source": [
    "\n",
    "\n",
    "\n",
    "\n",
    "\n",
    "\n",
    "\n",
    "\n",
    "\n",
    "\n",
    "\n",
    "\n",
    "\n",
    "\n"
   ]
  },
  {
   "cell_type": "markdown",
   "metadata": {},
   "source": [
    "We can also specify a policy object, for example using a vector"
   ]
  },
  {
   "cell_type": "code",
   "execution_count": 19,
   "metadata": {
    "collapsed": false
   },
   "outputs": [
    {
     "name": "stdout",
     "output_type": "stream",
     "text": [
      "policy_vector = fill(:right, 4) = Symbol[:right, :right, :right, :right]\n"
     ]
    }
   ],
   "source": [
    "@show policy_vector = fill(:right, 4);"
   ]
  },
  {
   "cell_type": "code",
   "execution_count": 20,
   "metadata": {
    "collapsed": false
   },
   "outputs": [],
   "source": [
    "policy = VectorPolicy(mdp, policy_vector);"
   ]
  },
  {
   "cell_type": "markdown",
   "metadata": {
    "collapsed": false,
    "scrolled": true
   },
   "source": [
    "and step through a simulation as it is being performed"
   ]
  },
  {
   "cell_type": "code",
   "execution_count": 21,
   "metadata": {
    "collapsed": false
   },
   "outputs": [
    {
     "name": "stdout",
     "output_type": "stream",
     "text": [
      "State:  1    Action:  right   Reward: 0\n",
      "State:  2    Action:  right   Reward: 0\n",
      "State:  1    Action:  right   Reward: 0\n",
      "State:  2    Action:  right   Reward: 0\n",
      "State:  3    Action:  right   Reward: 0\n",
      "State:  4    Action:  right   Reward: 1\n",
      "State:  4    Action:  right   Reward: 1\n",
      "State:  3    Action:  right   Reward: 0\n",
      "State:  2    Action:  right   Reward: 0\n",
      "State:  1    Action:  right   Reward: 0\n"
     ]
    }
   ],
   "source": [
    "for (s, a, r) in stepthrough(mdp, policy, \"sar\", initial_state=1, max_steps=10)\n",
    "    @printf(\"State: %2d    Action: %6s   Reward: %1d\\n\", s, a, r)\n",
    "    sleep(1.0)\n",
    "end"
   ]
  },
  {
   "cell_type": "code",
   "execution_count": null,
   "metadata": {
    "collapsed": true
   },
   "outputs": [],
   "source": [
    "\n",
    "\n",
    "\n",
    "\n",
    "\n",
    "\n",
    "\n",
    "\n",
    "\n",
    "\n",
    "\n",
    "\n"
   ]
  },
  {
   "cell_type": "markdown",
   "metadata": {
    "collapsed": true
   },
   "source": [
    "And also use a simulator object and the `simulate()` function."
   ]
  },
  {
   "cell_type": "code",
   "execution_count": 22,
   "metadata": {
    "collapsed": false
   },
   "outputs": [
    {
     "name": "stdout",
     "output_type": "stream",
     "text": [
      "state_hist(history) = [1, 2, 3, 4, 3, 4, 4, 4, 3, 2, 3]\n"
     ]
    }
   ],
   "source": [
    "simulator = HistoryRecorder(max_steps=10, initial_state=1)\n",
    "history = simulate(simulator, mdp, policy)\n",
    "@show state_hist(history);"
   ]
  },
  {
   "cell_type": "code",
   "execution_count": null,
   "metadata": {
    "collapsed": true
   },
   "outputs": [],
   "source": [
    "\n",
    "\n",
    "\n",
    "\n",
    "\n",
    "\n",
    "\n",
    "\n",
    "\n",
    "\n",
    "\n",
    "\n",
    "\n",
    "\n",
    "\n",
    "\n"
   ]
  },
  {
   "cell_type": "markdown",
   "metadata": {},
   "source": [
    "# Solving with MCTS\n",
    "\n",
    "\n",
    "The required API functions depend on the solver. Suppose we want to use the MCTS solver from MCTS.jl:"
   ]
  },
  {
   "cell_type": "code",
   "execution_count": 23,
   "metadata": {
    "collapsed": false
   },
   "outputs": [
    {
     "name": "stdout",
     "output_type": "stream",
     "text": [
      "Package already installed\n"
     ]
    },
    {
     "name": "stderr",
     "output_type": "stream",
     "text": [
      "\u001b[1m\u001b[36mINFO: \u001b[39m\u001b[22m\u001b[36mCloning MCTS from https://github.com/JuliaPOMDP/MCTS.jl\n",
      "\u001b[39m"
     ]
    }
   ],
   "source": [
    "POMDPs.add(\"MCTS\")\n",
    "using MCTS"
   ]
  },
  {
   "cell_type": "code",
   "execution_count": 24,
   "metadata": {
    "collapsed": false
   },
   "outputs": [
    {
     "name": "stdout",
     "output_type": "stream",
     "text": [
      "\n",
      "INFO: POMDPs.jl requirements for \u001b[34maction(::MCTS.AbstractMCTSPlanner, ::Any)\u001b[39m and dependencies. ([✔] = implemented correctly; [X] = missing)\n",
      "\n",
      "For \u001b[34maction(::MCTS.AbstractMCTSPlanner, ::Any)\u001b[39m:\n",
      "  [No additional requirements]\n",
      "For \u001b[34msimulate(::MCTS.AbstractMCTSPlanner, ::Any, ::Int64)\u001b[39m (in action(::MCTS.AbstractMCTSPlanner, ::Any)):\n",
      "\u001b[32m  [✔] discount(::ChainMDP)\u001b[39m\n",
      "\u001b[32m  [✔] isterminal(::ChainMDP, ::Int64)\u001b[39m\n",
      "\u001b[32m  [✔] generate_sr(::ChainMDP, ::Int64, ::Symbol, ::MersenneTwister)\u001b[39m\n",
      "\u001b[32m  [✔] isequal(::Int64, ::Int64)\u001b[39m\n",
      "\u001b[32m  [✔] hash(::Int64)\u001b[39m\n",
      "For \u001b[34minsert_node!(::MCTS.AbstractMCTSPlanner, ::Any)\u001b[39m (in simulate(::MCTS.AbstractMCTSPlanner, ::Any, ::Int64)):\n",
      "\u001b[31m  [X] actions(::ChainMDP, ::Int64)\u001b[39m\n",
      "\u001b[31m  WARNING: Some requirements may not be shown because a MethodError was thrown.\u001b[39m\n",
      "For \u001b[34mestimate_value(::MCTS.SolvedRolloutEstimator, ::POMDPs.MDP, ::Any, ::Int64)\u001b[39m (in simulate(::MCTS.AbstractMCTSPlanner, ::Any, ::Int64)):\n",
      "  [No additional requirements]\n",
      "For \u001b[34mrollout(::MCTS.SolvedRolloutEstimator, ::POMDPs.MDP, ::Any, ::Int64)\u001b[39m (in estimate_value(::MCTS.SolvedRolloutEstimator, ::POMDPs.MDP, ::Any, ::Int64)):\n",
      "  [No additional requirements]\n",
      "For \u001b[34msimulate(::POMDPToolbox.RolloutSimulator, ::POMDPs.MDP, ::Policy, ::Any)\u001b[39m (in rollout(::MCTS.SolvedRolloutEstimator, ::POMDPs.MDP, ::Any, ::Int64)):\n",
      "\u001b[32m  [✔] action(::RandomPolicy, ::Int64)\u001b[39m\n",
      "\n",
      "Note: Missing methods are often due to incorrect importing. Consider using `importall POMDPs`.\n",
      "\n",
      "Throwing the first exception (from processing \u001b[34minsert_node!(::MCTS.AbstractMCTSPlanner, ::Any)\u001b[39m requirements):\n",
      "\n"
     ]
    },
    {
     "ename": "LoadError",
     "evalue": "\u001b[91mMethodError: no method matching actions(::ChainMDP)\u001b[0m\nClosest candidates are:\n  actions(::Union{POMDPs.MDP, POMDPs.POMDP}, \u001b[91m::Any\u001b[39m) at /home/zach/.julia/v0.6/POMDPs/src/space.jl:43\n  actions(\u001b[91m::POMDPs.POMDP{S,Bool,O}\u001b[39m) where {S, O} at /home/zach/.julia/v0.6/POMDPToolbox/src/convenience/implementations.jl:6\n  actions(\u001b[91m::POMDPs.POMDP{S,Bool,O}\u001b[39m, \u001b[91m::S\u001b[39m) where {S, O} at /home/zach/.julia/v0.6/POMDPToolbox/src/convenience/implementations.jl:7\n  ...\u001b[39m",
     "output_type": "error",
     "traceback": [
      "\u001b[91mMethodError: no method matching actions(::ChainMDP)\u001b[0m\nClosest candidates are:\n  actions(::Union{POMDPs.MDP, POMDPs.POMDP}, \u001b[91m::Any\u001b[39m) at /home/zach/.julia/v0.6/POMDPs/src/space.jl:43\n  actions(\u001b[91m::POMDPs.POMDP{S,Bool,O}\u001b[39m) where {S, O} at /home/zach/.julia/v0.6/POMDPToolbox/src/convenience/implementations.jl:6\n  actions(\u001b[91m::POMDPs.POMDP{S,Bool,O}\u001b[39m, \u001b[91m::S\u001b[39m) where {S, O} at /home/zach/.julia/v0.6/POMDPToolbox/src/convenience/implementations.jl:7\n  ...\u001b[39m",
      ""
     ]
    }
   ],
   "source": [
    "solver = MCTSSolver()\n",
    "mdp = ChainMDP(4, 0.8, 0.95)\n",
    "\n",
    "@requirements_info solver mdp"
   ]
  },
  {
   "cell_type": "code",
   "execution_count": 25,
   "metadata": {
    "collapsed": false
   },
   "outputs": [
    {
     "name": "stdout",
     "output_type": "stream",
     "text": [
      "search: \u001b[1ma\u001b[22m\u001b[1mc\u001b[22m\u001b[1mt\u001b[22m\u001b[1mi\u001b[22m\u001b[1mo\u001b[22m\u001b[1mn\u001b[22m\u001b[1ms\u001b[22m n_\u001b[1ma\u001b[22m\u001b[1mc\u001b[22m\u001b[1mt\u001b[22m\u001b[1mi\u001b[22m\u001b[1mo\u001b[22m\u001b[1mn\u001b[22m\u001b[1ms\u001b[22m \u001b[1ma\u001b[22m\u001b[1mc\u001b[22m\u001b[1mt\u001b[22m\u001b[1mi\u001b[22m\u001b[1mo\u001b[22m\u001b[1mn\u001b[22m_hi\u001b[1ms\u001b[22mt ordered_\u001b[1ma\u001b[22m\u001b[1mc\u001b[22m\u001b[1mt\u001b[22m\u001b[1mi\u001b[22m\u001b[1mo\u001b[22m\u001b[1mn\u001b[22m\u001b[1ms\u001b[22m St\u001b[1ma\u001b[22mteA\u001b[1mc\u001b[22m\u001b[1mt\u001b[22m\u001b[1mi\u001b[22m\u001b[1mo\u001b[22m\u001b[1mn\u001b[22m\u001b[1mS\u001b[22mtateNode\n",
      "\n"
     ]
    },
    {
     "data": {
      "text/markdown": [
       "```\n",
       "actions(problem::POMDP)\n",
       "actions(problem::MDP)\n",
       "```\n",
       "\n",
       "Returns the entire action space of a POMDP.\n",
       "\n",
       "```\n",
       "actions{S,A,O}(problem::POMDP{S,A,O}, state::S)\n",
       "actions{S,A}(problem::MDP{S,A}, state::S)\n",
       "```\n",
       "\n",
       "Return the action space accessible from the given state.\n",
       "\n",
       "```\n",
       "actions{S,A,O,B}(problem::POMDP{S,A,O}, belief::B)\n",
       "```\n",
       "\n",
       "Return the action space accessible from the states with nonzero belief.\n"
      ],
      "text/plain": [
       "```\n",
       "actions(problem::POMDP)\n",
       "actions(problem::MDP)\n",
       "```\n",
       "\n",
       "Returns the entire action space of a POMDP.\n",
       "\n",
       "```\n",
       "actions{S,A,O}(problem::POMDP{S,A,O}, state::S)\n",
       "actions{S,A}(problem::MDP{S,A}, state::S)\n",
       "```\n",
       "\n",
       "Return the action space accessible from the given state.\n",
       "\n",
       "```\n",
       "actions{S,A,O,B}(problem::POMDP{S,A,O}, belief::B)\n",
       "```\n",
       "\n",
       "Return the action space accessible from the states with nonzero belief.\n"
      ]
     },
     "execution_count": 25,
     "metadata": {},
     "output_type": "execute_result"
    }
   ],
   "source": [
    "?actions"
   ]
  },
  {
   "cell_type": "code",
   "execution_count": 26,
   "metadata": {
    "collapsed": false
   },
   "outputs": [
    {
     "data": {
      "text/plain": [
       "actions (generic function with 12 methods)"
      ]
     },
     "execution_count": 26,
     "metadata": {},
     "output_type": "execute_result"
    }
   ],
   "source": [
    "actions(::ChainMDP) = [:left, :right]"
   ]
  },
  {
   "cell_type": "code",
   "execution_count": 27,
   "metadata": {
    "collapsed": false
   },
   "outputs": [
    {
     "name": "stdout",
     "output_type": "stream",
     "text": [
      "\n",
      "INFO: POMDPs.jl requirements for \u001b[34maction(::MCTS.AbstractMCTSPlanner, ::Any)\u001b[39m and dependencies. ([✔] = implemented correctly; [X] = missing)\n",
      "\n",
      "For \u001b[34maction(::MCTS.AbstractMCTSPlanner, ::Any)\u001b[39m:\n",
      "  [No additional requirements]\n",
      "For \u001b[34msimulate(::MCTS.AbstractMCTSPlanner, ::Any, ::Int64)\u001b[39m (in action(::MCTS.AbstractMCTSPlanner, ::Any)):\n",
      "\u001b[32m  [✔] discount(::ChainMDP)\u001b[39m\n",
      "\u001b[32m  [✔] isterminal(::ChainMDP, ::Int64)\u001b[39m\n",
      "\u001b[32m  [✔] generate_sr(::ChainMDP, ::Int64, ::Symbol, ::MersenneTwister)\u001b[39m\n",
      "\u001b[32m  [✔] isequal(::Int64, ::Int64)\u001b[39m\n",
      "\u001b[32m  [✔] hash(::Int64)\u001b[39m\n",
      "For \u001b[34minsert_node!(::MCTS.AbstractMCTSPlanner, ::Any)\u001b[39m (in simulate(::MCTS.AbstractMCTSPlanner, ::Any, ::Int64)):\n",
      "\u001b[32m  [✔] actions(::ChainMDP, ::Int64)\u001b[39m\n",
      "\u001b[32m  [✔] iterator(::Array)\u001b[39m\n",
      "For \u001b[34mestimate_value(::MCTS.SolvedRolloutEstimator, ::POMDPs.MDP, ::Any, ::Int64)\u001b[39m (in simulate(::MCTS.AbstractMCTSPlanner, ::Any, ::Int64)):\n",
      "  [No additional requirements]\n",
      "For \u001b[34mrollout(::MCTS.SolvedRolloutEstimator, ::POMDPs.MDP, ::Any, ::Int64)\u001b[39m (in estimate_value(::MCTS.SolvedRolloutEstimator, ::POMDPs.MDP, ::Any, ::Int64)):\n",
      "  [No additional requirements]\n",
      "For \u001b[34msimulate(::POMDPToolbox.RolloutSimulator, ::POMDPs.MDP, ::Policy, ::Any)\u001b[39m (in rollout(::MCTS.SolvedRolloutEstimator, ::POMDPs.MDP, ::Any, ::Int64)):\n",
      "\u001b[32m  [✔] action(::RandomPolicy, ::Int64)\u001b[39m\n",
      "\n"
     ]
    },
    {
     "data": {
      "text/plain": [
       "true"
      ]
     },
     "execution_count": 27,
     "metadata": {},
     "output_type": "execute_result"
    }
   ],
   "source": [
    "@requirements_info solver mdp"
   ]
  },
  {
   "cell_type": "code",
   "execution_count": 28,
   "metadata": {
    "collapsed": false
   },
   "outputs": [],
   "source": [
    "solver = MCTSSolver(enable_tree_vis=true)\n",
    "planner = solve(solver, mdp);"
   ]
  },
  {
   "cell_type": "code",
   "execution_count": 29,
   "metadata": {
    "collapsed": false
   },
   "outputs": [
    {
     "data": {
      "text/plain": [
       "POMDPToolbox.MDPHistory{Int64,Symbol}([1, 2, 3, 4, 3, 4, 4, 4, 4, 3, 2], Symbol[:right, :right, :right, :right, :right, :right, :right, :right, :right, :right], [0.0, 0.0, 0.0, 1.0, 0.0, 1.0, 1.0, 1.0, 1.0, 0.0], 0.95, Nullable{Exception}(), Nullable{Any}())"
      ]
     },
     "execution_count": 29,
     "metadata": {},
     "output_type": "execute_result"
    }
   ],
   "source": [
    "simulate(simulator, mdp, planner, 1)"
   ]
  },
  {
   "cell_type": "code",
   "execution_count": 30,
   "metadata": {
    "collapsed": false
   },
   "outputs": [
    {
     "data": {
      "text/html": [
       "    <!DOCTYPE html>\n",
       "    <html>\n",
       "    <head>\n",
       "        <meta charset=\"UTF-8\">\n",
       "        <title>MCTS tree</title>\n",
       "    </head>\n",
       "    <body>\n",
       "    <div id=\"treevisuhfuQIPJ\">\n",
       "    <style>\n",
       "        \n",
       ".node {\n",
       "    cursor: pointer;\n",
       "}\n",
       "\n",
       ".node circle {\n",
       "\t  fill: #fff;\n",
       "\t  stroke: steelblue;\n",
       "\t  stroke-width: 3px;\n",
       "      r: 10;\n",
       "}\n",
       "\n",
       ".node rect {\n",
       "\t  fill: #fff;\n",
       "\t  stroke: steelblue;\n",
       "\t  stroke-width: 3px;\n",
       "      x: -10;\n",
       "      y: -10;\n",
       "      width: 20;\n",
       "      height: 20;\n",
       "}\n",
       "\n",
       ".node path {\n",
       "    fill: #ffffff;\n",
       "    /* stroke: steelblue; */\n",
       "    stroke-width: 2px;\n",
       "}\n",
       ".node text {\n",
       "    font-family: Arial, Helvetica, sans-serif;\n",
       "    font-style: normal;\n",
       "    font-size: 12px;\n",
       "}\n",
       ".link /* path */ {\n",
       "    fill: none;\n",
       "    stroke: #cccccc;\n",
       "    stroke-width: 2px;\n",
       "}\n",
       ".link text {\n",
       "    font-family: Arial, Helvetica, sans-serif;\n",
       "    font-style: normal;\n",
       "    font-size: 12px;\n",
       "}\n",
       ".hover text{\n",
       "    font-family: Arial, Helvetica, sans-serif;\n",
       "    font-style: normal;\n",
       "    font-size: 12px;\n",
       "}\n",
       "\n",
       "/*\n",
       ".svg-container {\n",
       "    display: inline-block;\n",
       "    position: relative;\n",
       "    width: 100%;\n",
       "    padding-bottom: 100%;\n",
       "    vertical-align: top;\n",
       "    overflow: hidden;\n",
       "}\n",
       ".svg-content-responsive {\n",
       "    display: inline-block;\n",
       "    position: absolute;\n",
       "    top: 10px;\n",
       "    left: 0;\n",
       "}\n",
       "*/\n",
       "\n",
       "    </style>\n",
       "    <script>\n",
       "       (function(){\n",
       "        var treeData = {\"children\":[[11,12],[3,4],[2,8],[2,8],[6,7],[8,1],[8,1],[9,10],[2,5],[2,5],[5,1],[5,1]],\"text\":[\"                        1\\nN:    303\\n\",\"                        4\\nN:   6932\\n\",\"                     left\\nQ:   2.00\\nN:      6\\n\",\"                    right\\nQ:   3.78\\nN:   6926\\n\",\"                        2\\nN:    697\\n\",\"                     left\\nQ:   0.83\\nN:     30\\n\",\"                    right\\nQ:   2.31\\nN:    667\\n\",\"                        3\\nN:   2040\\n\",\"                     left\\nQ:   0.45\\nN:      6\\n\",\"                    right\\nQ:   2.89\\nN:   2034\\n\",\"                     left\\nQ:   0.47\\nN:     12\\n\",\"                    right\\nQ:   1.98\\nN:    291\\n\"],\"tooltip\":[\"1\\nN: 303\\n\",\"4\\nN: 6932\\n\",\"left\\nQ: 1.996437138020833\\nN: 6\\n\",\"right\\nQ: 3.7810024963727775\\nN: 6926\\n\",\"2\\nN: 697\\n\",\"left\\nQ: 0.8317616471653645\\nN: 30\\n\",\"right\\nQ: 2.310473583689922\\nN: 667\\n\",\"3\\nN: 2040\\n\",\"left\\nQ: 0.4516458333333333\\nN: 6\\n\",\"right\\nQ: 2.894764377762167\\nN: 2034\\n\",\"left\\nQ: 0.4664774652700194\\nN: 12\\n\",\"right\\nQ: 1.9757461916759769\\nN: 291\\n\"],\"style\":[\"\",\"\",\"stroke:#784400\",\"stroke:#008000\",\"\",\"stroke:#C71C00\",\"stroke:#634E00\",\"\",\"stroke:#E10F00\",\"stroke:#3C6200\",\"stroke:#E01000\",\"stroke:#7A4300\"],\"link_style\":[\"\",\"\",\"stroke-width:0.588659798246013px\",\"stroke-width:20.0px\",\"\",\"stroke-width:4.241580424529414px\",\"stroke-width:20.0px\",\"\",\"stroke-width:1.0862508931871369px\",\"stroke-width:20.0px\",\"stroke-width:4.061384660534476px\",\"stroke-width:20.0px\"],\"title\":\"MCTS tree\"};\n",
       "        var rootID = 1-1;\n",
       "        var div = \"treevisuhfuQIPJ\";\n",
       "        if (typeof $ === 'undefined') {\n",
       "    loadScript(\"https://code.jquery.com/jquery-3.1.1.min.js\", run)\n",
       "} else {\n",
       "    run()\n",
       "}\n",
       "\n",
       "function run() {\n",
       "    if (typeof d3 === 'undefined') {\n",
       "        loadScript(\"https://d3js.org/d3.v3.js\", showTree)\n",
       "    } else {\n",
       "        showTree()\n",
       "    }\n",
       "}\n",
       "\n",
       "function loadScript(url, callback)\n",
       "{\n",
       "    console.log(\"starting script load...\")\n",
       "    // Adding the script tag to the head as suggested before\n",
       "    var head = document.getElementsByTagName('head')[0];\n",
       "    var script = document.createElement('script');\n",
       "    script.type = 'text/javascript';\n",
       "    script.src = url;\n",
       "\n",
       "    // Then bind the event to the callback function.\n",
       "    // There are several events for cross browser compatibility.\n",
       "    script.onreadystatechange = callback;\n",
       "    script.onload = callback;\n",
       "\n",
       "    // Fire the loading\n",
       "    head.appendChild(script);\n",
       "}\n",
       "\n",
       "function showTree() {\n",
       "        \n",
       "    // var margin = {top: 20, right: 120, bottom: 20, left: 120},\n",
       "    var margin = {top: 20, right: 120, bottom: 80, left: 120},\n",
       "        width = $(\"#\"+div).width() - margin.right - margin.left,\n",
       "        height = 600 - margin.top - margin.bottom;\n",
       "        // TODO make height a parameter of TreeVisualizer\n",
       "\n",
       "    var i = 0,\n",
       "        duration = 750,\n",
       "        root;\n",
       "\n",
       "    var tree = d3.layout.tree()\n",
       "        .size([width, height]);\n",
       "\n",
       "    var diagonal = d3.svg.diagonal();\n",
       "        //.projection(function(d) { return [d.y, d.x]; });\n",
       "        // uncomment above to make the tree go horizontally\n",
       "\n",
       "    // see http://stackoverflow.com/questions/16265123/resize-svg-when-window-is-resized-in-d3-js\n",
       "    if (d3.select(\"#\"+div+\"_svg\").empty()) {\n",
       "        d3.select(\"#\"+div).append(\"svg\")\n",
       "            .attr(\"id\", div+\"_svg\")\n",
       "            .attr(\"width\", width + margin.right + margin.left)\n",
       "            .attr(\"height\", height + margin.top + margin.bottom);\n",
       "    }\n",
       "\n",
       "    d3.select(\"#\"+div+\"_svg\").selectAll(\"*\").remove();\n",
       "\n",
       "    var svg = d3.select(\"#\"+div+\"_svg\")\n",
       "        .append(\"g\")\n",
       "            .attr(\"transform\", \"translate(\" + margin.left + \",\" + margin.top + \")\");\n",
       "\n",
       "    // console.log(\"tree data:\");\n",
       "    // console.log(treeData[rootID]);\n",
       "    root = createDisplayNode(rootID);\n",
       "    root.x0 = width / 2;\n",
       "    root.y0 = 0;\n",
       "\n",
       "    update(root);\n",
       "    console.log(\"tree should appear\");\n",
       "\n",
       "    function createDisplayNode(id) {\n",
       "      var dnode = {\"dataID\":id,\n",
       "                   \"children\":null,\n",
       "                   \"_children\":null};\n",
       "      return dnode;\n",
       "    }\n",
       "\n",
       "    function initializeChildren(d) {\n",
       "      // create children\n",
       "      var children = treeData.children[d.dataID];\n",
       "      d.children = [];\n",
       "      if (children) {\n",
       "        for (var i = 0; i < children.length; i++) {\n",
       "          var cid = children[i]-1;\n",
       "          d.children.push(createDisplayNode(cid));\n",
       "        }\n",
       "      }\n",
       "    }\n",
       "\n",
       "    /**\n",
       "     * Recursively called to update each node in the tree.\n",
       "     * \n",
       "     * source is a d3 node that has position, etc.\n",
       "    */\n",
       "    function update(source) {\n",
       "\n",
       "      width = $(\"#\"+div).width() - margin.right - margin.left,\n",
       "      height = $(\"#\"+div).height() - margin.top - margin.bottom;\n",
       "\n",
       "      tree.size([width,height]);\n",
       "      d3.select(\"#\"+div).attr(\"width\", width + margin.right + margin.left)\n",
       "            .attr(\"height\", height + margin.top + margin.bottom);\n",
       "      d3.select(\"#\"+div+\"_svg\").attr(\"width\", width + margin.right + margin.left)\n",
       "             .attr(\"height\", height + margin.top + margin.bottom);\n",
       "\n",
       "\n",
       "      // Compute the new tree layout.\n",
       "      var nodes = tree.nodes(root).reverse(),\n",
       "          links = tree.links(nodes);\n",
       "\n",
       "\n",
       "      // Update the nodes…\n",
       "      var node = svg.selectAll(\"g.node\")\n",
       "          .data(nodes, function(d) { return d.id || (d.id = ++i); });\n",
       "\n",
       "      // Enter any new nodes at the parent's previous position.\n",
       "      var nodeEnter = node.enter().append(\"g\")\n",
       "          .attr(\"class\", \"node\")\n",
       "          .attr(\"transform\", function(d) { return \"translate(\" + source.x0 + \",\" + source.y0 + \")\"; })\n",
       "          .on(\"click\", click)\n",
       "\n",
       "      nodeEnter.append(\"circle\")\n",
       "          .attr(\"r\", \"10px\")\n",
       "          .attr(\"style\", function(d) { return treeData.style[d.dataID]; } )\n",
       "\n",
       "      var tbox = nodeEnter.append(\"text\")\n",
       "          .attr(\"y\", 25)\n",
       "          .attr(\"text-anchor\", \"middle\")\n",
       "          //.text( function(d) { return treeData.text[d.dataID]; } )\n",
       "          .style(\"fill-opacity\", 1e-6);\n",
       "\n",
       "      tbox.each( function(d) {\n",
       "          var el = d3.select(this)\n",
       "          var text = treeData.text[d.dataID];\n",
       "          var lines = text.split('\\n');\n",
       "          for (var i = 0; i < lines.length; i++) {\n",
       "              var tspan = el.append(\"tspan\").text(lines[i]);\n",
       "              if (i > 0) {\n",
       "                  tspan.attr(\"x\", 0).attr(\"dy\", \"1.2em\");\n",
       "              }\n",
       "          }\n",
       "      });\n",
       "\n",
       "      //tooltip\n",
       "      nodeEnter.append(\"title\").text( function(d) { return treeData.tooltip[d.dataID];} );\n",
       "\n",
       "      // Transition nodes to their new position.\n",
       "      var nodeUpdate = node.transition()\n",
       "          .duration(duration)\n",
       "          .attr(\"transform\", function(d) { return \"translate(\" + d.x + \",\" + d.y + \")\"; });\n",
       "\n",
       "      nodeUpdate.select(\"text\")\n",
       "          .style(\"fill-opacity\", 1);\n",
       "\n",
       "      // Transition exiting nodes to the parent's new position.\n",
       "      var nodeExit = node.exit().transition()\n",
       "          .duration(duration)\n",
       "          .attr(\"transform\", function(d) { return \"translate(\" + source.x + \",\" + source.y + \")\"; })\n",
       "          .remove();\n",
       "\n",
       "      nodeExit.select(\"text\")\n",
       "          .style(\"fill-opacity\", 1e-6);\n",
       "\n",
       "      // Update the links…\n",
       "      var link = svg.selectAll(\"path.link\")\n",
       "          .data(links, function(d) { return d.target.id; });\n",
       "\n",
       "      // Enter any new links at the parent's previous position.\n",
       "      // XXX link width should be based on transition data, not node data\n",
       "      link.enter().insert(\"path\", \"g\")\n",
       "          .attr(\"class\", \"link\")\n",
       "          .attr(\"style\", function(d) {\n",
       "              var ls = treeData.link_style[d.target.dataID];\n",
       "              return ls;\n",
       "          } )\n",
       "          .attr(\"d\", function(d) {\n",
       "            var o = {x: source.x0, y: source.y0};\n",
       "            return diagonal({source: o, target: o});\n",
       "          });\n",
       "\n",
       "      // Transition links to their new position.\n",
       "      link.transition()\n",
       "          .duration(duration)\n",
       "          .attr(\"d\", diagonal);\n",
       "\n",
       "      // Transition exiting nodes to the parent's new position.\n",
       "      link.exit().transition()\n",
       "          .duration(duration)\n",
       "          .attr(\"d\", function(d) {\n",
       "            var o = {x: source.x, y: source.y};\n",
       "            return diagonal({source: o, target: o});\n",
       "          })\n",
       "          .remove();\n",
       "\n",
       "      // Stash the old positions for transition.\n",
       "      nodes.forEach(function(d) {\n",
       "        d.x0 = d.x;\n",
       "        d.y0 = d.y;\n",
       "      });\n",
       "    }\n",
       "\n",
       "    // Toggle children on click.\n",
       "    function click(d) {\n",
       "      if (d.children) {\n",
       "        d._children = d.children;\n",
       "        d.children = null;\n",
       "      } else if (d._children) {\n",
       "        d.children = d._children;\n",
       "        d._children = null;\n",
       "      } else {\n",
       "        initializeChildren(d);\n",
       "      }\n",
       "      update(d);\n",
       "    }\n",
       "\n",
       "}\n",
       "\n",
       "        })();\n",
       "    </script>\n",
       "    </div>\n",
       "    </body>\n",
       "    </html>\n",
       "\n"
      ],
      "text/plain": [
       "                        1\n",
       "N:    303\n",
       "\n",
       "├──                     left\n",
       "│  Q:   0.47\n",
       "│  N:     12\n",
       "\n",
       "│  ├──                        2\n",
       "│  │  N:    697\n",
       "\n",
       "│  │  ├──                     left\n",
       "│  │  │  Q:   0.83\n",
       "│  │  │  N:     30\n",
       " (2 children)\n",
       "│  │  └──                    right\n",
       "│  │     Q:   2.31\n",
       "│  │     N:    667\n",
       " (2 children)\n",
       "│  └──                        1\n",
       "│     N:    303\n",
       "\n",
       "│     ├──                     left\n",
       "│     │  Q:   0.47\n",
       "│     │  N:     12\n",
       " (2 children)\n",
       "│     └──                    right\n",
       "│        Q:   1.98\n",
       "│        N:    291\n",
       " (2 children)\n",
       "└──                    right\n",
       "   Q:   1.98\n",
       "   N:    291\n",
       "\n",
       "   ├──                        2\n",
       "   │  N:    697\n",
       "\n",
       "   │  ├──                     left\n",
       "   │  │  Q:   0.83\n",
       "   │  │  N:     30\n",
       " (2 children)\n",
       "   │  └──                    right\n",
       "   │     Q:   2.31\n",
       "   │     N:    667\n",
       " (2 children)\n",
       "   └──                        1\n",
       "      N:    303\n",
       "\n",
       "      ├──                     left\n",
       "      │  Q:   0.47\n",
       "      │  N:     12\n",
       " (2 children)\n",
       "      └──                    right\n",
       "         Q:   1.98\n",
       "         N:    291\n",
       " (2 children)\n"
      ]
     },
     "execution_count": 30,
     "metadata": {},
     "output_type": "execute_result"
    }
   ],
   "source": [
    "using D3Trees\n",
    "D3Tree(planner, 1)"
   ]
  },
  {
   "cell_type": "markdown",
   "metadata": {},
   "source": [
    "# Solving with value iteration\n",
    "\n",
    "We can also try value iteration from the DiscreteValueIteration package"
   ]
  },
  {
   "cell_type": "code",
   "execution_count": 31,
   "metadata": {
    "collapsed": false
   },
   "outputs": [
    {
     "name": "stdout",
     "output_type": "stream",
     "text": [
      "Package already installed\n"
     ]
    },
    {
     "name": "stderr",
     "output_type": "stream",
     "text": [
      "\u001b[1m\u001b[36mINFO: \u001b[39m\u001b[22m\u001b[36mCloning DiscreteValueIteration from https://github.com/JuliaPOMDP/DiscreteValueIteration.jl\n",
      "\u001b[39m"
     ]
    }
   ],
   "source": [
    "POMDPs.add(\"DiscreteValueIteration\")"
   ]
  },
  {
   "cell_type": "code",
   "execution_count": 32,
   "metadata": {
    "collapsed": false
   },
   "outputs": [
    {
     "name": "stdout",
     "output_type": "stream",
     "text": [
      "\n",
      "INFO: POMDPs.jl requirements for \u001b[34msolve(::ValueIterationSolver, ::Union{POMDPs.MDP,POMDPs.POMDP})\u001b[39m and dependencies. ([✔] = implemented correctly; [X] = missing)\n",
      "\n",
      "For \u001b[34msolve(::ValueIterationSolver, ::Union{POMDPs.MDP,POMDPs.POMDP})\u001b[39m:\n",
      "\u001b[32m  [✔] discount(::ChainMDP)\u001b[39m\n",
      "\u001b[31m  [X] n_states(::ChainMDP)\u001b[39m\n",
      "\u001b[31m  [X] n_actions(::ChainMDP)\u001b[39m\n",
      "\u001b[32m  [✔] transition(::ChainMDP, ::Int64, ::Symbol)\u001b[39m\n",
      "\u001b[32m  [✔] reward(::ChainMDP, ::Int64, ::Symbol, ::Int64)\u001b[39m\n",
      "\u001b[32m  [✔] state_index(::ChainMDP, ::Int64)\u001b[39m\n",
      "\u001b[31m  [X] action_index(::ChainMDP, ::Symbol)\u001b[39m\n",
      "\u001b[32m  [✔] actions(::ChainMDP, ::Int64)\u001b[39m\n",
      "\u001b[31m  WARNING: Some requirements may not be shown because a MethodError was thrown.\u001b[39m\n",
      "For \u001b[34mordered_states(::Union{POMDPs.MDP,POMDPs.POMDP})\u001b[39m (in solve(::ValueIterationSolver, ::Union{POMDPs.MDP,POMDPs.POMDP})):\n",
      "\u001b[31m  [X] states(::ChainMDP)\u001b[39m\n",
      "\u001b[31m  WARNING: Some requirements may not be shown because a MethodError was thrown.\u001b[39m\n",
      "For \u001b[34mordered_actions(::Union{POMDPs.MDP,POMDPs.POMDP})\u001b[39m (in solve(::ValueIterationSolver, ::Union{POMDPs.MDP,POMDPs.POMDP})):\n",
      "\u001b[32m  [✔] actions(::ChainMDP)\u001b[39m\n",
      "\u001b[32m  [✔] iterator(::Array)\u001b[39m\n",
      "\n",
      "Note: Missing methods are often due to incorrect importing. Consider using `importall POMDPs`.\n",
      "\n",
      "Throwing the first exception (from processing \u001b[34msolve(::ValueIterationSolver, ::Union{POMDPs.MDP,POMDPs.POMDP})\u001b[39m requirements):\n",
      "\n"
     ]
    },
    {
     "ename": "LoadError",
     "evalue": "\u001b[91mMethodError: no method matching states(::ChainMDP)\u001b[0m\nClosest candidates are:\n  states(::Union{POMDPs.MDP, POMDPs.POMDP}, \u001b[91m::Any\u001b[39m) at /home/zach/.julia/v0.6/POMDPs/src/space.jl:26\n  states(\u001b[91m::POMDPs.MDP{Bool,A} where A\u001b[39m) at /home/zach/.julia/v0.6/POMDPToolbox/src/convenience/implementations.jl:21\n  states(\u001b[91m::POMDPs.POMDP{Bool,A,O} where O where A\u001b[39m) at /home/zach/.julia/v0.6/POMDPToolbox/src/convenience/implementations.jl:22\u001b[39m",
     "output_type": "error",
     "traceback": [
      "\u001b[91mMethodError: no method matching states(::ChainMDP)\u001b[0m\nClosest candidates are:\n  states(::Union{POMDPs.MDP, POMDPs.POMDP}, \u001b[91m::Any\u001b[39m) at /home/zach/.julia/v0.6/POMDPs/src/space.jl:26\n  states(\u001b[91m::POMDPs.MDP{Bool,A} where A\u001b[39m) at /home/zach/.julia/v0.6/POMDPToolbox/src/convenience/implementations.jl:21\n  states(\u001b[91m::POMDPs.POMDP{Bool,A,O} where O where A\u001b[39m) at /home/zach/.julia/v0.6/POMDPToolbox/src/convenience/implementations.jl:22\u001b[39m",
      ""
     ]
    }
   ],
   "source": [
    "using DiscreteValueIteration\n",
    "solver = ValueIterationSolver()\n",
    "@requirements_info solver mdp"
   ]
  },
  {
   "cell_type": "code",
   "execution_count": 33,
   "metadata": {
    "collapsed": false
   },
   "outputs": [
    {
     "data": {
      "text/plain": [
       "action_index (generic function with 3 methods)"
      ]
     },
     "execution_count": 33,
     "metadata": {},
     "output_type": "execute_result"
    }
   ],
   "source": [
    "n_states(mdp::ChainMDP) = mdp.len\n",
    "states(mdp::ChainMDP) = 1:mdp.len\n",
    "n_actions(::ChainMDP) = 2\n",
    "action_index(::ChainMDP, a::Symbol) = a == :left ? 1 : 2"
   ]
  },
  {
   "cell_type": "code",
   "execution_count": 34,
   "metadata": {
    "collapsed": false
   },
   "outputs": [
    {
     "name": "stdout",
     "output_type": "stream",
     "text": [
      "\n",
      "INFO: POMDPs.jl requirements for \u001b[34msolve(::ValueIterationSolver, ::Union{POMDPs.MDP,POMDPs.POMDP})\u001b[39m and dependencies. ([✔] = implemented correctly; [X] = missing)\n",
      "\n",
      "For \u001b[34msolve(::ValueIterationSolver, ::Union{POMDPs.MDP,POMDPs.POMDP})\u001b[39m:\n",
      "\u001b[32m  [✔] discount(::ChainMDP)\u001b[39m\n",
      "\u001b[32m  [✔] n_states(::ChainMDP)\u001b[39m\n",
      "\u001b[32m  [✔] n_actions(::ChainMDP)\u001b[39m\n",
      "\u001b[32m  [✔] transition(::ChainMDP, ::Int64, ::Symbol)\u001b[39m\n",
      "\u001b[32m  [✔] reward(::ChainMDP, ::Int64, ::Symbol, ::Int64)\u001b[39m\n",
      "\u001b[32m  [✔] state_index(::ChainMDP, ::Int64)\u001b[39m\n",
      "\u001b[32m  [✔] action_index(::ChainMDP, ::Symbol)\u001b[39m\n",
      "\u001b[32m  [✔] actions(::ChainMDP, ::Int64)\u001b[39m\n",
      "\u001b[32m  [✔] iterator(::Array)\u001b[39m\n",
      "\u001b[32m  [✔] iterator(::UnitRange)\u001b[39m\n",
      "\u001b[32m  [✔] iterator(::SparseCat)\u001b[39m\n",
      "\u001b[32m  [✔] pdf(::SparseCat, ::Int64)\u001b[39m\n",
      "For \u001b[34mordered_states(::Union{POMDPs.MDP,POMDPs.POMDP})\u001b[39m (in solve(::ValueIterationSolver, ::Union{POMDPs.MDP,POMDPs.POMDP})):\n",
      "\u001b[32m  [✔] states(::ChainMDP)\u001b[39m\n",
      "For \u001b[34mordered_actions(::Union{POMDPs.MDP,POMDPs.POMDP})\u001b[39m (in solve(::ValueIterationSolver, ::Union{POMDPs.MDP,POMDPs.POMDP})):\n",
      "\u001b[32m  [✔] actions(::ChainMDP)\u001b[39m\n",
      "\n"
     ]
    },
    {
     "data": {
      "text/plain": [
       "true"
      ]
     },
     "execution_count": 34,
     "metadata": {},
     "output_type": "execute_result"
    }
   ],
   "source": [
    "@requirements_info solver mdp"
   ]
  },
  {
   "cell_type": "code",
   "execution_count": 35,
   "metadata": {
    "collapsed": false
   },
   "outputs": [
    {
     "name": "stdout",
     "output_type": "stream",
     "text": [
      "[Iteration 1   ] residual:          1 | iteration runtime:      0.050 ms, (  4.99E-05 s total)\n",
      "[Iteration 2   ] residual:      0.904 | iteration runtime:      0.014 ms, (  6.39E-05 s total)\n",
      "[Iteration 3   ] residual:      0.839 | iteration runtime:      0.004 ms, (  6.82E-05 s total)\n",
      "[Iteration 4   ] residual:      0.783 | iteration runtime:      0.004 ms, (  7.21E-05 s total)\n",
      "[Iteration 5   ] residual:      0.734 | iteration runtime:      0.003 ms, (  7.55E-05 s total)\n",
      "[Iteration 6   ] residual:      0.688 | iteration runtime:      0.003 ms, (  7.86E-05 s total)\n",
      "[Iteration 7   ] residual:      0.646 | iteration runtime:      0.003 ms, (  8.19E-05 s total)\n",
      "[Iteration 8   ] residual:      0.609 | iteration runtime:      0.003 ms, (  8.5E-05 s total)\n",
      "[Iteration 9   ] residual:      0.576 | iteration runtime:      0.003 ms, (  8.83E-05 s total)\n",
      "[Iteration 10  ] residual:      0.543 | iteration runtime:      0.003 ms, (  9.14E-05 s total)\n",
      "[Iteration 11  ] residual:       0.51 | iteration runtime:      0.011 ms, (  0.000103 s total)\n",
      "[Iteration 12  ] residual:      0.479 | iteration runtime:      0.004 ms, (  0.000106 s total)\n",
      "[Iteration 13  ] residual:      0.449 | iteration runtime:      0.003 ms, (   0.00011 s total)\n",
      "[Iteration 14  ] residual:      0.422 | iteration runtime:      0.003 ms, (  0.000113 s total)\n",
      "[Iteration 15  ] residual:      0.396 | iteration runtime:      0.003 ms, (  0.000117 s total)\n",
      "[Iteration 16  ] residual:      0.371 | iteration runtime:      0.003 ms, (   0.00012 s total)\n",
      "[Iteration 17  ] residual:      0.349 | iteration runtime:      0.003 ms, (  0.000123 s total)\n",
      "[Iteration 18  ] residual:      0.327 | iteration runtime:      0.003 ms, (  0.000126 s total)\n",
      "[Iteration 19  ] residual:      0.307 | iteration runtime:      0.004 ms, (   0.00013 s total)\n",
      "[Iteration 20  ] residual:      0.288 | iteration runtime:      0.003 ms, (  0.000133 s total)\n",
      "[Iteration 21  ] residual:       0.27 | iteration runtime:      0.003 ms, (  0.000136 s total)\n",
      "[Iteration 22  ] residual:      0.254 | iteration runtime:      0.003 ms, (  0.000139 s total)\n",
      "[Iteration 23  ] residual:      0.238 | iteration runtime:      0.003 ms, (  0.000143 s total)\n",
      "[Iteration 24  ] residual:      0.223 | iteration runtime:      0.003 ms, (  0.000146 s total)\n",
      "[Iteration 25  ] residual:       0.21 | iteration runtime:      0.003 ms, (  0.000149 s total)\n",
      "[Iteration 26  ] residual:      0.197 | iteration runtime:      0.003 ms, (  0.000152 s total)\n",
      "[Iteration 27  ] residual:      0.185 | iteration runtime:      0.003 ms, (  0.000155 s total)\n",
      "[Iteration 28  ] residual:      0.173 | iteration runtime:      0.003 ms, (  0.000158 s total)\n",
      "[Iteration 29  ] residual:      0.163 | iteration runtime:      0.003 ms, (  0.000161 s total)\n",
      "[Iteration 30  ] residual:      0.153 | iteration runtime:      0.004 ms, (  0.000165 s total)\n",
      "[Iteration 31  ] residual:      0.143 | iteration runtime:      0.003 ms, (  0.000168 s total)\n",
      "[Iteration 32  ] residual:      0.134 | iteration runtime:      0.003 ms, (  0.000172 s total)\n",
      "[Iteration 33  ] residual:      0.126 | iteration runtime:      0.003 ms, (  0.000175 s total)\n",
      "[Iteration 34  ] residual:      0.118 | iteration runtime:      0.003 ms, (  0.000178 s total)\n",
      "[Iteration 35  ] residual:      0.111 | iteration runtime:      0.004 ms, (  0.000181 s total)\n",
      "[Iteration 36  ] residual:      0.104 | iteration runtime:      0.003 ms, (  0.000185 s total)\n",
      "[Iteration 37  ] residual:     0.0978 | iteration runtime:      0.003 ms, (  0.000188 s total)\n",
      "[Iteration 38  ] residual:     0.0917 | iteration runtime:      0.003 ms, (   0.00019 s total)\n",
      "[Iteration 39  ] residual:     0.0861 | iteration runtime:      0.003 ms, (  0.000193 s total)\n",
      "[Iteration 40  ] residual:     0.0808 | iteration runtime:      0.003 ms, (  0.000196 s total)\n",
      "[Iteration 41  ] residual:     0.0758 | iteration runtime:      0.003 ms, (  0.000199 s total)\n",
      "[Iteration 42  ] residual:     0.0711 | iteration runtime:      0.003 ms, (  0.000203 s total)\n",
      "[Iteration 43  ] residual:     0.0668 | iteration runtime:      0.003 ms, (  0.000206 s total)\n",
      "[Iteration 44  ] residual:     0.0627 | iteration runtime:      0.003 ms, (  0.000209 s total)\n",
      "[Iteration 45  ] residual:     0.0588 | iteration runtime:      0.003 ms, (  0.000212 s total)\n",
      "[Iteration 46  ] residual:     0.0552 | iteration runtime:      0.003 ms, (  0.000216 s total)\n",
      "[Iteration 47  ] residual:     0.0518 | iteration runtime:      0.003 ms, (  0.000219 s total)\n",
      "[Iteration 48  ] residual:     0.0486 | iteration runtime:      0.003 ms, (  0.000222 s total)\n",
      "[Iteration 49  ] residual:     0.0456 | iteration runtime:      0.003 ms, (  0.000225 s total)\n",
      "[Iteration 50  ] residual:     0.0428 | iteration runtime:      0.003 ms, (  0.000229 s total)\n",
      "[Iteration 51  ] residual:     0.0402 | iteration runtime:      0.004 ms, (  0.000232 s total)\n",
      "[Iteration 52  ] residual:     0.0377 | iteration runtime:      0.003 ms, (  0.000236 s total)\n",
      "[Iteration 53  ] residual:     0.0354 | iteration runtime:      0.003 ms, (  0.000239 s total)\n",
      "[Iteration 54  ] residual:     0.0332 | iteration runtime:      0.003 ms, (  0.000242 s total)\n",
      "[Iteration 55  ] residual:     0.0311 | iteration runtime:      0.003 ms, (  0.000245 s total)\n",
      "[Iteration 56  ] residual:     0.0292 | iteration runtime:      0.003 ms, (  0.000248 s total)\n",
      "[Iteration 57  ] residual:     0.0274 | iteration runtime:      0.003 ms, (  0.000251 s total)\n",
      "[Iteration 58  ] residual:     0.0257 | iteration runtime:      0.003 ms, (  0.000254 s total)\n",
      "[Iteration 59  ] residual:     0.0241 | iteration runtime:      0.003 ms, (  0.000257 s total)\n",
      "[Iteration 60  ] residual:     0.0227 | iteration runtime:      0.003 ms, (  0.000261 s total)\n",
      "[Iteration 61  ] residual:     0.0213 | iteration runtime:      0.003 ms, (  0.000264 s total)\n",
      "[Iteration 62  ] residual:       0.02 | iteration runtime:      0.003 ms, (  0.000267 s total)\n",
      "[Iteration 63  ] residual:     0.0187 | iteration runtime:      0.003 ms, (   0.00027 s total)\n",
      "[Iteration 64  ] residual:     0.0176 | iteration runtime:      0.003 ms, (  0.000273 s total)\n",
      "[Iteration 65  ] residual:     0.0165 | iteration runtime:      0.003 ms, (  0.000277 s total)\n",
      "[Iteration 66  ] residual:     0.0155 | iteration runtime:      0.003 ms, (   0.00028 s total)\n",
      "[Iteration 67  ] residual:     0.0145 | iteration runtime:      0.004 ms, (  0.000283 s total)\n",
      "[Iteration 68  ] residual:     0.0136 | iteration runtime:      0.003 ms, (  0.000286 s total)\n",
      "[Iteration 69  ] residual:     0.0128 | iteration runtime:      0.006 ms, (  0.000292 s total)\n",
      "[Iteration 70  ] residual:      0.012 | iteration runtime:      0.004 ms, (  0.000296 s total)\n",
      "[Iteration 71  ] residual:     0.0113 | iteration runtime:      0.004 ms, (    0.0003 s total)\n",
      "[Iteration 72  ] residual:     0.0106 | iteration runtime:      0.003 ms, (  0.000303 s total)\n",
      "[Iteration 73  ] residual:    0.00992 | iteration runtime:      0.003 ms, (  0.000306 s total)\n",
      "[Iteration 74  ] residual:    0.00931 | iteration runtime:      0.003 ms, (  0.000309 s total)\n",
      "[Iteration 75  ] residual:    0.00873 | iteration runtime:      0.003 ms, (  0.000312 s total)\n",
      "[Iteration 76  ] residual:     0.0082 | iteration runtime:      0.003 ms, (  0.000315 s total)\n",
      "[Iteration 77  ] residual:    0.00769 | iteration runtime:      0.003 ms, (  0.000318 s total)\n",
      "[Iteration 78  ] residual:    0.00722 | iteration runtime:      0.003 ms, (  0.000321 s total)\n",
      "[Iteration 79  ] residual:    0.00677 | iteration runtime:      0.004 ms, (  0.000324 s total)\n",
      "[Iteration 80  ] residual:    0.00636 | iteration runtime:      0.003 ms, (  0.000327 s total)\n",
      "[Iteration 81  ] residual:    0.00596 | iteration runtime:      0.003 ms, (   0.00033 s total)\n",
      "[Iteration 82  ] residual:     0.0056 | iteration runtime:      0.003 ms, (  0.000333 s total)\n",
      "[Iteration 83  ] residual:    0.00525 | iteration runtime:      0.003 ms, (  0.000336 s total)\n",
      "[Iteration 84  ] residual:    0.00493 | iteration runtime:      0.003 ms, (  0.000339 s total)\n",
      "[Iteration 85  ] residual:    0.00463 | iteration runtime:      0.003 ms, (  0.000342 s total)\n",
      "[Iteration 86  ] residual:    0.00434 | iteration runtime:      0.003 ms, (  0.000345 s total)\n",
      "[Iteration 87  ] residual:    0.00407 | iteration runtime:      0.003 ms, (  0.000348 s total)\n",
      "[Iteration 88  ] residual:    0.00382 | iteration runtime:      0.003 ms, (  0.000351 s total)\n",
      "[Iteration 89  ] residual:    0.00359 | iteration runtime:      0.003 ms, (  0.000354 s total)\n",
      "[Iteration 90  ] residual:    0.00337 | iteration runtime:      0.004 ms, (  0.000357 s total)\n",
      "[Iteration 91  ] residual:    0.00316 | iteration runtime:      0.003 ms, (   0.00036 s total)\n",
      "[Iteration 92  ] residual:    0.00296 | iteration runtime:      0.003 ms, (  0.000364 s total)\n",
      "[Iteration 93  ] residual:    0.00278 | iteration runtime:      0.003 ms, (  0.000366 s total)\n",
      "[Iteration 94  ] residual:    0.00261 | iteration runtime:      0.003 ms, (   0.00037 s total)\n",
      "[Iteration 95  ] residual:    0.00245 | iteration runtime:      0.003 ms, (  0.000373 s total)\n",
      "[Iteration 96  ] residual:     0.0023 | iteration runtime:      0.003 ms, (  0.000376 s total)\n",
      "[Iteration 97  ] residual:    0.00216 | iteration runtime:      0.003 ms, (  0.000379 s total)\n",
      "[Iteration 98  ] residual:    0.00202 | iteration runtime:      0.003 ms, (  0.000382 s total)\n",
      "[Iteration 99  ] residual:     0.0019 | iteration runtime:      0.003 ms, (  0.000385 s total)\n",
      "[Iteration 100 ] residual:    0.00178 | iteration runtime:      0.003 ms, (  0.000388 s total)\n"
     ]
    },
    {
     "data": {
      "text/plain": [
       "DiscreteValueIteration.ValueIterationPolicy([11.8543 12.3175; 12.0587 13.1301; 12.9049 14.1988; 14.7171 15.4018], [12.3175, 13.1301, 14.1988, 15.4018], [2, 2, 2, 2], Symbol[:left, :right], true, ChainMDP(4, 0.8, 0.95))"
      ]
     },
     "execution_count": 35,
     "metadata": {},
     "output_type": "execute_result"
    }
   ],
   "source": [
    "vi_policy = solve(solver, mdp, verbose=true)"
   ]
  },
  {
   "cell_type": "code",
   "execution_count": 36,
   "metadata": {
    "collapsed": false
   },
   "outputs": [
    {
     "name": "stdout",
     "output_type": "stream",
     "text": [
      "State: 1 Action: right\n",
      "State: 2 Action: right\n",
      "State: 3 Action: right\n",
      "State: 4 Action: right\n"
     ]
    }
   ],
   "source": [
    "for s in states(mdp)\n",
    "    println(\"State: $s Action: $(action(vi_policy, s))\")\n",
    "end"
   ]
  },
  {
   "cell_type": "code",
   "execution_count": null,
   "metadata": {
    "collapsed": true
   },
   "outputs": [],
   "source": [
    "\n",
    "\n",
    "\n",
    "\n",
    "\n",
    "\n",
    "\n",
    "\n"
   ]
  },
  {
   "cell_type": "markdown",
   "metadata": {},
   "source": [
    "# Crying Baby POMDP"
   ]
  },
  {
   "cell_type": "code",
   "execution_count": 37,
   "metadata": {
    "collapsed": false
   },
   "outputs": [
    {
     "name": "stderr",
     "output_type": "stream",
     "text": [
      "\u001b[1m\u001b[36mINFO: \u001b[39m\u001b[22m\u001b[36mPackage POMDPModels is already installed\n",
      "\u001b[39m\u001b[1m\u001b[36mINFO: \u001b[39m\u001b[22m\u001b[36mMETADATA is out-of-date — you may not have the latest version of POMDPModels\n",
      "\u001b[39m\u001b[1m\u001b[36mINFO: \u001b[39m\u001b[22m\u001b[36mUse `Pkg.update()` to get the latest versions of your packages\n",
      "\u001b[39m"
     ]
    }
   ],
   "source": [
    "Pkg.add(\"POMDPModels\")"
   ]
  },
  {
   "cell_type": "code",
   "execution_count": 38,
   "metadata": {
    "collapsed": false
   },
   "outputs": [],
   "source": [
    "using POMDPModels"
   ]
  },
  {
   "cell_type": "code",
   "execution_count": 39,
   "metadata": {
    "collapsed": false
   },
   "outputs": [
    {
     "data": {
      "text/plain": [
       "POMDPModels.BabyBeliefUpdater(POMDPModels.BabyPOMDP(-5.0, -10.0, 0.1, 0.8, 0.1, 0.9))"
      ]
     },
     "execution_count": 39,
     "metadata": {},
     "output_type": "execute_result"
    }
   ],
   "source": [
    "bp = BabyPOMDP()\n",
    "up = BabyBeliefUpdater(bp)"
   ]
  },
  {
   "cell_type": "code",
   "execution_count": 40,
   "metadata": {
    "collapsed": false
   },
   "outputs": [
    {
     "name": "stderr",
     "output_type": "stream",
     "text": [
      "\u001b[1m\u001b[36mINFO: \u001b[39m\u001b[22m\u001b[36mCloning SARSOP from https://github.com/JuliaPOMDP/SARSOP.jl\n",
      "\u001b[39m"
     ]
    },
    {
     "name": "stdout",
     "output_type": "stream",
     "text": [
      "Package already installed\n"
     ]
    }
   ],
   "source": [
    "POMDPs.add(\"SARSOP\") # might take a while to compile\n",
    "using SARSOP"
   ]
  },
  {
   "cell_type": "code",
   "execution_count": 41,
   "metadata": {
    "collapsed": false
   },
   "outputs": [
    {
     "data": {
      "text/plain": [
       "SARSOP.SARSOPSolver(Dict{AbstractString,Any}())"
      ]
     },
     "execution_count": 41,
     "metadata": {},
     "output_type": "execute_result"
    }
   ],
   "source": [
    "solver = SARSOPSolver()"
   ]
  },
  {
   "cell_type": "code",
   "execution_count": 42,
   "metadata": {
    "collapsed": false,
    "scrolled": false
   },
   "outputs": [
    {
     "name": "stdout",
     "output_type": "stream",
     "text": [
      "Generating a pomdpx file: model.pomdpx\n",
      "\n",
      "Loading the model ...\n",
      "  input file   : model.pomdpx\n",
      "  loading time : 0.00s \n",
      "\n",
      "SARSOP initializing ...\n",
      "  initialization time : 0.00s\n",
      "\n",
      "-------------------------------------------------------------------------------\n",
      " Time   |#Trial |#Backup |LBound    |UBound    |Precision  |#Alphas |#Beliefs  \n",
      "-------------------------------------------------------------------------------\n",
      " 0       0       0        -47.3685   -16.0713   31.2971     2        1        \n",
      " 0       5       51       -17.9323   -16.0492   1.88318     9        6        \n",
      " 0       10      103      -16.3978   -16.2159   0.181953    2        8        \n",
      " 0       14      151      -16.3124   -16.277    0.0353847   2        13       \n",
      " 0       18      207      -16.3058   -16.2969   0.00887227  2        16       \n",
      " 0       21      250      -16.3055   -16.3022   0.00329006  7        16       \n",
      " 0       25      305      -16.3055   -16.3044   0.00111584  2        18       \n",
      " 0       26      323      -16.3055   -16.3045   0.000944675 2        18       \n",
      "-------------------------------------------------------------------------------\n",
      "\n",
      "SARSOP finishing ...\n",
      "  target precision reached\n",
      "  target precision  : 0.001000\n",
      "  precision reached : 0.000945 \n",
      "\n",
      "-------------------------------------------------------------------------------\n",
      " Time   |#Trial |#Backup |LBound    |UBound    |Precision  |#Alphas |#Beliefs  \n",
      "-------------------------------------------------------------------------------\n",
      " 0       26      323      -16.3055   -16.3045   0.000944675 2        18       \n",
      "-------------------------------------------------------------------------------\n",
      "\n",
      "Writing out policy ...\n",
      "  output file : out.policy\n",
      "\n"
     ]
    },
    {
     "data": {
      "text/plain": [
       "SARSOP.POMDPPolicy(\"out.policy\", POMDPXFiles.POMDPAlphas([-29.6749 -38.2512; -19.6749 -16.3055], [0, 1]), POMDPModels.BabyPOMDP(-5.0, -10.0, 0.1, 0.8, 0.1, 0.9), Any[true, false])"
      ]
     },
     "execution_count": 42,
     "metadata": {},
     "output_type": "execute_result"
    }
   ],
   "source": [
    "p = solve(solver, bp)"
   ]
  },
  {
   "cell_type": "code",
   "execution_count": 43,
   "metadata": {
    "collapsed": false,
    "scrolled": true
   },
   "outputs": [],
   "source": [
    "history = simulate(simulator, bp, p, up, BoolDistribution(0.0));"
   ]
  },
  {
   "cell_type": "code",
   "execution_count": 44,
   "metadata": {
    "collapsed": false
   },
   "outputs": [
    {
     "name": "stdout",
     "output_type": "stream",
     "text": [
      "0.00 hungry belief => don't feed\n",
      "0.47 hungry belief => feed\n",
      "0.00 hungry belief => don't feed\n",
      "0.02 hungry belief => don't feed\n",
      "0.03 hungry belief => don't feed\n",
      "0.03 hungry belief => don't feed\n",
      "0.03 hungry belief => don't feed\n",
      "0.03 hungry belief => don't feed\n",
      "0.03 hungry belief => don't feed\n",
      "0.03 hungry belief => don't feed\n"
     ]
    }
   ],
   "source": [
    "for (b, a) in eachstep(history, \"ba\")\n",
    "    @printf(\"%3.2f hungry belief => %s\\n\",\n",
    "            b.p,\n",
    "            a ? \"feed\":\"don't feed\")\n",
    "end"
   ]
  },
  {
   "cell_type": "code",
   "execution_count": null,
   "metadata": {
    "collapsed": true
   },
   "outputs": [],
   "source": []
  }
 ],
 "metadata": {
  "anaconda-cloud": {},
  "kernelspec": {
   "display_name": "Julia 0.6.0",
   "language": "julia",
   "name": "julia-0.6"
  },
  "language_info": {
   "file_extension": ".jl",
   "mimetype": "application/julia",
   "name": "julia",
   "version": "0.6.0"
  }
 },
 "nbformat": 4,
 "nbformat_minor": 1
}
