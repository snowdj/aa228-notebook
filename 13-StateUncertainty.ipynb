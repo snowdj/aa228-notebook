{
 "cells": [
  {
   "cell_type": "markdown",
   "metadata": {},
   "source": [
    "This example shows how to perform the discrete belief update discussed in section 6.2 of the course text.\n",
    "\n",
    "Read over the description of the baby problem before seeing how to express it in math below.\n",
    "\n",
    "Let's start by defining the transition function:"
   ]
  },
  {
   "cell_type": "code",
   "execution_count": 1,
   "metadata": {},
   "outputs": [
    {
     "data": {
      "text/plain": [
       "T (generic function with 1 method)"
      ]
     },
     "execution_count": 1,
     "metadata": {},
     "output_type": "execute_result"
    }
   ],
   "source": [
    "function T(s, a, sp)\n",
    "    \n",
    "    # if we feed the baby, probability that it becomes not hungry is 1.0\n",
    "    if a == :feed\n",
    "        if sp == :not_hungry\n",
    "            return 1.0\n",
    "        else\n",
    "            return 0.0\n",
    "        end\n",
    "    \n",
    "    # if we don't feed baby...\n",
    "    else\n",
    "        # baby remains hungry if unfed\n",
    "        if s == :hungry\n",
    "            if sp == :hungry\n",
    "                return 1.0\n",
    "            else\n",
    "                return 0.0\n",
    "            end\n",
    "        else\n",
    "            # 10% chance of baby becoming hungry given it is not hungry and unfed\n",
    "            if sp == :hungry\n",
    "                return 0.1\n",
    "            else\n",
    "                return 0.9\n",
    "            end\n",
    "        end\n",
    "    end\n",
    "                \n",
    "end"
   ]
  },
  {
   "cell_type": "markdown",
   "metadata": {},
   "source": [
    "Let's define the observation function:"
   ]
  },
  {
   "cell_type": "code",
   "execution_count": 2,
   "metadata": {},
   "outputs": [
    {
     "data": {
      "text/plain": [
       "O (generic function with 1 method)"
      ]
     },
     "execution_count": 2,
     "metadata": {},
     "output_type": "execute_result"
    }
   ],
   "source": [
    "function O(a, sp, o)\n",
    "    if sp == :hungry\n",
    "        p_cry = 0.8\n",
    "    else\n",
    "        p_cry = 0.1\n",
    "    end\n",
    "    \n",
    "    if o == :cry\n",
    "        return p_cry\n",
    "    else\n",
    "        return 1.0 - p_cry\n",
    "    end \n",
    "end"
   ]
  },
  {
   "cell_type": "markdown",
   "metadata": {},
   "source": [
    "The discrete belief update is defined in equations 6.7-6.11 of the course text:"
   ]
  },
  {
   "cell_type": "code",
   "execution_count": 3,
   "metadata": {},
   "outputs": [
    {
     "data": {
      "text/plain": [
       "update_belief (generic function with 1 method)"
      ]
     },
     "execution_count": 3,
     "metadata": {},
     "output_type": "execute_result"
    }
   ],
   "source": [
    "function update_belief(b, a, o)\n",
    "    bp = Dict()\n",
    "    for sp in [:hungry, :not_hungry]\n",
    "        sum_over_s = 0.0\n",
    "        for s in [:hungry, :not_hungry]\n",
    "            sum_over_s += T(s, a, sp) * b[s]\n",
    "        end\n",
    "        bp[sp] = O(a, sp, o) * sum_over_s\n",
    "    end\n",
    "\n",
    "    # normalize so that probabilities sum to 1\n",
    "    bp_sum = bp[:hungry] + bp[:not_hungry]\n",
    "    bp[:hungry] = bp[:hungry] / bp_sum\n",
    "    bp[:not_hungry] = bp[:not_hungry] / bp_sum\n",
    "\n",
    "    return bp\n",
    "end"
   ]
  },
  {
   "cell_type": "markdown",
   "metadata": {},
   "source": [
    "Let's use our functions and follow the example in chapter 6.2.1 of the course textbook.\n",
    "\n",
    "Step 1. We start with a uniform belief:"
   ]
  },
  {
   "cell_type": "code",
   "execution_count": 4,
   "metadata": {},
   "outputs": [
    {
     "data": {
      "text/plain": [
       "0.5"
      ]
     },
     "execution_count": 4,
     "metadata": {},
     "output_type": "execute_result"
    }
   ],
   "source": [
    "b1 = Dict()\n",
    "b1[:hungry] = 0.5\n",
    "b1[:not_hungry] = 0.5"
   ]
  },
  {
   "cell_type": "markdown",
   "metadata": {},
   "source": [
    "Step 2. We do not feed the baby and the baby cries."
   ]
  },
  {
   "cell_type": "code",
   "execution_count": 5,
   "metadata": {},
   "outputs": [
    {
     "data": {
      "text/plain": [
       "Dict{Any,Any} with 2 entries:\n",
       "  :not_hungry => 0.0927835\n",
       "  :hungry     => 0.907216"
      ]
     },
     "execution_count": 5,
     "metadata": {},
     "output_type": "execute_result"
    }
   ],
   "source": [
    "b2 = update_belief(b1, :not_feed, :cry)"
   ]
  },
  {
   "cell_type": "markdown",
   "metadata": {},
   "source": [
    "Step 3. We feed the baby and it stops crying."
   ]
  },
  {
   "cell_type": "code",
   "execution_count": 6,
   "metadata": {},
   "outputs": [
    {
     "data": {
      "text/plain": [
       "Dict{Any,Any} with 2 entries:\n",
       "  :not_hungry => 1.0\n",
       "  :hungry     => 0.0"
      ]
     },
     "execution_count": 6,
     "metadata": {},
     "output_type": "execute_result"
    }
   ],
   "source": [
    "b3 = update_belief(b2, :feed, :not_cry)"
   ]
  },
  {
   "cell_type": "markdown",
   "metadata": {},
   "source": [
    "Step 4. We do not feed the baby and it does not cry."
   ]
  },
  {
   "cell_type": "code",
   "execution_count": 7,
   "metadata": {},
   "outputs": [
    {
     "data": {
      "text/plain": [
       "Dict{Any,Any} with 2 entries:\n",
       "  :not_hungry => 0.975904\n",
       "  :hungry     => 0.0240964"
      ]
     },
     "execution_count": 7,
     "metadata": {},
     "output_type": "execute_result"
    }
   ],
   "source": [
    "b4 = update_belief(b3, :not_feed, :not_cry)"
   ]
  },
  {
   "cell_type": "markdown",
   "metadata": {},
   "source": [
    "Step 5. Again, we do not feed the baby and it does not cry."
   ]
  },
  {
   "cell_type": "code",
   "execution_count": 8,
   "metadata": {},
   "outputs": [
    {
     "data": {
      "text/plain": [
       "Dict{Any,Any} with 2 entries:\n",
       "  :not_hungry => 0.970132\n",
       "  :hungry     => 0.0298684"
      ]
     },
     "execution_count": 8,
     "metadata": {},
     "output_type": "execute_result"
    }
   ],
   "source": [
    "b5 = update_belief(b4, :not_feed, :not_cry)"
   ]
  },
  {
   "cell_type": "markdown",
   "metadata": {},
   "source": [
    "Step 6. We do not feed the baby and the baby begins to cry."
   ]
  },
  {
   "cell_type": "code",
   "execution_count": 9,
   "metadata": {},
   "outputs": [
    {
     "data": {
      "text/plain": [
       "Dict{Any,Any} with 2 entries:\n",
       "  :not_hungry => 0.462415\n",
       "  :hungry     => 0.537585"
      ]
     },
     "execution_count": 9,
     "metadata": {},
     "output_type": "execute_result"
    }
   ],
   "source": [
    "b6 = update_belief(b5, :not_feed, :cry)"
   ]
  }
 ],
 "metadata": {
  "kernelspec": {
   "display_name": "Julia 1.0.0",
   "language": "julia",
   "name": "julia-1.0"
  },
  "language_info": {
   "file_extension": ".jl",
   "mimetype": "application/julia",
   "name": "julia",
   "version": "1.0.0"
  }
 },
 "nbformat": 4,
 "nbformat_minor": 1
}
