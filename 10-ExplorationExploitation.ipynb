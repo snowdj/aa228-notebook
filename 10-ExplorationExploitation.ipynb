{
 "cells": [
  {
   "cell_type": "markdown",
   "metadata": {},
   "source": [
    "# Exploration and Exploitation"
   ]
  },
  {
   "cell_type": "code",
   "execution_count": 1,
   "metadata": {},
   "outputs": [
    {
     "data": {
      "text/html": [
       "<script>\n",
       "// Immediately-invoked-function-expression to avoid global variables.\n",
       "(function() {\n",
       "    var warning_div = document.getElementById(\"webio-warning-1303909359964464876\");\n",
       "    var hide = function () {\n",
       "        var script = document.getElementById(\"webio-setup-6948176007078152840\");\n",
       "        var parent = script && script.parentElement;\n",
       "        var grandparent = parent && parent.parentElement;\n",
       "        if (grandparent) {\n",
       "            grandparent.style.display = \"none\";\n",
       "        }\n",
       "        warning_div.style.display = \"none\";\n",
       "    };\n",
       "    if (typeof Jupyter !== \"undefined\") {\n",
       "        console.log(\"WebIO detected Jupyter notebook environment.\");\n",
       "        // Jupyter notebook.\n",
       "        var extensions = (\n",
       "            Jupyter\n",
       "            && Jupyter.notebook.config.data\n",
       "            && Jupyter.notebook.config.data.load_extensions\n",
       "        );\n",
       "        if (extensions && extensions[\"webio-jupyter-notebook\"]) {\n",
       "            // Extension already loaded.\n",
       "            console.log(\"Jupyter WebIO nbextension detected; not loading ad-hoc.\");\n",
       "            hide();\n",
       "            return;\n",
       "        }\n",
       "    } else if (window.location.pathname.includes(\"/lab\")) {\n",
       "        // Guessing JupyterLa\n",
       "        console.log(\"Jupyter Lab detected; make sure the @webio/jupyter-lab-provider labextension is installed.\");\n",
       "        hide();\n",
       "        return;\n",
       "    }\n",
       "})();\n",
       "\n",
       "</script>\n",
       "<p\n",
       "    id=\"webio-warning-1303909359964464876\"\n",
       "    class=\"output_text output_stderr\"\n",
       "    style=\"padding: 1em; font-weight: bold;\"\n",
       ">\n",
       "    Unable to load WebIO. Please make sure WebIO works for your Jupyter client.\n",
       "    For troubleshooting, please see <a href=\"https://juliagizmos.github.io/WebIO.jl/latest/providers/ijulia/\">\n",
       "    the WebIO/IJulia documentation</a>.\n",
       "    <!-- TODO: link to installation docs. -->\n",
       "</p>\n"
      ],
      "text/plain": [
       "HTML{String}(\"<script>\\n// Immediately-invoked-function-expression to avoid global variables.\\n(function() {\\n    var warning_div = document.getElementById(\\\"webio-warning-1303909359964464876\\\");\\n    var hide = function () {\\n        var script = document.getElementById(\\\"webio-setup-6948176007078152840\\\");\\n        var parent = script && script.parentElement;\\n        var grandparent = parent && parent.parentElement;\\n        if (grandparent) {\\n            grandparent.style.display = \\\"none\\\";\\n        }\\n        warning_div.style.display = \\\"none\\\";\\n    };\\n    if (typeof Jupyter !== \\\"undefined\\\") {\\n        console.log(\\\"WebIO detected Jupyter notebook environment.\\\");\\n        // Jupyter notebook.\\n        var extensions = (\\n            Jupyter\\n            && Jupyter.notebook.config.data\\n            && Jupyter.notebook.config.data.load_extensions\\n        );\\n        if (extensions && extensions[\\\"webio-jupyter-notebook\\\"]) {\\n            // Extension already loaded.\\n            console.log(\\\"Jupyter WebIO nbextension detected; not loading ad-hoc.\\\");\\n            hide();\\n            return;\\n        }\\n    } else if (window.location.pathname.includes(\\\"/lab\\\")) {\\n        // Guessing JupyterLa\\n        console.log(\\\"Jupyter Lab detected; make sure the @webio/jupyter-lab-provider labextension is installed.\\\");\\n        hide();\\n        return;\\n    }\\n})();\\n\\n</script>\\n<p\\n    id=\\\"webio-warning-1303909359964464876\\\"\\n    class=\\\"output_text output_stderr\\\"\\n    style=\\\"padding: 1em; font-weight: bold;\\\"\\n>\\n    Unable to load WebIO. Please make sure WebIO works for your Jupyter client.\\n    For troubleshooting, please see <a href=\\\"https://juliagizmos.github.io/WebIO.jl/latest/providers/ijulia/\\\">\\n    the WebIO/IJulia documentation</a>.\\n    <!-- TODO: link to installation docs. -->\\n</p>\\n\")"
      ]
     },
     "metadata": {},
     "output_type": "display_data"
    }
   ],
   "source": [
    "using PGFPlots\n",
    "using Interact\n",
    "using Reactive\n",
    "using Distributions\n",
    "include(\"helpers.jl\")\n",
    "include(\"bandits.jl\");"
   ]
  },
  {
   "cell_type": "markdown",
   "metadata": {},
   "source": [
    "## Multi-Armed Bandit Problems"
   ]
  },
  {
   "cell_type": "code",
   "execution_count": 2,
   "metadata": {
    "scrolled": true
   },
   "outputs": [
    {
     "data": {
      "application/vnd.webio.node+json": {
       "children": [
        {
         "children": [
          {
           "children": [
            "Arm 1"
           ],
           "instanceArgs": {
            "namespace": "html",
            "tag": "button"
           },
           "nodeType": "DOM",
           "props": {
            "attributes": {
             "data-bind": "click: function (){this.clicks(this.clicks()+1)}, css: {'is-loading' : loading}"
            },
            "className": "is-medium button is-primary",
            "style": {}
           },
           "type": "node"
          }
         ],
         "instanceArgs": {
          "handlers": {
           "clicks": [
            "(function (val){return (val!=this.model[\"clicks\"]()) ? (this.valueFromJulia[\"clicks\"]=true, this.model[\"clicks\"](val)) : undefined})"
           ],
           "loading": [
            "(function (val){return (val!=this.model[\"loading\"]()) ? (this.valueFromJulia[\"loading\"]=true, this.model[\"loading\"](val)) : undefined})"
           ]
          },
          "id": "7988806684803009649",
          "imports": {
           "data": [
            {
             "name": "knockout",
             "type": "js",
             "url": "/assetserver/c20779c1e6a079277e91dddf7bd670ca92eea868-knockout.js"
            },
            {
             "name": "knockout_punches",
             "type": "js",
             "url": "/assetserver/5d0eeef6d78927a4d06f8ff08a99add46d138283-knockout_punches.js"
            },
            {
             "name": null,
             "type": "js",
             "url": "/assetserver/cb26fe9e57bb1abef82b7eb58e12f018a1428e64-all.js"
            },
            {
             "name": null,
             "type": "css",
             "url": "/assetserver/d5c3b0a1dece742679a111cbb2e6bd04a8ca0e64-style.css"
            },
            {
             "name": null,
             "type": "css",
             "url": "/assetserver/457039d154101dcb9f0c19c2735b1d6e2c611d84-bulma_confined.min.css"
            }
           ],
           "type": "async_block"
          },
          "mount_callbacks": [
           "function () {\n    var handler = (function (ko, koPunches) {\n    ko.punches.enableAll();\n    ko.bindingHandlers.numericValue = {\n        init: function(element, valueAccessor, allBindings, data, context) {\n            var stringified = ko.observable(ko.unwrap(valueAccessor()));\n            stringified.subscribe(function(value) {\n                var val = parseFloat(value);\n                if (!isNaN(val)) {\n                    valueAccessor()(val);\n                }\n            });\n            valueAccessor().subscribe(function(value) {\n                var str = JSON.stringify(value);\n                if ((str == \"0\") && ([\"-0\", \"-0.\"].indexOf(stringified()) >= 0))\n                     return;\n                 if ([\"null\", \"\"].indexOf(str) >= 0)\n                     return;\n                stringified(str);\n            });\n            ko.applyBindingsToNode(\n                element,\n                {\n                    value: stringified,\n                    valueUpdate: allBindings.get('valueUpdate'),\n                },\n                context,\n            );\n        }\n    };\n    var json_data = {\"loading\":WebIO.getval({\"name\":\"loading\",\"scope\":\"7988806684803009649\",\"id\":\"ob_02\",\"type\":\"observable\"}),\"clicks\":WebIO.getval({\"name\":\"clicks\",\"scope\":\"7988806684803009649\",\"id\":\"ob_01\",\"type\":\"observable\"})};\n    var self = this;\n    function AppViewModel() {\n        for (var key in json_data) {\n            var el = json_data[key];\n            this[key] = Array.isArray(el) ? ko.observableArray(el) : ko.observable(el);\n        }\n        \n        \n        [this[\"loading\"].subscribe((function (val){!(this.valueFromJulia[\"loading\"]) ? (WebIO.setval({\"name\":\"loading\",\"scope\":\"7988806684803009649\",\"id\":\"ob_02\",\"type\":\"observable\"},val)) : undefined; return this.valueFromJulia[\"loading\"]=false}),self),this[\"clicks\"].subscribe((function (val){!(this.valueFromJulia[\"clicks\"]) ? (WebIO.setval({\"name\":\"clicks\",\"scope\":\"7988806684803009649\",\"id\":\"ob_01\",\"type\":\"observable\"},val)) : undefined; return this.valueFromJulia[\"clicks\"]=false}),self)]\n        \n    }\n    self.model = new AppViewModel();\n    self.valueFromJulia = {};\n    for (var key in json_data) {\n        self.valueFromJulia[key] = false;\n    }\n    ko.applyBindings(self.model, self.dom);\n}\n);\n    (WebIO.importBlock({\"data\":[{\"name\":\"knockout\",\"type\":\"js\",\"url\":\"/assetserver/c20779c1e6a079277e91dddf7bd670ca92eea868-knockout.js\"},{\"name\":\"knockout_punches\",\"type\":\"js\",\"url\":\"/assetserver/5d0eeef6d78927a4d06f8ff08a99add46d138283-knockout_punches.js\"}],\"type\":\"async_block\"})).then((imports) => handler.apply(this, imports));\n}\n"
          ],
          "observables": {
           "clicks": {
            "id": "ob_01",
            "sync": false,
            "value": 0
           },
           "loading": {
            "id": "ob_02",
            "sync": false,
            "value": false
           }
          },
          "systemjs_options": null
         },
         "nodeType": "Scope",
         "props": {},
         "type": "node"
        }
       ],
       "instanceArgs": {
        "namespace": "html",
        "tag": "div"
       },
       "nodeType": "DOM",
       "props": {
        "className": "field interact-widget"
       },
       "type": "node"
      },
      "text/html": [
       "<div\n",
       "    class=\"webio-mountpoint\"\n",
       "    data-webio-mountpoint=\"2421593461536463673\"\n",
       ">\n",
       "    <script>\n",
       "    if (window.require && require.defined && require.defined(\"nbextensions/webio-jupyter-notebook\")) {\n",
       "        console.log(\"Jupyter WebIO extension detected, not mounting.\");\n",
       "    } else if (window.WebIO) {\n",
       "        WebIO.mount(\n",
       "            document.querySelector('[data-webio-mountpoint=\"2421593461536463673\"]'),\n",
       "            {\"props\":{\"className\":\"field interact-widget\"},\"nodeType\":\"DOM\",\"type\":\"node\",\"instanceArgs\":{\"namespace\":\"html\",\"tag\":\"div\"},\"children\":[{\"props\":{},\"nodeType\":\"Scope\",\"type\":\"node\",\"instanceArgs\":{\"imports\":{\"data\":[{\"name\":\"knockout\",\"type\":\"js\",\"url\":\"\\/assetserver\\/c20779c1e6a079277e91dddf7bd670ca92eea868-knockout.js\"},{\"name\":\"knockout_punches\",\"type\":\"js\",\"url\":\"\\/assetserver\\/5d0eeef6d78927a4d06f8ff08a99add46d138283-knockout_punches.js\"},{\"name\":null,\"type\":\"js\",\"url\":\"\\/assetserver\\/cb26fe9e57bb1abef82b7eb58e12f018a1428e64-all.js\"},{\"name\":null,\"type\":\"css\",\"url\":\"\\/assetserver\\/d5c3b0a1dece742679a111cbb2e6bd04a8ca0e64-style.css\"},{\"name\":null,\"type\":\"css\",\"url\":\"\\/assetserver\\/457039d154101dcb9f0c19c2735b1d6e2c611d84-bulma_confined.min.css\"}],\"type\":\"async_block\"},\"id\":\"7988806684803009649\",\"handlers\":{\"loading\":[\"(function (val){return (val!=this.model[\\\"loading\\\"]()) ? (this.valueFromJulia[\\\"loading\\\"]=true, this.model[\\\"loading\\\"](val)) : undefined})\"],\"clicks\":[\"(function (val){return (val!=this.model[\\\"clicks\\\"]()) ? (this.valueFromJulia[\\\"clicks\\\"]=true, this.model[\\\"clicks\\\"](val)) : undefined})\"]},\"systemjs_options\":null,\"mount_callbacks\":[\"function () {\\n    var handler = (function (ko, koPunches) {\\n    ko.punches.enableAll();\\n    ko.bindingHandlers.numericValue = {\\n        init: function(element, valueAccessor, allBindings, data, context) {\\n            var stringified = ko.observable(ko.unwrap(valueAccessor()));\\n            stringified.subscribe(function(value) {\\n                var val = parseFloat(value);\\n                if (!isNaN(val)) {\\n                    valueAccessor()(val);\\n                }\\n            });\\n            valueAccessor().subscribe(function(value) {\\n                var str = JSON.stringify(value);\\n                if ((str == \\\"0\\\") && ([\\\"-0\\\", \\\"-0.\\\"].indexOf(stringified()) >= 0))\\n                     return;\\n                 if ([\\\"null\\\", \\\"\\\"].indexOf(str) >= 0)\\n                     return;\\n                stringified(str);\\n            });\\n            ko.applyBindingsToNode(\\n                element,\\n                {\\n                    value: stringified,\\n                    valueUpdate: allBindings.get('valueUpdate'),\\n                },\\n                context,\\n            );\\n        }\\n    };\\n    var json_data = {\\\"loading\\\":WebIO.getval({\\\"name\\\":\\\"loading\\\",\\\"scope\\\":\\\"7988806684803009649\\\",\\\"id\\\":\\\"ob_02\\\",\\\"type\\\":\\\"observable\\\"}),\\\"clicks\\\":WebIO.getval({\\\"name\\\":\\\"clicks\\\",\\\"scope\\\":\\\"7988806684803009649\\\",\\\"id\\\":\\\"ob_01\\\",\\\"type\\\":\\\"observable\\\"})};\\n    var self = this;\\n    function AppViewModel() {\\n        for (var key in json_data) {\\n            var el = json_data[key];\\n            this[key] = Array.isArray(el) ? ko.observableArray(el) : ko.observable(el);\\n        }\\n        \\n        \\n        [this[\\\"loading\\\"].subscribe((function (val){!(this.valueFromJulia[\\\"loading\\\"]) ? (WebIO.setval({\\\"name\\\":\\\"loading\\\",\\\"scope\\\":\\\"7988806684803009649\\\",\\\"id\\\":\\\"ob_02\\\",\\\"type\\\":\\\"observable\\\"},val)) : undefined; return this.valueFromJulia[\\\"loading\\\"]=false}),self),this[\\\"clicks\\\"].subscribe((function (val){!(this.valueFromJulia[\\\"clicks\\\"]) ? (WebIO.setval({\\\"name\\\":\\\"clicks\\\",\\\"scope\\\":\\\"7988806684803009649\\\",\\\"id\\\":\\\"ob_01\\\",\\\"type\\\":\\\"observable\\\"},val)) : undefined; return this.valueFromJulia[\\\"clicks\\\"]=false}),self)]\\n        \\n    }\\n    self.model = new AppViewModel();\\n    self.valueFromJulia = {};\\n    for (var key in json_data) {\\n        self.valueFromJulia[key] = false;\\n    }\\n    ko.applyBindings(self.model, self.dom);\\n}\\n);\\n    (WebIO.importBlock({\\\"data\\\":[{\\\"name\\\":\\\"knockout\\\",\\\"type\\\":\\\"js\\\",\\\"url\\\":\\\"\\/assetserver\\/c20779c1e6a079277e91dddf7bd670ca92eea868-knockout.js\\\"},{\\\"name\\\":\\\"knockout_punches\\\",\\\"type\\\":\\\"js\\\",\\\"url\\\":\\\"\\/assetserver\\/5d0eeef6d78927a4d06f8ff08a99add46d138283-knockout_punches.js\\\"}],\\\"type\\\":\\\"async_block\\\"})).then((imports) => handler.apply(this, imports));\\n}\\n\"],\"observables\":{\"loading\":{\"sync\":false,\"id\":\"ob_02\",\"value\":false},\"clicks\":{\"sync\":false,\"id\":\"ob_01\",\"value\":0}}},\"children\":[{\"props\":{\"attributes\":{\"data-bind\":\"click: function (){this.clicks(this.clicks()+1)}, css: {'is-loading' : loading}\"},\"className\":\"is-medium button is-primary\",\"style\":{}},\"nodeType\":\"DOM\",\"type\":\"node\",\"instanceArgs\":{\"namespace\":\"html\",\"tag\":\"button\"},\"children\":[\"Arm 1\"]}]}]},\n",
       "            window,\n",
       "        );\n",
       "    } else {\n",
       "        document\n",
       "            .querySelector('[data-webio-mountpoint=\"2421593461536463673\"]')\n",
       "            .innerHTML = (\n",
       "                '<strong>WebIO not detected. Please read ' +\n",
       "                '<a href=\"https://juliagizmos.github.io/WebIO.jl/latest/troubleshooting/not-detected/\">the troubleshooting guide</a> ' +\n",
       "                'for more information on how to resolve this issue.' +\n",
       "                '</strong>'\n",
       "            );\n",
       "    }\n",
       "    </script>\n",
       "</div>\n"
      ],
      "text/plain": [
       "(div { className=\"field interact-widget\" }\n",
       "    (button { attributes=Dict{Any,Any}(\"data-bind\" => \"click: function (){this.clicks(this.clicks()+1)}, css: {'is-loading' : loading}\") className=\"is-medium button is-primary\" style=Dict{String,Any}() }\n",
       "    \"Arm 1\"))"
      ]
     },
     "metadata": {
      "application/vnd.webio.node+json": {
       "kernelId": "d28b9f55-0f48-4f9f-975f-a2bafbcbc949"
      }
     },
     "output_type": "display_data"
    },
    {
     "data": {
      "application/vnd.webio.node+json": {
       "children": [
        {
         "children": [],
         "instanceArgs": {
          "namespace": "html",
          "tag": "div"
         },
         "nodeType": "DOM",
         "props": {
          "className": "webio-observable",
          "setInnerHtml": "<pre>\"0 wins out of 0 tries (NaN percent)\"</pre>"
         },
         "type": "node"
        }
       ],
       "instanceArgs": {
        "handlers": {
         "obs-output": [
          "function (value, scope) {\n    scope.setInnerHTML(value);\n}\n"
         ]
        },
        "id": "13780992279426539035",
        "imports": {
         "data": [],
         "type": "async_block"
        },
        "mount_callbacks": [],
        "observables": {
         "obs-output": {
          "id": "ob_06",
          "sync": false,
          "value": "<pre>\"0 wins out of 0 tries (NaN percent)\"</pre>"
         }
        },
        "systemjs_options": null
       },
       "nodeType": "Scope",
       "props": {},
       "type": "node"
      },
      "text/html": [
       "<div\n",
       "    class=\"webio-mountpoint\"\n",
       "    data-webio-mountpoint=\"14818280945156790161\"\n",
       ">\n",
       "    <script>\n",
       "    if (window.require && require.defined && require.defined(\"nbextensions/webio-jupyter-notebook\")) {\n",
       "        console.log(\"Jupyter WebIO extension detected, not mounting.\");\n",
       "    } else if (window.WebIO) {\n",
       "        WebIO.mount(\n",
       "            document.querySelector('[data-webio-mountpoint=\"14818280945156790161\"]'),\n",
       "            {\"props\":{},\"nodeType\":\"Scope\",\"type\":\"node\",\"instanceArgs\":{\"imports\":{\"data\":[],\"type\":\"async_block\"},\"id\":\"4924497577306168842\",\"handlers\":{\"obs-output\":[\"function (value, scope) {\\n    scope.setInnerHTML(value);\\n}\\n\"]},\"systemjs_options\":null,\"mount_callbacks\":[],\"observables\":{\"obs-output\":{\"sync\":false,\"id\":\"ob_05\",\"value\":\"<pre>\\\"0 wins out of 0 tries (NaN percent)\\\"<\\/pre>\"}}},\"children\":[{\"props\":{\"className\":\"webio-observable\",\"setInnerHtml\":\"<pre>\\\"0 wins out of 0 tries (NaN percent)\\\"<\\/pre>\"},\"nodeType\":\"DOM\",\"type\":\"node\",\"instanceArgs\":{\"namespace\":\"html\",\"tag\":\"div\"},\"children\":[]}]},\n",
       "            window,\n",
       "        );\n",
       "    } else {\n",
       "        document\n",
       "            .querySelector('[data-webio-mountpoint=\"14818280945156790161\"]')\n",
       "            .innerHTML = (\n",
       "                '<strong>WebIO not detected. Please read ' +\n",
       "                '<a href=\"https://juliagizmos.github.io/WebIO.jl/latest/troubleshooting/not-detected/\">the troubleshooting guide</a> ' +\n",
       "                'for more information on how to resolve this issue.' +\n",
       "                '</strong>'\n",
       "            );\n",
       "    }\n",
       "    </script>\n",
       "</div>\n"
      ],
      "text/plain": [
       "Observable{Any} with 0 listeners. Value:\n",
       "\"0 wins out of 0 tries (NaN percent)\""
      ]
     },
     "metadata": {
      "application/vnd.webio.node+json": {
       "kernelId": "d28b9f55-0f48-4f9f-975f-a2bafbcbc949"
      }
     },
     "output_type": "display_data"
    },
    {
     "data": {
      "application/vnd.webio.node+json": {
       "children": [
        {
         "children": [
          {
           "children": [
            "Arm 2"
           ],
           "instanceArgs": {
            "namespace": "html",
            "tag": "button"
           },
           "nodeType": "DOM",
           "props": {
            "attributes": {
             "data-bind": "click: function (){this.clicks(this.clicks()+1)}, css: {'is-loading' : loading}"
            },
            "className": "is-medium button is-primary",
            "style": {}
           },
           "type": "node"
          }
         ],
         "instanceArgs": {
          "handlers": {
           "clicks": [
            "(function (val){return (val!=this.model[\"clicks\"]()) ? (this.valueFromJulia[\"clicks\"]=true, this.model[\"clicks\"](val)) : undefined})"
           ],
           "loading": [
            "(function (val){return (val!=this.model[\"loading\"]()) ? (this.valueFromJulia[\"loading\"]=true, this.model[\"loading\"](val)) : undefined})"
           ]
          },
          "id": "14063699499565601727",
          "imports": {
           "data": [
            {
             "name": "knockout",
             "type": "js",
             "url": "/assetserver/c20779c1e6a079277e91dddf7bd670ca92eea868-knockout.js"
            },
            {
             "name": "knockout_punches",
             "type": "js",
             "url": "/assetserver/5d0eeef6d78927a4d06f8ff08a99add46d138283-knockout_punches.js"
            },
            {
             "name": null,
             "type": "js",
             "url": "/assetserver/cb26fe9e57bb1abef82b7eb58e12f018a1428e64-all.js"
            },
            {
             "name": null,
             "type": "css",
             "url": "/assetserver/d5c3b0a1dece742679a111cbb2e6bd04a8ca0e64-style.css"
            },
            {
             "name": null,
             "type": "css",
             "url": "/assetserver/457039d154101dcb9f0c19c2735b1d6e2c611d84-bulma_confined.min.css"
            }
           ],
           "type": "async_block"
          },
          "mount_callbacks": [
           "function () {\n    var handler = (function (ko, koPunches) {\n    ko.punches.enableAll();\n    ko.bindingHandlers.numericValue = {\n        init: function(element, valueAccessor, allBindings, data, context) {\n            var stringified = ko.observable(ko.unwrap(valueAccessor()));\n            stringified.subscribe(function(value) {\n                var val = parseFloat(value);\n                if (!isNaN(val)) {\n                    valueAccessor()(val);\n                }\n            });\n            valueAccessor().subscribe(function(value) {\n                var str = JSON.stringify(value);\n                if ((str == \"0\") && ([\"-0\", \"-0.\"].indexOf(stringified()) >= 0))\n                     return;\n                 if ([\"null\", \"\"].indexOf(str) >= 0)\n                     return;\n                stringified(str);\n            });\n            ko.applyBindingsToNode(\n                element,\n                {\n                    value: stringified,\n                    valueUpdate: allBindings.get('valueUpdate'),\n                },\n                context,\n            );\n        }\n    };\n    var json_data = {\"loading\":WebIO.getval({\"name\":\"loading\",\"scope\":\"14063699499565601727\",\"id\":\"ob_08\",\"type\":\"observable\"}),\"clicks\":WebIO.getval({\"name\":\"clicks\",\"scope\":\"14063699499565601727\",\"id\":\"ob_07\",\"type\":\"observable\"})};\n    var self = this;\n    function AppViewModel() {\n        for (var key in json_data) {\n            var el = json_data[key];\n            this[key] = Array.isArray(el) ? ko.observableArray(el) : ko.observable(el);\n        }\n        \n        \n        [this[\"loading\"].subscribe((function (val){!(this.valueFromJulia[\"loading\"]) ? (WebIO.setval({\"name\":\"loading\",\"scope\":\"14063699499565601727\",\"id\":\"ob_08\",\"type\":\"observable\"},val)) : undefined; return this.valueFromJulia[\"loading\"]=false}),self),this[\"clicks\"].subscribe((function (val){!(this.valueFromJulia[\"clicks\"]) ? (WebIO.setval({\"name\":\"clicks\",\"scope\":\"14063699499565601727\",\"id\":\"ob_07\",\"type\":\"observable\"},val)) : undefined; return this.valueFromJulia[\"clicks\"]=false}),self)]\n        \n    }\n    self.model = new AppViewModel();\n    self.valueFromJulia = {};\n    for (var key in json_data) {\n        self.valueFromJulia[key] = false;\n    }\n    ko.applyBindings(self.model, self.dom);\n}\n);\n    (WebIO.importBlock({\"data\":[{\"name\":\"knockout\",\"type\":\"js\",\"url\":\"/assetserver/c20779c1e6a079277e91dddf7bd670ca92eea868-knockout.js\"},{\"name\":\"knockout_punches\",\"type\":\"js\",\"url\":\"/assetserver/5d0eeef6d78927a4d06f8ff08a99add46d138283-knockout_punches.js\"}],\"type\":\"async_block\"})).then((imports) => handler.apply(this, imports));\n}\n"
          ],
          "observables": {
           "clicks": {
            "id": "ob_07",
            "sync": false,
            "value": 0
           },
           "loading": {
            "id": "ob_08",
            "sync": false,
            "value": false
           }
          },
          "systemjs_options": null
         },
         "nodeType": "Scope",
         "props": {},
         "type": "node"
        }
       ],
       "instanceArgs": {
        "namespace": "html",
        "tag": "div"
       },
       "nodeType": "DOM",
       "props": {
        "className": "field interact-widget"
       },
       "type": "node"
      },
      "text/html": [
       "<div\n",
       "    class=\"webio-mountpoint\"\n",
       "    data-webio-mountpoint=\"18348789314243612269\"\n",
       ">\n",
       "    <script>\n",
       "    if (window.require && require.defined && require.defined(\"nbextensions/webio-jupyter-notebook\")) {\n",
       "        console.log(\"Jupyter WebIO extension detected, not mounting.\");\n",
       "    } else if (window.WebIO) {\n",
       "        WebIO.mount(\n",
       "            document.querySelector('[data-webio-mountpoint=\"18348789314243612269\"]'),\n",
       "            {\"props\":{\"className\":\"field interact-widget\"},\"nodeType\":\"DOM\",\"type\":\"node\",\"instanceArgs\":{\"namespace\":\"html\",\"tag\":\"div\"},\"children\":[{\"props\":{},\"nodeType\":\"Scope\",\"type\":\"node\",\"instanceArgs\":{\"imports\":{\"data\":[{\"name\":\"knockout\",\"type\":\"js\",\"url\":\"\\/assetserver\\/c20779c1e6a079277e91dddf7bd670ca92eea868-knockout.js\"},{\"name\":\"knockout_punches\",\"type\":\"js\",\"url\":\"\\/assetserver\\/5d0eeef6d78927a4d06f8ff08a99add46d138283-knockout_punches.js\"},{\"name\":null,\"type\":\"js\",\"url\":\"\\/assetserver\\/cb26fe9e57bb1abef82b7eb58e12f018a1428e64-all.js\"},{\"name\":null,\"type\":\"css\",\"url\":\"\\/assetserver\\/d5c3b0a1dece742679a111cbb2e6bd04a8ca0e64-style.css\"},{\"name\":null,\"type\":\"css\",\"url\":\"\\/assetserver\\/457039d154101dcb9f0c19c2735b1d6e2c611d84-bulma_confined.min.css\"}],\"type\":\"async_block\"},\"id\":\"14063699499565601727\",\"handlers\":{\"loading\":[\"(function (val){return (val!=this.model[\\\"loading\\\"]()) ? (this.valueFromJulia[\\\"loading\\\"]=true, this.model[\\\"loading\\\"](val)) : undefined})\"],\"clicks\":[\"(function (val){return (val!=this.model[\\\"clicks\\\"]()) ? (this.valueFromJulia[\\\"clicks\\\"]=true, this.model[\\\"clicks\\\"](val)) : undefined})\"]},\"systemjs_options\":null,\"mount_callbacks\":[\"function () {\\n    var handler = (function (ko, koPunches) {\\n    ko.punches.enableAll();\\n    ko.bindingHandlers.numericValue = {\\n        init: function(element, valueAccessor, allBindings, data, context) {\\n            var stringified = ko.observable(ko.unwrap(valueAccessor()));\\n            stringified.subscribe(function(value) {\\n                var val = parseFloat(value);\\n                if (!isNaN(val)) {\\n                    valueAccessor()(val);\\n                }\\n            });\\n            valueAccessor().subscribe(function(value) {\\n                var str = JSON.stringify(value);\\n                if ((str == \\\"0\\\") && ([\\\"-0\\\", \\\"-0.\\\"].indexOf(stringified()) >= 0))\\n                     return;\\n                 if ([\\\"null\\\", \\\"\\\"].indexOf(str) >= 0)\\n                     return;\\n                stringified(str);\\n            });\\n            ko.applyBindingsToNode(\\n                element,\\n                {\\n                    value: stringified,\\n                    valueUpdate: allBindings.get('valueUpdate'),\\n                },\\n                context,\\n            );\\n        }\\n    };\\n    var json_data = {\\\"loading\\\":WebIO.getval({\\\"name\\\":\\\"loading\\\",\\\"scope\\\":\\\"14063699499565601727\\\",\\\"id\\\":\\\"ob_08\\\",\\\"type\\\":\\\"observable\\\"}),\\\"clicks\\\":WebIO.getval({\\\"name\\\":\\\"clicks\\\",\\\"scope\\\":\\\"14063699499565601727\\\",\\\"id\\\":\\\"ob_07\\\",\\\"type\\\":\\\"observable\\\"})};\\n    var self = this;\\n    function AppViewModel() {\\n        for (var key in json_data) {\\n            var el = json_data[key];\\n            this[key] = Array.isArray(el) ? ko.observableArray(el) : ko.observable(el);\\n        }\\n        \\n        \\n        [this[\\\"loading\\\"].subscribe((function (val){!(this.valueFromJulia[\\\"loading\\\"]) ? (WebIO.setval({\\\"name\\\":\\\"loading\\\",\\\"scope\\\":\\\"14063699499565601727\\\",\\\"id\\\":\\\"ob_08\\\",\\\"type\\\":\\\"observable\\\"},val)) : undefined; return this.valueFromJulia[\\\"loading\\\"]=false}),self),this[\\\"clicks\\\"].subscribe((function (val){!(this.valueFromJulia[\\\"clicks\\\"]) ? (WebIO.setval({\\\"name\\\":\\\"clicks\\\",\\\"scope\\\":\\\"14063699499565601727\\\",\\\"id\\\":\\\"ob_07\\\",\\\"type\\\":\\\"observable\\\"},val)) : undefined; return this.valueFromJulia[\\\"clicks\\\"]=false}),self)]\\n        \\n    }\\n    self.model = new AppViewModel();\\n    self.valueFromJulia = {};\\n    for (var key in json_data) {\\n        self.valueFromJulia[key] = false;\\n    }\\n    ko.applyBindings(self.model, self.dom);\\n}\\n);\\n    (WebIO.importBlock({\\\"data\\\":[{\\\"name\\\":\\\"knockout\\\",\\\"type\\\":\\\"js\\\",\\\"url\\\":\\\"\\/assetserver\\/c20779c1e6a079277e91dddf7bd670ca92eea868-knockout.js\\\"},{\\\"name\\\":\\\"knockout_punches\\\",\\\"type\\\":\\\"js\\\",\\\"url\\\":\\\"\\/assetserver\\/5d0eeef6d78927a4d06f8ff08a99add46d138283-knockout_punches.js\\\"}],\\\"type\\\":\\\"async_block\\\"})).then((imports) => handler.apply(this, imports));\\n}\\n\"],\"observables\":{\"loading\":{\"sync\":false,\"id\":\"ob_08\",\"value\":false},\"clicks\":{\"sync\":false,\"id\":\"ob_07\",\"value\":0}}},\"children\":[{\"props\":{\"attributes\":{\"data-bind\":\"click: function (){this.clicks(this.clicks()+1)}, css: {'is-loading' : loading}\"},\"className\":\"is-medium button is-primary\",\"style\":{}},\"nodeType\":\"DOM\",\"type\":\"node\",\"instanceArgs\":{\"namespace\":\"html\",\"tag\":\"button\"},\"children\":[\"Arm 2\"]}]}]},\n",
       "            window,\n",
       "        );\n",
       "    } else {\n",
       "        document\n",
       "            .querySelector('[data-webio-mountpoint=\"18348789314243612269\"]')\n",
       "            .innerHTML = (\n",
       "                '<strong>WebIO not detected. Please read ' +\n",
       "                '<a href=\"https://juliagizmos.github.io/WebIO.jl/latest/troubleshooting/not-detected/\">the troubleshooting guide</a> ' +\n",
       "                'for more information on how to resolve this issue.' +\n",
       "                '</strong>'\n",
       "            );\n",
       "    }\n",
       "    </script>\n",
       "</div>\n"
      ],
      "text/plain": [
       "(div { className=\"field interact-widget\" }\n",
       "    (button { attributes=Dict{Any,Any}(\"data-bind\" => \"click: function (){this.clicks(this.clicks()+1)}, css: {'is-loading' : loading}\") className=\"is-medium button is-primary\" style=Dict{String,Any}() }\n",
       "    \"Arm 2\"))"
      ]
     },
     "metadata": {
      "application/vnd.webio.node+json": {
       "kernelId": "d28b9f55-0f48-4f9f-975f-a2bafbcbc949"
      }
     },
     "output_type": "display_data"
    },
    {
     "data": {
      "application/vnd.webio.node+json": {
       "children": [
        {
         "children": [],
         "instanceArgs": {
          "namespace": "html",
          "tag": "div"
         },
         "nodeType": "DOM",
         "props": {
          "className": "webio-observable",
          "setInnerHtml": "<pre>\"0 wins out of 0 tries (NaN percent)\"</pre>"
         },
         "type": "node"
        }
       ],
       "instanceArgs": {
        "handlers": {
         "obs-output": [
          "function (value, scope) {\n    scope.setInnerHTML(value);\n}\n"
         ]
        },
        "id": "4279130643792061968",
        "imports": {
         "data": [],
         "type": "async_block"
        },
        "mount_callbacks": [],
        "observables": {
         "obs-output": {
          "id": "ob_12",
          "sync": false,
          "value": "<pre>\"0 wins out of 0 tries (NaN percent)\"</pre>"
         }
        },
        "systemjs_options": null
       },
       "nodeType": "Scope",
       "props": {},
       "type": "node"
      },
      "text/html": [
       "<div\n",
       "    class=\"webio-mountpoint\"\n",
       "    data-webio-mountpoint=\"16212837660193051772\"\n",
       ">\n",
       "    <script>\n",
       "    if (window.require && require.defined && require.defined(\"nbextensions/webio-jupyter-notebook\")) {\n",
       "        console.log(\"Jupyter WebIO extension detected, not mounting.\");\n",
       "    } else if (window.WebIO) {\n",
       "        WebIO.mount(\n",
       "            document.querySelector('[data-webio-mountpoint=\"16212837660193051772\"]'),\n",
       "            {\"props\":{},\"nodeType\":\"Scope\",\"type\":\"node\",\"instanceArgs\":{\"imports\":{\"data\":[],\"type\":\"async_block\"},\"id\":\"459481939235271168\",\"handlers\":{\"obs-output\":[\"function (value, scope) {\\n    scope.setInnerHTML(value);\\n}\\n\"]},\"systemjs_options\":null,\"mount_callbacks\":[],\"observables\":{\"obs-output\":{\"sync\":false,\"id\":\"ob_11\",\"value\":\"<pre>\\\"0 wins out of 0 tries (NaN percent)\\\"<\\/pre>\"}}},\"children\":[{\"props\":{\"className\":\"webio-observable\",\"setInnerHtml\":\"<pre>\\\"0 wins out of 0 tries (NaN percent)\\\"<\\/pre>\"},\"nodeType\":\"DOM\",\"type\":\"node\",\"instanceArgs\":{\"namespace\":\"html\",\"tag\":\"div\"},\"children\":[]}]},\n",
       "            window,\n",
       "        );\n",
       "    } else {\n",
       "        document\n",
       "            .querySelector('[data-webio-mountpoint=\"16212837660193051772\"]')\n",
       "            .innerHTML = (\n",
       "                '<strong>WebIO not detected. Please read ' +\n",
       "                '<a href=\"https://juliagizmos.github.io/WebIO.jl/latest/troubleshooting/not-detected/\">the troubleshooting guide</a> ' +\n",
       "                'for more information on how to resolve this issue.' +\n",
       "                '</strong>'\n",
       "            );\n",
       "    }\n",
       "    </script>\n",
       "</div>\n"
      ],
      "text/plain": [
       "Observable{Any} with 0 listeners. Value:\n",
       "\"0 wins out of 0 tries (NaN percent)\""
      ]
     },
     "metadata": {
      "application/vnd.webio.node+json": {
       "kernelId": "d28b9f55-0f48-4f9f-975f-a2bafbcbc949"
      }
     },
     "output_type": "display_data"
    },
    {
     "data": {
      "application/vnd.webio.node+json": {
       "children": [
        {
         "children": [
          {
           "children": [
            "Arm 3"
           ],
           "instanceArgs": {
            "namespace": "html",
            "tag": "button"
           },
           "nodeType": "DOM",
           "props": {
            "attributes": {
             "data-bind": "click: function (){this.clicks(this.clicks()+1)}, css: {'is-loading' : loading}"
            },
            "className": "is-medium button is-primary",
            "style": {}
           },
           "type": "node"
          }
         ],
         "instanceArgs": {
          "handlers": {
           "clicks": [
            "(function (val){return (val!=this.model[\"clicks\"]()) ? (this.valueFromJulia[\"clicks\"]=true, this.model[\"clicks\"](val)) : undefined})"
           ],
           "loading": [
            "(function (val){return (val!=this.model[\"loading\"]()) ? (this.valueFromJulia[\"loading\"]=true, this.model[\"loading\"](val)) : undefined})"
           ]
          },
          "id": "1888329102277789233",
          "imports": {
           "data": [
            {
             "name": "knockout",
             "type": "js",
             "url": "/assetserver/c20779c1e6a079277e91dddf7bd670ca92eea868-knockout.js"
            },
            {
             "name": "knockout_punches",
             "type": "js",
             "url": "/assetserver/5d0eeef6d78927a4d06f8ff08a99add46d138283-knockout_punches.js"
            },
            {
             "name": null,
             "type": "js",
             "url": "/assetserver/cb26fe9e57bb1abef82b7eb58e12f018a1428e64-all.js"
            },
            {
             "name": null,
             "type": "css",
             "url": "/assetserver/d5c3b0a1dece742679a111cbb2e6bd04a8ca0e64-style.css"
            },
            {
             "name": null,
             "type": "css",
             "url": "/assetserver/457039d154101dcb9f0c19c2735b1d6e2c611d84-bulma_confined.min.css"
            }
           ],
           "type": "async_block"
          },
          "mount_callbacks": [
           "function () {\n    var handler = (function (ko, koPunches) {\n    ko.punches.enableAll();\n    ko.bindingHandlers.numericValue = {\n        init: function(element, valueAccessor, allBindings, data, context) {\n            var stringified = ko.observable(ko.unwrap(valueAccessor()));\n            stringified.subscribe(function(value) {\n                var val = parseFloat(value);\n                if (!isNaN(val)) {\n                    valueAccessor()(val);\n                }\n            });\n            valueAccessor().subscribe(function(value) {\n                var str = JSON.stringify(value);\n                if ((str == \"0\") && ([\"-0\", \"-0.\"].indexOf(stringified()) >= 0))\n                     return;\n                 if ([\"null\", \"\"].indexOf(str) >= 0)\n                     return;\n                stringified(str);\n            });\n            ko.applyBindingsToNode(\n                element,\n                {\n                    value: stringified,\n                    valueUpdate: allBindings.get('valueUpdate'),\n                },\n                context,\n            );\n        }\n    };\n    var json_data = {\"loading\":WebIO.getval({\"name\":\"loading\",\"scope\":\"1888329102277789233\",\"id\":\"ob_14\",\"type\":\"observable\"}),\"clicks\":WebIO.getval({\"name\":\"clicks\",\"scope\":\"1888329102277789233\",\"id\":\"ob_13\",\"type\":\"observable\"})};\n    var self = this;\n    function AppViewModel() {\n        for (var key in json_data) {\n            var el = json_data[key];\n            this[key] = Array.isArray(el) ? ko.observableArray(el) : ko.observable(el);\n        }\n        \n        \n        [this[\"loading\"].subscribe((function (val){!(this.valueFromJulia[\"loading\"]) ? (WebIO.setval({\"name\":\"loading\",\"scope\":\"1888329102277789233\",\"id\":\"ob_14\",\"type\":\"observable\"},val)) : undefined; return this.valueFromJulia[\"loading\"]=false}),self),this[\"clicks\"].subscribe((function (val){!(this.valueFromJulia[\"clicks\"]) ? (WebIO.setval({\"name\":\"clicks\",\"scope\":\"1888329102277789233\",\"id\":\"ob_13\",\"type\":\"observable\"},val)) : undefined; return this.valueFromJulia[\"clicks\"]=false}),self)]\n        \n    }\n    self.model = new AppViewModel();\n    self.valueFromJulia = {};\n    for (var key in json_data) {\n        self.valueFromJulia[key] = false;\n    }\n    ko.applyBindings(self.model, self.dom);\n}\n);\n    (WebIO.importBlock({\"data\":[{\"name\":\"knockout\",\"type\":\"js\",\"url\":\"/assetserver/c20779c1e6a079277e91dddf7bd670ca92eea868-knockout.js\"},{\"name\":\"knockout_punches\",\"type\":\"js\",\"url\":\"/assetserver/5d0eeef6d78927a4d06f8ff08a99add46d138283-knockout_punches.js\"}],\"type\":\"async_block\"})).then((imports) => handler.apply(this, imports));\n}\n"
          ],
          "observables": {
           "clicks": {
            "id": "ob_13",
            "sync": false,
            "value": 0
           },
           "loading": {
            "id": "ob_14",
            "sync": false,
            "value": false
           }
          },
          "systemjs_options": null
         },
         "nodeType": "Scope",
         "props": {},
         "type": "node"
        }
       ],
       "instanceArgs": {
        "namespace": "html",
        "tag": "div"
       },
       "nodeType": "DOM",
       "props": {
        "className": "field interact-widget"
       },
       "type": "node"
      },
      "text/html": [
       "<div\n",
       "    class=\"webio-mountpoint\"\n",
       "    data-webio-mountpoint=\"14797483712078726625\"\n",
       ">\n",
       "    <script>\n",
       "    if (window.require && require.defined && require.defined(\"nbextensions/webio-jupyter-notebook\")) {\n",
       "        console.log(\"Jupyter WebIO extension detected, not mounting.\");\n",
       "    } else if (window.WebIO) {\n",
       "        WebIO.mount(\n",
       "            document.querySelector('[data-webio-mountpoint=\"14797483712078726625\"]'),\n",
       "            {\"props\":{\"className\":\"field interact-widget\"},\"nodeType\":\"DOM\",\"type\":\"node\",\"instanceArgs\":{\"namespace\":\"html\",\"tag\":\"div\"},\"children\":[{\"props\":{},\"nodeType\":\"Scope\",\"type\":\"node\",\"instanceArgs\":{\"imports\":{\"data\":[{\"name\":\"knockout\",\"type\":\"js\",\"url\":\"\\/assetserver\\/c20779c1e6a079277e91dddf7bd670ca92eea868-knockout.js\"},{\"name\":\"knockout_punches\",\"type\":\"js\",\"url\":\"\\/assetserver\\/5d0eeef6d78927a4d06f8ff08a99add46d138283-knockout_punches.js\"},{\"name\":null,\"type\":\"js\",\"url\":\"\\/assetserver\\/cb26fe9e57bb1abef82b7eb58e12f018a1428e64-all.js\"},{\"name\":null,\"type\":\"css\",\"url\":\"\\/assetserver\\/d5c3b0a1dece742679a111cbb2e6bd04a8ca0e64-style.css\"},{\"name\":null,\"type\":\"css\",\"url\":\"\\/assetserver\\/457039d154101dcb9f0c19c2735b1d6e2c611d84-bulma_confined.min.css\"}],\"type\":\"async_block\"},\"id\":\"1888329102277789233\",\"handlers\":{\"loading\":[\"(function (val){return (val!=this.model[\\\"loading\\\"]()) ? (this.valueFromJulia[\\\"loading\\\"]=true, this.model[\\\"loading\\\"](val)) : undefined})\"],\"clicks\":[\"(function (val){return (val!=this.model[\\\"clicks\\\"]()) ? (this.valueFromJulia[\\\"clicks\\\"]=true, this.model[\\\"clicks\\\"](val)) : undefined})\"]},\"systemjs_options\":null,\"mount_callbacks\":[\"function () {\\n    var handler = (function (ko, koPunches) {\\n    ko.punches.enableAll();\\n    ko.bindingHandlers.numericValue = {\\n        init: function(element, valueAccessor, allBindings, data, context) {\\n            var stringified = ko.observable(ko.unwrap(valueAccessor()));\\n            stringified.subscribe(function(value) {\\n                var val = parseFloat(value);\\n                if (!isNaN(val)) {\\n                    valueAccessor()(val);\\n                }\\n            });\\n            valueAccessor().subscribe(function(value) {\\n                var str = JSON.stringify(value);\\n                if ((str == \\\"0\\\") && ([\\\"-0\\\", \\\"-0.\\\"].indexOf(stringified()) >= 0))\\n                     return;\\n                 if ([\\\"null\\\", \\\"\\\"].indexOf(str) >= 0)\\n                     return;\\n                stringified(str);\\n            });\\n            ko.applyBindingsToNode(\\n                element,\\n                {\\n                    value: stringified,\\n                    valueUpdate: allBindings.get('valueUpdate'),\\n                },\\n                context,\\n            );\\n        }\\n    };\\n    var json_data = {\\\"loading\\\":WebIO.getval({\\\"name\\\":\\\"loading\\\",\\\"scope\\\":\\\"1888329102277789233\\\",\\\"id\\\":\\\"ob_14\\\",\\\"type\\\":\\\"observable\\\"}),\\\"clicks\\\":WebIO.getval({\\\"name\\\":\\\"clicks\\\",\\\"scope\\\":\\\"1888329102277789233\\\",\\\"id\\\":\\\"ob_13\\\",\\\"type\\\":\\\"observable\\\"})};\\n    var self = this;\\n    function AppViewModel() {\\n        for (var key in json_data) {\\n            var el = json_data[key];\\n            this[key] = Array.isArray(el) ? ko.observableArray(el) : ko.observable(el);\\n        }\\n        \\n        \\n        [this[\\\"loading\\\"].subscribe((function (val){!(this.valueFromJulia[\\\"loading\\\"]) ? (WebIO.setval({\\\"name\\\":\\\"loading\\\",\\\"scope\\\":\\\"1888329102277789233\\\",\\\"id\\\":\\\"ob_14\\\",\\\"type\\\":\\\"observable\\\"},val)) : undefined; return this.valueFromJulia[\\\"loading\\\"]=false}),self),this[\\\"clicks\\\"].subscribe((function (val){!(this.valueFromJulia[\\\"clicks\\\"]) ? (WebIO.setval({\\\"name\\\":\\\"clicks\\\",\\\"scope\\\":\\\"1888329102277789233\\\",\\\"id\\\":\\\"ob_13\\\",\\\"type\\\":\\\"observable\\\"},val)) : undefined; return this.valueFromJulia[\\\"clicks\\\"]=false}),self)]\\n        \\n    }\\n    self.model = new AppViewModel();\\n    self.valueFromJulia = {};\\n    for (var key in json_data) {\\n        self.valueFromJulia[key] = false;\\n    }\\n    ko.applyBindings(self.model, self.dom);\\n}\\n);\\n    (WebIO.importBlock({\\\"data\\\":[{\\\"name\\\":\\\"knockout\\\",\\\"type\\\":\\\"js\\\",\\\"url\\\":\\\"\\/assetserver\\/c20779c1e6a079277e91dddf7bd670ca92eea868-knockout.js\\\"},{\\\"name\\\":\\\"knockout_punches\\\",\\\"type\\\":\\\"js\\\",\\\"url\\\":\\\"\\/assetserver\\/5d0eeef6d78927a4d06f8ff08a99add46d138283-knockout_punches.js\\\"}],\\\"type\\\":\\\"async_block\\\"})).then((imports) => handler.apply(this, imports));\\n}\\n\"],\"observables\":{\"loading\":{\"sync\":false,\"id\":\"ob_14\",\"value\":false},\"clicks\":{\"sync\":false,\"id\":\"ob_13\",\"value\":0}}},\"children\":[{\"props\":{\"attributes\":{\"data-bind\":\"click: function (){this.clicks(this.clicks()+1)}, css: {'is-loading' : loading}\"},\"className\":\"is-medium button is-primary\",\"style\":{}},\"nodeType\":\"DOM\",\"type\":\"node\",\"instanceArgs\":{\"namespace\":\"html\",\"tag\":\"button\"},\"children\":[\"Arm 3\"]}]}]},\n",
       "            window,\n",
       "        );\n",
       "    } else {\n",
       "        document\n",
       "            .querySelector('[data-webio-mountpoint=\"14797483712078726625\"]')\n",
       "            .innerHTML = (\n",
       "                '<strong>WebIO not detected. Please read ' +\n",
       "                '<a href=\"https://juliagizmos.github.io/WebIO.jl/latest/troubleshooting/not-detected/\">the troubleshooting guide</a> ' +\n",
       "                'for more information on how to resolve this issue.' +\n",
       "                '</strong>'\n",
       "            );\n",
       "    }\n",
       "    </script>\n",
       "</div>\n"
      ],
      "text/plain": [
       "(div { className=\"field interact-widget\" }\n",
       "    (button { attributes=Dict{Any,Any}(\"data-bind\" => \"click: function (){this.clicks(this.clicks()+1)}, css: {'is-loading' : loading}\") className=\"is-medium button is-primary\" style=Dict{String,Any}() }\n",
       "    \"Arm 3\"))"
      ]
     },
     "metadata": {
      "application/vnd.webio.node+json": {
       "kernelId": "d28b9f55-0f48-4f9f-975f-a2bafbcbc949"
      }
     },
     "output_type": "display_data"
    },
    {
     "data": {
      "application/vnd.webio.node+json": {
       "children": [
        {
         "children": [],
         "instanceArgs": {
          "namespace": "html",
          "tag": "div"
         },
         "nodeType": "DOM",
         "props": {
          "className": "webio-observable",
          "setInnerHtml": "<pre>\"0 wins out of 0 tries (NaN percent)\"</pre>"
         },
         "type": "node"
        }
       ],
       "instanceArgs": {
        "handlers": {
         "obs-output": [
          "function (value, scope) {\n    scope.setInnerHTML(value);\n}\n"
         ]
        },
        "id": "1420903554921479291",
        "imports": {
         "data": [],
         "type": "async_block"
        },
        "mount_callbacks": [],
        "observables": {
         "obs-output": {
          "id": "ob_18",
          "sync": false,
          "value": "<pre>\"0 wins out of 0 tries (NaN percent)\"</pre>"
         }
        },
        "systemjs_options": null
       },
       "nodeType": "Scope",
       "props": {},
       "type": "node"
      },
      "text/html": [
       "<div\n",
       "    class=\"webio-mountpoint\"\n",
       "    data-webio-mountpoint=\"10757378665977739401\"\n",
       ">\n",
       "    <script>\n",
       "    if (window.require && require.defined && require.defined(\"nbextensions/webio-jupyter-notebook\")) {\n",
       "        console.log(\"Jupyter WebIO extension detected, not mounting.\");\n",
       "    } else if (window.WebIO) {\n",
       "        WebIO.mount(\n",
       "            document.querySelector('[data-webio-mountpoint=\"10757378665977739401\"]'),\n",
       "            {\"props\":{},\"nodeType\":\"Scope\",\"type\":\"node\",\"instanceArgs\":{\"imports\":{\"data\":[],\"type\":\"async_block\"},\"id\":\"186787387373553052\",\"handlers\":{\"obs-output\":[\"function (value, scope) {\\n    scope.setInnerHTML(value);\\n}\\n\"]},\"systemjs_options\":null,\"mount_callbacks\":[],\"observables\":{\"obs-output\":{\"sync\":false,\"id\":\"ob_17\",\"value\":\"<pre>\\\"0 wins out of 0 tries (NaN percent)\\\"<\\/pre>\"}}},\"children\":[{\"props\":{\"className\":\"webio-observable\",\"setInnerHtml\":\"<pre>\\\"0 wins out of 0 tries (NaN percent)\\\"<\\/pre>\"},\"nodeType\":\"DOM\",\"type\":\"node\",\"instanceArgs\":{\"namespace\":\"html\",\"tag\":\"div\"},\"children\":[]}]},\n",
       "            window,\n",
       "        );\n",
       "    } else {\n",
       "        document\n",
       "            .querySelector('[data-webio-mountpoint=\"10757378665977739401\"]')\n",
       "            .innerHTML = (\n",
       "                '<strong>WebIO not detected. Please read ' +\n",
       "                '<a href=\"https://juliagizmos.github.io/WebIO.jl/latest/troubleshooting/not-detected/\">the troubleshooting guide</a> ' +\n",
       "                'for more information on how to resolve this issue.' +\n",
       "                '</strong>'\n",
       "            );\n",
       "    }\n",
       "    </script>\n",
       "</div>\n"
      ],
      "text/plain": [
       "Observable{Any} with 0 listeners. Value:\n",
       "\"0 wins out of 0 tries (NaN percent)\""
      ]
     },
     "metadata": {
      "application/vnd.webio.node+json": {
       "kernelId": "d28b9f55-0f48-4f9f-975f-a2bafbcbc949"
      }
     },
     "output_type": "display_data"
    },
    {
     "data": {
      "application/vnd.webio.node+json": {
       "children": [
        {
         "children": [
          {
           "children": [
            {
             "children": [
              {
               "children": [
                "True Params"
               ],
               "instanceArgs": {
                "namespace": "html",
                "tag": "label"
               },
               "nodeType": "DOM",
               "props": {
                "className": "interact ",
                "style": {
                 "padding": "5px 10px 0px 10px"
                }
               },
               "type": "node"
              }
             ],
             "instanceArgs": {
              "namespace": "html",
              "tag": "div"
             },
             "nodeType": "DOM",
             "props": {
              "className": "interact-flex-row-left"
             },
             "type": "node"
            },
            {
             "children": [
              {
               "children": [
                {
                 "children": [
                  {
                   "children": [],
                   "instanceArgs": {
                    "namespace": "html",
                    "tag": "label"
                   },
                   "nodeType": "DOM",
                   "props": {
                    "attributes": {
                     "data-bind": "text : key"
                    }
                   },
                   "type": "node"
                  }
                 ],
                 "instanceArgs": {
                  "namespace": "html",
                  "tag": "span"
                 },
                 "nodeType": "DOM",
                 "props": {
                  "attributes": {
                   "data-bind": "click: function (){$root.update(val)}, css: {'is-primary is-selected' : $root.index() == val, 'interact-widget is-medium button ' : true}"
                  }
                 },
                 "type": "node"
                }
               ],
               "instanceArgs": {
                "namespace": "html",
                "tag": "div"
               },
               "nodeType": "DOM",
               "props": {
                "attributes": {
                 "data-bind": "foreach : options_js"
                },
                "className": "buttons has-addons is-centered"
               },
               "type": "node"
              }
             ],
             "instanceArgs": {
              "namespace": "html",
              "tag": "div"
             },
             "nodeType": "DOM",
             "props": {
              "className": "interact-flex-row-center"
             },
             "type": "node"
            },
            {
             "children": [
              {
               "children": [],
               "instanceArgs": {
                "namespace": "html",
                "tag": "div"
               },
               "nodeType": "DOM",
               "props": {},
               "type": "node"
              }
             ],
             "instanceArgs": {
              "namespace": "html",
              "tag": "div"
             },
             "nodeType": "DOM",
             "props": {
              "className": "interact-flex-row-right"
             },
             "type": "node"
            }
           ],
           "instanceArgs": {
            "namespace": "html",
            "tag": "div"
           },
           "nodeType": "DOM",
           "props": {
            "className": "interact-flex-row interact-widget"
           },
           "type": "node"
          }
         ],
         "instanceArgs": {
          "handlers": {
           "index": [
            "(function (val){return (val!=this.model[\"index\"]()) ? (this.valueFromJulia[\"index\"]=true, this.model[\"index\"](val)) : undefined})"
           ],
           "options_js": [
            "(function (val){return (val!=this.model[\"options_js\"]()) ? (this.valueFromJulia[\"options_js\"]=true, this.model[\"options_js\"](val)) : undefined})"
           ]
          },
          "id": "10747888628489256613",
          "imports": {
           "data": [
            {
             "name": "knockout",
             "type": "js",
             "url": "/assetserver/c20779c1e6a079277e91dddf7bd670ca92eea868-knockout.js"
            },
            {
             "name": "knockout_punches",
             "type": "js",
             "url": "/assetserver/5d0eeef6d78927a4d06f8ff08a99add46d138283-knockout_punches.js"
            },
            {
             "name": null,
             "type": "js",
             "url": "/assetserver/cb26fe9e57bb1abef82b7eb58e12f018a1428e64-all.js"
            },
            {
             "name": null,
             "type": "css",
             "url": "/assetserver/d5c3b0a1dece742679a111cbb2e6bd04a8ca0e64-style.css"
            },
            {
             "name": null,
             "type": "css",
             "url": "/assetserver/457039d154101dcb9f0c19c2735b1d6e2c611d84-bulma_confined.min.css"
            }
           ],
           "type": "async_block"
          },
          "mount_callbacks": [
           "function () {\n    var handler = (function (ko, koPunches) {\n    ko.punches.enableAll();\n    ko.bindingHandlers.numericValue = {\n        init: function(element, valueAccessor, allBindings, data, context) {\n            var stringified = ko.observable(ko.unwrap(valueAccessor()));\n            stringified.subscribe(function(value) {\n                var val = parseFloat(value);\n                if (!isNaN(val)) {\n                    valueAccessor()(val);\n                }\n            });\n            valueAccessor().subscribe(function(value) {\n                var str = JSON.stringify(value);\n                if ((str == \"0\") && ([\"-0\", \"-0.\"].indexOf(stringified()) >= 0))\n                     return;\n                 if ([\"null\", \"\"].indexOf(str) >= 0)\n                     return;\n                stringified(str);\n            });\n            ko.applyBindingsToNode(\n                element,\n                {\n                    value: stringified,\n                    valueUpdate: allBindings.get('valueUpdate'),\n                },\n                context,\n            );\n        }\n    };\n    var json_data = {\"options_js\":WebIO.getval({\"name\":\"options_js\",\"scope\":\"10747888628489256613\",\"id\":\"ob_23\",\"type\":\"observable\"}),\"index\":WebIO.getval({\"name\":\"index\",\"scope\":\"10747888628489256613\",\"id\":\"ob_22\",\"type\":\"observable\"})};\n    var self = this;\n    function AppViewModel() {\n        for (var key in json_data) {\n            var el = json_data[key];\n            this[key] = Array.isArray(el) ? ko.observableArray(el) : ko.observable(el);\n        }\n        [this[\"update\"]=function (val) {this.index(val)}]\n        \n        [this[\"options_js\"].subscribe((function (val){!(this.valueFromJulia[\"options_js\"]) ? (WebIO.setval({\"name\":\"options_js\",\"scope\":\"10747888628489256613\",\"id\":\"ob_23\",\"type\":\"observable\"},val)) : undefined; return this.valueFromJulia[\"options_js\"]=false}),self),this[\"index\"].subscribe((function (val){!(this.valueFromJulia[\"index\"]) ? (WebIO.setval({\"name\":\"index\",\"scope\":\"10747888628489256613\",\"id\":\"ob_22\",\"type\":\"observable\"},val)) : undefined; return this.valueFromJulia[\"index\"]=false}),self)]\n        \n    }\n    self.model = new AppViewModel();\n    self.valueFromJulia = {};\n    for (var key in json_data) {\n        self.valueFromJulia[key] = false;\n    }\n    ko.applyBindings(self.model, self.dom);\n}\n);\n    (WebIO.importBlock({\"data\":[{\"name\":\"knockout\",\"type\":\"js\",\"url\":\"/assetserver/c20779c1e6a079277e91dddf7bd670ca92eea868-knockout.js\"},{\"name\":\"knockout_punches\",\"type\":\"js\",\"url\":\"/assetserver/5d0eeef6d78927a4d06f8ff08a99add46d138283-knockout_punches.js\"}],\"type\":\"async_block\"})).then((imports) => handler.apply(this, imports));\n}\n"
          ],
          "observables": {
           "index": {
            "id": "ob_22",
            "sync": true,
            "value": 1
           },
           "options_js": {
            "id": "ob_23",
            "sync": false,
            "value": [
             {
              "id": "idaksCemfM",
              "key": "Hide",
              "val": 1
             },
             {
              "id": "idEZu7H6gB",
              "key": "Show",
              "val": 2
             }
            ]
           }
          },
          "systemjs_options": null
         },
         "nodeType": "Scope",
         "props": {},
         "type": "node"
        }
       ],
       "instanceArgs": {
        "namespace": "html",
        "tag": "div"
       },
       "nodeType": "DOM",
       "props": {
        "className": "interact-widget"
       },
       "type": "node"
      },
      "text/html": [
       "<div\n",
       "    class=\"webio-mountpoint\"\n",
       "    data-webio-mountpoint=\"1196887905311696553\"\n",
       ">\n",
       "    <script>\n",
       "    if (window.require && require.defined && require.defined(\"nbextensions/webio-jupyter-notebook\")) {\n",
       "        console.log(\"Jupyter WebIO extension detected, not mounting.\");\n",
       "    } else if (window.WebIO) {\n",
       "        WebIO.mount(\n",
       "            document.querySelector('[data-webio-mountpoint=\"1196887905311696553\"]'),\n",
       "            {\"props\":{\"className\":\"interact-widget\"},\"nodeType\":\"DOM\",\"type\":\"node\",\"instanceArgs\":{\"namespace\":\"html\",\"tag\":\"div\"},\"children\":[{\"props\":{},\"nodeType\":\"Scope\",\"type\":\"node\",\"instanceArgs\":{\"imports\":{\"data\":[{\"name\":\"knockout\",\"type\":\"js\",\"url\":\"\\/assetserver\\/c20779c1e6a079277e91dddf7bd670ca92eea868-knockout.js\"},{\"name\":\"knockout_punches\",\"type\":\"js\",\"url\":\"\\/assetserver\\/5d0eeef6d78927a4d06f8ff08a99add46d138283-knockout_punches.js\"},{\"name\":null,\"type\":\"js\",\"url\":\"\\/assetserver\\/cb26fe9e57bb1abef82b7eb58e12f018a1428e64-all.js\"},{\"name\":null,\"type\":\"css\",\"url\":\"\\/assetserver\\/d5c3b0a1dece742679a111cbb2e6bd04a8ca0e64-style.css\"},{\"name\":null,\"type\":\"css\",\"url\":\"\\/assetserver\\/457039d154101dcb9f0c19c2735b1d6e2c611d84-bulma_confined.min.css\"}],\"type\":\"async_block\"},\"id\":\"10747888628489256613\",\"handlers\":{\"options_js\":[\"(function (val){return (val!=this.model[\\\"options_js\\\"]()) ? (this.valueFromJulia[\\\"options_js\\\"]=true, this.model[\\\"options_js\\\"](val)) : undefined})\"],\"index\":[\"(function (val){return (val!=this.model[\\\"index\\\"]()) ? (this.valueFromJulia[\\\"index\\\"]=true, this.model[\\\"index\\\"](val)) : undefined})\"]},\"systemjs_options\":null,\"mount_callbacks\":[\"function () {\\n    var handler = (function (ko, koPunches) {\\n    ko.punches.enableAll();\\n    ko.bindingHandlers.numericValue = {\\n        init: function(element, valueAccessor, allBindings, data, context) {\\n            var stringified = ko.observable(ko.unwrap(valueAccessor()));\\n            stringified.subscribe(function(value) {\\n                var val = parseFloat(value);\\n                if (!isNaN(val)) {\\n                    valueAccessor()(val);\\n                }\\n            });\\n            valueAccessor().subscribe(function(value) {\\n                var str = JSON.stringify(value);\\n                if ((str == \\\"0\\\") && ([\\\"-0\\\", \\\"-0.\\\"].indexOf(stringified()) >= 0))\\n                     return;\\n                 if ([\\\"null\\\", \\\"\\\"].indexOf(str) >= 0)\\n                     return;\\n                stringified(str);\\n            });\\n            ko.applyBindingsToNode(\\n                element,\\n                {\\n                    value: stringified,\\n                    valueUpdate: allBindings.get('valueUpdate'),\\n                },\\n                context,\\n            );\\n        }\\n    };\\n    var json_data = {\\\"options_js\\\":WebIO.getval({\\\"name\\\":\\\"options_js\\\",\\\"scope\\\":\\\"10747888628489256613\\\",\\\"id\\\":\\\"ob_23\\\",\\\"type\\\":\\\"observable\\\"}),\\\"index\\\":WebIO.getval({\\\"name\\\":\\\"index\\\",\\\"scope\\\":\\\"10747888628489256613\\\",\\\"id\\\":\\\"ob_22\\\",\\\"type\\\":\\\"observable\\\"})};\\n    var self = this;\\n    function AppViewModel() {\\n        for (var key in json_data) {\\n            var el = json_data[key];\\n            this[key] = Array.isArray(el) ? ko.observableArray(el) : ko.observable(el);\\n        }\\n        [this[\\\"update\\\"]=function (val) {this.index(val)}]\\n        \\n        [this[\\\"options_js\\\"].subscribe((function (val){!(this.valueFromJulia[\\\"options_js\\\"]) ? (WebIO.setval({\\\"name\\\":\\\"options_js\\\",\\\"scope\\\":\\\"10747888628489256613\\\",\\\"id\\\":\\\"ob_23\\\",\\\"type\\\":\\\"observable\\\"},val)) : undefined; return this.valueFromJulia[\\\"options_js\\\"]=false}),self),this[\\\"index\\\"].subscribe((function (val){!(this.valueFromJulia[\\\"index\\\"]) ? (WebIO.setval({\\\"name\\\":\\\"index\\\",\\\"scope\\\":\\\"10747888628489256613\\\",\\\"id\\\":\\\"ob_22\\\",\\\"type\\\":\\\"observable\\\"},val)) : undefined; return this.valueFromJulia[\\\"index\\\"]=false}),self)]\\n        \\n    }\\n    self.model = new AppViewModel();\\n    self.valueFromJulia = {};\\n    for (var key in json_data) {\\n        self.valueFromJulia[key] = false;\\n    }\\n    ko.applyBindings(self.model, self.dom);\\n}\\n);\\n    (WebIO.importBlock({\\\"data\\\":[{\\\"name\\\":\\\"knockout\\\",\\\"type\\\":\\\"js\\\",\\\"url\\\":\\\"\\/assetserver\\/c20779c1e6a079277e91dddf7bd670ca92eea868-knockout.js\\\"},{\\\"name\\\":\\\"knockout_punches\\\",\\\"type\\\":\\\"js\\\",\\\"url\\\":\\\"\\/assetserver\\/5d0eeef6d78927a4d06f8ff08a99add46d138283-knockout_punches.js\\\"}],\\\"type\\\":\\\"async_block\\\"})).then((imports) => handler.apply(this, imports));\\n}\\n\"],\"observables\":{\"options_js\":{\"sync\":false,\"id\":\"ob_23\",\"value\":[{\"key\":\"Hide\",\"val\":1,\"id\":\"idaksCemfM\"},{\"key\":\"Show\",\"val\":2,\"id\":\"idEZu7H6gB\"}]},\"index\":{\"sync\":true,\"id\":\"ob_22\",\"value\":1}}},\"children\":[{\"props\":{\"className\":\"interact-flex-row interact-widget\"},\"nodeType\":\"DOM\",\"type\":\"node\",\"instanceArgs\":{\"namespace\":\"html\",\"tag\":\"div\"},\"children\":[{\"props\":{\"className\":\"interact-flex-row-left\"},\"nodeType\":\"DOM\",\"type\":\"node\",\"instanceArgs\":{\"namespace\":\"html\",\"tag\":\"div\"},\"children\":[{\"props\":{\"className\":\"interact \",\"style\":{\"padding\":\"5px 10px 0px 10px\"}},\"nodeType\":\"DOM\",\"type\":\"node\",\"instanceArgs\":{\"namespace\":\"html\",\"tag\":\"label\"},\"children\":[\"True Params\"]}]},{\"props\":{\"className\":\"interact-flex-row-center\"},\"nodeType\":\"DOM\",\"type\":\"node\",\"instanceArgs\":{\"namespace\":\"html\",\"tag\":\"div\"},\"children\":[{\"props\":{\"attributes\":{\"data-bind\":\"foreach : options_js\"},\"className\":\"buttons has-addons is-centered\"},\"nodeType\":\"DOM\",\"type\":\"node\",\"instanceArgs\":{\"namespace\":\"html\",\"tag\":\"div\"},\"children\":[{\"props\":{\"attributes\":{\"data-bind\":\"click: function (){$root.update(val)}, css: {'is-primary is-selected' : $root.index() == val, 'interact-widget is-medium button ' : true}\"}},\"nodeType\":\"DOM\",\"type\":\"node\",\"instanceArgs\":{\"namespace\":\"html\",\"tag\":\"span\"},\"children\":[{\"props\":{\"attributes\":{\"data-bind\":\"text : key\"}},\"nodeType\":\"DOM\",\"type\":\"node\",\"instanceArgs\":{\"namespace\":\"html\",\"tag\":\"label\"},\"children\":[]}]}]}]},{\"props\":{\"className\":\"interact-flex-row-right\"},\"nodeType\":\"DOM\",\"type\":\"node\",\"instanceArgs\":{\"namespace\":\"html\",\"tag\":\"div\"},\"children\":[{\"props\":{},\"nodeType\":\"DOM\",\"type\":\"node\",\"instanceArgs\":{\"namespace\":\"html\",\"tag\":\"div\"},\"children\":[]}]}]}]}]},\n",
       "            window,\n",
       "        );\n",
       "    } else {\n",
       "        document\n",
       "            .querySelector('[data-webio-mountpoint=\"1196887905311696553\"]')\n",
       "            .innerHTML = (\n",
       "                '<strong>WebIO not detected. Please read ' +\n",
       "                '<a href=\"https://juliagizmos.github.io/WebIO.jl/latest/troubleshooting/not-detected/\">the troubleshooting guide</a> ' +\n",
       "                'for more information on how to resolve this issue.' +\n",
       "                '</strong>'\n",
       "            );\n",
       "    }\n",
       "    </script>\n",
       "</div>\n"
      ],
      "text/plain": [
       "(div { className=\"interact-widget\" }\n",
       "    (div { className=\"interact-flex-row interact-widget\" }\n",
       "    (div { className=\"interact-flex-row-left\" }\n",
       "      (label { className=\"interact \" style=Dict{Any,Any}(:padding => \"5px 10px 0px 10px\") }\n",
       "        \"True Params\"))\n",
       "    (div { className=\"interact-flex-row-center\" }\n",
       "      (div { attributes=\"data-bind\" => \"foreach : options_js\" className=\"buttons has-addons is-centered\" }\n",
       "        (span { attributes=Dict(\"data-bind\" => \"click: function (){\\$root.update(val)}, css: {'is-primary is-selected' : \\$root.index() == val, 'interact-widget is-medium button ' : true}\") }\n",
       "          (label { attributes=Dict(\"data-bind\" => \"text : key\") }))))\n",
       "    (div { className=\"interact-flex-row-right\" }\n",
       "      (div))))"
      ]
     },
     "metadata": {
      "application/vnd.webio.node+json": {
       "kernelId": "d28b9f55-0f48-4f9f-975f-a2bafbcbc949"
      }
     },
     "output_type": "display_data"
    },
    {
     "data": {
      "application/vnd.webio.node+json": {
       "children": [
        {
         "children": [],
         "instanceArgs": {
          "namespace": "html",
          "tag": "div"
         },
         "nodeType": "DOM",
         "props": {
          "className": "webio-observable",
          "setInnerHtml": "<pre>\"\"</pre>"
         },
         "type": "node"
        }
       ],
       "instanceArgs": {
        "handlers": {
         "obs-output": [
          "function (value, scope) {\n    scope.setInnerHTML(value);\n}\n"
         ]
        },
        "id": "16517180032783302870",
        "imports": {
         "data": [],
         "type": "async_block"
        },
        "mount_callbacks": [],
        "observables": {
         "obs-output": {
          "id": "ob_26",
          "sync": false,
          "value": "<pre>\"\"</pre>"
         }
        },
        "systemjs_options": null
       },
       "nodeType": "Scope",
       "props": {},
       "type": "node"
      },
      "text/html": [
       "<div\n",
       "    class=\"webio-mountpoint\"\n",
       "    data-webio-mountpoint=\"2804023840753123832\"\n",
       ">\n",
       "    <script>\n",
       "    if (window.require && require.defined && require.defined(\"nbextensions/webio-jupyter-notebook\")) {\n",
       "        console.log(\"Jupyter WebIO extension detected, not mounting.\");\n",
       "    } else if (window.WebIO) {\n",
       "        WebIO.mount(\n",
       "            document.querySelector('[data-webio-mountpoint=\"2804023840753123832\"]'),\n",
       "            {\"props\":{},\"nodeType\":\"Scope\",\"type\":\"node\",\"instanceArgs\":{\"imports\":{\"data\":[],\"type\":\"async_block\"},\"id\":\"15376654333690151021\",\"handlers\":{\"obs-output\":[\"function (value, scope) {\\n    scope.setInnerHTML(value);\\n}\\n\"]},\"systemjs_options\":null,\"mount_callbacks\":[],\"observables\":{\"obs-output\":{\"sync\":false,\"id\":\"ob_25\",\"value\":\"<pre>\\\"\\\"<\\/pre>\"}}},\"children\":[{\"props\":{\"className\":\"webio-observable\",\"setInnerHtml\":\"<pre>\\\"\\\"<\\/pre>\"},\"nodeType\":\"DOM\",\"type\":\"node\",\"instanceArgs\":{\"namespace\":\"html\",\"tag\":\"div\"},\"children\":[]}]},\n",
       "            window,\n",
       "        );\n",
       "    } else {\n",
       "        document\n",
       "            .querySelector('[data-webio-mountpoint=\"2804023840753123832\"]')\n",
       "            .innerHTML = (\n",
       "                '<strong>WebIO not detected. Please read ' +\n",
       "                '<a href=\"https://juliagizmos.github.io/WebIO.jl/latest/troubleshooting/not-detected/\">the troubleshooting guide</a> ' +\n",
       "                'for more information on how to resolve this issue.' +\n",
       "                '</strong>'\n",
       "            );\n",
       "    }\n",
       "    </script>\n",
       "</div>\n"
      ],
      "text/plain": [
       "Observable{Any} with 0 listeners. Value:\n",
       "\"\""
      ]
     },
     "metadata": {
      "application/vnd.webio.node+json": {
       "kernelId": "d28b9f55-0f48-4f9f-975f-a2bafbcbc949"
      }
     },
     "output_type": "display_data"
    }
   ],
   "source": [
    "using Random\n",
    "Random.seed!(2)\n",
    "arms = 3\n",
    "b = Bandit(arms)\n",
    "banditTrial(b)"
   ]
  },
  {
   "cell_type": "markdown",
   "metadata": {},
   "source": [
    "## Bayesian Model Estimation"
   ]
  },
  {
   "cell_type": "code",
   "execution_count": 3,
   "metadata": {},
   "outputs": [
    {
     "data": {
      "application/vnd.webio.node+json": {
       "children": [
        {
         "children": [
          {
           "children": [
            "Arm 1"
           ],
           "instanceArgs": {
            "namespace": "html",
            "tag": "button"
           },
           "nodeType": "DOM",
           "props": {
            "attributes": {
             "data-bind": "click: function (){this.clicks(this.clicks()+1)}, css: {'is-loading' : loading}"
            },
            "className": "is-medium button is-primary",
            "style": {}
           },
           "type": "node"
          }
         ],
         "instanceArgs": {
          "handlers": {
           "clicks": [
            "(function (val){return (val!=this.model[\"clicks\"]()) ? (this.valueFromJulia[\"clicks\"]=true, this.model[\"clicks\"](val)) : undefined})"
           ],
           "loading": [
            "(function (val){return (val!=this.model[\"loading\"]()) ? (this.valueFromJulia[\"loading\"]=true, this.model[\"loading\"](val)) : undefined})"
           ]
          },
          "id": "114117384469995074",
          "imports": {
           "data": [
            {
             "name": "knockout",
             "type": "js",
             "url": "/assetserver/c20779c1e6a079277e91dddf7bd670ca92eea868-knockout.js"
            },
            {
             "name": "knockout_punches",
             "type": "js",
             "url": "/assetserver/5d0eeef6d78927a4d06f8ff08a99add46d138283-knockout_punches.js"
            },
            {
             "name": null,
             "type": "js",
             "url": "/assetserver/cb26fe9e57bb1abef82b7eb58e12f018a1428e64-all.js"
            },
            {
             "name": null,
             "type": "css",
             "url": "/assetserver/d5c3b0a1dece742679a111cbb2e6bd04a8ca0e64-style.css"
            },
            {
             "name": null,
             "type": "css",
             "url": "/assetserver/457039d154101dcb9f0c19c2735b1d6e2c611d84-bulma_confined.min.css"
            }
           ],
           "type": "async_block"
          },
          "mount_callbacks": [
           "function () {\n    var handler = (function (ko, koPunches) {\n    ko.punches.enableAll();\n    ko.bindingHandlers.numericValue = {\n        init: function(element, valueAccessor, allBindings, data, context) {\n            var stringified = ko.observable(ko.unwrap(valueAccessor()));\n            stringified.subscribe(function(value) {\n                var val = parseFloat(value);\n                if (!isNaN(val)) {\n                    valueAccessor()(val);\n                }\n            });\n            valueAccessor().subscribe(function(value) {\n                var str = JSON.stringify(value);\n                if ((str == \"0\") && ([\"-0\", \"-0.\"].indexOf(stringified()) >= 0))\n                     return;\n                 if ([\"null\", \"\"].indexOf(str) >= 0)\n                     return;\n                stringified(str);\n            });\n            ko.applyBindingsToNode(\n                element,\n                {\n                    value: stringified,\n                    valueUpdate: allBindings.get('valueUpdate'),\n                },\n                context,\n            );\n        }\n    };\n    var json_data = {\"loading\":WebIO.getval({\"name\":\"loading\",\"scope\":\"114117384469995074\",\"id\":\"ob_32\",\"type\":\"observable\"}),\"clicks\":WebIO.getval({\"name\":\"clicks\",\"scope\":\"114117384469995074\",\"id\":\"ob_31\",\"type\":\"observable\"})};\n    var self = this;\n    function AppViewModel() {\n        for (var key in json_data) {\n            var el = json_data[key];\n            this[key] = Array.isArray(el) ? ko.observableArray(el) : ko.observable(el);\n        }\n        \n        \n        [this[\"loading\"].subscribe((function (val){!(this.valueFromJulia[\"loading\"]) ? (WebIO.setval({\"name\":\"loading\",\"scope\":\"114117384469995074\",\"id\":\"ob_32\",\"type\":\"observable\"},val)) : undefined; return this.valueFromJulia[\"loading\"]=false}),self),this[\"clicks\"].subscribe((function (val){!(this.valueFromJulia[\"clicks\"]) ? (WebIO.setval({\"name\":\"clicks\",\"scope\":\"114117384469995074\",\"id\":\"ob_31\",\"type\":\"observable\"},val)) : undefined; return this.valueFromJulia[\"clicks\"]=false}),self)]\n        \n    }\n    self.model = new AppViewModel();\n    self.valueFromJulia = {};\n    for (var key in json_data) {\n        self.valueFromJulia[key] = false;\n    }\n    ko.applyBindings(self.model, self.dom);\n}\n);\n    (WebIO.importBlock({\"data\":[{\"name\":\"knockout\",\"type\":\"js\",\"url\":\"/assetserver/c20779c1e6a079277e91dddf7bd670ca92eea868-knockout.js\"},{\"name\":\"knockout_punches\",\"type\":\"js\",\"url\":\"/assetserver/5d0eeef6d78927a4d06f8ff08a99add46d138283-knockout_punches.js\"}],\"type\":\"async_block\"})).then((imports) => handler.apply(this, imports));\n}\n"
          ],
          "observables": {
           "clicks": {
            "id": "ob_31",
            "sync": false,
            "value": 0
           },
           "loading": {
            "id": "ob_32",
            "sync": false,
            "value": false
           }
          },
          "systemjs_options": null
         },
         "nodeType": "Scope",
         "props": {},
         "type": "node"
        }
       ],
       "instanceArgs": {
        "namespace": "html",
        "tag": "div"
       },
       "nodeType": "DOM",
       "props": {
        "className": "field interact-widget"
       },
       "type": "node"
      },
      "text/html": [
       "<div\n",
       "    class=\"webio-mountpoint\"\n",
       "    data-webio-mountpoint=\"12740044028282268581\"\n",
       ">\n",
       "    <script>\n",
       "    if (window.require && require.defined && require.defined(\"nbextensions/webio-jupyter-notebook\")) {\n",
       "        console.log(\"Jupyter WebIO extension detected, not mounting.\");\n",
       "    } else if (window.WebIO) {\n",
       "        WebIO.mount(\n",
       "            document.querySelector('[data-webio-mountpoint=\"12740044028282268581\"]'),\n",
       "            {\"props\":{\"className\":\"field interact-widget\"},\"nodeType\":\"DOM\",\"type\":\"node\",\"instanceArgs\":{\"namespace\":\"html\",\"tag\":\"div\"},\"children\":[{\"props\":{},\"nodeType\":\"Scope\",\"type\":\"node\",\"instanceArgs\":{\"imports\":{\"data\":[{\"name\":\"knockout\",\"type\":\"js\",\"url\":\"\\/assetserver\\/c20779c1e6a079277e91dddf7bd670ca92eea868-knockout.js\"},{\"name\":\"knockout_punches\",\"type\":\"js\",\"url\":\"\\/assetserver\\/5d0eeef6d78927a4d06f8ff08a99add46d138283-knockout_punches.js\"},{\"name\":null,\"type\":\"js\",\"url\":\"\\/assetserver\\/cb26fe9e57bb1abef82b7eb58e12f018a1428e64-all.js\"},{\"name\":null,\"type\":\"css\",\"url\":\"\\/assetserver\\/d5c3b0a1dece742679a111cbb2e6bd04a8ca0e64-style.css\"},{\"name\":null,\"type\":\"css\",\"url\":\"\\/assetserver\\/457039d154101dcb9f0c19c2735b1d6e2c611d84-bulma_confined.min.css\"}],\"type\":\"async_block\"},\"id\":\"114117384469995074\",\"handlers\":{\"loading\":[\"(function (val){return (val!=this.model[\\\"loading\\\"]()) ? (this.valueFromJulia[\\\"loading\\\"]=true, this.model[\\\"loading\\\"](val)) : undefined})\"],\"clicks\":[\"(function (val){return (val!=this.model[\\\"clicks\\\"]()) ? (this.valueFromJulia[\\\"clicks\\\"]=true, this.model[\\\"clicks\\\"](val)) : undefined})\"]},\"systemjs_options\":null,\"mount_callbacks\":[\"function () {\\n    var handler = (function (ko, koPunches) {\\n    ko.punches.enableAll();\\n    ko.bindingHandlers.numericValue = {\\n        init: function(element, valueAccessor, allBindings, data, context) {\\n            var stringified = ko.observable(ko.unwrap(valueAccessor()));\\n            stringified.subscribe(function(value) {\\n                var val = parseFloat(value);\\n                if (!isNaN(val)) {\\n                    valueAccessor()(val);\\n                }\\n            });\\n            valueAccessor().subscribe(function(value) {\\n                var str = JSON.stringify(value);\\n                if ((str == \\\"0\\\") && ([\\\"-0\\\", \\\"-0.\\\"].indexOf(stringified()) >= 0))\\n                     return;\\n                 if ([\\\"null\\\", \\\"\\\"].indexOf(str) >= 0)\\n                     return;\\n                stringified(str);\\n            });\\n            ko.applyBindingsToNode(\\n                element,\\n                {\\n                    value: stringified,\\n                    valueUpdate: allBindings.get('valueUpdate'),\\n                },\\n                context,\\n            );\\n        }\\n    };\\n    var json_data = {\\\"loading\\\":WebIO.getval({\\\"name\\\":\\\"loading\\\",\\\"scope\\\":\\\"114117384469995074\\\",\\\"id\\\":\\\"ob_32\\\",\\\"type\\\":\\\"observable\\\"}),\\\"clicks\\\":WebIO.getval({\\\"name\\\":\\\"clicks\\\",\\\"scope\\\":\\\"114117384469995074\\\",\\\"id\\\":\\\"ob_31\\\",\\\"type\\\":\\\"observable\\\"})};\\n    var self = this;\\n    function AppViewModel() {\\n        for (var key in json_data) {\\n            var el = json_data[key];\\n            this[key] = Array.isArray(el) ? ko.observableArray(el) : ko.observable(el);\\n        }\\n        \\n        \\n        [this[\\\"loading\\\"].subscribe((function (val){!(this.valueFromJulia[\\\"loading\\\"]) ? (WebIO.setval({\\\"name\\\":\\\"loading\\\",\\\"scope\\\":\\\"114117384469995074\\\",\\\"id\\\":\\\"ob_32\\\",\\\"type\\\":\\\"observable\\\"},val)) : undefined; return this.valueFromJulia[\\\"loading\\\"]=false}),self),this[\\\"clicks\\\"].subscribe((function (val){!(this.valueFromJulia[\\\"clicks\\\"]) ? (WebIO.setval({\\\"name\\\":\\\"clicks\\\",\\\"scope\\\":\\\"114117384469995074\\\",\\\"id\\\":\\\"ob_31\\\",\\\"type\\\":\\\"observable\\\"},val)) : undefined; return this.valueFromJulia[\\\"clicks\\\"]=false}),self)]\\n        \\n    }\\n    self.model = new AppViewModel();\\n    self.valueFromJulia = {};\\n    for (var key in json_data) {\\n        self.valueFromJulia[key] = false;\\n    }\\n    ko.applyBindings(self.model, self.dom);\\n}\\n);\\n    (WebIO.importBlock({\\\"data\\\":[{\\\"name\\\":\\\"knockout\\\",\\\"type\\\":\\\"js\\\",\\\"url\\\":\\\"\\/assetserver\\/c20779c1e6a079277e91dddf7bd670ca92eea868-knockout.js\\\"},{\\\"name\\\":\\\"knockout_punches\\\",\\\"type\\\":\\\"js\\\",\\\"url\\\":\\\"\\/assetserver\\/5d0eeef6d78927a4d06f8ff08a99add46d138283-knockout_punches.js\\\"}],\\\"type\\\":\\\"async_block\\\"})).then((imports) => handler.apply(this, imports));\\n}\\n\"],\"observables\":{\"loading\":{\"sync\":false,\"id\":\"ob_32\",\"value\":false},\"clicks\":{\"sync\":false,\"id\":\"ob_31\",\"value\":0}}},\"children\":[{\"props\":{\"attributes\":{\"data-bind\":\"click: function (){this.clicks(this.clicks()+1)}, css: {'is-loading' : loading}\"},\"className\":\"is-medium button is-primary\",\"style\":{}},\"nodeType\":\"DOM\",\"type\":\"node\",\"instanceArgs\":{\"namespace\":\"html\",\"tag\":\"button\"},\"children\":[\"Arm 1\"]}]}]},\n",
       "            window,\n",
       "        );\n",
       "    } else {\n",
       "        document\n",
       "            .querySelector('[data-webio-mountpoint=\"12740044028282268581\"]')\n",
       "            .innerHTML = (\n",
       "                '<strong>WebIO not detected. Please read ' +\n",
       "                '<a href=\"https://juliagizmos.github.io/WebIO.jl/latest/troubleshooting/not-detected/\">the troubleshooting guide</a> ' +\n",
       "                'for more information on how to resolve this issue.' +\n",
       "                '</strong>'\n",
       "            );\n",
       "    }\n",
       "    </script>\n",
       "</div>\n"
      ],
      "text/plain": [
       "(div { className=\"field interact-widget\" }\n",
       "    (button { attributes=Dict{Any,Any}(\"data-bind\" => \"click: function (){this.clicks(this.clicks()+1)}, css: {'is-loading' : loading}\") className=\"is-medium button is-primary\" style=Dict{String,Any}() }\n",
       "    \"Arm 1\"))"
      ]
     },
     "metadata": {
      "application/vnd.webio.node+json": {
       "kernelId": "d28b9f55-0f48-4f9f-975f-a2bafbcbc949"
      }
     },
     "output_type": "display_data"
    },
    {
     "data": {
      "application/vnd.webio.node+json": {
       "children": [
        {
         "children": [],
         "instanceArgs": {
          "namespace": "html",
          "tag": "div"
         },
         "nodeType": "DOM",
         "props": {
          "className": "webio-observable",
          "setInnerHtml": "<pre>\"0 wins out of 0 tries (NaN percent)\"</pre>"
         },
         "type": "node"
        }
       ],
       "instanceArgs": {
        "handlers": {
         "obs-output": [
          "function (value, scope) {\n    scope.setInnerHTML(value);\n}\n"
         ]
        },
        "id": "9582559220489248153",
        "imports": {
         "data": [],
         "type": "async_block"
        },
        "mount_callbacks": [],
        "observables": {
         "obs-output": {
          "id": "ob_36",
          "sync": false,
          "value": "<pre>\"0 wins out of 0 tries (NaN percent)\"</pre>"
         }
        },
        "systemjs_options": null
       },
       "nodeType": "Scope",
       "props": {},
       "type": "node"
      },
      "text/html": [
       "<div\n",
       "    class=\"webio-mountpoint\"\n",
       "    data-webio-mountpoint=\"7530841033729359828\"\n",
       ">\n",
       "    <script>\n",
       "    if (window.require && require.defined && require.defined(\"nbextensions/webio-jupyter-notebook\")) {\n",
       "        console.log(\"Jupyter WebIO extension detected, not mounting.\");\n",
       "    } else if (window.WebIO) {\n",
       "        WebIO.mount(\n",
       "            document.querySelector('[data-webio-mountpoint=\"7530841033729359828\"]'),\n",
       "            {\"props\":{},\"nodeType\":\"Scope\",\"type\":\"node\",\"instanceArgs\":{\"imports\":{\"data\":[],\"type\":\"async_block\"},\"id\":\"14991787219097415081\",\"handlers\":{\"obs-output\":[\"function (value, scope) {\\n    scope.setInnerHTML(value);\\n}\\n\"]},\"systemjs_options\":null,\"mount_callbacks\":[],\"observables\":{\"obs-output\":{\"sync\":false,\"id\":\"ob_35\",\"value\":\"<pre>\\\"0 wins out of 0 tries (NaN percent)\\\"<\\/pre>\"}}},\"children\":[{\"props\":{\"className\":\"webio-observable\",\"setInnerHtml\":\"<pre>\\\"0 wins out of 0 tries (NaN percent)\\\"<\\/pre>\"},\"nodeType\":\"DOM\",\"type\":\"node\",\"instanceArgs\":{\"namespace\":\"html\",\"tag\":\"div\"},\"children\":[]}]},\n",
       "            window,\n",
       "        );\n",
       "    } else {\n",
       "        document\n",
       "            .querySelector('[data-webio-mountpoint=\"7530841033729359828\"]')\n",
       "            .innerHTML = (\n",
       "                '<strong>WebIO not detected. Please read ' +\n",
       "                '<a href=\"https://juliagizmos.github.io/WebIO.jl/latest/troubleshooting/not-detected/\">the troubleshooting guide</a> ' +\n",
       "                'for more information on how to resolve this issue.' +\n",
       "                '</strong>'\n",
       "            );\n",
       "    }\n",
       "    </script>\n",
       "</div>\n"
      ],
      "text/plain": [
       "Observable{Any} with 0 listeners. Value:\n",
       "\"0 wins out of 0 tries (NaN percent)\""
      ]
     },
     "metadata": {
      "application/vnd.webio.node+json": {
       "kernelId": "d28b9f55-0f48-4f9f-975f-a2bafbcbc949"
      }
     },
     "output_type": "display_data"
    },
    {
     "data": {
      "application/vnd.webio.node+json": {
       "children": [
        {
         "children": [],
         "instanceArgs": {
          "namespace": "html",
          "tag": "div"
         },
         "nodeType": "DOM",
         "props": {
          "className": "webio-observable",
          "setInnerHtml": "<?xml version=\"1.0\" encoding=\"UTF-8\"?>\n<svg xmlns=\"http://www.w3.org/2000/svg\" xmlns:xlink=\"http://www.w3.org/1999/xlink\" width=\"405.745pt\" height=\"252.092pt\" viewBox=\"0 0 405.745 252.092\" version=\"1.1\">\n<defs>\n<g>\n<symbol overflow=\"visible\" id=\"glyph-1567442442225001-0-0\">\n<path style=\"stroke:none;\" d=\"\"/>\n</symbol>\n<symbol overflow=\"visible\" id=\"glyph-1567442442225001-0-1\">\n<path style=\"stroke:none;\" d=\"M 4.578125 -3.1875 C 4.578125 -3.984375 4.53125 -4.78125 4.1875 -5.515625 C 3.734375 -6.484375 2.90625 -6.640625 2.5 -6.640625 C 1.890625 -6.640625 1.171875 -6.375 0.75 -5.453125 C 0.4375 -4.765625 0.390625 -3.984375 0.390625 -3.1875 C 0.390625 -2.4375 0.421875 -1.546875 0.84375 -0.78125 C 1.265625 0.015625 2 0.21875 2.484375 0.21875 C 3.015625 0.21875 3.78125 0.015625 4.21875 -0.9375 C 4.53125 -1.625 4.578125 -2.40625 4.578125 -3.1875 Z M 2.484375 0 C 2.09375 0 1.5 -0.25 1.328125 -1.203125 C 1.21875 -1.796875 1.21875 -2.71875 1.21875 -3.3125 C 1.21875 -3.953125 1.21875 -4.609375 1.296875 -5.140625 C 1.484375 -6.328125 2.234375 -6.421875 2.484375 -6.421875 C 2.8125 -6.421875 3.46875 -6.234375 3.65625 -5.25 C 3.765625 -4.6875 3.765625 -3.9375 3.765625 -3.3125 C 3.765625 -2.5625 3.765625 -1.890625 3.65625 -1.25 C 3.5 -0.296875 2.9375 0 2.484375 0 Z M 2.484375 0 \"/>\n</symbol>\n<symbol overflow=\"visible\" id=\"glyph-1567442442225001-0-2\">\n<path style=\"stroke:none;\" d=\"M 2.9375 -6.375 C 2.9375 -6.625 2.9375 -6.640625 2.703125 -6.640625 C 2.078125 -6 1.203125 -6 0.890625 -6 L 0.890625 -5.6875 C 1.09375 -5.6875 1.671875 -5.6875 2.1875 -5.953125 L 2.1875 -0.78125 C 2.1875 -0.421875 2.15625 -0.3125 1.265625 -0.3125 L 0.953125 -0.3125 L 0.953125 0 C 1.296875 -0.03125 2.15625 -0.03125 2.5625 -0.03125 C 2.953125 -0.03125 3.828125 -0.03125 4.171875 0 L 4.171875 -0.3125 L 3.859375 -0.3125 C 2.953125 -0.3125 2.9375 -0.421875 2.9375 -0.78125 Z M 2.9375 -6.375 \"/>\n</symbol>\n<symbol overflow=\"visible\" id=\"glyph-1567442442225001-0-3\">\n<path style=\"stroke:none;\" d=\"M 1.265625 -0.765625 L 2.328125 -1.796875 C 3.875 -3.171875 4.46875 -3.703125 4.46875 -4.703125 C 4.46875 -5.84375 3.578125 -6.640625 2.359375 -6.640625 C 1.234375 -6.640625 0.5 -5.71875 0.5 -4.828125 C 0.5 -4.28125 1 -4.28125 1.03125 -4.28125 C 1.203125 -4.28125 1.546875 -4.390625 1.546875 -4.8125 C 1.546875 -5.0625 1.359375 -5.328125 1.015625 -5.328125 C 0.9375 -5.328125 0.921875 -5.328125 0.890625 -5.3125 C 1.109375 -5.96875 1.65625 -6.328125 2.234375 -6.328125 C 3.140625 -6.328125 3.5625 -5.515625 3.5625 -4.703125 C 3.5625 -3.90625 3.078125 -3.125 2.515625 -2.5 L 0.609375 -0.375 C 0.5 -0.265625 0.5 -0.234375 0.5 0 L 4.203125 0 L 4.46875 -1.734375 L 4.234375 -1.734375 C 4.171875 -1.4375 4.109375 -1 4 -0.84375 C 3.9375 -0.765625 3.28125 -0.765625 3.0625 -0.765625 Z M 1.265625 -0.765625 \"/>\n</symbol>\n<symbol overflow=\"visible\" id=\"glyph-1567442442225001-0-4\">\n<path style=\"stroke:none;\" d=\"M 2.890625 -3.515625 C 3.703125 -3.78125 4.28125 -4.46875 4.28125 -5.265625 C 4.28125 -6.078125 3.40625 -6.640625 2.453125 -6.640625 C 1.453125 -6.640625 0.6875 -6.046875 0.6875 -5.28125 C 0.6875 -4.953125 0.90625 -4.765625 1.203125 -4.765625 C 1.5 -4.765625 1.703125 -4.984375 1.703125 -5.28125 C 1.703125 -5.765625 1.234375 -5.765625 1.09375 -5.765625 C 1.390625 -6.265625 2.046875 -6.390625 2.40625 -6.390625 C 2.828125 -6.390625 3.375 -6.171875 3.375 -5.28125 C 3.375 -5.15625 3.34375 -4.578125 3.09375 -4.140625 C 2.796875 -3.65625 2.453125 -3.625 2.203125 -3.625 C 2.125 -3.609375 1.890625 -3.59375 1.8125 -3.59375 C 1.734375 -3.578125 1.671875 -3.5625 1.671875 -3.46875 C 1.671875 -3.359375 1.734375 -3.359375 1.90625 -3.359375 L 2.34375 -3.359375 C 3.15625 -3.359375 3.53125 -2.6875 3.53125 -1.703125 C 3.53125 -0.34375 2.84375 -0.0625 2.40625 -0.0625 C 1.96875 -0.0625 1.21875 -0.234375 0.875 -0.8125 C 1.21875 -0.765625 1.53125 -0.984375 1.53125 -1.359375 C 1.53125 -1.71875 1.265625 -1.921875 0.984375 -1.921875 C 0.734375 -1.921875 0.421875 -1.78125 0.421875 -1.34375 C 0.421875 -0.4375 1.34375 0.21875 2.4375 0.21875 C 3.65625 0.21875 4.5625 -0.6875 4.5625 -1.703125 C 4.5625 -2.515625 3.921875 -3.296875 2.890625 -3.515625 Z M 2.890625 -3.515625 \"/>\n</symbol>\n<symbol overflow=\"visible\" id=\"glyph-1567442442225001-0-5\">\n<path style=\"stroke:none;\" d=\"M 2.9375 -1.640625 L 2.9375 -0.78125 C 2.9375 -0.421875 2.90625 -0.3125 2.171875 -0.3125 L 1.96875 -0.3125 L 1.96875 0 C 2.375 -0.03125 2.890625 -0.03125 3.3125 -0.03125 C 3.734375 -0.03125 4.25 -0.03125 4.671875 0 L 4.671875 -0.3125 L 4.453125 -0.3125 C 3.71875 -0.3125 3.703125 -0.421875 3.703125 -0.78125 L 3.703125 -1.640625 L 4.6875 -1.640625 L 4.6875 -1.953125 L 3.703125 -1.953125 L 3.703125 -6.484375 C 3.703125 -6.6875 3.703125 -6.75 3.53125 -6.75 C 3.453125 -6.75 3.421875 -6.75 3.34375 -6.625 L 0.28125 -1.953125 L 0.28125 -1.640625 Z M 2.984375 -1.953125 L 0.5625 -1.953125 L 2.984375 -5.671875 Z M 2.984375 -1.953125 \"/>\n</symbol>\n<symbol overflow=\"visible\" id=\"glyph-1567442442225001-0-6\">\n<path style=\"stroke:none;\" d=\"M 4.46875 -2 C 4.46875 -3.1875 3.65625 -4.1875 2.578125 -4.1875 C 2.109375 -4.1875 1.671875 -4.03125 1.3125 -3.671875 L 1.3125 -5.625 C 1.515625 -5.5625 1.84375 -5.5 2.15625 -5.5 C 3.390625 -5.5 4.09375 -6.40625 4.09375 -6.53125 C 4.09375 -6.59375 4.0625 -6.640625 3.984375 -6.640625 C 3.984375 -6.640625 3.953125 -6.640625 3.90625 -6.609375 C 3.703125 -6.515625 3.21875 -6.3125 2.546875 -6.3125 C 2.15625 -6.3125 1.6875 -6.390625 1.21875 -6.59375 C 1.140625 -6.625 1.125 -6.625 1.109375 -6.625 C 1 -6.625 1 -6.546875 1 -6.390625 L 1 -3.4375 C 1 -3.265625 1 -3.1875 1.140625 -3.1875 C 1.21875 -3.1875 1.234375 -3.203125 1.28125 -3.265625 C 1.390625 -3.421875 1.75 -3.96875 2.5625 -3.96875 C 3.078125 -3.96875 3.328125 -3.515625 3.40625 -3.328125 C 3.5625 -2.953125 3.59375 -2.578125 3.59375 -2.078125 C 3.59375 -1.71875 3.59375 -1.125 3.34375 -0.703125 C 3.109375 -0.3125 2.734375 -0.0625 2.28125 -0.0625 C 1.5625 -0.0625 0.984375 -0.59375 0.8125 -1.171875 C 0.84375 -1.171875 0.875 -1.15625 0.984375 -1.15625 C 1.3125 -1.15625 1.484375 -1.40625 1.484375 -1.640625 C 1.484375 -1.890625 1.3125 -2.140625 0.984375 -2.140625 C 0.84375 -2.140625 0.5 -2.0625 0.5 -1.609375 C 0.5 -0.75 1.1875 0.21875 2.296875 0.21875 C 3.453125 0.21875 4.46875 -0.734375 4.46875 -2 Z M 4.46875 -2 \"/>\n</symbol>\n<symbol overflow=\"visible\" id=\"glyph-1567442442225001-0-7\">\n<path style=\"stroke:none;\" d=\"M 1.3125 -3.265625 L 1.3125 -3.515625 C 1.3125 -6.03125 2.546875 -6.390625 3.0625 -6.390625 C 3.296875 -6.390625 3.71875 -6.328125 3.9375 -5.984375 C 3.78125 -5.984375 3.390625 -5.984375 3.390625 -5.546875 C 3.390625 -5.234375 3.625 -5.078125 3.84375 -5.078125 C 4 -5.078125 4.3125 -5.171875 4.3125 -5.5625 C 4.3125 -6.15625 3.875 -6.640625 3.046875 -6.640625 C 1.765625 -6.640625 0.421875 -5.359375 0.421875 -3.15625 C 0.421875 -0.484375 1.578125 0.21875 2.5 0.21875 C 3.609375 0.21875 4.5625 -0.71875 4.5625 -2.03125 C 4.5625 -3.296875 3.671875 -4.25 2.5625 -4.25 C 1.890625 -4.25 1.515625 -3.75 1.3125 -3.265625 Z M 2.5 -0.0625 C 1.875 -0.0625 1.578125 -0.65625 1.515625 -0.8125 C 1.328125 -1.28125 1.328125 -2.078125 1.328125 -2.25 C 1.328125 -3.03125 1.65625 -4.03125 2.546875 -4.03125 C 2.71875 -4.03125 3.171875 -4.03125 3.484375 -3.40625 C 3.65625 -3.046875 3.65625 -2.53125 3.65625 -2.046875 C 3.65625 -1.5625 3.65625 -1.0625 3.484375 -0.703125 C 3.1875 -0.109375 2.734375 -0.0625 2.5 -0.0625 Z M 2.5 -0.0625 \"/>\n</symbol>\n<symbol overflow=\"visible\" id=\"glyph-1567442442225001-0-8\">\n<path style=\"stroke:none;\" d=\"M 4.75 -6.078125 C 4.828125 -6.1875 4.828125 -6.203125 4.828125 -6.421875 L 2.40625 -6.421875 C 1.203125 -6.421875 1.171875 -6.546875 1.140625 -6.734375 L 0.890625 -6.734375 L 0.5625 -4.6875 L 0.8125 -4.6875 C 0.84375 -4.84375 0.921875 -5.46875 1.0625 -5.59375 C 1.125 -5.65625 1.90625 -5.65625 2.03125 -5.65625 L 4.09375 -5.65625 C 3.984375 -5.5 3.203125 -4.40625 2.984375 -4.078125 C 2.078125 -2.734375 1.75 -1.34375 1.75 -0.328125 C 1.75 -0.234375 1.75 0.21875 2.21875 0.21875 C 2.671875 0.21875 2.671875 -0.234375 2.671875 -0.328125 L 2.671875 -0.84375 C 2.671875 -1.390625 2.703125 -1.9375 2.78125 -2.46875 C 2.828125 -2.703125 2.953125 -3.5625 3.40625 -4.171875 Z M 4.75 -6.078125 \"/>\n</symbol>\n<symbol overflow=\"visible\" id=\"glyph-1567442442225001-0-9\">\n<path style=\"stroke:none;\" d=\"M 1.625 -4.5625 C 1.171875 -4.859375 1.125 -5.1875 1.125 -5.359375 C 1.125 -5.96875 1.78125 -6.390625 2.484375 -6.390625 C 3.203125 -6.390625 3.84375 -5.875 3.84375 -5.15625 C 3.84375 -4.578125 3.453125 -4.109375 2.859375 -3.765625 Z M 3.078125 -3.609375 C 3.796875 -3.984375 4.28125 -4.5 4.28125 -5.15625 C 4.28125 -6.078125 3.40625 -6.640625 2.5 -6.640625 C 1.5 -6.640625 0.6875 -5.90625 0.6875 -4.96875 C 0.6875 -4.796875 0.703125 -4.34375 1.125 -3.875 C 1.234375 -3.765625 1.609375 -3.515625 1.859375 -3.34375 C 1.28125 -3.046875 0.421875 -2.5 0.421875 -1.5 C 0.421875 -0.453125 1.4375 0.21875 2.484375 0.21875 C 3.609375 0.21875 4.5625 -0.609375 4.5625 -1.671875 C 4.5625 -2.03125 4.453125 -2.484375 4.0625 -2.90625 C 3.875 -3.109375 3.71875 -3.203125 3.078125 -3.609375 Z M 2.078125 -3.1875 L 3.3125 -2.40625 C 3.59375 -2.21875 4.0625 -1.921875 4.0625 -1.3125 C 4.0625 -0.578125 3.3125 -0.0625 2.5 -0.0625 C 1.640625 -0.0625 0.921875 -0.671875 0.921875 -1.5 C 0.921875 -2.078125 1.234375 -2.71875 2.078125 -3.1875 Z M 2.078125 -3.1875 \"/>\n</symbol>\n<symbol overflow=\"visible\" id=\"glyph-1567442442225001-0-10\">\n<path style=\"stroke:none;\" d=\"M 3.65625 -3.171875 L 3.65625 -2.84375 C 3.65625 -0.515625 2.625 -0.0625 2.046875 -0.0625 C 1.875 -0.0625 1.328125 -0.078125 1.0625 -0.421875 C 1.5 -0.421875 1.578125 -0.703125 1.578125 -0.875 C 1.578125 -1.1875 1.34375 -1.328125 1.125 -1.328125 C 0.96875 -1.328125 0.671875 -1.25 0.671875 -0.859375 C 0.671875 -0.1875 1.203125 0.21875 2.046875 0.21875 C 3.34375 0.21875 4.5625 -1.140625 4.5625 -3.28125 C 4.5625 -5.96875 3.40625 -6.640625 2.515625 -6.640625 C 1.96875 -6.640625 1.484375 -6.453125 1.0625 -6.015625 C 0.640625 -5.5625 0.421875 -5.140625 0.421875 -4.390625 C 0.421875 -3.15625 1.296875 -2.171875 2.40625 -2.171875 C 3.015625 -2.171875 3.421875 -2.59375 3.65625 -3.171875 Z M 2.421875 -2.40625 C 2.265625 -2.40625 1.796875 -2.40625 1.5 -3.03125 C 1.3125 -3.40625 1.3125 -3.890625 1.3125 -4.390625 C 1.3125 -4.921875 1.3125 -5.390625 1.53125 -5.765625 C 1.796875 -6.265625 2.171875 -6.390625 2.515625 -6.390625 C 2.984375 -6.390625 3.3125 -6.046875 3.484375 -5.609375 C 3.59375 -5.28125 3.640625 -4.65625 3.640625 -4.203125 C 3.640625 -3.375 3.296875 -2.40625 2.421875 -2.40625 Z M 2.421875 -2.40625 \"/>\n</symbol>\n<symbol overflow=\"visible\" id=\"glyph-1567442442225001-1-0\">\n<path style=\"stroke:none;\" d=\"\"/>\n</symbol>\n<symbol overflow=\"visible\" id=\"glyph-1567442442225001-1-1\">\n<path style=\"stroke:none;\" d=\"M 1.90625 -0.53125 C 1.90625 -0.8125 1.671875 -1.0625 1.390625 -1.0625 C 1.09375 -1.0625 0.859375 -0.8125 0.859375 -0.53125 C 0.859375 -0.234375 1.09375 0 1.390625 0 C 1.671875 0 1.90625 -0.234375 1.90625 -0.53125 Z M 1.90625 -0.53125 \"/>\n</symbol>\n<symbol overflow=\"visible\" id=\"glyph-1567442442225001-2-0\">\n<path style=\"stroke:none;\" d=\"\"/>\n</symbol>\n<symbol overflow=\"visible\" id=\"glyph-1567442442225001-2-1\">\n<path style=\"stroke:none;\" d=\"M 6.65625 -1.984375 C 6.65625 -2.84375 5.671875 -3.765625 4.5625 -3.890625 L 4.5625 -3.5625 C 5.53125 -3.75 6.390625 -4.546875 6.390625 -5.28125 C 6.390625 -6.15625 5.296875 -7.140625 4 -7.140625 L 0.171875 -7.140625 L 0.171875 -6.5 L 0.59375 -6.5 C 1.359375 -6.5 1.203125 -6.546875 1.203125 -6.1875 L 1.203125 -0.9375 C 1.203125 -0.578125 1.359375 -0.640625 0.59375 -0.640625 L 0.171875 -0.640625 L 0.171875 0 L 4.265625 0 C 5.59375 0 6.65625 -1.046875 6.65625 -1.984375 Z M 5.078125 -5.28125 C 5.078125 -4.640625 4.765625 -3.984375 3.65625 -3.984375 L 2.375 -3.984375 L 2.375 -6.265625 C 2.375 -6.59375 2.234375 -6.5 2.703125 -6.5 L 3.9375 -6.5 C 4.90625 -6.5 5.078125 -5.8125 5.078125 -5.28125 Z M 5.3125 -2 C 5.3125 -1.28125 4.96875 -0.640625 3.953125 -0.640625 L 2.703125 -0.640625 C 2.234375 -0.640625 2.375 -0.53125 2.375 -0.875 L 2.375 -3.421875 L 4.09375 -3.421875 C 5.078125 -3.421875 5.3125 -2.65625 5.3125 -2 Z M 5.3125 -2 \"/>\n</symbol>\n<symbol overflow=\"visible\" id=\"glyph-1567442442225001-2-2\">\n<path style=\"stroke:none;\" d=\"M 4.3125 -1.34375 C 4.3125 -1.453125 4.0625 -1.640625 4 -1.640625 C 3.921875 -1.640625 3.71875 -1.40625 3.703125 -1.328125 C 3.34375 -0.296875 2.625 -0.46875 2.53125 -0.46875 C 2.03125 -0.46875 1.75 -0.71875 1.53125 -1.09375 C 1.21875 -1.5625 1.28125 -2.109375 1.28125 -2.296875 L 3.890625 -2.296875 C 4.109375 -2.296875 4.3125 -2.46875 4.3125 -2.671875 C 4.3125 -3.65625 3.59375 -4.796875 2.359375 -4.796875 C 1.203125 -4.796875 0.09375 -3.59375 0.09375 -2.359375 C 0.09375 -1.015625 1.328125 0.109375 2.46875 0.109375 C 3.6875 0.109375 4.3125 -1.15625 4.3125 -1.34375 Z M 3.484375 -2.84375 L 1.296875 -2.84375 C 1.34375 -4.15625 2.015625 -4.25 2.359375 -4.25 C 3.375 -4.25 3.296875 -3.0625 3.296875 -2.84375 Z M 3.484375 -2.84375 \"/>\n</symbol>\n<symbol overflow=\"visible\" id=\"glyph-1567442442225001-2-3\">\n<path style=\"stroke:none;\" d=\"M 3.484375 -1.390625 L 3.484375 -2.140625 L 2.875 -2.140625 L 2.875 -1.421875 C 2.875 -0.671875 2.765625 -0.46875 2.390625 -0.46875 C 1.71875 -0.46875 1.890625 -1.203125 1.890625 -1.375 L 1.890625 -3.984375 L 3.3125 -3.984375 L 3.3125 -4.625 L 1.890625 -4.625 L 1.890625 -6.453125 L 1.296875 -6.453125 C 1.28125 -5.46875 1.171875 -4.578125 0.015625 -4.53125 L 0.015625 -3.984375 L 0.859375 -3.984375 L 0.859375 -1.390625 C 0.859375 -0.171875 1.96875 0.109375 2.328125 0.109375 C 3.03125 0.109375 3.484375 -0.75 3.484375 -1.390625 Z M 3.484375 -1.390625 \"/>\n</symbol>\n<symbol overflow=\"visible\" id=\"glyph-1567442442225001-2-4\">\n<path style=\"stroke:none;\" d=\"M 4.984375 -1.046875 L 4.984375 -1.78125 L 4.390625 -1.78125 L 4.390625 -1.046875 C 4.390625 -0.46875 4.3125 -0.578125 4.203125 -0.578125 C 3.875 -0.578125 4 -0.859375 4 -0.90625 L 4 -2.90625 C 4 -3.3125 3.953125 -3.828125 3.59375 -4.203125 C 3.203125 -4.578125 2.59375 -4.796875 2.109375 -4.796875 C 1.296875 -4.796875 0.421875 -4.15625 0.421875 -3.5 C 0.421875 -3.203125 0.8125 -2.875 1.0625 -2.875 C 1.34375 -2.875 1.6875 -3.234375 1.6875 -3.484375 C 1.6875 -3.609375 1.46875 -4.109375 1.34375 -4.109375 C 1.40625 -4.1875 1.78125 -4.25 2.09375 -4.25 C 2.578125 -4.25 2.96875 -4.015625 2.96875 -3.125 L 2.96875 -2.921875 C 2.640625 -2.90625 1.9375 -2.875 1.3125 -2.578125 C 0.5625 -2.234375 0.140625 -1.546875 0.140625 -1.109375 C 0.140625 -0.296875 1.28125 0.109375 1.90625 0.109375 C 2.578125 0.109375 3.203125 -0.453125 3.390625 -0.921875 L 3.046875 -0.921875 C 3.078125 -0.515625 3.53125 0.0625 4 0.0625 C 4.203125 0.0625 4.984375 -0.234375 4.984375 -1.046875 Z M 2.96875 -1.5625 C 2.96875 -0.609375 2.4375 -0.4375 1.984375 -0.4375 C 1.5 -0.4375 1.25 -0.625 1.25 -1.109375 C 1.25 -1.671875 1.5 -2.328125 2.96875 -2.375 Z M 2.96875 -1.5625 \"/>\n</symbol>\n<symbol overflow=\"visible\" id=\"glyph-1567442442225001-2-5\">\n<path style=\"stroke:none;\" d=\"M 3.46875 2.234375 C 3.46875 2.203125 3.421875 2.0625 3.25 1.890625 C 2 0.640625 1.734375 -1.125 1.734375 -2.65625 C 1.734375 -4.390625 2.0625 -6.015625 3.296875 -7.25 C 3.421875 -7.375 3.46875 -7.5 3.46875 -7.53125 C 3.46875 -7.609375 3.265625 -7.8125 3.203125 -7.8125 C 3.09375 -7.8125 2.03125 -6.953125 1.4375 -5.6875 C 0.921875 -4.59375 0.8125 -3.484375 0.8125 -2.65625 C 0.8125 -1.875 0.921875 -0.671875 1.46875 0.453125 C 2.0625 1.6875 3.09375 2.5 3.203125 2.5 C 3.265625 2.5 3.46875 2.296875 3.46875 2.234375 Z M 3.46875 2.234375 \"/>\n</symbol>\n<symbol overflow=\"visible\" id=\"glyph-1567442442225001-2-6\">\n<path style=\"stroke:none;\" d=\"M 4.34375 -0.15625 L 4.34375 -0.640625 L 3.859375 -0.640625 C 2.953125 -0.640625 3.09375 -0.578125 3.09375 -0.953125 L 3.09375 -6.546875 C 3.09375 -6.78125 2.9375 -6.96875 2.625 -6.96875 C 1.953125 -6.28125 1.203125 -6.328125 0.703125 -6.328125 L 0.703125 -5.6875 C 1.09375 -5.6875 1.796875 -5.734375 2.015625 -5.859375 L 2.015625 -0.953125 C 2.015625 -0.59375 2.15625 -0.640625 1.265625 -0.640625 L 0.765625 -0.640625 L 0.765625 0.015625 C 1.296875 -0.03125 2.15625 -0.03125 2.5625 -0.03125 C 2.953125 -0.03125 3.828125 -0.03125 4.34375 0.015625 Z M 4.34375 -0.15625 \"/>\n</symbol>\n<symbol overflow=\"visible\" id=\"glyph-1567442442225001-2-7\">\n<path style=\"stroke:none;\" d=\"M 2.1875 -0.171875 C 2.1875 -0.8125 1.78125 -1.390625 1.390625 -1.390625 C 1.03125 -1.390625 0.671875 -0.953125 0.671875 -0.6875 C 0.671875 -0.421875 1.03125 0 1.390625 0 C 1.53125 0 1.796875 -0.109375 1.609375 0.0625 C 1.625 0.46875 1.390625 0.953125 0.953125 1.421875 C 0.890625 1.484375 0.84375 1.609375 0.84375 1.65625 C 0.84375 1.71875 1.0625 1.921875 1.109375 1.921875 C 1.234375 1.921875 2.1875 0.984375 2.1875 -0.171875 Z M 2.1875 -0.171875 \"/>\n</symbol>\n<symbol overflow=\"visible\" id=\"glyph-1567442442225001-2-8\">\n<path style=\"stroke:none;\" d=\"M 3.046875 -2.65625 C 3.046875 -3.421875 2.9375 -4.640625 2.390625 -5.765625 C 1.796875 -6.984375 0.765625 -7.8125 0.671875 -7.8125 C 0.609375 -7.8125 0.390625 -7.59375 0.390625 -7.53125 C 0.390625 -7.5 0.4375 -7.375 0.625 -7.203125 C 1.609375 -6.203125 2.125 -4.734375 2.125 -2.65625 C 2.125 -0.953125 1.796875 0.6875 0.5625 1.9375 C 0.4375 2.0625 0.390625 2.203125 0.390625 2.234375 C 0.390625 2.296875 0.609375 2.5 0.671875 2.5 C 0.765625 2.5 1.828125 1.65625 2.421875 0.390625 C 2.9375 -0.703125 3.046875 -1.8125 3.046875 -2.65625 Z M 3.046875 -2.65625 \"/>\n</symbol>\n</g>\n<clipPath id=\"clip-1567442442225001-1\">\n  <path d=\"M 19.570313 21 L 399.9375 21 L 399.9375 23 L 19.570313 23 Z M 19.570313 21 \"/>\n</clipPath>\n</defs>\n<g id=\"surface1\">\n<path style=\"fill:none;stroke-width:0.19925;stroke-linecap:butt;stroke-linejoin:miter;stroke:rgb(50%,50%,50%);stroke-opacity:1;stroke-miterlimit:10;\" d=\"M 0.0003125 -0.00103125 L 0.0003125 4.252875 M 38.035469 -0.00103125 L 38.035469 4.252875 M 76.074531 -0.00103125 L 76.074531 4.252875 M 114.109688 -0.00103125 L 114.109688 4.252875 M 152.14875 -0.00103125 L 152.14875 4.252875 M 190.183906 -0.00103125 L 190.183906 4.252875 M 228.222969 -0.00103125 L 228.222969 4.252875 M 266.258125 -0.00103125 L 266.258125 4.252875 M 304.293281 -0.00103125 L 304.293281 4.252875 M 342.332344 -0.00103125 L 342.332344 4.252875 M 380.3675 -0.00103125 L 380.3675 4.252875 M 0.0003125 238.635688 L 0.0003125 234.381781 M 38.035469 238.635688 L 38.035469 234.381781 M 76.074531 238.635688 L 76.074531 234.381781 M 114.109688 238.635688 L 114.109688 234.381781 M 152.14875 238.635688 L 152.14875 234.381781 M 190.183906 238.635688 L 190.183906 234.381781 M 228.222969 238.635688 L 228.222969 234.381781 M 266.258125 238.635688 L 266.258125 234.381781 M 304.293281 238.635688 L 304.293281 234.381781 M 342.332344 238.635688 L 342.332344 234.381781 M 380.3675 238.635688 L 380.3675 234.381781 \" transform=\"matrix(1,0,0,-1,19.57,238.831)\"/>\n<path style=\"fill:none;stroke-width:0.19925;stroke-linecap:butt;stroke-linejoin:miter;stroke:rgb(50%,50%,50%);stroke-opacity:1;stroke-miterlimit:10;\" d=\"M 0.0003125 -0.00103125 L 4.254219 -0.00103125 M 0.0003125 43.389594 L 4.254219 43.389594 M 0.0003125 86.776313 L 4.254219 86.776313 M 0.0003125 130.163031 L 4.254219 130.163031 M 0.0003125 173.553656 L 4.254219 173.553656 M 0.0003125 216.940375 L 4.254219 216.940375 M 380.3675 -0.00103125 L 376.1175 -0.00103125 M 380.3675 43.389594 L 376.1175 43.389594 M 380.3675 86.776313 L 376.1175 86.776313 M 380.3675 130.163031 L 376.1175 130.163031 M 380.3675 173.553656 L 376.1175 173.553656 M 380.3675 216.940375 L 376.1175 216.940375 \" transform=\"matrix(1,0,0,-1,19.57,238.831)\"/>\n<path style=\"fill:none;stroke-width:0.3985;stroke-linecap:butt;stroke-linejoin:miter;stroke:rgb(0%,0%,0%);stroke-opacity:1;stroke-miterlimit:10;\" d=\"M 0.0003125 -0.00103125 L 0.0003125 238.635688 L 380.3675 238.635688 L 380.3675 -0.00103125 Z M 0.0003125 -0.00103125 \" transform=\"matrix(1,0,0,-1,19.57,238.831)\"/>\n<g style=\"fill:rgb(0%,0%,0%);fill-opacity:1;\">\n  <use xlink:href=\"#glyph-1567442442225001-0-1\" x=\"17.08\" y=\"248.771\"/>\n</g>\n<g style=\"fill:rgb(0%,0%,0%);fill-opacity:1;\">\n  <use xlink:href=\"#glyph-1567442442225001-0-1\" x=\"51.242\" y=\"248.771\"/>\n</g>\n<g style=\"fill:rgb(0%,0%,0%);fill-opacity:1;\">\n  <use xlink:href=\"#glyph-1567442442225001-1-1\" x=\"56.223\" y=\"248.771\"/>\n</g>\n<g style=\"fill:rgb(0%,0%,0%);fill-opacity:1;\">\n  <use xlink:href=\"#glyph-1567442442225001-0-2\" x=\"58.99\" y=\"248.771\"/>\n</g>\n<g style=\"fill:rgb(0%,0%,0%);fill-opacity:1;\">\n  <use xlink:href=\"#glyph-1567442442225001-0-1\" x=\"89.278\" y=\"248.771\"/>\n</g>\n<g style=\"fill:rgb(0%,0%,0%);fill-opacity:1;\">\n  <use xlink:href=\"#glyph-1567442442225001-1-1\" x=\"94.259\" y=\"248.771\"/>\n</g>\n<g style=\"fill:rgb(0%,0%,0%);fill-opacity:1;\">\n  <use xlink:href=\"#glyph-1567442442225001-0-3\" x=\"97.027\" y=\"248.771\"/>\n</g>\n<g style=\"fill:rgb(0%,0%,0%);fill-opacity:1;\">\n  <use xlink:href=\"#glyph-1567442442225001-0-1\" x=\"127.314\" y=\"248.771\"/>\n</g>\n<g style=\"fill:rgb(0%,0%,0%);fill-opacity:1;\">\n  <use xlink:href=\"#glyph-1567442442225001-1-1\" x=\"132.296\" y=\"248.771\"/>\n</g>\n<g style=\"fill:rgb(0%,0%,0%);fill-opacity:1;\">\n  <use xlink:href=\"#glyph-1567442442225001-0-4\" x=\"135.063\" y=\"248.771\"/>\n</g>\n<g style=\"fill:rgb(0%,0%,0%);fill-opacity:1;\">\n  <use xlink:href=\"#glyph-1567442442225001-0-1\" x=\"165.351\" y=\"248.771\"/>\n</g>\n<g style=\"fill:rgb(0%,0%,0%);fill-opacity:1;\">\n  <use xlink:href=\"#glyph-1567442442225001-1-1\" x=\"170.332\" y=\"248.771\"/>\n</g>\n<g style=\"fill:rgb(0%,0%,0%);fill-opacity:1;\">\n  <use xlink:href=\"#glyph-1567442442225001-0-5\" x=\"173.1\" y=\"248.771\"/>\n</g>\n<g style=\"fill:rgb(0%,0%,0%);fill-opacity:1;\">\n  <use xlink:href=\"#glyph-1567442442225001-0-1\" x=\"203.387\" y=\"248.771\"/>\n</g>\n<g style=\"fill:rgb(0%,0%,0%);fill-opacity:1;\">\n  <use xlink:href=\"#glyph-1567442442225001-1-1\" x=\"208.369\" y=\"248.771\"/>\n</g>\n<g style=\"fill:rgb(0%,0%,0%);fill-opacity:1;\">\n  <use xlink:href=\"#glyph-1567442442225001-0-6\" x=\"211.136\" y=\"248.771\"/>\n</g>\n<g style=\"fill:rgb(0%,0%,0%);fill-opacity:1;\">\n  <use xlink:href=\"#glyph-1567442442225001-0-1\" x=\"241.424\" y=\"248.771\"/>\n</g>\n<g style=\"fill:rgb(0%,0%,0%);fill-opacity:1;\">\n  <use xlink:href=\"#glyph-1567442442225001-1-1\" x=\"246.405\" y=\"248.771\"/>\n</g>\n<g style=\"fill:rgb(0%,0%,0%);fill-opacity:1;\">\n  <use xlink:href=\"#glyph-1567442442225001-0-7\" x=\"249.172\" y=\"248.771\"/>\n</g>\n<g style=\"fill:rgb(0%,0%,0%);fill-opacity:1;\">\n  <use xlink:href=\"#glyph-1567442442225001-0-1\" x=\"279.46\" y=\"248.771\"/>\n</g>\n<g style=\"fill:rgb(0%,0%,0%);fill-opacity:1;\">\n  <use xlink:href=\"#glyph-1567442442225001-1-1\" x=\"284.441\" y=\"248.771\"/>\n</g>\n<g style=\"fill:rgb(0%,0%,0%);fill-opacity:1;\">\n  <use xlink:href=\"#glyph-1567442442225001-0-8\" x=\"287.209\" y=\"248.771\"/>\n</g>\n<g style=\"fill:rgb(0%,0%,0%);fill-opacity:1;\">\n  <use xlink:href=\"#glyph-1567442442225001-0-1\" x=\"317.496\" y=\"248.771\"/>\n</g>\n<g style=\"fill:rgb(0%,0%,0%);fill-opacity:1;\">\n  <use xlink:href=\"#glyph-1567442442225001-1-1\" x=\"322.478\" y=\"248.771\"/>\n</g>\n<g style=\"fill:rgb(0%,0%,0%);fill-opacity:1;\">\n  <use xlink:href=\"#glyph-1567442442225001-0-9\" x=\"325.245\" y=\"248.771\"/>\n</g>\n<g style=\"fill:rgb(0%,0%,0%);fill-opacity:1;\">\n  <use xlink:href=\"#glyph-1567442442225001-0-1\" x=\"355.533\" y=\"248.771\"/>\n</g>\n<g style=\"fill:rgb(0%,0%,0%);fill-opacity:1;\">\n  <use xlink:href=\"#glyph-1567442442225001-1-1\" x=\"360.514\" y=\"248.771\"/>\n</g>\n<g style=\"fill:rgb(0%,0%,0%);fill-opacity:1;\">\n  <use xlink:href=\"#glyph-1567442442225001-0-10\" x=\"363.281\" y=\"248.771\"/>\n</g>\n<g style=\"fill:rgb(0%,0%,0%);fill-opacity:1;\">\n  <use xlink:href=\"#glyph-1567442442225001-0-2\" x=\"397.443\" y=\"248.771\"/>\n</g>\n<g style=\"fill:rgb(0%,0%,0%);fill-opacity:1;\">\n  <use xlink:href=\"#glyph-1567442442225001-0-1\" x=\"11.069\" y=\"242.042\"/>\n</g>\n<g style=\"fill:rgb(0%,0%,0%);fill-opacity:1;\">\n  <use xlink:href=\"#glyph-1567442442225001-0-1\" x=\"3.321\" y=\"198.654\"/>\n</g>\n<g style=\"fill:rgb(0%,0%,0%);fill-opacity:1;\">\n  <use xlink:href=\"#glyph-1567442442225001-1-1\" x=\"8.302\" y=\"198.654\"/>\n</g>\n<g style=\"fill:rgb(0%,0%,0%);fill-opacity:1;\">\n  <use xlink:href=\"#glyph-1567442442225001-0-3\" x=\"11.069\" y=\"198.654\"/>\n</g>\n<g style=\"fill:rgb(0%,0%,0%);fill-opacity:1;\">\n  <use xlink:href=\"#glyph-1567442442225001-0-1\" x=\"3.321\" y=\"155.267\"/>\n</g>\n<g style=\"fill:rgb(0%,0%,0%);fill-opacity:1;\">\n  <use xlink:href=\"#glyph-1567442442225001-1-1\" x=\"8.302\" y=\"155.267\"/>\n</g>\n<g style=\"fill:rgb(0%,0%,0%);fill-opacity:1;\">\n  <use xlink:href=\"#glyph-1567442442225001-0-5\" x=\"11.069\" y=\"155.267\"/>\n</g>\n<g style=\"fill:rgb(0%,0%,0%);fill-opacity:1;\">\n  <use xlink:href=\"#glyph-1567442442225001-0-1\" x=\"3.321\" y=\"111.879\"/>\n</g>\n<g style=\"fill:rgb(0%,0%,0%);fill-opacity:1;\">\n  <use xlink:href=\"#glyph-1567442442225001-1-1\" x=\"8.302\" y=\"111.879\"/>\n</g>\n<g style=\"fill:rgb(0%,0%,0%);fill-opacity:1;\">\n  <use xlink:href=\"#glyph-1567442442225001-0-7\" x=\"11.069\" y=\"111.879\"/>\n</g>\n<g style=\"fill:rgb(0%,0%,0%);fill-opacity:1;\">\n  <use xlink:href=\"#glyph-1567442442225001-0-1\" x=\"3.321\" y=\"68.492\"/>\n</g>\n<g style=\"fill:rgb(0%,0%,0%);fill-opacity:1;\">\n  <use xlink:href=\"#glyph-1567442442225001-1-1\" x=\"8.302\" y=\"68.492\"/>\n</g>\n<g style=\"fill:rgb(0%,0%,0%);fill-opacity:1;\">\n  <use xlink:href=\"#glyph-1567442442225001-0-9\" x=\"11.069\" y=\"68.492\"/>\n</g>\n<g style=\"fill:rgb(0%,0%,0%);fill-opacity:1;\">\n  <use xlink:href=\"#glyph-1567442442225001-0-2\" x=\"11.069\" y=\"25.104\"/>\n</g>\n<g clip-path=\"url(#clip-1567442442225001-1)\" clip-rule=\"nonzero\">\n<path style=\"fill:none;stroke-width:0.3985;stroke-linecap:butt;stroke-linejoin:miter;stroke:rgb(0%,0%,100%);stroke-opacity:1;stroke-miterlimit:10;\" d=\"M 0.0003125 216.940375 L 380.3675 216.940375 \" transform=\"matrix(1,0,0,-1,19.57,238.831)\"/>\n</g>\n<path style=\"fill-rule:nonzero;fill:rgb(100%,100%,100%);fill-opacity:1;stroke-width:0.3985;stroke-linecap:butt;stroke-linejoin:miter;stroke:rgb(0%,0%,0%);stroke-opacity:1;stroke-miterlimit:10;\" d=\"M 301.055 216.725531 L 372.558906 216.725531 L 372.558906 233.663031 L 301.055 233.663031 Z M 301.055 216.725531 \" transform=\"matrix(1,0,0,-1,19.57,238.831)\"/>\n<path style=\"fill:none;stroke-width:0.3985;stroke-linecap:butt;stroke-linejoin:miter;stroke:rgb(0%,0%,100%);stroke-opacity:1;stroke-miterlimit:10;\" d=\"M -0.00140625 -0.000625 L 17.006406 -0.000625 \" transform=\"matrix(1,0,0,-1,323.81,13.64)\"/>\n<g style=\"fill:rgb(0%,0%,0%);fill-opacity:1;\">\n  <use xlink:href=\"#glyph-1567442442225001-2-1\" x=\"343.01\" y=\"16.629\"/>\n  <use xlink:href=\"#glyph-1567442442225001-2-2\" x=\"350.063549\" y=\"16.629\"/>\n  <use xlink:href=\"#glyph-1567442442225001-2-3\" x=\"354.486961\" y=\"16.629\"/>\n  <use xlink:href=\"#glyph-1567442442225001-2-4\" x=\"358.362428\" y=\"16.629\"/>\n  <use xlink:href=\"#glyph-1567442442225001-2-5\" x=\"363.343748\" y=\"16.629\"/>\n  <use xlink:href=\"#glyph-1567442442225001-2-6\" x=\"367.219215\" y=\"16.629\"/>\n  <use xlink:href=\"#glyph-1567442442225001-2-7\" x=\"372.200535\" y=\"16.629\"/>\n</g>\n<g style=\"fill:rgb(0%,0%,0%);fill-opacity:1;\">\n  <use xlink:href=\"#glyph-1567442442225001-2-6\" x=\"378.287708\" y=\"16.629\"/>\n  <use xlink:href=\"#glyph-1567442442225001-2-8\" x=\"383.269028\" y=\"16.629\"/>\n</g>\n</g>\n</svg>\n\n"
         },
         "type": "node"
        }
       ],
       "instanceArgs": {
        "handlers": {
         "obs-output": [
          "function (value, scope) {\n    scope.setInnerHTML(value);\n}\n"
         ]
        },
        "id": "12495121835185848382",
        "imports": {
         "data": [],
         "type": "async_block"
        },
        "mount_callbacks": [],
        "observables": {
         "obs-output": {
          "id": "ob_39",
          "sync": false,
          "value": "<?xml version=\"1.0\" encoding=\"UTF-8\"?>\n<svg xmlns=\"http://www.w3.org/2000/svg\" xmlns:xlink=\"http://www.w3.org/1999/xlink\" width=\"405.745pt\" height=\"252.092pt\" viewBox=\"0 0 405.745 252.092\" version=\"1.1\">\n<defs>\n<g>\n<symbol overflow=\"visible\" id=\"glyph-1567442442225001-0-0\">\n<path style=\"stroke:none;\" d=\"\"/>\n</symbol>\n<symbol overflow=\"visible\" id=\"glyph-1567442442225001-0-1\">\n<path style=\"stroke:none;\" d=\"M 4.578125 -3.1875 C 4.578125 -3.984375 4.53125 -4.78125 4.1875 -5.515625 C 3.734375 -6.484375 2.90625 -6.640625 2.5 -6.640625 C 1.890625 -6.640625 1.171875 -6.375 0.75 -5.453125 C 0.4375 -4.765625 0.390625 -3.984375 0.390625 -3.1875 C 0.390625 -2.4375 0.421875 -1.546875 0.84375 -0.78125 C 1.265625 0.015625 2 0.21875 2.484375 0.21875 C 3.015625 0.21875 3.78125 0.015625 4.21875 -0.9375 C 4.53125 -1.625 4.578125 -2.40625 4.578125 -3.1875 Z M 2.484375 0 C 2.09375 0 1.5 -0.25 1.328125 -1.203125 C 1.21875 -1.796875 1.21875 -2.71875 1.21875 -3.3125 C 1.21875 -3.953125 1.21875 -4.609375 1.296875 -5.140625 C 1.484375 -6.328125 2.234375 -6.421875 2.484375 -6.421875 C 2.8125 -6.421875 3.46875 -6.234375 3.65625 -5.25 C 3.765625 -4.6875 3.765625 -3.9375 3.765625 -3.3125 C 3.765625 -2.5625 3.765625 -1.890625 3.65625 -1.25 C 3.5 -0.296875 2.9375 0 2.484375 0 Z M 2.484375 0 \"/>\n</symbol>\n<symbol overflow=\"visible\" id=\"glyph-1567442442225001-0-2\">\n<path style=\"stroke:none;\" d=\"M 2.9375 -6.375 C 2.9375 -6.625 2.9375 -6.640625 2.703125 -6.640625 C 2.078125 -6 1.203125 -6 0.890625 -6 L 0.890625 -5.6875 C 1.09375 -5.6875 1.671875 -5.6875 2.1875 -5.953125 L 2.1875 -0.78125 C 2.1875 -0.421875 2.15625 -0.3125 1.265625 -0.3125 L 0.953125 -0.3125 L 0.953125 0 C 1.296875 -0.03125 2.15625 -0.03125 2.5625 -0.03125 C 2.953125 -0.03125 3.828125 -0.03125 4.171875 0 L 4.171875 -0.3125 L 3.859375 -0.3125 C 2.953125 -0.3125 2.9375 -0.421875 2.9375 -0.78125 Z M 2.9375 -6.375 \"/>\n</symbol>\n<symbol overflow=\"visible\" id=\"glyph-1567442442225001-0-3\">\n<path style=\"stroke:none;\" d=\"M 1.265625 -0.765625 L 2.328125 -1.796875 C 3.875 -3.171875 4.46875 -3.703125 4.46875 -4.703125 C 4.46875 -5.84375 3.578125 -6.640625 2.359375 -6.640625 C 1.234375 -6.640625 0.5 -5.71875 0.5 -4.828125 C 0.5 -4.28125 1 -4.28125 1.03125 -4.28125 C 1.203125 -4.28125 1.546875 -4.390625 1.546875 -4.8125 C 1.546875 -5.0625 1.359375 -5.328125 1.015625 -5.328125 C 0.9375 -5.328125 0.921875 -5.328125 0.890625 -5.3125 C 1.109375 -5.96875 1.65625 -6.328125 2.234375 -6.328125 C 3.140625 -6.328125 3.5625 -5.515625 3.5625 -4.703125 C 3.5625 -3.90625 3.078125 -3.125 2.515625 -2.5 L 0.609375 -0.375 C 0.5 -0.265625 0.5 -0.234375 0.5 0 L 4.203125 0 L 4.46875 -1.734375 L 4.234375 -1.734375 C 4.171875 -1.4375 4.109375 -1 4 -0.84375 C 3.9375 -0.765625 3.28125 -0.765625 3.0625 -0.765625 Z M 1.265625 -0.765625 \"/>\n</symbol>\n<symbol overflow=\"visible\" id=\"glyph-1567442442225001-0-4\">\n<path style=\"stroke:none;\" d=\"M 2.890625 -3.515625 C 3.703125 -3.78125 4.28125 -4.46875 4.28125 -5.265625 C 4.28125 -6.078125 3.40625 -6.640625 2.453125 -6.640625 C 1.453125 -6.640625 0.6875 -6.046875 0.6875 -5.28125 C 0.6875 -4.953125 0.90625 -4.765625 1.203125 -4.765625 C 1.5 -4.765625 1.703125 -4.984375 1.703125 -5.28125 C 1.703125 -5.765625 1.234375 -5.765625 1.09375 -5.765625 C 1.390625 -6.265625 2.046875 -6.390625 2.40625 -6.390625 C 2.828125 -6.390625 3.375 -6.171875 3.375 -5.28125 C 3.375 -5.15625 3.34375 -4.578125 3.09375 -4.140625 C 2.796875 -3.65625 2.453125 -3.625 2.203125 -3.625 C 2.125 -3.609375 1.890625 -3.59375 1.8125 -3.59375 C 1.734375 -3.578125 1.671875 -3.5625 1.671875 -3.46875 C 1.671875 -3.359375 1.734375 -3.359375 1.90625 -3.359375 L 2.34375 -3.359375 C 3.15625 -3.359375 3.53125 -2.6875 3.53125 -1.703125 C 3.53125 -0.34375 2.84375 -0.0625 2.40625 -0.0625 C 1.96875 -0.0625 1.21875 -0.234375 0.875 -0.8125 C 1.21875 -0.765625 1.53125 -0.984375 1.53125 -1.359375 C 1.53125 -1.71875 1.265625 -1.921875 0.984375 -1.921875 C 0.734375 -1.921875 0.421875 -1.78125 0.421875 -1.34375 C 0.421875 -0.4375 1.34375 0.21875 2.4375 0.21875 C 3.65625 0.21875 4.5625 -0.6875 4.5625 -1.703125 C 4.5625 -2.515625 3.921875 -3.296875 2.890625 -3.515625 Z M 2.890625 -3.515625 \"/>\n</symbol>\n<symbol overflow=\"visible\" id=\"glyph-1567442442225001-0-5\">\n<path style=\"stroke:none;\" d=\"M 2.9375 -1.640625 L 2.9375 -0.78125 C 2.9375 -0.421875 2.90625 -0.3125 2.171875 -0.3125 L 1.96875 -0.3125 L 1.96875 0 C 2.375 -0.03125 2.890625 -0.03125 3.3125 -0.03125 C 3.734375 -0.03125 4.25 -0.03125 4.671875 0 L 4.671875 -0.3125 L 4.453125 -0.3125 C 3.71875 -0.3125 3.703125 -0.421875 3.703125 -0.78125 L 3.703125 -1.640625 L 4.6875 -1.640625 L 4.6875 -1.953125 L 3.703125 -1.953125 L 3.703125 -6.484375 C 3.703125 -6.6875 3.703125 -6.75 3.53125 -6.75 C 3.453125 -6.75 3.421875 -6.75 3.34375 -6.625 L 0.28125 -1.953125 L 0.28125 -1.640625 Z M 2.984375 -1.953125 L 0.5625 -1.953125 L 2.984375 -5.671875 Z M 2.984375 -1.953125 \"/>\n</symbol>\n<symbol overflow=\"visible\" id=\"glyph-1567442442225001-0-6\">\n<path style=\"stroke:none;\" d=\"M 4.46875 -2 C 4.46875 -3.1875 3.65625 -4.1875 2.578125 -4.1875 C 2.109375 -4.1875 1.671875 -4.03125 1.3125 -3.671875 L 1.3125 -5.625 C 1.515625 -5.5625 1.84375 -5.5 2.15625 -5.5 C 3.390625 -5.5 4.09375 -6.40625 4.09375 -6.53125 C 4.09375 -6.59375 4.0625 -6.640625 3.984375 -6.640625 C 3.984375 -6.640625 3.953125 -6.640625 3.90625 -6.609375 C 3.703125 -6.515625 3.21875 -6.3125 2.546875 -6.3125 C 2.15625 -6.3125 1.6875 -6.390625 1.21875 -6.59375 C 1.140625 -6.625 1.125 -6.625 1.109375 -6.625 C 1 -6.625 1 -6.546875 1 -6.390625 L 1 -3.4375 C 1 -3.265625 1 -3.1875 1.140625 -3.1875 C 1.21875 -3.1875 1.234375 -3.203125 1.28125 -3.265625 C 1.390625 -3.421875 1.75 -3.96875 2.5625 -3.96875 C 3.078125 -3.96875 3.328125 -3.515625 3.40625 -3.328125 C 3.5625 -2.953125 3.59375 -2.578125 3.59375 -2.078125 C 3.59375 -1.71875 3.59375 -1.125 3.34375 -0.703125 C 3.109375 -0.3125 2.734375 -0.0625 2.28125 -0.0625 C 1.5625 -0.0625 0.984375 -0.59375 0.8125 -1.171875 C 0.84375 -1.171875 0.875 -1.15625 0.984375 -1.15625 C 1.3125 -1.15625 1.484375 -1.40625 1.484375 -1.640625 C 1.484375 -1.890625 1.3125 -2.140625 0.984375 -2.140625 C 0.84375 -2.140625 0.5 -2.0625 0.5 -1.609375 C 0.5 -0.75 1.1875 0.21875 2.296875 0.21875 C 3.453125 0.21875 4.46875 -0.734375 4.46875 -2 Z M 4.46875 -2 \"/>\n</symbol>\n<symbol overflow=\"visible\" id=\"glyph-1567442442225001-0-7\">\n<path style=\"stroke:none;\" d=\"M 1.3125 -3.265625 L 1.3125 -3.515625 C 1.3125 -6.03125 2.546875 -6.390625 3.0625 -6.390625 C 3.296875 -6.390625 3.71875 -6.328125 3.9375 -5.984375 C 3.78125 -5.984375 3.390625 -5.984375 3.390625 -5.546875 C 3.390625 -5.234375 3.625 -5.078125 3.84375 -5.078125 C 4 -5.078125 4.3125 -5.171875 4.3125 -5.5625 C 4.3125 -6.15625 3.875 -6.640625 3.046875 -6.640625 C 1.765625 -6.640625 0.421875 -5.359375 0.421875 -3.15625 C 0.421875 -0.484375 1.578125 0.21875 2.5 0.21875 C 3.609375 0.21875 4.5625 -0.71875 4.5625 -2.03125 C 4.5625 -3.296875 3.671875 -4.25 2.5625 -4.25 C 1.890625 -4.25 1.515625 -3.75 1.3125 -3.265625 Z M 2.5 -0.0625 C 1.875 -0.0625 1.578125 -0.65625 1.515625 -0.8125 C 1.328125 -1.28125 1.328125 -2.078125 1.328125 -2.25 C 1.328125 -3.03125 1.65625 -4.03125 2.546875 -4.03125 C 2.71875 -4.03125 3.171875 -4.03125 3.484375 -3.40625 C 3.65625 -3.046875 3.65625 -2.53125 3.65625 -2.046875 C 3.65625 -1.5625 3.65625 -1.0625 3.484375 -0.703125 C 3.1875 -0.109375 2.734375 -0.0625 2.5 -0.0625 Z M 2.5 -0.0625 \"/>\n</symbol>\n<symbol overflow=\"visible\" id=\"glyph-1567442442225001-0-8\">\n<path style=\"stroke:none;\" d=\"M 4.75 -6.078125 C 4.828125 -6.1875 4.828125 -6.203125 4.828125 -6.421875 L 2.40625 -6.421875 C 1.203125 -6.421875 1.171875 -6.546875 1.140625 -6.734375 L 0.890625 -6.734375 L 0.5625 -4.6875 L 0.8125 -4.6875 C 0.84375 -4.84375 0.921875 -5.46875 1.0625 -5.59375 C 1.125 -5.65625 1.90625 -5.65625 2.03125 -5.65625 L 4.09375 -5.65625 C 3.984375 -5.5 3.203125 -4.40625 2.984375 -4.078125 C 2.078125 -2.734375 1.75 -1.34375 1.75 -0.328125 C 1.75 -0.234375 1.75 0.21875 2.21875 0.21875 C 2.671875 0.21875 2.671875 -0.234375 2.671875 -0.328125 L 2.671875 -0.84375 C 2.671875 -1.390625 2.703125 -1.9375 2.78125 -2.46875 C 2.828125 -2.703125 2.953125 -3.5625 3.40625 -4.171875 Z M 4.75 -6.078125 \"/>\n</symbol>\n<symbol overflow=\"visible\" id=\"glyph-1567442442225001-0-9\">\n<path style=\"stroke:none;\" d=\"M 1.625 -4.5625 C 1.171875 -4.859375 1.125 -5.1875 1.125 -5.359375 C 1.125 -5.96875 1.78125 -6.390625 2.484375 -6.390625 C 3.203125 -6.390625 3.84375 -5.875 3.84375 -5.15625 C 3.84375 -4.578125 3.453125 -4.109375 2.859375 -3.765625 Z M 3.078125 -3.609375 C 3.796875 -3.984375 4.28125 -4.5 4.28125 -5.15625 C 4.28125 -6.078125 3.40625 -6.640625 2.5 -6.640625 C 1.5 -6.640625 0.6875 -5.90625 0.6875 -4.96875 C 0.6875 -4.796875 0.703125 -4.34375 1.125 -3.875 C 1.234375 -3.765625 1.609375 -3.515625 1.859375 -3.34375 C 1.28125 -3.046875 0.421875 -2.5 0.421875 -1.5 C 0.421875 -0.453125 1.4375 0.21875 2.484375 0.21875 C 3.609375 0.21875 4.5625 -0.609375 4.5625 -1.671875 C 4.5625 -2.03125 4.453125 -2.484375 4.0625 -2.90625 C 3.875 -3.109375 3.71875 -3.203125 3.078125 -3.609375 Z M 2.078125 -3.1875 L 3.3125 -2.40625 C 3.59375 -2.21875 4.0625 -1.921875 4.0625 -1.3125 C 4.0625 -0.578125 3.3125 -0.0625 2.5 -0.0625 C 1.640625 -0.0625 0.921875 -0.671875 0.921875 -1.5 C 0.921875 -2.078125 1.234375 -2.71875 2.078125 -3.1875 Z M 2.078125 -3.1875 \"/>\n</symbol>\n<symbol overflow=\"visible\" id=\"glyph-1567442442225001-0-10\">\n<path style=\"stroke:none;\" d=\"M 3.65625 -3.171875 L 3.65625 -2.84375 C 3.65625 -0.515625 2.625 -0.0625 2.046875 -0.0625 C 1.875 -0.0625 1.328125 -0.078125 1.0625 -0.421875 C 1.5 -0.421875 1.578125 -0.703125 1.578125 -0.875 C 1.578125 -1.1875 1.34375 -1.328125 1.125 -1.328125 C 0.96875 -1.328125 0.671875 -1.25 0.671875 -0.859375 C 0.671875 -0.1875 1.203125 0.21875 2.046875 0.21875 C 3.34375 0.21875 4.5625 -1.140625 4.5625 -3.28125 C 4.5625 -5.96875 3.40625 -6.640625 2.515625 -6.640625 C 1.96875 -6.640625 1.484375 -6.453125 1.0625 -6.015625 C 0.640625 -5.5625 0.421875 -5.140625 0.421875 -4.390625 C 0.421875 -3.15625 1.296875 -2.171875 2.40625 -2.171875 C 3.015625 -2.171875 3.421875 -2.59375 3.65625 -3.171875 Z M 2.421875 -2.40625 C 2.265625 -2.40625 1.796875 -2.40625 1.5 -3.03125 C 1.3125 -3.40625 1.3125 -3.890625 1.3125 -4.390625 C 1.3125 -4.921875 1.3125 -5.390625 1.53125 -5.765625 C 1.796875 -6.265625 2.171875 -6.390625 2.515625 -6.390625 C 2.984375 -6.390625 3.3125 -6.046875 3.484375 -5.609375 C 3.59375 -5.28125 3.640625 -4.65625 3.640625 -4.203125 C 3.640625 -3.375 3.296875 -2.40625 2.421875 -2.40625 Z M 2.421875 -2.40625 \"/>\n</symbol>\n<symbol overflow=\"visible\" id=\"glyph-1567442442225001-1-0\">\n<path style=\"stroke:none;\" d=\"\"/>\n</symbol>\n<symbol overflow=\"visible\" id=\"glyph-1567442442225001-1-1\">\n<path style=\"stroke:none;\" d=\"M 1.90625 -0.53125 C 1.90625 -0.8125 1.671875 -1.0625 1.390625 -1.0625 C 1.09375 -1.0625 0.859375 -0.8125 0.859375 -0.53125 C 0.859375 -0.234375 1.09375 0 1.390625 0 C 1.671875 0 1.90625 -0.234375 1.90625 -0.53125 Z M 1.90625 -0.53125 \"/>\n</symbol>\n<symbol overflow=\"visible\" id=\"glyph-1567442442225001-2-0\">\n<path style=\"stroke:none;\" d=\"\"/>\n</symbol>\n<symbol overflow=\"visible\" id=\"glyph-1567442442225001-2-1\">\n<path style=\"stroke:none;\" d=\"M 6.65625 -1.984375 C 6.65625 -2.84375 5.671875 -3.765625 4.5625 -3.890625 L 4.5625 -3.5625 C 5.53125 -3.75 6.390625 -4.546875 6.390625 -5.28125 C 6.390625 -6.15625 5.296875 -7.140625 4 -7.140625 L 0.171875 -7.140625 L 0.171875 -6.5 L 0.59375 -6.5 C 1.359375 -6.5 1.203125 -6.546875 1.203125 -6.1875 L 1.203125 -0.9375 C 1.203125 -0.578125 1.359375 -0.640625 0.59375 -0.640625 L 0.171875 -0.640625 L 0.171875 0 L 4.265625 0 C 5.59375 0 6.65625 -1.046875 6.65625 -1.984375 Z M 5.078125 -5.28125 C 5.078125 -4.640625 4.765625 -3.984375 3.65625 -3.984375 L 2.375 -3.984375 L 2.375 -6.265625 C 2.375 -6.59375 2.234375 -6.5 2.703125 -6.5 L 3.9375 -6.5 C 4.90625 -6.5 5.078125 -5.8125 5.078125 -5.28125 Z M 5.3125 -2 C 5.3125 -1.28125 4.96875 -0.640625 3.953125 -0.640625 L 2.703125 -0.640625 C 2.234375 -0.640625 2.375 -0.53125 2.375 -0.875 L 2.375 -3.421875 L 4.09375 -3.421875 C 5.078125 -3.421875 5.3125 -2.65625 5.3125 -2 Z M 5.3125 -2 \"/>\n</symbol>\n<symbol overflow=\"visible\" id=\"glyph-1567442442225001-2-2\">\n<path style=\"stroke:none;\" d=\"M 4.3125 -1.34375 C 4.3125 -1.453125 4.0625 -1.640625 4 -1.640625 C 3.921875 -1.640625 3.71875 -1.40625 3.703125 -1.328125 C 3.34375 -0.296875 2.625 -0.46875 2.53125 -0.46875 C 2.03125 -0.46875 1.75 -0.71875 1.53125 -1.09375 C 1.21875 -1.5625 1.28125 -2.109375 1.28125 -2.296875 L 3.890625 -2.296875 C 4.109375 -2.296875 4.3125 -2.46875 4.3125 -2.671875 C 4.3125 -3.65625 3.59375 -4.796875 2.359375 -4.796875 C 1.203125 -4.796875 0.09375 -3.59375 0.09375 -2.359375 C 0.09375 -1.015625 1.328125 0.109375 2.46875 0.109375 C 3.6875 0.109375 4.3125 -1.15625 4.3125 -1.34375 Z M 3.484375 -2.84375 L 1.296875 -2.84375 C 1.34375 -4.15625 2.015625 -4.25 2.359375 -4.25 C 3.375 -4.25 3.296875 -3.0625 3.296875 -2.84375 Z M 3.484375 -2.84375 \"/>\n</symbol>\n<symbol overflow=\"visible\" id=\"glyph-1567442442225001-2-3\">\n<path style=\"stroke:none;\" d=\"M 3.484375 -1.390625 L 3.484375 -2.140625 L 2.875 -2.140625 L 2.875 -1.421875 C 2.875 -0.671875 2.765625 -0.46875 2.390625 -0.46875 C 1.71875 -0.46875 1.890625 -1.203125 1.890625 -1.375 L 1.890625 -3.984375 L 3.3125 -3.984375 L 3.3125 -4.625 L 1.890625 -4.625 L 1.890625 -6.453125 L 1.296875 -6.453125 C 1.28125 -5.46875 1.171875 -4.578125 0.015625 -4.53125 L 0.015625 -3.984375 L 0.859375 -3.984375 L 0.859375 -1.390625 C 0.859375 -0.171875 1.96875 0.109375 2.328125 0.109375 C 3.03125 0.109375 3.484375 -0.75 3.484375 -1.390625 Z M 3.484375 -1.390625 \"/>\n</symbol>\n<symbol overflow=\"visible\" id=\"glyph-1567442442225001-2-4\">\n<path style=\"stroke:none;\" d=\"M 4.984375 -1.046875 L 4.984375 -1.78125 L 4.390625 -1.78125 L 4.390625 -1.046875 C 4.390625 -0.46875 4.3125 -0.578125 4.203125 -0.578125 C 3.875 -0.578125 4 -0.859375 4 -0.90625 L 4 -2.90625 C 4 -3.3125 3.953125 -3.828125 3.59375 -4.203125 C 3.203125 -4.578125 2.59375 -4.796875 2.109375 -4.796875 C 1.296875 -4.796875 0.421875 -4.15625 0.421875 -3.5 C 0.421875 -3.203125 0.8125 -2.875 1.0625 -2.875 C 1.34375 -2.875 1.6875 -3.234375 1.6875 -3.484375 C 1.6875 -3.609375 1.46875 -4.109375 1.34375 -4.109375 C 1.40625 -4.1875 1.78125 -4.25 2.09375 -4.25 C 2.578125 -4.25 2.96875 -4.015625 2.96875 -3.125 L 2.96875 -2.921875 C 2.640625 -2.90625 1.9375 -2.875 1.3125 -2.578125 C 0.5625 -2.234375 0.140625 -1.546875 0.140625 -1.109375 C 0.140625 -0.296875 1.28125 0.109375 1.90625 0.109375 C 2.578125 0.109375 3.203125 -0.453125 3.390625 -0.921875 L 3.046875 -0.921875 C 3.078125 -0.515625 3.53125 0.0625 4 0.0625 C 4.203125 0.0625 4.984375 -0.234375 4.984375 -1.046875 Z M 2.96875 -1.5625 C 2.96875 -0.609375 2.4375 -0.4375 1.984375 -0.4375 C 1.5 -0.4375 1.25 -0.625 1.25 -1.109375 C 1.25 -1.671875 1.5 -2.328125 2.96875 -2.375 Z M 2.96875 -1.5625 \"/>\n</symbol>\n<symbol overflow=\"visible\" id=\"glyph-1567442442225001-2-5\">\n<path style=\"stroke:none;\" d=\"M 3.46875 2.234375 C 3.46875 2.203125 3.421875 2.0625 3.25 1.890625 C 2 0.640625 1.734375 -1.125 1.734375 -2.65625 C 1.734375 -4.390625 2.0625 -6.015625 3.296875 -7.25 C 3.421875 -7.375 3.46875 -7.5 3.46875 -7.53125 C 3.46875 -7.609375 3.265625 -7.8125 3.203125 -7.8125 C 3.09375 -7.8125 2.03125 -6.953125 1.4375 -5.6875 C 0.921875 -4.59375 0.8125 -3.484375 0.8125 -2.65625 C 0.8125 -1.875 0.921875 -0.671875 1.46875 0.453125 C 2.0625 1.6875 3.09375 2.5 3.203125 2.5 C 3.265625 2.5 3.46875 2.296875 3.46875 2.234375 Z M 3.46875 2.234375 \"/>\n</symbol>\n<symbol overflow=\"visible\" id=\"glyph-1567442442225001-2-6\">\n<path style=\"stroke:none;\" d=\"M 4.34375 -0.15625 L 4.34375 -0.640625 L 3.859375 -0.640625 C 2.953125 -0.640625 3.09375 -0.578125 3.09375 -0.953125 L 3.09375 -6.546875 C 3.09375 -6.78125 2.9375 -6.96875 2.625 -6.96875 C 1.953125 -6.28125 1.203125 -6.328125 0.703125 -6.328125 L 0.703125 -5.6875 C 1.09375 -5.6875 1.796875 -5.734375 2.015625 -5.859375 L 2.015625 -0.953125 C 2.015625 -0.59375 2.15625 -0.640625 1.265625 -0.640625 L 0.765625 -0.640625 L 0.765625 0.015625 C 1.296875 -0.03125 2.15625 -0.03125 2.5625 -0.03125 C 2.953125 -0.03125 3.828125 -0.03125 4.34375 0.015625 Z M 4.34375 -0.15625 \"/>\n</symbol>\n<symbol overflow=\"visible\" id=\"glyph-1567442442225001-2-7\">\n<path style=\"stroke:none;\" d=\"M 2.1875 -0.171875 C 2.1875 -0.8125 1.78125 -1.390625 1.390625 -1.390625 C 1.03125 -1.390625 0.671875 -0.953125 0.671875 -0.6875 C 0.671875 -0.421875 1.03125 0 1.390625 0 C 1.53125 0 1.796875 -0.109375 1.609375 0.0625 C 1.625 0.46875 1.390625 0.953125 0.953125 1.421875 C 0.890625 1.484375 0.84375 1.609375 0.84375 1.65625 C 0.84375 1.71875 1.0625 1.921875 1.109375 1.921875 C 1.234375 1.921875 2.1875 0.984375 2.1875 -0.171875 Z M 2.1875 -0.171875 \"/>\n</symbol>\n<symbol overflow=\"visible\" id=\"glyph-1567442442225001-2-8\">\n<path style=\"stroke:none;\" d=\"M 3.046875 -2.65625 C 3.046875 -3.421875 2.9375 -4.640625 2.390625 -5.765625 C 1.796875 -6.984375 0.765625 -7.8125 0.671875 -7.8125 C 0.609375 -7.8125 0.390625 -7.59375 0.390625 -7.53125 C 0.390625 -7.5 0.4375 -7.375 0.625 -7.203125 C 1.609375 -6.203125 2.125 -4.734375 2.125 -2.65625 C 2.125 -0.953125 1.796875 0.6875 0.5625 1.9375 C 0.4375 2.0625 0.390625 2.203125 0.390625 2.234375 C 0.390625 2.296875 0.609375 2.5 0.671875 2.5 C 0.765625 2.5 1.828125 1.65625 2.421875 0.390625 C 2.9375 -0.703125 3.046875 -1.8125 3.046875 -2.65625 Z M 3.046875 -2.65625 \"/>\n</symbol>\n</g>\n<clipPath id=\"clip-1567442442225001-1\">\n  <path d=\"M 19.570313 21 L 399.9375 21 L 399.9375 23 L 19.570313 23 Z M 19.570313 21 \"/>\n</clipPath>\n</defs>\n<g id=\"surface1\">\n<path style=\"fill:none;stroke-width:0.19925;stroke-linecap:butt;stroke-linejoin:miter;stroke:rgb(50%,50%,50%);stroke-opacity:1;stroke-miterlimit:10;\" d=\"M 0.0003125 -0.00103125 L 0.0003125 4.252875 M 38.035469 -0.00103125 L 38.035469 4.252875 M 76.074531 -0.00103125 L 76.074531 4.252875 M 114.109688 -0.00103125 L 114.109688 4.252875 M 152.14875 -0.00103125 L 152.14875 4.252875 M 190.183906 -0.00103125 L 190.183906 4.252875 M 228.222969 -0.00103125 L 228.222969 4.252875 M 266.258125 -0.00103125 L 266.258125 4.252875 M 304.293281 -0.00103125 L 304.293281 4.252875 M 342.332344 -0.00103125 L 342.332344 4.252875 M 380.3675 -0.00103125 L 380.3675 4.252875 M 0.0003125 238.635688 L 0.0003125 234.381781 M 38.035469 238.635688 L 38.035469 234.381781 M 76.074531 238.635688 L 76.074531 234.381781 M 114.109688 238.635688 L 114.109688 234.381781 M 152.14875 238.635688 L 152.14875 234.381781 M 190.183906 238.635688 L 190.183906 234.381781 M 228.222969 238.635688 L 228.222969 234.381781 M 266.258125 238.635688 L 266.258125 234.381781 M 304.293281 238.635688 L 304.293281 234.381781 M 342.332344 238.635688 L 342.332344 234.381781 M 380.3675 238.635688 L 380.3675 234.381781 \" transform=\"matrix(1,0,0,-1,19.57,238.831)\"/>\n<path style=\"fill:none;stroke-width:0.19925;stroke-linecap:butt;stroke-linejoin:miter;stroke:rgb(50%,50%,50%);stroke-opacity:1;stroke-miterlimit:10;\" d=\"M 0.0003125 -0.00103125 L 4.254219 -0.00103125 M 0.0003125 43.389594 L 4.254219 43.389594 M 0.0003125 86.776313 L 4.254219 86.776313 M 0.0003125 130.163031 L 4.254219 130.163031 M 0.0003125 173.553656 L 4.254219 173.553656 M 0.0003125 216.940375 L 4.254219 216.940375 M 380.3675 -0.00103125 L 376.1175 -0.00103125 M 380.3675 43.389594 L 376.1175 43.389594 M 380.3675 86.776313 L 376.1175 86.776313 M 380.3675 130.163031 L 376.1175 130.163031 M 380.3675 173.553656 L 376.1175 173.553656 M 380.3675 216.940375 L 376.1175 216.940375 \" transform=\"matrix(1,0,0,-1,19.57,238.831)\"/>\n<path style=\"fill:none;stroke-width:0.3985;stroke-linecap:butt;stroke-linejoin:miter;stroke:rgb(0%,0%,0%);stroke-opacity:1;stroke-miterlimit:10;\" d=\"M 0.0003125 -0.00103125 L 0.0003125 238.635688 L 380.3675 238.635688 L 380.3675 -0.00103125 Z M 0.0003125 -0.00103125 \" transform=\"matrix(1,0,0,-1,19.57,238.831)\"/>\n<g style=\"fill:rgb(0%,0%,0%);fill-opacity:1;\">\n  <use xlink:href=\"#glyph-1567442442225001-0-1\" x=\"17.08\" y=\"248.771\"/>\n</g>\n<g style=\"fill:rgb(0%,0%,0%);fill-opacity:1;\">\n  <use xlink:href=\"#glyph-1567442442225001-0-1\" x=\"51.242\" y=\"248.771\"/>\n</g>\n<g style=\"fill:rgb(0%,0%,0%);fill-opacity:1;\">\n  <use xlink:href=\"#glyph-1567442442225001-1-1\" x=\"56.223\" y=\"248.771\"/>\n</g>\n<g style=\"fill:rgb(0%,0%,0%);fill-opacity:1;\">\n  <use xlink:href=\"#glyph-1567442442225001-0-2\" x=\"58.99\" y=\"248.771\"/>\n</g>\n<g style=\"fill:rgb(0%,0%,0%);fill-opacity:1;\">\n  <use xlink:href=\"#glyph-1567442442225001-0-1\" x=\"89.278\" y=\"248.771\"/>\n</g>\n<g style=\"fill:rgb(0%,0%,0%);fill-opacity:1;\">\n  <use xlink:href=\"#glyph-1567442442225001-1-1\" x=\"94.259\" y=\"248.771\"/>\n</g>\n<g style=\"fill:rgb(0%,0%,0%);fill-opacity:1;\">\n  <use xlink:href=\"#glyph-1567442442225001-0-3\" x=\"97.027\" y=\"248.771\"/>\n</g>\n<g style=\"fill:rgb(0%,0%,0%);fill-opacity:1;\">\n  <use xlink:href=\"#glyph-1567442442225001-0-1\" x=\"127.314\" y=\"248.771\"/>\n</g>\n<g style=\"fill:rgb(0%,0%,0%);fill-opacity:1;\">\n  <use xlink:href=\"#glyph-1567442442225001-1-1\" x=\"132.296\" y=\"248.771\"/>\n</g>\n<g style=\"fill:rgb(0%,0%,0%);fill-opacity:1;\">\n  <use xlink:href=\"#glyph-1567442442225001-0-4\" x=\"135.063\" y=\"248.771\"/>\n</g>\n<g style=\"fill:rgb(0%,0%,0%);fill-opacity:1;\">\n  <use xlink:href=\"#glyph-1567442442225001-0-1\" x=\"165.351\" y=\"248.771\"/>\n</g>\n<g style=\"fill:rgb(0%,0%,0%);fill-opacity:1;\">\n  <use xlink:href=\"#glyph-1567442442225001-1-1\" x=\"170.332\" y=\"248.771\"/>\n</g>\n<g style=\"fill:rgb(0%,0%,0%);fill-opacity:1;\">\n  <use xlink:href=\"#glyph-1567442442225001-0-5\" x=\"173.1\" y=\"248.771\"/>\n</g>\n<g style=\"fill:rgb(0%,0%,0%);fill-opacity:1;\">\n  <use xlink:href=\"#glyph-1567442442225001-0-1\" x=\"203.387\" y=\"248.771\"/>\n</g>\n<g style=\"fill:rgb(0%,0%,0%);fill-opacity:1;\">\n  <use xlink:href=\"#glyph-1567442442225001-1-1\" x=\"208.369\" y=\"248.771\"/>\n</g>\n<g style=\"fill:rgb(0%,0%,0%);fill-opacity:1;\">\n  <use xlink:href=\"#glyph-1567442442225001-0-6\" x=\"211.136\" y=\"248.771\"/>\n</g>\n<g style=\"fill:rgb(0%,0%,0%);fill-opacity:1;\">\n  <use xlink:href=\"#glyph-1567442442225001-0-1\" x=\"241.424\" y=\"248.771\"/>\n</g>\n<g style=\"fill:rgb(0%,0%,0%);fill-opacity:1;\">\n  <use xlink:href=\"#glyph-1567442442225001-1-1\" x=\"246.405\" y=\"248.771\"/>\n</g>\n<g style=\"fill:rgb(0%,0%,0%);fill-opacity:1;\">\n  <use xlink:href=\"#glyph-1567442442225001-0-7\" x=\"249.172\" y=\"248.771\"/>\n</g>\n<g style=\"fill:rgb(0%,0%,0%);fill-opacity:1;\">\n  <use xlink:href=\"#glyph-1567442442225001-0-1\" x=\"279.46\" y=\"248.771\"/>\n</g>\n<g style=\"fill:rgb(0%,0%,0%);fill-opacity:1;\">\n  <use xlink:href=\"#glyph-1567442442225001-1-1\" x=\"284.441\" y=\"248.771\"/>\n</g>\n<g style=\"fill:rgb(0%,0%,0%);fill-opacity:1;\">\n  <use xlink:href=\"#glyph-1567442442225001-0-8\" x=\"287.209\" y=\"248.771\"/>\n</g>\n<g style=\"fill:rgb(0%,0%,0%);fill-opacity:1;\">\n  <use xlink:href=\"#glyph-1567442442225001-0-1\" x=\"317.496\" y=\"248.771\"/>\n</g>\n<g style=\"fill:rgb(0%,0%,0%);fill-opacity:1;\">\n  <use xlink:href=\"#glyph-1567442442225001-1-1\" x=\"322.478\" y=\"248.771\"/>\n</g>\n<g style=\"fill:rgb(0%,0%,0%);fill-opacity:1;\">\n  <use xlink:href=\"#glyph-1567442442225001-0-9\" x=\"325.245\" y=\"248.771\"/>\n</g>\n<g style=\"fill:rgb(0%,0%,0%);fill-opacity:1;\">\n  <use xlink:href=\"#glyph-1567442442225001-0-1\" x=\"355.533\" y=\"248.771\"/>\n</g>\n<g style=\"fill:rgb(0%,0%,0%);fill-opacity:1;\">\n  <use xlink:href=\"#glyph-1567442442225001-1-1\" x=\"360.514\" y=\"248.771\"/>\n</g>\n<g style=\"fill:rgb(0%,0%,0%);fill-opacity:1;\">\n  <use xlink:href=\"#glyph-1567442442225001-0-10\" x=\"363.281\" y=\"248.771\"/>\n</g>\n<g style=\"fill:rgb(0%,0%,0%);fill-opacity:1;\">\n  <use xlink:href=\"#glyph-1567442442225001-0-2\" x=\"397.443\" y=\"248.771\"/>\n</g>\n<g style=\"fill:rgb(0%,0%,0%);fill-opacity:1;\">\n  <use xlink:href=\"#glyph-1567442442225001-0-1\" x=\"11.069\" y=\"242.042\"/>\n</g>\n<g style=\"fill:rgb(0%,0%,0%);fill-opacity:1;\">\n  <use xlink:href=\"#glyph-1567442442225001-0-1\" x=\"3.321\" y=\"198.654\"/>\n</g>\n<g style=\"fill:rgb(0%,0%,0%);fill-opacity:1;\">\n  <use xlink:href=\"#glyph-1567442442225001-1-1\" x=\"8.302\" y=\"198.654\"/>\n</g>\n<g style=\"fill:rgb(0%,0%,0%);fill-opacity:1;\">\n  <use xlink:href=\"#glyph-1567442442225001-0-3\" x=\"11.069\" y=\"198.654\"/>\n</g>\n<g style=\"fill:rgb(0%,0%,0%);fill-opacity:1;\">\n  <use xlink:href=\"#glyph-1567442442225001-0-1\" x=\"3.321\" y=\"155.267\"/>\n</g>\n<g style=\"fill:rgb(0%,0%,0%);fill-opacity:1;\">\n  <use xlink:href=\"#glyph-1567442442225001-1-1\" x=\"8.302\" y=\"155.267\"/>\n</g>\n<g style=\"fill:rgb(0%,0%,0%);fill-opacity:1;\">\n  <use xlink:href=\"#glyph-1567442442225001-0-5\" x=\"11.069\" y=\"155.267\"/>\n</g>\n<g style=\"fill:rgb(0%,0%,0%);fill-opacity:1;\">\n  <use xlink:href=\"#glyph-1567442442225001-0-1\" x=\"3.321\" y=\"111.879\"/>\n</g>\n<g style=\"fill:rgb(0%,0%,0%);fill-opacity:1;\">\n  <use xlink:href=\"#glyph-1567442442225001-1-1\" x=\"8.302\" y=\"111.879\"/>\n</g>\n<g style=\"fill:rgb(0%,0%,0%);fill-opacity:1;\">\n  <use xlink:href=\"#glyph-1567442442225001-0-7\" x=\"11.069\" y=\"111.879\"/>\n</g>\n<g style=\"fill:rgb(0%,0%,0%);fill-opacity:1;\">\n  <use xlink:href=\"#glyph-1567442442225001-0-1\" x=\"3.321\" y=\"68.492\"/>\n</g>\n<g style=\"fill:rgb(0%,0%,0%);fill-opacity:1;\">\n  <use xlink:href=\"#glyph-1567442442225001-1-1\" x=\"8.302\" y=\"68.492\"/>\n</g>\n<g style=\"fill:rgb(0%,0%,0%);fill-opacity:1;\">\n  <use xlink:href=\"#glyph-1567442442225001-0-9\" x=\"11.069\" y=\"68.492\"/>\n</g>\n<g style=\"fill:rgb(0%,0%,0%);fill-opacity:1;\">\n  <use xlink:href=\"#glyph-1567442442225001-0-2\" x=\"11.069\" y=\"25.104\"/>\n</g>\n<g clip-path=\"url(#clip-1567442442225001-1)\" clip-rule=\"nonzero\">\n<path style=\"fill:none;stroke-width:0.3985;stroke-linecap:butt;stroke-linejoin:miter;stroke:rgb(0%,0%,100%);stroke-opacity:1;stroke-miterlimit:10;\" d=\"M 0.0003125 216.940375 L 380.3675 216.940375 \" transform=\"matrix(1,0,0,-1,19.57,238.831)\"/>\n</g>\n<path style=\"fill-rule:nonzero;fill:rgb(100%,100%,100%);fill-opacity:1;stroke-width:0.3985;stroke-linecap:butt;stroke-linejoin:miter;stroke:rgb(0%,0%,0%);stroke-opacity:1;stroke-miterlimit:10;\" d=\"M 301.055 216.725531 L 372.558906 216.725531 L 372.558906 233.663031 L 301.055 233.663031 Z M 301.055 216.725531 \" transform=\"matrix(1,0,0,-1,19.57,238.831)\"/>\n<path style=\"fill:none;stroke-width:0.3985;stroke-linecap:butt;stroke-linejoin:miter;stroke:rgb(0%,0%,100%);stroke-opacity:1;stroke-miterlimit:10;\" d=\"M -0.00140625 -0.000625 L 17.006406 -0.000625 \" transform=\"matrix(1,0,0,-1,323.81,13.64)\"/>\n<g style=\"fill:rgb(0%,0%,0%);fill-opacity:1;\">\n  <use xlink:href=\"#glyph-1567442442225001-2-1\" x=\"343.01\" y=\"16.629\"/>\n  <use xlink:href=\"#glyph-1567442442225001-2-2\" x=\"350.063549\" y=\"16.629\"/>\n  <use xlink:href=\"#glyph-1567442442225001-2-3\" x=\"354.486961\" y=\"16.629\"/>\n  <use xlink:href=\"#glyph-1567442442225001-2-4\" x=\"358.362428\" y=\"16.629\"/>\n  <use xlink:href=\"#glyph-1567442442225001-2-5\" x=\"363.343748\" y=\"16.629\"/>\n  <use xlink:href=\"#glyph-1567442442225001-2-6\" x=\"367.219215\" y=\"16.629\"/>\n  <use xlink:href=\"#glyph-1567442442225001-2-7\" x=\"372.200535\" y=\"16.629\"/>\n</g>\n<g style=\"fill:rgb(0%,0%,0%);fill-opacity:1;\">\n  <use xlink:href=\"#glyph-1567442442225001-2-6\" x=\"378.287708\" y=\"16.629\"/>\n  <use xlink:href=\"#glyph-1567442442225001-2-8\" x=\"383.269028\" y=\"16.629\"/>\n</g>\n</g>\n</svg>\n\n"
         }
        },
        "systemjs_options": null
       },
       "nodeType": "Scope",
       "props": {},
       "type": "node"
      },
      "text/html": [
       "<div\n",
       "    class=\"webio-mountpoint\"\n",
       "    data-webio-mountpoint=\"11964372053671218709\"\n",
       ">\n",
       "    <script>\n",
       "    if (window.require && require.defined && require.defined(\"nbextensions/webio-jupyter-notebook\")) {\n",
       "        console.log(\"Jupyter WebIO extension detected, not mounting.\");\n",
       "    } else if (window.WebIO) {\n",
       "        WebIO.mount(\n",
       "            document.querySelector('[data-webio-mountpoint=\"11964372053671218709\"]'),\n",
       "            {\"props\":{},\"nodeType\":\"Scope\",\"type\":\"node\",\"instanceArgs\":{\"imports\":{\"data\":[],\"type\":\"async_block\"},\"id\":\"1448442646757307425\",\"handlers\":{\"obs-output\":[\"function (value, scope) {\\n    scope.setInnerHTML(value);\\n}\\n\"]},\"systemjs_options\":null,\"mount_callbacks\":[],\"observables\":{\"obs-output\":{\"sync\":false,\"id\":\"ob_38\",\"value\":\"<?xml version=\\\"1.0\\\" encoding=\\\"UTF-8\\\"?>\\n<svg xmlns=\\\"http:\\/\\/www.w3.org\\/2000\\/svg\\\" xmlns:xlink=\\\"http:\\/\\/www.w3.org\\/1999\\/xlink\\\" width=\\\"405.745pt\\\" height=\\\"252.092pt\\\" viewBox=\\\"0 0 405.745 252.092\\\" version=\\\"1.1\\\">\\n<defs>\\n<g>\\n<symbol overflow=\\\"visible\\\" id=\\\"glyph-1567442442225000-0-0\\\">\\n<path style=\\\"stroke:none;\\\" d=\\\"\\\"\\/>\\n<\\/symbol>\\n<symbol overflow=\\\"visible\\\" id=\\\"glyph-1567442442225000-0-1\\\">\\n<path style=\\\"stroke:none;\\\" d=\\\"M 4.578125 -3.1875 C 4.578125 -3.984375 4.53125 -4.78125 4.1875 -5.515625 C 3.734375 -6.484375 2.90625 -6.640625 2.5 -6.640625 C 1.890625 -6.640625 1.171875 -6.375 0.75 -5.453125 C 0.4375 -4.765625 0.390625 -3.984375 0.390625 -3.1875 C 0.390625 -2.4375 0.421875 -1.546875 0.84375 -0.78125 C 1.265625 0.015625 2 0.21875 2.484375 0.21875 C 3.015625 0.21875 3.78125 0.015625 4.21875 -0.9375 C 4.53125 -1.625 4.578125 -2.40625 4.578125 -3.1875 Z M 2.484375 0 C 2.09375 0 1.5 -0.25 1.328125 -1.203125 C 1.21875 -1.796875 1.21875 -2.71875 1.21875 -3.3125 C 1.21875 -3.953125 1.21875 -4.609375 1.296875 -5.140625 C 1.484375 -6.328125 2.234375 -6.421875 2.484375 -6.421875 C 2.8125 -6.421875 3.46875 -6.234375 3.65625 -5.25 C 3.765625 -4.6875 3.765625 -3.9375 3.765625 -3.3125 C 3.765625 -2.5625 3.765625 -1.890625 3.65625 -1.25 C 3.5 -0.296875 2.9375 0 2.484375 0 Z M 2.484375 0 \\\"\\/>\\n<\\/symbol>\\n<symbol overflow=\\\"visible\\\" id=\\\"glyph-1567442442225000-0-2\\\">\\n<path style=\\\"stroke:none;\\\" d=\\\"M 2.9375 -6.375 C 2.9375 -6.625 2.9375 -6.640625 2.703125 -6.640625 C 2.078125 -6 1.203125 -6 0.890625 -6 L 0.890625 -5.6875 C 1.09375 -5.6875 1.671875 -5.6875 2.1875 -5.953125 L 2.1875 -0.78125 C 2.1875 -0.421875 2.15625 -0.3125 1.265625 -0.3125 L 0.953125 -0.3125 L 0.953125 0 C 1.296875 -0.03125 2.15625 -0.03125 2.5625 -0.03125 C 2.953125 -0.03125 3.828125 -0.03125 4.171875 0 L 4.171875 -0.3125 L 3.859375 -0.3125 C 2.953125 -0.3125 2.9375 -0.421875 2.9375 -0.78125 Z M 2.9375 -6.375 \\\"\\/>\\n<\\/symbol>\\n<symbol overflow=\\\"visible\\\" id=\\\"glyph-1567442442225000-0-3\\\">\\n<path style=\\\"stroke:none;\\\" d=\\\"M 1.265625 -0.765625 L 2.328125 -1.796875 C 3.875 -3.171875 4.46875 -3.703125 4.46875 -4.703125 C 4.46875 -5.84375 3.578125 -6.640625 2.359375 -6.640625 C 1.234375 -6.640625 0.5 -5.71875 0.5 -4.828125 C 0.5 -4.28125 1 -4.28125 1.03125 -4.28125 C 1.203125 -4.28125 1.546875 -4.390625 1.546875 -4.8125 C 1.546875 -5.0625 1.359375 -5.328125 1.015625 -5.328125 C 0.9375 -5.328125 0.921875 -5.328125 0.890625 -5.3125 C 1.109375 -5.96875 1.65625 -6.328125 2.234375 -6.328125 C 3.140625 -6.328125 3.5625 -5.515625 3.5625 -4.703125 C 3.5625 -3.90625 3.078125 -3.125 2.515625 -2.5 L 0.609375 -0.375 C 0.5 -0.265625 0.5 -0.234375 0.5 0 L 4.203125 0 L 4.46875 -1.734375 L 4.234375 -1.734375 C 4.171875 -1.4375 4.109375 -1 4 -0.84375 C 3.9375 -0.765625 3.28125 -0.765625 3.0625 -0.765625 Z M 1.265625 -0.765625 \\\"\\/>\\n<\\/symbol>\\n<symbol overflow=\\\"visible\\\" id=\\\"glyph-1567442442225000-0-4\\\">\\n<path style=\\\"stroke:none;\\\" d=\\\"M 2.890625 -3.515625 C 3.703125 -3.78125 4.28125 -4.46875 4.28125 -5.265625 C 4.28125 -6.078125 3.40625 -6.640625 2.453125 -6.640625 C 1.453125 -6.640625 0.6875 -6.046875 0.6875 -5.28125 C 0.6875 -4.953125 0.90625 -4.765625 1.203125 -4.765625 C 1.5 -4.765625 1.703125 -4.984375 1.703125 -5.28125 C 1.703125 -5.765625 1.234375 -5.765625 1.09375 -5.765625 C 1.390625 -6.265625 2.046875 -6.390625 2.40625 -6.390625 C 2.828125 -6.390625 3.375 -6.171875 3.375 -5.28125 C 3.375 -5.15625 3.34375 -4.578125 3.09375 -4.140625 C 2.796875 -3.65625 2.453125 -3.625 2.203125 -3.625 C 2.125 -3.609375 1.890625 -3.59375 1.8125 -3.59375 C 1.734375 -3.578125 1.671875 -3.5625 1.671875 -3.46875 C 1.671875 -3.359375 1.734375 -3.359375 1.90625 -3.359375 L 2.34375 -3.359375 C 3.15625 -3.359375 3.53125 -2.6875 3.53125 -1.703125 C 3.53125 -0.34375 2.84375 -0.0625 2.40625 -0.0625 C 1.96875 -0.0625 1.21875 -0.234375 0.875 -0.8125 C 1.21875 -0.765625 1.53125 -0.984375 1.53125 -1.359375 C 1.53125 -1.71875 1.265625 -1.921875 0.984375 -1.921875 C 0.734375 -1.921875 0.421875 -1.78125 0.421875 -1.34375 C 0.421875 -0.4375 1.34375 0.21875 2.4375 0.21875 C 3.65625 0.21875 4.5625 -0.6875 4.5625 -1.703125 C 4.5625 -2.515625 3.921875 -3.296875 2.890625 -3.515625 Z M 2.890625 -3.515625 \\\"\\/>\\n<\\/symbol>\\n<symbol overflow=\\\"visible\\\" id=\\\"glyph-1567442442225000-0-5\\\">\\n<path style=\\\"stroke:none;\\\" d=\\\"M 2.9375 -1.640625 L 2.9375 -0.78125 C 2.9375 -0.421875 2.90625 -0.3125 2.171875 -0.3125 L 1.96875 -0.3125 L 1.96875 0 C 2.375 -0.03125 2.890625 -0.03125 3.3125 -0.03125 C 3.734375 -0.03125 4.25 -0.03125 4.671875 0 L 4.671875 -0.3125 L 4.453125 -0.3125 C 3.71875 -0.3125 3.703125 -0.421875 3.703125 -0.78125 L 3.703125 -1.640625 L 4.6875 -1.640625 L 4.6875 -1.953125 L 3.703125 -1.953125 L 3.703125 -6.484375 C 3.703125 -6.6875 3.703125 -6.75 3.53125 -6.75 C 3.453125 -6.75 3.421875 -6.75 3.34375 -6.625 L 0.28125 -1.953125 L 0.28125 -1.640625 Z M 2.984375 -1.953125 L 0.5625 -1.953125 L 2.984375 -5.671875 Z M 2.984375 -1.953125 \\\"\\/>\\n<\\/symbol>\\n<symbol overflow=\\\"visible\\\" id=\\\"glyph-1567442442225000-0-6\\\">\\n<path style=\\\"stroke:none;\\\" d=\\\"M 4.46875 -2 C 4.46875 -3.1875 3.65625 -4.1875 2.578125 -4.1875 C 2.109375 -4.1875 1.671875 -4.03125 1.3125 -3.671875 L 1.3125 -5.625 C 1.515625 -5.5625 1.84375 -5.5 2.15625 -5.5 C 3.390625 -5.5 4.09375 -6.40625 4.09375 -6.53125 C 4.09375 -6.59375 4.0625 -6.640625 3.984375 -6.640625 C 3.984375 -6.640625 3.953125 -6.640625 3.90625 -6.609375 C 3.703125 -6.515625 3.21875 -6.3125 2.546875 -6.3125 C 2.15625 -6.3125 1.6875 -6.390625 1.21875 -6.59375 C 1.140625 -6.625 1.125 -6.625 1.109375 -6.625 C 1 -6.625 1 -6.546875 1 -6.390625 L 1 -3.4375 C 1 -3.265625 1 -3.1875 1.140625 -3.1875 C 1.21875 -3.1875 1.234375 -3.203125 1.28125 -3.265625 C 1.390625 -3.421875 1.75 -3.96875 2.5625 -3.96875 C 3.078125 -3.96875 3.328125 -3.515625 3.40625 -3.328125 C 3.5625 -2.953125 3.59375 -2.578125 3.59375 -2.078125 C 3.59375 -1.71875 3.59375 -1.125 3.34375 -0.703125 C 3.109375 -0.3125 2.734375 -0.0625 2.28125 -0.0625 C 1.5625 -0.0625 0.984375 -0.59375 0.8125 -1.171875 C 0.84375 -1.171875 0.875 -1.15625 0.984375 -1.15625 C 1.3125 -1.15625 1.484375 -1.40625 1.484375 -1.640625 C 1.484375 -1.890625 1.3125 -2.140625 0.984375 -2.140625 C 0.84375 -2.140625 0.5 -2.0625 0.5 -1.609375 C 0.5 -0.75 1.1875 0.21875 2.296875 0.21875 C 3.453125 0.21875 4.46875 -0.734375 4.46875 -2 Z M 4.46875 -2 \\\"\\/>\\n<\\/symbol>\\n<symbol overflow=\\\"visible\\\" id=\\\"glyph-1567442442225000-0-7\\\">\\n<path style=\\\"stroke:none;\\\" d=\\\"M 1.3125 -3.265625 L 1.3125 -3.515625 C 1.3125 -6.03125 2.546875 -6.390625 3.0625 -6.390625 C 3.296875 -6.390625 3.71875 -6.328125 3.9375 -5.984375 C 3.78125 -5.984375 3.390625 -5.984375 3.390625 -5.546875 C 3.390625 -5.234375 3.625 -5.078125 3.84375 -5.078125 C 4 -5.078125 4.3125 -5.171875 4.3125 -5.5625 C 4.3125 -6.15625 3.875 -6.640625 3.046875 -6.640625 C 1.765625 -6.640625 0.421875 -5.359375 0.421875 -3.15625 C 0.421875 -0.484375 1.578125 0.21875 2.5 0.21875 C 3.609375 0.21875 4.5625 -0.71875 4.5625 -2.03125 C 4.5625 -3.296875 3.671875 -4.25 2.5625 -4.25 C 1.890625 -4.25 1.515625 -3.75 1.3125 -3.265625 Z M 2.5 -0.0625 C 1.875 -0.0625 1.578125 -0.65625 1.515625 -0.8125 C 1.328125 -1.28125 1.328125 -2.078125 1.328125 -2.25 C 1.328125 -3.03125 1.65625 -4.03125 2.546875 -4.03125 C 2.71875 -4.03125 3.171875 -4.03125 3.484375 -3.40625 C 3.65625 -3.046875 3.65625 -2.53125 3.65625 -2.046875 C 3.65625 -1.5625 3.65625 -1.0625 3.484375 -0.703125 C 3.1875 -0.109375 2.734375 -0.0625 2.5 -0.0625 Z M 2.5 -0.0625 \\\"\\/>\\n<\\/symbol>\\n<symbol overflow=\\\"visible\\\" id=\\\"glyph-1567442442225000-0-8\\\">\\n<path style=\\\"stroke:none;\\\" d=\\\"M 4.75 -6.078125 C 4.828125 -6.1875 4.828125 -6.203125 4.828125 -6.421875 L 2.40625 -6.421875 C 1.203125 -6.421875 1.171875 -6.546875 1.140625 -6.734375 L 0.890625 -6.734375 L 0.5625 -4.6875 L 0.8125 -4.6875 C 0.84375 -4.84375 0.921875 -5.46875 1.0625 -5.59375 C 1.125 -5.65625 1.90625 -5.65625 2.03125 -5.65625 L 4.09375 -5.65625 C 3.984375 -5.5 3.203125 -4.40625 2.984375 -4.078125 C 2.078125 -2.734375 1.75 -1.34375 1.75 -0.328125 C 1.75 -0.234375 1.75 0.21875 2.21875 0.21875 C 2.671875 0.21875 2.671875 -0.234375 2.671875 -0.328125 L 2.671875 -0.84375 C 2.671875 -1.390625 2.703125 -1.9375 2.78125 -2.46875 C 2.828125 -2.703125 2.953125 -3.5625 3.40625 -4.171875 Z M 4.75 -6.078125 \\\"\\/>\\n<\\/symbol>\\n<symbol overflow=\\\"visible\\\" id=\\\"glyph-1567442442225000-0-9\\\">\\n<path style=\\\"stroke:none;\\\" d=\\\"M 1.625 -4.5625 C 1.171875 -4.859375 1.125 -5.1875 1.125 -5.359375 C 1.125 -5.96875 1.78125 -6.390625 2.484375 -6.390625 C 3.203125 -6.390625 3.84375 -5.875 3.84375 -5.15625 C 3.84375 -4.578125 3.453125 -4.109375 2.859375 -3.765625 Z M 3.078125 -3.609375 C 3.796875 -3.984375 4.28125 -4.5 4.28125 -5.15625 C 4.28125 -6.078125 3.40625 -6.640625 2.5 -6.640625 C 1.5 -6.640625 0.6875 -5.90625 0.6875 -4.96875 C 0.6875 -4.796875 0.703125 -4.34375 1.125 -3.875 C 1.234375 -3.765625 1.609375 -3.515625 1.859375 -3.34375 C 1.28125 -3.046875 0.421875 -2.5 0.421875 -1.5 C 0.421875 -0.453125 1.4375 0.21875 2.484375 0.21875 C 3.609375 0.21875 4.5625 -0.609375 4.5625 -1.671875 C 4.5625 -2.03125 4.453125 -2.484375 4.0625 -2.90625 C 3.875 -3.109375 3.71875 -3.203125 3.078125 -3.609375 Z M 2.078125 -3.1875 L 3.3125 -2.40625 C 3.59375 -2.21875 4.0625 -1.921875 4.0625 -1.3125 C 4.0625 -0.578125 3.3125 -0.0625 2.5 -0.0625 C 1.640625 -0.0625 0.921875 -0.671875 0.921875 -1.5 C 0.921875 -2.078125 1.234375 -2.71875 2.078125 -3.1875 Z M 2.078125 -3.1875 \\\"\\/>\\n<\\/symbol>\\n<symbol overflow=\\\"visible\\\" id=\\\"glyph-1567442442225000-0-10\\\">\\n<path style=\\\"stroke:none;\\\" d=\\\"M 3.65625 -3.171875 L 3.65625 -2.84375 C 3.65625 -0.515625 2.625 -0.0625 2.046875 -0.0625 C 1.875 -0.0625 1.328125 -0.078125 1.0625 -0.421875 C 1.5 -0.421875 1.578125 -0.703125 1.578125 -0.875 C 1.578125 -1.1875 1.34375 -1.328125 1.125 -1.328125 C 0.96875 -1.328125 0.671875 -1.25 0.671875 -0.859375 C 0.671875 -0.1875 1.203125 0.21875 2.046875 0.21875 C 3.34375 0.21875 4.5625 -1.140625 4.5625 -3.28125 C 4.5625 -5.96875 3.40625 -6.640625 2.515625 -6.640625 C 1.96875 -6.640625 1.484375 -6.453125 1.0625 -6.015625 C 0.640625 -5.5625 0.421875 -5.140625 0.421875 -4.390625 C 0.421875 -3.15625 1.296875 -2.171875 2.40625 -2.171875 C 3.015625 -2.171875 3.421875 -2.59375 3.65625 -3.171875 Z M 2.421875 -2.40625 C 2.265625 -2.40625 1.796875 -2.40625 1.5 -3.03125 C 1.3125 -3.40625 1.3125 -3.890625 1.3125 -4.390625 C 1.3125 -4.921875 1.3125 -5.390625 1.53125 -5.765625 C 1.796875 -6.265625 2.171875 -6.390625 2.515625 -6.390625 C 2.984375 -6.390625 3.3125 -6.046875 3.484375 -5.609375 C 3.59375 -5.28125 3.640625 -4.65625 3.640625 -4.203125 C 3.640625 -3.375 3.296875 -2.40625 2.421875 -2.40625 Z M 2.421875 -2.40625 \\\"\\/>\\n<\\/symbol>\\n<symbol overflow=\\\"visible\\\" id=\\\"glyph-1567442442225000-1-0\\\">\\n<path style=\\\"stroke:none;\\\" d=\\\"\\\"\\/>\\n<\\/symbol>\\n<symbol overflow=\\\"visible\\\" id=\\\"glyph-1567442442225000-1-1\\\">\\n<path style=\\\"stroke:none;\\\" d=\\\"M 1.90625 -0.53125 C 1.90625 -0.8125 1.671875 -1.0625 1.390625 -1.0625 C 1.09375 -1.0625 0.859375 -0.8125 0.859375 -0.53125 C 0.859375 -0.234375 1.09375 0 1.390625 0 C 1.671875 0 1.90625 -0.234375 1.90625 -0.53125 Z M 1.90625 -0.53125 \\\"\\/>\\n<\\/symbol>\\n<symbol overflow=\\\"visible\\\" id=\\\"glyph-1567442442225000-2-0\\\">\\n<path style=\\\"stroke:none;\\\" d=\\\"\\\"\\/>\\n<\\/symbol>\\n<symbol overflow=\\\"visible\\\" id=\\\"glyph-1567442442225000-2-1\\\">\\n<path style=\\\"stroke:none;\\\" d=\\\"M 6.65625 -1.984375 C 6.65625 -2.84375 5.671875 -3.765625 4.5625 -3.890625 L 4.5625 -3.5625 C 5.53125 -3.75 6.390625 -4.546875 6.390625 -5.28125 C 6.390625 -6.15625 5.296875 -7.140625 4 -7.140625 L 0.171875 -7.140625 L 0.171875 -6.5 L 0.59375 -6.5 C 1.359375 -6.5 1.203125 -6.546875 1.203125 -6.1875 L 1.203125 -0.9375 C 1.203125 -0.578125 1.359375 -0.640625 0.59375 -0.640625 L 0.171875 -0.640625 L 0.171875 0 L 4.265625 0 C 5.59375 0 6.65625 -1.046875 6.65625 -1.984375 Z M 5.078125 -5.28125 C 5.078125 -4.640625 4.765625 -3.984375 3.65625 -3.984375 L 2.375 -3.984375 L 2.375 -6.265625 C 2.375 -6.59375 2.234375 -6.5 2.703125 -6.5 L 3.9375 -6.5 C 4.90625 -6.5 5.078125 -5.8125 5.078125 -5.28125 Z M 5.3125 -2 C 5.3125 -1.28125 4.96875 -0.640625 3.953125 -0.640625 L 2.703125 -0.640625 C 2.234375 -0.640625 2.375 -0.53125 2.375 -0.875 L 2.375 -3.421875 L 4.09375 -3.421875 C 5.078125 -3.421875 5.3125 -2.65625 5.3125 -2 Z M 5.3125 -2 \\\"\\/>\\n<\\/symbol>\\n<symbol overflow=\\\"visible\\\" id=\\\"glyph-1567442442225000-2-2\\\">\\n<path style=\\\"stroke:none;\\\" d=\\\"M 4.3125 -1.34375 C 4.3125 -1.453125 4.0625 -1.640625 4 -1.640625 C 3.921875 -1.640625 3.71875 -1.40625 3.703125 -1.328125 C 3.34375 -0.296875 2.625 -0.46875 2.53125 -0.46875 C 2.03125 -0.46875 1.75 -0.71875 1.53125 -1.09375 C 1.21875 -1.5625 1.28125 -2.109375 1.28125 -2.296875 L 3.890625 -2.296875 C 4.109375 -2.296875 4.3125 -2.46875 4.3125 -2.671875 C 4.3125 -3.65625 3.59375 -4.796875 2.359375 -4.796875 C 1.203125 -4.796875 0.09375 -3.59375 0.09375 -2.359375 C 0.09375 -1.015625 1.328125 0.109375 2.46875 0.109375 C 3.6875 0.109375 4.3125 -1.15625 4.3125 -1.34375 Z M 3.484375 -2.84375 L 1.296875 -2.84375 C 1.34375 -4.15625 2.015625 -4.25 2.359375 -4.25 C 3.375 -4.25 3.296875 -3.0625 3.296875 -2.84375 Z M 3.484375 -2.84375 \\\"\\/>\\n<\\/symbol>\\n<symbol overflow=\\\"visible\\\" id=\\\"glyph-1567442442225000-2-3\\\">\\n<path style=\\\"stroke:none;\\\" d=\\\"M 3.484375 -1.390625 L 3.484375 -2.140625 L 2.875 -2.140625 L 2.875 -1.421875 C 2.875 -0.671875 2.765625 -0.46875 2.390625 -0.46875 C 1.71875 -0.46875 1.890625 -1.203125 1.890625 -1.375 L 1.890625 -3.984375 L 3.3125 -3.984375 L 3.3125 -4.625 L 1.890625 -4.625 L 1.890625 -6.453125 L 1.296875 -6.453125 C 1.28125 -5.46875 1.171875 -4.578125 0.015625 -4.53125 L 0.015625 -3.984375 L 0.859375 -3.984375 L 0.859375 -1.390625 C 0.859375 -0.171875 1.96875 0.109375 2.328125 0.109375 C 3.03125 0.109375 3.484375 -0.75 3.484375 -1.390625 Z M 3.484375 -1.390625 \\\"\\/>\\n<\\/symbol>\\n<symbol overflow=\\\"visible\\\" id=\\\"glyph-1567442442225000-2-4\\\">\\n<path style=\\\"stroke:none;\\\" d=\\\"M 4.984375 -1.046875 L 4.984375 -1.78125 L 4.390625 -1.78125 L 4.390625 -1.046875 C 4.390625 -0.46875 4.3125 -0.578125 4.203125 -0.578125 C 3.875 -0.578125 4 -0.859375 4 -0.90625 L 4 -2.90625 C 4 -3.3125 3.953125 -3.828125 3.59375 -4.203125 C 3.203125 -4.578125 2.59375 -4.796875 2.109375 -4.796875 C 1.296875 -4.796875 0.421875 -4.15625 0.421875 -3.5 C 0.421875 -3.203125 0.8125 -2.875 1.0625 -2.875 C 1.34375 -2.875 1.6875 -3.234375 1.6875 -3.484375 C 1.6875 -3.609375 1.46875 -4.109375 1.34375 -4.109375 C 1.40625 -4.1875 1.78125 -4.25 2.09375 -4.25 C 2.578125 -4.25 2.96875 -4.015625 2.96875 -3.125 L 2.96875 -2.921875 C 2.640625 -2.90625 1.9375 -2.875 1.3125 -2.578125 C 0.5625 -2.234375 0.140625 -1.546875 0.140625 -1.109375 C 0.140625 -0.296875 1.28125 0.109375 1.90625 0.109375 C 2.578125 0.109375 3.203125 -0.453125 3.390625 -0.921875 L 3.046875 -0.921875 C 3.078125 -0.515625 3.53125 0.0625 4 0.0625 C 4.203125 0.0625 4.984375 -0.234375 4.984375 -1.046875 Z M 2.96875 -1.5625 C 2.96875 -0.609375 2.4375 -0.4375 1.984375 -0.4375 C 1.5 -0.4375 1.25 -0.625 1.25 -1.109375 C 1.25 -1.671875 1.5 -2.328125 2.96875 -2.375 Z M 2.96875 -1.5625 \\\"\\/>\\n<\\/symbol>\\n<symbol overflow=\\\"visible\\\" id=\\\"glyph-1567442442225000-2-5\\\">\\n<path style=\\\"stroke:none;\\\" d=\\\"M 3.46875 2.234375 C 3.46875 2.203125 3.421875 2.0625 3.25 1.890625 C 2 0.640625 1.734375 -1.125 1.734375 -2.65625 C 1.734375 -4.390625 2.0625 -6.015625 3.296875 -7.25 C 3.421875 -7.375 3.46875 -7.5 3.46875 -7.53125 C 3.46875 -7.609375 3.265625 -7.8125 3.203125 -7.8125 C 3.09375 -7.8125 2.03125 -6.953125 1.4375 -5.6875 C 0.921875 -4.59375 0.8125 -3.484375 0.8125 -2.65625 C 0.8125 -1.875 0.921875 -0.671875 1.46875 0.453125 C 2.0625 1.6875 3.09375 2.5 3.203125 2.5 C 3.265625 2.5 3.46875 2.296875 3.46875 2.234375 Z M 3.46875 2.234375 \\\"\\/>\\n<\\/symbol>\\n<symbol overflow=\\\"visible\\\" id=\\\"glyph-1567442442225000-2-6\\\">\\n<path style=\\\"stroke:none;\\\" d=\\\"M 4.34375 -0.15625 L 4.34375 -0.640625 L 3.859375 -0.640625 C 2.953125 -0.640625 3.09375 -0.578125 3.09375 -0.953125 L 3.09375 -6.546875 C 3.09375 -6.78125 2.9375 -6.96875 2.625 -6.96875 C 1.953125 -6.28125 1.203125 -6.328125 0.703125 -6.328125 L 0.703125 -5.6875 C 1.09375 -5.6875 1.796875 -5.734375 2.015625 -5.859375 L 2.015625 -0.953125 C 2.015625 -0.59375 2.15625 -0.640625 1.265625 -0.640625 L 0.765625 -0.640625 L 0.765625 0.015625 C 1.296875 -0.03125 2.15625 -0.03125 2.5625 -0.03125 C 2.953125 -0.03125 3.828125 -0.03125 4.34375 0.015625 Z M 4.34375 -0.15625 \\\"\\/>\\n<\\/symbol>\\n<symbol overflow=\\\"visible\\\" id=\\\"glyph-1567442442225000-2-7\\\">\\n<path style=\\\"stroke:none;\\\" d=\\\"M 2.1875 -0.171875 C 2.1875 -0.8125 1.78125 -1.390625 1.390625 -1.390625 C 1.03125 -1.390625 0.671875 -0.953125 0.671875 -0.6875 C 0.671875 -0.421875 1.03125 0 1.390625 0 C 1.53125 0 1.796875 -0.109375 1.609375 0.0625 C 1.625 0.46875 1.390625 0.953125 0.953125 1.421875 C 0.890625 1.484375 0.84375 1.609375 0.84375 1.65625 C 0.84375 1.71875 1.0625 1.921875 1.109375 1.921875 C 1.234375 1.921875 2.1875 0.984375 2.1875 -0.171875 Z M 2.1875 -0.171875 \\\"\\/>\\n<\\/symbol>\\n<symbol overflow=\\\"visible\\\" id=\\\"glyph-1567442442225000-2-8\\\">\\n<path style=\\\"stroke:none;\\\" d=\\\"M 3.046875 -2.65625 C 3.046875 -3.421875 2.9375 -4.640625 2.390625 -5.765625 C 1.796875 -6.984375 0.765625 -7.8125 0.671875 -7.8125 C 0.609375 -7.8125 0.390625 -7.59375 0.390625 -7.53125 C 0.390625 -7.5 0.4375 -7.375 0.625 -7.203125 C 1.609375 -6.203125 2.125 -4.734375 2.125 -2.65625 C 2.125 -0.953125 1.796875 0.6875 0.5625 1.9375 C 0.4375 2.0625 0.390625 2.203125 0.390625 2.234375 C 0.390625 2.296875 0.609375 2.5 0.671875 2.5 C 0.765625 2.5 1.828125 1.65625 2.421875 0.390625 C 2.9375 -0.703125 3.046875 -1.8125 3.046875 -2.65625 Z M 3.046875 -2.65625 \\\"\\/>\\n<\\/symbol>\\n<\\/g>\\n<clipPath id=\\\"clip-1567442442225000-1\\\">\\n  <path d=\\\"M 19.570313 21 L 399.9375 21 L 399.9375 23 L 19.570313 23 Z M 19.570313 21 \\\"\\/>\\n<\\/clipPath>\\n<\\/defs>\\n<g id=\\\"surface1\\\">\\n<path style=\\\"fill:none;stroke-width:0.19925;stroke-linecap:butt;stroke-linejoin:miter;stroke:rgb(50%,50%,50%);stroke-opacity:1;stroke-miterlimit:10;\\\" d=\\\"M 0.0003125 -0.00103125 L 0.0003125 4.252875 M 38.035469 -0.00103125 L 38.035469 4.252875 M 76.074531 -0.00103125 L 76.074531 4.252875 M 114.109688 -0.00103125 L 114.109688 4.252875 M 152.14875 -0.00103125 L 152.14875 4.252875 M 190.183906 -0.00103125 L 190.183906 4.252875 M 228.222969 -0.00103125 L 228.222969 4.252875 M 266.258125 -0.00103125 L 266.258125 4.252875 M 304.293281 -0.00103125 L 304.293281 4.252875 M 342.332344 -0.00103125 L 342.332344 4.252875 M 380.3675 -0.00103125 L 380.3675 4.252875 M 0.0003125 238.635688 L 0.0003125 234.381781 M 38.035469 238.635688 L 38.035469 234.381781 M 76.074531 238.635688 L 76.074531 234.381781 M 114.109688 238.635688 L 114.109688 234.381781 M 152.14875 238.635688 L 152.14875 234.381781 M 190.183906 238.635688 L 190.183906 234.381781 M 228.222969 238.635688 L 228.222969 234.381781 M 266.258125 238.635688 L 266.258125 234.381781 M 304.293281 238.635688 L 304.293281 234.381781 M 342.332344 238.635688 L 342.332344 234.381781 M 380.3675 238.635688 L 380.3675 234.381781 \\\" transform=\\\"matrix(1,0,0,-1,19.57,238.831)\\\"\\/>\\n<path style=\\\"fill:none;stroke-width:0.19925;stroke-linecap:butt;stroke-linejoin:miter;stroke:rgb(50%,50%,50%);stroke-opacity:1;stroke-miterlimit:10;\\\" d=\\\"M 0.0003125 -0.00103125 L 4.254219 -0.00103125 M 0.0003125 43.389594 L 4.254219 43.389594 M 0.0003125 86.776313 L 4.254219 86.776313 M 0.0003125 130.163031 L 4.254219 130.163031 M 0.0003125 173.553656 L 4.254219 173.553656 M 0.0003125 216.940375 L 4.254219 216.940375 M 380.3675 -0.00103125 L 376.1175 -0.00103125 M 380.3675 43.389594 L 376.1175 43.389594 M 380.3675 86.776313 L 376.1175 86.776313 M 380.3675 130.163031 L 376.1175 130.163031 M 380.3675 173.553656 L 376.1175 173.553656 M 380.3675 216.940375 L 376.1175 216.940375 \\\" transform=\\\"matrix(1,0,0,-1,19.57,238.831)\\\"\\/>\\n<path style=\\\"fill:none;stroke-width:0.3985;stroke-linecap:butt;stroke-linejoin:miter;stroke:rgb(0%,0%,0%);stroke-opacity:1;stroke-miterlimit:10;\\\" d=\\\"M 0.0003125 -0.00103125 L 0.0003125 238.635688 L 380.3675 238.635688 L 380.3675 -0.00103125 Z M 0.0003125 -0.00103125 \\\" transform=\\\"matrix(1,0,0,-1,19.57,238.831)\\\"\\/>\\n<g style=\\\"fill:rgb(0%,0%,0%);fill-opacity:1;\\\">\\n  <use xlink:href=\\\"#glyph-1567442442225000-0-1\\\" x=\\\"17.08\\\" y=\\\"248.771\\\"\\/>\\n<\\/g>\\n<g style=\\\"fill:rgb(0%,0%,0%);fill-opacity:1;\\\">\\n  <use xlink:href=\\\"#glyph-1567442442225000-0-1\\\" x=\\\"51.242\\\" y=\\\"248.771\\\"\\/>\\n<\\/g>\\n<g style=\\\"fill:rgb(0%,0%,0%);fill-opacity:1;\\\">\\n  <use xlink:href=\\\"#glyph-1567442442225000-1-1\\\" x=\\\"56.223\\\" y=\\\"248.771\\\"\\/>\\n<\\/g>\\n<g style=\\\"fill:rgb(0%,0%,0%);fill-opacity:1;\\\">\\n  <use xlink:href=\\\"#glyph-1567442442225000-0-2\\\" x=\\\"58.99\\\" y=\\\"248.771\\\"\\/>\\n<\\/g>\\n<g style=\\\"fill:rgb(0%,0%,0%);fill-opacity:1;\\\">\\n  <use xlink:href=\\\"#glyph-1567442442225000-0-1\\\" x=\\\"89.278\\\" y=\\\"248.771\\\"\\/>\\n<\\/g>\\n<g style=\\\"fill:rgb(0%,0%,0%);fill-opacity:1;\\\">\\n  <use xlink:href=\\\"#glyph-1567442442225000-1-1\\\" x=\\\"94.259\\\" y=\\\"248.771\\\"\\/>\\n<\\/g>\\n<g style=\\\"fill:rgb(0%,0%,0%);fill-opacity:1;\\\">\\n  <use xlink:href=\\\"#glyph-1567442442225000-0-3\\\" x=\\\"97.027\\\" y=\\\"248.771\\\"\\/>\\n<\\/g>\\n<g style=\\\"fill:rgb(0%,0%,0%);fill-opacity:1;\\\">\\n  <use xlink:href=\\\"#glyph-1567442442225000-0-1\\\" x=\\\"127.314\\\" y=\\\"248.771\\\"\\/>\\n<\\/g>\\n<g style=\\\"fill:rgb(0%,0%,0%);fill-opacity:1;\\\">\\n  <use xlink:href=\\\"#glyph-1567442442225000-1-1\\\" x=\\\"132.296\\\" y=\\\"248.771\\\"\\/>\\n<\\/g>\\n<g style=\\\"fill:rgb(0%,0%,0%);fill-opacity:1;\\\">\\n  <use xlink:href=\\\"#glyph-1567442442225000-0-4\\\" x=\\\"135.063\\\" y=\\\"248.771\\\"\\/>\\n<\\/g>\\n<g style=\\\"fill:rgb(0%,0%,0%);fill-opacity:1;\\\">\\n  <use xlink:href=\\\"#glyph-1567442442225000-0-1\\\" x=\\\"165.351\\\" y=\\\"248.771\\\"\\/>\\n<\\/g>\\n<g style=\\\"fill:rgb(0%,0%,0%);fill-opacity:1;\\\">\\n  <use xlink:href=\\\"#glyph-1567442442225000-1-1\\\" x=\\\"170.332\\\" y=\\\"248.771\\\"\\/>\\n<\\/g>\\n<g style=\\\"fill:rgb(0%,0%,0%);fill-opacity:1;\\\">\\n  <use xlink:href=\\\"#glyph-1567442442225000-0-5\\\" x=\\\"173.1\\\" y=\\\"248.771\\\"\\/>\\n<\\/g>\\n<g style=\\\"fill:rgb(0%,0%,0%);fill-opacity:1;\\\">\\n  <use xlink:href=\\\"#glyph-1567442442225000-0-1\\\" x=\\\"203.387\\\" y=\\\"248.771\\\"\\/>\\n<\\/g>\\n<g style=\\\"fill:rgb(0%,0%,0%);fill-opacity:1;\\\">\\n  <use xlink:href=\\\"#glyph-1567442442225000-1-1\\\" x=\\\"208.369\\\" y=\\\"248.771\\\"\\/>\\n<\\/g>\\n<g style=\\\"fill:rgb(0%,0%,0%);fill-opacity:1;\\\">\\n  <use xlink:href=\\\"#glyph-1567442442225000-0-6\\\" x=\\\"211.136\\\" y=\\\"248.771\\\"\\/>\\n<\\/g>\\n<g style=\\\"fill:rgb(0%,0%,0%);fill-opacity:1;\\\">\\n  <use xlink:href=\\\"#glyph-1567442442225000-0-1\\\" x=\\\"241.424\\\" y=\\\"248.771\\\"\\/>\\n<\\/g>\\n<g style=\\\"fill:rgb(0%,0%,0%);fill-opacity:1;\\\">\\n  <use xlink:href=\\\"#glyph-1567442442225000-1-1\\\" x=\\\"246.405\\\" y=\\\"248.771\\\"\\/>\\n<\\/g>\\n<g style=\\\"fill:rgb(0%,0%,0%);fill-opacity:1;\\\">\\n  <use xlink:href=\\\"#glyph-1567442442225000-0-7\\\" x=\\\"249.172\\\" y=\\\"248.771\\\"\\/>\\n<\\/g>\\n<g style=\\\"fill:rgb(0%,0%,0%);fill-opacity:1;\\\">\\n  <use xlink:href=\\\"#glyph-1567442442225000-0-1\\\" x=\\\"279.46\\\" y=\\\"248.771\\\"\\/>\\n<\\/g>\\n<g style=\\\"fill:rgb(0%,0%,0%);fill-opacity:1;\\\">\\n  <use xlink:href=\\\"#glyph-1567442442225000-1-1\\\" x=\\\"284.441\\\" y=\\\"248.771\\\"\\/>\\n<\\/g>\\n<g style=\\\"fill:rgb(0%,0%,0%);fill-opacity:1;\\\">\\n  <use xlink:href=\\\"#glyph-1567442442225000-0-8\\\" x=\\\"287.209\\\" y=\\\"248.771\\\"\\/>\\n<\\/g>\\n<g style=\\\"fill:rgb(0%,0%,0%);fill-opacity:1;\\\">\\n  <use xlink:href=\\\"#glyph-1567442442225000-0-1\\\" x=\\\"317.496\\\" y=\\\"248.771\\\"\\/>\\n<\\/g>\\n<g style=\\\"fill:rgb(0%,0%,0%);fill-opacity:1;\\\">\\n  <use xlink:href=\\\"#glyph-1567442442225000-1-1\\\" x=\\\"322.478\\\" y=\\\"248.771\\\"\\/>\\n<\\/g>\\n<g style=\\\"fill:rgb(0%,0%,0%);fill-opacity:1;\\\">\\n  <use xlink:href=\\\"#glyph-1567442442225000-0-9\\\" x=\\\"325.245\\\" y=\\\"248.771\\\"\\/>\\n<\\/g>\\n<g style=\\\"fill:rgb(0%,0%,0%);fill-opacity:1;\\\">\\n  <use xlink:href=\\\"#glyph-1567442442225000-0-1\\\" x=\\\"355.533\\\" y=\\\"248.771\\\"\\/>\\n<\\/g>\\n<g style=\\\"fill:rgb(0%,0%,0%);fill-opacity:1;\\\">\\n  <use xlink:href=\\\"#glyph-1567442442225000-1-1\\\" x=\\\"360.514\\\" y=\\\"248.771\\\"\\/>\\n<\\/g>\\n<g style=\\\"fill:rgb(0%,0%,0%);fill-opacity:1;\\\">\\n  <use xlink:href=\\\"#glyph-1567442442225000-0-10\\\" x=\\\"363.281\\\" y=\\\"248.771\\\"\\/>\\n<\\/g>\\n<g style=\\\"fill:rgb(0%,0%,0%);fill-opacity:1;\\\">\\n  <use xlink:href=\\\"#glyph-1567442442225000-0-2\\\" x=\\\"397.443\\\" y=\\\"248.771\\\"\\/>\\n<\\/g>\\n<g style=\\\"fill:rgb(0%,0%,0%);fill-opacity:1;\\\">\\n  <use xlink:href=\\\"#glyph-1567442442225000-0-1\\\" x=\\\"11.069\\\" y=\\\"242.042\\\"\\/>\\n<\\/g>\\n<g style=\\\"fill:rgb(0%,0%,0%);fill-opacity:1;\\\">\\n  <use xlink:href=\\\"#glyph-1567442442225000-0-1\\\" x=\\\"3.321\\\" y=\\\"198.654\\\"\\/>\\n<\\/g>\\n<g style=\\\"fill:rgb(0%,0%,0%);fill-opacity:1;\\\">\\n  <use xlink:href=\\\"#glyph-1567442442225000-1-1\\\" x=\\\"8.302\\\" y=\\\"198.654\\\"\\/>\\n<\\/g>\\n<g style=\\\"fill:rgb(0%,0%,0%);fill-opacity:1;\\\">\\n  <use xlink:href=\\\"#glyph-1567442442225000-0-3\\\" x=\\\"11.069\\\" y=\\\"198.654\\\"\\/>\\n<\\/g>\\n<g style=\\\"fill:rgb(0%,0%,0%);fill-opacity:1;\\\">\\n  <use xlink:href=\\\"#glyph-1567442442225000-0-1\\\" x=\\\"3.321\\\" y=\\\"155.267\\\"\\/>\\n<\\/g>\\n<g style=\\\"fill:rgb(0%,0%,0%);fill-opacity:1;\\\">\\n  <use xlink:href=\\\"#glyph-1567442442225000-1-1\\\" x=\\\"8.302\\\" y=\\\"155.267\\\"\\/>\\n<\\/g>\\n<g style=\\\"fill:rgb(0%,0%,0%);fill-opacity:1;\\\">\\n  <use xlink:href=\\\"#glyph-1567442442225000-0-5\\\" x=\\\"11.069\\\" y=\\\"155.267\\\"\\/>\\n<\\/g>\\n<g style=\\\"fill:rgb(0%,0%,0%);fill-opacity:1;\\\">\\n  <use xlink:href=\\\"#glyph-1567442442225000-0-1\\\" x=\\\"3.321\\\" y=\\\"111.879\\\"\\/>\\n<\\/g>\\n<g style=\\\"fill:rgb(0%,0%,0%);fill-opacity:1;\\\">\\n  <use xlink:href=\\\"#glyph-1567442442225000-1-1\\\" x=\\\"8.302\\\" y=\\\"111.879\\\"\\/>\\n<\\/g>\\n<g style=\\\"fill:rgb(0%,0%,0%);fill-opacity:1;\\\">\\n  <use xlink:href=\\\"#glyph-1567442442225000-0-7\\\" x=\\\"11.069\\\" y=\\\"111.879\\\"\\/>\\n<\\/g>\\n<g style=\\\"fill:rgb(0%,0%,0%);fill-opacity:1;\\\">\\n  <use xlink:href=\\\"#glyph-1567442442225000-0-1\\\" x=\\\"3.321\\\" y=\\\"68.492\\\"\\/>\\n<\\/g>\\n<g style=\\\"fill:rgb(0%,0%,0%);fill-opacity:1;\\\">\\n  <use xlink:href=\\\"#glyph-1567442442225000-1-1\\\" x=\\\"8.302\\\" y=\\\"68.492\\\"\\/>\\n<\\/g>\\n<g style=\\\"fill:rgb(0%,0%,0%);fill-opacity:1;\\\">\\n  <use xlink:href=\\\"#glyph-1567442442225000-0-9\\\" x=\\\"11.069\\\" y=\\\"68.492\\\"\\/>\\n<\\/g>\\n<g style=\\\"fill:rgb(0%,0%,0%);fill-opacity:1;\\\">\\n  <use xlink:href=\\\"#glyph-1567442442225000-0-2\\\" x=\\\"11.069\\\" y=\\\"25.104\\\"\\/>\\n<\\/g>\\n<g clip-path=\\\"url(#clip-1567442442225000-1)\\\" clip-rule=\\\"nonzero\\\">\\n<path style=\\\"fill:none;stroke-width:0.3985;stroke-linecap:butt;stroke-linejoin:miter;stroke:rgb(0%,0%,100%);stroke-opacity:1;stroke-miterlimit:10;\\\" d=\\\"M 0.0003125 216.940375 L 380.3675 216.940375 \\\" transform=\\\"matrix(1,0,0,-1,19.57,238.831)\\\"\\/>\\n<\\/g>\\n<path style=\\\"fill-rule:nonzero;fill:rgb(100%,100%,100%);fill-opacity:1;stroke-width:0.3985;stroke-linecap:butt;stroke-linejoin:miter;stroke:rgb(0%,0%,0%);stroke-opacity:1;stroke-miterlimit:10;\\\" d=\\\"M 301.055 216.725531 L 372.558906 216.725531 L 372.558906 233.663031 L 301.055 233.663031 Z M 301.055 216.725531 \\\" transform=\\\"matrix(1,0,0,-1,19.57,238.831)\\\"\\/>\\n<path style=\\\"fill:none;stroke-width:0.3985;stroke-linecap:butt;stroke-linejoin:miter;stroke:rgb(0%,0%,100%);stroke-opacity:1;stroke-miterlimit:10;\\\" d=\\\"M -0.00140625 -0.000625 L 17.006406 -0.000625 \\\" transform=\\\"matrix(1,0,0,-1,323.81,13.64)\\\"\\/>\\n<g style=\\\"fill:rgb(0%,0%,0%);fill-opacity:1;\\\">\\n  <use xlink:href=\\\"#glyph-1567442442225000-2-1\\\" x=\\\"343.01\\\" y=\\\"16.629\\\"\\/>\\n  <use xlink:href=\\\"#glyph-1567442442225000-2-2\\\" x=\\\"350.063549\\\" y=\\\"16.629\\\"\\/>\\n  <use xlink:href=\\\"#glyph-1567442442225000-2-3\\\" x=\\\"354.486961\\\" y=\\\"16.629\\\"\\/>\\n  <use xlink:href=\\\"#glyph-1567442442225000-2-4\\\" x=\\\"358.362428\\\" y=\\\"16.629\\\"\\/>\\n  <use xlink:href=\\\"#glyph-1567442442225000-2-5\\\" x=\\\"363.343748\\\" y=\\\"16.629\\\"\\/>\\n  <use xlink:href=\\\"#glyph-1567442442225000-2-6\\\" x=\\\"367.219215\\\" y=\\\"16.629\\\"\\/>\\n  <use xlink:href=\\\"#glyph-1567442442225000-2-7\\\" x=\\\"372.200535\\\" y=\\\"16.629\\\"\\/>\\n<\\/g>\\n<g style=\\\"fill:rgb(0%,0%,0%);fill-opacity:1;\\\">\\n  <use xlink:href=\\\"#glyph-1567442442225000-2-6\\\" x=\\\"378.287708\\\" y=\\\"16.629\\\"\\/>\\n  <use xlink:href=\\\"#glyph-1567442442225000-2-8\\\" x=\\\"383.269028\\\" y=\\\"16.629\\\"\\/>\\n<\\/g>\\n<\\/g>\\n<\\/svg>\\n\\n\"}}},\"children\":[{\"props\":{\"className\":\"webio-observable\",\"setInnerHtml\":\"<?xml version=\\\"1.0\\\" encoding=\\\"UTF-8\\\"?>\\n<svg xmlns=\\\"http:\\/\\/www.w3.org\\/2000\\/svg\\\" xmlns:xlink=\\\"http:\\/\\/www.w3.org\\/1999\\/xlink\\\" width=\\\"405.745pt\\\" height=\\\"252.092pt\\\" viewBox=\\\"0 0 405.745 252.092\\\" version=\\\"1.1\\\">\\n<defs>\\n<g>\\n<symbol overflow=\\\"visible\\\" id=\\\"glyph-1567442442225000-0-0\\\">\\n<path style=\\\"stroke:none;\\\" d=\\\"\\\"\\/>\\n<\\/symbol>\\n<symbol overflow=\\\"visible\\\" id=\\\"glyph-1567442442225000-0-1\\\">\\n<path style=\\\"stroke:none;\\\" d=\\\"M 4.578125 -3.1875 C 4.578125 -3.984375 4.53125 -4.78125 4.1875 -5.515625 C 3.734375 -6.484375 2.90625 -6.640625 2.5 -6.640625 C 1.890625 -6.640625 1.171875 -6.375 0.75 -5.453125 C 0.4375 -4.765625 0.390625 -3.984375 0.390625 -3.1875 C 0.390625 -2.4375 0.421875 -1.546875 0.84375 -0.78125 C 1.265625 0.015625 2 0.21875 2.484375 0.21875 C 3.015625 0.21875 3.78125 0.015625 4.21875 -0.9375 C 4.53125 -1.625 4.578125 -2.40625 4.578125 -3.1875 Z M 2.484375 0 C 2.09375 0 1.5 -0.25 1.328125 -1.203125 C 1.21875 -1.796875 1.21875 -2.71875 1.21875 -3.3125 C 1.21875 -3.953125 1.21875 -4.609375 1.296875 -5.140625 C 1.484375 -6.328125 2.234375 -6.421875 2.484375 -6.421875 C 2.8125 -6.421875 3.46875 -6.234375 3.65625 -5.25 C 3.765625 -4.6875 3.765625 -3.9375 3.765625 -3.3125 C 3.765625 -2.5625 3.765625 -1.890625 3.65625 -1.25 C 3.5 -0.296875 2.9375 0 2.484375 0 Z M 2.484375 0 \\\"\\/>\\n<\\/symbol>\\n<symbol overflow=\\\"visible\\\" id=\\\"glyph-1567442442225000-0-2\\\">\\n<path style=\\\"stroke:none;\\\" d=\\\"M 2.9375 -6.375 C 2.9375 -6.625 2.9375 -6.640625 2.703125 -6.640625 C 2.078125 -6 1.203125 -6 0.890625 -6 L 0.890625 -5.6875 C 1.09375 -5.6875 1.671875 -5.6875 2.1875 -5.953125 L 2.1875 -0.78125 C 2.1875 -0.421875 2.15625 -0.3125 1.265625 -0.3125 L 0.953125 -0.3125 L 0.953125 0 C 1.296875 -0.03125 2.15625 -0.03125 2.5625 -0.03125 C 2.953125 -0.03125 3.828125 -0.03125 4.171875 0 L 4.171875 -0.3125 L 3.859375 -0.3125 C 2.953125 -0.3125 2.9375 -0.421875 2.9375 -0.78125 Z M 2.9375 -6.375 \\\"\\/>\\n<\\/symbol>\\n<symbol overflow=\\\"visible\\\" id=\\\"glyph-1567442442225000-0-3\\\">\\n<path style=\\\"stroke:none;\\\" d=\\\"M 1.265625 -0.765625 L 2.328125 -1.796875 C 3.875 -3.171875 4.46875 -3.703125 4.46875 -4.703125 C 4.46875 -5.84375 3.578125 -6.640625 2.359375 -6.640625 C 1.234375 -6.640625 0.5 -5.71875 0.5 -4.828125 C 0.5 -4.28125 1 -4.28125 1.03125 -4.28125 C 1.203125 -4.28125 1.546875 -4.390625 1.546875 -4.8125 C 1.546875 -5.0625 1.359375 -5.328125 1.015625 -5.328125 C 0.9375 -5.328125 0.921875 -5.328125 0.890625 -5.3125 C 1.109375 -5.96875 1.65625 -6.328125 2.234375 -6.328125 C 3.140625 -6.328125 3.5625 -5.515625 3.5625 -4.703125 C 3.5625 -3.90625 3.078125 -3.125 2.515625 -2.5 L 0.609375 -0.375 C 0.5 -0.265625 0.5 -0.234375 0.5 0 L 4.203125 0 L 4.46875 -1.734375 L 4.234375 -1.734375 C 4.171875 -1.4375 4.109375 -1 4 -0.84375 C 3.9375 -0.765625 3.28125 -0.765625 3.0625 -0.765625 Z M 1.265625 -0.765625 \\\"\\/>\\n<\\/symbol>\\n<symbol overflow=\\\"visible\\\" id=\\\"glyph-1567442442225000-0-4\\\">\\n<path style=\\\"stroke:none;\\\" d=\\\"M 2.890625 -3.515625 C 3.703125 -3.78125 4.28125 -4.46875 4.28125 -5.265625 C 4.28125 -6.078125 3.40625 -6.640625 2.453125 -6.640625 C 1.453125 -6.640625 0.6875 -6.046875 0.6875 -5.28125 C 0.6875 -4.953125 0.90625 -4.765625 1.203125 -4.765625 C 1.5 -4.765625 1.703125 -4.984375 1.703125 -5.28125 C 1.703125 -5.765625 1.234375 -5.765625 1.09375 -5.765625 C 1.390625 -6.265625 2.046875 -6.390625 2.40625 -6.390625 C 2.828125 -6.390625 3.375 -6.171875 3.375 -5.28125 C 3.375 -5.15625 3.34375 -4.578125 3.09375 -4.140625 C 2.796875 -3.65625 2.453125 -3.625 2.203125 -3.625 C 2.125 -3.609375 1.890625 -3.59375 1.8125 -3.59375 C 1.734375 -3.578125 1.671875 -3.5625 1.671875 -3.46875 C 1.671875 -3.359375 1.734375 -3.359375 1.90625 -3.359375 L 2.34375 -3.359375 C 3.15625 -3.359375 3.53125 -2.6875 3.53125 -1.703125 C 3.53125 -0.34375 2.84375 -0.0625 2.40625 -0.0625 C 1.96875 -0.0625 1.21875 -0.234375 0.875 -0.8125 C 1.21875 -0.765625 1.53125 -0.984375 1.53125 -1.359375 C 1.53125 -1.71875 1.265625 -1.921875 0.984375 -1.921875 C 0.734375 -1.921875 0.421875 -1.78125 0.421875 -1.34375 C 0.421875 -0.4375 1.34375 0.21875 2.4375 0.21875 C 3.65625 0.21875 4.5625 -0.6875 4.5625 -1.703125 C 4.5625 -2.515625 3.921875 -3.296875 2.890625 -3.515625 Z M 2.890625 -3.515625 \\\"\\/>\\n<\\/symbol>\\n<symbol overflow=\\\"visible\\\" id=\\\"glyph-1567442442225000-0-5\\\">\\n<path style=\\\"stroke:none;\\\" d=\\\"M 2.9375 -1.640625 L 2.9375 -0.78125 C 2.9375 -0.421875 2.90625 -0.3125 2.171875 -0.3125 L 1.96875 -0.3125 L 1.96875 0 C 2.375 -0.03125 2.890625 -0.03125 3.3125 -0.03125 C 3.734375 -0.03125 4.25 -0.03125 4.671875 0 L 4.671875 -0.3125 L 4.453125 -0.3125 C 3.71875 -0.3125 3.703125 -0.421875 3.703125 -0.78125 L 3.703125 -1.640625 L 4.6875 -1.640625 L 4.6875 -1.953125 L 3.703125 -1.953125 L 3.703125 -6.484375 C 3.703125 -6.6875 3.703125 -6.75 3.53125 -6.75 C 3.453125 -6.75 3.421875 -6.75 3.34375 -6.625 L 0.28125 -1.953125 L 0.28125 -1.640625 Z M 2.984375 -1.953125 L 0.5625 -1.953125 L 2.984375 -5.671875 Z M 2.984375 -1.953125 \\\"\\/>\\n<\\/symbol>\\n<symbol overflow=\\\"visible\\\" id=\\\"glyph-1567442442225000-0-6\\\">\\n<path style=\\\"stroke:none;\\\" d=\\\"M 4.46875 -2 C 4.46875 -3.1875 3.65625 -4.1875 2.578125 -4.1875 C 2.109375 -4.1875 1.671875 -4.03125 1.3125 -3.671875 L 1.3125 -5.625 C 1.515625 -5.5625 1.84375 -5.5 2.15625 -5.5 C 3.390625 -5.5 4.09375 -6.40625 4.09375 -6.53125 C 4.09375 -6.59375 4.0625 -6.640625 3.984375 -6.640625 C 3.984375 -6.640625 3.953125 -6.640625 3.90625 -6.609375 C 3.703125 -6.515625 3.21875 -6.3125 2.546875 -6.3125 C 2.15625 -6.3125 1.6875 -6.390625 1.21875 -6.59375 C 1.140625 -6.625 1.125 -6.625 1.109375 -6.625 C 1 -6.625 1 -6.546875 1 -6.390625 L 1 -3.4375 C 1 -3.265625 1 -3.1875 1.140625 -3.1875 C 1.21875 -3.1875 1.234375 -3.203125 1.28125 -3.265625 C 1.390625 -3.421875 1.75 -3.96875 2.5625 -3.96875 C 3.078125 -3.96875 3.328125 -3.515625 3.40625 -3.328125 C 3.5625 -2.953125 3.59375 -2.578125 3.59375 -2.078125 C 3.59375 -1.71875 3.59375 -1.125 3.34375 -0.703125 C 3.109375 -0.3125 2.734375 -0.0625 2.28125 -0.0625 C 1.5625 -0.0625 0.984375 -0.59375 0.8125 -1.171875 C 0.84375 -1.171875 0.875 -1.15625 0.984375 -1.15625 C 1.3125 -1.15625 1.484375 -1.40625 1.484375 -1.640625 C 1.484375 -1.890625 1.3125 -2.140625 0.984375 -2.140625 C 0.84375 -2.140625 0.5 -2.0625 0.5 -1.609375 C 0.5 -0.75 1.1875 0.21875 2.296875 0.21875 C 3.453125 0.21875 4.46875 -0.734375 4.46875 -2 Z M 4.46875 -2 \\\"\\/>\\n<\\/symbol>\\n<symbol overflow=\\\"visible\\\" id=\\\"glyph-1567442442225000-0-7\\\">\\n<path style=\\\"stroke:none;\\\" d=\\\"M 1.3125 -3.265625 L 1.3125 -3.515625 C 1.3125 -6.03125 2.546875 -6.390625 3.0625 -6.390625 C 3.296875 -6.390625 3.71875 -6.328125 3.9375 -5.984375 C 3.78125 -5.984375 3.390625 -5.984375 3.390625 -5.546875 C 3.390625 -5.234375 3.625 -5.078125 3.84375 -5.078125 C 4 -5.078125 4.3125 -5.171875 4.3125 -5.5625 C 4.3125 -6.15625 3.875 -6.640625 3.046875 -6.640625 C 1.765625 -6.640625 0.421875 -5.359375 0.421875 -3.15625 C 0.421875 -0.484375 1.578125 0.21875 2.5 0.21875 C 3.609375 0.21875 4.5625 -0.71875 4.5625 -2.03125 C 4.5625 -3.296875 3.671875 -4.25 2.5625 -4.25 C 1.890625 -4.25 1.515625 -3.75 1.3125 -3.265625 Z M 2.5 -0.0625 C 1.875 -0.0625 1.578125 -0.65625 1.515625 -0.8125 C 1.328125 -1.28125 1.328125 -2.078125 1.328125 -2.25 C 1.328125 -3.03125 1.65625 -4.03125 2.546875 -4.03125 C 2.71875 -4.03125 3.171875 -4.03125 3.484375 -3.40625 C 3.65625 -3.046875 3.65625 -2.53125 3.65625 -2.046875 C 3.65625 -1.5625 3.65625 -1.0625 3.484375 -0.703125 C 3.1875 -0.109375 2.734375 -0.0625 2.5 -0.0625 Z M 2.5 -0.0625 \\\"\\/>\\n<\\/symbol>\\n<symbol overflow=\\\"visible\\\" id=\\\"glyph-1567442442225000-0-8\\\">\\n<path style=\\\"stroke:none;\\\" d=\\\"M 4.75 -6.078125 C 4.828125 -6.1875 4.828125 -6.203125 4.828125 -6.421875 L 2.40625 -6.421875 C 1.203125 -6.421875 1.171875 -6.546875 1.140625 -6.734375 L 0.890625 -6.734375 L 0.5625 -4.6875 L 0.8125 -4.6875 C 0.84375 -4.84375 0.921875 -5.46875 1.0625 -5.59375 C 1.125 -5.65625 1.90625 -5.65625 2.03125 -5.65625 L 4.09375 -5.65625 C 3.984375 -5.5 3.203125 -4.40625 2.984375 -4.078125 C 2.078125 -2.734375 1.75 -1.34375 1.75 -0.328125 C 1.75 -0.234375 1.75 0.21875 2.21875 0.21875 C 2.671875 0.21875 2.671875 -0.234375 2.671875 -0.328125 L 2.671875 -0.84375 C 2.671875 -1.390625 2.703125 -1.9375 2.78125 -2.46875 C 2.828125 -2.703125 2.953125 -3.5625 3.40625 -4.171875 Z M 4.75 -6.078125 \\\"\\/>\\n<\\/symbol>\\n<symbol overflow=\\\"visible\\\" id=\\\"glyph-1567442442225000-0-9\\\">\\n<path style=\\\"stroke:none;\\\" d=\\\"M 1.625 -4.5625 C 1.171875 -4.859375 1.125 -5.1875 1.125 -5.359375 C 1.125 -5.96875 1.78125 -6.390625 2.484375 -6.390625 C 3.203125 -6.390625 3.84375 -5.875 3.84375 -5.15625 C 3.84375 -4.578125 3.453125 -4.109375 2.859375 -3.765625 Z M 3.078125 -3.609375 C 3.796875 -3.984375 4.28125 -4.5 4.28125 -5.15625 C 4.28125 -6.078125 3.40625 -6.640625 2.5 -6.640625 C 1.5 -6.640625 0.6875 -5.90625 0.6875 -4.96875 C 0.6875 -4.796875 0.703125 -4.34375 1.125 -3.875 C 1.234375 -3.765625 1.609375 -3.515625 1.859375 -3.34375 C 1.28125 -3.046875 0.421875 -2.5 0.421875 -1.5 C 0.421875 -0.453125 1.4375 0.21875 2.484375 0.21875 C 3.609375 0.21875 4.5625 -0.609375 4.5625 -1.671875 C 4.5625 -2.03125 4.453125 -2.484375 4.0625 -2.90625 C 3.875 -3.109375 3.71875 -3.203125 3.078125 -3.609375 Z M 2.078125 -3.1875 L 3.3125 -2.40625 C 3.59375 -2.21875 4.0625 -1.921875 4.0625 -1.3125 C 4.0625 -0.578125 3.3125 -0.0625 2.5 -0.0625 C 1.640625 -0.0625 0.921875 -0.671875 0.921875 -1.5 C 0.921875 -2.078125 1.234375 -2.71875 2.078125 -3.1875 Z M 2.078125 -3.1875 \\\"\\/>\\n<\\/symbol>\\n<symbol overflow=\\\"visible\\\" id=\\\"glyph-1567442442225000-0-10\\\">\\n<path style=\\\"stroke:none;\\\" d=\\\"M 3.65625 -3.171875 L 3.65625 -2.84375 C 3.65625 -0.515625 2.625 -0.0625 2.046875 -0.0625 C 1.875 -0.0625 1.328125 -0.078125 1.0625 -0.421875 C 1.5 -0.421875 1.578125 -0.703125 1.578125 -0.875 C 1.578125 -1.1875 1.34375 -1.328125 1.125 -1.328125 C 0.96875 -1.328125 0.671875 -1.25 0.671875 -0.859375 C 0.671875 -0.1875 1.203125 0.21875 2.046875 0.21875 C 3.34375 0.21875 4.5625 -1.140625 4.5625 -3.28125 C 4.5625 -5.96875 3.40625 -6.640625 2.515625 -6.640625 C 1.96875 -6.640625 1.484375 -6.453125 1.0625 -6.015625 C 0.640625 -5.5625 0.421875 -5.140625 0.421875 -4.390625 C 0.421875 -3.15625 1.296875 -2.171875 2.40625 -2.171875 C 3.015625 -2.171875 3.421875 -2.59375 3.65625 -3.171875 Z M 2.421875 -2.40625 C 2.265625 -2.40625 1.796875 -2.40625 1.5 -3.03125 C 1.3125 -3.40625 1.3125 -3.890625 1.3125 -4.390625 C 1.3125 -4.921875 1.3125 -5.390625 1.53125 -5.765625 C 1.796875 -6.265625 2.171875 -6.390625 2.515625 -6.390625 C 2.984375 -6.390625 3.3125 -6.046875 3.484375 -5.609375 C 3.59375 -5.28125 3.640625 -4.65625 3.640625 -4.203125 C 3.640625 -3.375 3.296875 -2.40625 2.421875 -2.40625 Z M 2.421875 -2.40625 \\\"\\/>\\n<\\/symbol>\\n<symbol overflow=\\\"visible\\\" id=\\\"glyph-1567442442225000-1-0\\\">\\n<path style=\\\"stroke:none;\\\" d=\\\"\\\"\\/>\\n<\\/symbol>\\n<symbol overflow=\\\"visible\\\" id=\\\"glyph-1567442442225000-1-1\\\">\\n<path style=\\\"stroke:none;\\\" d=\\\"M 1.90625 -0.53125 C 1.90625 -0.8125 1.671875 -1.0625 1.390625 -1.0625 C 1.09375 -1.0625 0.859375 -0.8125 0.859375 -0.53125 C 0.859375 -0.234375 1.09375 0 1.390625 0 C 1.671875 0 1.90625 -0.234375 1.90625 -0.53125 Z M 1.90625 -0.53125 \\\"\\/>\\n<\\/symbol>\\n<symbol overflow=\\\"visible\\\" id=\\\"glyph-1567442442225000-2-0\\\">\\n<path style=\\\"stroke:none;\\\" d=\\\"\\\"\\/>\\n<\\/symbol>\\n<symbol overflow=\\\"visible\\\" id=\\\"glyph-1567442442225000-2-1\\\">\\n<path style=\\\"stroke:none;\\\" d=\\\"M 6.65625 -1.984375 C 6.65625 -2.84375 5.671875 -3.765625 4.5625 -3.890625 L 4.5625 -3.5625 C 5.53125 -3.75 6.390625 -4.546875 6.390625 -5.28125 C 6.390625 -6.15625 5.296875 -7.140625 4 -7.140625 L 0.171875 -7.140625 L 0.171875 -6.5 L 0.59375 -6.5 C 1.359375 -6.5 1.203125 -6.546875 1.203125 -6.1875 L 1.203125 -0.9375 C 1.203125 -0.578125 1.359375 -0.640625 0.59375 -0.640625 L 0.171875 -0.640625 L 0.171875 0 L 4.265625 0 C 5.59375 0 6.65625 -1.046875 6.65625 -1.984375 Z M 5.078125 -5.28125 C 5.078125 -4.640625 4.765625 -3.984375 3.65625 -3.984375 L 2.375 -3.984375 L 2.375 -6.265625 C 2.375 -6.59375 2.234375 -6.5 2.703125 -6.5 L 3.9375 -6.5 C 4.90625 -6.5 5.078125 -5.8125 5.078125 -5.28125 Z M 5.3125 -2 C 5.3125 -1.28125 4.96875 -0.640625 3.953125 -0.640625 L 2.703125 -0.640625 C 2.234375 -0.640625 2.375 -0.53125 2.375 -0.875 L 2.375 -3.421875 L 4.09375 -3.421875 C 5.078125 -3.421875 5.3125 -2.65625 5.3125 -2 Z M 5.3125 -2 \\\"\\/>\\n<\\/symbol>\\n<symbol overflow=\\\"visible\\\" id=\\\"glyph-1567442442225000-2-2\\\">\\n<path style=\\\"stroke:none;\\\" d=\\\"M 4.3125 -1.34375 C 4.3125 -1.453125 4.0625 -1.640625 4 -1.640625 C 3.921875 -1.640625 3.71875 -1.40625 3.703125 -1.328125 C 3.34375 -0.296875 2.625 -0.46875 2.53125 -0.46875 C 2.03125 -0.46875 1.75 -0.71875 1.53125 -1.09375 C 1.21875 -1.5625 1.28125 -2.109375 1.28125 -2.296875 L 3.890625 -2.296875 C 4.109375 -2.296875 4.3125 -2.46875 4.3125 -2.671875 C 4.3125 -3.65625 3.59375 -4.796875 2.359375 -4.796875 C 1.203125 -4.796875 0.09375 -3.59375 0.09375 -2.359375 C 0.09375 -1.015625 1.328125 0.109375 2.46875 0.109375 C 3.6875 0.109375 4.3125 -1.15625 4.3125 -1.34375 Z M 3.484375 -2.84375 L 1.296875 -2.84375 C 1.34375 -4.15625 2.015625 -4.25 2.359375 -4.25 C 3.375 -4.25 3.296875 -3.0625 3.296875 -2.84375 Z M 3.484375 -2.84375 \\\"\\/>\\n<\\/symbol>\\n<symbol overflow=\\\"visible\\\" id=\\\"glyph-1567442442225000-2-3\\\">\\n<path style=\\\"stroke:none;\\\" d=\\\"M 3.484375 -1.390625 L 3.484375 -2.140625 L 2.875 -2.140625 L 2.875 -1.421875 C 2.875 -0.671875 2.765625 -0.46875 2.390625 -0.46875 C 1.71875 -0.46875 1.890625 -1.203125 1.890625 -1.375 L 1.890625 -3.984375 L 3.3125 -3.984375 L 3.3125 -4.625 L 1.890625 -4.625 L 1.890625 -6.453125 L 1.296875 -6.453125 C 1.28125 -5.46875 1.171875 -4.578125 0.015625 -4.53125 L 0.015625 -3.984375 L 0.859375 -3.984375 L 0.859375 -1.390625 C 0.859375 -0.171875 1.96875 0.109375 2.328125 0.109375 C 3.03125 0.109375 3.484375 -0.75 3.484375 -1.390625 Z M 3.484375 -1.390625 \\\"\\/>\\n<\\/symbol>\\n<symbol overflow=\\\"visible\\\" id=\\\"glyph-1567442442225000-2-4\\\">\\n<path style=\\\"stroke:none;\\\" d=\\\"M 4.984375 -1.046875 L 4.984375 -1.78125 L 4.390625 -1.78125 L 4.390625 -1.046875 C 4.390625 -0.46875 4.3125 -0.578125 4.203125 -0.578125 C 3.875 -0.578125 4 -0.859375 4 -0.90625 L 4 -2.90625 C 4 -3.3125 3.953125 -3.828125 3.59375 -4.203125 C 3.203125 -4.578125 2.59375 -4.796875 2.109375 -4.796875 C 1.296875 -4.796875 0.421875 -4.15625 0.421875 -3.5 C 0.421875 -3.203125 0.8125 -2.875 1.0625 -2.875 C 1.34375 -2.875 1.6875 -3.234375 1.6875 -3.484375 C 1.6875 -3.609375 1.46875 -4.109375 1.34375 -4.109375 C 1.40625 -4.1875 1.78125 -4.25 2.09375 -4.25 C 2.578125 -4.25 2.96875 -4.015625 2.96875 -3.125 L 2.96875 -2.921875 C 2.640625 -2.90625 1.9375 -2.875 1.3125 -2.578125 C 0.5625 -2.234375 0.140625 -1.546875 0.140625 -1.109375 C 0.140625 -0.296875 1.28125 0.109375 1.90625 0.109375 C 2.578125 0.109375 3.203125 -0.453125 3.390625 -0.921875 L 3.046875 -0.921875 C 3.078125 -0.515625 3.53125 0.0625 4 0.0625 C 4.203125 0.0625 4.984375 -0.234375 4.984375 -1.046875 Z M 2.96875 -1.5625 C 2.96875 -0.609375 2.4375 -0.4375 1.984375 -0.4375 C 1.5 -0.4375 1.25 -0.625 1.25 -1.109375 C 1.25 -1.671875 1.5 -2.328125 2.96875 -2.375 Z M 2.96875 -1.5625 \\\"\\/>\\n<\\/symbol>\\n<symbol overflow=\\\"visible\\\" id=\\\"glyph-1567442442225000-2-5\\\">\\n<path style=\\\"stroke:none;\\\" d=\\\"M 3.46875 2.234375 C 3.46875 2.203125 3.421875 2.0625 3.25 1.890625 C 2 0.640625 1.734375 -1.125 1.734375 -2.65625 C 1.734375 -4.390625 2.0625 -6.015625 3.296875 -7.25 C 3.421875 -7.375 3.46875 -7.5 3.46875 -7.53125 C 3.46875 -7.609375 3.265625 -7.8125 3.203125 -7.8125 C 3.09375 -7.8125 2.03125 -6.953125 1.4375 -5.6875 C 0.921875 -4.59375 0.8125 -3.484375 0.8125 -2.65625 C 0.8125 -1.875 0.921875 -0.671875 1.46875 0.453125 C 2.0625 1.6875 3.09375 2.5 3.203125 2.5 C 3.265625 2.5 3.46875 2.296875 3.46875 2.234375 Z M 3.46875 2.234375 \\\"\\/>\\n<\\/symbol>\\n<symbol overflow=\\\"visible\\\" id=\\\"glyph-1567442442225000-2-6\\\">\\n<path style=\\\"stroke:none;\\\" d=\\\"M 4.34375 -0.15625 L 4.34375 -0.640625 L 3.859375 -0.640625 C 2.953125 -0.640625 3.09375 -0.578125 3.09375 -0.953125 L 3.09375 -6.546875 C 3.09375 -6.78125 2.9375 -6.96875 2.625 -6.96875 C 1.953125 -6.28125 1.203125 -6.328125 0.703125 -6.328125 L 0.703125 -5.6875 C 1.09375 -5.6875 1.796875 -5.734375 2.015625 -5.859375 L 2.015625 -0.953125 C 2.015625 -0.59375 2.15625 -0.640625 1.265625 -0.640625 L 0.765625 -0.640625 L 0.765625 0.015625 C 1.296875 -0.03125 2.15625 -0.03125 2.5625 -0.03125 C 2.953125 -0.03125 3.828125 -0.03125 4.34375 0.015625 Z M 4.34375 -0.15625 \\\"\\/>\\n<\\/symbol>\\n<symbol overflow=\\\"visible\\\" id=\\\"glyph-1567442442225000-2-7\\\">\\n<path style=\\\"stroke:none;\\\" d=\\\"M 2.1875 -0.171875 C 2.1875 -0.8125 1.78125 -1.390625 1.390625 -1.390625 C 1.03125 -1.390625 0.671875 -0.953125 0.671875 -0.6875 C 0.671875 -0.421875 1.03125 0 1.390625 0 C 1.53125 0 1.796875 -0.109375 1.609375 0.0625 C 1.625 0.46875 1.390625 0.953125 0.953125 1.421875 C 0.890625 1.484375 0.84375 1.609375 0.84375 1.65625 C 0.84375 1.71875 1.0625 1.921875 1.109375 1.921875 C 1.234375 1.921875 2.1875 0.984375 2.1875 -0.171875 Z M 2.1875 -0.171875 \\\"\\/>\\n<\\/symbol>\\n<symbol overflow=\\\"visible\\\" id=\\\"glyph-1567442442225000-2-8\\\">\\n<path style=\\\"stroke:none;\\\" d=\\\"M 3.046875 -2.65625 C 3.046875 -3.421875 2.9375 -4.640625 2.390625 -5.765625 C 1.796875 -6.984375 0.765625 -7.8125 0.671875 -7.8125 C 0.609375 -7.8125 0.390625 -7.59375 0.390625 -7.53125 C 0.390625 -7.5 0.4375 -7.375 0.625 -7.203125 C 1.609375 -6.203125 2.125 -4.734375 2.125 -2.65625 C 2.125 -0.953125 1.796875 0.6875 0.5625 1.9375 C 0.4375 2.0625 0.390625 2.203125 0.390625 2.234375 C 0.390625 2.296875 0.609375 2.5 0.671875 2.5 C 0.765625 2.5 1.828125 1.65625 2.421875 0.390625 C 2.9375 -0.703125 3.046875 -1.8125 3.046875 -2.65625 Z M 3.046875 -2.65625 \\\"\\/>\\n<\\/symbol>\\n<\\/g>\\n<clipPath id=\\\"clip-1567442442225000-1\\\">\\n  <path d=\\\"M 19.570313 21 L 399.9375 21 L 399.9375 23 L 19.570313 23 Z M 19.570313 21 \\\"\\/>\\n<\\/clipPath>\\n<\\/defs>\\n<g id=\\\"surface1\\\">\\n<path style=\\\"fill:none;stroke-width:0.19925;stroke-linecap:butt;stroke-linejoin:miter;stroke:rgb(50%,50%,50%);stroke-opacity:1;stroke-miterlimit:10;\\\" d=\\\"M 0.0003125 -0.00103125 L 0.0003125 4.252875 M 38.035469 -0.00103125 L 38.035469 4.252875 M 76.074531 -0.00103125 L 76.074531 4.252875 M 114.109688 -0.00103125 L 114.109688 4.252875 M 152.14875 -0.00103125 L 152.14875 4.252875 M 190.183906 -0.00103125 L 190.183906 4.252875 M 228.222969 -0.00103125 L 228.222969 4.252875 M 266.258125 -0.00103125 L 266.258125 4.252875 M 304.293281 -0.00103125 L 304.293281 4.252875 M 342.332344 -0.00103125 L 342.332344 4.252875 M 380.3675 -0.00103125 L 380.3675 4.252875 M 0.0003125 238.635688 L 0.0003125 234.381781 M 38.035469 238.635688 L 38.035469 234.381781 M 76.074531 238.635688 L 76.074531 234.381781 M 114.109688 238.635688 L 114.109688 234.381781 M 152.14875 238.635688 L 152.14875 234.381781 M 190.183906 238.635688 L 190.183906 234.381781 M 228.222969 238.635688 L 228.222969 234.381781 M 266.258125 238.635688 L 266.258125 234.381781 M 304.293281 238.635688 L 304.293281 234.381781 M 342.332344 238.635688 L 342.332344 234.381781 M 380.3675 238.635688 L 380.3675 234.381781 \\\" transform=\\\"matrix(1,0,0,-1,19.57,238.831)\\\"\\/>\\n<path style=\\\"fill:none;stroke-width:0.19925;stroke-linecap:butt;stroke-linejoin:miter;stroke:rgb(50%,50%,50%);stroke-opacity:1;stroke-miterlimit:10;\\\" d=\\\"M 0.0003125 -0.00103125 L 4.254219 -0.00103125 M 0.0003125 43.389594 L 4.254219 43.389594 M 0.0003125 86.776313 L 4.254219 86.776313 M 0.0003125 130.163031 L 4.254219 130.163031 M 0.0003125 173.553656 L 4.254219 173.553656 M 0.0003125 216.940375 L 4.254219 216.940375 M 380.3675 -0.00103125 L 376.1175 -0.00103125 M 380.3675 43.389594 L 376.1175 43.389594 M 380.3675 86.776313 L 376.1175 86.776313 M 380.3675 130.163031 L 376.1175 130.163031 M 380.3675 173.553656 L 376.1175 173.553656 M 380.3675 216.940375 L 376.1175 216.940375 \\\" transform=\\\"matrix(1,0,0,-1,19.57,238.831)\\\"\\/>\\n<path style=\\\"fill:none;stroke-width:0.3985;stroke-linecap:butt;stroke-linejoin:miter;stroke:rgb(0%,0%,0%);stroke-opacity:1;stroke-miterlimit:10;\\\" d=\\\"M 0.0003125 -0.00103125 L 0.0003125 238.635688 L 380.3675 238.635688 L 380.3675 -0.00103125 Z M 0.0003125 -0.00103125 \\\" transform=\\\"matrix(1,0,0,-1,19.57,238.831)\\\"\\/>\\n<g style=\\\"fill:rgb(0%,0%,0%);fill-opacity:1;\\\">\\n  <use xlink:href=\\\"#glyph-1567442442225000-0-1\\\" x=\\\"17.08\\\" y=\\\"248.771\\\"\\/>\\n<\\/g>\\n<g style=\\\"fill:rgb(0%,0%,0%);fill-opacity:1;\\\">\\n  <use xlink:href=\\\"#glyph-1567442442225000-0-1\\\" x=\\\"51.242\\\" y=\\\"248.771\\\"\\/>\\n<\\/g>\\n<g style=\\\"fill:rgb(0%,0%,0%);fill-opacity:1;\\\">\\n  <use xlink:href=\\\"#glyph-1567442442225000-1-1\\\" x=\\\"56.223\\\" y=\\\"248.771\\\"\\/>\\n<\\/g>\\n<g style=\\\"fill:rgb(0%,0%,0%);fill-opacity:1;\\\">\\n  <use xlink:href=\\\"#glyph-1567442442225000-0-2\\\" x=\\\"58.99\\\" y=\\\"248.771\\\"\\/>\\n<\\/g>\\n<g style=\\\"fill:rgb(0%,0%,0%);fill-opacity:1;\\\">\\n  <use xlink:href=\\\"#glyph-1567442442225000-0-1\\\" x=\\\"89.278\\\" y=\\\"248.771\\\"\\/>\\n<\\/g>\\n<g style=\\\"fill:rgb(0%,0%,0%);fill-opacity:1;\\\">\\n  <use xlink:href=\\\"#glyph-1567442442225000-1-1\\\" x=\\\"94.259\\\" y=\\\"248.771\\\"\\/>\\n<\\/g>\\n<g style=\\\"fill:rgb(0%,0%,0%);fill-opacity:1;\\\">\\n  <use xlink:href=\\\"#glyph-1567442442225000-0-3\\\" x=\\\"97.027\\\" y=\\\"248.771\\\"\\/>\\n<\\/g>\\n<g style=\\\"fill:rgb(0%,0%,0%);fill-opacity:1;\\\">\\n  <use xlink:href=\\\"#glyph-1567442442225000-0-1\\\" x=\\\"127.314\\\" y=\\\"248.771\\\"\\/>\\n<\\/g>\\n<g style=\\\"fill:rgb(0%,0%,0%);fill-opacity:1;\\\">\\n  <use xlink:href=\\\"#glyph-1567442442225000-1-1\\\" x=\\\"132.296\\\" y=\\\"248.771\\\"\\/>\\n<\\/g>\\n<g style=\\\"fill:rgb(0%,0%,0%);fill-opacity:1;\\\">\\n  <use xlink:href=\\\"#glyph-1567442442225000-0-4\\\" x=\\\"135.063\\\" y=\\\"248.771\\\"\\/>\\n<\\/g>\\n<g style=\\\"fill:rgb(0%,0%,0%);fill-opacity:1;\\\">\\n  <use xlink:href=\\\"#glyph-1567442442225000-0-1\\\" x=\\\"165.351\\\" y=\\\"248.771\\\"\\/>\\n<\\/g>\\n<g style=\\\"fill:rgb(0%,0%,0%);fill-opacity:1;\\\">\\n  <use xlink:href=\\\"#glyph-1567442442225000-1-1\\\" x=\\\"170.332\\\" y=\\\"248.771\\\"\\/>\\n<\\/g>\\n<g style=\\\"fill:rgb(0%,0%,0%);fill-opacity:1;\\\">\\n  <use xlink:href=\\\"#glyph-1567442442225000-0-5\\\" x=\\\"173.1\\\" y=\\\"248.771\\\"\\/>\\n<\\/g>\\n<g style=\\\"fill:rgb(0%,0%,0%);fill-opacity:1;\\\">\\n  <use xlink:href=\\\"#glyph-1567442442225000-0-1\\\" x=\\\"203.387\\\" y=\\\"248.771\\\"\\/>\\n<\\/g>\\n<g style=\\\"fill:rgb(0%,0%,0%);fill-opacity:1;\\\">\\n  <use xlink:href=\\\"#glyph-1567442442225000-1-1\\\" x=\\\"208.369\\\" y=\\\"248.771\\\"\\/>\\n<\\/g>\\n<g style=\\\"fill:rgb(0%,0%,0%);fill-opacity:1;\\\">\\n  <use xlink:href=\\\"#glyph-1567442442225000-0-6\\\" x=\\\"211.136\\\" y=\\\"248.771\\\"\\/>\\n<\\/g>\\n<g style=\\\"fill:rgb(0%,0%,0%);fill-opacity:1;\\\">\\n  <use xlink:href=\\\"#glyph-1567442442225000-0-1\\\" x=\\\"241.424\\\" y=\\\"248.771\\\"\\/>\\n<\\/g>\\n<g style=\\\"fill:rgb(0%,0%,0%);fill-opacity:1;\\\">\\n  <use xlink:href=\\\"#glyph-1567442442225000-1-1\\\" x=\\\"246.405\\\" y=\\\"248.771\\\"\\/>\\n<\\/g>\\n<g style=\\\"fill:rgb(0%,0%,0%);fill-opacity:1;\\\">\\n  <use xlink:href=\\\"#glyph-1567442442225000-0-7\\\" x=\\\"249.172\\\" y=\\\"248.771\\\"\\/>\\n<\\/g>\\n<g style=\\\"fill:rgb(0%,0%,0%);fill-opacity:1;\\\">\\n  <use xlink:href=\\\"#glyph-1567442442225000-0-1\\\" x=\\\"279.46\\\" y=\\\"248.771\\\"\\/>\\n<\\/g>\\n<g style=\\\"fill:rgb(0%,0%,0%);fill-opacity:1;\\\">\\n  <use xlink:href=\\\"#glyph-1567442442225000-1-1\\\" x=\\\"284.441\\\" y=\\\"248.771\\\"\\/>\\n<\\/g>\\n<g style=\\\"fill:rgb(0%,0%,0%);fill-opacity:1;\\\">\\n  <use xlink:href=\\\"#glyph-1567442442225000-0-8\\\" x=\\\"287.209\\\" y=\\\"248.771\\\"\\/>\\n<\\/g>\\n<g style=\\\"fill:rgb(0%,0%,0%);fill-opacity:1;\\\">\\n  <use xlink:href=\\\"#glyph-1567442442225000-0-1\\\" x=\\\"317.496\\\" y=\\\"248.771\\\"\\/>\\n<\\/g>\\n<g style=\\\"fill:rgb(0%,0%,0%);fill-opacity:1;\\\">\\n  <use xlink:href=\\\"#glyph-1567442442225000-1-1\\\" x=\\\"322.478\\\" y=\\\"248.771\\\"\\/>\\n<\\/g>\\n<g style=\\\"fill:rgb(0%,0%,0%);fill-opacity:1;\\\">\\n  <use xlink:href=\\\"#glyph-1567442442225000-0-9\\\" x=\\\"325.245\\\" y=\\\"248.771\\\"\\/>\\n<\\/g>\\n<g style=\\\"fill:rgb(0%,0%,0%);fill-opacity:1;\\\">\\n  <use xlink:href=\\\"#glyph-1567442442225000-0-1\\\" x=\\\"355.533\\\" y=\\\"248.771\\\"\\/>\\n<\\/g>\\n<g style=\\\"fill:rgb(0%,0%,0%);fill-opacity:1;\\\">\\n  <use xlink:href=\\\"#glyph-1567442442225000-1-1\\\" x=\\\"360.514\\\" y=\\\"248.771\\\"\\/>\\n<\\/g>\\n<g style=\\\"fill:rgb(0%,0%,0%);fill-opacity:1;\\\">\\n  <use xlink:href=\\\"#glyph-1567442442225000-0-10\\\" x=\\\"363.281\\\" y=\\\"248.771\\\"\\/>\\n<\\/g>\\n<g style=\\\"fill:rgb(0%,0%,0%);fill-opacity:1;\\\">\\n  <use xlink:href=\\\"#glyph-1567442442225000-0-2\\\" x=\\\"397.443\\\" y=\\\"248.771\\\"\\/>\\n<\\/g>\\n<g style=\\\"fill:rgb(0%,0%,0%);fill-opacity:1;\\\">\\n  <use xlink:href=\\\"#glyph-1567442442225000-0-1\\\" x=\\\"11.069\\\" y=\\\"242.042\\\"\\/>\\n<\\/g>\\n<g style=\\\"fill:rgb(0%,0%,0%);fill-opacity:1;\\\">\\n  <use xlink:href=\\\"#glyph-1567442442225000-0-1\\\" x=\\\"3.321\\\" y=\\\"198.654\\\"\\/>\\n<\\/g>\\n<g style=\\\"fill:rgb(0%,0%,0%);fill-opacity:1;\\\">\\n  <use xlink:href=\\\"#glyph-1567442442225000-1-1\\\" x=\\\"8.302\\\" y=\\\"198.654\\\"\\/>\\n<\\/g>\\n<g style=\\\"fill:rgb(0%,0%,0%);fill-opacity:1;\\\">\\n  <use xlink:href=\\\"#glyph-1567442442225000-0-3\\\" x=\\\"11.069\\\" y=\\\"198.654\\\"\\/>\\n<\\/g>\\n<g style=\\\"fill:rgb(0%,0%,0%);fill-opacity:1;\\\">\\n  <use xlink:href=\\\"#glyph-1567442442225000-0-1\\\" x=\\\"3.321\\\" y=\\\"155.267\\\"\\/>\\n<\\/g>\\n<g style=\\\"fill:rgb(0%,0%,0%);fill-opacity:1;\\\">\\n  <use xlink:href=\\\"#glyph-1567442442225000-1-1\\\" x=\\\"8.302\\\" y=\\\"155.267\\\"\\/>\\n<\\/g>\\n<g style=\\\"fill:rgb(0%,0%,0%);fill-opacity:1;\\\">\\n  <use xlink:href=\\\"#glyph-1567442442225000-0-5\\\" x=\\\"11.069\\\" y=\\\"155.267\\\"\\/>\\n<\\/g>\\n<g style=\\\"fill:rgb(0%,0%,0%);fill-opacity:1;\\\">\\n  <use xlink:href=\\\"#glyph-1567442442225000-0-1\\\" x=\\\"3.321\\\" y=\\\"111.879\\\"\\/>\\n<\\/g>\\n<g style=\\\"fill:rgb(0%,0%,0%);fill-opacity:1;\\\">\\n  <use xlink:href=\\\"#glyph-1567442442225000-1-1\\\" x=\\\"8.302\\\" y=\\\"111.879\\\"\\/>\\n<\\/g>\\n<g style=\\\"fill:rgb(0%,0%,0%);fill-opacity:1;\\\">\\n  <use xlink:href=\\\"#glyph-1567442442225000-0-7\\\" x=\\\"11.069\\\" y=\\\"111.879\\\"\\/>\\n<\\/g>\\n<g style=\\\"fill:rgb(0%,0%,0%);fill-opacity:1;\\\">\\n  <use xlink:href=\\\"#glyph-1567442442225000-0-1\\\" x=\\\"3.321\\\" y=\\\"68.492\\\"\\/>\\n<\\/g>\\n<g style=\\\"fill:rgb(0%,0%,0%);fill-opacity:1;\\\">\\n  <use xlink:href=\\\"#glyph-1567442442225000-1-1\\\" x=\\\"8.302\\\" y=\\\"68.492\\\"\\/>\\n<\\/g>\\n<g style=\\\"fill:rgb(0%,0%,0%);fill-opacity:1;\\\">\\n  <use xlink:href=\\\"#glyph-1567442442225000-0-9\\\" x=\\\"11.069\\\" y=\\\"68.492\\\"\\/>\\n<\\/g>\\n<g style=\\\"fill:rgb(0%,0%,0%);fill-opacity:1;\\\">\\n  <use xlink:href=\\\"#glyph-1567442442225000-0-2\\\" x=\\\"11.069\\\" y=\\\"25.104\\\"\\/>\\n<\\/g>\\n<g clip-path=\\\"url(#clip-1567442442225000-1)\\\" clip-rule=\\\"nonzero\\\">\\n<path style=\\\"fill:none;stroke-width:0.3985;stroke-linecap:butt;stroke-linejoin:miter;stroke:rgb(0%,0%,100%);stroke-opacity:1;stroke-miterlimit:10;\\\" d=\\\"M 0.0003125 216.940375 L 380.3675 216.940375 \\\" transform=\\\"matrix(1,0,0,-1,19.57,238.831)\\\"\\/>\\n<\\/g>\\n<path style=\\\"fill-rule:nonzero;fill:rgb(100%,100%,100%);fill-opacity:1;stroke-width:0.3985;stroke-linecap:butt;stroke-linejoin:miter;stroke:rgb(0%,0%,0%);stroke-opacity:1;stroke-miterlimit:10;\\\" d=\\\"M 301.055 216.725531 L 372.558906 216.725531 L 372.558906 233.663031 L 301.055 233.663031 Z M 301.055 216.725531 \\\" transform=\\\"matrix(1,0,0,-1,19.57,238.831)\\\"\\/>\\n<path style=\\\"fill:none;stroke-width:0.3985;stroke-linecap:butt;stroke-linejoin:miter;stroke:rgb(0%,0%,100%);stroke-opacity:1;stroke-miterlimit:10;\\\" d=\\\"M -0.00140625 -0.000625 L 17.006406 -0.000625 \\\" transform=\\\"matrix(1,0,0,-1,323.81,13.64)\\\"\\/>\\n<g style=\\\"fill:rgb(0%,0%,0%);fill-opacity:1;\\\">\\n  <use xlink:href=\\\"#glyph-1567442442225000-2-1\\\" x=\\\"343.01\\\" y=\\\"16.629\\\"\\/>\\n  <use xlink:href=\\\"#glyph-1567442442225000-2-2\\\" x=\\\"350.063549\\\" y=\\\"16.629\\\"\\/>\\n  <use xlink:href=\\\"#glyph-1567442442225000-2-3\\\" x=\\\"354.486961\\\" y=\\\"16.629\\\"\\/>\\n  <use xlink:href=\\\"#glyph-1567442442225000-2-4\\\" x=\\\"358.362428\\\" y=\\\"16.629\\\"\\/>\\n  <use xlink:href=\\\"#glyph-1567442442225000-2-5\\\" x=\\\"363.343748\\\" y=\\\"16.629\\\"\\/>\\n  <use xlink:href=\\\"#glyph-1567442442225000-2-6\\\" x=\\\"367.219215\\\" y=\\\"16.629\\\"\\/>\\n  <use xlink:href=\\\"#glyph-1567442442225000-2-7\\\" x=\\\"372.200535\\\" y=\\\"16.629\\\"\\/>\\n<\\/g>\\n<g style=\\\"fill:rgb(0%,0%,0%);fill-opacity:1;\\\">\\n  <use xlink:href=\\\"#glyph-1567442442225000-2-6\\\" x=\\\"378.287708\\\" y=\\\"16.629\\\"\\/>\\n  <use xlink:href=\\\"#glyph-1567442442225000-2-8\\\" x=\\\"383.269028\\\" y=\\\"16.629\\\"\\/>\\n<\\/g>\\n<\\/g>\\n<\\/svg>\\n\\n\"},\"nodeType\":\"DOM\",\"type\":\"node\",\"instanceArgs\":{\"namespace\":\"html\",\"tag\":\"div\"},\"children\":[]}]},\n",
       "            window,\n",
       "        );\n",
       "    } else {\n",
       "        document\n",
       "            .querySelector('[data-webio-mountpoint=\"11964372053671218709\"]')\n",
       "            .innerHTML = (\n",
       "                '<strong>WebIO not detected. Please read ' +\n",
       "                '<a href=\"https://juliagizmos.github.io/WebIO.jl/latest/troubleshooting/not-detected/\">the troubleshooting guide</a> ' +\n",
       "                'for more information on how to resolve this issue.' +\n",
       "                '</strong>'\n",
       "            );\n",
       "    }\n",
       "    </script>\n",
       "</div>\n"
      ],
      "text/plain": [
       "Observable{Any} with 0 listeners. Value:\n",
       "Axis(PGFPlots.Plots.Plot[PGFPlots.Plots.Linear(Real[0.0 0.010101010101010102 … 0.98989898989899 1.0; 1.0 1.0 … 1.0 1.0], \"none\", nothing, nothing, \"Beta(1, 1)\", nothing, nothing)], nothing, nothing, nothing, nothing, nothing, nothing, nothing, 0, 1, 0, nothing, nothing, nothing, nothing, nothing, nothing, \"15cm\", \"10cm\", nothing, nothing, nothing, nothing, nothing, nothing, nothing, nothing, nothing, \"axis\")"
      ]
     },
     "metadata": {
      "application/vnd.webio.node+json": {
       "kernelId": "d28b9f55-0f48-4f9f-975f-a2bafbcbc949"
      }
     },
     "output_type": "display_data"
    },
    {
     "data": {
      "application/vnd.webio.node+json": {
       "children": [
        {
         "children": [
          {
           "children": [
            "Arm 2"
           ],
           "instanceArgs": {
            "namespace": "html",
            "tag": "button"
           },
           "nodeType": "DOM",
           "props": {
            "attributes": {
             "data-bind": "click: function (){this.clicks(this.clicks()+1)}, css: {'is-loading' : loading}"
            },
            "className": "is-medium button is-primary",
            "style": {}
           },
           "type": "node"
          }
         ],
         "instanceArgs": {
          "handlers": {
           "clicks": [
            "(function (val){return (val!=this.model[\"clicks\"]()) ? (this.valueFromJulia[\"clicks\"]=true, this.model[\"clicks\"](val)) : undefined})"
           ],
           "loading": [
            "(function (val){return (val!=this.model[\"loading\"]()) ? (this.valueFromJulia[\"loading\"]=true, this.model[\"loading\"](val)) : undefined})"
           ]
          },
          "id": "7307220979387260759",
          "imports": {
           "data": [
            {
             "name": "knockout",
             "type": "js",
             "url": "/assetserver/c20779c1e6a079277e91dddf7bd670ca92eea868-knockout.js"
            },
            {
             "name": "knockout_punches",
             "type": "js",
             "url": "/assetserver/5d0eeef6d78927a4d06f8ff08a99add46d138283-knockout_punches.js"
            },
            {
             "name": null,
             "type": "js",
             "url": "/assetserver/cb26fe9e57bb1abef82b7eb58e12f018a1428e64-all.js"
            },
            {
             "name": null,
             "type": "css",
             "url": "/assetserver/d5c3b0a1dece742679a111cbb2e6bd04a8ca0e64-style.css"
            },
            {
             "name": null,
             "type": "css",
             "url": "/assetserver/457039d154101dcb9f0c19c2735b1d6e2c611d84-bulma_confined.min.css"
            }
           ],
           "type": "async_block"
          },
          "mount_callbacks": [
           "function () {\n    var handler = (function (ko, koPunches) {\n    ko.punches.enableAll();\n    ko.bindingHandlers.numericValue = {\n        init: function(element, valueAccessor, allBindings, data, context) {\n            var stringified = ko.observable(ko.unwrap(valueAccessor()));\n            stringified.subscribe(function(value) {\n                var val = parseFloat(value);\n                if (!isNaN(val)) {\n                    valueAccessor()(val);\n                }\n            });\n            valueAccessor().subscribe(function(value) {\n                var str = JSON.stringify(value);\n                if ((str == \"0\") && ([\"-0\", \"-0.\"].indexOf(stringified()) >= 0))\n                     return;\n                 if ([\"null\", \"\"].indexOf(str) >= 0)\n                     return;\n                stringified(str);\n            });\n            ko.applyBindingsToNode(\n                element,\n                {\n                    value: stringified,\n                    valueUpdate: allBindings.get('valueUpdate'),\n                },\n                context,\n            );\n        }\n    };\n    var json_data = {\"loading\":WebIO.getval({\"name\":\"loading\",\"scope\":\"7307220979387260759\",\"id\":\"ob_41\",\"type\":\"observable\"}),\"clicks\":WebIO.getval({\"name\":\"clicks\",\"scope\":\"7307220979387260759\",\"id\":\"ob_40\",\"type\":\"observable\"})};\n    var self = this;\n    function AppViewModel() {\n        for (var key in json_data) {\n            var el = json_data[key];\n            this[key] = Array.isArray(el) ? ko.observableArray(el) : ko.observable(el);\n        }\n        \n        \n        [this[\"loading\"].subscribe((function (val){!(this.valueFromJulia[\"loading\"]) ? (WebIO.setval({\"name\":\"loading\",\"scope\":\"7307220979387260759\",\"id\":\"ob_41\",\"type\":\"observable\"},val)) : undefined; return this.valueFromJulia[\"loading\"]=false}),self),this[\"clicks\"].subscribe((function (val){!(this.valueFromJulia[\"clicks\"]) ? (WebIO.setval({\"name\":\"clicks\",\"scope\":\"7307220979387260759\",\"id\":\"ob_40\",\"type\":\"observable\"},val)) : undefined; return this.valueFromJulia[\"clicks\"]=false}),self)]\n        \n    }\n    self.model = new AppViewModel();\n    self.valueFromJulia = {};\n    for (var key in json_data) {\n        self.valueFromJulia[key] = false;\n    }\n    ko.applyBindings(self.model, self.dom);\n}\n);\n    (WebIO.importBlock({\"data\":[{\"name\":\"knockout\",\"type\":\"js\",\"url\":\"/assetserver/c20779c1e6a079277e91dddf7bd670ca92eea868-knockout.js\"},{\"name\":\"knockout_punches\",\"type\":\"js\",\"url\":\"/assetserver/5d0eeef6d78927a4d06f8ff08a99add46d138283-knockout_punches.js\"}],\"type\":\"async_block\"})).then((imports) => handler.apply(this, imports));\n}\n"
          ],
          "observables": {
           "clicks": {
            "id": "ob_40",
            "sync": false,
            "value": 0
           },
           "loading": {
            "id": "ob_41",
            "sync": false,
            "value": false
           }
          },
          "systemjs_options": null
         },
         "nodeType": "Scope",
         "props": {},
         "type": "node"
        }
       ],
       "instanceArgs": {
        "namespace": "html",
        "tag": "div"
       },
       "nodeType": "DOM",
       "props": {
        "className": "field interact-widget"
       },
       "type": "node"
      },
      "text/html": [
       "<div\n",
       "    class=\"webio-mountpoint\"\n",
       "    data-webio-mountpoint=\"11760725258820894570\"\n",
       ">\n",
       "    <script>\n",
       "    if (window.require && require.defined && require.defined(\"nbextensions/webio-jupyter-notebook\")) {\n",
       "        console.log(\"Jupyter WebIO extension detected, not mounting.\");\n",
       "    } else if (window.WebIO) {\n",
       "        WebIO.mount(\n",
       "            document.querySelector('[data-webio-mountpoint=\"11760725258820894570\"]'),\n",
       "            {\"props\":{\"className\":\"field interact-widget\"},\"nodeType\":\"DOM\",\"type\":\"node\",\"instanceArgs\":{\"namespace\":\"html\",\"tag\":\"div\"},\"children\":[{\"props\":{},\"nodeType\":\"Scope\",\"type\":\"node\",\"instanceArgs\":{\"imports\":{\"data\":[{\"name\":\"knockout\",\"type\":\"js\",\"url\":\"\\/assetserver\\/c20779c1e6a079277e91dddf7bd670ca92eea868-knockout.js\"},{\"name\":\"knockout_punches\",\"type\":\"js\",\"url\":\"\\/assetserver\\/5d0eeef6d78927a4d06f8ff08a99add46d138283-knockout_punches.js\"},{\"name\":null,\"type\":\"js\",\"url\":\"\\/assetserver\\/cb26fe9e57bb1abef82b7eb58e12f018a1428e64-all.js\"},{\"name\":null,\"type\":\"css\",\"url\":\"\\/assetserver\\/d5c3b0a1dece742679a111cbb2e6bd04a8ca0e64-style.css\"},{\"name\":null,\"type\":\"css\",\"url\":\"\\/assetserver\\/457039d154101dcb9f0c19c2735b1d6e2c611d84-bulma_confined.min.css\"}],\"type\":\"async_block\"},\"id\":\"7307220979387260759\",\"handlers\":{\"loading\":[\"(function (val){return (val!=this.model[\\\"loading\\\"]()) ? (this.valueFromJulia[\\\"loading\\\"]=true, this.model[\\\"loading\\\"](val)) : undefined})\"],\"clicks\":[\"(function (val){return (val!=this.model[\\\"clicks\\\"]()) ? (this.valueFromJulia[\\\"clicks\\\"]=true, this.model[\\\"clicks\\\"](val)) : undefined})\"]},\"systemjs_options\":null,\"mount_callbacks\":[\"function () {\\n    var handler = (function (ko, koPunches) {\\n    ko.punches.enableAll();\\n    ko.bindingHandlers.numericValue = {\\n        init: function(element, valueAccessor, allBindings, data, context) {\\n            var stringified = ko.observable(ko.unwrap(valueAccessor()));\\n            stringified.subscribe(function(value) {\\n                var val = parseFloat(value);\\n                if (!isNaN(val)) {\\n                    valueAccessor()(val);\\n                }\\n            });\\n            valueAccessor().subscribe(function(value) {\\n                var str = JSON.stringify(value);\\n                if ((str == \\\"0\\\") && ([\\\"-0\\\", \\\"-0.\\\"].indexOf(stringified()) >= 0))\\n                     return;\\n                 if ([\\\"null\\\", \\\"\\\"].indexOf(str) >= 0)\\n                     return;\\n                stringified(str);\\n            });\\n            ko.applyBindingsToNode(\\n                element,\\n                {\\n                    value: stringified,\\n                    valueUpdate: allBindings.get('valueUpdate'),\\n                },\\n                context,\\n            );\\n        }\\n    };\\n    var json_data = {\\\"loading\\\":WebIO.getval({\\\"name\\\":\\\"loading\\\",\\\"scope\\\":\\\"7307220979387260759\\\",\\\"id\\\":\\\"ob_41\\\",\\\"type\\\":\\\"observable\\\"}),\\\"clicks\\\":WebIO.getval({\\\"name\\\":\\\"clicks\\\",\\\"scope\\\":\\\"7307220979387260759\\\",\\\"id\\\":\\\"ob_40\\\",\\\"type\\\":\\\"observable\\\"})};\\n    var self = this;\\n    function AppViewModel() {\\n        for (var key in json_data) {\\n            var el = json_data[key];\\n            this[key] = Array.isArray(el) ? ko.observableArray(el) : ko.observable(el);\\n        }\\n        \\n        \\n        [this[\\\"loading\\\"].subscribe((function (val){!(this.valueFromJulia[\\\"loading\\\"]) ? (WebIO.setval({\\\"name\\\":\\\"loading\\\",\\\"scope\\\":\\\"7307220979387260759\\\",\\\"id\\\":\\\"ob_41\\\",\\\"type\\\":\\\"observable\\\"},val)) : undefined; return this.valueFromJulia[\\\"loading\\\"]=false}),self),this[\\\"clicks\\\"].subscribe((function (val){!(this.valueFromJulia[\\\"clicks\\\"]) ? (WebIO.setval({\\\"name\\\":\\\"clicks\\\",\\\"scope\\\":\\\"7307220979387260759\\\",\\\"id\\\":\\\"ob_40\\\",\\\"type\\\":\\\"observable\\\"},val)) : undefined; return this.valueFromJulia[\\\"clicks\\\"]=false}),self)]\\n        \\n    }\\n    self.model = new AppViewModel();\\n    self.valueFromJulia = {};\\n    for (var key in json_data) {\\n        self.valueFromJulia[key] = false;\\n    }\\n    ko.applyBindings(self.model, self.dom);\\n}\\n);\\n    (WebIO.importBlock({\\\"data\\\":[{\\\"name\\\":\\\"knockout\\\",\\\"type\\\":\\\"js\\\",\\\"url\\\":\\\"\\/assetserver\\/c20779c1e6a079277e91dddf7bd670ca92eea868-knockout.js\\\"},{\\\"name\\\":\\\"knockout_punches\\\",\\\"type\\\":\\\"js\\\",\\\"url\\\":\\\"\\/assetserver\\/5d0eeef6d78927a4d06f8ff08a99add46d138283-knockout_punches.js\\\"}],\\\"type\\\":\\\"async_block\\\"})).then((imports) => handler.apply(this, imports));\\n}\\n\"],\"observables\":{\"loading\":{\"sync\":false,\"id\":\"ob_41\",\"value\":false},\"clicks\":{\"sync\":false,\"id\":\"ob_40\",\"value\":0}}},\"children\":[{\"props\":{\"attributes\":{\"data-bind\":\"click: function (){this.clicks(this.clicks()+1)}, css: {'is-loading' : loading}\"},\"className\":\"is-medium button is-primary\",\"style\":{}},\"nodeType\":\"DOM\",\"type\":\"node\",\"instanceArgs\":{\"namespace\":\"html\",\"tag\":\"button\"},\"children\":[\"Arm 2\"]}]}]},\n",
       "            window,\n",
       "        );\n",
       "    } else {\n",
       "        document\n",
       "            .querySelector('[data-webio-mountpoint=\"11760725258820894570\"]')\n",
       "            .innerHTML = (\n",
       "                '<strong>WebIO not detected. Please read ' +\n",
       "                '<a href=\"https://juliagizmos.github.io/WebIO.jl/latest/troubleshooting/not-detected/\">the troubleshooting guide</a> ' +\n",
       "                'for more information on how to resolve this issue.' +\n",
       "                '</strong>'\n",
       "            );\n",
       "    }\n",
       "    </script>\n",
       "</div>\n"
      ],
      "text/plain": [
       "(div { className=\"field interact-widget\" }\n",
       "    (button { attributes=Dict{Any,Any}(\"data-bind\" => \"click: function (){this.clicks(this.clicks()+1)}, css: {'is-loading' : loading}\") className=\"is-medium button is-primary\" style=Dict{String,Any}() }\n",
       "    \"Arm 2\"))"
      ]
     },
     "metadata": {
      "application/vnd.webio.node+json": {
       "kernelId": "d28b9f55-0f48-4f9f-975f-a2bafbcbc949"
      }
     },
     "output_type": "display_data"
    },
    {
     "data": {
      "application/vnd.webio.node+json": {
       "children": [
        {
         "children": [],
         "instanceArgs": {
          "namespace": "html",
          "tag": "div"
         },
         "nodeType": "DOM",
         "props": {
          "className": "webio-observable",
          "setInnerHtml": "<pre>\"0 wins out of 0 tries (NaN percent)\"</pre>"
         },
         "type": "node"
        }
       ],
       "instanceArgs": {
        "handlers": {
         "obs-output": [
          "function (value, scope) {\n    scope.setInnerHTML(value);\n}\n"
         ]
        },
        "id": "13932151995744157931",
        "imports": {
         "data": [],
         "type": "async_block"
        },
        "mount_callbacks": [],
        "observables": {
         "obs-output": {
          "id": "ob_45",
          "sync": false,
          "value": "<pre>\"0 wins out of 0 tries (NaN percent)\"</pre>"
         }
        },
        "systemjs_options": null
       },
       "nodeType": "Scope",
       "props": {},
       "type": "node"
      },
      "text/html": [
       "<div\n",
       "    class=\"webio-mountpoint\"\n",
       "    data-webio-mountpoint=\"2173771320083407053\"\n",
       ">\n",
       "    <script>\n",
       "    if (window.require && require.defined && require.defined(\"nbextensions/webio-jupyter-notebook\")) {\n",
       "        console.log(\"Jupyter WebIO extension detected, not mounting.\");\n",
       "    } else if (window.WebIO) {\n",
       "        WebIO.mount(\n",
       "            document.querySelector('[data-webio-mountpoint=\"2173771320083407053\"]'),\n",
       "            {\"props\":{},\"nodeType\":\"Scope\",\"type\":\"node\",\"instanceArgs\":{\"imports\":{\"data\":[],\"type\":\"async_block\"},\"id\":\"3519260440399821535\",\"handlers\":{\"obs-output\":[\"function (value, scope) {\\n    scope.setInnerHTML(value);\\n}\\n\"]},\"systemjs_options\":null,\"mount_callbacks\":[],\"observables\":{\"obs-output\":{\"sync\":false,\"id\":\"ob_44\",\"value\":\"<pre>\\\"0 wins out of 0 tries (NaN percent)\\\"<\\/pre>\"}}},\"children\":[{\"props\":{\"className\":\"webio-observable\",\"setInnerHtml\":\"<pre>\\\"0 wins out of 0 tries (NaN percent)\\\"<\\/pre>\"},\"nodeType\":\"DOM\",\"type\":\"node\",\"instanceArgs\":{\"namespace\":\"html\",\"tag\":\"div\"},\"children\":[]}]},\n",
       "            window,\n",
       "        );\n",
       "    } else {\n",
       "        document\n",
       "            .querySelector('[data-webio-mountpoint=\"2173771320083407053\"]')\n",
       "            .innerHTML = (\n",
       "                '<strong>WebIO not detected. Please read ' +\n",
       "                '<a href=\"https://juliagizmos.github.io/WebIO.jl/latest/troubleshooting/not-detected/\">the troubleshooting guide</a> ' +\n",
       "                'for more information on how to resolve this issue.' +\n",
       "                '</strong>'\n",
       "            );\n",
       "    }\n",
       "    </script>\n",
       "</div>\n"
      ],
      "text/plain": [
       "Observable{Any} with 0 listeners. Value:\n",
       "\"0 wins out of 0 tries (NaN percent)\""
      ]
     },
     "metadata": {
      "application/vnd.webio.node+json": {
       "kernelId": "d28b9f55-0f48-4f9f-975f-a2bafbcbc949"
      }
     },
     "output_type": "display_data"
    },
    {
     "data": {
      "application/vnd.webio.node+json": {
       "children": [
        {
         "children": [],
         "instanceArgs": {
          "namespace": "html",
          "tag": "div"
         },
         "nodeType": "DOM",
         "props": {
          "className": "webio-observable",
          "setInnerHtml": "<?xml version=\"1.0\" encoding=\"UTF-8\"?>\n<svg xmlns=\"http://www.w3.org/2000/svg\" xmlns:xlink=\"http://www.w3.org/1999/xlink\" width=\"405.745pt\" height=\"252.092pt\" viewBox=\"0 0 405.745 252.092\" version=\"1.1\">\n<defs>\n<g>\n<symbol overflow=\"visible\" id=\"glyph-1567442442225003-0-0\">\n<path style=\"stroke:none;\" d=\"\"/>\n</symbol>\n<symbol overflow=\"visible\" id=\"glyph-1567442442225003-0-1\">\n<path style=\"stroke:none;\" d=\"M 4.578125 -3.1875 C 4.578125 -3.984375 4.53125 -4.78125 4.1875 -5.515625 C 3.734375 -6.484375 2.90625 -6.640625 2.5 -6.640625 C 1.890625 -6.640625 1.171875 -6.375 0.75 -5.453125 C 0.4375 -4.765625 0.390625 -3.984375 0.390625 -3.1875 C 0.390625 -2.4375 0.421875 -1.546875 0.84375 -0.78125 C 1.265625 0.015625 2 0.21875 2.484375 0.21875 C 3.015625 0.21875 3.78125 0.015625 4.21875 -0.9375 C 4.53125 -1.625 4.578125 -2.40625 4.578125 -3.1875 Z M 2.484375 0 C 2.09375 0 1.5 -0.25 1.328125 -1.203125 C 1.21875 -1.796875 1.21875 -2.71875 1.21875 -3.3125 C 1.21875 -3.953125 1.21875 -4.609375 1.296875 -5.140625 C 1.484375 -6.328125 2.234375 -6.421875 2.484375 -6.421875 C 2.8125 -6.421875 3.46875 -6.234375 3.65625 -5.25 C 3.765625 -4.6875 3.765625 -3.9375 3.765625 -3.3125 C 3.765625 -2.5625 3.765625 -1.890625 3.65625 -1.25 C 3.5 -0.296875 2.9375 0 2.484375 0 Z M 2.484375 0 \"/>\n</symbol>\n<symbol overflow=\"visible\" id=\"glyph-1567442442225003-0-2\">\n<path style=\"stroke:none;\" d=\"M 2.9375 -6.375 C 2.9375 -6.625 2.9375 -6.640625 2.703125 -6.640625 C 2.078125 -6 1.203125 -6 0.890625 -6 L 0.890625 -5.6875 C 1.09375 -5.6875 1.671875 -5.6875 2.1875 -5.953125 L 2.1875 -0.78125 C 2.1875 -0.421875 2.15625 -0.3125 1.265625 -0.3125 L 0.953125 -0.3125 L 0.953125 0 C 1.296875 -0.03125 2.15625 -0.03125 2.5625 -0.03125 C 2.953125 -0.03125 3.828125 -0.03125 4.171875 0 L 4.171875 -0.3125 L 3.859375 -0.3125 C 2.953125 -0.3125 2.9375 -0.421875 2.9375 -0.78125 Z M 2.9375 -6.375 \"/>\n</symbol>\n<symbol overflow=\"visible\" id=\"glyph-1567442442225003-0-3\">\n<path style=\"stroke:none;\" d=\"M 1.265625 -0.765625 L 2.328125 -1.796875 C 3.875 -3.171875 4.46875 -3.703125 4.46875 -4.703125 C 4.46875 -5.84375 3.578125 -6.640625 2.359375 -6.640625 C 1.234375 -6.640625 0.5 -5.71875 0.5 -4.828125 C 0.5 -4.28125 1 -4.28125 1.03125 -4.28125 C 1.203125 -4.28125 1.546875 -4.390625 1.546875 -4.8125 C 1.546875 -5.0625 1.359375 -5.328125 1.015625 -5.328125 C 0.9375 -5.328125 0.921875 -5.328125 0.890625 -5.3125 C 1.109375 -5.96875 1.65625 -6.328125 2.234375 -6.328125 C 3.140625 -6.328125 3.5625 -5.515625 3.5625 -4.703125 C 3.5625 -3.90625 3.078125 -3.125 2.515625 -2.5 L 0.609375 -0.375 C 0.5 -0.265625 0.5 -0.234375 0.5 0 L 4.203125 0 L 4.46875 -1.734375 L 4.234375 -1.734375 C 4.171875 -1.4375 4.109375 -1 4 -0.84375 C 3.9375 -0.765625 3.28125 -0.765625 3.0625 -0.765625 Z M 1.265625 -0.765625 \"/>\n</symbol>\n<symbol overflow=\"visible\" id=\"glyph-1567442442225003-0-4\">\n<path style=\"stroke:none;\" d=\"M 2.890625 -3.515625 C 3.703125 -3.78125 4.28125 -4.46875 4.28125 -5.265625 C 4.28125 -6.078125 3.40625 -6.640625 2.453125 -6.640625 C 1.453125 -6.640625 0.6875 -6.046875 0.6875 -5.28125 C 0.6875 -4.953125 0.90625 -4.765625 1.203125 -4.765625 C 1.5 -4.765625 1.703125 -4.984375 1.703125 -5.28125 C 1.703125 -5.765625 1.234375 -5.765625 1.09375 -5.765625 C 1.390625 -6.265625 2.046875 -6.390625 2.40625 -6.390625 C 2.828125 -6.390625 3.375 -6.171875 3.375 -5.28125 C 3.375 -5.15625 3.34375 -4.578125 3.09375 -4.140625 C 2.796875 -3.65625 2.453125 -3.625 2.203125 -3.625 C 2.125 -3.609375 1.890625 -3.59375 1.8125 -3.59375 C 1.734375 -3.578125 1.671875 -3.5625 1.671875 -3.46875 C 1.671875 -3.359375 1.734375 -3.359375 1.90625 -3.359375 L 2.34375 -3.359375 C 3.15625 -3.359375 3.53125 -2.6875 3.53125 -1.703125 C 3.53125 -0.34375 2.84375 -0.0625 2.40625 -0.0625 C 1.96875 -0.0625 1.21875 -0.234375 0.875 -0.8125 C 1.21875 -0.765625 1.53125 -0.984375 1.53125 -1.359375 C 1.53125 -1.71875 1.265625 -1.921875 0.984375 -1.921875 C 0.734375 -1.921875 0.421875 -1.78125 0.421875 -1.34375 C 0.421875 -0.4375 1.34375 0.21875 2.4375 0.21875 C 3.65625 0.21875 4.5625 -0.6875 4.5625 -1.703125 C 4.5625 -2.515625 3.921875 -3.296875 2.890625 -3.515625 Z M 2.890625 -3.515625 \"/>\n</symbol>\n<symbol overflow=\"visible\" id=\"glyph-1567442442225003-0-5\">\n<path style=\"stroke:none;\" d=\"M 2.9375 -1.640625 L 2.9375 -0.78125 C 2.9375 -0.421875 2.90625 -0.3125 2.171875 -0.3125 L 1.96875 -0.3125 L 1.96875 0 C 2.375 -0.03125 2.890625 -0.03125 3.3125 -0.03125 C 3.734375 -0.03125 4.25 -0.03125 4.671875 0 L 4.671875 -0.3125 L 4.453125 -0.3125 C 3.71875 -0.3125 3.703125 -0.421875 3.703125 -0.78125 L 3.703125 -1.640625 L 4.6875 -1.640625 L 4.6875 -1.953125 L 3.703125 -1.953125 L 3.703125 -6.484375 C 3.703125 -6.6875 3.703125 -6.75 3.53125 -6.75 C 3.453125 -6.75 3.421875 -6.75 3.34375 -6.625 L 0.28125 -1.953125 L 0.28125 -1.640625 Z M 2.984375 -1.953125 L 0.5625 -1.953125 L 2.984375 -5.671875 Z M 2.984375 -1.953125 \"/>\n</symbol>\n<symbol overflow=\"visible\" id=\"glyph-1567442442225003-0-6\">\n<path style=\"stroke:none;\" d=\"M 4.46875 -2 C 4.46875 -3.1875 3.65625 -4.1875 2.578125 -4.1875 C 2.109375 -4.1875 1.671875 -4.03125 1.3125 -3.671875 L 1.3125 -5.625 C 1.515625 -5.5625 1.84375 -5.5 2.15625 -5.5 C 3.390625 -5.5 4.09375 -6.40625 4.09375 -6.53125 C 4.09375 -6.59375 4.0625 -6.640625 3.984375 -6.640625 C 3.984375 -6.640625 3.953125 -6.640625 3.90625 -6.609375 C 3.703125 -6.515625 3.21875 -6.3125 2.546875 -6.3125 C 2.15625 -6.3125 1.6875 -6.390625 1.21875 -6.59375 C 1.140625 -6.625 1.125 -6.625 1.109375 -6.625 C 1 -6.625 1 -6.546875 1 -6.390625 L 1 -3.4375 C 1 -3.265625 1 -3.1875 1.140625 -3.1875 C 1.21875 -3.1875 1.234375 -3.203125 1.28125 -3.265625 C 1.390625 -3.421875 1.75 -3.96875 2.5625 -3.96875 C 3.078125 -3.96875 3.328125 -3.515625 3.40625 -3.328125 C 3.5625 -2.953125 3.59375 -2.578125 3.59375 -2.078125 C 3.59375 -1.71875 3.59375 -1.125 3.34375 -0.703125 C 3.109375 -0.3125 2.734375 -0.0625 2.28125 -0.0625 C 1.5625 -0.0625 0.984375 -0.59375 0.8125 -1.171875 C 0.84375 -1.171875 0.875 -1.15625 0.984375 -1.15625 C 1.3125 -1.15625 1.484375 -1.40625 1.484375 -1.640625 C 1.484375 -1.890625 1.3125 -2.140625 0.984375 -2.140625 C 0.84375 -2.140625 0.5 -2.0625 0.5 -1.609375 C 0.5 -0.75 1.1875 0.21875 2.296875 0.21875 C 3.453125 0.21875 4.46875 -0.734375 4.46875 -2 Z M 4.46875 -2 \"/>\n</symbol>\n<symbol overflow=\"visible\" id=\"glyph-1567442442225003-0-7\">\n<path style=\"stroke:none;\" d=\"M 1.3125 -3.265625 L 1.3125 -3.515625 C 1.3125 -6.03125 2.546875 -6.390625 3.0625 -6.390625 C 3.296875 -6.390625 3.71875 -6.328125 3.9375 -5.984375 C 3.78125 -5.984375 3.390625 -5.984375 3.390625 -5.546875 C 3.390625 -5.234375 3.625 -5.078125 3.84375 -5.078125 C 4 -5.078125 4.3125 -5.171875 4.3125 -5.5625 C 4.3125 -6.15625 3.875 -6.640625 3.046875 -6.640625 C 1.765625 -6.640625 0.421875 -5.359375 0.421875 -3.15625 C 0.421875 -0.484375 1.578125 0.21875 2.5 0.21875 C 3.609375 0.21875 4.5625 -0.71875 4.5625 -2.03125 C 4.5625 -3.296875 3.671875 -4.25 2.5625 -4.25 C 1.890625 -4.25 1.515625 -3.75 1.3125 -3.265625 Z M 2.5 -0.0625 C 1.875 -0.0625 1.578125 -0.65625 1.515625 -0.8125 C 1.328125 -1.28125 1.328125 -2.078125 1.328125 -2.25 C 1.328125 -3.03125 1.65625 -4.03125 2.546875 -4.03125 C 2.71875 -4.03125 3.171875 -4.03125 3.484375 -3.40625 C 3.65625 -3.046875 3.65625 -2.53125 3.65625 -2.046875 C 3.65625 -1.5625 3.65625 -1.0625 3.484375 -0.703125 C 3.1875 -0.109375 2.734375 -0.0625 2.5 -0.0625 Z M 2.5 -0.0625 \"/>\n</symbol>\n<symbol overflow=\"visible\" id=\"glyph-1567442442225003-0-8\">\n<path style=\"stroke:none;\" d=\"M 4.75 -6.078125 C 4.828125 -6.1875 4.828125 -6.203125 4.828125 -6.421875 L 2.40625 -6.421875 C 1.203125 -6.421875 1.171875 -6.546875 1.140625 -6.734375 L 0.890625 -6.734375 L 0.5625 -4.6875 L 0.8125 -4.6875 C 0.84375 -4.84375 0.921875 -5.46875 1.0625 -5.59375 C 1.125 -5.65625 1.90625 -5.65625 2.03125 -5.65625 L 4.09375 -5.65625 C 3.984375 -5.5 3.203125 -4.40625 2.984375 -4.078125 C 2.078125 -2.734375 1.75 -1.34375 1.75 -0.328125 C 1.75 -0.234375 1.75 0.21875 2.21875 0.21875 C 2.671875 0.21875 2.671875 -0.234375 2.671875 -0.328125 L 2.671875 -0.84375 C 2.671875 -1.390625 2.703125 -1.9375 2.78125 -2.46875 C 2.828125 -2.703125 2.953125 -3.5625 3.40625 -4.171875 Z M 4.75 -6.078125 \"/>\n</symbol>\n<symbol overflow=\"visible\" id=\"glyph-1567442442225003-0-9\">\n<path style=\"stroke:none;\" d=\"M 1.625 -4.5625 C 1.171875 -4.859375 1.125 -5.1875 1.125 -5.359375 C 1.125 -5.96875 1.78125 -6.390625 2.484375 -6.390625 C 3.203125 -6.390625 3.84375 -5.875 3.84375 -5.15625 C 3.84375 -4.578125 3.453125 -4.109375 2.859375 -3.765625 Z M 3.078125 -3.609375 C 3.796875 -3.984375 4.28125 -4.5 4.28125 -5.15625 C 4.28125 -6.078125 3.40625 -6.640625 2.5 -6.640625 C 1.5 -6.640625 0.6875 -5.90625 0.6875 -4.96875 C 0.6875 -4.796875 0.703125 -4.34375 1.125 -3.875 C 1.234375 -3.765625 1.609375 -3.515625 1.859375 -3.34375 C 1.28125 -3.046875 0.421875 -2.5 0.421875 -1.5 C 0.421875 -0.453125 1.4375 0.21875 2.484375 0.21875 C 3.609375 0.21875 4.5625 -0.609375 4.5625 -1.671875 C 4.5625 -2.03125 4.453125 -2.484375 4.0625 -2.90625 C 3.875 -3.109375 3.71875 -3.203125 3.078125 -3.609375 Z M 2.078125 -3.1875 L 3.3125 -2.40625 C 3.59375 -2.21875 4.0625 -1.921875 4.0625 -1.3125 C 4.0625 -0.578125 3.3125 -0.0625 2.5 -0.0625 C 1.640625 -0.0625 0.921875 -0.671875 0.921875 -1.5 C 0.921875 -2.078125 1.234375 -2.71875 2.078125 -3.1875 Z M 2.078125 -3.1875 \"/>\n</symbol>\n<symbol overflow=\"visible\" id=\"glyph-1567442442225003-0-10\">\n<path style=\"stroke:none;\" d=\"M 3.65625 -3.171875 L 3.65625 -2.84375 C 3.65625 -0.515625 2.625 -0.0625 2.046875 -0.0625 C 1.875 -0.0625 1.328125 -0.078125 1.0625 -0.421875 C 1.5 -0.421875 1.578125 -0.703125 1.578125 -0.875 C 1.578125 -1.1875 1.34375 -1.328125 1.125 -1.328125 C 0.96875 -1.328125 0.671875 -1.25 0.671875 -0.859375 C 0.671875 -0.1875 1.203125 0.21875 2.046875 0.21875 C 3.34375 0.21875 4.5625 -1.140625 4.5625 -3.28125 C 4.5625 -5.96875 3.40625 -6.640625 2.515625 -6.640625 C 1.96875 -6.640625 1.484375 -6.453125 1.0625 -6.015625 C 0.640625 -5.5625 0.421875 -5.140625 0.421875 -4.390625 C 0.421875 -3.15625 1.296875 -2.171875 2.40625 -2.171875 C 3.015625 -2.171875 3.421875 -2.59375 3.65625 -3.171875 Z M 2.421875 -2.40625 C 2.265625 -2.40625 1.796875 -2.40625 1.5 -3.03125 C 1.3125 -3.40625 1.3125 -3.890625 1.3125 -4.390625 C 1.3125 -4.921875 1.3125 -5.390625 1.53125 -5.765625 C 1.796875 -6.265625 2.171875 -6.390625 2.515625 -6.390625 C 2.984375 -6.390625 3.3125 -6.046875 3.484375 -5.609375 C 3.59375 -5.28125 3.640625 -4.65625 3.640625 -4.203125 C 3.640625 -3.375 3.296875 -2.40625 2.421875 -2.40625 Z M 2.421875 -2.40625 \"/>\n</symbol>\n<symbol overflow=\"visible\" id=\"glyph-1567442442225003-1-0\">\n<path style=\"stroke:none;\" d=\"\"/>\n</symbol>\n<symbol overflow=\"visible\" id=\"glyph-1567442442225003-1-1\">\n<path style=\"stroke:none;\" d=\"M 1.90625 -0.53125 C 1.90625 -0.8125 1.671875 -1.0625 1.390625 -1.0625 C 1.09375 -1.0625 0.859375 -0.8125 0.859375 -0.53125 C 0.859375 -0.234375 1.09375 0 1.390625 0 C 1.671875 0 1.90625 -0.234375 1.90625 -0.53125 Z M 1.90625 -0.53125 \"/>\n</symbol>\n<symbol overflow=\"visible\" id=\"glyph-1567442442225003-2-0\">\n<path style=\"stroke:none;\" d=\"\"/>\n</symbol>\n<symbol overflow=\"visible\" id=\"glyph-1567442442225003-2-1\">\n<path style=\"stroke:none;\" d=\"M 6.65625 -1.984375 C 6.65625 -2.84375 5.671875 -3.765625 4.5625 -3.890625 L 4.5625 -3.5625 C 5.53125 -3.75 6.390625 -4.546875 6.390625 -5.28125 C 6.390625 -6.15625 5.296875 -7.140625 4 -7.140625 L 0.171875 -7.140625 L 0.171875 -6.5 L 0.59375 -6.5 C 1.359375 -6.5 1.203125 -6.546875 1.203125 -6.1875 L 1.203125 -0.9375 C 1.203125 -0.578125 1.359375 -0.640625 0.59375 -0.640625 L 0.171875 -0.640625 L 0.171875 0 L 4.265625 0 C 5.59375 0 6.65625 -1.046875 6.65625 -1.984375 Z M 5.078125 -5.28125 C 5.078125 -4.640625 4.765625 -3.984375 3.65625 -3.984375 L 2.375 -3.984375 L 2.375 -6.265625 C 2.375 -6.59375 2.234375 -6.5 2.703125 -6.5 L 3.9375 -6.5 C 4.90625 -6.5 5.078125 -5.8125 5.078125 -5.28125 Z M 5.3125 -2 C 5.3125 -1.28125 4.96875 -0.640625 3.953125 -0.640625 L 2.703125 -0.640625 C 2.234375 -0.640625 2.375 -0.53125 2.375 -0.875 L 2.375 -3.421875 L 4.09375 -3.421875 C 5.078125 -3.421875 5.3125 -2.65625 5.3125 -2 Z M 5.3125 -2 \"/>\n</symbol>\n<symbol overflow=\"visible\" id=\"glyph-1567442442225003-2-2\">\n<path style=\"stroke:none;\" d=\"M 4.3125 -1.34375 C 4.3125 -1.453125 4.0625 -1.640625 4 -1.640625 C 3.921875 -1.640625 3.71875 -1.40625 3.703125 -1.328125 C 3.34375 -0.296875 2.625 -0.46875 2.53125 -0.46875 C 2.03125 -0.46875 1.75 -0.71875 1.53125 -1.09375 C 1.21875 -1.5625 1.28125 -2.109375 1.28125 -2.296875 L 3.890625 -2.296875 C 4.109375 -2.296875 4.3125 -2.46875 4.3125 -2.671875 C 4.3125 -3.65625 3.59375 -4.796875 2.359375 -4.796875 C 1.203125 -4.796875 0.09375 -3.59375 0.09375 -2.359375 C 0.09375 -1.015625 1.328125 0.109375 2.46875 0.109375 C 3.6875 0.109375 4.3125 -1.15625 4.3125 -1.34375 Z M 3.484375 -2.84375 L 1.296875 -2.84375 C 1.34375 -4.15625 2.015625 -4.25 2.359375 -4.25 C 3.375 -4.25 3.296875 -3.0625 3.296875 -2.84375 Z M 3.484375 -2.84375 \"/>\n</symbol>\n<symbol overflow=\"visible\" id=\"glyph-1567442442225003-2-3\">\n<path style=\"stroke:none;\" d=\"M 3.484375 -1.390625 L 3.484375 -2.140625 L 2.875 -2.140625 L 2.875 -1.421875 C 2.875 -0.671875 2.765625 -0.46875 2.390625 -0.46875 C 1.71875 -0.46875 1.890625 -1.203125 1.890625 -1.375 L 1.890625 -3.984375 L 3.3125 -3.984375 L 3.3125 -4.625 L 1.890625 -4.625 L 1.890625 -6.453125 L 1.296875 -6.453125 C 1.28125 -5.46875 1.171875 -4.578125 0.015625 -4.53125 L 0.015625 -3.984375 L 0.859375 -3.984375 L 0.859375 -1.390625 C 0.859375 -0.171875 1.96875 0.109375 2.328125 0.109375 C 3.03125 0.109375 3.484375 -0.75 3.484375 -1.390625 Z M 3.484375 -1.390625 \"/>\n</symbol>\n<symbol overflow=\"visible\" id=\"glyph-1567442442225003-2-4\">\n<path style=\"stroke:none;\" d=\"M 4.984375 -1.046875 L 4.984375 -1.78125 L 4.390625 -1.78125 L 4.390625 -1.046875 C 4.390625 -0.46875 4.3125 -0.578125 4.203125 -0.578125 C 3.875 -0.578125 4 -0.859375 4 -0.90625 L 4 -2.90625 C 4 -3.3125 3.953125 -3.828125 3.59375 -4.203125 C 3.203125 -4.578125 2.59375 -4.796875 2.109375 -4.796875 C 1.296875 -4.796875 0.421875 -4.15625 0.421875 -3.5 C 0.421875 -3.203125 0.8125 -2.875 1.0625 -2.875 C 1.34375 -2.875 1.6875 -3.234375 1.6875 -3.484375 C 1.6875 -3.609375 1.46875 -4.109375 1.34375 -4.109375 C 1.40625 -4.1875 1.78125 -4.25 2.09375 -4.25 C 2.578125 -4.25 2.96875 -4.015625 2.96875 -3.125 L 2.96875 -2.921875 C 2.640625 -2.90625 1.9375 -2.875 1.3125 -2.578125 C 0.5625 -2.234375 0.140625 -1.546875 0.140625 -1.109375 C 0.140625 -0.296875 1.28125 0.109375 1.90625 0.109375 C 2.578125 0.109375 3.203125 -0.453125 3.390625 -0.921875 L 3.046875 -0.921875 C 3.078125 -0.515625 3.53125 0.0625 4 0.0625 C 4.203125 0.0625 4.984375 -0.234375 4.984375 -1.046875 Z M 2.96875 -1.5625 C 2.96875 -0.609375 2.4375 -0.4375 1.984375 -0.4375 C 1.5 -0.4375 1.25 -0.625 1.25 -1.109375 C 1.25 -1.671875 1.5 -2.328125 2.96875 -2.375 Z M 2.96875 -1.5625 \"/>\n</symbol>\n<symbol overflow=\"visible\" id=\"glyph-1567442442225003-2-5\">\n<path style=\"stroke:none;\" d=\"M 3.46875 2.234375 C 3.46875 2.203125 3.421875 2.0625 3.25 1.890625 C 2 0.640625 1.734375 -1.125 1.734375 -2.65625 C 1.734375 -4.390625 2.0625 -6.015625 3.296875 -7.25 C 3.421875 -7.375 3.46875 -7.5 3.46875 -7.53125 C 3.46875 -7.609375 3.265625 -7.8125 3.203125 -7.8125 C 3.09375 -7.8125 2.03125 -6.953125 1.4375 -5.6875 C 0.921875 -4.59375 0.8125 -3.484375 0.8125 -2.65625 C 0.8125 -1.875 0.921875 -0.671875 1.46875 0.453125 C 2.0625 1.6875 3.09375 2.5 3.203125 2.5 C 3.265625 2.5 3.46875 2.296875 3.46875 2.234375 Z M 3.46875 2.234375 \"/>\n</symbol>\n<symbol overflow=\"visible\" id=\"glyph-1567442442225003-2-6\">\n<path style=\"stroke:none;\" d=\"M 4.34375 -0.15625 L 4.34375 -0.640625 L 3.859375 -0.640625 C 2.953125 -0.640625 3.09375 -0.578125 3.09375 -0.953125 L 3.09375 -6.546875 C 3.09375 -6.78125 2.9375 -6.96875 2.625 -6.96875 C 1.953125 -6.28125 1.203125 -6.328125 0.703125 -6.328125 L 0.703125 -5.6875 C 1.09375 -5.6875 1.796875 -5.734375 2.015625 -5.859375 L 2.015625 -0.953125 C 2.015625 -0.59375 2.15625 -0.640625 1.265625 -0.640625 L 0.765625 -0.640625 L 0.765625 0.015625 C 1.296875 -0.03125 2.15625 -0.03125 2.5625 -0.03125 C 2.953125 -0.03125 3.828125 -0.03125 4.34375 0.015625 Z M 4.34375 -0.15625 \"/>\n</symbol>\n<symbol overflow=\"visible\" id=\"glyph-1567442442225003-2-7\">\n<path style=\"stroke:none;\" d=\"M 2.1875 -0.171875 C 2.1875 -0.8125 1.78125 -1.390625 1.390625 -1.390625 C 1.03125 -1.390625 0.671875 -0.953125 0.671875 -0.6875 C 0.671875 -0.421875 1.03125 0 1.390625 0 C 1.53125 0 1.796875 -0.109375 1.609375 0.0625 C 1.625 0.46875 1.390625 0.953125 0.953125 1.421875 C 0.890625 1.484375 0.84375 1.609375 0.84375 1.65625 C 0.84375 1.71875 1.0625 1.921875 1.109375 1.921875 C 1.234375 1.921875 2.1875 0.984375 2.1875 -0.171875 Z M 2.1875 -0.171875 \"/>\n</symbol>\n<symbol overflow=\"visible\" id=\"glyph-1567442442225003-2-8\">\n<path style=\"stroke:none;\" d=\"M 3.046875 -2.65625 C 3.046875 -3.421875 2.9375 -4.640625 2.390625 -5.765625 C 1.796875 -6.984375 0.765625 -7.8125 0.671875 -7.8125 C 0.609375 -7.8125 0.390625 -7.59375 0.390625 -7.53125 C 0.390625 -7.5 0.4375 -7.375 0.625 -7.203125 C 1.609375 -6.203125 2.125 -4.734375 2.125 -2.65625 C 2.125 -0.953125 1.796875 0.6875 0.5625 1.9375 C 0.4375 2.0625 0.390625 2.203125 0.390625 2.234375 C 0.390625 2.296875 0.609375 2.5 0.671875 2.5 C 0.765625 2.5 1.828125 1.65625 2.421875 0.390625 C 2.9375 -0.703125 3.046875 -1.8125 3.046875 -2.65625 Z M 3.046875 -2.65625 \"/>\n</symbol>\n</g>\n<clipPath id=\"clip-1567442442225003-1\">\n  <path d=\"M 19.570313 21 L 399.9375 21 L 399.9375 23 L 19.570313 23 Z M 19.570313 21 \"/>\n</clipPath>\n</defs>\n<g id=\"surface1\">\n<path style=\"fill:none;stroke-width:0.19925;stroke-linecap:butt;stroke-linejoin:miter;stroke:rgb(50%,50%,50%);stroke-opacity:1;stroke-miterlimit:10;\" d=\"M 0.0003125 -0.00103125 L 0.0003125 4.252875 M 38.035469 -0.00103125 L 38.035469 4.252875 M 76.074531 -0.00103125 L 76.074531 4.252875 M 114.109688 -0.00103125 L 114.109688 4.252875 M 152.14875 -0.00103125 L 152.14875 4.252875 M 190.183906 -0.00103125 L 190.183906 4.252875 M 228.222969 -0.00103125 L 228.222969 4.252875 M 266.258125 -0.00103125 L 266.258125 4.252875 M 304.293281 -0.00103125 L 304.293281 4.252875 M 342.332344 -0.00103125 L 342.332344 4.252875 M 380.3675 -0.00103125 L 380.3675 4.252875 M 0.0003125 238.635688 L 0.0003125 234.381781 M 38.035469 238.635688 L 38.035469 234.381781 M 76.074531 238.635688 L 76.074531 234.381781 M 114.109688 238.635688 L 114.109688 234.381781 M 152.14875 238.635688 L 152.14875 234.381781 M 190.183906 238.635688 L 190.183906 234.381781 M 228.222969 238.635688 L 228.222969 234.381781 M 266.258125 238.635688 L 266.258125 234.381781 M 304.293281 238.635688 L 304.293281 234.381781 M 342.332344 238.635688 L 342.332344 234.381781 M 380.3675 238.635688 L 380.3675 234.381781 \" transform=\"matrix(1,0,0,-1,19.57,238.831)\"/>\n<path style=\"fill:none;stroke-width:0.19925;stroke-linecap:butt;stroke-linejoin:miter;stroke:rgb(50%,50%,50%);stroke-opacity:1;stroke-miterlimit:10;\" d=\"M 0.0003125 -0.00103125 L 4.254219 -0.00103125 M 0.0003125 43.389594 L 4.254219 43.389594 M 0.0003125 86.776313 L 4.254219 86.776313 M 0.0003125 130.163031 L 4.254219 130.163031 M 0.0003125 173.553656 L 4.254219 173.553656 M 0.0003125 216.940375 L 4.254219 216.940375 M 380.3675 -0.00103125 L 376.1175 -0.00103125 M 380.3675 43.389594 L 376.1175 43.389594 M 380.3675 86.776313 L 376.1175 86.776313 M 380.3675 130.163031 L 376.1175 130.163031 M 380.3675 173.553656 L 376.1175 173.553656 M 380.3675 216.940375 L 376.1175 216.940375 \" transform=\"matrix(1,0,0,-1,19.57,238.831)\"/>\n<path style=\"fill:none;stroke-width:0.3985;stroke-linecap:butt;stroke-linejoin:miter;stroke:rgb(0%,0%,0%);stroke-opacity:1;stroke-miterlimit:10;\" d=\"M 0.0003125 -0.00103125 L 0.0003125 238.635688 L 380.3675 238.635688 L 380.3675 -0.00103125 Z M 0.0003125 -0.00103125 \" transform=\"matrix(1,0,0,-1,19.57,238.831)\"/>\n<g style=\"fill:rgb(0%,0%,0%);fill-opacity:1;\">\n  <use xlink:href=\"#glyph-1567442442225003-0-1\" x=\"17.08\" y=\"248.771\"/>\n</g>\n<g style=\"fill:rgb(0%,0%,0%);fill-opacity:1;\">\n  <use xlink:href=\"#glyph-1567442442225003-0-1\" x=\"51.242\" y=\"248.771\"/>\n</g>\n<g style=\"fill:rgb(0%,0%,0%);fill-opacity:1;\">\n  <use xlink:href=\"#glyph-1567442442225003-1-1\" x=\"56.223\" y=\"248.771\"/>\n</g>\n<g style=\"fill:rgb(0%,0%,0%);fill-opacity:1;\">\n  <use xlink:href=\"#glyph-1567442442225003-0-2\" x=\"58.99\" y=\"248.771\"/>\n</g>\n<g style=\"fill:rgb(0%,0%,0%);fill-opacity:1;\">\n  <use xlink:href=\"#glyph-1567442442225003-0-1\" x=\"89.278\" y=\"248.771\"/>\n</g>\n<g style=\"fill:rgb(0%,0%,0%);fill-opacity:1;\">\n  <use xlink:href=\"#glyph-1567442442225003-1-1\" x=\"94.259\" y=\"248.771\"/>\n</g>\n<g style=\"fill:rgb(0%,0%,0%);fill-opacity:1;\">\n  <use xlink:href=\"#glyph-1567442442225003-0-3\" x=\"97.027\" y=\"248.771\"/>\n</g>\n<g style=\"fill:rgb(0%,0%,0%);fill-opacity:1;\">\n  <use xlink:href=\"#glyph-1567442442225003-0-1\" x=\"127.314\" y=\"248.771\"/>\n</g>\n<g style=\"fill:rgb(0%,0%,0%);fill-opacity:1;\">\n  <use xlink:href=\"#glyph-1567442442225003-1-1\" x=\"132.296\" y=\"248.771\"/>\n</g>\n<g style=\"fill:rgb(0%,0%,0%);fill-opacity:1;\">\n  <use xlink:href=\"#glyph-1567442442225003-0-4\" x=\"135.063\" y=\"248.771\"/>\n</g>\n<g style=\"fill:rgb(0%,0%,0%);fill-opacity:1;\">\n  <use xlink:href=\"#glyph-1567442442225003-0-1\" x=\"165.351\" y=\"248.771\"/>\n</g>\n<g style=\"fill:rgb(0%,0%,0%);fill-opacity:1;\">\n  <use xlink:href=\"#glyph-1567442442225003-1-1\" x=\"170.332\" y=\"248.771\"/>\n</g>\n<g style=\"fill:rgb(0%,0%,0%);fill-opacity:1;\">\n  <use xlink:href=\"#glyph-1567442442225003-0-5\" x=\"173.1\" y=\"248.771\"/>\n</g>\n<g style=\"fill:rgb(0%,0%,0%);fill-opacity:1;\">\n  <use xlink:href=\"#glyph-1567442442225003-0-1\" x=\"203.387\" y=\"248.771\"/>\n</g>\n<g style=\"fill:rgb(0%,0%,0%);fill-opacity:1;\">\n  <use xlink:href=\"#glyph-1567442442225003-1-1\" x=\"208.369\" y=\"248.771\"/>\n</g>\n<g style=\"fill:rgb(0%,0%,0%);fill-opacity:1;\">\n  <use xlink:href=\"#glyph-1567442442225003-0-6\" x=\"211.136\" y=\"248.771\"/>\n</g>\n<g style=\"fill:rgb(0%,0%,0%);fill-opacity:1;\">\n  <use xlink:href=\"#glyph-1567442442225003-0-1\" x=\"241.424\" y=\"248.771\"/>\n</g>\n<g style=\"fill:rgb(0%,0%,0%);fill-opacity:1;\">\n  <use xlink:href=\"#glyph-1567442442225003-1-1\" x=\"246.405\" y=\"248.771\"/>\n</g>\n<g style=\"fill:rgb(0%,0%,0%);fill-opacity:1;\">\n  <use xlink:href=\"#glyph-1567442442225003-0-7\" x=\"249.172\" y=\"248.771\"/>\n</g>\n<g style=\"fill:rgb(0%,0%,0%);fill-opacity:1;\">\n  <use xlink:href=\"#glyph-1567442442225003-0-1\" x=\"279.46\" y=\"248.771\"/>\n</g>\n<g style=\"fill:rgb(0%,0%,0%);fill-opacity:1;\">\n  <use xlink:href=\"#glyph-1567442442225003-1-1\" x=\"284.441\" y=\"248.771\"/>\n</g>\n<g style=\"fill:rgb(0%,0%,0%);fill-opacity:1;\">\n  <use xlink:href=\"#glyph-1567442442225003-0-8\" x=\"287.209\" y=\"248.771\"/>\n</g>\n<g style=\"fill:rgb(0%,0%,0%);fill-opacity:1;\">\n  <use xlink:href=\"#glyph-1567442442225003-0-1\" x=\"317.496\" y=\"248.771\"/>\n</g>\n<g style=\"fill:rgb(0%,0%,0%);fill-opacity:1;\">\n  <use xlink:href=\"#glyph-1567442442225003-1-1\" x=\"322.478\" y=\"248.771\"/>\n</g>\n<g style=\"fill:rgb(0%,0%,0%);fill-opacity:1;\">\n  <use xlink:href=\"#glyph-1567442442225003-0-9\" x=\"325.245\" y=\"248.771\"/>\n</g>\n<g style=\"fill:rgb(0%,0%,0%);fill-opacity:1;\">\n  <use xlink:href=\"#glyph-1567442442225003-0-1\" x=\"355.533\" y=\"248.771\"/>\n</g>\n<g style=\"fill:rgb(0%,0%,0%);fill-opacity:1;\">\n  <use xlink:href=\"#glyph-1567442442225003-1-1\" x=\"360.514\" y=\"248.771\"/>\n</g>\n<g style=\"fill:rgb(0%,0%,0%);fill-opacity:1;\">\n  <use xlink:href=\"#glyph-1567442442225003-0-10\" x=\"363.281\" y=\"248.771\"/>\n</g>\n<g style=\"fill:rgb(0%,0%,0%);fill-opacity:1;\">\n  <use xlink:href=\"#glyph-1567442442225003-0-2\" x=\"397.443\" y=\"248.771\"/>\n</g>\n<g style=\"fill:rgb(0%,0%,0%);fill-opacity:1;\">\n  <use xlink:href=\"#glyph-1567442442225003-0-1\" x=\"11.069\" y=\"242.042\"/>\n</g>\n<g style=\"fill:rgb(0%,0%,0%);fill-opacity:1;\">\n  <use xlink:href=\"#glyph-1567442442225003-0-1\" x=\"3.321\" y=\"198.654\"/>\n</g>\n<g style=\"fill:rgb(0%,0%,0%);fill-opacity:1;\">\n  <use xlink:href=\"#glyph-1567442442225003-1-1\" x=\"8.302\" y=\"198.654\"/>\n</g>\n<g style=\"fill:rgb(0%,0%,0%);fill-opacity:1;\">\n  <use xlink:href=\"#glyph-1567442442225003-0-3\" x=\"11.069\" y=\"198.654\"/>\n</g>\n<g style=\"fill:rgb(0%,0%,0%);fill-opacity:1;\">\n  <use xlink:href=\"#glyph-1567442442225003-0-1\" x=\"3.321\" y=\"155.267\"/>\n</g>\n<g style=\"fill:rgb(0%,0%,0%);fill-opacity:1;\">\n  <use xlink:href=\"#glyph-1567442442225003-1-1\" x=\"8.302\" y=\"155.267\"/>\n</g>\n<g style=\"fill:rgb(0%,0%,0%);fill-opacity:1;\">\n  <use xlink:href=\"#glyph-1567442442225003-0-5\" x=\"11.069\" y=\"155.267\"/>\n</g>\n<g style=\"fill:rgb(0%,0%,0%);fill-opacity:1;\">\n  <use xlink:href=\"#glyph-1567442442225003-0-1\" x=\"3.321\" y=\"111.879\"/>\n</g>\n<g style=\"fill:rgb(0%,0%,0%);fill-opacity:1;\">\n  <use xlink:href=\"#glyph-1567442442225003-1-1\" x=\"8.302\" y=\"111.879\"/>\n</g>\n<g style=\"fill:rgb(0%,0%,0%);fill-opacity:1;\">\n  <use xlink:href=\"#glyph-1567442442225003-0-7\" x=\"11.069\" y=\"111.879\"/>\n</g>\n<g style=\"fill:rgb(0%,0%,0%);fill-opacity:1;\">\n  <use xlink:href=\"#glyph-1567442442225003-0-1\" x=\"3.321\" y=\"68.492\"/>\n</g>\n<g style=\"fill:rgb(0%,0%,0%);fill-opacity:1;\">\n  <use xlink:href=\"#glyph-1567442442225003-1-1\" x=\"8.302\" y=\"68.492\"/>\n</g>\n<g style=\"fill:rgb(0%,0%,0%);fill-opacity:1;\">\n  <use xlink:href=\"#glyph-1567442442225003-0-9\" x=\"11.069\" y=\"68.492\"/>\n</g>\n<g style=\"fill:rgb(0%,0%,0%);fill-opacity:1;\">\n  <use xlink:href=\"#glyph-1567442442225003-0-2\" x=\"11.069\" y=\"25.104\"/>\n</g>\n<g clip-path=\"url(#clip-1567442442225003-1)\" clip-rule=\"nonzero\">\n<path style=\"fill:none;stroke-width:0.3985;stroke-linecap:butt;stroke-linejoin:miter;stroke:rgb(0%,0%,100%);stroke-opacity:1;stroke-miterlimit:10;\" d=\"M 0.0003125 216.940375 L 380.3675 216.940375 \" transform=\"matrix(1,0,0,-1,19.57,238.831)\"/>\n</g>\n<path style=\"fill-rule:nonzero;fill:rgb(100%,100%,100%);fill-opacity:1;stroke-width:0.3985;stroke-linecap:butt;stroke-linejoin:miter;stroke:rgb(0%,0%,0%);stroke-opacity:1;stroke-miterlimit:10;\" d=\"M 301.055 216.725531 L 372.558906 216.725531 L 372.558906 233.663031 L 301.055 233.663031 Z M 301.055 216.725531 \" transform=\"matrix(1,0,0,-1,19.57,238.831)\"/>\n<path style=\"fill:none;stroke-width:0.3985;stroke-linecap:butt;stroke-linejoin:miter;stroke:rgb(0%,0%,100%);stroke-opacity:1;stroke-miterlimit:10;\" d=\"M -0.00140625 -0.000625 L 17.006406 -0.000625 \" transform=\"matrix(1,0,0,-1,323.81,13.64)\"/>\n<g style=\"fill:rgb(0%,0%,0%);fill-opacity:1;\">\n  <use xlink:href=\"#glyph-1567442442225003-2-1\" x=\"343.01\" y=\"16.629\"/>\n  <use xlink:href=\"#glyph-1567442442225003-2-2\" x=\"350.063549\" y=\"16.629\"/>\n  <use xlink:href=\"#glyph-1567442442225003-2-3\" x=\"354.486961\" y=\"16.629\"/>\n  <use xlink:href=\"#glyph-1567442442225003-2-4\" x=\"358.362428\" y=\"16.629\"/>\n  <use xlink:href=\"#glyph-1567442442225003-2-5\" x=\"363.343748\" y=\"16.629\"/>\n  <use xlink:href=\"#glyph-1567442442225003-2-6\" x=\"367.219215\" y=\"16.629\"/>\n  <use xlink:href=\"#glyph-1567442442225003-2-7\" x=\"372.200535\" y=\"16.629\"/>\n</g>\n<g style=\"fill:rgb(0%,0%,0%);fill-opacity:1;\">\n  <use xlink:href=\"#glyph-1567442442225003-2-6\" x=\"378.287708\" y=\"16.629\"/>\n  <use xlink:href=\"#glyph-1567442442225003-2-8\" x=\"383.269028\" y=\"16.629\"/>\n</g>\n</g>\n</svg>\n\n"
         },
         "type": "node"
        }
       ],
       "instanceArgs": {
        "handlers": {
         "obs-output": [
          "function (value, scope) {\n    scope.setInnerHTML(value);\n}\n"
         ]
        },
        "id": "13761952051703073234",
        "imports": {
         "data": [],
         "type": "async_block"
        },
        "mount_callbacks": [],
        "observables": {
         "obs-output": {
          "id": "ob_48",
          "sync": false,
          "value": "<?xml version=\"1.0\" encoding=\"UTF-8\"?>\n<svg xmlns=\"http://www.w3.org/2000/svg\" xmlns:xlink=\"http://www.w3.org/1999/xlink\" width=\"405.745pt\" height=\"252.092pt\" viewBox=\"0 0 405.745 252.092\" version=\"1.1\">\n<defs>\n<g>\n<symbol overflow=\"visible\" id=\"glyph-1567442442225003-0-0\">\n<path style=\"stroke:none;\" d=\"\"/>\n</symbol>\n<symbol overflow=\"visible\" id=\"glyph-1567442442225003-0-1\">\n<path style=\"stroke:none;\" d=\"M 4.578125 -3.1875 C 4.578125 -3.984375 4.53125 -4.78125 4.1875 -5.515625 C 3.734375 -6.484375 2.90625 -6.640625 2.5 -6.640625 C 1.890625 -6.640625 1.171875 -6.375 0.75 -5.453125 C 0.4375 -4.765625 0.390625 -3.984375 0.390625 -3.1875 C 0.390625 -2.4375 0.421875 -1.546875 0.84375 -0.78125 C 1.265625 0.015625 2 0.21875 2.484375 0.21875 C 3.015625 0.21875 3.78125 0.015625 4.21875 -0.9375 C 4.53125 -1.625 4.578125 -2.40625 4.578125 -3.1875 Z M 2.484375 0 C 2.09375 0 1.5 -0.25 1.328125 -1.203125 C 1.21875 -1.796875 1.21875 -2.71875 1.21875 -3.3125 C 1.21875 -3.953125 1.21875 -4.609375 1.296875 -5.140625 C 1.484375 -6.328125 2.234375 -6.421875 2.484375 -6.421875 C 2.8125 -6.421875 3.46875 -6.234375 3.65625 -5.25 C 3.765625 -4.6875 3.765625 -3.9375 3.765625 -3.3125 C 3.765625 -2.5625 3.765625 -1.890625 3.65625 -1.25 C 3.5 -0.296875 2.9375 0 2.484375 0 Z M 2.484375 0 \"/>\n</symbol>\n<symbol overflow=\"visible\" id=\"glyph-1567442442225003-0-2\">\n<path style=\"stroke:none;\" d=\"M 2.9375 -6.375 C 2.9375 -6.625 2.9375 -6.640625 2.703125 -6.640625 C 2.078125 -6 1.203125 -6 0.890625 -6 L 0.890625 -5.6875 C 1.09375 -5.6875 1.671875 -5.6875 2.1875 -5.953125 L 2.1875 -0.78125 C 2.1875 -0.421875 2.15625 -0.3125 1.265625 -0.3125 L 0.953125 -0.3125 L 0.953125 0 C 1.296875 -0.03125 2.15625 -0.03125 2.5625 -0.03125 C 2.953125 -0.03125 3.828125 -0.03125 4.171875 0 L 4.171875 -0.3125 L 3.859375 -0.3125 C 2.953125 -0.3125 2.9375 -0.421875 2.9375 -0.78125 Z M 2.9375 -6.375 \"/>\n</symbol>\n<symbol overflow=\"visible\" id=\"glyph-1567442442225003-0-3\">\n<path style=\"stroke:none;\" d=\"M 1.265625 -0.765625 L 2.328125 -1.796875 C 3.875 -3.171875 4.46875 -3.703125 4.46875 -4.703125 C 4.46875 -5.84375 3.578125 -6.640625 2.359375 -6.640625 C 1.234375 -6.640625 0.5 -5.71875 0.5 -4.828125 C 0.5 -4.28125 1 -4.28125 1.03125 -4.28125 C 1.203125 -4.28125 1.546875 -4.390625 1.546875 -4.8125 C 1.546875 -5.0625 1.359375 -5.328125 1.015625 -5.328125 C 0.9375 -5.328125 0.921875 -5.328125 0.890625 -5.3125 C 1.109375 -5.96875 1.65625 -6.328125 2.234375 -6.328125 C 3.140625 -6.328125 3.5625 -5.515625 3.5625 -4.703125 C 3.5625 -3.90625 3.078125 -3.125 2.515625 -2.5 L 0.609375 -0.375 C 0.5 -0.265625 0.5 -0.234375 0.5 0 L 4.203125 0 L 4.46875 -1.734375 L 4.234375 -1.734375 C 4.171875 -1.4375 4.109375 -1 4 -0.84375 C 3.9375 -0.765625 3.28125 -0.765625 3.0625 -0.765625 Z M 1.265625 -0.765625 \"/>\n</symbol>\n<symbol overflow=\"visible\" id=\"glyph-1567442442225003-0-4\">\n<path style=\"stroke:none;\" d=\"M 2.890625 -3.515625 C 3.703125 -3.78125 4.28125 -4.46875 4.28125 -5.265625 C 4.28125 -6.078125 3.40625 -6.640625 2.453125 -6.640625 C 1.453125 -6.640625 0.6875 -6.046875 0.6875 -5.28125 C 0.6875 -4.953125 0.90625 -4.765625 1.203125 -4.765625 C 1.5 -4.765625 1.703125 -4.984375 1.703125 -5.28125 C 1.703125 -5.765625 1.234375 -5.765625 1.09375 -5.765625 C 1.390625 -6.265625 2.046875 -6.390625 2.40625 -6.390625 C 2.828125 -6.390625 3.375 -6.171875 3.375 -5.28125 C 3.375 -5.15625 3.34375 -4.578125 3.09375 -4.140625 C 2.796875 -3.65625 2.453125 -3.625 2.203125 -3.625 C 2.125 -3.609375 1.890625 -3.59375 1.8125 -3.59375 C 1.734375 -3.578125 1.671875 -3.5625 1.671875 -3.46875 C 1.671875 -3.359375 1.734375 -3.359375 1.90625 -3.359375 L 2.34375 -3.359375 C 3.15625 -3.359375 3.53125 -2.6875 3.53125 -1.703125 C 3.53125 -0.34375 2.84375 -0.0625 2.40625 -0.0625 C 1.96875 -0.0625 1.21875 -0.234375 0.875 -0.8125 C 1.21875 -0.765625 1.53125 -0.984375 1.53125 -1.359375 C 1.53125 -1.71875 1.265625 -1.921875 0.984375 -1.921875 C 0.734375 -1.921875 0.421875 -1.78125 0.421875 -1.34375 C 0.421875 -0.4375 1.34375 0.21875 2.4375 0.21875 C 3.65625 0.21875 4.5625 -0.6875 4.5625 -1.703125 C 4.5625 -2.515625 3.921875 -3.296875 2.890625 -3.515625 Z M 2.890625 -3.515625 \"/>\n</symbol>\n<symbol overflow=\"visible\" id=\"glyph-1567442442225003-0-5\">\n<path style=\"stroke:none;\" d=\"M 2.9375 -1.640625 L 2.9375 -0.78125 C 2.9375 -0.421875 2.90625 -0.3125 2.171875 -0.3125 L 1.96875 -0.3125 L 1.96875 0 C 2.375 -0.03125 2.890625 -0.03125 3.3125 -0.03125 C 3.734375 -0.03125 4.25 -0.03125 4.671875 0 L 4.671875 -0.3125 L 4.453125 -0.3125 C 3.71875 -0.3125 3.703125 -0.421875 3.703125 -0.78125 L 3.703125 -1.640625 L 4.6875 -1.640625 L 4.6875 -1.953125 L 3.703125 -1.953125 L 3.703125 -6.484375 C 3.703125 -6.6875 3.703125 -6.75 3.53125 -6.75 C 3.453125 -6.75 3.421875 -6.75 3.34375 -6.625 L 0.28125 -1.953125 L 0.28125 -1.640625 Z M 2.984375 -1.953125 L 0.5625 -1.953125 L 2.984375 -5.671875 Z M 2.984375 -1.953125 \"/>\n</symbol>\n<symbol overflow=\"visible\" id=\"glyph-1567442442225003-0-6\">\n<path style=\"stroke:none;\" d=\"M 4.46875 -2 C 4.46875 -3.1875 3.65625 -4.1875 2.578125 -4.1875 C 2.109375 -4.1875 1.671875 -4.03125 1.3125 -3.671875 L 1.3125 -5.625 C 1.515625 -5.5625 1.84375 -5.5 2.15625 -5.5 C 3.390625 -5.5 4.09375 -6.40625 4.09375 -6.53125 C 4.09375 -6.59375 4.0625 -6.640625 3.984375 -6.640625 C 3.984375 -6.640625 3.953125 -6.640625 3.90625 -6.609375 C 3.703125 -6.515625 3.21875 -6.3125 2.546875 -6.3125 C 2.15625 -6.3125 1.6875 -6.390625 1.21875 -6.59375 C 1.140625 -6.625 1.125 -6.625 1.109375 -6.625 C 1 -6.625 1 -6.546875 1 -6.390625 L 1 -3.4375 C 1 -3.265625 1 -3.1875 1.140625 -3.1875 C 1.21875 -3.1875 1.234375 -3.203125 1.28125 -3.265625 C 1.390625 -3.421875 1.75 -3.96875 2.5625 -3.96875 C 3.078125 -3.96875 3.328125 -3.515625 3.40625 -3.328125 C 3.5625 -2.953125 3.59375 -2.578125 3.59375 -2.078125 C 3.59375 -1.71875 3.59375 -1.125 3.34375 -0.703125 C 3.109375 -0.3125 2.734375 -0.0625 2.28125 -0.0625 C 1.5625 -0.0625 0.984375 -0.59375 0.8125 -1.171875 C 0.84375 -1.171875 0.875 -1.15625 0.984375 -1.15625 C 1.3125 -1.15625 1.484375 -1.40625 1.484375 -1.640625 C 1.484375 -1.890625 1.3125 -2.140625 0.984375 -2.140625 C 0.84375 -2.140625 0.5 -2.0625 0.5 -1.609375 C 0.5 -0.75 1.1875 0.21875 2.296875 0.21875 C 3.453125 0.21875 4.46875 -0.734375 4.46875 -2 Z M 4.46875 -2 \"/>\n</symbol>\n<symbol overflow=\"visible\" id=\"glyph-1567442442225003-0-7\">\n<path style=\"stroke:none;\" d=\"M 1.3125 -3.265625 L 1.3125 -3.515625 C 1.3125 -6.03125 2.546875 -6.390625 3.0625 -6.390625 C 3.296875 -6.390625 3.71875 -6.328125 3.9375 -5.984375 C 3.78125 -5.984375 3.390625 -5.984375 3.390625 -5.546875 C 3.390625 -5.234375 3.625 -5.078125 3.84375 -5.078125 C 4 -5.078125 4.3125 -5.171875 4.3125 -5.5625 C 4.3125 -6.15625 3.875 -6.640625 3.046875 -6.640625 C 1.765625 -6.640625 0.421875 -5.359375 0.421875 -3.15625 C 0.421875 -0.484375 1.578125 0.21875 2.5 0.21875 C 3.609375 0.21875 4.5625 -0.71875 4.5625 -2.03125 C 4.5625 -3.296875 3.671875 -4.25 2.5625 -4.25 C 1.890625 -4.25 1.515625 -3.75 1.3125 -3.265625 Z M 2.5 -0.0625 C 1.875 -0.0625 1.578125 -0.65625 1.515625 -0.8125 C 1.328125 -1.28125 1.328125 -2.078125 1.328125 -2.25 C 1.328125 -3.03125 1.65625 -4.03125 2.546875 -4.03125 C 2.71875 -4.03125 3.171875 -4.03125 3.484375 -3.40625 C 3.65625 -3.046875 3.65625 -2.53125 3.65625 -2.046875 C 3.65625 -1.5625 3.65625 -1.0625 3.484375 -0.703125 C 3.1875 -0.109375 2.734375 -0.0625 2.5 -0.0625 Z M 2.5 -0.0625 \"/>\n</symbol>\n<symbol overflow=\"visible\" id=\"glyph-1567442442225003-0-8\">\n<path style=\"stroke:none;\" d=\"M 4.75 -6.078125 C 4.828125 -6.1875 4.828125 -6.203125 4.828125 -6.421875 L 2.40625 -6.421875 C 1.203125 -6.421875 1.171875 -6.546875 1.140625 -6.734375 L 0.890625 -6.734375 L 0.5625 -4.6875 L 0.8125 -4.6875 C 0.84375 -4.84375 0.921875 -5.46875 1.0625 -5.59375 C 1.125 -5.65625 1.90625 -5.65625 2.03125 -5.65625 L 4.09375 -5.65625 C 3.984375 -5.5 3.203125 -4.40625 2.984375 -4.078125 C 2.078125 -2.734375 1.75 -1.34375 1.75 -0.328125 C 1.75 -0.234375 1.75 0.21875 2.21875 0.21875 C 2.671875 0.21875 2.671875 -0.234375 2.671875 -0.328125 L 2.671875 -0.84375 C 2.671875 -1.390625 2.703125 -1.9375 2.78125 -2.46875 C 2.828125 -2.703125 2.953125 -3.5625 3.40625 -4.171875 Z M 4.75 -6.078125 \"/>\n</symbol>\n<symbol overflow=\"visible\" id=\"glyph-1567442442225003-0-9\">\n<path style=\"stroke:none;\" d=\"M 1.625 -4.5625 C 1.171875 -4.859375 1.125 -5.1875 1.125 -5.359375 C 1.125 -5.96875 1.78125 -6.390625 2.484375 -6.390625 C 3.203125 -6.390625 3.84375 -5.875 3.84375 -5.15625 C 3.84375 -4.578125 3.453125 -4.109375 2.859375 -3.765625 Z M 3.078125 -3.609375 C 3.796875 -3.984375 4.28125 -4.5 4.28125 -5.15625 C 4.28125 -6.078125 3.40625 -6.640625 2.5 -6.640625 C 1.5 -6.640625 0.6875 -5.90625 0.6875 -4.96875 C 0.6875 -4.796875 0.703125 -4.34375 1.125 -3.875 C 1.234375 -3.765625 1.609375 -3.515625 1.859375 -3.34375 C 1.28125 -3.046875 0.421875 -2.5 0.421875 -1.5 C 0.421875 -0.453125 1.4375 0.21875 2.484375 0.21875 C 3.609375 0.21875 4.5625 -0.609375 4.5625 -1.671875 C 4.5625 -2.03125 4.453125 -2.484375 4.0625 -2.90625 C 3.875 -3.109375 3.71875 -3.203125 3.078125 -3.609375 Z M 2.078125 -3.1875 L 3.3125 -2.40625 C 3.59375 -2.21875 4.0625 -1.921875 4.0625 -1.3125 C 4.0625 -0.578125 3.3125 -0.0625 2.5 -0.0625 C 1.640625 -0.0625 0.921875 -0.671875 0.921875 -1.5 C 0.921875 -2.078125 1.234375 -2.71875 2.078125 -3.1875 Z M 2.078125 -3.1875 \"/>\n</symbol>\n<symbol overflow=\"visible\" id=\"glyph-1567442442225003-0-10\">\n<path style=\"stroke:none;\" d=\"M 3.65625 -3.171875 L 3.65625 -2.84375 C 3.65625 -0.515625 2.625 -0.0625 2.046875 -0.0625 C 1.875 -0.0625 1.328125 -0.078125 1.0625 -0.421875 C 1.5 -0.421875 1.578125 -0.703125 1.578125 -0.875 C 1.578125 -1.1875 1.34375 -1.328125 1.125 -1.328125 C 0.96875 -1.328125 0.671875 -1.25 0.671875 -0.859375 C 0.671875 -0.1875 1.203125 0.21875 2.046875 0.21875 C 3.34375 0.21875 4.5625 -1.140625 4.5625 -3.28125 C 4.5625 -5.96875 3.40625 -6.640625 2.515625 -6.640625 C 1.96875 -6.640625 1.484375 -6.453125 1.0625 -6.015625 C 0.640625 -5.5625 0.421875 -5.140625 0.421875 -4.390625 C 0.421875 -3.15625 1.296875 -2.171875 2.40625 -2.171875 C 3.015625 -2.171875 3.421875 -2.59375 3.65625 -3.171875 Z M 2.421875 -2.40625 C 2.265625 -2.40625 1.796875 -2.40625 1.5 -3.03125 C 1.3125 -3.40625 1.3125 -3.890625 1.3125 -4.390625 C 1.3125 -4.921875 1.3125 -5.390625 1.53125 -5.765625 C 1.796875 -6.265625 2.171875 -6.390625 2.515625 -6.390625 C 2.984375 -6.390625 3.3125 -6.046875 3.484375 -5.609375 C 3.59375 -5.28125 3.640625 -4.65625 3.640625 -4.203125 C 3.640625 -3.375 3.296875 -2.40625 2.421875 -2.40625 Z M 2.421875 -2.40625 \"/>\n</symbol>\n<symbol overflow=\"visible\" id=\"glyph-1567442442225003-1-0\">\n<path style=\"stroke:none;\" d=\"\"/>\n</symbol>\n<symbol overflow=\"visible\" id=\"glyph-1567442442225003-1-1\">\n<path style=\"stroke:none;\" d=\"M 1.90625 -0.53125 C 1.90625 -0.8125 1.671875 -1.0625 1.390625 -1.0625 C 1.09375 -1.0625 0.859375 -0.8125 0.859375 -0.53125 C 0.859375 -0.234375 1.09375 0 1.390625 0 C 1.671875 0 1.90625 -0.234375 1.90625 -0.53125 Z M 1.90625 -0.53125 \"/>\n</symbol>\n<symbol overflow=\"visible\" id=\"glyph-1567442442225003-2-0\">\n<path style=\"stroke:none;\" d=\"\"/>\n</symbol>\n<symbol overflow=\"visible\" id=\"glyph-1567442442225003-2-1\">\n<path style=\"stroke:none;\" d=\"M 6.65625 -1.984375 C 6.65625 -2.84375 5.671875 -3.765625 4.5625 -3.890625 L 4.5625 -3.5625 C 5.53125 -3.75 6.390625 -4.546875 6.390625 -5.28125 C 6.390625 -6.15625 5.296875 -7.140625 4 -7.140625 L 0.171875 -7.140625 L 0.171875 -6.5 L 0.59375 -6.5 C 1.359375 -6.5 1.203125 -6.546875 1.203125 -6.1875 L 1.203125 -0.9375 C 1.203125 -0.578125 1.359375 -0.640625 0.59375 -0.640625 L 0.171875 -0.640625 L 0.171875 0 L 4.265625 0 C 5.59375 0 6.65625 -1.046875 6.65625 -1.984375 Z M 5.078125 -5.28125 C 5.078125 -4.640625 4.765625 -3.984375 3.65625 -3.984375 L 2.375 -3.984375 L 2.375 -6.265625 C 2.375 -6.59375 2.234375 -6.5 2.703125 -6.5 L 3.9375 -6.5 C 4.90625 -6.5 5.078125 -5.8125 5.078125 -5.28125 Z M 5.3125 -2 C 5.3125 -1.28125 4.96875 -0.640625 3.953125 -0.640625 L 2.703125 -0.640625 C 2.234375 -0.640625 2.375 -0.53125 2.375 -0.875 L 2.375 -3.421875 L 4.09375 -3.421875 C 5.078125 -3.421875 5.3125 -2.65625 5.3125 -2 Z M 5.3125 -2 \"/>\n</symbol>\n<symbol overflow=\"visible\" id=\"glyph-1567442442225003-2-2\">\n<path style=\"stroke:none;\" d=\"M 4.3125 -1.34375 C 4.3125 -1.453125 4.0625 -1.640625 4 -1.640625 C 3.921875 -1.640625 3.71875 -1.40625 3.703125 -1.328125 C 3.34375 -0.296875 2.625 -0.46875 2.53125 -0.46875 C 2.03125 -0.46875 1.75 -0.71875 1.53125 -1.09375 C 1.21875 -1.5625 1.28125 -2.109375 1.28125 -2.296875 L 3.890625 -2.296875 C 4.109375 -2.296875 4.3125 -2.46875 4.3125 -2.671875 C 4.3125 -3.65625 3.59375 -4.796875 2.359375 -4.796875 C 1.203125 -4.796875 0.09375 -3.59375 0.09375 -2.359375 C 0.09375 -1.015625 1.328125 0.109375 2.46875 0.109375 C 3.6875 0.109375 4.3125 -1.15625 4.3125 -1.34375 Z M 3.484375 -2.84375 L 1.296875 -2.84375 C 1.34375 -4.15625 2.015625 -4.25 2.359375 -4.25 C 3.375 -4.25 3.296875 -3.0625 3.296875 -2.84375 Z M 3.484375 -2.84375 \"/>\n</symbol>\n<symbol overflow=\"visible\" id=\"glyph-1567442442225003-2-3\">\n<path style=\"stroke:none;\" d=\"M 3.484375 -1.390625 L 3.484375 -2.140625 L 2.875 -2.140625 L 2.875 -1.421875 C 2.875 -0.671875 2.765625 -0.46875 2.390625 -0.46875 C 1.71875 -0.46875 1.890625 -1.203125 1.890625 -1.375 L 1.890625 -3.984375 L 3.3125 -3.984375 L 3.3125 -4.625 L 1.890625 -4.625 L 1.890625 -6.453125 L 1.296875 -6.453125 C 1.28125 -5.46875 1.171875 -4.578125 0.015625 -4.53125 L 0.015625 -3.984375 L 0.859375 -3.984375 L 0.859375 -1.390625 C 0.859375 -0.171875 1.96875 0.109375 2.328125 0.109375 C 3.03125 0.109375 3.484375 -0.75 3.484375 -1.390625 Z M 3.484375 -1.390625 \"/>\n</symbol>\n<symbol overflow=\"visible\" id=\"glyph-1567442442225003-2-4\">\n<path style=\"stroke:none;\" d=\"M 4.984375 -1.046875 L 4.984375 -1.78125 L 4.390625 -1.78125 L 4.390625 -1.046875 C 4.390625 -0.46875 4.3125 -0.578125 4.203125 -0.578125 C 3.875 -0.578125 4 -0.859375 4 -0.90625 L 4 -2.90625 C 4 -3.3125 3.953125 -3.828125 3.59375 -4.203125 C 3.203125 -4.578125 2.59375 -4.796875 2.109375 -4.796875 C 1.296875 -4.796875 0.421875 -4.15625 0.421875 -3.5 C 0.421875 -3.203125 0.8125 -2.875 1.0625 -2.875 C 1.34375 -2.875 1.6875 -3.234375 1.6875 -3.484375 C 1.6875 -3.609375 1.46875 -4.109375 1.34375 -4.109375 C 1.40625 -4.1875 1.78125 -4.25 2.09375 -4.25 C 2.578125 -4.25 2.96875 -4.015625 2.96875 -3.125 L 2.96875 -2.921875 C 2.640625 -2.90625 1.9375 -2.875 1.3125 -2.578125 C 0.5625 -2.234375 0.140625 -1.546875 0.140625 -1.109375 C 0.140625 -0.296875 1.28125 0.109375 1.90625 0.109375 C 2.578125 0.109375 3.203125 -0.453125 3.390625 -0.921875 L 3.046875 -0.921875 C 3.078125 -0.515625 3.53125 0.0625 4 0.0625 C 4.203125 0.0625 4.984375 -0.234375 4.984375 -1.046875 Z M 2.96875 -1.5625 C 2.96875 -0.609375 2.4375 -0.4375 1.984375 -0.4375 C 1.5 -0.4375 1.25 -0.625 1.25 -1.109375 C 1.25 -1.671875 1.5 -2.328125 2.96875 -2.375 Z M 2.96875 -1.5625 \"/>\n</symbol>\n<symbol overflow=\"visible\" id=\"glyph-1567442442225003-2-5\">\n<path style=\"stroke:none;\" d=\"M 3.46875 2.234375 C 3.46875 2.203125 3.421875 2.0625 3.25 1.890625 C 2 0.640625 1.734375 -1.125 1.734375 -2.65625 C 1.734375 -4.390625 2.0625 -6.015625 3.296875 -7.25 C 3.421875 -7.375 3.46875 -7.5 3.46875 -7.53125 C 3.46875 -7.609375 3.265625 -7.8125 3.203125 -7.8125 C 3.09375 -7.8125 2.03125 -6.953125 1.4375 -5.6875 C 0.921875 -4.59375 0.8125 -3.484375 0.8125 -2.65625 C 0.8125 -1.875 0.921875 -0.671875 1.46875 0.453125 C 2.0625 1.6875 3.09375 2.5 3.203125 2.5 C 3.265625 2.5 3.46875 2.296875 3.46875 2.234375 Z M 3.46875 2.234375 \"/>\n</symbol>\n<symbol overflow=\"visible\" id=\"glyph-1567442442225003-2-6\">\n<path style=\"stroke:none;\" d=\"M 4.34375 -0.15625 L 4.34375 -0.640625 L 3.859375 -0.640625 C 2.953125 -0.640625 3.09375 -0.578125 3.09375 -0.953125 L 3.09375 -6.546875 C 3.09375 -6.78125 2.9375 -6.96875 2.625 -6.96875 C 1.953125 -6.28125 1.203125 -6.328125 0.703125 -6.328125 L 0.703125 -5.6875 C 1.09375 -5.6875 1.796875 -5.734375 2.015625 -5.859375 L 2.015625 -0.953125 C 2.015625 -0.59375 2.15625 -0.640625 1.265625 -0.640625 L 0.765625 -0.640625 L 0.765625 0.015625 C 1.296875 -0.03125 2.15625 -0.03125 2.5625 -0.03125 C 2.953125 -0.03125 3.828125 -0.03125 4.34375 0.015625 Z M 4.34375 -0.15625 \"/>\n</symbol>\n<symbol overflow=\"visible\" id=\"glyph-1567442442225003-2-7\">\n<path style=\"stroke:none;\" d=\"M 2.1875 -0.171875 C 2.1875 -0.8125 1.78125 -1.390625 1.390625 -1.390625 C 1.03125 -1.390625 0.671875 -0.953125 0.671875 -0.6875 C 0.671875 -0.421875 1.03125 0 1.390625 0 C 1.53125 0 1.796875 -0.109375 1.609375 0.0625 C 1.625 0.46875 1.390625 0.953125 0.953125 1.421875 C 0.890625 1.484375 0.84375 1.609375 0.84375 1.65625 C 0.84375 1.71875 1.0625 1.921875 1.109375 1.921875 C 1.234375 1.921875 2.1875 0.984375 2.1875 -0.171875 Z M 2.1875 -0.171875 \"/>\n</symbol>\n<symbol overflow=\"visible\" id=\"glyph-1567442442225003-2-8\">\n<path style=\"stroke:none;\" d=\"M 3.046875 -2.65625 C 3.046875 -3.421875 2.9375 -4.640625 2.390625 -5.765625 C 1.796875 -6.984375 0.765625 -7.8125 0.671875 -7.8125 C 0.609375 -7.8125 0.390625 -7.59375 0.390625 -7.53125 C 0.390625 -7.5 0.4375 -7.375 0.625 -7.203125 C 1.609375 -6.203125 2.125 -4.734375 2.125 -2.65625 C 2.125 -0.953125 1.796875 0.6875 0.5625 1.9375 C 0.4375 2.0625 0.390625 2.203125 0.390625 2.234375 C 0.390625 2.296875 0.609375 2.5 0.671875 2.5 C 0.765625 2.5 1.828125 1.65625 2.421875 0.390625 C 2.9375 -0.703125 3.046875 -1.8125 3.046875 -2.65625 Z M 3.046875 -2.65625 \"/>\n</symbol>\n</g>\n<clipPath id=\"clip-1567442442225003-1\">\n  <path d=\"M 19.570313 21 L 399.9375 21 L 399.9375 23 L 19.570313 23 Z M 19.570313 21 \"/>\n</clipPath>\n</defs>\n<g id=\"surface1\">\n<path style=\"fill:none;stroke-width:0.19925;stroke-linecap:butt;stroke-linejoin:miter;stroke:rgb(50%,50%,50%);stroke-opacity:1;stroke-miterlimit:10;\" d=\"M 0.0003125 -0.00103125 L 0.0003125 4.252875 M 38.035469 -0.00103125 L 38.035469 4.252875 M 76.074531 -0.00103125 L 76.074531 4.252875 M 114.109688 -0.00103125 L 114.109688 4.252875 M 152.14875 -0.00103125 L 152.14875 4.252875 M 190.183906 -0.00103125 L 190.183906 4.252875 M 228.222969 -0.00103125 L 228.222969 4.252875 M 266.258125 -0.00103125 L 266.258125 4.252875 M 304.293281 -0.00103125 L 304.293281 4.252875 M 342.332344 -0.00103125 L 342.332344 4.252875 M 380.3675 -0.00103125 L 380.3675 4.252875 M 0.0003125 238.635688 L 0.0003125 234.381781 M 38.035469 238.635688 L 38.035469 234.381781 M 76.074531 238.635688 L 76.074531 234.381781 M 114.109688 238.635688 L 114.109688 234.381781 M 152.14875 238.635688 L 152.14875 234.381781 M 190.183906 238.635688 L 190.183906 234.381781 M 228.222969 238.635688 L 228.222969 234.381781 M 266.258125 238.635688 L 266.258125 234.381781 M 304.293281 238.635688 L 304.293281 234.381781 M 342.332344 238.635688 L 342.332344 234.381781 M 380.3675 238.635688 L 380.3675 234.381781 \" transform=\"matrix(1,0,0,-1,19.57,238.831)\"/>\n<path style=\"fill:none;stroke-width:0.19925;stroke-linecap:butt;stroke-linejoin:miter;stroke:rgb(50%,50%,50%);stroke-opacity:1;stroke-miterlimit:10;\" d=\"M 0.0003125 -0.00103125 L 4.254219 -0.00103125 M 0.0003125 43.389594 L 4.254219 43.389594 M 0.0003125 86.776313 L 4.254219 86.776313 M 0.0003125 130.163031 L 4.254219 130.163031 M 0.0003125 173.553656 L 4.254219 173.553656 M 0.0003125 216.940375 L 4.254219 216.940375 M 380.3675 -0.00103125 L 376.1175 -0.00103125 M 380.3675 43.389594 L 376.1175 43.389594 M 380.3675 86.776313 L 376.1175 86.776313 M 380.3675 130.163031 L 376.1175 130.163031 M 380.3675 173.553656 L 376.1175 173.553656 M 380.3675 216.940375 L 376.1175 216.940375 \" transform=\"matrix(1,0,0,-1,19.57,238.831)\"/>\n<path style=\"fill:none;stroke-width:0.3985;stroke-linecap:butt;stroke-linejoin:miter;stroke:rgb(0%,0%,0%);stroke-opacity:1;stroke-miterlimit:10;\" d=\"M 0.0003125 -0.00103125 L 0.0003125 238.635688 L 380.3675 238.635688 L 380.3675 -0.00103125 Z M 0.0003125 -0.00103125 \" transform=\"matrix(1,0,0,-1,19.57,238.831)\"/>\n<g style=\"fill:rgb(0%,0%,0%);fill-opacity:1;\">\n  <use xlink:href=\"#glyph-1567442442225003-0-1\" x=\"17.08\" y=\"248.771\"/>\n</g>\n<g style=\"fill:rgb(0%,0%,0%);fill-opacity:1;\">\n  <use xlink:href=\"#glyph-1567442442225003-0-1\" x=\"51.242\" y=\"248.771\"/>\n</g>\n<g style=\"fill:rgb(0%,0%,0%);fill-opacity:1;\">\n  <use xlink:href=\"#glyph-1567442442225003-1-1\" x=\"56.223\" y=\"248.771\"/>\n</g>\n<g style=\"fill:rgb(0%,0%,0%);fill-opacity:1;\">\n  <use xlink:href=\"#glyph-1567442442225003-0-2\" x=\"58.99\" y=\"248.771\"/>\n</g>\n<g style=\"fill:rgb(0%,0%,0%);fill-opacity:1;\">\n  <use xlink:href=\"#glyph-1567442442225003-0-1\" x=\"89.278\" y=\"248.771\"/>\n</g>\n<g style=\"fill:rgb(0%,0%,0%);fill-opacity:1;\">\n  <use xlink:href=\"#glyph-1567442442225003-1-1\" x=\"94.259\" y=\"248.771\"/>\n</g>\n<g style=\"fill:rgb(0%,0%,0%);fill-opacity:1;\">\n  <use xlink:href=\"#glyph-1567442442225003-0-3\" x=\"97.027\" y=\"248.771\"/>\n</g>\n<g style=\"fill:rgb(0%,0%,0%);fill-opacity:1;\">\n  <use xlink:href=\"#glyph-1567442442225003-0-1\" x=\"127.314\" y=\"248.771\"/>\n</g>\n<g style=\"fill:rgb(0%,0%,0%);fill-opacity:1;\">\n  <use xlink:href=\"#glyph-1567442442225003-1-1\" x=\"132.296\" y=\"248.771\"/>\n</g>\n<g style=\"fill:rgb(0%,0%,0%);fill-opacity:1;\">\n  <use xlink:href=\"#glyph-1567442442225003-0-4\" x=\"135.063\" y=\"248.771\"/>\n</g>\n<g style=\"fill:rgb(0%,0%,0%);fill-opacity:1;\">\n  <use xlink:href=\"#glyph-1567442442225003-0-1\" x=\"165.351\" y=\"248.771\"/>\n</g>\n<g style=\"fill:rgb(0%,0%,0%);fill-opacity:1;\">\n  <use xlink:href=\"#glyph-1567442442225003-1-1\" x=\"170.332\" y=\"248.771\"/>\n</g>\n<g style=\"fill:rgb(0%,0%,0%);fill-opacity:1;\">\n  <use xlink:href=\"#glyph-1567442442225003-0-5\" x=\"173.1\" y=\"248.771\"/>\n</g>\n<g style=\"fill:rgb(0%,0%,0%);fill-opacity:1;\">\n  <use xlink:href=\"#glyph-1567442442225003-0-1\" x=\"203.387\" y=\"248.771\"/>\n</g>\n<g style=\"fill:rgb(0%,0%,0%);fill-opacity:1;\">\n  <use xlink:href=\"#glyph-1567442442225003-1-1\" x=\"208.369\" y=\"248.771\"/>\n</g>\n<g style=\"fill:rgb(0%,0%,0%);fill-opacity:1;\">\n  <use xlink:href=\"#glyph-1567442442225003-0-6\" x=\"211.136\" y=\"248.771\"/>\n</g>\n<g style=\"fill:rgb(0%,0%,0%);fill-opacity:1;\">\n  <use xlink:href=\"#glyph-1567442442225003-0-1\" x=\"241.424\" y=\"248.771\"/>\n</g>\n<g style=\"fill:rgb(0%,0%,0%);fill-opacity:1;\">\n  <use xlink:href=\"#glyph-1567442442225003-1-1\" x=\"246.405\" y=\"248.771\"/>\n</g>\n<g style=\"fill:rgb(0%,0%,0%);fill-opacity:1;\">\n  <use xlink:href=\"#glyph-1567442442225003-0-7\" x=\"249.172\" y=\"248.771\"/>\n</g>\n<g style=\"fill:rgb(0%,0%,0%);fill-opacity:1;\">\n  <use xlink:href=\"#glyph-1567442442225003-0-1\" x=\"279.46\" y=\"248.771\"/>\n</g>\n<g style=\"fill:rgb(0%,0%,0%);fill-opacity:1;\">\n  <use xlink:href=\"#glyph-1567442442225003-1-1\" x=\"284.441\" y=\"248.771\"/>\n</g>\n<g style=\"fill:rgb(0%,0%,0%);fill-opacity:1;\">\n  <use xlink:href=\"#glyph-1567442442225003-0-8\" x=\"287.209\" y=\"248.771\"/>\n</g>\n<g style=\"fill:rgb(0%,0%,0%);fill-opacity:1;\">\n  <use xlink:href=\"#glyph-1567442442225003-0-1\" x=\"317.496\" y=\"248.771\"/>\n</g>\n<g style=\"fill:rgb(0%,0%,0%);fill-opacity:1;\">\n  <use xlink:href=\"#glyph-1567442442225003-1-1\" x=\"322.478\" y=\"248.771\"/>\n</g>\n<g style=\"fill:rgb(0%,0%,0%);fill-opacity:1;\">\n  <use xlink:href=\"#glyph-1567442442225003-0-9\" x=\"325.245\" y=\"248.771\"/>\n</g>\n<g style=\"fill:rgb(0%,0%,0%);fill-opacity:1;\">\n  <use xlink:href=\"#glyph-1567442442225003-0-1\" x=\"355.533\" y=\"248.771\"/>\n</g>\n<g style=\"fill:rgb(0%,0%,0%);fill-opacity:1;\">\n  <use xlink:href=\"#glyph-1567442442225003-1-1\" x=\"360.514\" y=\"248.771\"/>\n</g>\n<g style=\"fill:rgb(0%,0%,0%);fill-opacity:1;\">\n  <use xlink:href=\"#glyph-1567442442225003-0-10\" x=\"363.281\" y=\"248.771\"/>\n</g>\n<g style=\"fill:rgb(0%,0%,0%);fill-opacity:1;\">\n  <use xlink:href=\"#glyph-1567442442225003-0-2\" x=\"397.443\" y=\"248.771\"/>\n</g>\n<g style=\"fill:rgb(0%,0%,0%);fill-opacity:1;\">\n  <use xlink:href=\"#glyph-1567442442225003-0-1\" x=\"11.069\" y=\"242.042\"/>\n</g>\n<g style=\"fill:rgb(0%,0%,0%);fill-opacity:1;\">\n  <use xlink:href=\"#glyph-1567442442225003-0-1\" x=\"3.321\" y=\"198.654\"/>\n</g>\n<g style=\"fill:rgb(0%,0%,0%);fill-opacity:1;\">\n  <use xlink:href=\"#glyph-1567442442225003-1-1\" x=\"8.302\" y=\"198.654\"/>\n</g>\n<g style=\"fill:rgb(0%,0%,0%);fill-opacity:1;\">\n  <use xlink:href=\"#glyph-1567442442225003-0-3\" x=\"11.069\" y=\"198.654\"/>\n</g>\n<g style=\"fill:rgb(0%,0%,0%);fill-opacity:1;\">\n  <use xlink:href=\"#glyph-1567442442225003-0-1\" x=\"3.321\" y=\"155.267\"/>\n</g>\n<g style=\"fill:rgb(0%,0%,0%);fill-opacity:1;\">\n  <use xlink:href=\"#glyph-1567442442225003-1-1\" x=\"8.302\" y=\"155.267\"/>\n</g>\n<g style=\"fill:rgb(0%,0%,0%);fill-opacity:1;\">\n  <use xlink:href=\"#glyph-1567442442225003-0-5\" x=\"11.069\" y=\"155.267\"/>\n</g>\n<g style=\"fill:rgb(0%,0%,0%);fill-opacity:1;\">\n  <use xlink:href=\"#glyph-1567442442225003-0-1\" x=\"3.321\" y=\"111.879\"/>\n</g>\n<g style=\"fill:rgb(0%,0%,0%);fill-opacity:1;\">\n  <use xlink:href=\"#glyph-1567442442225003-1-1\" x=\"8.302\" y=\"111.879\"/>\n</g>\n<g style=\"fill:rgb(0%,0%,0%);fill-opacity:1;\">\n  <use xlink:href=\"#glyph-1567442442225003-0-7\" x=\"11.069\" y=\"111.879\"/>\n</g>\n<g style=\"fill:rgb(0%,0%,0%);fill-opacity:1;\">\n  <use xlink:href=\"#glyph-1567442442225003-0-1\" x=\"3.321\" y=\"68.492\"/>\n</g>\n<g style=\"fill:rgb(0%,0%,0%);fill-opacity:1;\">\n  <use xlink:href=\"#glyph-1567442442225003-1-1\" x=\"8.302\" y=\"68.492\"/>\n</g>\n<g style=\"fill:rgb(0%,0%,0%);fill-opacity:1;\">\n  <use xlink:href=\"#glyph-1567442442225003-0-9\" x=\"11.069\" y=\"68.492\"/>\n</g>\n<g style=\"fill:rgb(0%,0%,0%);fill-opacity:1;\">\n  <use xlink:href=\"#glyph-1567442442225003-0-2\" x=\"11.069\" y=\"25.104\"/>\n</g>\n<g clip-path=\"url(#clip-1567442442225003-1)\" clip-rule=\"nonzero\">\n<path style=\"fill:none;stroke-width:0.3985;stroke-linecap:butt;stroke-linejoin:miter;stroke:rgb(0%,0%,100%);stroke-opacity:1;stroke-miterlimit:10;\" d=\"M 0.0003125 216.940375 L 380.3675 216.940375 \" transform=\"matrix(1,0,0,-1,19.57,238.831)\"/>\n</g>\n<path style=\"fill-rule:nonzero;fill:rgb(100%,100%,100%);fill-opacity:1;stroke-width:0.3985;stroke-linecap:butt;stroke-linejoin:miter;stroke:rgb(0%,0%,0%);stroke-opacity:1;stroke-miterlimit:10;\" d=\"M 301.055 216.725531 L 372.558906 216.725531 L 372.558906 233.663031 L 301.055 233.663031 Z M 301.055 216.725531 \" transform=\"matrix(1,0,0,-1,19.57,238.831)\"/>\n<path style=\"fill:none;stroke-width:0.3985;stroke-linecap:butt;stroke-linejoin:miter;stroke:rgb(0%,0%,100%);stroke-opacity:1;stroke-miterlimit:10;\" d=\"M -0.00140625 -0.000625 L 17.006406 -0.000625 \" transform=\"matrix(1,0,0,-1,323.81,13.64)\"/>\n<g style=\"fill:rgb(0%,0%,0%);fill-opacity:1;\">\n  <use xlink:href=\"#glyph-1567442442225003-2-1\" x=\"343.01\" y=\"16.629\"/>\n  <use xlink:href=\"#glyph-1567442442225003-2-2\" x=\"350.063549\" y=\"16.629\"/>\n  <use xlink:href=\"#glyph-1567442442225003-2-3\" x=\"354.486961\" y=\"16.629\"/>\n  <use xlink:href=\"#glyph-1567442442225003-2-4\" x=\"358.362428\" y=\"16.629\"/>\n  <use xlink:href=\"#glyph-1567442442225003-2-5\" x=\"363.343748\" y=\"16.629\"/>\n  <use xlink:href=\"#glyph-1567442442225003-2-6\" x=\"367.219215\" y=\"16.629\"/>\n  <use xlink:href=\"#glyph-1567442442225003-2-7\" x=\"372.200535\" y=\"16.629\"/>\n</g>\n<g style=\"fill:rgb(0%,0%,0%);fill-opacity:1;\">\n  <use xlink:href=\"#glyph-1567442442225003-2-6\" x=\"378.287708\" y=\"16.629\"/>\n  <use xlink:href=\"#glyph-1567442442225003-2-8\" x=\"383.269028\" y=\"16.629\"/>\n</g>\n</g>\n</svg>\n\n"
         }
        },
        "systemjs_options": null
       },
       "nodeType": "Scope",
       "props": {},
       "type": "node"
      },
      "text/html": [
       "<div\n",
       "    class=\"webio-mountpoint\"\n",
       "    data-webio-mountpoint=\"18172737995921465866\"\n",
       ">\n",
       "    <script>\n",
       "    if (window.require && require.defined && require.defined(\"nbextensions/webio-jupyter-notebook\")) {\n",
       "        console.log(\"Jupyter WebIO extension detected, not mounting.\");\n",
       "    } else if (window.WebIO) {\n",
       "        WebIO.mount(\n",
       "            document.querySelector('[data-webio-mountpoint=\"18172737995921465866\"]'),\n",
       "            {\"props\":{},\"nodeType\":\"Scope\",\"type\":\"node\",\"instanceArgs\":{\"imports\":{\"data\":[],\"type\":\"async_block\"},\"id\":\"17262319958992804099\",\"handlers\":{\"obs-output\":[\"function (value, scope) {\\n    scope.setInnerHTML(value);\\n}\\n\"]},\"systemjs_options\":null,\"mount_callbacks\":[],\"observables\":{\"obs-output\":{\"sync\":false,\"id\":\"ob_47\",\"value\":\"<?xml version=\\\"1.0\\\" encoding=\\\"UTF-8\\\"?>\\n<svg xmlns=\\\"http:\\/\\/www.w3.org\\/2000\\/svg\\\" xmlns:xlink=\\\"http:\\/\\/www.w3.org\\/1999\\/xlink\\\" width=\\\"405.745pt\\\" height=\\\"252.092pt\\\" viewBox=\\\"0 0 405.745 252.092\\\" version=\\\"1.1\\\">\\n<defs>\\n<g>\\n<symbol overflow=\\\"visible\\\" id=\\\"glyph-1567442442225002-0-0\\\">\\n<path style=\\\"stroke:none;\\\" d=\\\"\\\"\\/>\\n<\\/symbol>\\n<symbol overflow=\\\"visible\\\" id=\\\"glyph-1567442442225002-0-1\\\">\\n<path style=\\\"stroke:none;\\\" d=\\\"M 4.578125 -3.1875 C 4.578125 -3.984375 4.53125 -4.78125 4.1875 -5.515625 C 3.734375 -6.484375 2.90625 -6.640625 2.5 -6.640625 C 1.890625 -6.640625 1.171875 -6.375 0.75 -5.453125 C 0.4375 -4.765625 0.390625 -3.984375 0.390625 -3.1875 C 0.390625 -2.4375 0.421875 -1.546875 0.84375 -0.78125 C 1.265625 0.015625 2 0.21875 2.484375 0.21875 C 3.015625 0.21875 3.78125 0.015625 4.21875 -0.9375 C 4.53125 -1.625 4.578125 -2.40625 4.578125 -3.1875 Z M 2.484375 0 C 2.09375 0 1.5 -0.25 1.328125 -1.203125 C 1.21875 -1.796875 1.21875 -2.71875 1.21875 -3.3125 C 1.21875 -3.953125 1.21875 -4.609375 1.296875 -5.140625 C 1.484375 -6.328125 2.234375 -6.421875 2.484375 -6.421875 C 2.8125 -6.421875 3.46875 -6.234375 3.65625 -5.25 C 3.765625 -4.6875 3.765625 -3.9375 3.765625 -3.3125 C 3.765625 -2.5625 3.765625 -1.890625 3.65625 -1.25 C 3.5 -0.296875 2.9375 0 2.484375 0 Z M 2.484375 0 \\\"\\/>\\n<\\/symbol>\\n<symbol overflow=\\\"visible\\\" id=\\\"glyph-1567442442225002-0-2\\\">\\n<path style=\\\"stroke:none;\\\" d=\\\"M 2.9375 -6.375 C 2.9375 -6.625 2.9375 -6.640625 2.703125 -6.640625 C 2.078125 -6 1.203125 -6 0.890625 -6 L 0.890625 -5.6875 C 1.09375 -5.6875 1.671875 -5.6875 2.1875 -5.953125 L 2.1875 -0.78125 C 2.1875 -0.421875 2.15625 -0.3125 1.265625 -0.3125 L 0.953125 -0.3125 L 0.953125 0 C 1.296875 -0.03125 2.15625 -0.03125 2.5625 -0.03125 C 2.953125 -0.03125 3.828125 -0.03125 4.171875 0 L 4.171875 -0.3125 L 3.859375 -0.3125 C 2.953125 -0.3125 2.9375 -0.421875 2.9375 -0.78125 Z M 2.9375 -6.375 \\\"\\/>\\n<\\/symbol>\\n<symbol overflow=\\\"visible\\\" id=\\\"glyph-1567442442225002-0-3\\\">\\n<path style=\\\"stroke:none;\\\" d=\\\"M 1.265625 -0.765625 L 2.328125 -1.796875 C 3.875 -3.171875 4.46875 -3.703125 4.46875 -4.703125 C 4.46875 -5.84375 3.578125 -6.640625 2.359375 -6.640625 C 1.234375 -6.640625 0.5 -5.71875 0.5 -4.828125 C 0.5 -4.28125 1 -4.28125 1.03125 -4.28125 C 1.203125 -4.28125 1.546875 -4.390625 1.546875 -4.8125 C 1.546875 -5.0625 1.359375 -5.328125 1.015625 -5.328125 C 0.9375 -5.328125 0.921875 -5.328125 0.890625 -5.3125 C 1.109375 -5.96875 1.65625 -6.328125 2.234375 -6.328125 C 3.140625 -6.328125 3.5625 -5.515625 3.5625 -4.703125 C 3.5625 -3.90625 3.078125 -3.125 2.515625 -2.5 L 0.609375 -0.375 C 0.5 -0.265625 0.5 -0.234375 0.5 0 L 4.203125 0 L 4.46875 -1.734375 L 4.234375 -1.734375 C 4.171875 -1.4375 4.109375 -1 4 -0.84375 C 3.9375 -0.765625 3.28125 -0.765625 3.0625 -0.765625 Z M 1.265625 -0.765625 \\\"\\/>\\n<\\/symbol>\\n<symbol overflow=\\\"visible\\\" id=\\\"glyph-1567442442225002-0-4\\\">\\n<path style=\\\"stroke:none;\\\" d=\\\"M 2.890625 -3.515625 C 3.703125 -3.78125 4.28125 -4.46875 4.28125 -5.265625 C 4.28125 -6.078125 3.40625 -6.640625 2.453125 -6.640625 C 1.453125 -6.640625 0.6875 -6.046875 0.6875 -5.28125 C 0.6875 -4.953125 0.90625 -4.765625 1.203125 -4.765625 C 1.5 -4.765625 1.703125 -4.984375 1.703125 -5.28125 C 1.703125 -5.765625 1.234375 -5.765625 1.09375 -5.765625 C 1.390625 -6.265625 2.046875 -6.390625 2.40625 -6.390625 C 2.828125 -6.390625 3.375 -6.171875 3.375 -5.28125 C 3.375 -5.15625 3.34375 -4.578125 3.09375 -4.140625 C 2.796875 -3.65625 2.453125 -3.625 2.203125 -3.625 C 2.125 -3.609375 1.890625 -3.59375 1.8125 -3.59375 C 1.734375 -3.578125 1.671875 -3.5625 1.671875 -3.46875 C 1.671875 -3.359375 1.734375 -3.359375 1.90625 -3.359375 L 2.34375 -3.359375 C 3.15625 -3.359375 3.53125 -2.6875 3.53125 -1.703125 C 3.53125 -0.34375 2.84375 -0.0625 2.40625 -0.0625 C 1.96875 -0.0625 1.21875 -0.234375 0.875 -0.8125 C 1.21875 -0.765625 1.53125 -0.984375 1.53125 -1.359375 C 1.53125 -1.71875 1.265625 -1.921875 0.984375 -1.921875 C 0.734375 -1.921875 0.421875 -1.78125 0.421875 -1.34375 C 0.421875 -0.4375 1.34375 0.21875 2.4375 0.21875 C 3.65625 0.21875 4.5625 -0.6875 4.5625 -1.703125 C 4.5625 -2.515625 3.921875 -3.296875 2.890625 -3.515625 Z M 2.890625 -3.515625 \\\"\\/>\\n<\\/symbol>\\n<symbol overflow=\\\"visible\\\" id=\\\"glyph-1567442442225002-0-5\\\">\\n<path style=\\\"stroke:none;\\\" d=\\\"M 2.9375 -1.640625 L 2.9375 -0.78125 C 2.9375 -0.421875 2.90625 -0.3125 2.171875 -0.3125 L 1.96875 -0.3125 L 1.96875 0 C 2.375 -0.03125 2.890625 -0.03125 3.3125 -0.03125 C 3.734375 -0.03125 4.25 -0.03125 4.671875 0 L 4.671875 -0.3125 L 4.453125 -0.3125 C 3.71875 -0.3125 3.703125 -0.421875 3.703125 -0.78125 L 3.703125 -1.640625 L 4.6875 -1.640625 L 4.6875 -1.953125 L 3.703125 -1.953125 L 3.703125 -6.484375 C 3.703125 -6.6875 3.703125 -6.75 3.53125 -6.75 C 3.453125 -6.75 3.421875 -6.75 3.34375 -6.625 L 0.28125 -1.953125 L 0.28125 -1.640625 Z M 2.984375 -1.953125 L 0.5625 -1.953125 L 2.984375 -5.671875 Z M 2.984375 -1.953125 \\\"\\/>\\n<\\/symbol>\\n<symbol overflow=\\\"visible\\\" id=\\\"glyph-1567442442225002-0-6\\\">\\n<path style=\\\"stroke:none;\\\" d=\\\"M 4.46875 -2 C 4.46875 -3.1875 3.65625 -4.1875 2.578125 -4.1875 C 2.109375 -4.1875 1.671875 -4.03125 1.3125 -3.671875 L 1.3125 -5.625 C 1.515625 -5.5625 1.84375 -5.5 2.15625 -5.5 C 3.390625 -5.5 4.09375 -6.40625 4.09375 -6.53125 C 4.09375 -6.59375 4.0625 -6.640625 3.984375 -6.640625 C 3.984375 -6.640625 3.953125 -6.640625 3.90625 -6.609375 C 3.703125 -6.515625 3.21875 -6.3125 2.546875 -6.3125 C 2.15625 -6.3125 1.6875 -6.390625 1.21875 -6.59375 C 1.140625 -6.625 1.125 -6.625 1.109375 -6.625 C 1 -6.625 1 -6.546875 1 -6.390625 L 1 -3.4375 C 1 -3.265625 1 -3.1875 1.140625 -3.1875 C 1.21875 -3.1875 1.234375 -3.203125 1.28125 -3.265625 C 1.390625 -3.421875 1.75 -3.96875 2.5625 -3.96875 C 3.078125 -3.96875 3.328125 -3.515625 3.40625 -3.328125 C 3.5625 -2.953125 3.59375 -2.578125 3.59375 -2.078125 C 3.59375 -1.71875 3.59375 -1.125 3.34375 -0.703125 C 3.109375 -0.3125 2.734375 -0.0625 2.28125 -0.0625 C 1.5625 -0.0625 0.984375 -0.59375 0.8125 -1.171875 C 0.84375 -1.171875 0.875 -1.15625 0.984375 -1.15625 C 1.3125 -1.15625 1.484375 -1.40625 1.484375 -1.640625 C 1.484375 -1.890625 1.3125 -2.140625 0.984375 -2.140625 C 0.84375 -2.140625 0.5 -2.0625 0.5 -1.609375 C 0.5 -0.75 1.1875 0.21875 2.296875 0.21875 C 3.453125 0.21875 4.46875 -0.734375 4.46875 -2 Z M 4.46875 -2 \\\"\\/>\\n<\\/symbol>\\n<symbol overflow=\\\"visible\\\" id=\\\"glyph-1567442442225002-0-7\\\">\\n<path style=\\\"stroke:none;\\\" d=\\\"M 1.3125 -3.265625 L 1.3125 -3.515625 C 1.3125 -6.03125 2.546875 -6.390625 3.0625 -6.390625 C 3.296875 -6.390625 3.71875 -6.328125 3.9375 -5.984375 C 3.78125 -5.984375 3.390625 -5.984375 3.390625 -5.546875 C 3.390625 -5.234375 3.625 -5.078125 3.84375 -5.078125 C 4 -5.078125 4.3125 -5.171875 4.3125 -5.5625 C 4.3125 -6.15625 3.875 -6.640625 3.046875 -6.640625 C 1.765625 -6.640625 0.421875 -5.359375 0.421875 -3.15625 C 0.421875 -0.484375 1.578125 0.21875 2.5 0.21875 C 3.609375 0.21875 4.5625 -0.71875 4.5625 -2.03125 C 4.5625 -3.296875 3.671875 -4.25 2.5625 -4.25 C 1.890625 -4.25 1.515625 -3.75 1.3125 -3.265625 Z M 2.5 -0.0625 C 1.875 -0.0625 1.578125 -0.65625 1.515625 -0.8125 C 1.328125 -1.28125 1.328125 -2.078125 1.328125 -2.25 C 1.328125 -3.03125 1.65625 -4.03125 2.546875 -4.03125 C 2.71875 -4.03125 3.171875 -4.03125 3.484375 -3.40625 C 3.65625 -3.046875 3.65625 -2.53125 3.65625 -2.046875 C 3.65625 -1.5625 3.65625 -1.0625 3.484375 -0.703125 C 3.1875 -0.109375 2.734375 -0.0625 2.5 -0.0625 Z M 2.5 -0.0625 \\\"\\/>\\n<\\/symbol>\\n<symbol overflow=\\\"visible\\\" id=\\\"glyph-1567442442225002-0-8\\\">\\n<path style=\\\"stroke:none;\\\" d=\\\"M 4.75 -6.078125 C 4.828125 -6.1875 4.828125 -6.203125 4.828125 -6.421875 L 2.40625 -6.421875 C 1.203125 -6.421875 1.171875 -6.546875 1.140625 -6.734375 L 0.890625 -6.734375 L 0.5625 -4.6875 L 0.8125 -4.6875 C 0.84375 -4.84375 0.921875 -5.46875 1.0625 -5.59375 C 1.125 -5.65625 1.90625 -5.65625 2.03125 -5.65625 L 4.09375 -5.65625 C 3.984375 -5.5 3.203125 -4.40625 2.984375 -4.078125 C 2.078125 -2.734375 1.75 -1.34375 1.75 -0.328125 C 1.75 -0.234375 1.75 0.21875 2.21875 0.21875 C 2.671875 0.21875 2.671875 -0.234375 2.671875 -0.328125 L 2.671875 -0.84375 C 2.671875 -1.390625 2.703125 -1.9375 2.78125 -2.46875 C 2.828125 -2.703125 2.953125 -3.5625 3.40625 -4.171875 Z M 4.75 -6.078125 \\\"\\/>\\n<\\/symbol>\\n<symbol overflow=\\\"visible\\\" id=\\\"glyph-1567442442225002-0-9\\\">\\n<path style=\\\"stroke:none;\\\" d=\\\"M 1.625 -4.5625 C 1.171875 -4.859375 1.125 -5.1875 1.125 -5.359375 C 1.125 -5.96875 1.78125 -6.390625 2.484375 -6.390625 C 3.203125 -6.390625 3.84375 -5.875 3.84375 -5.15625 C 3.84375 -4.578125 3.453125 -4.109375 2.859375 -3.765625 Z M 3.078125 -3.609375 C 3.796875 -3.984375 4.28125 -4.5 4.28125 -5.15625 C 4.28125 -6.078125 3.40625 -6.640625 2.5 -6.640625 C 1.5 -6.640625 0.6875 -5.90625 0.6875 -4.96875 C 0.6875 -4.796875 0.703125 -4.34375 1.125 -3.875 C 1.234375 -3.765625 1.609375 -3.515625 1.859375 -3.34375 C 1.28125 -3.046875 0.421875 -2.5 0.421875 -1.5 C 0.421875 -0.453125 1.4375 0.21875 2.484375 0.21875 C 3.609375 0.21875 4.5625 -0.609375 4.5625 -1.671875 C 4.5625 -2.03125 4.453125 -2.484375 4.0625 -2.90625 C 3.875 -3.109375 3.71875 -3.203125 3.078125 -3.609375 Z M 2.078125 -3.1875 L 3.3125 -2.40625 C 3.59375 -2.21875 4.0625 -1.921875 4.0625 -1.3125 C 4.0625 -0.578125 3.3125 -0.0625 2.5 -0.0625 C 1.640625 -0.0625 0.921875 -0.671875 0.921875 -1.5 C 0.921875 -2.078125 1.234375 -2.71875 2.078125 -3.1875 Z M 2.078125 -3.1875 \\\"\\/>\\n<\\/symbol>\\n<symbol overflow=\\\"visible\\\" id=\\\"glyph-1567442442225002-0-10\\\">\\n<path style=\\\"stroke:none;\\\" d=\\\"M 3.65625 -3.171875 L 3.65625 -2.84375 C 3.65625 -0.515625 2.625 -0.0625 2.046875 -0.0625 C 1.875 -0.0625 1.328125 -0.078125 1.0625 -0.421875 C 1.5 -0.421875 1.578125 -0.703125 1.578125 -0.875 C 1.578125 -1.1875 1.34375 -1.328125 1.125 -1.328125 C 0.96875 -1.328125 0.671875 -1.25 0.671875 -0.859375 C 0.671875 -0.1875 1.203125 0.21875 2.046875 0.21875 C 3.34375 0.21875 4.5625 -1.140625 4.5625 -3.28125 C 4.5625 -5.96875 3.40625 -6.640625 2.515625 -6.640625 C 1.96875 -6.640625 1.484375 -6.453125 1.0625 -6.015625 C 0.640625 -5.5625 0.421875 -5.140625 0.421875 -4.390625 C 0.421875 -3.15625 1.296875 -2.171875 2.40625 -2.171875 C 3.015625 -2.171875 3.421875 -2.59375 3.65625 -3.171875 Z M 2.421875 -2.40625 C 2.265625 -2.40625 1.796875 -2.40625 1.5 -3.03125 C 1.3125 -3.40625 1.3125 -3.890625 1.3125 -4.390625 C 1.3125 -4.921875 1.3125 -5.390625 1.53125 -5.765625 C 1.796875 -6.265625 2.171875 -6.390625 2.515625 -6.390625 C 2.984375 -6.390625 3.3125 -6.046875 3.484375 -5.609375 C 3.59375 -5.28125 3.640625 -4.65625 3.640625 -4.203125 C 3.640625 -3.375 3.296875 -2.40625 2.421875 -2.40625 Z M 2.421875 -2.40625 \\\"\\/>\\n<\\/symbol>\\n<symbol overflow=\\\"visible\\\" id=\\\"glyph-1567442442225002-1-0\\\">\\n<path style=\\\"stroke:none;\\\" d=\\\"\\\"\\/>\\n<\\/symbol>\\n<symbol overflow=\\\"visible\\\" id=\\\"glyph-1567442442225002-1-1\\\">\\n<path style=\\\"stroke:none;\\\" d=\\\"M 1.90625 -0.53125 C 1.90625 -0.8125 1.671875 -1.0625 1.390625 -1.0625 C 1.09375 -1.0625 0.859375 -0.8125 0.859375 -0.53125 C 0.859375 -0.234375 1.09375 0 1.390625 0 C 1.671875 0 1.90625 -0.234375 1.90625 -0.53125 Z M 1.90625 -0.53125 \\\"\\/>\\n<\\/symbol>\\n<symbol overflow=\\\"visible\\\" id=\\\"glyph-1567442442225002-2-0\\\">\\n<path style=\\\"stroke:none;\\\" d=\\\"\\\"\\/>\\n<\\/symbol>\\n<symbol overflow=\\\"visible\\\" id=\\\"glyph-1567442442225002-2-1\\\">\\n<path style=\\\"stroke:none;\\\" d=\\\"M 6.65625 -1.984375 C 6.65625 -2.84375 5.671875 -3.765625 4.5625 -3.890625 L 4.5625 -3.5625 C 5.53125 -3.75 6.390625 -4.546875 6.390625 -5.28125 C 6.390625 -6.15625 5.296875 -7.140625 4 -7.140625 L 0.171875 -7.140625 L 0.171875 -6.5 L 0.59375 -6.5 C 1.359375 -6.5 1.203125 -6.546875 1.203125 -6.1875 L 1.203125 -0.9375 C 1.203125 -0.578125 1.359375 -0.640625 0.59375 -0.640625 L 0.171875 -0.640625 L 0.171875 0 L 4.265625 0 C 5.59375 0 6.65625 -1.046875 6.65625 -1.984375 Z M 5.078125 -5.28125 C 5.078125 -4.640625 4.765625 -3.984375 3.65625 -3.984375 L 2.375 -3.984375 L 2.375 -6.265625 C 2.375 -6.59375 2.234375 -6.5 2.703125 -6.5 L 3.9375 -6.5 C 4.90625 -6.5 5.078125 -5.8125 5.078125 -5.28125 Z M 5.3125 -2 C 5.3125 -1.28125 4.96875 -0.640625 3.953125 -0.640625 L 2.703125 -0.640625 C 2.234375 -0.640625 2.375 -0.53125 2.375 -0.875 L 2.375 -3.421875 L 4.09375 -3.421875 C 5.078125 -3.421875 5.3125 -2.65625 5.3125 -2 Z M 5.3125 -2 \\\"\\/>\\n<\\/symbol>\\n<symbol overflow=\\\"visible\\\" id=\\\"glyph-1567442442225002-2-2\\\">\\n<path style=\\\"stroke:none;\\\" d=\\\"M 4.3125 -1.34375 C 4.3125 -1.453125 4.0625 -1.640625 4 -1.640625 C 3.921875 -1.640625 3.71875 -1.40625 3.703125 -1.328125 C 3.34375 -0.296875 2.625 -0.46875 2.53125 -0.46875 C 2.03125 -0.46875 1.75 -0.71875 1.53125 -1.09375 C 1.21875 -1.5625 1.28125 -2.109375 1.28125 -2.296875 L 3.890625 -2.296875 C 4.109375 -2.296875 4.3125 -2.46875 4.3125 -2.671875 C 4.3125 -3.65625 3.59375 -4.796875 2.359375 -4.796875 C 1.203125 -4.796875 0.09375 -3.59375 0.09375 -2.359375 C 0.09375 -1.015625 1.328125 0.109375 2.46875 0.109375 C 3.6875 0.109375 4.3125 -1.15625 4.3125 -1.34375 Z M 3.484375 -2.84375 L 1.296875 -2.84375 C 1.34375 -4.15625 2.015625 -4.25 2.359375 -4.25 C 3.375 -4.25 3.296875 -3.0625 3.296875 -2.84375 Z M 3.484375 -2.84375 \\\"\\/>\\n<\\/symbol>\\n<symbol overflow=\\\"visible\\\" id=\\\"glyph-1567442442225002-2-3\\\">\\n<path style=\\\"stroke:none;\\\" d=\\\"M 3.484375 -1.390625 L 3.484375 -2.140625 L 2.875 -2.140625 L 2.875 -1.421875 C 2.875 -0.671875 2.765625 -0.46875 2.390625 -0.46875 C 1.71875 -0.46875 1.890625 -1.203125 1.890625 -1.375 L 1.890625 -3.984375 L 3.3125 -3.984375 L 3.3125 -4.625 L 1.890625 -4.625 L 1.890625 -6.453125 L 1.296875 -6.453125 C 1.28125 -5.46875 1.171875 -4.578125 0.015625 -4.53125 L 0.015625 -3.984375 L 0.859375 -3.984375 L 0.859375 -1.390625 C 0.859375 -0.171875 1.96875 0.109375 2.328125 0.109375 C 3.03125 0.109375 3.484375 -0.75 3.484375 -1.390625 Z M 3.484375 -1.390625 \\\"\\/>\\n<\\/symbol>\\n<symbol overflow=\\\"visible\\\" id=\\\"glyph-1567442442225002-2-4\\\">\\n<path style=\\\"stroke:none;\\\" d=\\\"M 4.984375 -1.046875 L 4.984375 -1.78125 L 4.390625 -1.78125 L 4.390625 -1.046875 C 4.390625 -0.46875 4.3125 -0.578125 4.203125 -0.578125 C 3.875 -0.578125 4 -0.859375 4 -0.90625 L 4 -2.90625 C 4 -3.3125 3.953125 -3.828125 3.59375 -4.203125 C 3.203125 -4.578125 2.59375 -4.796875 2.109375 -4.796875 C 1.296875 -4.796875 0.421875 -4.15625 0.421875 -3.5 C 0.421875 -3.203125 0.8125 -2.875 1.0625 -2.875 C 1.34375 -2.875 1.6875 -3.234375 1.6875 -3.484375 C 1.6875 -3.609375 1.46875 -4.109375 1.34375 -4.109375 C 1.40625 -4.1875 1.78125 -4.25 2.09375 -4.25 C 2.578125 -4.25 2.96875 -4.015625 2.96875 -3.125 L 2.96875 -2.921875 C 2.640625 -2.90625 1.9375 -2.875 1.3125 -2.578125 C 0.5625 -2.234375 0.140625 -1.546875 0.140625 -1.109375 C 0.140625 -0.296875 1.28125 0.109375 1.90625 0.109375 C 2.578125 0.109375 3.203125 -0.453125 3.390625 -0.921875 L 3.046875 -0.921875 C 3.078125 -0.515625 3.53125 0.0625 4 0.0625 C 4.203125 0.0625 4.984375 -0.234375 4.984375 -1.046875 Z M 2.96875 -1.5625 C 2.96875 -0.609375 2.4375 -0.4375 1.984375 -0.4375 C 1.5 -0.4375 1.25 -0.625 1.25 -1.109375 C 1.25 -1.671875 1.5 -2.328125 2.96875 -2.375 Z M 2.96875 -1.5625 \\\"\\/>\\n<\\/symbol>\\n<symbol overflow=\\\"visible\\\" id=\\\"glyph-1567442442225002-2-5\\\">\\n<path style=\\\"stroke:none;\\\" d=\\\"M 3.46875 2.234375 C 3.46875 2.203125 3.421875 2.0625 3.25 1.890625 C 2 0.640625 1.734375 -1.125 1.734375 -2.65625 C 1.734375 -4.390625 2.0625 -6.015625 3.296875 -7.25 C 3.421875 -7.375 3.46875 -7.5 3.46875 -7.53125 C 3.46875 -7.609375 3.265625 -7.8125 3.203125 -7.8125 C 3.09375 -7.8125 2.03125 -6.953125 1.4375 -5.6875 C 0.921875 -4.59375 0.8125 -3.484375 0.8125 -2.65625 C 0.8125 -1.875 0.921875 -0.671875 1.46875 0.453125 C 2.0625 1.6875 3.09375 2.5 3.203125 2.5 C 3.265625 2.5 3.46875 2.296875 3.46875 2.234375 Z M 3.46875 2.234375 \\\"\\/>\\n<\\/symbol>\\n<symbol overflow=\\\"visible\\\" id=\\\"glyph-1567442442225002-2-6\\\">\\n<path style=\\\"stroke:none;\\\" d=\\\"M 4.34375 -0.15625 L 4.34375 -0.640625 L 3.859375 -0.640625 C 2.953125 -0.640625 3.09375 -0.578125 3.09375 -0.953125 L 3.09375 -6.546875 C 3.09375 -6.78125 2.9375 -6.96875 2.625 -6.96875 C 1.953125 -6.28125 1.203125 -6.328125 0.703125 -6.328125 L 0.703125 -5.6875 C 1.09375 -5.6875 1.796875 -5.734375 2.015625 -5.859375 L 2.015625 -0.953125 C 2.015625 -0.59375 2.15625 -0.640625 1.265625 -0.640625 L 0.765625 -0.640625 L 0.765625 0.015625 C 1.296875 -0.03125 2.15625 -0.03125 2.5625 -0.03125 C 2.953125 -0.03125 3.828125 -0.03125 4.34375 0.015625 Z M 4.34375 -0.15625 \\\"\\/>\\n<\\/symbol>\\n<symbol overflow=\\\"visible\\\" id=\\\"glyph-1567442442225002-2-7\\\">\\n<path style=\\\"stroke:none;\\\" d=\\\"M 2.1875 -0.171875 C 2.1875 -0.8125 1.78125 -1.390625 1.390625 -1.390625 C 1.03125 -1.390625 0.671875 -0.953125 0.671875 -0.6875 C 0.671875 -0.421875 1.03125 0 1.390625 0 C 1.53125 0 1.796875 -0.109375 1.609375 0.0625 C 1.625 0.46875 1.390625 0.953125 0.953125 1.421875 C 0.890625 1.484375 0.84375 1.609375 0.84375 1.65625 C 0.84375 1.71875 1.0625 1.921875 1.109375 1.921875 C 1.234375 1.921875 2.1875 0.984375 2.1875 -0.171875 Z M 2.1875 -0.171875 \\\"\\/>\\n<\\/symbol>\\n<symbol overflow=\\\"visible\\\" id=\\\"glyph-1567442442225002-2-8\\\">\\n<path style=\\\"stroke:none;\\\" d=\\\"M 3.046875 -2.65625 C 3.046875 -3.421875 2.9375 -4.640625 2.390625 -5.765625 C 1.796875 -6.984375 0.765625 -7.8125 0.671875 -7.8125 C 0.609375 -7.8125 0.390625 -7.59375 0.390625 -7.53125 C 0.390625 -7.5 0.4375 -7.375 0.625 -7.203125 C 1.609375 -6.203125 2.125 -4.734375 2.125 -2.65625 C 2.125 -0.953125 1.796875 0.6875 0.5625 1.9375 C 0.4375 2.0625 0.390625 2.203125 0.390625 2.234375 C 0.390625 2.296875 0.609375 2.5 0.671875 2.5 C 0.765625 2.5 1.828125 1.65625 2.421875 0.390625 C 2.9375 -0.703125 3.046875 -1.8125 3.046875 -2.65625 Z M 3.046875 -2.65625 \\\"\\/>\\n<\\/symbol>\\n<\\/g>\\n<clipPath id=\\\"clip-1567442442225002-1\\\">\\n  <path d=\\\"M 19.570313 21 L 399.9375 21 L 399.9375 23 L 19.570313 23 Z M 19.570313 21 \\\"\\/>\\n<\\/clipPath>\\n<\\/defs>\\n<g id=\\\"surface1\\\">\\n<path style=\\\"fill:none;stroke-width:0.19925;stroke-linecap:butt;stroke-linejoin:miter;stroke:rgb(50%,50%,50%);stroke-opacity:1;stroke-miterlimit:10;\\\" d=\\\"M 0.0003125 -0.00103125 L 0.0003125 4.252875 M 38.035469 -0.00103125 L 38.035469 4.252875 M 76.074531 -0.00103125 L 76.074531 4.252875 M 114.109688 -0.00103125 L 114.109688 4.252875 M 152.14875 -0.00103125 L 152.14875 4.252875 M 190.183906 -0.00103125 L 190.183906 4.252875 M 228.222969 -0.00103125 L 228.222969 4.252875 M 266.258125 -0.00103125 L 266.258125 4.252875 M 304.293281 -0.00103125 L 304.293281 4.252875 M 342.332344 -0.00103125 L 342.332344 4.252875 M 380.3675 -0.00103125 L 380.3675 4.252875 M 0.0003125 238.635688 L 0.0003125 234.381781 M 38.035469 238.635688 L 38.035469 234.381781 M 76.074531 238.635688 L 76.074531 234.381781 M 114.109688 238.635688 L 114.109688 234.381781 M 152.14875 238.635688 L 152.14875 234.381781 M 190.183906 238.635688 L 190.183906 234.381781 M 228.222969 238.635688 L 228.222969 234.381781 M 266.258125 238.635688 L 266.258125 234.381781 M 304.293281 238.635688 L 304.293281 234.381781 M 342.332344 238.635688 L 342.332344 234.381781 M 380.3675 238.635688 L 380.3675 234.381781 \\\" transform=\\\"matrix(1,0,0,-1,19.57,238.831)\\\"\\/>\\n<path style=\\\"fill:none;stroke-width:0.19925;stroke-linecap:butt;stroke-linejoin:miter;stroke:rgb(50%,50%,50%);stroke-opacity:1;stroke-miterlimit:10;\\\" d=\\\"M 0.0003125 -0.00103125 L 4.254219 -0.00103125 M 0.0003125 43.389594 L 4.254219 43.389594 M 0.0003125 86.776313 L 4.254219 86.776313 M 0.0003125 130.163031 L 4.254219 130.163031 M 0.0003125 173.553656 L 4.254219 173.553656 M 0.0003125 216.940375 L 4.254219 216.940375 M 380.3675 -0.00103125 L 376.1175 -0.00103125 M 380.3675 43.389594 L 376.1175 43.389594 M 380.3675 86.776313 L 376.1175 86.776313 M 380.3675 130.163031 L 376.1175 130.163031 M 380.3675 173.553656 L 376.1175 173.553656 M 380.3675 216.940375 L 376.1175 216.940375 \\\" transform=\\\"matrix(1,0,0,-1,19.57,238.831)\\\"\\/>\\n<path style=\\\"fill:none;stroke-width:0.3985;stroke-linecap:butt;stroke-linejoin:miter;stroke:rgb(0%,0%,0%);stroke-opacity:1;stroke-miterlimit:10;\\\" d=\\\"M 0.0003125 -0.00103125 L 0.0003125 238.635688 L 380.3675 238.635688 L 380.3675 -0.00103125 Z M 0.0003125 -0.00103125 \\\" transform=\\\"matrix(1,0,0,-1,19.57,238.831)\\\"\\/>\\n<g style=\\\"fill:rgb(0%,0%,0%);fill-opacity:1;\\\">\\n  <use xlink:href=\\\"#glyph-1567442442225002-0-1\\\" x=\\\"17.08\\\" y=\\\"248.771\\\"\\/>\\n<\\/g>\\n<g style=\\\"fill:rgb(0%,0%,0%);fill-opacity:1;\\\">\\n  <use xlink:href=\\\"#glyph-1567442442225002-0-1\\\" x=\\\"51.242\\\" y=\\\"248.771\\\"\\/>\\n<\\/g>\\n<g style=\\\"fill:rgb(0%,0%,0%);fill-opacity:1;\\\">\\n  <use xlink:href=\\\"#glyph-1567442442225002-1-1\\\" x=\\\"56.223\\\" y=\\\"248.771\\\"\\/>\\n<\\/g>\\n<g style=\\\"fill:rgb(0%,0%,0%);fill-opacity:1;\\\">\\n  <use xlink:href=\\\"#glyph-1567442442225002-0-2\\\" x=\\\"58.99\\\" y=\\\"248.771\\\"\\/>\\n<\\/g>\\n<g style=\\\"fill:rgb(0%,0%,0%);fill-opacity:1;\\\">\\n  <use xlink:href=\\\"#glyph-1567442442225002-0-1\\\" x=\\\"89.278\\\" y=\\\"248.771\\\"\\/>\\n<\\/g>\\n<g style=\\\"fill:rgb(0%,0%,0%);fill-opacity:1;\\\">\\n  <use xlink:href=\\\"#glyph-1567442442225002-1-1\\\" x=\\\"94.259\\\" y=\\\"248.771\\\"\\/>\\n<\\/g>\\n<g style=\\\"fill:rgb(0%,0%,0%);fill-opacity:1;\\\">\\n  <use xlink:href=\\\"#glyph-1567442442225002-0-3\\\" x=\\\"97.027\\\" y=\\\"248.771\\\"\\/>\\n<\\/g>\\n<g style=\\\"fill:rgb(0%,0%,0%);fill-opacity:1;\\\">\\n  <use xlink:href=\\\"#glyph-1567442442225002-0-1\\\" x=\\\"127.314\\\" y=\\\"248.771\\\"\\/>\\n<\\/g>\\n<g style=\\\"fill:rgb(0%,0%,0%);fill-opacity:1;\\\">\\n  <use xlink:href=\\\"#glyph-1567442442225002-1-1\\\" x=\\\"132.296\\\" y=\\\"248.771\\\"\\/>\\n<\\/g>\\n<g style=\\\"fill:rgb(0%,0%,0%);fill-opacity:1;\\\">\\n  <use xlink:href=\\\"#glyph-1567442442225002-0-4\\\" x=\\\"135.063\\\" y=\\\"248.771\\\"\\/>\\n<\\/g>\\n<g style=\\\"fill:rgb(0%,0%,0%);fill-opacity:1;\\\">\\n  <use xlink:href=\\\"#glyph-1567442442225002-0-1\\\" x=\\\"165.351\\\" y=\\\"248.771\\\"\\/>\\n<\\/g>\\n<g style=\\\"fill:rgb(0%,0%,0%);fill-opacity:1;\\\">\\n  <use xlink:href=\\\"#glyph-1567442442225002-1-1\\\" x=\\\"170.332\\\" y=\\\"248.771\\\"\\/>\\n<\\/g>\\n<g style=\\\"fill:rgb(0%,0%,0%);fill-opacity:1;\\\">\\n  <use xlink:href=\\\"#glyph-1567442442225002-0-5\\\" x=\\\"173.1\\\" y=\\\"248.771\\\"\\/>\\n<\\/g>\\n<g style=\\\"fill:rgb(0%,0%,0%);fill-opacity:1;\\\">\\n  <use xlink:href=\\\"#glyph-1567442442225002-0-1\\\" x=\\\"203.387\\\" y=\\\"248.771\\\"\\/>\\n<\\/g>\\n<g style=\\\"fill:rgb(0%,0%,0%);fill-opacity:1;\\\">\\n  <use xlink:href=\\\"#glyph-1567442442225002-1-1\\\" x=\\\"208.369\\\" y=\\\"248.771\\\"\\/>\\n<\\/g>\\n<g style=\\\"fill:rgb(0%,0%,0%);fill-opacity:1;\\\">\\n  <use xlink:href=\\\"#glyph-1567442442225002-0-6\\\" x=\\\"211.136\\\" y=\\\"248.771\\\"\\/>\\n<\\/g>\\n<g style=\\\"fill:rgb(0%,0%,0%);fill-opacity:1;\\\">\\n  <use xlink:href=\\\"#glyph-1567442442225002-0-1\\\" x=\\\"241.424\\\" y=\\\"248.771\\\"\\/>\\n<\\/g>\\n<g style=\\\"fill:rgb(0%,0%,0%);fill-opacity:1;\\\">\\n  <use xlink:href=\\\"#glyph-1567442442225002-1-1\\\" x=\\\"246.405\\\" y=\\\"248.771\\\"\\/>\\n<\\/g>\\n<g style=\\\"fill:rgb(0%,0%,0%);fill-opacity:1;\\\">\\n  <use xlink:href=\\\"#glyph-1567442442225002-0-7\\\" x=\\\"249.172\\\" y=\\\"248.771\\\"\\/>\\n<\\/g>\\n<g style=\\\"fill:rgb(0%,0%,0%);fill-opacity:1;\\\">\\n  <use xlink:href=\\\"#glyph-1567442442225002-0-1\\\" x=\\\"279.46\\\" y=\\\"248.771\\\"\\/>\\n<\\/g>\\n<g style=\\\"fill:rgb(0%,0%,0%);fill-opacity:1;\\\">\\n  <use xlink:href=\\\"#glyph-1567442442225002-1-1\\\" x=\\\"284.441\\\" y=\\\"248.771\\\"\\/>\\n<\\/g>\\n<g style=\\\"fill:rgb(0%,0%,0%);fill-opacity:1;\\\">\\n  <use xlink:href=\\\"#glyph-1567442442225002-0-8\\\" x=\\\"287.209\\\" y=\\\"248.771\\\"\\/>\\n<\\/g>\\n<g style=\\\"fill:rgb(0%,0%,0%);fill-opacity:1;\\\">\\n  <use xlink:href=\\\"#glyph-1567442442225002-0-1\\\" x=\\\"317.496\\\" y=\\\"248.771\\\"\\/>\\n<\\/g>\\n<g style=\\\"fill:rgb(0%,0%,0%);fill-opacity:1;\\\">\\n  <use xlink:href=\\\"#glyph-1567442442225002-1-1\\\" x=\\\"322.478\\\" y=\\\"248.771\\\"\\/>\\n<\\/g>\\n<g style=\\\"fill:rgb(0%,0%,0%);fill-opacity:1;\\\">\\n  <use xlink:href=\\\"#glyph-1567442442225002-0-9\\\" x=\\\"325.245\\\" y=\\\"248.771\\\"\\/>\\n<\\/g>\\n<g style=\\\"fill:rgb(0%,0%,0%);fill-opacity:1;\\\">\\n  <use xlink:href=\\\"#glyph-1567442442225002-0-1\\\" x=\\\"355.533\\\" y=\\\"248.771\\\"\\/>\\n<\\/g>\\n<g style=\\\"fill:rgb(0%,0%,0%);fill-opacity:1;\\\">\\n  <use xlink:href=\\\"#glyph-1567442442225002-1-1\\\" x=\\\"360.514\\\" y=\\\"248.771\\\"\\/>\\n<\\/g>\\n<g style=\\\"fill:rgb(0%,0%,0%);fill-opacity:1;\\\">\\n  <use xlink:href=\\\"#glyph-1567442442225002-0-10\\\" x=\\\"363.281\\\" y=\\\"248.771\\\"\\/>\\n<\\/g>\\n<g style=\\\"fill:rgb(0%,0%,0%);fill-opacity:1;\\\">\\n  <use xlink:href=\\\"#glyph-1567442442225002-0-2\\\" x=\\\"397.443\\\" y=\\\"248.771\\\"\\/>\\n<\\/g>\\n<g style=\\\"fill:rgb(0%,0%,0%);fill-opacity:1;\\\">\\n  <use xlink:href=\\\"#glyph-1567442442225002-0-1\\\" x=\\\"11.069\\\" y=\\\"242.042\\\"\\/>\\n<\\/g>\\n<g style=\\\"fill:rgb(0%,0%,0%);fill-opacity:1;\\\">\\n  <use xlink:href=\\\"#glyph-1567442442225002-0-1\\\" x=\\\"3.321\\\" y=\\\"198.654\\\"\\/>\\n<\\/g>\\n<g style=\\\"fill:rgb(0%,0%,0%);fill-opacity:1;\\\">\\n  <use xlink:href=\\\"#glyph-1567442442225002-1-1\\\" x=\\\"8.302\\\" y=\\\"198.654\\\"\\/>\\n<\\/g>\\n<g style=\\\"fill:rgb(0%,0%,0%);fill-opacity:1;\\\">\\n  <use xlink:href=\\\"#glyph-1567442442225002-0-3\\\" x=\\\"11.069\\\" y=\\\"198.654\\\"\\/>\\n<\\/g>\\n<g style=\\\"fill:rgb(0%,0%,0%);fill-opacity:1;\\\">\\n  <use xlink:href=\\\"#glyph-1567442442225002-0-1\\\" x=\\\"3.321\\\" y=\\\"155.267\\\"\\/>\\n<\\/g>\\n<g style=\\\"fill:rgb(0%,0%,0%);fill-opacity:1;\\\">\\n  <use xlink:href=\\\"#glyph-1567442442225002-1-1\\\" x=\\\"8.302\\\" y=\\\"155.267\\\"\\/>\\n<\\/g>\\n<g style=\\\"fill:rgb(0%,0%,0%);fill-opacity:1;\\\">\\n  <use xlink:href=\\\"#glyph-1567442442225002-0-5\\\" x=\\\"11.069\\\" y=\\\"155.267\\\"\\/>\\n<\\/g>\\n<g style=\\\"fill:rgb(0%,0%,0%);fill-opacity:1;\\\">\\n  <use xlink:href=\\\"#glyph-1567442442225002-0-1\\\" x=\\\"3.321\\\" y=\\\"111.879\\\"\\/>\\n<\\/g>\\n<g style=\\\"fill:rgb(0%,0%,0%);fill-opacity:1;\\\">\\n  <use xlink:href=\\\"#glyph-1567442442225002-1-1\\\" x=\\\"8.302\\\" y=\\\"111.879\\\"\\/>\\n<\\/g>\\n<g style=\\\"fill:rgb(0%,0%,0%);fill-opacity:1;\\\">\\n  <use xlink:href=\\\"#glyph-1567442442225002-0-7\\\" x=\\\"11.069\\\" y=\\\"111.879\\\"\\/>\\n<\\/g>\\n<g style=\\\"fill:rgb(0%,0%,0%);fill-opacity:1;\\\">\\n  <use xlink:href=\\\"#glyph-1567442442225002-0-1\\\" x=\\\"3.321\\\" y=\\\"68.492\\\"\\/>\\n<\\/g>\\n<g style=\\\"fill:rgb(0%,0%,0%);fill-opacity:1;\\\">\\n  <use xlink:href=\\\"#glyph-1567442442225002-1-1\\\" x=\\\"8.302\\\" y=\\\"68.492\\\"\\/>\\n<\\/g>\\n<g style=\\\"fill:rgb(0%,0%,0%);fill-opacity:1;\\\">\\n  <use xlink:href=\\\"#glyph-1567442442225002-0-9\\\" x=\\\"11.069\\\" y=\\\"68.492\\\"\\/>\\n<\\/g>\\n<g style=\\\"fill:rgb(0%,0%,0%);fill-opacity:1;\\\">\\n  <use xlink:href=\\\"#glyph-1567442442225002-0-2\\\" x=\\\"11.069\\\" y=\\\"25.104\\\"\\/>\\n<\\/g>\\n<g clip-path=\\\"url(#clip-1567442442225002-1)\\\" clip-rule=\\\"nonzero\\\">\\n<path style=\\\"fill:none;stroke-width:0.3985;stroke-linecap:butt;stroke-linejoin:miter;stroke:rgb(0%,0%,100%);stroke-opacity:1;stroke-miterlimit:10;\\\" d=\\\"M 0.0003125 216.940375 L 380.3675 216.940375 \\\" transform=\\\"matrix(1,0,0,-1,19.57,238.831)\\\"\\/>\\n<\\/g>\\n<path style=\\\"fill-rule:nonzero;fill:rgb(100%,100%,100%);fill-opacity:1;stroke-width:0.3985;stroke-linecap:butt;stroke-linejoin:miter;stroke:rgb(0%,0%,0%);stroke-opacity:1;stroke-miterlimit:10;\\\" d=\\\"M 301.055 216.725531 L 372.558906 216.725531 L 372.558906 233.663031 L 301.055 233.663031 Z M 301.055 216.725531 \\\" transform=\\\"matrix(1,0,0,-1,19.57,238.831)\\\"\\/>\\n<path style=\\\"fill:none;stroke-width:0.3985;stroke-linecap:butt;stroke-linejoin:miter;stroke:rgb(0%,0%,100%);stroke-opacity:1;stroke-miterlimit:10;\\\" d=\\\"M -0.00140625 -0.000625 L 17.006406 -0.000625 \\\" transform=\\\"matrix(1,0,0,-1,323.81,13.64)\\\"\\/>\\n<g style=\\\"fill:rgb(0%,0%,0%);fill-opacity:1;\\\">\\n  <use xlink:href=\\\"#glyph-1567442442225002-2-1\\\" x=\\\"343.01\\\" y=\\\"16.629\\\"\\/>\\n  <use xlink:href=\\\"#glyph-1567442442225002-2-2\\\" x=\\\"350.063549\\\" y=\\\"16.629\\\"\\/>\\n  <use xlink:href=\\\"#glyph-1567442442225002-2-3\\\" x=\\\"354.486961\\\" y=\\\"16.629\\\"\\/>\\n  <use xlink:href=\\\"#glyph-1567442442225002-2-4\\\" x=\\\"358.362428\\\" y=\\\"16.629\\\"\\/>\\n  <use xlink:href=\\\"#glyph-1567442442225002-2-5\\\" x=\\\"363.343748\\\" y=\\\"16.629\\\"\\/>\\n  <use xlink:href=\\\"#glyph-1567442442225002-2-6\\\" x=\\\"367.219215\\\" y=\\\"16.629\\\"\\/>\\n  <use xlink:href=\\\"#glyph-1567442442225002-2-7\\\" x=\\\"372.200535\\\" y=\\\"16.629\\\"\\/>\\n<\\/g>\\n<g style=\\\"fill:rgb(0%,0%,0%);fill-opacity:1;\\\">\\n  <use xlink:href=\\\"#glyph-1567442442225002-2-6\\\" x=\\\"378.287708\\\" y=\\\"16.629\\\"\\/>\\n  <use xlink:href=\\\"#glyph-1567442442225002-2-8\\\" x=\\\"383.269028\\\" y=\\\"16.629\\\"\\/>\\n<\\/g>\\n<\\/g>\\n<\\/svg>\\n\\n\"}}},\"children\":[{\"props\":{\"className\":\"webio-observable\",\"setInnerHtml\":\"<?xml version=\\\"1.0\\\" encoding=\\\"UTF-8\\\"?>\\n<svg xmlns=\\\"http:\\/\\/www.w3.org\\/2000\\/svg\\\" xmlns:xlink=\\\"http:\\/\\/www.w3.org\\/1999\\/xlink\\\" width=\\\"405.745pt\\\" height=\\\"252.092pt\\\" viewBox=\\\"0 0 405.745 252.092\\\" version=\\\"1.1\\\">\\n<defs>\\n<g>\\n<symbol overflow=\\\"visible\\\" id=\\\"glyph-1567442442225002-0-0\\\">\\n<path style=\\\"stroke:none;\\\" d=\\\"\\\"\\/>\\n<\\/symbol>\\n<symbol overflow=\\\"visible\\\" id=\\\"glyph-1567442442225002-0-1\\\">\\n<path style=\\\"stroke:none;\\\" d=\\\"M 4.578125 -3.1875 C 4.578125 -3.984375 4.53125 -4.78125 4.1875 -5.515625 C 3.734375 -6.484375 2.90625 -6.640625 2.5 -6.640625 C 1.890625 -6.640625 1.171875 -6.375 0.75 -5.453125 C 0.4375 -4.765625 0.390625 -3.984375 0.390625 -3.1875 C 0.390625 -2.4375 0.421875 -1.546875 0.84375 -0.78125 C 1.265625 0.015625 2 0.21875 2.484375 0.21875 C 3.015625 0.21875 3.78125 0.015625 4.21875 -0.9375 C 4.53125 -1.625 4.578125 -2.40625 4.578125 -3.1875 Z M 2.484375 0 C 2.09375 0 1.5 -0.25 1.328125 -1.203125 C 1.21875 -1.796875 1.21875 -2.71875 1.21875 -3.3125 C 1.21875 -3.953125 1.21875 -4.609375 1.296875 -5.140625 C 1.484375 -6.328125 2.234375 -6.421875 2.484375 -6.421875 C 2.8125 -6.421875 3.46875 -6.234375 3.65625 -5.25 C 3.765625 -4.6875 3.765625 -3.9375 3.765625 -3.3125 C 3.765625 -2.5625 3.765625 -1.890625 3.65625 -1.25 C 3.5 -0.296875 2.9375 0 2.484375 0 Z M 2.484375 0 \\\"\\/>\\n<\\/symbol>\\n<symbol overflow=\\\"visible\\\" id=\\\"glyph-1567442442225002-0-2\\\">\\n<path style=\\\"stroke:none;\\\" d=\\\"M 2.9375 -6.375 C 2.9375 -6.625 2.9375 -6.640625 2.703125 -6.640625 C 2.078125 -6 1.203125 -6 0.890625 -6 L 0.890625 -5.6875 C 1.09375 -5.6875 1.671875 -5.6875 2.1875 -5.953125 L 2.1875 -0.78125 C 2.1875 -0.421875 2.15625 -0.3125 1.265625 -0.3125 L 0.953125 -0.3125 L 0.953125 0 C 1.296875 -0.03125 2.15625 -0.03125 2.5625 -0.03125 C 2.953125 -0.03125 3.828125 -0.03125 4.171875 0 L 4.171875 -0.3125 L 3.859375 -0.3125 C 2.953125 -0.3125 2.9375 -0.421875 2.9375 -0.78125 Z M 2.9375 -6.375 \\\"\\/>\\n<\\/symbol>\\n<symbol overflow=\\\"visible\\\" id=\\\"glyph-1567442442225002-0-3\\\">\\n<path style=\\\"stroke:none;\\\" d=\\\"M 1.265625 -0.765625 L 2.328125 -1.796875 C 3.875 -3.171875 4.46875 -3.703125 4.46875 -4.703125 C 4.46875 -5.84375 3.578125 -6.640625 2.359375 -6.640625 C 1.234375 -6.640625 0.5 -5.71875 0.5 -4.828125 C 0.5 -4.28125 1 -4.28125 1.03125 -4.28125 C 1.203125 -4.28125 1.546875 -4.390625 1.546875 -4.8125 C 1.546875 -5.0625 1.359375 -5.328125 1.015625 -5.328125 C 0.9375 -5.328125 0.921875 -5.328125 0.890625 -5.3125 C 1.109375 -5.96875 1.65625 -6.328125 2.234375 -6.328125 C 3.140625 -6.328125 3.5625 -5.515625 3.5625 -4.703125 C 3.5625 -3.90625 3.078125 -3.125 2.515625 -2.5 L 0.609375 -0.375 C 0.5 -0.265625 0.5 -0.234375 0.5 0 L 4.203125 0 L 4.46875 -1.734375 L 4.234375 -1.734375 C 4.171875 -1.4375 4.109375 -1 4 -0.84375 C 3.9375 -0.765625 3.28125 -0.765625 3.0625 -0.765625 Z M 1.265625 -0.765625 \\\"\\/>\\n<\\/symbol>\\n<symbol overflow=\\\"visible\\\" id=\\\"glyph-1567442442225002-0-4\\\">\\n<path style=\\\"stroke:none;\\\" d=\\\"M 2.890625 -3.515625 C 3.703125 -3.78125 4.28125 -4.46875 4.28125 -5.265625 C 4.28125 -6.078125 3.40625 -6.640625 2.453125 -6.640625 C 1.453125 -6.640625 0.6875 -6.046875 0.6875 -5.28125 C 0.6875 -4.953125 0.90625 -4.765625 1.203125 -4.765625 C 1.5 -4.765625 1.703125 -4.984375 1.703125 -5.28125 C 1.703125 -5.765625 1.234375 -5.765625 1.09375 -5.765625 C 1.390625 -6.265625 2.046875 -6.390625 2.40625 -6.390625 C 2.828125 -6.390625 3.375 -6.171875 3.375 -5.28125 C 3.375 -5.15625 3.34375 -4.578125 3.09375 -4.140625 C 2.796875 -3.65625 2.453125 -3.625 2.203125 -3.625 C 2.125 -3.609375 1.890625 -3.59375 1.8125 -3.59375 C 1.734375 -3.578125 1.671875 -3.5625 1.671875 -3.46875 C 1.671875 -3.359375 1.734375 -3.359375 1.90625 -3.359375 L 2.34375 -3.359375 C 3.15625 -3.359375 3.53125 -2.6875 3.53125 -1.703125 C 3.53125 -0.34375 2.84375 -0.0625 2.40625 -0.0625 C 1.96875 -0.0625 1.21875 -0.234375 0.875 -0.8125 C 1.21875 -0.765625 1.53125 -0.984375 1.53125 -1.359375 C 1.53125 -1.71875 1.265625 -1.921875 0.984375 -1.921875 C 0.734375 -1.921875 0.421875 -1.78125 0.421875 -1.34375 C 0.421875 -0.4375 1.34375 0.21875 2.4375 0.21875 C 3.65625 0.21875 4.5625 -0.6875 4.5625 -1.703125 C 4.5625 -2.515625 3.921875 -3.296875 2.890625 -3.515625 Z M 2.890625 -3.515625 \\\"\\/>\\n<\\/symbol>\\n<symbol overflow=\\\"visible\\\" id=\\\"glyph-1567442442225002-0-5\\\">\\n<path style=\\\"stroke:none;\\\" d=\\\"M 2.9375 -1.640625 L 2.9375 -0.78125 C 2.9375 -0.421875 2.90625 -0.3125 2.171875 -0.3125 L 1.96875 -0.3125 L 1.96875 0 C 2.375 -0.03125 2.890625 -0.03125 3.3125 -0.03125 C 3.734375 -0.03125 4.25 -0.03125 4.671875 0 L 4.671875 -0.3125 L 4.453125 -0.3125 C 3.71875 -0.3125 3.703125 -0.421875 3.703125 -0.78125 L 3.703125 -1.640625 L 4.6875 -1.640625 L 4.6875 -1.953125 L 3.703125 -1.953125 L 3.703125 -6.484375 C 3.703125 -6.6875 3.703125 -6.75 3.53125 -6.75 C 3.453125 -6.75 3.421875 -6.75 3.34375 -6.625 L 0.28125 -1.953125 L 0.28125 -1.640625 Z M 2.984375 -1.953125 L 0.5625 -1.953125 L 2.984375 -5.671875 Z M 2.984375 -1.953125 \\\"\\/>\\n<\\/symbol>\\n<symbol overflow=\\\"visible\\\" id=\\\"glyph-1567442442225002-0-6\\\">\\n<path style=\\\"stroke:none;\\\" d=\\\"M 4.46875 -2 C 4.46875 -3.1875 3.65625 -4.1875 2.578125 -4.1875 C 2.109375 -4.1875 1.671875 -4.03125 1.3125 -3.671875 L 1.3125 -5.625 C 1.515625 -5.5625 1.84375 -5.5 2.15625 -5.5 C 3.390625 -5.5 4.09375 -6.40625 4.09375 -6.53125 C 4.09375 -6.59375 4.0625 -6.640625 3.984375 -6.640625 C 3.984375 -6.640625 3.953125 -6.640625 3.90625 -6.609375 C 3.703125 -6.515625 3.21875 -6.3125 2.546875 -6.3125 C 2.15625 -6.3125 1.6875 -6.390625 1.21875 -6.59375 C 1.140625 -6.625 1.125 -6.625 1.109375 -6.625 C 1 -6.625 1 -6.546875 1 -6.390625 L 1 -3.4375 C 1 -3.265625 1 -3.1875 1.140625 -3.1875 C 1.21875 -3.1875 1.234375 -3.203125 1.28125 -3.265625 C 1.390625 -3.421875 1.75 -3.96875 2.5625 -3.96875 C 3.078125 -3.96875 3.328125 -3.515625 3.40625 -3.328125 C 3.5625 -2.953125 3.59375 -2.578125 3.59375 -2.078125 C 3.59375 -1.71875 3.59375 -1.125 3.34375 -0.703125 C 3.109375 -0.3125 2.734375 -0.0625 2.28125 -0.0625 C 1.5625 -0.0625 0.984375 -0.59375 0.8125 -1.171875 C 0.84375 -1.171875 0.875 -1.15625 0.984375 -1.15625 C 1.3125 -1.15625 1.484375 -1.40625 1.484375 -1.640625 C 1.484375 -1.890625 1.3125 -2.140625 0.984375 -2.140625 C 0.84375 -2.140625 0.5 -2.0625 0.5 -1.609375 C 0.5 -0.75 1.1875 0.21875 2.296875 0.21875 C 3.453125 0.21875 4.46875 -0.734375 4.46875 -2 Z M 4.46875 -2 \\\"\\/>\\n<\\/symbol>\\n<symbol overflow=\\\"visible\\\" id=\\\"glyph-1567442442225002-0-7\\\">\\n<path style=\\\"stroke:none;\\\" d=\\\"M 1.3125 -3.265625 L 1.3125 -3.515625 C 1.3125 -6.03125 2.546875 -6.390625 3.0625 -6.390625 C 3.296875 -6.390625 3.71875 -6.328125 3.9375 -5.984375 C 3.78125 -5.984375 3.390625 -5.984375 3.390625 -5.546875 C 3.390625 -5.234375 3.625 -5.078125 3.84375 -5.078125 C 4 -5.078125 4.3125 -5.171875 4.3125 -5.5625 C 4.3125 -6.15625 3.875 -6.640625 3.046875 -6.640625 C 1.765625 -6.640625 0.421875 -5.359375 0.421875 -3.15625 C 0.421875 -0.484375 1.578125 0.21875 2.5 0.21875 C 3.609375 0.21875 4.5625 -0.71875 4.5625 -2.03125 C 4.5625 -3.296875 3.671875 -4.25 2.5625 -4.25 C 1.890625 -4.25 1.515625 -3.75 1.3125 -3.265625 Z M 2.5 -0.0625 C 1.875 -0.0625 1.578125 -0.65625 1.515625 -0.8125 C 1.328125 -1.28125 1.328125 -2.078125 1.328125 -2.25 C 1.328125 -3.03125 1.65625 -4.03125 2.546875 -4.03125 C 2.71875 -4.03125 3.171875 -4.03125 3.484375 -3.40625 C 3.65625 -3.046875 3.65625 -2.53125 3.65625 -2.046875 C 3.65625 -1.5625 3.65625 -1.0625 3.484375 -0.703125 C 3.1875 -0.109375 2.734375 -0.0625 2.5 -0.0625 Z M 2.5 -0.0625 \\\"\\/>\\n<\\/symbol>\\n<symbol overflow=\\\"visible\\\" id=\\\"glyph-1567442442225002-0-8\\\">\\n<path style=\\\"stroke:none;\\\" d=\\\"M 4.75 -6.078125 C 4.828125 -6.1875 4.828125 -6.203125 4.828125 -6.421875 L 2.40625 -6.421875 C 1.203125 -6.421875 1.171875 -6.546875 1.140625 -6.734375 L 0.890625 -6.734375 L 0.5625 -4.6875 L 0.8125 -4.6875 C 0.84375 -4.84375 0.921875 -5.46875 1.0625 -5.59375 C 1.125 -5.65625 1.90625 -5.65625 2.03125 -5.65625 L 4.09375 -5.65625 C 3.984375 -5.5 3.203125 -4.40625 2.984375 -4.078125 C 2.078125 -2.734375 1.75 -1.34375 1.75 -0.328125 C 1.75 -0.234375 1.75 0.21875 2.21875 0.21875 C 2.671875 0.21875 2.671875 -0.234375 2.671875 -0.328125 L 2.671875 -0.84375 C 2.671875 -1.390625 2.703125 -1.9375 2.78125 -2.46875 C 2.828125 -2.703125 2.953125 -3.5625 3.40625 -4.171875 Z M 4.75 -6.078125 \\\"\\/>\\n<\\/symbol>\\n<symbol overflow=\\\"visible\\\" id=\\\"glyph-1567442442225002-0-9\\\">\\n<path style=\\\"stroke:none;\\\" d=\\\"M 1.625 -4.5625 C 1.171875 -4.859375 1.125 -5.1875 1.125 -5.359375 C 1.125 -5.96875 1.78125 -6.390625 2.484375 -6.390625 C 3.203125 -6.390625 3.84375 -5.875 3.84375 -5.15625 C 3.84375 -4.578125 3.453125 -4.109375 2.859375 -3.765625 Z M 3.078125 -3.609375 C 3.796875 -3.984375 4.28125 -4.5 4.28125 -5.15625 C 4.28125 -6.078125 3.40625 -6.640625 2.5 -6.640625 C 1.5 -6.640625 0.6875 -5.90625 0.6875 -4.96875 C 0.6875 -4.796875 0.703125 -4.34375 1.125 -3.875 C 1.234375 -3.765625 1.609375 -3.515625 1.859375 -3.34375 C 1.28125 -3.046875 0.421875 -2.5 0.421875 -1.5 C 0.421875 -0.453125 1.4375 0.21875 2.484375 0.21875 C 3.609375 0.21875 4.5625 -0.609375 4.5625 -1.671875 C 4.5625 -2.03125 4.453125 -2.484375 4.0625 -2.90625 C 3.875 -3.109375 3.71875 -3.203125 3.078125 -3.609375 Z M 2.078125 -3.1875 L 3.3125 -2.40625 C 3.59375 -2.21875 4.0625 -1.921875 4.0625 -1.3125 C 4.0625 -0.578125 3.3125 -0.0625 2.5 -0.0625 C 1.640625 -0.0625 0.921875 -0.671875 0.921875 -1.5 C 0.921875 -2.078125 1.234375 -2.71875 2.078125 -3.1875 Z M 2.078125 -3.1875 \\\"\\/>\\n<\\/symbol>\\n<symbol overflow=\\\"visible\\\" id=\\\"glyph-1567442442225002-0-10\\\">\\n<path style=\\\"stroke:none;\\\" d=\\\"M 3.65625 -3.171875 L 3.65625 -2.84375 C 3.65625 -0.515625 2.625 -0.0625 2.046875 -0.0625 C 1.875 -0.0625 1.328125 -0.078125 1.0625 -0.421875 C 1.5 -0.421875 1.578125 -0.703125 1.578125 -0.875 C 1.578125 -1.1875 1.34375 -1.328125 1.125 -1.328125 C 0.96875 -1.328125 0.671875 -1.25 0.671875 -0.859375 C 0.671875 -0.1875 1.203125 0.21875 2.046875 0.21875 C 3.34375 0.21875 4.5625 -1.140625 4.5625 -3.28125 C 4.5625 -5.96875 3.40625 -6.640625 2.515625 -6.640625 C 1.96875 -6.640625 1.484375 -6.453125 1.0625 -6.015625 C 0.640625 -5.5625 0.421875 -5.140625 0.421875 -4.390625 C 0.421875 -3.15625 1.296875 -2.171875 2.40625 -2.171875 C 3.015625 -2.171875 3.421875 -2.59375 3.65625 -3.171875 Z M 2.421875 -2.40625 C 2.265625 -2.40625 1.796875 -2.40625 1.5 -3.03125 C 1.3125 -3.40625 1.3125 -3.890625 1.3125 -4.390625 C 1.3125 -4.921875 1.3125 -5.390625 1.53125 -5.765625 C 1.796875 -6.265625 2.171875 -6.390625 2.515625 -6.390625 C 2.984375 -6.390625 3.3125 -6.046875 3.484375 -5.609375 C 3.59375 -5.28125 3.640625 -4.65625 3.640625 -4.203125 C 3.640625 -3.375 3.296875 -2.40625 2.421875 -2.40625 Z M 2.421875 -2.40625 \\\"\\/>\\n<\\/symbol>\\n<symbol overflow=\\\"visible\\\" id=\\\"glyph-1567442442225002-1-0\\\">\\n<path style=\\\"stroke:none;\\\" d=\\\"\\\"\\/>\\n<\\/symbol>\\n<symbol overflow=\\\"visible\\\" id=\\\"glyph-1567442442225002-1-1\\\">\\n<path style=\\\"stroke:none;\\\" d=\\\"M 1.90625 -0.53125 C 1.90625 -0.8125 1.671875 -1.0625 1.390625 -1.0625 C 1.09375 -1.0625 0.859375 -0.8125 0.859375 -0.53125 C 0.859375 -0.234375 1.09375 0 1.390625 0 C 1.671875 0 1.90625 -0.234375 1.90625 -0.53125 Z M 1.90625 -0.53125 \\\"\\/>\\n<\\/symbol>\\n<symbol overflow=\\\"visible\\\" id=\\\"glyph-1567442442225002-2-0\\\">\\n<path style=\\\"stroke:none;\\\" d=\\\"\\\"\\/>\\n<\\/symbol>\\n<symbol overflow=\\\"visible\\\" id=\\\"glyph-1567442442225002-2-1\\\">\\n<path style=\\\"stroke:none;\\\" d=\\\"M 6.65625 -1.984375 C 6.65625 -2.84375 5.671875 -3.765625 4.5625 -3.890625 L 4.5625 -3.5625 C 5.53125 -3.75 6.390625 -4.546875 6.390625 -5.28125 C 6.390625 -6.15625 5.296875 -7.140625 4 -7.140625 L 0.171875 -7.140625 L 0.171875 -6.5 L 0.59375 -6.5 C 1.359375 -6.5 1.203125 -6.546875 1.203125 -6.1875 L 1.203125 -0.9375 C 1.203125 -0.578125 1.359375 -0.640625 0.59375 -0.640625 L 0.171875 -0.640625 L 0.171875 0 L 4.265625 0 C 5.59375 0 6.65625 -1.046875 6.65625 -1.984375 Z M 5.078125 -5.28125 C 5.078125 -4.640625 4.765625 -3.984375 3.65625 -3.984375 L 2.375 -3.984375 L 2.375 -6.265625 C 2.375 -6.59375 2.234375 -6.5 2.703125 -6.5 L 3.9375 -6.5 C 4.90625 -6.5 5.078125 -5.8125 5.078125 -5.28125 Z M 5.3125 -2 C 5.3125 -1.28125 4.96875 -0.640625 3.953125 -0.640625 L 2.703125 -0.640625 C 2.234375 -0.640625 2.375 -0.53125 2.375 -0.875 L 2.375 -3.421875 L 4.09375 -3.421875 C 5.078125 -3.421875 5.3125 -2.65625 5.3125 -2 Z M 5.3125 -2 \\\"\\/>\\n<\\/symbol>\\n<symbol overflow=\\\"visible\\\" id=\\\"glyph-1567442442225002-2-2\\\">\\n<path style=\\\"stroke:none;\\\" d=\\\"M 4.3125 -1.34375 C 4.3125 -1.453125 4.0625 -1.640625 4 -1.640625 C 3.921875 -1.640625 3.71875 -1.40625 3.703125 -1.328125 C 3.34375 -0.296875 2.625 -0.46875 2.53125 -0.46875 C 2.03125 -0.46875 1.75 -0.71875 1.53125 -1.09375 C 1.21875 -1.5625 1.28125 -2.109375 1.28125 -2.296875 L 3.890625 -2.296875 C 4.109375 -2.296875 4.3125 -2.46875 4.3125 -2.671875 C 4.3125 -3.65625 3.59375 -4.796875 2.359375 -4.796875 C 1.203125 -4.796875 0.09375 -3.59375 0.09375 -2.359375 C 0.09375 -1.015625 1.328125 0.109375 2.46875 0.109375 C 3.6875 0.109375 4.3125 -1.15625 4.3125 -1.34375 Z M 3.484375 -2.84375 L 1.296875 -2.84375 C 1.34375 -4.15625 2.015625 -4.25 2.359375 -4.25 C 3.375 -4.25 3.296875 -3.0625 3.296875 -2.84375 Z M 3.484375 -2.84375 \\\"\\/>\\n<\\/symbol>\\n<symbol overflow=\\\"visible\\\" id=\\\"glyph-1567442442225002-2-3\\\">\\n<path style=\\\"stroke:none;\\\" d=\\\"M 3.484375 -1.390625 L 3.484375 -2.140625 L 2.875 -2.140625 L 2.875 -1.421875 C 2.875 -0.671875 2.765625 -0.46875 2.390625 -0.46875 C 1.71875 -0.46875 1.890625 -1.203125 1.890625 -1.375 L 1.890625 -3.984375 L 3.3125 -3.984375 L 3.3125 -4.625 L 1.890625 -4.625 L 1.890625 -6.453125 L 1.296875 -6.453125 C 1.28125 -5.46875 1.171875 -4.578125 0.015625 -4.53125 L 0.015625 -3.984375 L 0.859375 -3.984375 L 0.859375 -1.390625 C 0.859375 -0.171875 1.96875 0.109375 2.328125 0.109375 C 3.03125 0.109375 3.484375 -0.75 3.484375 -1.390625 Z M 3.484375 -1.390625 \\\"\\/>\\n<\\/symbol>\\n<symbol overflow=\\\"visible\\\" id=\\\"glyph-1567442442225002-2-4\\\">\\n<path style=\\\"stroke:none;\\\" d=\\\"M 4.984375 -1.046875 L 4.984375 -1.78125 L 4.390625 -1.78125 L 4.390625 -1.046875 C 4.390625 -0.46875 4.3125 -0.578125 4.203125 -0.578125 C 3.875 -0.578125 4 -0.859375 4 -0.90625 L 4 -2.90625 C 4 -3.3125 3.953125 -3.828125 3.59375 -4.203125 C 3.203125 -4.578125 2.59375 -4.796875 2.109375 -4.796875 C 1.296875 -4.796875 0.421875 -4.15625 0.421875 -3.5 C 0.421875 -3.203125 0.8125 -2.875 1.0625 -2.875 C 1.34375 -2.875 1.6875 -3.234375 1.6875 -3.484375 C 1.6875 -3.609375 1.46875 -4.109375 1.34375 -4.109375 C 1.40625 -4.1875 1.78125 -4.25 2.09375 -4.25 C 2.578125 -4.25 2.96875 -4.015625 2.96875 -3.125 L 2.96875 -2.921875 C 2.640625 -2.90625 1.9375 -2.875 1.3125 -2.578125 C 0.5625 -2.234375 0.140625 -1.546875 0.140625 -1.109375 C 0.140625 -0.296875 1.28125 0.109375 1.90625 0.109375 C 2.578125 0.109375 3.203125 -0.453125 3.390625 -0.921875 L 3.046875 -0.921875 C 3.078125 -0.515625 3.53125 0.0625 4 0.0625 C 4.203125 0.0625 4.984375 -0.234375 4.984375 -1.046875 Z M 2.96875 -1.5625 C 2.96875 -0.609375 2.4375 -0.4375 1.984375 -0.4375 C 1.5 -0.4375 1.25 -0.625 1.25 -1.109375 C 1.25 -1.671875 1.5 -2.328125 2.96875 -2.375 Z M 2.96875 -1.5625 \\\"\\/>\\n<\\/symbol>\\n<symbol overflow=\\\"visible\\\" id=\\\"glyph-1567442442225002-2-5\\\">\\n<path style=\\\"stroke:none;\\\" d=\\\"M 3.46875 2.234375 C 3.46875 2.203125 3.421875 2.0625 3.25 1.890625 C 2 0.640625 1.734375 -1.125 1.734375 -2.65625 C 1.734375 -4.390625 2.0625 -6.015625 3.296875 -7.25 C 3.421875 -7.375 3.46875 -7.5 3.46875 -7.53125 C 3.46875 -7.609375 3.265625 -7.8125 3.203125 -7.8125 C 3.09375 -7.8125 2.03125 -6.953125 1.4375 -5.6875 C 0.921875 -4.59375 0.8125 -3.484375 0.8125 -2.65625 C 0.8125 -1.875 0.921875 -0.671875 1.46875 0.453125 C 2.0625 1.6875 3.09375 2.5 3.203125 2.5 C 3.265625 2.5 3.46875 2.296875 3.46875 2.234375 Z M 3.46875 2.234375 \\\"\\/>\\n<\\/symbol>\\n<symbol overflow=\\\"visible\\\" id=\\\"glyph-1567442442225002-2-6\\\">\\n<path style=\\\"stroke:none;\\\" d=\\\"M 4.34375 -0.15625 L 4.34375 -0.640625 L 3.859375 -0.640625 C 2.953125 -0.640625 3.09375 -0.578125 3.09375 -0.953125 L 3.09375 -6.546875 C 3.09375 -6.78125 2.9375 -6.96875 2.625 -6.96875 C 1.953125 -6.28125 1.203125 -6.328125 0.703125 -6.328125 L 0.703125 -5.6875 C 1.09375 -5.6875 1.796875 -5.734375 2.015625 -5.859375 L 2.015625 -0.953125 C 2.015625 -0.59375 2.15625 -0.640625 1.265625 -0.640625 L 0.765625 -0.640625 L 0.765625 0.015625 C 1.296875 -0.03125 2.15625 -0.03125 2.5625 -0.03125 C 2.953125 -0.03125 3.828125 -0.03125 4.34375 0.015625 Z M 4.34375 -0.15625 \\\"\\/>\\n<\\/symbol>\\n<symbol overflow=\\\"visible\\\" id=\\\"glyph-1567442442225002-2-7\\\">\\n<path style=\\\"stroke:none;\\\" d=\\\"M 2.1875 -0.171875 C 2.1875 -0.8125 1.78125 -1.390625 1.390625 -1.390625 C 1.03125 -1.390625 0.671875 -0.953125 0.671875 -0.6875 C 0.671875 -0.421875 1.03125 0 1.390625 0 C 1.53125 0 1.796875 -0.109375 1.609375 0.0625 C 1.625 0.46875 1.390625 0.953125 0.953125 1.421875 C 0.890625 1.484375 0.84375 1.609375 0.84375 1.65625 C 0.84375 1.71875 1.0625 1.921875 1.109375 1.921875 C 1.234375 1.921875 2.1875 0.984375 2.1875 -0.171875 Z M 2.1875 -0.171875 \\\"\\/>\\n<\\/symbol>\\n<symbol overflow=\\\"visible\\\" id=\\\"glyph-1567442442225002-2-8\\\">\\n<path style=\\\"stroke:none;\\\" d=\\\"M 3.046875 -2.65625 C 3.046875 -3.421875 2.9375 -4.640625 2.390625 -5.765625 C 1.796875 -6.984375 0.765625 -7.8125 0.671875 -7.8125 C 0.609375 -7.8125 0.390625 -7.59375 0.390625 -7.53125 C 0.390625 -7.5 0.4375 -7.375 0.625 -7.203125 C 1.609375 -6.203125 2.125 -4.734375 2.125 -2.65625 C 2.125 -0.953125 1.796875 0.6875 0.5625 1.9375 C 0.4375 2.0625 0.390625 2.203125 0.390625 2.234375 C 0.390625 2.296875 0.609375 2.5 0.671875 2.5 C 0.765625 2.5 1.828125 1.65625 2.421875 0.390625 C 2.9375 -0.703125 3.046875 -1.8125 3.046875 -2.65625 Z M 3.046875 -2.65625 \\\"\\/>\\n<\\/symbol>\\n<\\/g>\\n<clipPath id=\\\"clip-1567442442225002-1\\\">\\n  <path d=\\\"M 19.570313 21 L 399.9375 21 L 399.9375 23 L 19.570313 23 Z M 19.570313 21 \\\"\\/>\\n<\\/clipPath>\\n<\\/defs>\\n<g id=\\\"surface1\\\">\\n<path style=\\\"fill:none;stroke-width:0.19925;stroke-linecap:butt;stroke-linejoin:miter;stroke:rgb(50%,50%,50%);stroke-opacity:1;stroke-miterlimit:10;\\\" d=\\\"M 0.0003125 -0.00103125 L 0.0003125 4.252875 M 38.035469 -0.00103125 L 38.035469 4.252875 M 76.074531 -0.00103125 L 76.074531 4.252875 M 114.109688 -0.00103125 L 114.109688 4.252875 M 152.14875 -0.00103125 L 152.14875 4.252875 M 190.183906 -0.00103125 L 190.183906 4.252875 M 228.222969 -0.00103125 L 228.222969 4.252875 M 266.258125 -0.00103125 L 266.258125 4.252875 M 304.293281 -0.00103125 L 304.293281 4.252875 M 342.332344 -0.00103125 L 342.332344 4.252875 M 380.3675 -0.00103125 L 380.3675 4.252875 M 0.0003125 238.635688 L 0.0003125 234.381781 M 38.035469 238.635688 L 38.035469 234.381781 M 76.074531 238.635688 L 76.074531 234.381781 M 114.109688 238.635688 L 114.109688 234.381781 M 152.14875 238.635688 L 152.14875 234.381781 M 190.183906 238.635688 L 190.183906 234.381781 M 228.222969 238.635688 L 228.222969 234.381781 M 266.258125 238.635688 L 266.258125 234.381781 M 304.293281 238.635688 L 304.293281 234.381781 M 342.332344 238.635688 L 342.332344 234.381781 M 380.3675 238.635688 L 380.3675 234.381781 \\\" transform=\\\"matrix(1,0,0,-1,19.57,238.831)\\\"\\/>\\n<path style=\\\"fill:none;stroke-width:0.19925;stroke-linecap:butt;stroke-linejoin:miter;stroke:rgb(50%,50%,50%);stroke-opacity:1;stroke-miterlimit:10;\\\" d=\\\"M 0.0003125 -0.00103125 L 4.254219 -0.00103125 M 0.0003125 43.389594 L 4.254219 43.389594 M 0.0003125 86.776313 L 4.254219 86.776313 M 0.0003125 130.163031 L 4.254219 130.163031 M 0.0003125 173.553656 L 4.254219 173.553656 M 0.0003125 216.940375 L 4.254219 216.940375 M 380.3675 -0.00103125 L 376.1175 -0.00103125 M 380.3675 43.389594 L 376.1175 43.389594 M 380.3675 86.776313 L 376.1175 86.776313 M 380.3675 130.163031 L 376.1175 130.163031 M 380.3675 173.553656 L 376.1175 173.553656 M 380.3675 216.940375 L 376.1175 216.940375 \\\" transform=\\\"matrix(1,0,0,-1,19.57,238.831)\\\"\\/>\\n<path style=\\\"fill:none;stroke-width:0.3985;stroke-linecap:butt;stroke-linejoin:miter;stroke:rgb(0%,0%,0%);stroke-opacity:1;stroke-miterlimit:10;\\\" d=\\\"M 0.0003125 -0.00103125 L 0.0003125 238.635688 L 380.3675 238.635688 L 380.3675 -0.00103125 Z M 0.0003125 -0.00103125 \\\" transform=\\\"matrix(1,0,0,-1,19.57,238.831)\\\"\\/>\\n<g style=\\\"fill:rgb(0%,0%,0%);fill-opacity:1;\\\">\\n  <use xlink:href=\\\"#glyph-1567442442225002-0-1\\\" x=\\\"17.08\\\" y=\\\"248.771\\\"\\/>\\n<\\/g>\\n<g style=\\\"fill:rgb(0%,0%,0%);fill-opacity:1;\\\">\\n  <use xlink:href=\\\"#glyph-1567442442225002-0-1\\\" x=\\\"51.242\\\" y=\\\"248.771\\\"\\/>\\n<\\/g>\\n<g style=\\\"fill:rgb(0%,0%,0%);fill-opacity:1;\\\">\\n  <use xlink:href=\\\"#glyph-1567442442225002-1-1\\\" x=\\\"56.223\\\" y=\\\"248.771\\\"\\/>\\n<\\/g>\\n<g style=\\\"fill:rgb(0%,0%,0%);fill-opacity:1;\\\">\\n  <use xlink:href=\\\"#glyph-1567442442225002-0-2\\\" x=\\\"58.99\\\" y=\\\"248.771\\\"\\/>\\n<\\/g>\\n<g style=\\\"fill:rgb(0%,0%,0%);fill-opacity:1;\\\">\\n  <use xlink:href=\\\"#glyph-1567442442225002-0-1\\\" x=\\\"89.278\\\" y=\\\"248.771\\\"\\/>\\n<\\/g>\\n<g style=\\\"fill:rgb(0%,0%,0%);fill-opacity:1;\\\">\\n  <use xlink:href=\\\"#glyph-1567442442225002-1-1\\\" x=\\\"94.259\\\" y=\\\"248.771\\\"\\/>\\n<\\/g>\\n<g style=\\\"fill:rgb(0%,0%,0%);fill-opacity:1;\\\">\\n  <use xlink:href=\\\"#glyph-1567442442225002-0-3\\\" x=\\\"97.027\\\" y=\\\"248.771\\\"\\/>\\n<\\/g>\\n<g style=\\\"fill:rgb(0%,0%,0%);fill-opacity:1;\\\">\\n  <use xlink:href=\\\"#glyph-1567442442225002-0-1\\\" x=\\\"127.314\\\" y=\\\"248.771\\\"\\/>\\n<\\/g>\\n<g style=\\\"fill:rgb(0%,0%,0%);fill-opacity:1;\\\">\\n  <use xlink:href=\\\"#glyph-1567442442225002-1-1\\\" x=\\\"132.296\\\" y=\\\"248.771\\\"\\/>\\n<\\/g>\\n<g style=\\\"fill:rgb(0%,0%,0%);fill-opacity:1;\\\">\\n  <use xlink:href=\\\"#glyph-1567442442225002-0-4\\\" x=\\\"135.063\\\" y=\\\"248.771\\\"\\/>\\n<\\/g>\\n<g style=\\\"fill:rgb(0%,0%,0%);fill-opacity:1;\\\">\\n  <use xlink:href=\\\"#glyph-1567442442225002-0-1\\\" x=\\\"165.351\\\" y=\\\"248.771\\\"\\/>\\n<\\/g>\\n<g style=\\\"fill:rgb(0%,0%,0%);fill-opacity:1;\\\">\\n  <use xlink:href=\\\"#glyph-1567442442225002-1-1\\\" x=\\\"170.332\\\" y=\\\"248.771\\\"\\/>\\n<\\/g>\\n<g style=\\\"fill:rgb(0%,0%,0%);fill-opacity:1;\\\">\\n  <use xlink:href=\\\"#glyph-1567442442225002-0-5\\\" x=\\\"173.1\\\" y=\\\"248.771\\\"\\/>\\n<\\/g>\\n<g style=\\\"fill:rgb(0%,0%,0%);fill-opacity:1;\\\">\\n  <use xlink:href=\\\"#glyph-1567442442225002-0-1\\\" x=\\\"203.387\\\" y=\\\"248.771\\\"\\/>\\n<\\/g>\\n<g style=\\\"fill:rgb(0%,0%,0%);fill-opacity:1;\\\">\\n  <use xlink:href=\\\"#glyph-1567442442225002-1-1\\\" x=\\\"208.369\\\" y=\\\"248.771\\\"\\/>\\n<\\/g>\\n<g style=\\\"fill:rgb(0%,0%,0%);fill-opacity:1;\\\">\\n  <use xlink:href=\\\"#glyph-1567442442225002-0-6\\\" x=\\\"211.136\\\" y=\\\"248.771\\\"\\/>\\n<\\/g>\\n<g style=\\\"fill:rgb(0%,0%,0%);fill-opacity:1;\\\">\\n  <use xlink:href=\\\"#glyph-1567442442225002-0-1\\\" x=\\\"241.424\\\" y=\\\"248.771\\\"\\/>\\n<\\/g>\\n<g style=\\\"fill:rgb(0%,0%,0%);fill-opacity:1;\\\">\\n  <use xlink:href=\\\"#glyph-1567442442225002-1-1\\\" x=\\\"246.405\\\" y=\\\"248.771\\\"\\/>\\n<\\/g>\\n<g style=\\\"fill:rgb(0%,0%,0%);fill-opacity:1;\\\">\\n  <use xlink:href=\\\"#glyph-1567442442225002-0-7\\\" x=\\\"249.172\\\" y=\\\"248.771\\\"\\/>\\n<\\/g>\\n<g style=\\\"fill:rgb(0%,0%,0%);fill-opacity:1;\\\">\\n  <use xlink:href=\\\"#glyph-1567442442225002-0-1\\\" x=\\\"279.46\\\" y=\\\"248.771\\\"\\/>\\n<\\/g>\\n<g style=\\\"fill:rgb(0%,0%,0%);fill-opacity:1;\\\">\\n  <use xlink:href=\\\"#glyph-1567442442225002-1-1\\\" x=\\\"284.441\\\" y=\\\"248.771\\\"\\/>\\n<\\/g>\\n<g style=\\\"fill:rgb(0%,0%,0%);fill-opacity:1;\\\">\\n  <use xlink:href=\\\"#glyph-1567442442225002-0-8\\\" x=\\\"287.209\\\" y=\\\"248.771\\\"\\/>\\n<\\/g>\\n<g style=\\\"fill:rgb(0%,0%,0%);fill-opacity:1;\\\">\\n  <use xlink:href=\\\"#glyph-1567442442225002-0-1\\\" x=\\\"317.496\\\" y=\\\"248.771\\\"\\/>\\n<\\/g>\\n<g style=\\\"fill:rgb(0%,0%,0%);fill-opacity:1;\\\">\\n  <use xlink:href=\\\"#glyph-1567442442225002-1-1\\\" x=\\\"322.478\\\" y=\\\"248.771\\\"\\/>\\n<\\/g>\\n<g style=\\\"fill:rgb(0%,0%,0%);fill-opacity:1;\\\">\\n  <use xlink:href=\\\"#glyph-1567442442225002-0-9\\\" x=\\\"325.245\\\" y=\\\"248.771\\\"\\/>\\n<\\/g>\\n<g style=\\\"fill:rgb(0%,0%,0%);fill-opacity:1;\\\">\\n  <use xlink:href=\\\"#glyph-1567442442225002-0-1\\\" x=\\\"355.533\\\" y=\\\"248.771\\\"\\/>\\n<\\/g>\\n<g style=\\\"fill:rgb(0%,0%,0%);fill-opacity:1;\\\">\\n  <use xlink:href=\\\"#glyph-1567442442225002-1-1\\\" x=\\\"360.514\\\" y=\\\"248.771\\\"\\/>\\n<\\/g>\\n<g style=\\\"fill:rgb(0%,0%,0%);fill-opacity:1;\\\">\\n  <use xlink:href=\\\"#glyph-1567442442225002-0-10\\\" x=\\\"363.281\\\" y=\\\"248.771\\\"\\/>\\n<\\/g>\\n<g style=\\\"fill:rgb(0%,0%,0%);fill-opacity:1;\\\">\\n  <use xlink:href=\\\"#glyph-1567442442225002-0-2\\\" x=\\\"397.443\\\" y=\\\"248.771\\\"\\/>\\n<\\/g>\\n<g style=\\\"fill:rgb(0%,0%,0%);fill-opacity:1;\\\">\\n  <use xlink:href=\\\"#glyph-1567442442225002-0-1\\\" x=\\\"11.069\\\" y=\\\"242.042\\\"\\/>\\n<\\/g>\\n<g style=\\\"fill:rgb(0%,0%,0%);fill-opacity:1;\\\">\\n  <use xlink:href=\\\"#glyph-1567442442225002-0-1\\\" x=\\\"3.321\\\" y=\\\"198.654\\\"\\/>\\n<\\/g>\\n<g style=\\\"fill:rgb(0%,0%,0%);fill-opacity:1;\\\">\\n  <use xlink:href=\\\"#glyph-1567442442225002-1-1\\\" x=\\\"8.302\\\" y=\\\"198.654\\\"\\/>\\n<\\/g>\\n<g style=\\\"fill:rgb(0%,0%,0%);fill-opacity:1;\\\">\\n  <use xlink:href=\\\"#glyph-1567442442225002-0-3\\\" x=\\\"11.069\\\" y=\\\"198.654\\\"\\/>\\n<\\/g>\\n<g style=\\\"fill:rgb(0%,0%,0%);fill-opacity:1;\\\">\\n  <use xlink:href=\\\"#glyph-1567442442225002-0-1\\\" x=\\\"3.321\\\" y=\\\"155.267\\\"\\/>\\n<\\/g>\\n<g style=\\\"fill:rgb(0%,0%,0%);fill-opacity:1;\\\">\\n  <use xlink:href=\\\"#glyph-1567442442225002-1-1\\\" x=\\\"8.302\\\" y=\\\"155.267\\\"\\/>\\n<\\/g>\\n<g style=\\\"fill:rgb(0%,0%,0%);fill-opacity:1;\\\">\\n  <use xlink:href=\\\"#glyph-1567442442225002-0-5\\\" x=\\\"11.069\\\" y=\\\"155.267\\\"\\/>\\n<\\/g>\\n<g style=\\\"fill:rgb(0%,0%,0%);fill-opacity:1;\\\">\\n  <use xlink:href=\\\"#glyph-1567442442225002-0-1\\\" x=\\\"3.321\\\" y=\\\"111.879\\\"\\/>\\n<\\/g>\\n<g style=\\\"fill:rgb(0%,0%,0%);fill-opacity:1;\\\">\\n  <use xlink:href=\\\"#glyph-1567442442225002-1-1\\\" x=\\\"8.302\\\" y=\\\"111.879\\\"\\/>\\n<\\/g>\\n<g style=\\\"fill:rgb(0%,0%,0%);fill-opacity:1;\\\">\\n  <use xlink:href=\\\"#glyph-1567442442225002-0-7\\\" x=\\\"11.069\\\" y=\\\"111.879\\\"\\/>\\n<\\/g>\\n<g style=\\\"fill:rgb(0%,0%,0%);fill-opacity:1;\\\">\\n  <use xlink:href=\\\"#glyph-1567442442225002-0-1\\\" x=\\\"3.321\\\" y=\\\"68.492\\\"\\/>\\n<\\/g>\\n<g style=\\\"fill:rgb(0%,0%,0%);fill-opacity:1;\\\">\\n  <use xlink:href=\\\"#glyph-1567442442225002-1-1\\\" x=\\\"8.302\\\" y=\\\"68.492\\\"\\/>\\n<\\/g>\\n<g style=\\\"fill:rgb(0%,0%,0%);fill-opacity:1;\\\">\\n  <use xlink:href=\\\"#glyph-1567442442225002-0-9\\\" x=\\\"11.069\\\" y=\\\"68.492\\\"\\/>\\n<\\/g>\\n<g style=\\\"fill:rgb(0%,0%,0%);fill-opacity:1;\\\">\\n  <use xlink:href=\\\"#glyph-1567442442225002-0-2\\\" x=\\\"11.069\\\" y=\\\"25.104\\\"\\/>\\n<\\/g>\\n<g clip-path=\\\"url(#clip-1567442442225002-1)\\\" clip-rule=\\\"nonzero\\\">\\n<path style=\\\"fill:none;stroke-width:0.3985;stroke-linecap:butt;stroke-linejoin:miter;stroke:rgb(0%,0%,100%);stroke-opacity:1;stroke-miterlimit:10;\\\" d=\\\"M 0.0003125 216.940375 L 380.3675 216.940375 \\\" transform=\\\"matrix(1,0,0,-1,19.57,238.831)\\\"\\/>\\n<\\/g>\\n<path style=\\\"fill-rule:nonzero;fill:rgb(100%,100%,100%);fill-opacity:1;stroke-width:0.3985;stroke-linecap:butt;stroke-linejoin:miter;stroke:rgb(0%,0%,0%);stroke-opacity:1;stroke-miterlimit:10;\\\" d=\\\"M 301.055 216.725531 L 372.558906 216.725531 L 372.558906 233.663031 L 301.055 233.663031 Z M 301.055 216.725531 \\\" transform=\\\"matrix(1,0,0,-1,19.57,238.831)\\\"\\/>\\n<path style=\\\"fill:none;stroke-width:0.3985;stroke-linecap:butt;stroke-linejoin:miter;stroke:rgb(0%,0%,100%);stroke-opacity:1;stroke-miterlimit:10;\\\" d=\\\"M -0.00140625 -0.000625 L 17.006406 -0.000625 \\\" transform=\\\"matrix(1,0,0,-1,323.81,13.64)\\\"\\/>\\n<g style=\\\"fill:rgb(0%,0%,0%);fill-opacity:1;\\\">\\n  <use xlink:href=\\\"#glyph-1567442442225002-2-1\\\" x=\\\"343.01\\\" y=\\\"16.629\\\"\\/>\\n  <use xlink:href=\\\"#glyph-1567442442225002-2-2\\\" x=\\\"350.063549\\\" y=\\\"16.629\\\"\\/>\\n  <use xlink:href=\\\"#glyph-1567442442225002-2-3\\\" x=\\\"354.486961\\\" y=\\\"16.629\\\"\\/>\\n  <use xlink:href=\\\"#glyph-1567442442225002-2-4\\\" x=\\\"358.362428\\\" y=\\\"16.629\\\"\\/>\\n  <use xlink:href=\\\"#glyph-1567442442225002-2-5\\\" x=\\\"363.343748\\\" y=\\\"16.629\\\"\\/>\\n  <use xlink:href=\\\"#glyph-1567442442225002-2-6\\\" x=\\\"367.219215\\\" y=\\\"16.629\\\"\\/>\\n  <use xlink:href=\\\"#glyph-1567442442225002-2-7\\\" x=\\\"372.200535\\\" y=\\\"16.629\\\"\\/>\\n<\\/g>\\n<g style=\\\"fill:rgb(0%,0%,0%);fill-opacity:1;\\\">\\n  <use xlink:href=\\\"#glyph-1567442442225002-2-6\\\" x=\\\"378.287708\\\" y=\\\"16.629\\\"\\/>\\n  <use xlink:href=\\\"#glyph-1567442442225002-2-8\\\" x=\\\"383.269028\\\" y=\\\"16.629\\\"\\/>\\n<\\/g>\\n<\\/g>\\n<\\/svg>\\n\\n\"},\"nodeType\":\"DOM\",\"type\":\"node\",\"instanceArgs\":{\"namespace\":\"html\",\"tag\":\"div\"},\"children\":[]}]},\n",
       "            window,\n",
       "        );\n",
       "    } else {\n",
       "        document\n",
       "            .querySelector('[data-webio-mountpoint=\"18172737995921465866\"]')\n",
       "            .innerHTML = (\n",
       "                '<strong>WebIO not detected. Please read ' +\n",
       "                '<a href=\"https://juliagizmos.github.io/WebIO.jl/latest/troubleshooting/not-detected/\">the troubleshooting guide</a> ' +\n",
       "                'for more information on how to resolve this issue.' +\n",
       "                '</strong>'\n",
       "            );\n",
       "    }\n",
       "    </script>\n",
       "</div>\n"
      ],
      "text/plain": [
       "Observable{Any} with 0 listeners. Value:\n",
       "Axis(PGFPlots.Plots.Plot[PGFPlots.Plots.Linear(Real[0.0 0.010101010101010102 … 0.98989898989899 1.0; 1.0 1.0 … 1.0 1.0], \"none\", nothing, nothing, \"Beta(1, 1)\", nothing, nothing)], nothing, nothing, nothing, nothing, nothing, nothing, nothing, 0, 1, 0, nothing, nothing, nothing, nothing, nothing, nothing, \"15cm\", \"10cm\", nothing, nothing, nothing, nothing, nothing, nothing, nothing, nothing, nothing, \"axis\")"
      ]
     },
     "metadata": {
      "application/vnd.webio.node+json": {
       "kernelId": "d28b9f55-0f48-4f9f-975f-a2bafbcbc949"
      }
     },
     "output_type": "display_data"
    },
    {
     "data": {
      "application/vnd.webio.node+json": {
       "children": [
        {
         "children": [
          {
           "children": [
            {
             "children": [
              {
               "children": [
                "True Params"
               ],
               "instanceArgs": {
                "namespace": "html",
                "tag": "label"
               },
               "nodeType": "DOM",
               "props": {
                "className": "interact ",
                "style": {
                 "padding": "5px 10px 0px 10px"
                }
               },
               "type": "node"
              }
             ],
             "instanceArgs": {
              "namespace": "html",
              "tag": "div"
             },
             "nodeType": "DOM",
             "props": {
              "className": "interact-flex-row-left"
             },
             "type": "node"
            },
            {
             "children": [
              {
               "children": [
                {
                 "children": [
                  {
                   "children": [],
                   "instanceArgs": {
                    "namespace": "html",
                    "tag": "label"
                   },
                   "nodeType": "DOM",
                   "props": {
                    "attributes": {
                     "data-bind": "text : key"
                    }
                   },
                   "type": "node"
                  }
                 ],
                 "instanceArgs": {
                  "namespace": "html",
                  "tag": "span"
                 },
                 "nodeType": "DOM",
                 "props": {
                  "attributes": {
                   "data-bind": "click: function (){$root.update(val)}, css: {'is-primary is-selected' : $root.index() == val, 'interact-widget is-medium button ' : true}"
                  }
                 },
                 "type": "node"
                }
               ],
               "instanceArgs": {
                "namespace": "html",
                "tag": "div"
               },
               "nodeType": "DOM",
               "props": {
                "attributes": {
                 "data-bind": "foreach : options_js"
                },
                "className": "buttons has-addons is-centered"
               },
               "type": "node"
              }
             ],
             "instanceArgs": {
              "namespace": "html",
              "tag": "div"
             },
             "nodeType": "DOM",
             "props": {
              "className": "interact-flex-row-center"
             },
             "type": "node"
            },
            {
             "children": [
              {
               "children": [],
               "instanceArgs": {
                "namespace": "html",
                "tag": "div"
               },
               "nodeType": "DOM",
               "props": {},
               "type": "node"
              }
             ],
             "instanceArgs": {
              "namespace": "html",
              "tag": "div"
             },
             "nodeType": "DOM",
             "props": {
              "className": "interact-flex-row-right"
             },
             "type": "node"
            }
           ],
           "instanceArgs": {
            "namespace": "html",
            "tag": "div"
           },
           "nodeType": "DOM",
           "props": {
            "className": "interact-flex-row interact-widget"
           },
           "type": "node"
          }
         ],
         "instanceArgs": {
          "handlers": {
           "index": [
            "(function (val){return (val!=this.model[\"index\"]()) ? (this.valueFromJulia[\"index\"]=true, this.model[\"index\"](val)) : undefined})"
           ],
           "options_js": [
            "(function (val){return (val!=this.model[\"options_js\"]()) ? (this.valueFromJulia[\"options_js\"]=true, this.model[\"options_js\"](val)) : undefined})"
           ]
          },
          "id": "7408259676948507625",
          "imports": {
           "data": [
            {
             "name": "knockout",
             "type": "js",
             "url": "/assetserver/c20779c1e6a079277e91dddf7bd670ca92eea868-knockout.js"
            },
            {
             "name": "knockout_punches",
             "type": "js",
             "url": "/assetserver/5d0eeef6d78927a4d06f8ff08a99add46d138283-knockout_punches.js"
            },
            {
             "name": null,
             "type": "js",
             "url": "/assetserver/cb26fe9e57bb1abef82b7eb58e12f018a1428e64-all.js"
            },
            {
             "name": null,
             "type": "css",
             "url": "/assetserver/d5c3b0a1dece742679a111cbb2e6bd04a8ca0e64-style.css"
            },
            {
             "name": null,
             "type": "css",
             "url": "/assetserver/457039d154101dcb9f0c19c2735b1d6e2c611d84-bulma_confined.min.css"
            }
           ],
           "type": "async_block"
          },
          "mount_callbacks": [
           "function () {\n    var handler = (function (ko, koPunches) {\n    ko.punches.enableAll();\n    ko.bindingHandlers.numericValue = {\n        init: function(element, valueAccessor, allBindings, data, context) {\n            var stringified = ko.observable(ko.unwrap(valueAccessor()));\n            stringified.subscribe(function(value) {\n                var val = parseFloat(value);\n                if (!isNaN(val)) {\n                    valueAccessor()(val);\n                }\n            });\n            valueAccessor().subscribe(function(value) {\n                var str = JSON.stringify(value);\n                if ((str == \"0\") && ([\"-0\", \"-0.\"].indexOf(stringified()) >= 0))\n                     return;\n                 if ([\"null\", \"\"].indexOf(str) >= 0)\n                     return;\n                stringified(str);\n            });\n            ko.applyBindingsToNode(\n                element,\n                {\n                    value: stringified,\n                    valueUpdate: allBindings.get('valueUpdate'),\n                },\n                context,\n            );\n        }\n    };\n    var json_data = {\"options_js\":WebIO.getval({\"name\":\"options_js\",\"scope\":\"7408259676948507625\",\"id\":\"ob_53\",\"type\":\"observable\"}),\"index\":WebIO.getval({\"name\":\"index\",\"scope\":\"7408259676948507625\",\"id\":\"ob_52\",\"type\":\"observable\"})};\n    var self = this;\n    function AppViewModel() {\n        for (var key in json_data) {\n            var el = json_data[key];\n            this[key] = Array.isArray(el) ? ko.observableArray(el) : ko.observable(el);\n        }\n        [this[\"update\"]=function (val) {this.index(val)}]\n        \n        [this[\"options_js\"].subscribe((function (val){!(this.valueFromJulia[\"options_js\"]) ? (WebIO.setval({\"name\":\"options_js\",\"scope\":\"7408259676948507625\",\"id\":\"ob_53\",\"type\":\"observable\"},val)) : undefined; return this.valueFromJulia[\"options_js\"]=false}),self),this[\"index\"].subscribe((function (val){!(this.valueFromJulia[\"index\"]) ? (WebIO.setval({\"name\":\"index\",\"scope\":\"7408259676948507625\",\"id\":\"ob_52\",\"type\":\"observable\"},val)) : undefined; return this.valueFromJulia[\"index\"]=false}),self)]\n        \n    }\n    self.model = new AppViewModel();\n    self.valueFromJulia = {};\n    for (var key in json_data) {\n        self.valueFromJulia[key] = false;\n    }\n    ko.applyBindings(self.model, self.dom);\n}\n);\n    (WebIO.importBlock({\"data\":[{\"name\":\"knockout\",\"type\":\"js\",\"url\":\"/assetserver/c20779c1e6a079277e91dddf7bd670ca92eea868-knockout.js\"},{\"name\":\"knockout_punches\",\"type\":\"js\",\"url\":\"/assetserver/5d0eeef6d78927a4d06f8ff08a99add46d138283-knockout_punches.js\"}],\"type\":\"async_block\"})).then((imports) => handler.apply(this, imports));\n}\n"
          ],
          "observables": {
           "index": {
            "id": "ob_52",
            "sync": true,
            "value": 1
           },
           "options_js": {
            "id": "ob_53",
            "sync": false,
            "value": [
             {
              "id": "id8NO7VPIP",
              "key": "Hide",
              "val": 1
             },
             {
              "id": "idRxMP99V6",
              "key": "Show",
              "val": 2
             }
            ]
           }
          },
          "systemjs_options": null
         },
         "nodeType": "Scope",
         "props": {},
         "type": "node"
        }
       ],
       "instanceArgs": {
        "namespace": "html",
        "tag": "div"
       },
       "nodeType": "DOM",
       "props": {
        "className": "interact-widget"
       },
       "type": "node"
      },
      "text/html": [
       "<div\n",
       "    class=\"webio-mountpoint\"\n",
       "    data-webio-mountpoint=\"8990445876719654690\"\n",
       ">\n",
       "    <script>\n",
       "    if (window.require && require.defined && require.defined(\"nbextensions/webio-jupyter-notebook\")) {\n",
       "        console.log(\"Jupyter WebIO extension detected, not mounting.\");\n",
       "    } else if (window.WebIO) {\n",
       "        WebIO.mount(\n",
       "            document.querySelector('[data-webio-mountpoint=\"8990445876719654690\"]'),\n",
       "            {\"props\":{\"className\":\"interact-widget\"},\"nodeType\":\"DOM\",\"type\":\"node\",\"instanceArgs\":{\"namespace\":\"html\",\"tag\":\"div\"},\"children\":[{\"props\":{},\"nodeType\":\"Scope\",\"type\":\"node\",\"instanceArgs\":{\"imports\":{\"data\":[{\"name\":\"knockout\",\"type\":\"js\",\"url\":\"\\/assetserver\\/c20779c1e6a079277e91dddf7bd670ca92eea868-knockout.js\"},{\"name\":\"knockout_punches\",\"type\":\"js\",\"url\":\"\\/assetserver\\/5d0eeef6d78927a4d06f8ff08a99add46d138283-knockout_punches.js\"},{\"name\":null,\"type\":\"js\",\"url\":\"\\/assetserver\\/cb26fe9e57bb1abef82b7eb58e12f018a1428e64-all.js\"},{\"name\":null,\"type\":\"css\",\"url\":\"\\/assetserver\\/d5c3b0a1dece742679a111cbb2e6bd04a8ca0e64-style.css\"},{\"name\":null,\"type\":\"css\",\"url\":\"\\/assetserver\\/457039d154101dcb9f0c19c2735b1d6e2c611d84-bulma_confined.min.css\"}],\"type\":\"async_block\"},\"id\":\"7408259676948507625\",\"handlers\":{\"options_js\":[\"(function (val){return (val!=this.model[\\\"options_js\\\"]()) ? (this.valueFromJulia[\\\"options_js\\\"]=true, this.model[\\\"options_js\\\"](val)) : undefined})\"],\"index\":[\"(function (val){return (val!=this.model[\\\"index\\\"]()) ? (this.valueFromJulia[\\\"index\\\"]=true, this.model[\\\"index\\\"](val)) : undefined})\"]},\"systemjs_options\":null,\"mount_callbacks\":[\"function () {\\n    var handler = (function (ko, koPunches) {\\n    ko.punches.enableAll();\\n    ko.bindingHandlers.numericValue = {\\n        init: function(element, valueAccessor, allBindings, data, context) {\\n            var stringified = ko.observable(ko.unwrap(valueAccessor()));\\n            stringified.subscribe(function(value) {\\n                var val = parseFloat(value);\\n                if (!isNaN(val)) {\\n                    valueAccessor()(val);\\n                }\\n            });\\n            valueAccessor().subscribe(function(value) {\\n                var str = JSON.stringify(value);\\n                if ((str == \\\"0\\\") && ([\\\"-0\\\", \\\"-0.\\\"].indexOf(stringified()) >= 0))\\n                     return;\\n                 if ([\\\"null\\\", \\\"\\\"].indexOf(str) >= 0)\\n                     return;\\n                stringified(str);\\n            });\\n            ko.applyBindingsToNode(\\n                element,\\n                {\\n                    value: stringified,\\n                    valueUpdate: allBindings.get('valueUpdate'),\\n                },\\n                context,\\n            );\\n        }\\n    };\\n    var json_data = {\\\"options_js\\\":WebIO.getval({\\\"name\\\":\\\"options_js\\\",\\\"scope\\\":\\\"7408259676948507625\\\",\\\"id\\\":\\\"ob_53\\\",\\\"type\\\":\\\"observable\\\"}),\\\"index\\\":WebIO.getval({\\\"name\\\":\\\"index\\\",\\\"scope\\\":\\\"7408259676948507625\\\",\\\"id\\\":\\\"ob_52\\\",\\\"type\\\":\\\"observable\\\"})};\\n    var self = this;\\n    function AppViewModel() {\\n        for (var key in json_data) {\\n            var el = json_data[key];\\n            this[key] = Array.isArray(el) ? ko.observableArray(el) : ko.observable(el);\\n        }\\n        [this[\\\"update\\\"]=function (val) {this.index(val)}]\\n        \\n        [this[\\\"options_js\\\"].subscribe((function (val){!(this.valueFromJulia[\\\"options_js\\\"]) ? (WebIO.setval({\\\"name\\\":\\\"options_js\\\",\\\"scope\\\":\\\"7408259676948507625\\\",\\\"id\\\":\\\"ob_53\\\",\\\"type\\\":\\\"observable\\\"},val)) : undefined; return this.valueFromJulia[\\\"options_js\\\"]=false}),self),this[\\\"index\\\"].subscribe((function (val){!(this.valueFromJulia[\\\"index\\\"]) ? (WebIO.setval({\\\"name\\\":\\\"index\\\",\\\"scope\\\":\\\"7408259676948507625\\\",\\\"id\\\":\\\"ob_52\\\",\\\"type\\\":\\\"observable\\\"},val)) : undefined; return this.valueFromJulia[\\\"index\\\"]=false}),self)]\\n        \\n    }\\n    self.model = new AppViewModel();\\n    self.valueFromJulia = {};\\n    for (var key in json_data) {\\n        self.valueFromJulia[key] = false;\\n    }\\n    ko.applyBindings(self.model, self.dom);\\n}\\n);\\n    (WebIO.importBlock({\\\"data\\\":[{\\\"name\\\":\\\"knockout\\\",\\\"type\\\":\\\"js\\\",\\\"url\\\":\\\"\\/assetserver\\/c20779c1e6a079277e91dddf7bd670ca92eea868-knockout.js\\\"},{\\\"name\\\":\\\"knockout_punches\\\",\\\"type\\\":\\\"js\\\",\\\"url\\\":\\\"\\/assetserver\\/5d0eeef6d78927a4d06f8ff08a99add46d138283-knockout_punches.js\\\"}],\\\"type\\\":\\\"async_block\\\"})).then((imports) => handler.apply(this, imports));\\n}\\n\"],\"observables\":{\"options_js\":{\"sync\":false,\"id\":\"ob_53\",\"value\":[{\"key\":\"Hide\",\"val\":1,\"id\":\"id8NO7VPIP\"},{\"key\":\"Show\",\"val\":2,\"id\":\"idRxMP99V6\"}]},\"index\":{\"sync\":true,\"id\":\"ob_52\",\"value\":1}}},\"children\":[{\"props\":{\"className\":\"interact-flex-row interact-widget\"},\"nodeType\":\"DOM\",\"type\":\"node\",\"instanceArgs\":{\"namespace\":\"html\",\"tag\":\"div\"},\"children\":[{\"props\":{\"className\":\"interact-flex-row-left\"},\"nodeType\":\"DOM\",\"type\":\"node\",\"instanceArgs\":{\"namespace\":\"html\",\"tag\":\"div\"},\"children\":[{\"props\":{\"className\":\"interact \",\"style\":{\"padding\":\"5px 10px 0px 10px\"}},\"nodeType\":\"DOM\",\"type\":\"node\",\"instanceArgs\":{\"namespace\":\"html\",\"tag\":\"label\"},\"children\":[\"True Params\"]}]},{\"props\":{\"className\":\"interact-flex-row-center\"},\"nodeType\":\"DOM\",\"type\":\"node\",\"instanceArgs\":{\"namespace\":\"html\",\"tag\":\"div\"},\"children\":[{\"props\":{\"attributes\":{\"data-bind\":\"foreach : options_js\"},\"className\":\"buttons has-addons is-centered\"},\"nodeType\":\"DOM\",\"type\":\"node\",\"instanceArgs\":{\"namespace\":\"html\",\"tag\":\"div\"},\"children\":[{\"props\":{\"attributes\":{\"data-bind\":\"click: function (){$root.update(val)}, css: {'is-primary is-selected' : $root.index() == val, 'interact-widget is-medium button ' : true}\"}},\"nodeType\":\"DOM\",\"type\":\"node\",\"instanceArgs\":{\"namespace\":\"html\",\"tag\":\"span\"},\"children\":[{\"props\":{\"attributes\":{\"data-bind\":\"text : key\"}},\"nodeType\":\"DOM\",\"type\":\"node\",\"instanceArgs\":{\"namespace\":\"html\",\"tag\":\"label\"},\"children\":[]}]}]}]},{\"props\":{\"className\":\"interact-flex-row-right\"},\"nodeType\":\"DOM\",\"type\":\"node\",\"instanceArgs\":{\"namespace\":\"html\",\"tag\":\"div\"},\"children\":[{\"props\":{},\"nodeType\":\"DOM\",\"type\":\"node\",\"instanceArgs\":{\"namespace\":\"html\",\"tag\":\"div\"},\"children\":[]}]}]}]}]},\n",
       "            window,\n",
       "        );\n",
       "    } else {\n",
       "        document\n",
       "            .querySelector('[data-webio-mountpoint=\"8990445876719654690\"]')\n",
       "            .innerHTML = (\n",
       "                '<strong>WebIO not detected. Please read ' +\n",
       "                '<a href=\"https://juliagizmos.github.io/WebIO.jl/latest/troubleshooting/not-detected/\">the troubleshooting guide</a> ' +\n",
       "                'for more information on how to resolve this issue.' +\n",
       "                '</strong>'\n",
       "            );\n",
       "    }\n",
       "    </script>\n",
       "</div>\n"
      ],
      "text/plain": [
       "(div { className=\"interact-widget\" }\n",
       "    (div { className=\"interact-flex-row interact-widget\" }\n",
       "    (div { className=\"interact-flex-row-left\" }\n",
       "      (label { className=\"interact \" style=Dict{Any,Any}(:padding => \"5px 10px 0px 10px\") }\n",
       "        \"True Params\"))\n",
       "    (div { className=\"interact-flex-row-center\" }\n",
       "      (div { attributes=\"data-bind\" => \"foreach : options_js\" className=\"buttons has-addons is-centered\" }\n",
       "        (span { attributes=Dict(\"data-bind\" => \"click: function (){\\$root.update(val)}, css: {'is-primary is-selected' : \\$root.index() == val, 'interact-widget is-medium button ' : true}\") }\n",
       "          (label { attributes=Dict(\"data-bind\" => \"text : key\") }))))\n",
       "    (div { className=\"interact-flex-row-right\" }\n",
       "      (div))))"
      ]
     },
     "metadata": {
      "application/vnd.webio.node+json": {
       "kernelId": "d28b9f55-0f48-4f9f-975f-a2bafbcbc949"
      }
     },
     "output_type": "display_data"
    },
    {
     "data": {
      "application/vnd.webio.node+json": {
       "children": [
        {
         "children": [],
         "instanceArgs": {
          "namespace": "html",
          "tag": "div"
         },
         "nodeType": "DOM",
         "props": {
          "className": "webio-observable",
          "setInnerHtml": "<pre>\"\"</pre>"
         },
         "type": "node"
        }
       ],
       "instanceArgs": {
        "handlers": {
         "obs-output": [
          "function (value, scope) {\n    scope.setInnerHTML(value);\n}\n"
         ]
        },
        "id": "4164402624665925616",
        "imports": {
         "data": [],
         "type": "async_block"
        },
        "mount_callbacks": [],
        "observables": {
         "obs-output": {
          "id": "ob_56",
          "sync": false,
          "value": "<pre>\"\"</pre>"
         }
        },
        "systemjs_options": null
       },
       "nodeType": "Scope",
       "props": {},
       "type": "node"
      },
      "text/html": [
       "<div\n",
       "    class=\"webio-mountpoint\"\n",
       "    data-webio-mountpoint=\"6112818542672448694\"\n",
       ">\n",
       "    <script>\n",
       "    if (window.require && require.defined && require.defined(\"nbextensions/webio-jupyter-notebook\")) {\n",
       "        console.log(\"Jupyter WebIO extension detected, not mounting.\");\n",
       "    } else if (window.WebIO) {\n",
       "        WebIO.mount(\n",
       "            document.querySelector('[data-webio-mountpoint=\"6112818542672448694\"]'),\n",
       "            {\"props\":{},\"nodeType\":\"Scope\",\"type\":\"node\",\"instanceArgs\":{\"imports\":{\"data\":[],\"type\":\"async_block\"},\"id\":\"1530815272663119880\",\"handlers\":{\"obs-output\":[\"function (value, scope) {\\n    scope.setInnerHTML(value);\\n}\\n\"]},\"systemjs_options\":null,\"mount_callbacks\":[],\"observables\":{\"obs-output\":{\"sync\":false,\"id\":\"ob_55\",\"value\":\"<pre>\\\"\\\"<\\/pre>\"}}},\"children\":[{\"props\":{\"className\":\"webio-observable\",\"setInnerHtml\":\"<pre>\\\"\\\"<\\/pre>\"},\"nodeType\":\"DOM\",\"type\":\"node\",\"instanceArgs\":{\"namespace\":\"html\",\"tag\":\"div\"},\"children\":[]}]},\n",
       "            window,\n",
       "        );\n",
       "    } else {\n",
       "        document\n",
       "            .querySelector('[data-webio-mountpoint=\"6112818542672448694\"]')\n",
       "            .innerHTML = (\n",
       "                '<strong>WebIO not detected. Please read ' +\n",
       "                '<a href=\"https://juliagizmos.github.io/WebIO.jl/latest/troubleshooting/not-detected/\">the troubleshooting guide</a> ' +\n",
       "                'for more information on how to resolve this issue.' +\n",
       "                '</strong>'\n",
       "            );\n",
       "    }\n",
       "    </script>\n",
       "</div>\n"
      ],
      "text/plain": [
       "Observable{Any} with 0 listeners. Value:\n",
       "\"\""
      ]
     },
     "metadata": {
      "application/vnd.webio.node+json": {
       "kernelId": "d28b9f55-0f48-4f9f-975f-a2bafbcbc949"
      }
     },
     "output_type": "display_data"
    }
   ],
   "source": [
    "Random.seed!(3)\n",
    "arms = 2\n",
    "b = Bandit(arms)\n",
    "banditEstimation(b)"
   ]
  },
  {
   "cell_type": "markdown",
   "metadata": {},
   "source": [
    "## Ad Hoc Exploration Strategies"
   ]
  },
  {
   "cell_type": "code",
   "execution_count": 4,
   "metadata": {},
   "outputs": [],
   "source": [
    "# Select random action with probability eps, otherwise greedy\n",
    "struct EpsGreedy <: BanditPolicy\n",
    "    eps::Real \n",
    "end\n",
    "function arm(b::EpsGreedy, s::BanditStatistics)\n",
    "    if rand() < b.eps\n",
    "        D = DiscreteUniform(1, numArms(s))\n",
    "        return rand(D)\n",
    "    else\n",
    "        return argmax(winProbabilities(s))\n",
    "    end\n",
    "end;"
   ]
  },
  {
   "cell_type": "code",
   "execution_count": 5,
   "metadata": {},
   "outputs": [],
   "source": [
    "# Select arm with probability proportional to exp(precision*winprobability)\n",
    "struct SoftMax <: BanditPolicy\n",
    "    precision::Real \n",
    "end\n",
    "function arm(b::SoftMax, s::BanditStatistics)\n",
    "    p = exp.(b.precision * winProbabilities(s))\n",
    "    p = p / sum(p)\n",
    "    D = Categorical(p)\n",
    "    return rand(D)\n",
    "end;"
   ]
  },
  {
   "cell_type": "code",
   "execution_count": 6,
   "metadata": {},
   "outputs": [],
   "source": [
    "# Select arm with highest alpha upper confidence bound\n",
    "struct IntervalExploration <: BanditPolicy\n",
    "    alpha::Real\n",
    "end\n",
    "function arm(b::IntervalExploration, s::BanditStatistics)\n",
    "    i = argmax([quantile(Beta(s.numWins[i] + 1, s.numTries[i] - s.numWins[i] + 1), b.alpha) for i in 1:length(s.numWins)]) \n",
    "end;"
   ]
  },
  {
   "cell_type": "code",
   "execution_count": 7,
   "metadata": {},
   "outputs": [
    {
     "data": {
      "application/vnd.webio.node+json": {
       "children": [
        {
         "children": [
          {
           "children": [
            {
             "children": [
              {
               "children": [
                {
                 "children": [
                  "epsgreedy"
                 ],
                 "instanceArgs": {
                  "namespace": "html",
                  "tag": "label"
                 },
                 "nodeType": "DOM",
                 "props": {
                  "className": "interact ",
                  "style": {
                   "padding": "5px 10px 0px 10px"
                  }
                 },
                 "type": "node"
                }
               ],
               "instanceArgs": {
                "namespace": "html",
                "tag": "div"
               },
               "nodeType": "DOM",
               "props": {
                "className": "interact-flex-row-left"
               },
               "type": "node"
              },
              {
               "children": [
                {
                 "children": [],
                 "instanceArgs": {
                  "namespace": "html",
                  "tag": "input"
                 },
                 "nodeType": "DOM",
                 "props": {
                  "attributes": {
                   "data-bind": "numericValue: index, valueUpdate: 'input', event: {change: function (){this.changes(this.changes()+1)}}",
                   "orient": "horizontal",
                   "type": "range"
                  },
                  "className": "slider slider is-fullwidth",
                  "max": 11,
                  "min": 1,
                  "step": 1,
                  "style": {}
                 },
                 "type": "node"
                }
               ],
               "instanceArgs": {
                "namespace": "html",
                "tag": "div"
               },
               "nodeType": "DOM",
               "props": {
                "className": "interact-flex-row-center"
               },
               "type": "node"
              },
              {
               "children": [
                {
                 "children": [],
                 "instanceArgs": {
                  "namespace": "html",
                  "tag": "p"
                 },
                 "nodeType": "DOM",
                 "props": {
                  "attributes": {
                   "data-bind": "text: formatted_val"
                  }
                 },
                 "type": "node"
                }
               ],
               "instanceArgs": {
                "namespace": "html",
                "tag": "div"
               },
               "nodeType": "DOM",
               "props": {
                "className": "interact-flex-row-right"
               },
               "type": "node"
              }
             ],
             "instanceArgs": {
              "namespace": "html",
              "tag": "div"
             },
             "nodeType": "DOM",
             "props": {
              "className": "interact-flex-row interact-widget"
             },
             "type": "node"
            }
           ],
           "instanceArgs": {
            "handlers": {
             "changes": [
              "(function (val){return (val!=this.model[\"changes\"]()) ? (this.valueFromJulia[\"changes\"]=true, this.model[\"changes\"](val)) : undefined})"
             ],
             "index": [
              "(function (val){return (val!=this.model[\"index\"]()) ? (this.valueFromJulia[\"index\"]=true, this.model[\"index\"](val)) : undefined})"
             ]
            },
            "id": "14586342099903888509",
            "imports": {
             "data": [
              {
               "name": "knockout",
               "type": "js",
               "url": "/assetserver/c20779c1e6a079277e91dddf7bd670ca92eea868-knockout.js"
              },
              {
               "name": "knockout_punches",
               "type": "js",
               "url": "/assetserver/5d0eeef6d78927a4d06f8ff08a99add46d138283-knockout_punches.js"
              },
              {
               "name": null,
               "type": "js",
               "url": "/assetserver/cb26fe9e57bb1abef82b7eb58e12f018a1428e64-all.js"
              },
              {
               "name": null,
               "type": "css",
               "url": "/assetserver/d5c3b0a1dece742679a111cbb2e6bd04a8ca0e64-style.css"
              },
              {
               "name": null,
               "type": "css",
               "url": "/assetserver/457039d154101dcb9f0c19c2735b1d6e2c611d84-bulma_confined.min.css"
              }
             ],
             "type": "async_block"
            },
            "mount_callbacks": [
             "function () {\n    var handler = (function (ko, koPunches) {\n    ko.punches.enableAll();\n    ko.bindingHandlers.numericValue = {\n        init: function(element, valueAccessor, allBindings, data, context) {\n            var stringified = ko.observable(ko.unwrap(valueAccessor()));\n            stringified.subscribe(function(value) {\n                var val = parseFloat(value);\n                if (!isNaN(val)) {\n                    valueAccessor()(val);\n                }\n            });\n            valueAccessor().subscribe(function(value) {\n                var str = JSON.stringify(value);\n                if ((str == \"0\") && ([\"-0\", \"-0.\"].indexOf(stringified()) >= 0))\n                     return;\n                 if ([\"null\", \"\"].indexOf(str) >= 0)\n                     return;\n                stringified(str);\n            });\n            ko.applyBindingsToNode(\n                element,\n                {\n                    value: stringified,\n                    valueUpdate: allBindings.get('valueUpdate'),\n                },\n                context,\n            );\n        }\n    };\n    var json_data = {\"formatted_vals\":[\"0.0\",\"0.1\",\"0.2\",\"0.3\",\"0.4\",\"0.5\",\"0.6\",\"0.7\",\"0.8\",\"0.9\",\"1.0\"],\"changes\":WebIO.getval({\"name\":\"changes\",\"scope\":\"14586342099903888509\",\"id\":\"ob_59\",\"type\":\"observable\"}),\"index\":WebIO.getval({\"name\":\"index\",\"scope\":\"14586342099903888509\",\"id\":\"ob_58\",\"type\":\"observable\"})};\n    var self = this;\n    function AppViewModel() {\n        for (var key in json_data) {\n            var el = json_data[key];\n            this[key] = Array.isArray(el) ? ko.observableArray(el) : ko.observable(el);\n        }\n        \n        [this[\"formatted_val\"]=ko.computed(    function(){\n        return this.formatted_vals()[parseInt(this.index())-(1)];\n    }\n,this)]\n        [this[\"changes\"].subscribe((function (val){!(this.valueFromJulia[\"changes\"]) ? (WebIO.setval({\"name\":\"changes\",\"scope\":\"14586342099903888509\",\"id\":\"ob_59\",\"type\":\"observable\"},val)) : undefined; return this.valueFromJulia[\"changes\"]=false}),self),this[\"index\"].subscribe((function (val){!(this.valueFromJulia[\"index\"]) ? (WebIO.setval({\"name\":\"index\",\"scope\":\"14586342099903888509\",\"id\":\"ob_58\",\"type\":\"observable\"},val)) : undefined; return this.valueFromJulia[\"index\"]=false}),self)]\n        \n    }\n    self.model = new AppViewModel();\n    self.valueFromJulia = {};\n    for (var key in json_data) {\n        self.valueFromJulia[key] = false;\n    }\n    ko.applyBindings(self.model, self.dom);\n}\n);\n    (WebIO.importBlock({\"data\":[{\"name\":\"knockout\",\"type\":\"js\",\"url\":\"/assetserver/c20779c1e6a079277e91dddf7bd670ca92eea868-knockout.js\"},{\"name\":\"knockout_punches\",\"type\":\"js\",\"url\":\"/assetserver/5d0eeef6d78927a4d06f8ff08a99add46d138283-knockout_punches.js\"}],\"type\":\"async_block\"})).then((imports) => handler.apply(this, imports));\n}\n"
            ],
            "observables": {
             "changes": {
              "id": "ob_59",
              "sync": false,
              "value": 0
             },
             "index": {
              "id": "ob_58",
              "sync": true,
              "value": 6
             }
            },
            "systemjs_options": null
           },
           "nodeType": "Scope",
           "props": {},
           "type": "node"
          }
         ],
         "instanceArgs": {
          "namespace": "html",
          "tag": "div"
         },
         "nodeType": "DOM",
         "props": {
          "className": "field interact-widget"
         },
         "type": "node"
        },
        {
         "children": [
          {
           "children": [
            {
             "children": [
              {
               "children": [
                {
                 "children": [
                  "softmax"
                 ],
                 "instanceArgs": {
                  "namespace": "html",
                  "tag": "label"
                 },
                 "nodeType": "DOM",
                 "props": {
                  "className": "interact ",
                  "style": {
                   "padding": "5px 10px 0px 10px"
                  }
                 },
                 "type": "node"
                }
               ],
               "instanceArgs": {
                "namespace": "html",
                "tag": "div"
               },
               "nodeType": "DOM",
               "props": {
                "className": "interact-flex-row-left"
               },
               "type": "node"
              },
              {
               "children": [
                {
                 "children": [],
                 "instanceArgs": {
                  "namespace": "html",
                  "tag": "input"
                 },
                 "nodeType": "DOM",
                 "props": {
                  "attributes": {
                   "data-bind": "numericValue: index, valueUpdate: 'input', event: {change: function (){this.changes(this.changes()+1)}}",
                   "orient": "horizontal",
                   "type": "range"
                  },
                  "className": "slider slider is-fullwidth",
                  "max": 21,
                  "min": 1,
                  "step": 1,
                  "style": {}
                 },
                 "type": "node"
                }
               ],
               "instanceArgs": {
                "namespace": "html",
                "tag": "div"
               },
               "nodeType": "DOM",
               "props": {
                "className": "interact-flex-row-center"
               },
               "type": "node"
              },
              {
               "children": [
                {
                 "children": [],
                 "instanceArgs": {
                  "namespace": "html",
                  "tag": "p"
                 },
                 "nodeType": "DOM",
                 "props": {
                  "attributes": {
                   "data-bind": "text: formatted_val"
                  }
                 },
                 "type": "node"
                }
               ],
               "instanceArgs": {
                "namespace": "html",
                "tag": "div"
               },
               "nodeType": "DOM",
               "props": {
                "className": "interact-flex-row-right"
               },
               "type": "node"
              }
             ],
             "instanceArgs": {
              "namespace": "html",
              "tag": "div"
             },
             "nodeType": "DOM",
             "props": {
              "className": "interact-flex-row interact-widget"
             },
             "type": "node"
            }
           ],
           "instanceArgs": {
            "handlers": {
             "changes": [
              "(function (val){return (val!=this.model[\"changes\"]()) ? (this.valueFromJulia[\"changes\"]=true, this.model[\"changes\"](val)) : undefined})"
             ],
             "index": [
              "(function (val){return (val!=this.model[\"index\"]()) ? (this.valueFromJulia[\"index\"]=true, this.model[\"index\"](val)) : undefined})"
             ]
            },
            "id": "4790433905573750915",
            "imports": {
             "data": [
              {
               "name": "knockout",
               "type": "js",
               "url": "/assetserver/c20779c1e6a079277e91dddf7bd670ca92eea868-knockout.js"
              },
              {
               "name": "knockout_punches",
               "type": "js",
               "url": "/assetserver/5d0eeef6d78927a4d06f8ff08a99add46d138283-knockout_punches.js"
              },
              {
               "name": null,
               "type": "js",
               "url": "/assetserver/cb26fe9e57bb1abef82b7eb58e12f018a1428e64-all.js"
              },
              {
               "name": null,
               "type": "css",
               "url": "/assetserver/d5c3b0a1dece742679a111cbb2e6bd04a8ca0e64-style.css"
              },
              {
               "name": null,
               "type": "css",
               "url": "/assetserver/457039d154101dcb9f0c19c2735b1d6e2c611d84-bulma_confined.min.css"
              }
             ],
             "type": "async_block"
            },
            "mount_callbacks": [
             "function () {\n    var handler = (function (ko, koPunches) {\n    ko.punches.enableAll();\n    ko.bindingHandlers.numericValue = {\n        init: function(element, valueAccessor, allBindings, data, context) {\n            var stringified = ko.observable(ko.unwrap(valueAccessor()));\n            stringified.subscribe(function(value) {\n                var val = parseFloat(value);\n                if (!isNaN(val)) {\n                    valueAccessor()(val);\n                }\n            });\n            valueAccessor().subscribe(function(value) {\n                var str = JSON.stringify(value);\n                if ((str == \"0\") && ([\"-0\", \"-0.\"].indexOf(stringified()) >= 0))\n                     return;\n                 if ([\"null\", \"\"].indexOf(str) >= 0)\n                     return;\n                stringified(str);\n            });\n            ko.applyBindingsToNode(\n                element,\n                {\n                    value: stringified,\n                    valueUpdate: allBindings.get('valueUpdate'),\n                },\n                context,\n            );\n        }\n    };\n    var json_data = {\"formatted_vals\":[\"0\",\"2\",\"4\",\"6\",\"8\",\"10\",\"12\",\"14\",\"16\",\"18\",\"20\",\"22\",\"24\",\"26\",\"28\",\"30\",\"32\",\"34\",\"36\",\"38\",\"40\"],\"changes\":WebIO.getval({\"name\":\"changes\",\"scope\":\"4790433905573750915\",\"id\":\"ob_62\",\"type\":\"observable\"}),\"index\":WebIO.getval({\"name\":\"index\",\"scope\":\"4790433905573750915\",\"id\":\"ob_61\",\"type\":\"observable\"})};\n    var self = this;\n    function AppViewModel() {\n        for (var key in json_data) {\n            var el = json_data[key];\n            this[key] = Array.isArray(el) ? ko.observableArray(el) : ko.observable(el);\n        }\n        \n        [this[\"formatted_val\"]=ko.computed(    function(){\n        return this.formatted_vals()[parseInt(this.index())-(1)];\n    }\n,this)]\n        [this[\"changes\"].subscribe((function (val){!(this.valueFromJulia[\"changes\"]) ? (WebIO.setval({\"name\":\"changes\",\"scope\":\"4790433905573750915\",\"id\":\"ob_62\",\"type\":\"observable\"},val)) : undefined; return this.valueFromJulia[\"changes\"]=false}),self),this[\"index\"].subscribe((function (val){!(this.valueFromJulia[\"index\"]) ? (WebIO.setval({\"name\":\"index\",\"scope\":\"4790433905573750915\",\"id\":\"ob_61\",\"type\":\"observable\"},val)) : undefined; return this.valueFromJulia[\"index\"]=false}),self)]\n        \n    }\n    self.model = new AppViewModel();\n    self.valueFromJulia = {};\n    for (var key in json_data) {\n        self.valueFromJulia[key] = false;\n    }\n    ko.applyBindings(self.model, self.dom);\n}\n);\n    (WebIO.importBlock({\"data\":[{\"name\":\"knockout\",\"type\":\"js\",\"url\":\"/assetserver/c20779c1e6a079277e91dddf7bd670ca92eea868-knockout.js\"},{\"name\":\"knockout_punches\",\"type\":\"js\",\"url\":\"/assetserver/5d0eeef6d78927a4d06f8ff08a99add46d138283-knockout_punches.js\"}],\"type\":\"async_block\"})).then((imports) => handler.apply(this, imports));\n}\n"
            ],
            "observables": {
             "changes": {
              "id": "ob_62",
              "sync": false,
              "value": 0
             },
             "index": {
              "id": "ob_61",
              "sync": true,
              "value": 11
             }
            },
            "systemjs_options": null
           },
           "nodeType": "Scope",
           "props": {},
           "type": "node"
          }
         ],
         "instanceArgs": {
          "namespace": "html",
          "tag": "div"
         },
         "nodeType": "DOM",
         "props": {
          "className": "field interact-widget"
         },
         "type": "node"
        },
        {
         "children": [
          {
           "children": [
            {
             "children": [
              {
               "children": [
                {
                 "children": [
                  "interval"
                 ],
                 "instanceArgs": {
                  "namespace": "html",
                  "tag": "label"
                 },
                 "nodeType": "DOM",
                 "props": {
                  "className": "interact ",
                  "style": {
                   "padding": "5px 10px 0px 10px"
                  }
                 },
                 "type": "node"
                }
               ],
               "instanceArgs": {
                "namespace": "html",
                "tag": "div"
               },
               "nodeType": "DOM",
               "props": {
                "className": "interact-flex-row-left"
               },
               "type": "node"
              },
              {
               "children": [
                {
                 "children": [],
                 "instanceArgs": {
                  "namespace": "html",
                  "tag": "input"
                 },
                 "nodeType": "DOM",
                 "props": {
                  "attributes": {
                   "data-bind": "numericValue: index, valueUpdate: 'input', event: {change: function (){this.changes(this.changes()+1)}}",
                   "orient": "horizontal",
                   "type": "range"
                  },
                  "className": "slider slider is-fullwidth",
                  "max": 11,
                  "min": 1,
                  "step": 1,
                  "style": {}
                 },
                 "type": "node"
                }
               ],
               "instanceArgs": {
                "namespace": "html",
                "tag": "div"
               },
               "nodeType": "DOM",
               "props": {
                "className": "interact-flex-row-center"
               },
               "type": "node"
              },
              {
               "children": [
                {
                 "children": [],
                 "instanceArgs": {
                  "namespace": "html",
                  "tag": "p"
                 },
                 "nodeType": "DOM",
                 "props": {
                  "attributes": {
                   "data-bind": "text: formatted_val"
                  }
                 },
                 "type": "node"
                }
               ],
               "instanceArgs": {
                "namespace": "html",
                "tag": "div"
               },
               "nodeType": "DOM",
               "props": {
                "className": "interact-flex-row-right"
               },
               "type": "node"
              }
             ],
             "instanceArgs": {
              "namespace": "html",
              "tag": "div"
             },
             "nodeType": "DOM",
             "props": {
              "className": "interact-flex-row interact-widget"
             },
             "type": "node"
            }
           ],
           "instanceArgs": {
            "handlers": {
             "changes": [
              "(function (val){return (val!=this.model[\"changes\"]()) ? (this.valueFromJulia[\"changes\"]=true, this.model[\"changes\"](val)) : undefined})"
             ],
             "index": [
              "(function (val){return (val!=this.model[\"index\"]()) ? (this.valueFromJulia[\"index\"]=true, this.model[\"index\"](val)) : undefined})"
             ]
            },
            "id": "4006895676869635604",
            "imports": {
             "data": [
              {
               "name": "knockout",
               "type": "js",
               "url": "/assetserver/c20779c1e6a079277e91dddf7bd670ca92eea868-knockout.js"
              },
              {
               "name": "knockout_punches",
               "type": "js",
               "url": "/assetserver/5d0eeef6d78927a4d06f8ff08a99add46d138283-knockout_punches.js"
              },
              {
               "name": null,
               "type": "js",
               "url": "/assetserver/cb26fe9e57bb1abef82b7eb58e12f018a1428e64-all.js"
              },
              {
               "name": null,
               "type": "css",
               "url": "/assetserver/d5c3b0a1dece742679a111cbb2e6bd04a8ca0e64-style.css"
              },
              {
               "name": null,
               "type": "css",
               "url": "/assetserver/457039d154101dcb9f0c19c2735b1d6e2c611d84-bulma_confined.min.css"
              }
             ],
             "type": "async_block"
            },
            "mount_callbacks": [
             "function () {\n    var handler = (function (ko, koPunches) {\n    ko.punches.enableAll();\n    ko.bindingHandlers.numericValue = {\n        init: function(element, valueAccessor, allBindings, data, context) {\n            var stringified = ko.observable(ko.unwrap(valueAccessor()));\n            stringified.subscribe(function(value) {\n                var val = parseFloat(value);\n                if (!isNaN(val)) {\n                    valueAccessor()(val);\n                }\n            });\n            valueAccessor().subscribe(function(value) {\n                var str = JSON.stringify(value);\n                if ((str == \"0\") && ([\"-0\", \"-0.\"].indexOf(stringified()) >= 0))\n                     return;\n                 if ([\"null\", \"\"].indexOf(str) >= 0)\n                     return;\n                stringified(str);\n            });\n            ko.applyBindingsToNode(\n                element,\n                {\n                    value: stringified,\n                    valueUpdate: allBindings.get('valueUpdate'),\n                },\n                context,\n            );\n        }\n    };\n    var json_data = {\"formatted_vals\":[\"0.5\",\"0.55\",\"0.6\",\"0.65\",\"0.7\",\"0.75\",\"0.8\",\"0.85\",\"0.9\",\"0.95\",\"1.0\"],\"changes\":WebIO.getval({\"name\":\"changes\",\"scope\":\"4006895676869635604\",\"id\":\"ob_65\",\"type\":\"observable\"}),\"index\":WebIO.getval({\"name\":\"index\",\"scope\":\"4006895676869635604\",\"id\":\"ob_64\",\"type\":\"observable\"})};\n    var self = this;\n    function AppViewModel() {\n        for (var key in json_data) {\n            var el = json_data[key];\n            this[key] = Array.isArray(el) ? ko.observableArray(el) : ko.observable(el);\n        }\n        \n        [this[\"formatted_val\"]=ko.computed(    function(){\n        return this.formatted_vals()[parseInt(this.index())-(1)];\n    }\n,this)]\n        [this[\"changes\"].subscribe((function (val){!(this.valueFromJulia[\"changes\"]) ? (WebIO.setval({\"name\":\"changes\",\"scope\":\"4006895676869635604\",\"id\":\"ob_65\",\"type\":\"observable\"},val)) : undefined; return this.valueFromJulia[\"changes\"]=false}),self),this[\"index\"].subscribe((function (val){!(this.valueFromJulia[\"index\"]) ? (WebIO.setval({\"name\":\"index\",\"scope\":\"4006895676869635604\",\"id\":\"ob_64\",\"type\":\"observable\"},val)) : undefined; return this.valueFromJulia[\"index\"]=false}),self)]\n        \n    }\n    self.model = new AppViewModel();\n    self.valueFromJulia = {};\n    for (var key in json_data) {\n        self.valueFromJulia[key] = false;\n    }\n    ko.applyBindings(self.model, self.dom);\n}\n);\n    (WebIO.importBlock({\"data\":[{\"name\":\"knockout\",\"type\":\"js\",\"url\":\"/assetserver/c20779c1e6a079277e91dddf7bd670ca92eea868-knockout.js\"},{\"name\":\"knockout_punches\",\"type\":\"js\",\"url\":\"/assetserver/5d0eeef6d78927a4d06f8ff08a99add46d138283-knockout_punches.js\"}],\"type\":\"async_block\"})).then((imports) => handler.apply(this, imports));\n}\n"
            ],
            "observables": {
             "changes": {
              "id": "ob_65",
              "sync": false,
              "value": 0
             },
             "index": {
              "id": "ob_64",
              "sync": true,
              "value": 6
             }
            },
            "systemjs_options": null
           },
           "nodeType": "Scope",
           "props": {},
           "type": "node"
          }
         ],
         "instanceArgs": {
          "namespace": "html",
          "tag": "div"
         },
         "nodeType": "DOM",
         "props": {
          "className": "field interact-widget"
         },
         "type": "node"
        },
        {
         "children": [
          {
           "children": [],
           "instanceArgs": {
            "id": "ob_71",
            "name": "obs-node"
           },
           "nodeType": "ObservableNode",
           "props": {},
           "type": "node"
          }
         ],
         "instanceArgs": {
          "handlers": {},
          "id": "12565721835369113917",
          "imports": {
           "data": [],
           "type": "async_block"
          },
          "mount_callbacks": [],
          "observables": {
           "obs-node": {
            "id": "ob_71",
            "sync": false,
            "value": {
             "children": [
              {
               "children": [],
               "instanceArgs": {
                "namespace": "html",
                "tag": "div"
               },
               "nodeType": "DOM",
               "props": {
                "setInnerHtml": "<?xml version=\"1.0\" encoding=\"UTF-8\"?>\n<svg xmlns=\"http://www.w3.org/2000/svg\" xmlns:xlink=\"http://www.w3.org/1999/xlink\" width=\"238.169pt\" height=\"195.05pt\" viewBox=\"0 0 238.169 195.05\" version=\"1.1\">\n<defs>\n<g>\n<symbol overflow=\"visible\" id=\"glyph-1567442442225005-0-0\">\n<path style=\"stroke:none;\" d=\"\"/>\n</symbol>\n<symbol overflow=\"visible\" id=\"glyph-1567442442225005-0-1\">\n<path style=\"stroke:none;\" d=\"M 4.578125 -3.1875 C 4.578125 -3.984375 4.53125 -4.78125 4.1875 -5.515625 C 3.734375 -6.484375 2.90625 -6.640625 2.5 -6.640625 C 1.890625 -6.640625 1.171875 -6.375 0.75 -5.453125 C 0.4375 -4.765625 0.390625 -3.984375 0.390625 -3.1875 C 0.390625 -2.4375 0.421875 -1.546875 0.84375 -0.78125 C 1.265625 0.015625 2 0.21875 2.484375 0.21875 C 3.015625 0.21875 3.78125 0.015625 4.21875 -0.9375 C 4.53125 -1.625 4.578125 -2.40625 4.578125 -3.1875 Z M 2.484375 0 C 2.09375 0 1.5 -0.25 1.328125 -1.203125 C 1.21875 -1.796875 1.21875 -2.71875 1.21875 -3.3125 C 1.21875 -3.953125 1.21875 -4.609375 1.296875 -5.140625 C 1.484375 -6.328125 2.234375 -6.421875 2.484375 -6.421875 C 2.8125 -6.421875 3.46875 -6.234375 3.65625 -5.25 C 3.765625 -4.6875 3.765625 -3.9375 3.765625 -3.3125 C 3.765625 -2.5625 3.765625 -1.890625 3.65625 -1.25 C 3.5 -0.296875 2.9375 0 2.484375 0 Z M 2.484375 0 \"/>\n</symbol>\n<symbol overflow=\"visible\" id=\"glyph-1567442442225005-0-2\">\n<path style=\"stroke:none;\" d=\"M 2.9375 -6.375 C 2.9375 -6.625 2.9375 -6.640625 2.703125 -6.640625 C 2.078125 -6 1.203125 -6 0.890625 -6 L 0.890625 -5.6875 C 1.09375 -5.6875 1.671875 -5.6875 2.1875 -5.953125 L 2.1875 -0.78125 C 2.1875 -0.421875 2.15625 -0.3125 1.265625 -0.3125 L 0.953125 -0.3125 L 0.953125 0 C 1.296875 -0.03125 2.15625 -0.03125 2.5625 -0.03125 C 2.953125 -0.03125 3.828125 -0.03125 4.171875 0 L 4.171875 -0.3125 L 3.859375 -0.3125 C 2.953125 -0.3125 2.9375 -0.421875 2.9375 -0.78125 Z M 2.9375 -6.375 \"/>\n</symbol>\n<symbol overflow=\"visible\" id=\"glyph-1567442442225005-0-3\">\n<path style=\"stroke:none;\" d=\"M 1.265625 -0.765625 L 2.328125 -1.796875 C 3.875 -3.171875 4.46875 -3.703125 4.46875 -4.703125 C 4.46875 -5.84375 3.578125 -6.640625 2.359375 -6.640625 C 1.234375 -6.640625 0.5 -5.71875 0.5 -4.828125 C 0.5 -4.28125 1 -4.28125 1.03125 -4.28125 C 1.203125 -4.28125 1.546875 -4.390625 1.546875 -4.8125 C 1.546875 -5.0625 1.359375 -5.328125 1.015625 -5.328125 C 0.9375 -5.328125 0.921875 -5.328125 0.890625 -5.3125 C 1.109375 -5.96875 1.65625 -6.328125 2.234375 -6.328125 C 3.140625 -6.328125 3.5625 -5.515625 3.5625 -4.703125 C 3.5625 -3.90625 3.078125 -3.125 2.515625 -2.5 L 0.609375 -0.375 C 0.5 -0.265625 0.5 -0.234375 0.5 0 L 4.203125 0 L 4.46875 -1.734375 L 4.234375 -1.734375 C 4.171875 -1.4375 4.109375 -1 4 -0.84375 C 3.9375 -0.765625 3.28125 -0.765625 3.0625 -0.765625 Z M 1.265625 -0.765625 \"/>\n</symbol>\n<symbol overflow=\"visible\" id=\"glyph-1567442442225005-0-4\">\n<path style=\"stroke:none;\" d=\"M 2.890625 -3.515625 C 3.703125 -3.78125 4.28125 -4.46875 4.28125 -5.265625 C 4.28125 -6.078125 3.40625 -6.640625 2.453125 -6.640625 C 1.453125 -6.640625 0.6875 -6.046875 0.6875 -5.28125 C 0.6875 -4.953125 0.90625 -4.765625 1.203125 -4.765625 C 1.5 -4.765625 1.703125 -4.984375 1.703125 -5.28125 C 1.703125 -5.765625 1.234375 -5.765625 1.09375 -5.765625 C 1.390625 -6.265625 2.046875 -6.390625 2.40625 -6.390625 C 2.828125 -6.390625 3.375 -6.171875 3.375 -5.28125 C 3.375 -5.15625 3.34375 -4.578125 3.09375 -4.140625 C 2.796875 -3.65625 2.453125 -3.625 2.203125 -3.625 C 2.125 -3.609375 1.890625 -3.59375 1.8125 -3.59375 C 1.734375 -3.578125 1.671875 -3.5625 1.671875 -3.46875 C 1.671875 -3.359375 1.734375 -3.359375 1.90625 -3.359375 L 2.34375 -3.359375 C 3.15625 -3.359375 3.53125 -2.6875 3.53125 -1.703125 C 3.53125 -0.34375 2.84375 -0.0625 2.40625 -0.0625 C 1.96875 -0.0625 1.21875 -0.234375 0.875 -0.8125 C 1.21875 -0.765625 1.53125 -0.984375 1.53125 -1.359375 C 1.53125 -1.71875 1.265625 -1.921875 0.984375 -1.921875 C 0.734375 -1.921875 0.421875 -1.78125 0.421875 -1.34375 C 0.421875 -0.4375 1.34375 0.21875 2.4375 0.21875 C 3.65625 0.21875 4.5625 -0.6875 4.5625 -1.703125 C 4.5625 -2.515625 3.921875 -3.296875 2.890625 -3.515625 Z M 2.890625 -3.515625 \"/>\n</symbol>\n<symbol overflow=\"visible\" id=\"glyph-1567442442225005-0-5\">\n<path style=\"stroke:none;\" d=\"M 2.9375 -1.640625 L 2.9375 -0.78125 C 2.9375 -0.421875 2.90625 -0.3125 2.171875 -0.3125 L 1.96875 -0.3125 L 1.96875 0 C 2.375 -0.03125 2.890625 -0.03125 3.3125 -0.03125 C 3.734375 -0.03125 4.25 -0.03125 4.671875 0 L 4.671875 -0.3125 L 4.453125 -0.3125 C 3.71875 -0.3125 3.703125 -0.421875 3.703125 -0.78125 L 3.703125 -1.640625 L 4.6875 -1.640625 L 4.6875 -1.953125 L 3.703125 -1.953125 L 3.703125 -6.484375 C 3.703125 -6.6875 3.703125 -6.75 3.53125 -6.75 C 3.453125 -6.75 3.421875 -6.75 3.34375 -6.625 L 0.28125 -1.953125 L 0.28125 -1.640625 Z M 2.984375 -1.953125 L 0.5625 -1.953125 L 2.984375 -5.671875 Z M 2.984375 -1.953125 \"/>\n</symbol>\n<symbol overflow=\"visible\" id=\"glyph-1567442442225005-0-6\">\n<path style=\"stroke:none;\" d=\"M 4.46875 -2 C 4.46875 -3.1875 3.65625 -4.1875 2.578125 -4.1875 C 2.109375 -4.1875 1.671875 -4.03125 1.3125 -3.671875 L 1.3125 -5.625 C 1.515625 -5.5625 1.84375 -5.5 2.15625 -5.5 C 3.390625 -5.5 4.09375 -6.40625 4.09375 -6.53125 C 4.09375 -6.59375 4.0625 -6.640625 3.984375 -6.640625 C 3.984375 -6.640625 3.953125 -6.640625 3.90625 -6.609375 C 3.703125 -6.515625 3.21875 -6.3125 2.546875 -6.3125 C 2.15625 -6.3125 1.6875 -6.390625 1.21875 -6.59375 C 1.140625 -6.625 1.125 -6.625 1.109375 -6.625 C 1 -6.625 1 -6.546875 1 -6.390625 L 1 -3.4375 C 1 -3.265625 1 -3.1875 1.140625 -3.1875 C 1.21875 -3.1875 1.234375 -3.203125 1.28125 -3.265625 C 1.390625 -3.421875 1.75 -3.96875 2.5625 -3.96875 C 3.078125 -3.96875 3.328125 -3.515625 3.40625 -3.328125 C 3.5625 -2.953125 3.59375 -2.578125 3.59375 -2.078125 C 3.59375 -1.71875 3.59375 -1.125 3.34375 -0.703125 C 3.109375 -0.3125 2.734375 -0.0625 2.28125 -0.0625 C 1.5625 -0.0625 0.984375 -0.59375 0.8125 -1.171875 C 0.84375 -1.171875 0.875 -1.15625 0.984375 -1.15625 C 1.3125 -1.15625 1.484375 -1.40625 1.484375 -1.640625 C 1.484375 -1.890625 1.3125 -2.140625 0.984375 -2.140625 C 0.84375 -2.140625 0.5 -2.0625 0.5 -1.609375 C 0.5 -0.75 1.1875 0.21875 2.296875 0.21875 C 3.453125 0.21875 4.46875 -0.734375 4.46875 -2 Z M 4.46875 -2 \"/>\n</symbol>\n<symbol overflow=\"visible\" id=\"glyph-1567442442225005-0-7\">\n<path style=\"stroke:none;\" d=\"M 1.3125 -3.265625 L 1.3125 -3.515625 C 1.3125 -6.03125 2.546875 -6.390625 3.0625 -6.390625 C 3.296875 -6.390625 3.71875 -6.328125 3.9375 -5.984375 C 3.78125 -5.984375 3.390625 -5.984375 3.390625 -5.546875 C 3.390625 -5.234375 3.625 -5.078125 3.84375 -5.078125 C 4 -5.078125 4.3125 -5.171875 4.3125 -5.5625 C 4.3125 -6.15625 3.875 -6.640625 3.046875 -6.640625 C 1.765625 -6.640625 0.421875 -5.359375 0.421875 -3.15625 C 0.421875 -0.484375 1.578125 0.21875 2.5 0.21875 C 3.609375 0.21875 4.5625 -0.71875 4.5625 -2.03125 C 4.5625 -3.296875 3.671875 -4.25 2.5625 -4.25 C 1.890625 -4.25 1.515625 -3.75 1.3125 -3.265625 Z M 2.5 -0.0625 C 1.875 -0.0625 1.578125 -0.65625 1.515625 -0.8125 C 1.328125 -1.28125 1.328125 -2.078125 1.328125 -2.25 C 1.328125 -3.03125 1.65625 -4.03125 2.546875 -4.03125 C 2.71875 -4.03125 3.171875 -4.03125 3.484375 -3.40625 C 3.65625 -3.046875 3.65625 -2.53125 3.65625 -2.046875 C 3.65625 -1.5625 3.65625 -1.0625 3.484375 -0.703125 C 3.1875 -0.109375 2.734375 -0.0625 2.5 -0.0625 Z M 2.5 -0.0625 \"/>\n</symbol>\n<symbol overflow=\"visible\" id=\"glyph-1567442442225005-0-8\">\n<path style=\"stroke:none;\" d=\"M 1.625 -4.5625 C 1.171875 -4.859375 1.125 -5.1875 1.125 -5.359375 C 1.125 -5.96875 1.78125 -6.390625 2.484375 -6.390625 C 3.203125 -6.390625 3.84375 -5.875 3.84375 -5.15625 C 3.84375 -4.578125 3.453125 -4.109375 2.859375 -3.765625 Z M 3.078125 -3.609375 C 3.796875 -3.984375 4.28125 -4.5 4.28125 -5.15625 C 4.28125 -6.078125 3.40625 -6.640625 2.5 -6.640625 C 1.5 -6.640625 0.6875 -5.90625 0.6875 -4.96875 C 0.6875 -4.796875 0.703125 -4.34375 1.125 -3.875 C 1.234375 -3.765625 1.609375 -3.515625 1.859375 -3.34375 C 1.28125 -3.046875 0.421875 -2.5 0.421875 -1.5 C 0.421875 -0.453125 1.4375 0.21875 2.484375 0.21875 C 3.609375 0.21875 4.5625 -0.609375 4.5625 -1.671875 C 4.5625 -2.03125 4.453125 -2.484375 4.0625 -2.90625 C 3.875 -3.109375 3.71875 -3.203125 3.078125 -3.609375 Z M 2.078125 -3.1875 L 3.3125 -2.40625 C 3.59375 -2.21875 4.0625 -1.921875 4.0625 -1.3125 C 4.0625 -0.578125 3.3125 -0.0625 2.5 -0.0625 C 1.640625 -0.0625 0.921875 -0.671875 0.921875 -1.5 C 0.921875 -2.078125 1.234375 -2.71875 2.078125 -3.1875 Z M 2.078125 -3.1875 \"/>\n</symbol>\n<symbol overflow=\"visible\" id=\"glyph-1567442442225005-1-0\">\n<path style=\"stroke:none;\" d=\"\"/>\n</symbol>\n<symbol overflow=\"visible\" id=\"glyph-1567442442225005-1-1\">\n<path style=\"stroke:none;\" d=\"M 1.90625 -0.53125 C 1.90625 -0.8125 1.671875 -1.0625 1.390625 -1.0625 C 1.09375 -1.0625 0.859375 -0.8125 0.859375 -0.53125 C 0.859375 -0.234375 1.09375 0 1.390625 0 C 1.671875 0 1.90625 -0.234375 1.90625 -0.53125 Z M 1.90625 -0.53125 \"/>\n</symbol>\n<symbol overflow=\"visible\" id=\"glyph-1567442442225005-2-0\">\n<path style=\"stroke:none;\" d=\"\"/>\n</symbol>\n<symbol overflow=\"visible\" id=\"glyph-1567442442225005-2-1\">\n<path style=\"stroke:none;\" d=\"M 6.390625 -5.109375 C 6.390625 -6.09375 5.234375 -7.140625 3.875 -7.140625 L 0.171875 -7.140625 L 0.171875 -6.5 L 0.59375 -6.5 C 1.359375 -6.5 1.203125 -6.546875 1.203125 -6.1875 L 1.203125 -0.9375 C 1.203125 -0.578125 1.359375 -0.640625 0.59375 -0.640625 L 0.171875 -0.640625 L 0.171875 0.015625 C 0.703125 -0.03125 1.4375 -0.03125 1.8125 -0.03125 C 2.1875 -0.03125 2.9375 -0.03125 3.453125 0.015625 L 3.453125 -0.640625 L 3.046875 -0.640625 C 2.28125 -0.640625 2.4375 -0.578125 2.4375 -0.9375 L 2.4375 -3.15625 L 3.953125 -3.15625 C 5.140625 -3.15625 6.390625 -4.109375 6.390625 -5.109375 Z M 5.015625 -5.109375 C 5.015625 -4.640625 5.1875 -3.734375 3.609375 -3.734375 L 2.40625 -3.734375 L 2.40625 -6.265625 C 2.40625 -6.59375 2.25 -6.5 2.71875 -6.5 L 3.609375 -6.5 C 5.1875 -6.5 5.015625 -5.609375 5.015625 -5.109375 Z M 5.015625 -5.109375 \"/>\n</symbol>\n<symbol overflow=\"visible\" id=\"glyph-1567442442225005-2-2\">\n<path style=\"stroke:none;\" d=\"M 5.5 -0.15625 L 5.5 -0.640625 C 4.640625 -0.640625 4.71875 -0.53125 4.71875 -1.03125 L 4.71875 -4.75 L 2.90625 -4.609375 L 2.90625 -3.984375 C 3.78125 -3.984375 3.6875 -4.078125 3.6875 -3.59375 L 3.6875 -1.8125 C 3.6875 -0.953125 3.390625 -0.4375 2.65625 -0.4375 C 1.828125 -0.4375 1.953125 -0.734375 1.953125 -1.25 L 1.953125 -4.75 L 0.140625 -4.609375 L 0.140625 -3.984375 C 1.09375 -3.984375 0.921875 -4.109375 0.921875 -3.234375 L 0.921875 -1.734375 C 0.921875 -0.953125 1.09375 0.109375 2.609375 0.109375 C 3.171875 0.109375 3.78125 -0.328125 4.0625 -0.953125 L 3.71875 -0.953125 L 3.71875 0.125 L 5.5 -0.015625 Z M 5.5 -0.15625 \"/>\n</symbol>\n<symbol overflow=\"visible\" id=\"glyph-1567442442225005-2-3\">\n<path style=\"stroke:none;\" d=\"M 2.71875 -0.15625 L 2.71875 -0.640625 C 1.875 -0.640625 1.9375 -0.46875 1.9375 -0.921875 L 1.9375 -7.265625 L 0.15625 -7.125 L 0.15625 -6.5 C 1.03125 -6.5 0.921875 -6.59375 0.921875 -6.09375 L 0.921875 -0.921875 C 0.921875 -0.46875 1 -0.640625 0.15625 -0.640625 L 0.15625 0.015625 L 1.4375 -0.03125 L 2.71875 0.015625 Z M 2.71875 -0.15625 \"/>\n</symbol>\n<symbol overflow=\"visible\" id=\"glyph-1567442442225005-2-4\">\n<path style=\"stroke:none;\" d=\"M 3.765625 -1.4375 C 3.765625 -1.96875 3.40625 -2.375 3.296875 -2.5 C 2.953125 -2.828125 2.453125 -2.953125 2.03125 -3.03125 C 1.46875 -3.140625 0.984375 -3.09375 0.984375 -3.671875 C 0.984375 -4.03125 1.0625 -4.28125 1.921875 -4.28125 C 3.015625 -4.28125 2.890625 -3.53125 2.90625 -3.234375 C 2.921875 -3.140625 3.328125 -3.03125 3.328125 -3.03125 L 3.203125 -2.984375 C 3.34375 -2.984375 3.515625 -3.1875 3.515625 -3.375 L 3.515625 -4.390625 C 3.515625 -4.5625 3.34375 -4.796875 3.234375 -4.796875 C 3.1875 -4.796875 3.03125 -4.75 2.90625 -4.625 C 2.875 -4.578125 2.765625 -4.5 2.84375 -4.5625 C 2.609375 -4.75 2.078125 -4.796875 1.921875 -4.796875 C 0.703125 -4.796875 0.15625 -3.953125 0.15625 -3.40625 C 0.15625 -3.046875 0.359375 -2.65625 0.625 -2.4375 C 0.953125 -2.1875 1.359375 -2.078125 2.078125 -1.9375 C 2.296875 -1.890625 2.9375 -1.890625 2.9375 -1.171875 C 2.9375 -0.671875 2.765625 -0.4375 1.984375 -0.4375 C 1.140625 -0.4375 0.953125 -0.84375 0.765625 -1.6875 C 0.734375 -1.8125 0.5625 -2.03125 0.453125 -2.03125 C 0.328125 -2.03125 0.15625 -1.78125 0.15625 -1.609375 L 0.15625 -0.296875 C 0.15625 -0.125 0.328125 0.109375 0.4375 0.109375 C 0.484375 0.109375 0.625 0.046875 0.8125 -0.140625 C 0.828125 -0.15625 0.828125 -0.171875 0.890625 -0.234375 C 1.203125 0.046875 1.78125 0.109375 1.984375 0.109375 C 3.125 0.109375 3.765625 -0.71875 3.765625 -1.4375 Z M 3.765625 -1.4375 \"/>\n</symbol>\n<symbol overflow=\"visible\" id=\"glyph-1567442442225005-2-5\">\n<path style=\"stroke:none;\" d=\"M 4.3125 -1.34375 C 4.3125 -1.453125 4.0625 -1.640625 4 -1.640625 C 3.921875 -1.640625 3.71875 -1.40625 3.703125 -1.328125 C 3.34375 -0.296875 2.625 -0.46875 2.53125 -0.46875 C 2.03125 -0.46875 1.75 -0.71875 1.53125 -1.09375 C 1.21875 -1.5625 1.28125 -2.109375 1.28125 -2.296875 L 3.890625 -2.296875 C 4.109375 -2.296875 4.3125 -2.46875 4.3125 -2.671875 C 4.3125 -3.65625 3.59375 -4.796875 2.359375 -4.796875 C 1.203125 -4.796875 0.09375 -3.59375 0.09375 -2.359375 C 0.09375 -1.015625 1.328125 0.109375 2.46875 0.109375 C 3.6875 0.109375 4.3125 -1.15625 4.3125 -1.34375 Z M 3.484375 -2.84375 L 1.296875 -2.84375 C 1.34375 -4.15625 2.015625 -4.25 2.359375 -4.25 C 3.375 -4.25 3.296875 -3.0625 3.296875 -2.84375 Z M 3.484375 -2.84375 \"/>\n</symbol>\n<symbol overflow=\"visible\" id=\"glyph-1567442442225005-2-6\">\n<path style=\"stroke:none;\" d=\"M 5.359375 -2.3125 C 5.359375 -3.578125 4.234375 -4.734375 3.109375 -4.734375 C 2.328125 -4.734375 1.78125 -4.25 1.578125 -4.03125 L 1.890625 -3.90625 L 1.890625 -4.75 L 0.09375 -4.609375 L 0.09375 -3.984375 C 0.984375 -3.984375 0.875 -4.09375 0.875 -3.65625 L 0.875 1.015625 C 0.875 1.46875 0.953125 1.296875 0.09375 1.296875 L 0.09375 1.9375 L 1.390625 1.90625 L 2.6875 1.9375 L 2.6875 1.296875 C 1.859375 1.296875 1.90625 1.46875 1.90625 1.015625 L 1.90625 -0.75 L 1.5625 -0.75 C 1.609375 -0.59375 2.21875 0.109375 2.96875 0.109375 C 4.15625 0.109375 5.359375 -1.03125 5.359375 -2.3125 Z M 4.1875 -2.3125 C 4.1875 -1.109375 3.671875 -0.4375 2.9375 -0.4375 C 2.53125 -0.4375 2.265625 -0.59375 2 -1 C 1.859375 -1.203125 1.90625 -1.09375 1.90625 -1.296875 L 1.90625 -3.5 C 2.15625 -3.921875 2.515625 -4.15625 3.03125 -4.15625 C 3.765625 -4.15625 4.1875 -3.4375 4.1875 -2.3125 Z M 4.1875 -2.3125 \"/>\n</symbol>\n<symbol overflow=\"visible\" id=\"glyph-1567442442225005-2-7\">\n<path style=\"stroke:none;\" d=\"M 5 -4.1875 C 5 -4.359375 4.71875 -4.84375 4.328125 -4.84375 C 4.125 -4.84375 3.5625 -4.734375 3.25 -4.4375 C 2.96875 -4.65625 2.4375 -4.734375 2.21875 -4.734375 C 1.28125 -4.734375 0.421875 -3.875 0.421875 -3.109375 C 0.421875 -2.671875 0.6875 -2.1875 0.8125 -2.078125 C 0.8125 -2.046875 0.578125 -1.609375 0.578125 -1.25 C 0.578125 -0.953125 0.75 -0.453125 0.796875 -0.421875 C 0.59375 -0.375 0.09375 0.234375 0.09375 0.625 C 0.09375 1.34375 1.265625 2.046875 2.484375 2.046875 C 3.65625 2.046875 4.859375 1.390625 4.859375 0.609375 C 4.859375 0.265625 4.671875 -0.375 4.171875 -0.640625 C 3.640625 -0.921875 2.9375 -0.984375 2.328125 -0.984375 C 2.078125 -0.984375 1.65625 -0.984375 1.578125 -0.984375 C 1.265625 -1.03125 1.21875 -1.171875 1.21875 -1.484375 C 1.21875 -1.53125 1.171875 -1.640625 1.25 -1.734375 C 1.484375 -1.5625 2.03125 -1.484375 2.21875 -1.484375 C 3.140625 -1.484375 4 -2.328125 4 -3.09375 C 4 -3.46875 3.78125 -3.953125 3.671875 -4.078125 C 3.890625 -4.296875 4.140625 -4.296875 4.3125 -4.296875 L 4.4375 -4.34375 C 4.4375 -4.34375 4.390625 -4.296875 4.421875 -4.28125 L 4.421875 -4.609375 C 4.3125 -4.578125 4.078125 -4.296875 4.078125 -4.171875 C 4.078125 -4 4.390625 -3.734375 4.546875 -3.734375 C 4.640625 -3.734375 5 -3.953125 5 -4.1875 Z M 2.90625 -3.109375 C 2.90625 -2.84375 2.9375 -2.640625 2.796875 -2.390625 C 2.71875 -2.265625 2.609375 -2.046875 2.21875 -2.046875 C 1.34375 -2.046875 1.515625 -2.875 1.515625 -3.09375 C 1.515625 -3.375 1.46875 -3.578125 1.625 -3.828125 C 1.703125 -3.953125 1.8125 -4.171875 2.21875 -4.171875 C 3.078125 -4.171875 2.90625 -3.34375 2.90625 -3.109375 Z M 4 0.625 C 4 1.171875 3.46875 1.5 2.5 1.5 C 1.484375 1.5 0.96875 1.15625 0.96875 0.625 C 0.96875 0.171875 1.171875 -0.046875 1.609375 -0.0625 L 2.203125 -0.0625 C 3.0625 -0.0625 4 -0.234375 4 0.625 Z M 4 0.625 \"/>\n</symbol>\n<symbol overflow=\"visible\" id=\"glyph-1567442442225005-2-8\">\n<path style=\"stroke:none;\" d=\"M 3.796875 -3.953125 C 3.796875 -4.28125 3.3125 -4.734375 2.890625 -4.734375 C 2.15625 -4.734375 1.625 -3.890625 1.484375 -3.46875 L 1.828125 -3.46875 L 1.828125 -4.75 L 0.09375 -4.609375 L 0.09375 -3.984375 C 0.984375 -3.984375 0.875 -4.078125 0.875 -3.59375 L 0.875 -0.921875 C 0.875 -0.46875 0.953125 -0.640625 0.09375 -0.640625 L 0.09375 0.015625 L 1.421875 -0.03125 C 1.8125 -0.03125 2.28125 -0.03125 2.84375 0.015625 L 2.84375 -0.640625 L 2.46875 -0.640625 C 1.734375 -0.640625 1.890625 -0.578125 1.890625 -0.9375 L 1.890625 -2.46875 C 1.890625 -3.453125 2.140625 -4.1875 2.890625 -4.1875 C 2.953125 -4.1875 2.84375 -4.234375 2.875 -4.234375 L 3 -4.5 C 2.96875 -4.5 2.59375 -4.203125 2.59375 -3.953125 C 2.59375 -3.671875 2.984375 -3.359375 3.203125 -3.359375 C 3.375 -3.359375 3.796875 -3.640625 3.796875 -3.953125 Z M 3.796875 -3.953125 \"/>\n</symbol>\n<symbol overflow=\"visible\" id=\"glyph-1567442442225005-2-9\">\n<path style=\"stroke:none;\" d=\"M 5.421875 -0.15625 L 5.421875 -0.640625 C 4.5625 -0.640625 4.640625 -0.53125 4.640625 -1.03125 L 4.640625 -7.265625 L 2.859375 -7.125 L 2.859375 -6.5 C 3.734375 -6.5 3.640625 -6.59375 3.640625 -6.09375 L 3.640625 -3.953125 L 3.9375 -4.0625 C 3.65625 -4.421875 3.09375 -4.734375 2.5625 -4.734375 C 1.390625 -4.734375 0.15625 -3.59375 0.15625 -2.296875 C 0.15625 -1.03125 1.3125 0.109375 2.453125 0.109375 C 3.09375 0.109375 3.65625 -0.28125 3.90625 -0.59375 L 3.609375 -0.703125 L 3.609375 0.125 L 5.421875 -0.015625 Z M 3.609375 -1.328125 C 3.609375 -1.15625 3.65625 -1.25 3.546875 -1.09375 C 3.25 -0.609375 2.9375 -0.4375 2.5 -0.4375 C 2.046875 -0.4375 1.8125 -0.640625 1.578125 -1.03125 C 1.3125 -1.4375 1.328125 -1.890625 1.328125 -2.296875 C 1.328125 -2.65625 1.3125 -3.15625 1.59375 -3.59375 C 1.796875 -3.90625 2.0625 -4.1875 2.609375 -4.1875 C 2.953125 -4.1875 3.234375 -4.09375 3.546875 -3.640625 C 3.65625 -3.46875 3.609375 -3.5625 3.609375 -3.375 Z M 3.609375 -1.328125 \"/>\n</symbol>\n<symbol overflow=\"visible\" id=\"glyph-1567442442225005-2-10\">\n<path style=\"stroke:none;\" d=\"M 5.234375 -4.140625 L 5.234375 -4.640625 C 4.828125 -4.609375 4.546875 -4.59375 4.3125 -4.59375 L 3.265625 -4.640625 L 3.265625 -3.984375 C 3.765625 -3.984375 3.734375 -3.96875 3.734375 -3.71875 C 3.734375 -3.625 3.734375 -3.59375 3.671875 -3.484375 L 2.671875 -1.03125 L 3.015625 -1.03125 L 1.90625 -3.703125 C 1.875 -3.8125 1.859375 -3.84375 1.859375 -3.890625 C 1.859375 -4.140625 2.046875 -3.984375 2.40625 -3.984375 L 2.40625 -4.640625 L 1.15625 -4.59375 C 0.890625 -4.59375 0.484375 -4.609375 0.015625 -4.640625 L 0.015625 -3.984375 C 0.671875 -3.984375 0.671875 -4.140625 0.8125 -3.796875 L 2.3125 -0.15625 L 2.0625 0.421875 C 1.84375 0.984375 1.75 1.5 1.109375 1.5 C 1.0625 1.5 0.953125 1.546875 1 1.609375 C 0.953125 1.609375 1.203125 1.21875 1.203125 1.0625 C 1.203125 0.8125 0.84375 0.484375 0.609375 0.484375 C 0.40625 0.484375 0.015625 0.78125 0.015625 1.078125 C 0.015625 1.53125 0.609375 2.046875 1.109375 2.046875 C 1.734375 2.046875 2.3125 1.3125 2.546875 0.75 L 4.3125 -3.515625 C 4.5625 -4.140625 4.90625 -3.984375 5.234375 -3.984375 Z M 5.234375 -4.140625 \"/>\n</symbol>\n<symbol overflow=\"visible\" id=\"glyph-1567442442225005-2-11\">\n<path style=\"stroke:none;\" d=\"M 4.859375 -2.296875 C 4.859375 -3.5625 3.703125 -4.796875 2.5 -4.796875 C 1.25 -4.796875 0.09375 -3.53125 0.09375 -2.296875 C 0.09375 -1 1.3125 0.109375 2.484375 0.109375 C 3.6875 0.109375 4.859375 -1.03125 4.859375 -2.296875 Z M 3.6875 -2.375 C 3.6875 -2.015625 3.734375 -1.59375 3.515625 -1.15625 L 3.46875 -1.03125 C 3.25 -0.59375 2.984375 -0.46875 2.5 -0.46875 C 2.0625 -0.46875 1.75 -0.625 1.46875 -1.09375 C 1.21875 -1.53125 1.28125 -2.015625 1.28125 -2.375 C 1.28125 -2.765625 1.21875 -3.1875 1.46875 -3.625 C 1.734375 -4.09375 2.078125 -4.25 2.484375 -4.25 C 2.921875 -4.25 3.21875 -4.078125 3.484375 -3.65625 C 3.734375 -3.21875 3.6875 -2.75 3.6875 -2.375 Z M 3.6875 -2.375 \"/>\n</symbol>\n<symbol overflow=\"visible\" id=\"glyph-1567442442225005-2-12\">\n<path style=\"stroke:none;\" d=\"M 3.734375 -6.484375 C 3.734375 -6.859375 3.1875 -7.359375 2.65625 -7.359375 C 1.96875 -7.359375 0.9375 -6.65625 0.9375 -5.609375 L 0.9375 -4.625 L 0.15625 -4.625 L 0.15625 -3.984375 L 0.9375 -3.984375 L 0.9375 -0.921875 C 0.9375 -0.46875 1 -0.640625 0.15625 -0.640625 L 0.15625 0.015625 L 1.46875 -0.03125 C 1.875 -0.03125 2.34375 -0.03125 2.90625 0.015625 L 2.90625 -0.640625 L 2.53125 -0.640625 C 1.796875 -0.640625 1.9375 -0.578125 1.9375 -0.9375 L 1.9375 -3.984375 L 3.078125 -3.984375 L 3.078125 -4.625 L 1.90625 -4.625 L 1.90625 -5.609375 C 1.90625 -6.484375 2.21875 -6.8125 2.65625 -6.8125 C 2.6875 -6.8125 2.84375 -6.8125 2.984375 -6.734375 L 2.984375 -7.0625 C 2.875 -7.03125 2.515625 -6.734375 2.515625 -6.484375 C 2.515625 -6.25 2.84375 -5.890625 3.125 -5.890625 C 3.40625 -5.890625 3.734375 -6.25 3.734375 -6.484375 Z M 3.734375 -6.484375 \"/>\n</symbol>\n<symbol overflow=\"visible\" id=\"glyph-1567442442225005-2-13\">\n<path style=\"stroke:none;\" d=\"M 3.484375 -1.390625 L 3.484375 -2.140625 L 2.875 -2.140625 L 2.875 -1.421875 C 2.875 -0.671875 2.765625 -0.46875 2.390625 -0.46875 C 1.71875 -0.46875 1.890625 -1.203125 1.890625 -1.375 L 1.890625 -3.984375 L 3.3125 -3.984375 L 3.3125 -4.625 L 1.890625 -4.625 L 1.890625 -6.453125 L 1.296875 -6.453125 C 1.28125 -5.46875 1.171875 -4.578125 0.015625 -4.53125 L 0.015625 -3.984375 L 0.859375 -3.984375 L 0.859375 -1.390625 C 0.859375 -0.171875 1.96875 0.109375 2.328125 0.109375 C 3.03125 0.109375 3.484375 -0.75 3.484375 -1.390625 Z M 3.484375 -1.390625 \"/>\n</symbol>\n<symbol overflow=\"visible\" id=\"glyph-1567442442225005-2-14\">\n<path style=\"stroke:none;\" d=\"M 8.28125 -0.15625 L 8.28125 -0.640625 C 7.59375 -0.640625 7.5 -0.46875 7.5 -0.765625 L 7.5 -2.671875 C 7.5 -3.53125 7.453125 -3.953125 7.140625 -4.3125 C 7 -4.484375 6.546875 -4.734375 5.96875 -4.734375 C 5.140625 -4.734375 4.515625 -3.96875 4.34375 -3.59375 L 4.6875 -3.59375 C 4.5625 -4.453125 3.65625 -4.734375 3.203125 -4.734375 C 2.46875 -4.734375 1.828125 -4.140625 1.546875 -3.515625 L 1.890625 -3.515625 L 1.890625 -4.75 L 0.140625 -4.609375 L 0.140625 -3.984375 C 1.015625 -3.984375 0.921875 -4.078125 0.921875 -3.59375 L 0.921875 -0.921875 C 0.921875 -0.46875 0.984375 -0.640625 0.140625 -0.640625 L 0.140625 0.015625 L 1.453125 -0.03125 L 2.734375 0.015625 L 2.734375 -0.640625 C 1.890625 -0.640625 1.953125 -0.46875 1.953125 -0.921875 L 1.953125 -2.75 C 1.953125 -3.78125 2.5 -4.1875 3.125 -4.1875 C 3.765625 -4.1875 3.6875 -3.8125 3.6875 -3.234375 L 3.6875 -0.921875 C 3.6875 -0.46875 3.765625 -0.640625 2.90625 -0.640625 L 2.90625 0.015625 L 4.21875 -0.03125 L 5.5 0.015625 L 5.5 -0.640625 C 4.671875 -0.640625 4.71875 -0.46875 4.71875 -0.921875 L 4.71875 -2.75 C 4.71875 -3.78125 5.265625 -4.1875 5.90625 -4.1875 C 6.53125 -4.1875 6.453125 -3.8125 6.453125 -3.234375 L 6.453125 -0.921875 C 6.453125 -0.46875 6.53125 -0.640625 5.6875 -0.640625 L 5.6875 0.015625 L 6.984375 -0.03125 L 8.28125 0.015625 Z M 8.28125 -0.15625 \"/>\n</symbol>\n<symbol overflow=\"visible\" id=\"glyph-1567442442225005-2-15\">\n<path style=\"stroke:none;\" d=\"M 4.984375 -1.046875 L 4.984375 -1.78125 L 4.390625 -1.78125 L 4.390625 -1.046875 C 4.390625 -0.46875 4.3125 -0.578125 4.203125 -0.578125 C 3.875 -0.578125 4 -0.859375 4 -0.90625 L 4 -2.90625 C 4 -3.3125 3.953125 -3.828125 3.59375 -4.203125 C 3.203125 -4.578125 2.59375 -4.796875 2.109375 -4.796875 C 1.296875 -4.796875 0.421875 -4.15625 0.421875 -3.5 C 0.421875 -3.203125 0.8125 -2.875 1.0625 -2.875 C 1.34375 -2.875 1.6875 -3.234375 1.6875 -3.484375 C 1.6875 -3.609375 1.46875 -4.109375 1.34375 -4.109375 C 1.40625 -4.1875 1.78125 -4.25 2.09375 -4.25 C 2.578125 -4.25 2.96875 -4.015625 2.96875 -3.125 L 2.96875 -2.921875 C 2.640625 -2.90625 1.9375 -2.875 1.3125 -2.578125 C 0.5625 -2.234375 0.140625 -1.546875 0.140625 -1.109375 C 0.140625 -0.296875 1.28125 0.109375 1.90625 0.109375 C 2.578125 0.109375 3.203125 -0.453125 3.390625 -0.921875 L 3.046875 -0.921875 C 3.078125 -0.515625 3.53125 0.0625 4 0.0625 C 4.203125 0.0625 4.984375 -0.234375 4.984375 -1.046875 Z M 2.96875 -1.5625 C 2.96875 -0.609375 2.4375 -0.4375 1.984375 -0.4375 C 1.5 -0.4375 1.25 -0.625 1.25 -1.109375 C 1.25 -1.671875 1.5 -2.328125 2.96875 -2.375 Z M 2.96875 -1.5625 \"/>\n</symbol>\n<symbol overflow=\"visible\" id=\"glyph-1567442442225005-2-16\">\n<path style=\"stroke:none;\" d=\"M 5.3125 -0.15625 L 5.3125 -0.640625 C 4.609375 -0.640625 4.546875 -0.609375 4.3125 -0.890625 L 3.078125 -2.5 C 3.28125 -2.765625 3.65625 -3.265625 3.890625 -3.515625 C 4.203125 -3.875 4.5 -3.984375 5.140625 -3.984375 L 5.140625 -4.640625 C 4.703125 -4.609375 4.40625 -4.59375 4.140625 -4.59375 C 3.84375 -4.59375 3.3125 -4.609375 3.015625 -4.640625 L 3.015625 -4 C 3.40625 -3.96875 3.296875 -4 3.296875 -3.84375 C 3.296875 -3.671875 3.25 -3.671875 3.203125 -3.609375 L 2.71875 -2.984375 L 2.046875 -3.84375 C 1.96875 -3.9375 2.015625 -3.84375 2.015625 -3.890625 C 2.015625 -4.046875 2 -3.984375 2.359375 -3.984375 L 2.359375 -4.640625 L 1.109375 -4.59375 C 0.90625 -4.59375 0.4375 -4.609375 -0.015625 -4.640625 L -0.015625 -3.984375 C 0.875 -3.984375 0.75 -4.03125 1.21875 -3.421875 L 2.109375 -2.25 C 1.734375 -1.78125 1.734375 -1.75 1.265625 -1.1875 C 0.78125 -0.609375 0.328125 -0.640625 -0.0625 -0.640625 L -0.0625 0.015625 C 0.375 -0.015625 0.6875 -0.03125 0.953125 -0.03125 L 2.0625 0.015625 L 2.0625 -0.625 C 1.671875 -0.671875 1.78125 -0.625 1.78125 -0.78125 C 1.78125 -1 2.015625 -1.21875 2.5 -1.78125 L 3.125 -0.9375 C 3.203125 -0.828125 3.296875 -0.78125 3.296875 -0.71875 C 3.296875 -0.625 3.375 -0.640625 2.9375 -0.640625 L 2.9375 0.015625 L 4.1875 -0.03125 C 4.453125 -0.03125 4.84375 -0.015625 5.3125 0.015625 Z M 5.3125 -0.15625 \"/>\n</symbol>\n<symbol overflow=\"visible\" id=\"glyph-1567442442225005-2-17\">\n<path style=\"stroke:none;\" d=\"M 2.625 -0.15625 L 2.625 -0.640625 C 1.796875 -0.640625 1.9375 -0.515625 1.9375 -0.90625 L 1.9375 -4.75 L 0.1875 -4.609375 L 0.1875 -3.984375 C 1.015625 -3.984375 0.921875 -4.09375 0.921875 -3.59375 L 0.921875 -0.921875 C 0.921875 -0.46875 1 -0.640625 0.15625 -0.640625 L 0.15625 0.015625 L 1.421875 -0.03125 C 1.78125 -0.03125 2.125 -0.015625 2.625 0.015625 Z M 2.078125 -6.1875 C 2.078125 -6.453125 1.6875 -6.875 1.390625 -6.875 C 1.046875 -6.875 0.671875 -6.4375 0.671875 -6.1875 C 0.671875 -5.90625 1.078125 -5.5 1.375 -5.5 C 1.71875 -5.5 2.078125 -5.9375 2.078125 -6.1875 Z M 2.078125 -6.1875 \"/>\n</symbol>\n<symbol overflow=\"visible\" id=\"glyph-1567442442225005-2-18\">\n<path style=\"stroke:none;\" d=\"M 5.5 -0.15625 L 5.5 -0.640625 C 4.8125 -0.640625 4.734375 -0.46875 4.71875 -0.765625 L 4.71875 -2.671875 C 4.71875 -3.53125 4.671875 -3.953125 4.359375 -4.3125 C 4.234375 -4.484375 3.78125 -4.734375 3.203125 -4.734375 C 2.46875 -4.734375 1.828125 -4.140625 1.546875 -3.515625 L 1.890625 -3.515625 L 1.890625 -4.75 L 0.140625 -4.609375 L 0.140625 -3.984375 C 1.015625 -3.984375 0.921875 -4.078125 0.921875 -3.59375 L 0.921875 -0.921875 C 0.921875 -0.46875 0.984375 -0.640625 0.140625 -0.640625 L 0.140625 0.015625 L 1.453125 -0.03125 L 2.734375 0.015625 L 2.734375 -0.640625 C 1.890625 -0.640625 1.953125 -0.46875 1.953125 -0.921875 L 1.953125 -2.75 C 1.953125 -3.78125 2.5 -4.1875 3.125 -4.1875 C 3.765625 -4.1875 3.6875 -3.8125 3.6875 -3.234375 L 3.6875 -0.921875 C 3.6875 -0.46875 3.765625 -0.640625 2.90625 -0.640625 L 2.90625 0.015625 L 4.21875 -0.03125 L 5.5 0.015625 Z M 5.5 -0.15625 \"/>\n</symbol>\n<symbol overflow=\"visible\" id=\"glyph-1567442442225005-2-19\">\n<path style=\"stroke:none;\" d=\"M 5.234375 -4.140625 L 5.234375 -4.640625 C 4.828125 -4.609375 4.546875 -4.59375 4.3125 -4.59375 L 3.265625 -4.640625 L 3.265625 -3.984375 C 3.8125 -3.984375 3.75 -3.90625 3.75 -3.71875 C 3.75 -3.625 3.734375 -3.59375 3.6875 -3.484375 L 2.671875 -0.9375 L 3.015625 -0.9375 L 1.90625 -3.71875 C 1.84375 -3.84375 1.796875 -3.78125 1.796875 -3.78125 L 1.84375 -3.890625 C 1.84375 -4.140625 2.0625 -3.984375 2.40625 -3.984375 L 2.40625 -4.640625 L 1.15625 -4.59375 C 0.890625 -4.59375 0.484375 -4.609375 0.015625 -4.640625 L 0.015625 -3.984375 C 0.8125 -3.984375 0.671875 -4.09375 0.8125 -3.78125 L 2.25 -0.234375 C 2.296875 -0.09375 2.5 0.109375 2.625 0.109375 C 2.765625 0.109375 2.96875 -0.140625 3.015625 -0.234375 L 4.3125 -3.484375 C 4.40625 -3.703125 4.40625 -3.984375 5.234375 -3.984375 Z M 5.234375 -4.140625 \"/>\n</symbol>\n<symbol overflow=\"visible\" id=\"glyph-1567442442225005-3-0\">\n<path style=\"stroke:none;\" d=\"\"/>\n</symbol>\n<symbol overflow=\"visible\" id=\"glyph-1567442442225005-3-1\">\n<path style=\"stroke:none;\" d=\"M -0.15625 -7.3125 L -0.640625 -7.3125 L -0.640625 -6.96875 C -0.640625 -6.375 -0.53125 -6.40625 -0.875 -6.296875 L -7.09375 -4.140625 C -7.234375 -4.09375 -7.46875 -3.890625 -7.46875 -3.734375 C -7.46875 -3.578125 -7.234375 -3.375 -7.09375 -3.3125 L -1.140625 -1.25 C -0.625 -1.078125 -0.640625 -0.859375 -0.640625 -0.140625 L 0.015625 -0.140625 L -0.03125 -1.328125 L 0.015625 -2.65625 L -0.640625 -2.65625 C -0.640625 -1.984375 -0.71875 -1.90625 -0.984375 -1.90625 C -1 -1.90625 -1 -1.859375 -1.09375 -1.90625 L -2.265625 -2.328125 L -2.265625 -4.5625 L -0.90625 -5.03125 C -0.875 -5.03125 -0.8125 -5.046875 -0.765625 -5.046875 C -0.46875 -5.046875 -0.640625 -4.671875 -0.640625 -4.234375 L 0.015625 -4.234375 C -0.03125 -4.765625 -0.03125 -5.46875 -0.03125 -5.84375 L 0.015625 -7.3125 Z M -2.90625 -4.5625 L -2.90625 -2.546875 L -5.984375 -3.609375 L -5.984375 -3.265625 L -2.90625 -4.328125 Z M -2.90625 -4.5625 \"/>\n</symbol>\n<symbol overflow=\"visible\" id=\"glyph-1567442442225005-3-2\">\n<path style=\"stroke:none;\" d=\"M -4.140625 -5.234375 L -4.640625 -5.234375 C -4.609375 -4.828125 -4.59375 -4.546875 -4.59375 -4.3125 L -4.640625 -3.265625 L -3.984375 -3.265625 C -3.984375 -3.8125 -3.90625 -3.75 -3.71875 -3.75 C -3.625 -3.75 -3.59375 -3.734375 -3.484375 -3.6875 L -0.9375 -2.671875 L -0.9375 -3.015625 L -3.71875 -1.90625 C -3.84375 -1.84375 -3.78125 -1.796875 -3.78125 -1.796875 L -3.890625 -1.84375 C -4.140625 -1.84375 -3.984375 -2.0625 -3.984375 -2.40625 L -4.640625 -2.40625 L -4.59375 -1.15625 C -4.59375 -0.890625 -4.609375 -0.484375 -4.640625 -0.015625 L -3.984375 -0.015625 C -3.984375 -0.8125 -4.09375 -0.671875 -3.78125 -0.8125 L -0.234375 -2.25 C -0.09375 -2.296875 0.109375 -2.5 0.109375 -2.625 C 0.109375 -2.765625 -0.140625 -2.96875 -0.234375 -3.015625 L -3.484375 -4.3125 C -3.703125 -4.40625 -3.984375 -4.40625 -3.984375 -5.234375 Z M -4.140625 -5.234375 \"/>\n</symbol>\n<symbol overflow=\"visible\" id=\"glyph-1567442442225005-3-3\">\n<path style=\"stroke:none;\" d=\"M -1.34375 -4.3125 C -1.453125 -4.3125 -1.640625 -4.0625 -1.640625 -4 C -1.640625 -3.921875 -1.40625 -3.71875 -1.328125 -3.703125 C -0.296875 -3.34375 -0.46875 -2.625 -0.46875 -2.53125 C -0.46875 -2.03125 -0.71875 -1.75 -1.09375 -1.53125 C -1.5625 -1.21875 -2.109375 -1.28125 -2.296875 -1.28125 L -2.296875 -3.890625 C -2.296875 -4.109375 -2.46875 -4.3125 -2.671875 -4.3125 C -3.65625 -4.3125 -4.796875 -3.59375 -4.796875 -2.359375 C -4.796875 -1.203125 -3.59375 -0.09375 -2.359375 -0.09375 C -1.015625 -0.09375 0.109375 -1.328125 0.109375 -2.46875 C 0.109375 -3.6875 -1.15625 -4.3125 -1.34375 -4.3125 Z M -2.84375 -3.484375 L -2.84375 -1.296875 C -4.15625 -1.34375 -4.25 -2.015625 -4.25 -2.359375 C -4.25 -3.375 -3.0625 -3.296875 -2.84375 -3.296875 Z M -2.84375 -3.484375 \"/>\n</symbol>\n<symbol overflow=\"visible\" id=\"glyph-1567442442225005-3-4\">\n<path style=\"stroke:none;\" d=\"M -3.953125 -3.796875 C -4.28125 -3.796875 -4.734375 -3.3125 -4.734375 -2.890625 C -4.734375 -2.15625 -3.890625 -1.625 -3.46875 -1.484375 L -3.46875 -1.828125 L -4.75 -1.828125 L -4.609375 -0.09375 L -3.984375 -0.09375 C -3.984375 -0.984375 -4.078125 -0.875 -3.59375 -0.875 L -0.921875 -0.875 C -0.46875 -0.875 -0.640625 -0.953125 -0.640625 -0.09375 L 0.015625 -0.09375 L -0.03125 -1.421875 C -0.03125 -1.8125 -0.03125 -2.28125 0.015625 -2.84375 L -0.640625 -2.84375 L -0.640625 -2.46875 C -0.640625 -1.734375 -0.578125 -1.890625 -0.9375 -1.890625 L -2.46875 -1.890625 C -3.453125 -1.890625 -4.1875 -2.140625 -4.1875 -2.890625 C -4.1875 -2.953125 -4.234375 -2.84375 -4.234375 -2.875 L -4.5 -3 C -4.5 -2.96875 -4.203125 -2.59375 -3.953125 -2.59375 C -3.671875 -2.59375 -3.359375 -2.984375 -3.359375 -3.203125 C -3.359375 -3.375 -3.640625 -3.796875 -3.953125 -3.796875 Z M -3.953125 -3.796875 \"/>\n</symbol>\n<symbol overflow=\"visible\" id=\"glyph-1567442442225005-3-5\">\n<path style=\"stroke:none;\" d=\"M -1.046875 -4.984375 L -1.78125 -4.984375 L -1.78125 -4.390625 L -1.046875 -4.390625 C -0.46875 -4.390625 -0.578125 -4.3125 -0.578125 -4.203125 C -0.578125 -3.875 -0.859375 -4 -0.90625 -4 L -2.90625 -4 C -3.3125 -4 -3.828125 -3.953125 -4.203125 -3.59375 C -4.578125 -3.203125 -4.796875 -2.59375 -4.796875 -2.109375 C -4.796875 -1.296875 -4.15625 -0.421875 -3.5 -0.421875 C -3.203125 -0.421875 -2.875 -0.8125 -2.875 -1.0625 C -2.875 -1.34375 -3.234375 -1.6875 -3.484375 -1.6875 C -3.609375 -1.6875 -4.109375 -1.46875 -4.109375 -1.34375 C -4.1875 -1.40625 -4.25 -1.78125 -4.25 -2.09375 C -4.25 -2.578125 -4.015625 -2.96875 -3.125 -2.96875 L -2.921875 -2.96875 C -2.90625 -2.640625 -2.875 -1.9375 -2.578125 -1.3125 C -2.234375 -0.5625 -1.546875 -0.140625 -1.109375 -0.140625 C -0.296875 -0.140625 0.109375 -1.28125 0.109375 -1.90625 C 0.109375 -2.578125 -0.453125 -3.203125 -0.921875 -3.390625 L -0.921875 -3.046875 C -0.515625 -3.078125 0.0625 -3.53125 0.0625 -4 C 0.0625 -4.203125 -0.234375 -4.984375 -1.046875 -4.984375 Z M -1.5625 -2.96875 C -0.609375 -2.96875 -0.4375 -2.4375 -0.4375 -1.984375 C -0.4375 -1.5 -0.625 -1.25 -1.109375 -1.25 C -1.671875 -1.25 -2.328125 -1.5 -2.375 -2.96875 Z M -1.5625 -2.96875 \"/>\n</symbol>\n<symbol overflow=\"visible\" id=\"glyph-1567442442225005-3-6\">\n<path style=\"stroke:none;\" d=\"M -4.1875 -5 C -4.359375 -5 -4.84375 -4.71875 -4.84375 -4.328125 C -4.84375 -4.125 -4.734375 -3.5625 -4.4375 -3.25 C -4.65625 -2.96875 -4.734375 -2.4375 -4.734375 -2.21875 C -4.734375 -1.28125 -3.875 -0.421875 -3.109375 -0.421875 C -2.671875 -0.421875 -2.1875 -0.6875 -2.078125 -0.8125 C -2.046875 -0.8125 -1.609375 -0.578125 -1.25 -0.578125 C -0.953125 -0.578125 -0.453125 -0.75 -0.421875 -0.796875 C -0.375 -0.59375 0.234375 -0.09375 0.625 -0.09375 C 1.34375 -0.09375 2.046875 -1.265625 2.046875 -2.484375 C 2.046875 -3.65625 1.390625 -4.859375 0.609375 -4.859375 C 0.265625 -4.859375 -0.375 -4.671875 -0.640625 -4.171875 C -0.921875 -3.640625 -0.984375 -2.9375 -0.984375 -2.328125 C -0.984375 -2.078125 -0.984375 -1.65625 -0.984375 -1.578125 C -1.03125 -1.265625 -1.171875 -1.21875 -1.484375 -1.21875 C -1.53125 -1.21875 -1.640625 -1.171875 -1.734375 -1.25 C -1.5625 -1.484375 -1.484375 -2.03125 -1.484375 -2.21875 C -1.484375 -3.140625 -2.328125 -4 -3.09375 -4 C -3.46875 -4 -3.953125 -3.78125 -4.078125 -3.671875 C -4.296875 -3.890625 -4.296875 -4.140625 -4.296875 -4.3125 L -4.34375 -4.4375 C -4.34375 -4.4375 -4.296875 -4.390625 -4.28125 -4.421875 L -4.609375 -4.421875 C -4.578125 -4.3125 -4.296875 -4.078125 -4.171875 -4.078125 C -4 -4.078125 -3.734375 -4.390625 -3.734375 -4.546875 C -3.734375 -4.640625 -3.953125 -5 -4.1875 -5 Z M -3.109375 -2.90625 C -2.84375 -2.90625 -2.640625 -2.9375 -2.390625 -2.796875 C -2.265625 -2.71875 -2.046875 -2.609375 -2.046875 -2.21875 C -2.046875 -1.34375 -2.875 -1.515625 -3.09375 -1.515625 C -3.375 -1.515625 -3.578125 -1.46875 -3.828125 -1.625 C -3.953125 -1.703125 -4.171875 -1.8125 -4.171875 -2.21875 C -4.171875 -3.078125 -3.34375 -2.90625 -3.109375 -2.90625 Z M 0.625 -4 C 1.171875 -4 1.5 -3.46875 1.5 -2.5 C 1.5 -1.484375 1.15625 -0.96875 0.625 -0.96875 C 0.171875 -0.96875 -0.046875 -1.171875 -0.0625 -1.609375 L -0.0625 -2.203125 C -0.0625 -3.0625 -0.234375 -4 0.625 -4 Z M 0.625 -4 \"/>\n</symbol>\n<symbol overflow=\"visible\" id=\"glyph-1567442442225005-3-7\">\n<path style=\"stroke:none;\" d=\"M -1.4375 -3.765625 C -1.96875 -3.765625 -2.375 -3.40625 -2.5 -3.296875 C -2.828125 -2.953125 -2.953125 -2.453125 -3.03125 -2.03125 C -3.140625 -1.46875 -3.09375 -0.984375 -3.671875 -0.984375 C -4.03125 -0.984375 -4.28125 -1.0625 -4.28125 -1.921875 C -4.28125 -3.015625 -3.53125 -2.890625 -3.234375 -2.90625 C -3.140625 -2.921875 -3.03125 -3.328125 -3.03125 -3.328125 L -2.984375 -3.203125 C -2.984375 -3.34375 -3.1875 -3.515625 -3.375 -3.515625 L -4.390625 -3.515625 C -4.5625 -3.515625 -4.796875 -3.34375 -4.796875 -3.234375 C -4.796875 -3.1875 -4.75 -3.03125 -4.625 -2.90625 C -4.578125 -2.875 -4.5 -2.765625 -4.5625 -2.84375 C -4.75 -2.609375 -4.796875 -2.078125 -4.796875 -1.921875 C -4.796875 -0.703125 -3.953125 -0.15625 -3.40625 -0.15625 C -3.046875 -0.15625 -2.65625 -0.359375 -2.4375 -0.625 C -2.1875 -0.953125 -2.078125 -1.359375 -1.9375 -2.078125 C -1.890625 -2.296875 -1.890625 -2.9375 -1.171875 -2.9375 C -0.671875 -2.9375 -0.4375 -2.765625 -0.4375 -1.984375 C -0.4375 -1.140625 -0.84375 -0.953125 -1.6875 -0.765625 C -1.8125 -0.734375 -2.03125 -0.5625 -2.03125 -0.453125 C -2.03125 -0.328125 -1.78125 -0.15625 -1.609375 -0.15625 L -0.296875 -0.15625 C -0.125 -0.15625 0.109375 -0.328125 0.109375 -0.4375 C 0.109375 -0.484375 0.046875 -0.625 -0.140625 -0.8125 C -0.15625 -0.828125 -0.171875 -0.828125 -0.234375 -0.890625 C 0.046875 -1.203125 0.109375 -1.78125 0.109375 -1.984375 C 0.109375 -3.125 -0.71875 -3.765625 -1.4375 -3.765625 Z M -1.4375 -3.765625 \"/>\n</symbol>\n<symbol overflow=\"visible\" id=\"glyph-1567442442225005-3-8\">\n<path style=\"stroke:none;\" d=\"M -0.15625 -5.5 L -0.640625 -5.5 C -0.640625 -4.640625 -0.53125 -4.71875 -1.03125 -4.71875 L -4.75 -4.71875 L -4.609375 -2.90625 L -3.984375 -2.90625 C -3.984375 -3.78125 -4.078125 -3.6875 -3.59375 -3.6875 L -1.8125 -3.6875 C -0.953125 -3.6875 -0.4375 -3.390625 -0.4375 -2.65625 C -0.4375 -1.828125 -0.734375 -1.953125 -1.25 -1.953125 L -4.75 -1.953125 L -4.609375 -0.140625 L -3.984375 -0.140625 C -3.984375 -1.09375 -4.109375 -0.921875 -3.234375 -0.921875 L -1.734375 -0.921875 C -0.953125 -0.921875 0.109375 -1.09375 0.109375 -2.609375 C 0.109375 -3.171875 -0.328125 -3.78125 -0.953125 -4.0625 L -0.953125 -3.71875 L 0.125 -3.71875 L -0.015625 -5.5 Z M -0.15625 -5.5 \"/>\n</symbol>\n<symbol overflow=\"visible\" id=\"glyph-1567442442225005-3-9\">\n<path style=\"stroke:none;\" d=\"M -1.34375 -4.3125 C -1.453125 -4.3125 -1.609375 -4.03125 -1.609375 -4 C -1.609375 -3.921875 -1.40625 -3.71875 -1.34375 -3.703125 C -0.421875 -3.40625 -0.46875 -2.9375 -0.46875 -2.578125 C -0.46875 -2.046875 -0.734375 -1.328125 -2.328125 -1.328125 C -3.953125 -1.328125 -4.21875 -1.984375 -4.21875 -2.515625 C -4.21875 -2.609375 -4.25 -3.09375 -4.15625 -3.203125 C -4.140625 -3.171875 -3.671875 -2.9375 -3.546875 -2.9375 C -3.296875 -2.9375 -2.9375 -3.296875 -2.9375 -3.5625 C -2.9375 -3.828125 -3.265625 -4.203125 -3.5625 -4.203125 C -4.234375 -4.203125 -4.796875 -3.265625 -4.796875 -2.5 C -4.796875 -1.25 -3.546875 -0.15625 -2.3125 -0.15625 C -1.03125 -0.15625 0.109375 -1.328125 0.109375 -2.484375 C 0.109375 -3.8125 -1.25 -4.3125 -1.34375 -4.3125 Z M -1.34375 -4.3125 \"/>\n</symbol>\n</g>\n<clipPath id=\"clip-1567442442225005-1\">\n  <path d=\"M 35.597656 49 L 229.871094 49 L 229.871094 138 L 35.597656 138 Z M 35.597656 49 \"/>\n</clipPath>\n<clipPath id=\"clip-1567442442225005-2\">\n  <path d=\"M 35.597656 21 L 229.871094 21 L 229.871094 105 L 35.597656 105 Z M 35.597656 21 \"/>\n</clipPath>\n<clipPath id=\"clip-1567442442225005-3\">\n  <path d=\"M 35.597656 25 L 229.871094 25 L 229.871094 167.925781 L 35.597656 167.925781 Z M 35.597656 25 \"/>\n</clipPath>\n</defs>\n<g id=\"surface1\">\n<path style=\"fill:none;stroke-width:0.19925;stroke-linecap:butt;stroke-linejoin:miter;stroke:rgb(50%,50%,50%);stroke-opacity:1;stroke-miterlimit:10;\" d=\"M 0.00165625 -0.00078125 L 0.00165625 4.253125 M 38.853219 -0.00078125 L 38.853219 4.253125 M 77.708687 -0.00078125 L 77.708687 4.253125 M 116.564156 -0.00078125 L 116.564156 4.253125 M 155.419625 -0.00078125 L 155.419625 4.253125 M 194.275094 -0.00078125 L 194.275094 4.253125 M 0.00165625 161.397656 L 0.00165625 157.14375 M 38.853219 161.397656 L 38.853219 157.14375 M 77.708687 161.397656 L 77.708687 157.14375 M 116.564156 161.397656 L 116.564156 157.14375 M 155.419625 161.397656 L 155.419625 157.14375 M 194.275094 161.397656 L 194.275094 157.14375 \" transform=\"matrix(1,0,0,-1,35.596,167.925)\"/>\n<path style=\"fill:none;stroke-width:0.19925;stroke-linecap:butt;stroke-linejoin:miter;stroke:rgb(50%,50%,50%);stroke-opacity:1;stroke-miterlimit:10;\" d=\"M 0.00165625 -0.00078125 L 4.251656 -0.00078125 M 0.00165625 32.280469 L 4.251656 32.280469 M 0.00165625 64.557813 L 4.251656 64.557813 M 0.00165625 96.839063 L 4.251656 96.839063 M 0.00165625 129.116406 L 4.251656 129.116406 M 0.00165625 161.397656 L 4.251656 161.397656 M 194.275094 -0.00078125 L 190.021188 -0.00078125 M 194.275094 32.280469 L 190.021188 32.280469 M 194.275094 64.557813 L 190.021188 64.557813 M 194.275094 96.839063 L 190.021188 96.839063 M 194.275094 129.116406 L 190.021188 129.116406 M 194.275094 161.397656 L 190.021188 161.397656 \" transform=\"matrix(1,0,0,-1,35.596,167.925)\"/>\n<path style=\"fill:none;stroke-width:0.3985;stroke-linecap:butt;stroke-linejoin:miter;stroke:rgb(0%,0%,0%);stroke-opacity:1;stroke-miterlimit:10;\" d=\"M 0.00165625 -0.00078125 L 0.00165625 161.397656 L 194.275094 161.397656 L 194.275094 -0.00078125 Z M 0.00165625 -0.00078125 \" transform=\"matrix(1,0,0,-1,35.596,167.925)\"/>\n<g style=\"fill:rgb(0%,0%,0%);fill-opacity:1;\">\n  <use xlink:href=\"#glyph-1567442442225005-0-1\" x=\"33.106\" y=\"177.866\"/>\n</g>\n<g style=\"fill:rgb(0%,0%,0%);fill-opacity:1;\">\n  <use xlink:href=\"#glyph-1567442442225005-0-2\" x=\"69.469\" y=\"177.866\"/>\n  <use xlink:href=\"#glyph-1567442442225005-0-1\" x=\"74.45032\" y=\"177.866\"/>\n</g>\n<g style=\"fill:rgb(0%,0%,0%);fill-opacity:1;\">\n  <use xlink:href=\"#glyph-1567442442225005-0-3\" x=\"108.323\" y=\"177.866\"/>\n  <use xlink:href=\"#glyph-1567442442225005-0-1\" x=\"113.30432\" y=\"177.866\"/>\n</g>\n<g style=\"fill:rgb(0%,0%,0%);fill-opacity:1;\">\n  <use xlink:href=\"#glyph-1567442442225005-0-4\" x=\"147.178\" y=\"177.866\"/>\n  <use xlink:href=\"#glyph-1567442442225005-0-1\" x=\"152.15932\" y=\"177.866\"/>\n</g>\n<g style=\"fill:rgb(0%,0%,0%);fill-opacity:1;\">\n  <use xlink:href=\"#glyph-1567442442225005-0-5\" x=\"186.032\" y=\"177.866\"/>\n  <use xlink:href=\"#glyph-1567442442225005-0-1\" x=\"191.01332\" y=\"177.866\"/>\n</g>\n<g style=\"fill:rgb(0%,0%,0%);fill-opacity:1;\">\n  <use xlink:href=\"#glyph-1567442442225005-0-6\" x=\"224.886\" y=\"177.866\"/>\n  <use xlink:href=\"#glyph-1567442442225005-0-1\" x=\"229.86732\" y=\"177.866\"/>\n</g>\n<g style=\"fill:rgb(0%,0%,0%);fill-opacity:1;\">\n  <use xlink:href=\"#glyph-1567442442225005-0-1\" x=\"27.095\" y=\"171.136\"/>\n</g>\n<g style=\"fill:rgb(0%,0%,0%);fill-opacity:1;\">\n  <use xlink:href=\"#glyph-1567442442225005-0-1\" x=\"19.346\" y=\"138.857\"/>\n</g>\n<g style=\"fill:rgb(0%,0%,0%);fill-opacity:1;\">\n  <use xlink:href=\"#glyph-1567442442225005-1-1\" x=\"24.328\" y=\"138.857\"/>\n</g>\n<g style=\"fill:rgb(0%,0%,0%);fill-opacity:1;\">\n  <use xlink:href=\"#glyph-1567442442225005-0-3\" x=\"27.095\" y=\"138.857\"/>\n</g>\n<g style=\"fill:rgb(0%,0%,0%);fill-opacity:1;\">\n  <use xlink:href=\"#glyph-1567442442225005-0-1\" x=\"19.346\" y=\"106.578\"/>\n</g>\n<g style=\"fill:rgb(0%,0%,0%);fill-opacity:1;\">\n  <use xlink:href=\"#glyph-1567442442225005-1-1\" x=\"24.328\" y=\"106.578\"/>\n</g>\n<g style=\"fill:rgb(0%,0%,0%);fill-opacity:1;\">\n  <use xlink:href=\"#glyph-1567442442225005-0-5\" x=\"27.095\" y=\"106.578\"/>\n</g>\n<g style=\"fill:rgb(0%,0%,0%);fill-opacity:1;\">\n  <use xlink:href=\"#glyph-1567442442225005-0-1\" x=\"19.346\" y=\"74.299\"/>\n</g>\n<g style=\"fill:rgb(0%,0%,0%);fill-opacity:1;\">\n  <use xlink:href=\"#glyph-1567442442225005-1-1\" x=\"24.328\" y=\"74.299\"/>\n</g>\n<g style=\"fill:rgb(0%,0%,0%);fill-opacity:1;\">\n  <use xlink:href=\"#glyph-1567442442225005-0-7\" x=\"27.095\" y=\"74.299\"/>\n</g>\n<g style=\"fill:rgb(0%,0%,0%);fill-opacity:1;\">\n  <use xlink:href=\"#glyph-1567442442225005-0-1\" x=\"19.346\" y=\"42.02\"/>\n</g>\n<g style=\"fill:rgb(0%,0%,0%);fill-opacity:1;\">\n  <use xlink:href=\"#glyph-1567442442225005-1-1\" x=\"24.328\" y=\"42.02\"/>\n</g>\n<g style=\"fill:rgb(0%,0%,0%);fill-opacity:1;\">\n  <use xlink:href=\"#glyph-1567442442225005-0-8\" x=\"27.095\" y=\"42.02\"/>\n</g>\n<g style=\"fill:rgb(0%,0%,0%);fill-opacity:1;\">\n  <use xlink:href=\"#glyph-1567442442225005-0-2\" x=\"27.095\" y=\"9.741\"/>\n</g>\n<g clip-path=\"url(#clip-1567442442225005-1)\" clip-rule=\"nonzero\">\n<path style=\"fill:none;stroke-width:1.19553;stroke-linecap:butt;stroke-linejoin:miter;stroke:rgb(0%,0%,100%);stroke-opacity:1;stroke-miterlimit:10;\" d=\"M 3.884469 47.128125 L 7.771187 55.842969 L 11.657906 63.374219 L 15.540719 68.432813 L 19.427437 72.241406 L 23.314156 74.780469 L 27.196969 77.194531 L 31.083687 79.307813 L 34.970406 81.432813 L 38.853219 83.135938 L 42.739937 84.323438 L 46.626656 85.471875 L 50.509469 86.432813 L 54.396187 87.464063 L 58.282906 88.389844 L 62.165719 89.39375 L 66.052437 90.342969 L 69.939156 91.038281 L 73.825875 91.827344 L 77.708687 92.538281 L 81.595406 93.202344 L 85.482125 93.647656 L 89.364937 94.194531 L 93.251656 94.503125 L 97.138375 94.850781 L 101.021188 95.210156 L 104.907906 95.624219 L 108.794625 95.897656 L 112.677438 96.288281 L 116.564156 96.745313 L 120.450875 97.108594 L 124.333688 97.3625 L 128.220406 97.659375 L 132.107125 97.921094 L 135.989938 98.264844 L 139.876656 98.51875 L 143.763375 98.764844 L 147.650094 99.085156 L 151.532906 99.374219 L 155.419625 99.686719 L 159.306344 99.874219 L 163.189156 100.100781 L 167.075875 100.292188 L 170.962594 100.495313 L 174.845406 100.745313 L 178.732125 100.885938 L 182.618844 101.007031 L 186.501656 101.135938 L 190.388375 101.397656 L 194.275094 101.542188 \" transform=\"matrix(1,0,0,-1,35.596,167.925)\"/>\n</g>\n<g clip-path=\"url(#clip-1567442442225005-2)\" clip-rule=\"nonzero\">\n<path style=\"fill:none;stroke-width:1.19553;stroke-linecap:butt;stroke-linejoin:miter;stroke:rgb(100%,0%,0%);stroke-opacity:1;stroke-miterlimit:10;\" d=\"M 3.884469 79.889844 L 7.771187 85.944531 L 11.657906 92.05 L 15.540719 96.596875 L 19.427437 99.678906 L 23.314156 102.4875 L 27.196969 105.370313 L 31.083687 107.428906 L 34.970406 109.444531 L 38.853219 110.944531 L 42.739937 112.1125 L 46.626656 113.460156 L 50.509469 114.667188 L 54.396187 115.698438 L 58.282906 116.690625 L 62.165719 117.616406 L 66.052437 118.45625 L 69.939156 119.135938 L 73.825875 119.714063 L 77.708687 120.198438 L 81.595406 120.8 L 85.482125 121.405469 L 89.364937 121.811719 L 93.251656 122.272656 L 97.138375 122.776563 L 101.021188 123.20625 L 104.907906 123.604688 L 108.794625 124.124219 L 112.677438 124.51875 L 116.564156 124.823438 L 120.450875 125.198438 L 124.333688 125.342969 L 128.220406 125.651563 L 132.107125 125.95625 L 135.989938 126.229688 L 139.876656 126.534375 L 143.763375 126.815625 L 147.650094 127.167188 L 151.532906 127.491406 L 155.419625 127.667188 L 159.306344 127.870313 L 163.189156 128.1125 L 167.075875 128.276563 L 170.962594 128.460156 L 174.845406 128.624219 L 178.732125 128.835156 L 182.618844 129.034375 L 186.501656 129.229688 L 190.388375 129.382031 L 194.275094 129.510938 \" transform=\"matrix(1,0,0,-1,35.596,167.925)\"/>\n</g>\n<g clip-path=\"url(#clip-1567442442225005-3)\" clip-rule=\"nonzero\">\n<path style=\"fill:none;stroke-width:1.19553;stroke-linecap:butt;stroke-linejoin:miter;stroke:rgb(44.999695%,29.998779%,14.99939%);stroke-opacity:1;stroke-miterlimit:10;\" d=\"M 3.884469 15.655469 L 7.771187 29.616406 L 11.657906 41.8 L 15.540719 54.553906 L 19.427437 64.139844 L 23.314156 70.827344 L 27.196969 76.385938 L 31.083687 81.120313 L 34.970406 85.413281 L 38.853219 89.073438 L 42.739937 92.553906 L 46.626656 95.491406 L 50.509469 97.905469 L 54.396187 99.858594 L 58.282906 101.842969 L 62.165719 103.464063 L 66.052437 105.194531 L 69.939156 106.530469 L 73.825875 107.7375 L 77.708687 109.038281 L 81.595406 110.155469 L 85.482125 111.354688 L 89.364937 112.311719 L 93.251656 113.225781 L 97.138375 114.108594 L 101.021188 114.932813 L 104.907906 115.495313 L 108.794625 116.229688 L 112.677438 116.823438 L 116.564156 117.479688 L 120.450875 118.069531 L 124.333688 118.686719 L 128.220406 119.163281 L 132.107125 119.632031 L 135.989938 120.171094 L 139.876656 120.64375 L 143.763375 121.057813 L 147.650094 121.467969 L 151.532906 121.921094 L 155.419625 122.327344 L 159.306344 122.717969 L 163.189156 123.046094 L 167.075875 123.303906 L 170.962594 123.585156 L 174.845406 123.897656 L 178.732125 124.132031 L 182.618844 124.358594 L 186.501656 124.589063 L 190.388375 124.878125 L 194.275094 125.155469 \" transform=\"matrix(1,0,0,-1,35.596,167.925)\"/>\n</g>\n<g style=\"fill:rgb(0%,0%,0%);fill-opacity:1;\">\n  <use xlink:href=\"#glyph-1567442442225005-2-1\" x=\"121.838\" y=\"191.62\"/>\n  <use xlink:href=\"#glyph-1567442442225005-2-2\" x=\"128.622558\" y=\"191.62\"/>\n  <use xlink:href=\"#glyph-1567442442225005-2-3\" x=\"134.161786\" y=\"191.62\"/>\n  <use xlink:href=\"#glyph-1567442442225005-2-3\" x=\"136.9314\" y=\"191.62\"/>\n  <use xlink:href=\"#glyph-1567442442225005-2-4\" x=\"139.701014\" y=\"191.62\"/>\n</g>\n<g style=\"fill:rgb(0%,0%,0%);fill-opacity:1;\">\n  <use xlink:href=\"#glyph-1567442442225005-3-1\" x=\"10.454\" y=\"121.211\"/>\n</g>\n<g style=\"fill:rgb(0%,0%,0%);fill-opacity:1;\">\n  <use xlink:href=\"#glyph-1567442442225005-3-2\" x=\"10.454\" y=\"114.844873\"/>\n</g>\n<g style=\"fill:rgb(0%,0%,0%);fill-opacity:1;\">\n  <use xlink:href=\"#glyph-1567442442225005-3-3\" x=\"10.454\" y=\"109.863553\"/>\n  <use xlink:href=\"#glyph-1567442442225005-3-4\" x=\"10.454\" y=\"105.440141\"/>\n  <use xlink:href=\"#glyph-1567442442225005-3-5\" x=\"10.454\" y=\"101.534786\"/>\n  <use xlink:href=\"#glyph-1567442442225005-3-6\" x=\"10.454\" y=\"96.553466\"/>\n  <use xlink:href=\"#glyph-1567442442225005-3-3\" x=\"10.454\" y=\"91.572146\"/>\n</g>\n<g style=\"fill:rgb(0%,0%,0%);fill-opacity:1;\">\n  <use xlink:href=\"#glyph-1567442442225005-3-7\" x=\"10.454\" y=\"83.831175\"/>\n  <use xlink:href=\"#glyph-1567442442225005-3-8\" x=\"10.454\" y=\"79.905895\"/>\n  <use xlink:href=\"#glyph-1567442442225005-3-9\" x=\"10.454\" y=\"74.366667\"/>\n  <use xlink:href=\"#glyph-1567442442225005-3-9\" x=\"10.454\" y=\"69.943255\"/>\n  <use xlink:href=\"#glyph-1567442442225005-3-3\" x=\"10.454\" y=\"65.519842\"/>\n  <use xlink:href=\"#glyph-1567442442225005-3-7\" x=\"10.454\" y=\"61.09643\"/>\n  <use xlink:href=\"#glyph-1567442442225005-3-7\" x=\"10.454\" y=\"57.17115\"/>\n</g>\n<path style=\"fill-rule:nonzero;fill:rgb(100%,100%,100%);fill-opacity:1;stroke-width:0.3985;stroke-linecap:butt;stroke-linejoin:miter;stroke:rgb(0%,0%,0%);stroke-opacity:1;stroke-miterlimit:10;\" d=\"M 114.3415 5.042188 L 188.24775 5.042188 L 188.24775 46.315625 L 114.3415 46.315625 Z M 114.3415 5.042188 \" transform=\"matrix(1,0,0,-1,35.596,167.925)\"/>\n<path style=\"fill:none;stroke-width:1.19553;stroke-linecap:butt;stroke-linejoin:miter;stroke:rgb(0%,0%,100%);stroke-opacity:1;stroke-miterlimit:10;\" d=\"M 0.0014375 -0.00178125 L 17.00925 -0.00178125 \" transform=\"matrix(1,0,0,-1,153.522,129.799)\"/>\n<g style=\"fill:rgb(0%,0%,0%);fill-opacity:1;\">\n  <use xlink:href=\"#glyph-1567442442225005-2-5\" x=\"173.12\" y=\"132.509\"/>\n  <use xlink:href=\"#glyph-1567442442225005-2-6\" x=\"177.543412\" y=\"132.509\"/>\n  <use xlink:href=\"#glyph-1567442442225005-2-4\" x=\"183.08264\" y=\"132.509\"/>\n</g>\n<g style=\"fill:rgb(0%,0%,0%);fill-opacity:1;\">\n  <use xlink:href=\"#glyph-1567442442225005-2-7\" x=\"190.325479\" y=\"132.509\"/>\n  <use xlink:href=\"#glyph-1567442442225005-2-8\" x=\"195.306799\" y=\"132.509\"/>\n  <use xlink:href=\"#glyph-1567442442225005-2-5\" x=\"199.212154\" y=\"132.509\"/>\n  <use xlink:href=\"#glyph-1567442442225005-2-5\" x=\"203.635566\" y=\"132.509\"/>\n  <use xlink:href=\"#glyph-1567442442225005-2-9\" x=\"208.058978\" y=\"132.509\"/>\n  <use xlink:href=\"#glyph-1567442442225005-2-10\" x=\"213.598206\" y=\"132.509\"/>\n</g>\n<path style=\"fill:none;stroke-width:1.19553;stroke-linecap:butt;stroke-linejoin:miter;stroke:rgb(100%,0%,0%);stroke-opacity:1;stroke-miterlimit:10;\" d=\"M 0.0014375 0.00090625 L 17.00925 0.00090625 \" transform=\"matrix(1,0,0,-1,153.522,142.247)\"/>\n<g style=\"fill:rgb(0%,0%,0%);fill-opacity:1;\">\n  <use xlink:href=\"#glyph-1567442442225005-2-4\" x=\"173.12\" y=\"145.012\"/>\n  <use xlink:href=\"#glyph-1567442442225005-2-11\" x=\"177.04528\" y=\"145.012\"/>\n  <use xlink:href=\"#glyph-1567442442225005-2-12\" x=\"182.0266\" y=\"145.012\"/>\n  <use xlink:href=\"#glyph-1567442442225005-2-13\" x=\"185.075168\" y=\"145.012\"/>\n  <use xlink:href=\"#glyph-1567442442225005-2-14\" x=\"188.950635\" y=\"145.012\"/>\n  <use xlink:href=\"#glyph-1567442442225005-2-15\" x=\"197.249514\" y=\"145.012\"/>\n  <use xlink:href=\"#glyph-1567442442225005-2-16\" x=\"202.230834\" y=\"145.012\"/>\n</g>\n<path style=\"fill:none;stroke-width:1.19553;stroke-linecap:butt;stroke-linejoin:miter;stroke:rgb(44.999695%,29.998779%,14.99939%);stroke-opacity:1;stroke-miterlimit:10;\" d=\"M 0.0014375 -0.0003125 L 17.00925 -0.0003125 \" transform=\"matrix(1,0,0,-1,153.522,154.695)\"/>\n<g style=\"fill:rgb(0%,0%,0%);fill-opacity:1;\">\n  <use xlink:href=\"#glyph-1567442442225005-2-17\" x=\"173.12\" y=\"157.405\"/>\n  <use xlink:href=\"#glyph-1567442442225005-2-18\" x=\"175.889614\" y=\"157.405\"/>\n</g>\n<g style=\"fill:rgb(0%,0%,0%);fill-opacity:1;\">\n  <use xlink:href=\"#glyph-1567442442225005-2-13\" x=\"181.149888\" y=\"157.405\"/>\n  <use xlink:href=\"#glyph-1567442442225005-2-5\" x=\"185.025355\" y=\"157.405\"/>\n  <use xlink:href=\"#glyph-1567442442225005-2-8\" x=\"189.448767\" y=\"157.405\"/>\n  <use xlink:href=\"#glyph-1567442442225005-2-19\" x=\"193.354122\" y=\"157.405\"/>\n</g>\n<g style=\"fill:rgb(0%,0%,0%);fill-opacity:1;\">\n  <use xlink:href=\"#glyph-1567442442225005-2-15\" x=\"198.056488\" y=\"157.405\"/>\n  <use xlink:href=\"#glyph-1567442442225005-2-3\" x=\"203.037808\" y=\"157.405\"/>\n</g>\n</g>\n</svg>\n\n"
               },
               "type": "node"
              }
             ],
             "instanceArgs": {
              "namespace": "html",
              "tag": "div"
             },
             "nodeType": "DOM",
             "props": {
              "className": "interact-flex-row interact-widget"
             },
             "type": "node"
            }
           }
          },
          "systemjs_options": null
         },
         "nodeType": "Scope",
         "props": {},
         "type": "node"
        }
       ],
       "instanceArgs": {
        "namespace": "html",
        "tag": "div"
       },
       "nodeType": "DOM",
       "props": {},
       "type": "node"
      },
      "text/html": [
       "<div\n",
       "    class=\"webio-mountpoint\"\n",
       "    data-webio-mountpoint=\"548620482820126331\"\n",
       ">\n",
       "    <script>\n",
       "    if (window.require && require.defined && require.defined(\"nbextensions/webio-jupyter-notebook\")) {\n",
       "        console.log(\"Jupyter WebIO extension detected, not mounting.\");\n",
       "    } else if (window.WebIO) {\n",
       "        WebIO.mount(\n",
       "            document.querySelector('[data-webio-mountpoint=\"548620482820126331\"]'),\n",
       "            {\"props\":{},\"nodeType\":\"DOM\",\"type\":\"node\",\"instanceArgs\":{\"namespace\":\"html\",\"tag\":\"div\"},\"children\":[{\"props\":{\"className\":\"field interact-widget\"},\"nodeType\":\"DOM\",\"type\":\"node\",\"instanceArgs\":{\"namespace\":\"html\",\"tag\":\"div\"},\"children\":[{\"props\":{},\"nodeType\":\"Scope\",\"type\":\"node\",\"instanceArgs\":{\"imports\":{\"data\":[{\"name\":\"knockout\",\"type\":\"js\",\"url\":\"\\/assetserver\\/c20779c1e6a079277e91dddf7bd670ca92eea868-knockout.js\"},{\"name\":\"knockout_punches\",\"type\":\"js\",\"url\":\"\\/assetserver\\/5d0eeef6d78927a4d06f8ff08a99add46d138283-knockout_punches.js\"},{\"name\":null,\"type\":\"js\",\"url\":\"\\/assetserver\\/cb26fe9e57bb1abef82b7eb58e12f018a1428e64-all.js\"},{\"name\":null,\"type\":\"css\",\"url\":\"\\/assetserver\\/d5c3b0a1dece742679a111cbb2e6bd04a8ca0e64-style.css\"},{\"name\":null,\"type\":\"css\",\"url\":\"\\/assetserver\\/457039d154101dcb9f0c19c2735b1d6e2c611d84-bulma_confined.min.css\"}],\"type\":\"async_block\"},\"id\":\"14586342099903888509\",\"handlers\":{\"changes\":[\"(function (val){return (val!=this.model[\\\"changes\\\"]()) ? (this.valueFromJulia[\\\"changes\\\"]=true, this.model[\\\"changes\\\"](val)) : undefined})\"],\"index\":[\"(function (val){return (val!=this.model[\\\"index\\\"]()) ? (this.valueFromJulia[\\\"index\\\"]=true, this.model[\\\"index\\\"](val)) : undefined})\"]},\"systemjs_options\":null,\"mount_callbacks\":[\"function () {\\n    var handler = (function (ko, koPunches) {\\n    ko.punches.enableAll();\\n    ko.bindingHandlers.numericValue = {\\n        init: function(element, valueAccessor, allBindings, data, context) {\\n            var stringified = ko.observable(ko.unwrap(valueAccessor()));\\n            stringified.subscribe(function(value) {\\n                var val = parseFloat(value);\\n                if (!isNaN(val)) {\\n                    valueAccessor()(val);\\n                }\\n            });\\n            valueAccessor().subscribe(function(value) {\\n                var str = JSON.stringify(value);\\n                if ((str == \\\"0\\\") && ([\\\"-0\\\", \\\"-0.\\\"].indexOf(stringified()) >= 0))\\n                     return;\\n                 if ([\\\"null\\\", \\\"\\\"].indexOf(str) >= 0)\\n                     return;\\n                stringified(str);\\n            });\\n            ko.applyBindingsToNode(\\n                element,\\n                {\\n                    value: stringified,\\n                    valueUpdate: allBindings.get('valueUpdate'),\\n                },\\n                context,\\n            );\\n        }\\n    };\\n    var json_data = {\\\"formatted_vals\\\":[\\\"0.0\\\",\\\"0.1\\\",\\\"0.2\\\",\\\"0.3\\\",\\\"0.4\\\",\\\"0.5\\\",\\\"0.6\\\",\\\"0.7\\\",\\\"0.8\\\",\\\"0.9\\\",\\\"1.0\\\"],\\\"changes\\\":WebIO.getval({\\\"name\\\":\\\"changes\\\",\\\"scope\\\":\\\"14586342099903888509\\\",\\\"id\\\":\\\"ob_59\\\",\\\"type\\\":\\\"observable\\\"}),\\\"index\\\":WebIO.getval({\\\"name\\\":\\\"index\\\",\\\"scope\\\":\\\"14586342099903888509\\\",\\\"id\\\":\\\"ob_58\\\",\\\"type\\\":\\\"observable\\\"})};\\n    var self = this;\\n    function AppViewModel() {\\n        for (var key in json_data) {\\n            var el = json_data[key];\\n            this[key] = Array.isArray(el) ? ko.observableArray(el) : ko.observable(el);\\n        }\\n        \\n        [this[\\\"formatted_val\\\"]=ko.computed(    function(){\\n        return this.formatted_vals()[parseInt(this.index())-(1)];\\n    }\\n,this)]\\n        [this[\\\"changes\\\"].subscribe((function (val){!(this.valueFromJulia[\\\"changes\\\"]) ? (WebIO.setval({\\\"name\\\":\\\"changes\\\",\\\"scope\\\":\\\"14586342099903888509\\\",\\\"id\\\":\\\"ob_59\\\",\\\"type\\\":\\\"observable\\\"},val)) : undefined; return this.valueFromJulia[\\\"changes\\\"]=false}),self),this[\\\"index\\\"].subscribe((function (val){!(this.valueFromJulia[\\\"index\\\"]) ? (WebIO.setval({\\\"name\\\":\\\"index\\\",\\\"scope\\\":\\\"14586342099903888509\\\",\\\"id\\\":\\\"ob_58\\\",\\\"type\\\":\\\"observable\\\"},val)) : undefined; return this.valueFromJulia[\\\"index\\\"]=false}),self)]\\n        \\n    }\\n    self.model = new AppViewModel();\\n    self.valueFromJulia = {};\\n    for (var key in json_data) {\\n        self.valueFromJulia[key] = false;\\n    }\\n    ko.applyBindings(self.model, self.dom);\\n}\\n);\\n    (WebIO.importBlock({\\\"data\\\":[{\\\"name\\\":\\\"knockout\\\",\\\"type\\\":\\\"js\\\",\\\"url\\\":\\\"\\/assetserver\\/c20779c1e6a079277e91dddf7bd670ca92eea868-knockout.js\\\"},{\\\"name\\\":\\\"knockout_punches\\\",\\\"type\\\":\\\"js\\\",\\\"url\\\":\\\"\\/assetserver\\/5d0eeef6d78927a4d06f8ff08a99add46d138283-knockout_punches.js\\\"}],\\\"type\\\":\\\"async_block\\\"})).then((imports) => handler.apply(this, imports));\\n}\\n\"],\"observables\":{\"changes\":{\"sync\":false,\"id\":\"ob_59\",\"value\":0},\"index\":{\"sync\":true,\"id\":\"ob_58\",\"value\":6}}},\"children\":[{\"props\":{\"className\":\"interact-flex-row interact-widget\"},\"nodeType\":\"DOM\",\"type\":\"node\",\"instanceArgs\":{\"namespace\":\"html\",\"tag\":\"div\"},\"children\":[{\"props\":{\"className\":\"interact-flex-row-left\"},\"nodeType\":\"DOM\",\"type\":\"node\",\"instanceArgs\":{\"namespace\":\"html\",\"tag\":\"div\"},\"children\":[{\"props\":{\"className\":\"interact \",\"style\":{\"padding\":\"5px 10px 0px 10px\"}},\"nodeType\":\"DOM\",\"type\":\"node\",\"instanceArgs\":{\"namespace\":\"html\",\"tag\":\"label\"},\"children\":[\"epsgreedy\"]}]},{\"props\":{\"className\":\"interact-flex-row-center\"},\"nodeType\":\"DOM\",\"type\":\"node\",\"instanceArgs\":{\"namespace\":\"html\",\"tag\":\"div\"},\"children\":[{\"props\":{\"max\":11,\"min\":1,\"attributes\":{\"type\":\"range\",\"data-bind\":\"numericValue: index, valueUpdate: 'input', event: {change: function (){this.changes(this.changes()+1)}}\",\"orient\":\"horizontal\"},\"step\":1,\"className\":\"slider slider is-fullwidth\",\"style\":{}},\"nodeType\":\"DOM\",\"type\":\"node\",\"instanceArgs\":{\"namespace\":\"html\",\"tag\":\"input\"},\"children\":[]}]},{\"props\":{\"className\":\"interact-flex-row-right\"},\"nodeType\":\"DOM\",\"type\":\"node\",\"instanceArgs\":{\"namespace\":\"html\",\"tag\":\"div\"},\"children\":[{\"props\":{\"attributes\":{\"data-bind\":\"text: formatted_val\"}},\"nodeType\":\"DOM\",\"type\":\"node\",\"instanceArgs\":{\"namespace\":\"html\",\"tag\":\"p\"},\"children\":[]}]}]}]}]},{\"props\":{\"className\":\"field interact-widget\"},\"nodeType\":\"DOM\",\"type\":\"node\",\"instanceArgs\":{\"namespace\":\"html\",\"tag\":\"div\"},\"children\":[{\"props\":{},\"nodeType\":\"Scope\",\"type\":\"node\",\"instanceArgs\":{\"imports\":{\"data\":[{\"name\":\"knockout\",\"type\":\"js\",\"url\":\"\\/assetserver\\/c20779c1e6a079277e91dddf7bd670ca92eea868-knockout.js\"},{\"name\":\"knockout_punches\",\"type\":\"js\",\"url\":\"\\/assetserver\\/5d0eeef6d78927a4d06f8ff08a99add46d138283-knockout_punches.js\"},{\"name\":null,\"type\":\"js\",\"url\":\"\\/assetserver\\/cb26fe9e57bb1abef82b7eb58e12f018a1428e64-all.js\"},{\"name\":null,\"type\":\"css\",\"url\":\"\\/assetserver\\/d5c3b0a1dece742679a111cbb2e6bd04a8ca0e64-style.css\"},{\"name\":null,\"type\":\"css\",\"url\":\"\\/assetserver\\/457039d154101dcb9f0c19c2735b1d6e2c611d84-bulma_confined.min.css\"}],\"type\":\"async_block\"},\"id\":\"4790433905573750915\",\"handlers\":{\"changes\":[\"(function (val){return (val!=this.model[\\\"changes\\\"]()) ? (this.valueFromJulia[\\\"changes\\\"]=true, this.model[\\\"changes\\\"](val)) : undefined})\"],\"index\":[\"(function (val){return (val!=this.model[\\\"index\\\"]()) ? (this.valueFromJulia[\\\"index\\\"]=true, this.model[\\\"index\\\"](val)) : undefined})\"]},\"systemjs_options\":null,\"mount_callbacks\":[\"function () {\\n    var handler = (function (ko, koPunches) {\\n    ko.punches.enableAll();\\n    ko.bindingHandlers.numericValue = {\\n        init: function(element, valueAccessor, allBindings, data, context) {\\n            var stringified = ko.observable(ko.unwrap(valueAccessor()));\\n            stringified.subscribe(function(value) {\\n                var val = parseFloat(value);\\n                if (!isNaN(val)) {\\n                    valueAccessor()(val);\\n                }\\n            });\\n            valueAccessor().subscribe(function(value) {\\n                var str = JSON.stringify(value);\\n                if ((str == \\\"0\\\") && ([\\\"-0\\\", \\\"-0.\\\"].indexOf(stringified()) >= 0))\\n                     return;\\n                 if ([\\\"null\\\", \\\"\\\"].indexOf(str) >= 0)\\n                     return;\\n                stringified(str);\\n            });\\n            ko.applyBindingsToNode(\\n                element,\\n                {\\n                    value: stringified,\\n                    valueUpdate: allBindings.get('valueUpdate'),\\n                },\\n                context,\\n            );\\n        }\\n    };\\n    var json_data = {\\\"formatted_vals\\\":[\\\"0\\\",\\\"2\\\",\\\"4\\\",\\\"6\\\",\\\"8\\\",\\\"10\\\",\\\"12\\\",\\\"14\\\",\\\"16\\\",\\\"18\\\",\\\"20\\\",\\\"22\\\",\\\"24\\\",\\\"26\\\",\\\"28\\\",\\\"30\\\",\\\"32\\\",\\\"34\\\",\\\"36\\\",\\\"38\\\",\\\"40\\\"],\\\"changes\\\":WebIO.getval({\\\"name\\\":\\\"changes\\\",\\\"scope\\\":\\\"4790433905573750915\\\",\\\"id\\\":\\\"ob_62\\\",\\\"type\\\":\\\"observable\\\"}),\\\"index\\\":WebIO.getval({\\\"name\\\":\\\"index\\\",\\\"scope\\\":\\\"4790433905573750915\\\",\\\"id\\\":\\\"ob_61\\\",\\\"type\\\":\\\"observable\\\"})};\\n    var self = this;\\n    function AppViewModel() {\\n        for (var key in json_data) {\\n            var el = json_data[key];\\n            this[key] = Array.isArray(el) ? ko.observableArray(el) : ko.observable(el);\\n        }\\n        \\n        [this[\\\"formatted_val\\\"]=ko.computed(    function(){\\n        return this.formatted_vals()[parseInt(this.index())-(1)];\\n    }\\n,this)]\\n        [this[\\\"changes\\\"].subscribe((function (val){!(this.valueFromJulia[\\\"changes\\\"]) ? (WebIO.setval({\\\"name\\\":\\\"changes\\\",\\\"scope\\\":\\\"4790433905573750915\\\",\\\"id\\\":\\\"ob_62\\\",\\\"type\\\":\\\"observable\\\"},val)) : undefined; return this.valueFromJulia[\\\"changes\\\"]=false}),self),this[\\\"index\\\"].subscribe((function (val){!(this.valueFromJulia[\\\"index\\\"]) ? (WebIO.setval({\\\"name\\\":\\\"index\\\",\\\"scope\\\":\\\"4790433905573750915\\\",\\\"id\\\":\\\"ob_61\\\",\\\"type\\\":\\\"observable\\\"},val)) : undefined; return this.valueFromJulia[\\\"index\\\"]=false}),self)]\\n        \\n    }\\n    self.model = new AppViewModel();\\n    self.valueFromJulia = {};\\n    for (var key in json_data) {\\n        self.valueFromJulia[key] = false;\\n    }\\n    ko.applyBindings(self.model, self.dom);\\n}\\n);\\n    (WebIO.importBlock({\\\"data\\\":[{\\\"name\\\":\\\"knockout\\\",\\\"type\\\":\\\"js\\\",\\\"url\\\":\\\"\\/assetserver\\/c20779c1e6a079277e91dddf7bd670ca92eea868-knockout.js\\\"},{\\\"name\\\":\\\"knockout_punches\\\",\\\"type\\\":\\\"js\\\",\\\"url\\\":\\\"\\/assetserver\\/5d0eeef6d78927a4d06f8ff08a99add46d138283-knockout_punches.js\\\"}],\\\"type\\\":\\\"async_block\\\"})).then((imports) => handler.apply(this, imports));\\n}\\n\"],\"observables\":{\"changes\":{\"sync\":false,\"id\":\"ob_62\",\"value\":0},\"index\":{\"sync\":true,\"id\":\"ob_61\",\"value\":11}}},\"children\":[{\"props\":{\"className\":\"interact-flex-row interact-widget\"},\"nodeType\":\"DOM\",\"type\":\"node\",\"instanceArgs\":{\"namespace\":\"html\",\"tag\":\"div\"},\"children\":[{\"props\":{\"className\":\"interact-flex-row-left\"},\"nodeType\":\"DOM\",\"type\":\"node\",\"instanceArgs\":{\"namespace\":\"html\",\"tag\":\"div\"},\"children\":[{\"props\":{\"className\":\"interact \",\"style\":{\"padding\":\"5px 10px 0px 10px\"}},\"nodeType\":\"DOM\",\"type\":\"node\",\"instanceArgs\":{\"namespace\":\"html\",\"tag\":\"label\"},\"children\":[\"softmax\"]}]},{\"props\":{\"className\":\"interact-flex-row-center\"},\"nodeType\":\"DOM\",\"type\":\"node\",\"instanceArgs\":{\"namespace\":\"html\",\"tag\":\"div\"},\"children\":[{\"props\":{\"max\":21,\"min\":1,\"attributes\":{\"type\":\"range\",\"data-bind\":\"numericValue: index, valueUpdate: 'input', event: {change: function (){this.changes(this.changes()+1)}}\",\"orient\":\"horizontal\"},\"step\":1,\"className\":\"slider slider is-fullwidth\",\"style\":{}},\"nodeType\":\"DOM\",\"type\":\"node\",\"instanceArgs\":{\"namespace\":\"html\",\"tag\":\"input\"},\"children\":[]}]},{\"props\":{\"className\":\"interact-flex-row-right\"},\"nodeType\":\"DOM\",\"type\":\"node\",\"instanceArgs\":{\"namespace\":\"html\",\"tag\":\"div\"},\"children\":[{\"props\":{\"attributes\":{\"data-bind\":\"text: formatted_val\"}},\"nodeType\":\"DOM\",\"type\":\"node\",\"instanceArgs\":{\"namespace\":\"html\",\"tag\":\"p\"},\"children\":[]}]}]}]}]},{\"props\":{\"className\":\"field interact-widget\"},\"nodeType\":\"DOM\",\"type\":\"node\",\"instanceArgs\":{\"namespace\":\"html\",\"tag\":\"div\"},\"children\":[{\"props\":{},\"nodeType\":\"Scope\",\"type\":\"node\",\"instanceArgs\":{\"imports\":{\"data\":[{\"name\":\"knockout\",\"type\":\"js\",\"url\":\"\\/assetserver\\/c20779c1e6a079277e91dddf7bd670ca92eea868-knockout.js\"},{\"name\":\"knockout_punches\",\"type\":\"js\",\"url\":\"\\/assetserver\\/5d0eeef6d78927a4d06f8ff08a99add46d138283-knockout_punches.js\"},{\"name\":null,\"type\":\"js\",\"url\":\"\\/assetserver\\/cb26fe9e57bb1abef82b7eb58e12f018a1428e64-all.js\"},{\"name\":null,\"type\":\"css\",\"url\":\"\\/assetserver\\/d5c3b0a1dece742679a111cbb2e6bd04a8ca0e64-style.css\"},{\"name\":null,\"type\":\"css\",\"url\":\"\\/assetserver\\/457039d154101dcb9f0c19c2735b1d6e2c611d84-bulma_confined.min.css\"}],\"type\":\"async_block\"},\"id\":\"4006895676869635604\",\"handlers\":{\"changes\":[\"(function (val){return (val!=this.model[\\\"changes\\\"]()) ? (this.valueFromJulia[\\\"changes\\\"]=true, this.model[\\\"changes\\\"](val)) : undefined})\"],\"index\":[\"(function (val){return (val!=this.model[\\\"index\\\"]()) ? (this.valueFromJulia[\\\"index\\\"]=true, this.model[\\\"index\\\"](val)) : undefined})\"]},\"systemjs_options\":null,\"mount_callbacks\":[\"function () {\\n    var handler = (function (ko, koPunches) {\\n    ko.punches.enableAll();\\n    ko.bindingHandlers.numericValue = {\\n        init: function(element, valueAccessor, allBindings, data, context) {\\n            var stringified = ko.observable(ko.unwrap(valueAccessor()));\\n            stringified.subscribe(function(value) {\\n                var val = parseFloat(value);\\n                if (!isNaN(val)) {\\n                    valueAccessor()(val);\\n                }\\n            });\\n            valueAccessor().subscribe(function(value) {\\n                var str = JSON.stringify(value);\\n                if ((str == \\\"0\\\") && ([\\\"-0\\\", \\\"-0.\\\"].indexOf(stringified()) >= 0))\\n                     return;\\n                 if ([\\\"null\\\", \\\"\\\"].indexOf(str) >= 0)\\n                     return;\\n                stringified(str);\\n            });\\n            ko.applyBindingsToNode(\\n                element,\\n                {\\n                    value: stringified,\\n                    valueUpdate: allBindings.get('valueUpdate'),\\n                },\\n                context,\\n            );\\n        }\\n    };\\n    var json_data = {\\\"formatted_vals\\\":[\\\"0.5\\\",\\\"0.55\\\",\\\"0.6\\\",\\\"0.65\\\",\\\"0.7\\\",\\\"0.75\\\",\\\"0.8\\\",\\\"0.85\\\",\\\"0.9\\\",\\\"0.95\\\",\\\"1.0\\\"],\\\"changes\\\":WebIO.getval({\\\"name\\\":\\\"changes\\\",\\\"scope\\\":\\\"4006895676869635604\\\",\\\"id\\\":\\\"ob_65\\\",\\\"type\\\":\\\"observable\\\"}),\\\"index\\\":WebIO.getval({\\\"name\\\":\\\"index\\\",\\\"scope\\\":\\\"4006895676869635604\\\",\\\"id\\\":\\\"ob_64\\\",\\\"type\\\":\\\"observable\\\"})};\\n    var self = this;\\n    function AppViewModel() {\\n        for (var key in json_data) {\\n            var el = json_data[key];\\n            this[key] = Array.isArray(el) ? ko.observableArray(el) : ko.observable(el);\\n        }\\n        \\n        [this[\\\"formatted_val\\\"]=ko.computed(    function(){\\n        return this.formatted_vals()[parseInt(this.index())-(1)];\\n    }\\n,this)]\\n        [this[\\\"changes\\\"].subscribe((function (val){!(this.valueFromJulia[\\\"changes\\\"]) ? (WebIO.setval({\\\"name\\\":\\\"changes\\\",\\\"scope\\\":\\\"4006895676869635604\\\",\\\"id\\\":\\\"ob_65\\\",\\\"type\\\":\\\"observable\\\"},val)) : undefined; return this.valueFromJulia[\\\"changes\\\"]=false}),self),this[\\\"index\\\"].subscribe((function (val){!(this.valueFromJulia[\\\"index\\\"]) ? (WebIO.setval({\\\"name\\\":\\\"index\\\",\\\"scope\\\":\\\"4006895676869635604\\\",\\\"id\\\":\\\"ob_64\\\",\\\"type\\\":\\\"observable\\\"},val)) : undefined; return this.valueFromJulia[\\\"index\\\"]=false}),self)]\\n        \\n    }\\n    self.model = new AppViewModel();\\n    self.valueFromJulia = {};\\n    for (var key in json_data) {\\n        self.valueFromJulia[key] = false;\\n    }\\n    ko.applyBindings(self.model, self.dom);\\n}\\n);\\n    (WebIO.importBlock({\\\"data\\\":[{\\\"name\\\":\\\"knockout\\\",\\\"type\\\":\\\"js\\\",\\\"url\\\":\\\"\\/assetserver\\/c20779c1e6a079277e91dddf7bd670ca92eea868-knockout.js\\\"},{\\\"name\\\":\\\"knockout_punches\\\",\\\"type\\\":\\\"js\\\",\\\"url\\\":\\\"\\/assetserver\\/5d0eeef6d78927a4d06f8ff08a99add46d138283-knockout_punches.js\\\"}],\\\"type\\\":\\\"async_block\\\"})).then((imports) => handler.apply(this, imports));\\n}\\n\"],\"observables\":{\"changes\":{\"sync\":false,\"id\":\"ob_65\",\"value\":0},\"index\":{\"sync\":true,\"id\":\"ob_64\",\"value\":6}}},\"children\":[{\"props\":{\"className\":\"interact-flex-row interact-widget\"},\"nodeType\":\"DOM\",\"type\":\"node\",\"instanceArgs\":{\"namespace\":\"html\",\"tag\":\"div\"},\"children\":[{\"props\":{\"className\":\"interact-flex-row-left\"},\"nodeType\":\"DOM\",\"type\":\"node\",\"instanceArgs\":{\"namespace\":\"html\",\"tag\":\"div\"},\"children\":[{\"props\":{\"className\":\"interact \",\"style\":{\"padding\":\"5px 10px 0px 10px\"}},\"nodeType\":\"DOM\",\"type\":\"node\",\"instanceArgs\":{\"namespace\":\"html\",\"tag\":\"label\"},\"children\":[\"interval\"]}]},{\"props\":{\"className\":\"interact-flex-row-center\"},\"nodeType\":\"DOM\",\"type\":\"node\",\"instanceArgs\":{\"namespace\":\"html\",\"tag\":\"div\"},\"children\":[{\"props\":{\"max\":11,\"min\":1,\"attributes\":{\"type\":\"range\",\"data-bind\":\"numericValue: index, valueUpdate: 'input', event: {change: function (){this.changes(this.changes()+1)}}\",\"orient\":\"horizontal\"},\"step\":1,\"className\":\"slider slider is-fullwidth\",\"style\":{}},\"nodeType\":\"DOM\",\"type\":\"node\",\"instanceArgs\":{\"namespace\":\"html\",\"tag\":\"input\"},\"children\":[]}]},{\"props\":{\"className\":\"interact-flex-row-right\"},\"nodeType\":\"DOM\",\"type\":\"node\",\"instanceArgs\":{\"namespace\":\"html\",\"tag\":\"div\"},\"children\":[{\"props\":{\"attributes\":{\"data-bind\":\"text: formatted_val\"}},\"nodeType\":\"DOM\",\"type\":\"node\",\"instanceArgs\":{\"namespace\":\"html\",\"tag\":\"p\"},\"children\":[]}]}]}]}]},{\"props\":{},\"nodeType\":\"Scope\",\"type\":\"node\",\"instanceArgs\":{\"imports\":{\"data\":[],\"type\":\"async_block\"},\"id\":\"11867168616711183249\",\"handlers\":{},\"systemjs_options\":null,\"mount_callbacks\":[],\"observables\":{\"obs-node\":{\"sync\":false,\"id\":\"ob_69\",\"value\":{\"props\":{\"className\":\"interact-flex-row interact-widget\"},\"nodeType\":\"DOM\",\"type\":\"node\",\"instanceArgs\":{\"namespace\":\"html\",\"tag\":\"div\"},\"children\":[{\"props\":{\"setInnerHtml\":\"<?xml version=\\\"1.0\\\" encoding=\\\"UTF-8\\\"?>\\n<svg xmlns=\\\"http:\\/\\/www.w3.org\\/2000\\/svg\\\" xmlns:xlink=\\\"http:\\/\\/www.w3.org\\/1999\\/xlink\\\" width=\\\"238.169pt\\\" height=\\\"195.05pt\\\" viewBox=\\\"0 0 238.169 195.05\\\" version=\\\"1.1\\\">\\n<defs>\\n<g>\\n<symbol overflow=\\\"visible\\\" id=\\\"glyph-1567442442225004-0-0\\\">\\n<path style=\\\"stroke:none;\\\" d=\\\"\\\"\\/>\\n<\\/symbol>\\n<symbol overflow=\\\"visible\\\" id=\\\"glyph-1567442442225004-0-1\\\">\\n<path style=\\\"stroke:none;\\\" d=\\\"M 4.578125 -3.1875 C 4.578125 -3.984375 4.53125 -4.78125 4.1875 -5.515625 C 3.734375 -6.484375 2.90625 -6.640625 2.5 -6.640625 C 1.890625 -6.640625 1.171875 -6.375 0.75 -5.453125 C 0.4375 -4.765625 0.390625 -3.984375 0.390625 -3.1875 C 0.390625 -2.4375 0.421875 -1.546875 0.84375 -0.78125 C 1.265625 0.015625 2 0.21875 2.484375 0.21875 C 3.015625 0.21875 3.78125 0.015625 4.21875 -0.9375 C 4.53125 -1.625 4.578125 -2.40625 4.578125 -3.1875 Z M 2.484375 0 C 2.09375 0 1.5 -0.25 1.328125 -1.203125 C 1.21875 -1.796875 1.21875 -2.71875 1.21875 -3.3125 C 1.21875 -3.953125 1.21875 -4.609375 1.296875 -5.140625 C 1.484375 -6.328125 2.234375 -6.421875 2.484375 -6.421875 C 2.8125 -6.421875 3.46875 -6.234375 3.65625 -5.25 C 3.765625 -4.6875 3.765625 -3.9375 3.765625 -3.3125 C 3.765625 -2.5625 3.765625 -1.890625 3.65625 -1.25 C 3.5 -0.296875 2.9375 0 2.484375 0 Z M 2.484375 0 \\\"\\/>\\n<\\/symbol>\\n<symbol overflow=\\\"visible\\\" id=\\\"glyph-1567442442225004-0-2\\\">\\n<path style=\\\"stroke:none;\\\" d=\\\"M 2.9375 -6.375 C 2.9375 -6.625 2.9375 -6.640625 2.703125 -6.640625 C 2.078125 -6 1.203125 -6 0.890625 -6 L 0.890625 -5.6875 C 1.09375 -5.6875 1.671875 -5.6875 2.1875 -5.953125 L 2.1875 -0.78125 C 2.1875 -0.421875 2.15625 -0.3125 1.265625 -0.3125 L 0.953125 -0.3125 L 0.953125 0 C 1.296875 -0.03125 2.15625 -0.03125 2.5625 -0.03125 C 2.953125 -0.03125 3.828125 -0.03125 4.171875 0 L 4.171875 -0.3125 L 3.859375 -0.3125 C 2.953125 -0.3125 2.9375 -0.421875 2.9375 -0.78125 Z M 2.9375 -6.375 \\\"\\/>\\n<\\/symbol>\\n<symbol overflow=\\\"visible\\\" id=\\\"glyph-1567442442225004-0-3\\\">\\n<path style=\\\"stroke:none;\\\" d=\\\"M 1.265625 -0.765625 L 2.328125 -1.796875 C 3.875 -3.171875 4.46875 -3.703125 4.46875 -4.703125 C 4.46875 -5.84375 3.578125 -6.640625 2.359375 -6.640625 C 1.234375 -6.640625 0.5 -5.71875 0.5 -4.828125 C 0.5 -4.28125 1 -4.28125 1.03125 -4.28125 C 1.203125 -4.28125 1.546875 -4.390625 1.546875 -4.8125 C 1.546875 -5.0625 1.359375 -5.328125 1.015625 -5.328125 C 0.9375 -5.328125 0.921875 -5.328125 0.890625 -5.3125 C 1.109375 -5.96875 1.65625 -6.328125 2.234375 -6.328125 C 3.140625 -6.328125 3.5625 -5.515625 3.5625 -4.703125 C 3.5625 -3.90625 3.078125 -3.125 2.515625 -2.5 L 0.609375 -0.375 C 0.5 -0.265625 0.5 -0.234375 0.5 0 L 4.203125 0 L 4.46875 -1.734375 L 4.234375 -1.734375 C 4.171875 -1.4375 4.109375 -1 4 -0.84375 C 3.9375 -0.765625 3.28125 -0.765625 3.0625 -0.765625 Z M 1.265625 -0.765625 \\\"\\/>\\n<\\/symbol>\\n<symbol overflow=\\\"visible\\\" id=\\\"glyph-1567442442225004-0-4\\\">\\n<path style=\\\"stroke:none;\\\" d=\\\"M 2.890625 -3.515625 C 3.703125 -3.78125 4.28125 -4.46875 4.28125 -5.265625 C 4.28125 -6.078125 3.40625 -6.640625 2.453125 -6.640625 C 1.453125 -6.640625 0.6875 -6.046875 0.6875 -5.28125 C 0.6875 -4.953125 0.90625 -4.765625 1.203125 -4.765625 C 1.5 -4.765625 1.703125 -4.984375 1.703125 -5.28125 C 1.703125 -5.765625 1.234375 -5.765625 1.09375 -5.765625 C 1.390625 -6.265625 2.046875 -6.390625 2.40625 -6.390625 C 2.828125 -6.390625 3.375 -6.171875 3.375 -5.28125 C 3.375 -5.15625 3.34375 -4.578125 3.09375 -4.140625 C 2.796875 -3.65625 2.453125 -3.625 2.203125 -3.625 C 2.125 -3.609375 1.890625 -3.59375 1.8125 -3.59375 C 1.734375 -3.578125 1.671875 -3.5625 1.671875 -3.46875 C 1.671875 -3.359375 1.734375 -3.359375 1.90625 -3.359375 L 2.34375 -3.359375 C 3.15625 -3.359375 3.53125 -2.6875 3.53125 -1.703125 C 3.53125 -0.34375 2.84375 -0.0625 2.40625 -0.0625 C 1.96875 -0.0625 1.21875 -0.234375 0.875 -0.8125 C 1.21875 -0.765625 1.53125 -0.984375 1.53125 -1.359375 C 1.53125 -1.71875 1.265625 -1.921875 0.984375 -1.921875 C 0.734375 -1.921875 0.421875 -1.78125 0.421875 -1.34375 C 0.421875 -0.4375 1.34375 0.21875 2.4375 0.21875 C 3.65625 0.21875 4.5625 -0.6875 4.5625 -1.703125 C 4.5625 -2.515625 3.921875 -3.296875 2.890625 -3.515625 Z M 2.890625 -3.515625 \\\"\\/>\\n<\\/symbol>\\n<symbol overflow=\\\"visible\\\" id=\\\"glyph-1567442442225004-0-5\\\">\\n<path style=\\\"stroke:none;\\\" d=\\\"M 2.9375 -1.640625 L 2.9375 -0.78125 C 2.9375 -0.421875 2.90625 -0.3125 2.171875 -0.3125 L 1.96875 -0.3125 L 1.96875 0 C 2.375 -0.03125 2.890625 -0.03125 3.3125 -0.03125 C 3.734375 -0.03125 4.25 -0.03125 4.671875 0 L 4.671875 -0.3125 L 4.453125 -0.3125 C 3.71875 -0.3125 3.703125 -0.421875 3.703125 -0.78125 L 3.703125 -1.640625 L 4.6875 -1.640625 L 4.6875 -1.953125 L 3.703125 -1.953125 L 3.703125 -6.484375 C 3.703125 -6.6875 3.703125 -6.75 3.53125 -6.75 C 3.453125 -6.75 3.421875 -6.75 3.34375 -6.625 L 0.28125 -1.953125 L 0.28125 -1.640625 Z M 2.984375 -1.953125 L 0.5625 -1.953125 L 2.984375 -5.671875 Z M 2.984375 -1.953125 \\\"\\/>\\n<\\/symbol>\\n<symbol overflow=\\\"visible\\\" id=\\\"glyph-1567442442225004-0-6\\\">\\n<path style=\\\"stroke:none;\\\" d=\\\"M 4.46875 -2 C 4.46875 -3.1875 3.65625 -4.1875 2.578125 -4.1875 C 2.109375 -4.1875 1.671875 -4.03125 1.3125 -3.671875 L 1.3125 -5.625 C 1.515625 -5.5625 1.84375 -5.5 2.15625 -5.5 C 3.390625 -5.5 4.09375 -6.40625 4.09375 -6.53125 C 4.09375 -6.59375 4.0625 -6.640625 3.984375 -6.640625 C 3.984375 -6.640625 3.953125 -6.640625 3.90625 -6.609375 C 3.703125 -6.515625 3.21875 -6.3125 2.546875 -6.3125 C 2.15625 -6.3125 1.6875 -6.390625 1.21875 -6.59375 C 1.140625 -6.625 1.125 -6.625 1.109375 -6.625 C 1 -6.625 1 -6.546875 1 -6.390625 L 1 -3.4375 C 1 -3.265625 1 -3.1875 1.140625 -3.1875 C 1.21875 -3.1875 1.234375 -3.203125 1.28125 -3.265625 C 1.390625 -3.421875 1.75 -3.96875 2.5625 -3.96875 C 3.078125 -3.96875 3.328125 -3.515625 3.40625 -3.328125 C 3.5625 -2.953125 3.59375 -2.578125 3.59375 -2.078125 C 3.59375 -1.71875 3.59375 -1.125 3.34375 -0.703125 C 3.109375 -0.3125 2.734375 -0.0625 2.28125 -0.0625 C 1.5625 -0.0625 0.984375 -0.59375 0.8125 -1.171875 C 0.84375 -1.171875 0.875 -1.15625 0.984375 -1.15625 C 1.3125 -1.15625 1.484375 -1.40625 1.484375 -1.640625 C 1.484375 -1.890625 1.3125 -2.140625 0.984375 -2.140625 C 0.84375 -2.140625 0.5 -2.0625 0.5 -1.609375 C 0.5 -0.75 1.1875 0.21875 2.296875 0.21875 C 3.453125 0.21875 4.46875 -0.734375 4.46875 -2 Z M 4.46875 -2 \\\"\\/>\\n<\\/symbol>\\n<symbol overflow=\\\"visible\\\" id=\\\"glyph-1567442442225004-0-7\\\">\\n<path style=\\\"stroke:none;\\\" d=\\\"M 1.3125 -3.265625 L 1.3125 -3.515625 C 1.3125 -6.03125 2.546875 -6.390625 3.0625 -6.390625 C 3.296875 -6.390625 3.71875 -6.328125 3.9375 -5.984375 C 3.78125 -5.984375 3.390625 -5.984375 3.390625 -5.546875 C 3.390625 -5.234375 3.625 -5.078125 3.84375 -5.078125 C 4 -5.078125 4.3125 -5.171875 4.3125 -5.5625 C 4.3125 -6.15625 3.875 -6.640625 3.046875 -6.640625 C 1.765625 -6.640625 0.421875 -5.359375 0.421875 -3.15625 C 0.421875 -0.484375 1.578125 0.21875 2.5 0.21875 C 3.609375 0.21875 4.5625 -0.71875 4.5625 -2.03125 C 4.5625 -3.296875 3.671875 -4.25 2.5625 -4.25 C 1.890625 -4.25 1.515625 -3.75 1.3125 -3.265625 Z M 2.5 -0.0625 C 1.875 -0.0625 1.578125 -0.65625 1.515625 -0.8125 C 1.328125 -1.28125 1.328125 -2.078125 1.328125 -2.25 C 1.328125 -3.03125 1.65625 -4.03125 2.546875 -4.03125 C 2.71875 -4.03125 3.171875 -4.03125 3.484375 -3.40625 C 3.65625 -3.046875 3.65625 -2.53125 3.65625 -2.046875 C 3.65625 -1.5625 3.65625 -1.0625 3.484375 -0.703125 C 3.1875 -0.109375 2.734375 -0.0625 2.5 -0.0625 Z M 2.5 -0.0625 \\\"\\/>\\n<\\/symbol>\\n<symbol overflow=\\\"visible\\\" id=\\\"glyph-1567442442225004-0-8\\\">\\n<path style=\\\"stroke:none;\\\" d=\\\"M 1.625 -4.5625 C 1.171875 -4.859375 1.125 -5.1875 1.125 -5.359375 C 1.125 -5.96875 1.78125 -6.390625 2.484375 -6.390625 C 3.203125 -6.390625 3.84375 -5.875 3.84375 -5.15625 C 3.84375 -4.578125 3.453125 -4.109375 2.859375 -3.765625 Z M 3.078125 -3.609375 C 3.796875 -3.984375 4.28125 -4.5 4.28125 -5.15625 C 4.28125 -6.078125 3.40625 -6.640625 2.5 -6.640625 C 1.5 -6.640625 0.6875 -5.90625 0.6875 -4.96875 C 0.6875 -4.796875 0.703125 -4.34375 1.125 -3.875 C 1.234375 -3.765625 1.609375 -3.515625 1.859375 -3.34375 C 1.28125 -3.046875 0.421875 -2.5 0.421875 -1.5 C 0.421875 -0.453125 1.4375 0.21875 2.484375 0.21875 C 3.609375 0.21875 4.5625 -0.609375 4.5625 -1.671875 C 4.5625 -2.03125 4.453125 -2.484375 4.0625 -2.90625 C 3.875 -3.109375 3.71875 -3.203125 3.078125 -3.609375 Z M 2.078125 -3.1875 L 3.3125 -2.40625 C 3.59375 -2.21875 4.0625 -1.921875 4.0625 -1.3125 C 4.0625 -0.578125 3.3125 -0.0625 2.5 -0.0625 C 1.640625 -0.0625 0.921875 -0.671875 0.921875 -1.5 C 0.921875 -2.078125 1.234375 -2.71875 2.078125 -3.1875 Z M 2.078125 -3.1875 \\\"\\/>\\n<\\/symbol>\\n<symbol overflow=\\\"visible\\\" id=\\\"glyph-1567442442225004-1-0\\\">\\n<path style=\\\"stroke:none;\\\" d=\\\"\\\"\\/>\\n<\\/symbol>\\n<symbol overflow=\\\"visible\\\" id=\\\"glyph-1567442442225004-1-1\\\">\\n<path style=\\\"stroke:none;\\\" d=\\\"M 1.90625 -0.53125 C 1.90625 -0.8125 1.671875 -1.0625 1.390625 -1.0625 C 1.09375 -1.0625 0.859375 -0.8125 0.859375 -0.53125 C 0.859375 -0.234375 1.09375 0 1.390625 0 C 1.671875 0 1.90625 -0.234375 1.90625 -0.53125 Z M 1.90625 -0.53125 \\\"\\/>\\n<\\/symbol>\\n<symbol overflow=\\\"visible\\\" id=\\\"glyph-1567442442225004-2-0\\\">\\n<path style=\\\"stroke:none;\\\" d=\\\"\\\"\\/>\\n<\\/symbol>\\n<symbol overflow=\\\"visible\\\" id=\\\"glyph-1567442442225004-2-1\\\">\\n<path style=\\\"stroke:none;\\\" d=\\\"M 6.390625 -5.109375 C 6.390625 -6.09375 5.234375 -7.140625 3.875 -7.140625 L 0.171875 -7.140625 L 0.171875 -6.5 L 0.59375 -6.5 C 1.359375 -6.5 1.203125 -6.546875 1.203125 -6.1875 L 1.203125 -0.9375 C 1.203125 -0.578125 1.359375 -0.640625 0.59375 -0.640625 L 0.171875 -0.640625 L 0.171875 0.015625 C 0.703125 -0.03125 1.4375 -0.03125 1.8125 -0.03125 C 2.1875 -0.03125 2.9375 -0.03125 3.453125 0.015625 L 3.453125 -0.640625 L 3.046875 -0.640625 C 2.28125 -0.640625 2.4375 -0.578125 2.4375 -0.9375 L 2.4375 -3.15625 L 3.953125 -3.15625 C 5.140625 -3.15625 6.390625 -4.109375 6.390625 -5.109375 Z M 5.015625 -5.109375 C 5.015625 -4.640625 5.1875 -3.734375 3.609375 -3.734375 L 2.40625 -3.734375 L 2.40625 -6.265625 C 2.40625 -6.59375 2.25 -6.5 2.71875 -6.5 L 3.609375 -6.5 C 5.1875 -6.5 5.015625 -5.609375 5.015625 -5.109375 Z M 5.015625 -5.109375 \\\"\\/>\\n<\\/symbol>\\n<symbol overflow=\\\"visible\\\" id=\\\"glyph-1567442442225004-2-2\\\">\\n<path style=\\\"stroke:none;\\\" d=\\\"M 5.5 -0.15625 L 5.5 -0.640625 C 4.640625 -0.640625 4.71875 -0.53125 4.71875 -1.03125 L 4.71875 -4.75 L 2.90625 -4.609375 L 2.90625 -3.984375 C 3.78125 -3.984375 3.6875 -4.078125 3.6875 -3.59375 L 3.6875 -1.8125 C 3.6875 -0.953125 3.390625 -0.4375 2.65625 -0.4375 C 1.828125 -0.4375 1.953125 -0.734375 1.953125 -1.25 L 1.953125 -4.75 L 0.140625 -4.609375 L 0.140625 -3.984375 C 1.09375 -3.984375 0.921875 -4.109375 0.921875 -3.234375 L 0.921875 -1.734375 C 0.921875 -0.953125 1.09375 0.109375 2.609375 0.109375 C 3.171875 0.109375 3.78125 -0.328125 4.0625 -0.953125 L 3.71875 -0.953125 L 3.71875 0.125 L 5.5 -0.015625 Z M 5.5 -0.15625 \\\"\\/>\\n<\\/symbol>\\n<symbol overflow=\\\"visible\\\" id=\\\"glyph-1567442442225004-2-3\\\">\\n<path style=\\\"stroke:none;\\\" d=\\\"M 2.71875 -0.15625 L 2.71875 -0.640625 C 1.875 -0.640625 1.9375 -0.46875 1.9375 -0.921875 L 1.9375 -7.265625 L 0.15625 -7.125 L 0.15625 -6.5 C 1.03125 -6.5 0.921875 -6.59375 0.921875 -6.09375 L 0.921875 -0.921875 C 0.921875 -0.46875 1 -0.640625 0.15625 -0.640625 L 0.15625 0.015625 L 1.4375 -0.03125 L 2.71875 0.015625 Z M 2.71875 -0.15625 \\\"\\/>\\n<\\/symbol>\\n<symbol overflow=\\\"visible\\\" id=\\\"glyph-1567442442225004-2-4\\\">\\n<path style=\\\"stroke:none;\\\" d=\\\"M 3.765625 -1.4375 C 3.765625 -1.96875 3.40625 -2.375 3.296875 -2.5 C 2.953125 -2.828125 2.453125 -2.953125 2.03125 -3.03125 C 1.46875 -3.140625 0.984375 -3.09375 0.984375 -3.671875 C 0.984375 -4.03125 1.0625 -4.28125 1.921875 -4.28125 C 3.015625 -4.28125 2.890625 -3.53125 2.90625 -3.234375 C 2.921875 -3.140625 3.328125 -3.03125 3.328125 -3.03125 L 3.203125 -2.984375 C 3.34375 -2.984375 3.515625 -3.1875 3.515625 -3.375 L 3.515625 -4.390625 C 3.515625 -4.5625 3.34375 -4.796875 3.234375 -4.796875 C 3.1875 -4.796875 3.03125 -4.75 2.90625 -4.625 C 2.875 -4.578125 2.765625 -4.5 2.84375 -4.5625 C 2.609375 -4.75 2.078125 -4.796875 1.921875 -4.796875 C 0.703125 -4.796875 0.15625 -3.953125 0.15625 -3.40625 C 0.15625 -3.046875 0.359375 -2.65625 0.625 -2.4375 C 0.953125 -2.1875 1.359375 -2.078125 2.078125 -1.9375 C 2.296875 -1.890625 2.9375 -1.890625 2.9375 -1.171875 C 2.9375 -0.671875 2.765625 -0.4375 1.984375 -0.4375 C 1.140625 -0.4375 0.953125 -0.84375 0.765625 -1.6875 C 0.734375 -1.8125 0.5625 -2.03125 0.453125 -2.03125 C 0.328125 -2.03125 0.15625 -1.78125 0.15625 -1.609375 L 0.15625 -0.296875 C 0.15625 -0.125 0.328125 0.109375 0.4375 0.109375 C 0.484375 0.109375 0.625 0.046875 0.8125 -0.140625 C 0.828125 -0.15625 0.828125 -0.171875 0.890625 -0.234375 C 1.203125 0.046875 1.78125 0.109375 1.984375 0.109375 C 3.125 0.109375 3.765625 -0.71875 3.765625 -1.4375 Z M 3.765625 -1.4375 \\\"\\/>\\n<\\/symbol>\\n<symbol overflow=\\\"visible\\\" id=\\\"glyph-1567442442225004-2-5\\\">\\n<path style=\\\"stroke:none;\\\" d=\\\"M 4.3125 -1.34375 C 4.3125 -1.453125 4.0625 -1.640625 4 -1.640625 C 3.921875 -1.640625 3.71875 -1.40625 3.703125 -1.328125 C 3.34375 -0.296875 2.625 -0.46875 2.53125 -0.46875 C 2.03125 -0.46875 1.75 -0.71875 1.53125 -1.09375 C 1.21875 -1.5625 1.28125 -2.109375 1.28125 -2.296875 L 3.890625 -2.296875 C 4.109375 -2.296875 4.3125 -2.46875 4.3125 -2.671875 C 4.3125 -3.65625 3.59375 -4.796875 2.359375 -4.796875 C 1.203125 -4.796875 0.09375 -3.59375 0.09375 -2.359375 C 0.09375 -1.015625 1.328125 0.109375 2.46875 0.109375 C 3.6875 0.109375 4.3125 -1.15625 4.3125 -1.34375 Z M 3.484375 -2.84375 L 1.296875 -2.84375 C 1.34375 -4.15625 2.015625 -4.25 2.359375 -4.25 C 3.375 -4.25 3.296875 -3.0625 3.296875 -2.84375 Z M 3.484375 -2.84375 \\\"\\/>\\n<\\/symbol>\\n<symbol overflow=\\\"visible\\\" id=\\\"glyph-1567442442225004-2-6\\\">\\n<path style=\\\"stroke:none;\\\" d=\\\"M 5.359375 -2.3125 C 5.359375 -3.578125 4.234375 -4.734375 3.109375 -4.734375 C 2.328125 -4.734375 1.78125 -4.25 1.578125 -4.03125 L 1.890625 -3.90625 L 1.890625 -4.75 L 0.09375 -4.609375 L 0.09375 -3.984375 C 0.984375 -3.984375 0.875 -4.09375 0.875 -3.65625 L 0.875 1.015625 C 0.875 1.46875 0.953125 1.296875 0.09375 1.296875 L 0.09375 1.9375 L 1.390625 1.90625 L 2.6875 1.9375 L 2.6875 1.296875 C 1.859375 1.296875 1.90625 1.46875 1.90625 1.015625 L 1.90625 -0.75 L 1.5625 -0.75 C 1.609375 -0.59375 2.21875 0.109375 2.96875 0.109375 C 4.15625 0.109375 5.359375 -1.03125 5.359375 -2.3125 Z M 4.1875 -2.3125 C 4.1875 -1.109375 3.671875 -0.4375 2.9375 -0.4375 C 2.53125 -0.4375 2.265625 -0.59375 2 -1 C 1.859375 -1.203125 1.90625 -1.09375 1.90625 -1.296875 L 1.90625 -3.5 C 2.15625 -3.921875 2.515625 -4.15625 3.03125 -4.15625 C 3.765625 -4.15625 4.1875 -3.4375 4.1875 -2.3125 Z M 4.1875 -2.3125 \\\"\\/>\\n<\\/symbol>\\n<symbol overflow=\\\"visible\\\" id=\\\"glyph-1567442442225004-2-7\\\">\\n<path style=\\\"stroke:none;\\\" d=\\\"M 5 -4.1875 C 5 -4.359375 4.71875 -4.84375 4.328125 -4.84375 C 4.125 -4.84375 3.5625 -4.734375 3.25 -4.4375 C 2.96875 -4.65625 2.4375 -4.734375 2.21875 -4.734375 C 1.28125 -4.734375 0.421875 -3.875 0.421875 -3.109375 C 0.421875 -2.671875 0.6875 -2.1875 0.8125 -2.078125 C 0.8125 -2.046875 0.578125 -1.609375 0.578125 -1.25 C 0.578125 -0.953125 0.75 -0.453125 0.796875 -0.421875 C 0.59375 -0.375 0.09375 0.234375 0.09375 0.625 C 0.09375 1.34375 1.265625 2.046875 2.484375 2.046875 C 3.65625 2.046875 4.859375 1.390625 4.859375 0.609375 C 4.859375 0.265625 4.671875 -0.375 4.171875 -0.640625 C 3.640625 -0.921875 2.9375 -0.984375 2.328125 -0.984375 C 2.078125 -0.984375 1.65625 -0.984375 1.578125 -0.984375 C 1.265625 -1.03125 1.21875 -1.171875 1.21875 -1.484375 C 1.21875 -1.53125 1.171875 -1.640625 1.25 -1.734375 C 1.484375 -1.5625 2.03125 -1.484375 2.21875 -1.484375 C 3.140625 -1.484375 4 -2.328125 4 -3.09375 C 4 -3.46875 3.78125 -3.953125 3.671875 -4.078125 C 3.890625 -4.296875 4.140625 -4.296875 4.3125 -4.296875 L 4.4375 -4.34375 C 4.4375 -4.34375 4.390625 -4.296875 4.421875 -4.28125 L 4.421875 -4.609375 C 4.3125 -4.578125 4.078125 -4.296875 4.078125 -4.171875 C 4.078125 -4 4.390625 -3.734375 4.546875 -3.734375 C 4.640625 -3.734375 5 -3.953125 5 -4.1875 Z M 2.90625 -3.109375 C 2.90625 -2.84375 2.9375 -2.640625 2.796875 -2.390625 C 2.71875 -2.265625 2.609375 -2.046875 2.21875 -2.046875 C 1.34375 -2.046875 1.515625 -2.875 1.515625 -3.09375 C 1.515625 -3.375 1.46875 -3.578125 1.625 -3.828125 C 1.703125 -3.953125 1.8125 -4.171875 2.21875 -4.171875 C 3.078125 -4.171875 2.90625 -3.34375 2.90625 -3.109375 Z M 4 0.625 C 4 1.171875 3.46875 1.5 2.5 1.5 C 1.484375 1.5 0.96875 1.15625 0.96875 0.625 C 0.96875 0.171875 1.171875 -0.046875 1.609375 -0.0625 L 2.203125 -0.0625 C 3.0625 -0.0625 4 -0.234375 4 0.625 Z M 4 0.625 \\\"\\/>\\n<\\/symbol>\\n<symbol overflow=\\\"visible\\\" id=\\\"glyph-1567442442225004-2-8\\\">\\n<path style=\\\"stroke:none;\\\" d=\\\"M 3.796875 -3.953125 C 3.796875 -4.28125 3.3125 -4.734375 2.890625 -4.734375 C 2.15625 -4.734375 1.625 -3.890625 1.484375 -3.46875 L 1.828125 -3.46875 L 1.828125 -4.75 L 0.09375 -4.609375 L 0.09375 -3.984375 C 0.984375 -3.984375 0.875 -4.078125 0.875 -3.59375 L 0.875 -0.921875 C 0.875 -0.46875 0.953125 -0.640625 0.09375 -0.640625 L 0.09375 0.015625 L 1.421875 -0.03125 C 1.8125 -0.03125 2.28125 -0.03125 2.84375 0.015625 L 2.84375 -0.640625 L 2.46875 -0.640625 C 1.734375 -0.640625 1.890625 -0.578125 1.890625 -0.9375 L 1.890625 -2.46875 C 1.890625 -3.453125 2.140625 -4.1875 2.890625 -4.1875 C 2.953125 -4.1875 2.84375 -4.234375 2.875 -4.234375 L 3 -4.5 C 2.96875 -4.5 2.59375 -4.203125 2.59375 -3.953125 C 2.59375 -3.671875 2.984375 -3.359375 3.203125 -3.359375 C 3.375 -3.359375 3.796875 -3.640625 3.796875 -3.953125 Z M 3.796875 -3.953125 \\\"\\/>\\n<\\/symbol>\\n<symbol overflow=\\\"visible\\\" id=\\\"glyph-1567442442225004-2-9\\\">\\n<path style=\\\"stroke:none;\\\" d=\\\"M 5.421875 -0.15625 L 5.421875 -0.640625 C 4.5625 -0.640625 4.640625 -0.53125 4.640625 -1.03125 L 4.640625 -7.265625 L 2.859375 -7.125 L 2.859375 -6.5 C 3.734375 -6.5 3.640625 -6.59375 3.640625 -6.09375 L 3.640625 -3.953125 L 3.9375 -4.0625 C 3.65625 -4.421875 3.09375 -4.734375 2.5625 -4.734375 C 1.390625 -4.734375 0.15625 -3.59375 0.15625 -2.296875 C 0.15625 -1.03125 1.3125 0.109375 2.453125 0.109375 C 3.09375 0.109375 3.65625 -0.28125 3.90625 -0.59375 L 3.609375 -0.703125 L 3.609375 0.125 L 5.421875 -0.015625 Z M 3.609375 -1.328125 C 3.609375 -1.15625 3.65625 -1.25 3.546875 -1.09375 C 3.25 -0.609375 2.9375 -0.4375 2.5 -0.4375 C 2.046875 -0.4375 1.8125 -0.640625 1.578125 -1.03125 C 1.3125 -1.4375 1.328125 -1.890625 1.328125 -2.296875 C 1.328125 -2.65625 1.3125 -3.15625 1.59375 -3.59375 C 1.796875 -3.90625 2.0625 -4.1875 2.609375 -4.1875 C 2.953125 -4.1875 3.234375 -4.09375 3.546875 -3.640625 C 3.65625 -3.46875 3.609375 -3.5625 3.609375 -3.375 Z M 3.609375 -1.328125 \\\"\\/>\\n<\\/symbol>\\n<symbol overflow=\\\"visible\\\" id=\\\"glyph-1567442442225004-2-10\\\">\\n<path style=\\\"stroke:none;\\\" d=\\\"M 5.234375 -4.140625 L 5.234375 -4.640625 C 4.828125 -4.609375 4.546875 -4.59375 4.3125 -4.59375 L 3.265625 -4.640625 L 3.265625 -3.984375 C 3.765625 -3.984375 3.734375 -3.96875 3.734375 -3.71875 C 3.734375 -3.625 3.734375 -3.59375 3.671875 -3.484375 L 2.671875 -1.03125 L 3.015625 -1.03125 L 1.90625 -3.703125 C 1.875 -3.8125 1.859375 -3.84375 1.859375 -3.890625 C 1.859375 -4.140625 2.046875 -3.984375 2.40625 -3.984375 L 2.40625 -4.640625 L 1.15625 -4.59375 C 0.890625 -4.59375 0.484375 -4.609375 0.015625 -4.640625 L 0.015625 -3.984375 C 0.671875 -3.984375 0.671875 -4.140625 0.8125 -3.796875 L 2.3125 -0.15625 L 2.0625 0.421875 C 1.84375 0.984375 1.75 1.5 1.109375 1.5 C 1.0625 1.5 0.953125 1.546875 1 1.609375 C 0.953125 1.609375 1.203125 1.21875 1.203125 1.0625 C 1.203125 0.8125 0.84375 0.484375 0.609375 0.484375 C 0.40625 0.484375 0.015625 0.78125 0.015625 1.078125 C 0.015625 1.53125 0.609375 2.046875 1.109375 2.046875 C 1.734375 2.046875 2.3125 1.3125 2.546875 0.75 L 4.3125 -3.515625 C 4.5625 -4.140625 4.90625 -3.984375 5.234375 -3.984375 Z M 5.234375 -4.140625 \\\"\\/>\\n<\\/symbol>\\n<symbol overflow=\\\"visible\\\" id=\\\"glyph-1567442442225004-2-11\\\">\\n<path style=\\\"stroke:none;\\\" d=\\\"M 4.859375 -2.296875 C 4.859375 -3.5625 3.703125 -4.796875 2.5 -4.796875 C 1.25 -4.796875 0.09375 -3.53125 0.09375 -2.296875 C 0.09375 -1 1.3125 0.109375 2.484375 0.109375 C 3.6875 0.109375 4.859375 -1.03125 4.859375 -2.296875 Z M 3.6875 -2.375 C 3.6875 -2.015625 3.734375 -1.59375 3.515625 -1.15625 L 3.46875 -1.03125 C 3.25 -0.59375 2.984375 -0.46875 2.5 -0.46875 C 2.0625 -0.46875 1.75 -0.625 1.46875 -1.09375 C 1.21875 -1.53125 1.28125 -2.015625 1.28125 -2.375 C 1.28125 -2.765625 1.21875 -3.1875 1.46875 -3.625 C 1.734375 -4.09375 2.078125 -4.25 2.484375 -4.25 C 2.921875 -4.25 3.21875 -4.078125 3.484375 -3.65625 C 3.734375 -3.21875 3.6875 -2.75 3.6875 -2.375 Z M 3.6875 -2.375 \\\"\\/>\\n<\\/symbol>\\n<symbol overflow=\\\"visible\\\" id=\\\"glyph-1567442442225004-2-12\\\">\\n<path style=\\\"stroke:none;\\\" d=\\\"M 3.734375 -6.484375 C 3.734375 -6.859375 3.1875 -7.359375 2.65625 -7.359375 C 1.96875 -7.359375 0.9375 -6.65625 0.9375 -5.609375 L 0.9375 -4.625 L 0.15625 -4.625 L 0.15625 -3.984375 L 0.9375 -3.984375 L 0.9375 -0.921875 C 0.9375 -0.46875 1 -0.640625 0.15625 -0.640625 L 0.15625 0.015625 L 1.46875 -0.03125 C 1.875 -0.03125 2.34375 -0.03125 2.90625 0.015625 L 2.90625 -0.640625 L 2.53125 -0.640625 C 1.796875 -0.640625 1.9375 -0.578125 1.9375 -0.9375 L 1.9375 -3.984375 L 3.078125 -3.984375 L 3.078125 -4.625 L 1.90625 -4.625 L 1.90625 -5.609375 C 1.90625 -6.484375 2.21875 -6.8125 2.65625 -6.8125 C 2.6875 -6.8125 2.84375 -6.8125 2.984375 -6.734375 L 2.984375 -7.0625 C 2.875 -7.03125 2.515625 -6.734375 2.515625 -6.484375 C 2.515625 -6.25 2.84375 -5.890625 3.125 -5.890625 C 3.40625 -5.890625 3.734375 -6.25 3.734375 -6.484375 Z M 3.734375 -6.484375 \\\"\\/>\\n<\\/symbol>\\n<symbol overflow=\\\"visible\\\" id=\\\"glyph-1567442442225004-2-13\\\">\\n<path style=\\\"stroke:none;\\\" d=\\\"M 3.484375 -1.390625 L 3.484375 -2.140625 L 2.875 -2.140625 L 2.875 -1.421875 C 2.875 -0.671875 2.765625 -0.46875 2.390625 -0.46875 C 1.71875 -0.46875 1.890625 -1.203125 1.890625 -1.375 L 1.890625 -3.984375 L 3.3125 -3.984375 L 3.3125 -4.625 L 1.890625 -4.625 L 1.890625 -6.453125 L 1.296875 -6.453125 C 1.28125 -5.46875 1.171875 -4.578125 0.015625 -4.53125 L 0.015625 -3.984375 L 0.859375 -3.984375 L 0.859375 -1.390625 C 0.859375 -0.171875 1.96875 0.109375 2.328125 0.109375 C 3.03125 0.109375 3.484375 -0.75 3.484375 -1.390625 Z M 3.484375 -1.390625 \\\"\\/>\\n<\\/symbol>\\n<symbol overflow=\\\"visible\\\" id=\\\"glyph-1567442442225004-2-14\\\">\\n<path style=\\\"stroke:none;\\\" d=\\\"M 8.28125 -0.15625 L 8.28125 -0.640625 C 7.59375 -0.640625 7.5 -0.46875 7.5 -0.765625 L 7.5 -2.671875 C 7.5 -3.53125 7.453125 -3.953125 7.140625 -4.3125 C 7 -4.484375 6.546875 -4.734375 5.96875 -4.734375 C 5.140625 -4.734375 4.515625 -3.96875 4.34375 -3.59375 L 4.6875 -3.59375 C 4.5625 -4.453125 3.65625 -4.734375 3.203125 -4.734375 C 2.46875 -4.734375 1.828125 -4.140625 1.546875 -3.515625 L 1.890625 -3.515625 L 1.890625 -4.75 L 0.140625 -4.609375 L 0.140625 -3.984375 C 1.015625 -3.984375 0.921875 -4.078125 0.921875 -3.59375 L 0.921875 -0.921875 C 0.921875 -0.46875 0.984375 -0.640625 0.140625 -0.640625 L 0.140625 0.015625 L 1.453125 -0.03125 L 2.734375 0.015625 L 2.734375 -0.640625 C 1.890625 -0.640625 1.953125 -0.46875 1.953125 -0.921875 L 1.953125 -2.75 C 1.953125 -3.78125 2.5 -4.1875 3.125 -4.1875 C 3.765625 -4.1875 3.6875 -3.8125 3.6875 -3.234375 L 3.6875 -0.921875 C 3.6875 -0.46875 3.765625 -0.640625 2.90625 -0.640625 L 2.90625 0.015625 L 4.21875 -0.03125 L 5.5 0.015625 L 5.5 -0.640625 C 4.671875 -0.640625 4.71875 -0.46875 4.71875 -0.921875 L 4.71875 -2.75 C 4.71875 -3.78125 5.265625 -4.1875 5.90625 -4.1875 C 6.53125 -4.1875 6.453125 -3.8125 6.453125 -3.234375 L 6.453125 -0.921875 C 6.453125 -0.46875 6.53125 -0.640625 5.6875 -0.640625 L 5.6875 0.015625 L 6.984375 -0.03125 L 8.28125 0.015625 Z M 8.28125 -0.15625 \\\"\\/>\\n<\\/symbol>\\n<symbol overflow=\\\"visible\\\" id=\\\"glyph-1567442442225004-2-15\\\">\\n<path style=\\\"stroke:none;\\\" d=\\\"M 4.984375 -1.046875 L 4.984375 -1.78125 L 4.390625 -1.78125 L 4.390625 -1.046875 C 4.390625 -0.46875 4.3125 -0.578125 4.203125 -0.578125 C 3.875 -0.578125 4 -0.859375 4 -0.90625 L 4 -2.90625 C 4 -3.3125 3.953125 -3.828125 3.59375 -4.203125 C 3.203125 -4.578125 2.59375 -4.796875 2.109375 -4.796875 C 1.296875 -4.796875 0.421875 -4.15625 0.421875 -3.5 C 0.421875 -3.203125 0.8125 -2.875 1.0625 -2.875 C 1.34375 -2.875 1.6875 -3.234375 1.6875 -3.484375 C 1.6875 -3.609375 1.46875 -4.109375 1.34375 -4.109375 C 1.40625 -4.1875 1.78125 -4.25 2.09375 -4.25 C 2.578125 -4.25 2.96875 -4.015625 2.96875 -3.125 L 2.96875 -2.921875 C 2.640625 -2.90625 1.9375 -2.875 1.3125 -2.578125 C 0.5625 -2.234375 0.140625 -1.546875 0.140625 -1.109375 C 0.140625 -0.296875 1.28125 0.109375 1.90625 0.109375 C 2.578125 0.109375 3.203125 -0.453125 3.390625 -0.921875 L 3.046875 -0.921875 C 3.078125 -0.515625 3.53125 0.0625 4 0.0625 C 4.203125 0.0625 4.984375 -0.234375 4.984375 -1.046875 Z M 2.96875 -1.5625 C 2.96875 -0.609375 2.4375 -0.4375 1.984375 -0.4375 C 1.5 -0.4375 1.25 -0.625 1.25 -1.109375 C 1.25 -1.671875 1.5 -2.328125 2.96875 -2.375 Z M 2.96875 -1.5625 \\\"\\/>\\n<\\/symbol>\\n<symbol overflow=\\\"visible\\\" id=\\\"glyph-1567442442225004-2-16\\\">\\n<path style=\\\"stroke:none;\\\" d=\\\"M 5.3125 -0.15625 L 5.3125 -0.640625 C 4.609375 -0.640625 4.546875 -0.609375 4.3125 -0.890625 L 3.078125 -2.5 C 3.28125 -2.765625 3.65625 -3.265625 3.890625 -3.515625 C 4.203125 -3.875 4.5 -3.984375 5.140625 -3.984375 L 5.140625 -4.640625 C 4.703125 -4.609375 4.40625 -4.59375 4.140625 -4.59375 C 3.84375 -4.59375 3.3125 -4.609375 3.015625 -4.640625 L 3.015625 -4 C 3.40625 -3.96875 3.296875 -4 3.296875 -3.84375 C 3.296875 -3.671875 3.25 -3.671875 3.203125 -3.609375 L 2.71875 -2.984375 L 2.046875 -3.84375 C 1.96875 -3.9375 2.015625 -3.84375 2.015625 -3.890625 C 2.015625 -4.046875 2 -3.984375 2.359375 -3.984375 L 2.359375 -4.640625 L 1.109375 -4.59375 C 0.90625 -4.59375 0.4375 -4.609375 -0.015625 -4.640625 L -0.015625 -3.984375 C 0.875 -3.984375 0.75 -4.03125 1.21875 -3.421875 L 2.109375 -2.25 C 1.734375 -1.78125 1.734375 -1.75 1.265625 -1.1875 C 0.78125 -0.609375 0.328125 -0.640625 -0.0625 -0.640625 L -0.0625 0.015625 C 0.375 -0.015625 0.6875 -0.03125 0.953125 -0.03125 L 2.0625 0.015625 L 2.0625 -0.625 C 1.671875 -0.671875 1.78125 -0.625 1.78125 -0.78125 C 1.78125 -1 2.015625 -1.21875 2.5 -1.78125 L 3.125 -0.9375 C 3.203125 -0.828125 3.296875 -0.78125 3.296875 -0.71875 C 3.296875 -0.625 3.375 -0.640625 2.9375 -0.640625 L 2.9375 0.015625 L 4.1875 -0.03125 C 4.453125 -0.03125 4.84375 -0.015625 5.3125 0.015625 Z M 5.3125 -0.15625 \\\"\\/>\\n<\\/symbol>\\n<symbol overflow=\\\"visible\\\" id=\\\"glyph-1567442442225004-2-17\\\">\\n<path style=\\\"stroke:none;\\\" d=\\\"M 2.625 -0.15625 L 2.625 -0.640625 C 1.796875 -0.640625 1.9375 -0.515625 1.9375 -0.90625 L 1.9375 -4.75 L 0.1875 -4.609375 L 0.1875 -3.984375 C 1.015625 -3.984375 0.921875 -4.09375 0.921875 -3.59375 L 0.921875 -0.921875 C 0.921875 -0.46875 1 -0.640625 0.15625 -0.640625 L 0.15625 0.015625 L 1.421875 -0.03125 C 1.78125 -0.03125 2.125 -0.015625 2.625 0.015625 Z M 2.078125 -6.1875 C 2.078125 -6.453125 1.6875 -6.875 1.390625 -6.875 C 1.046875 -6.875 0.671875 -6.4375 0.671875 -6.1875 C 0.671875 -5.90625 1.078125 -5.5 1.375 -5.5 C 1.71875 -5.5 2.078125 -5.9375 2.078125 -6.1875 Z M 2.078125 -6.1875 \\\"\\/>\\n<\\/symbol>\\n<symbol overflow=\\\"visible\\\" id=\\\"glyph-1567442442225004-2-18\\\">\\n<path style=\\\"stroke:none;\\\" d=\\\"M 5.5 -0.15625 L 5.5 -0.640625 C 4.8125 -0.640625 4.734375 -0.46875 4.71875 -0.765625 L 4.71875 -2.671875 C 4.71875 -3.53125 4.671875 -3.953125 4.359375 -4.3125 C 4.234375 -4.484375 3.78125 -4.734375 3.203125 -4.734375 C 2.46875 -4.734375 1.828125 -4.140625 1.546875 -3.515625 L 1.890625 -3.515625 L 1.890625 -4.75 L 0.140625 -4.609375 L 0.140625 -3.984375 C 1.015625 -3.984375 0.921875 -4.078125 0.921875 -3.59375 L 0.921875 -0.921875 C 0.921875 -0.46875 0.984375 -0.640625 0.140625 -0.640625 L 0.140625 0.015625 L 1.453125 -0.03125 L 2.734375 0.015625 L 2.734375 -0.640625 C 1.890625 -0.640625 1.953125 -0.46875 1.953125 -0.921875 L 1.953125 -2.75 C 1.953125 -3.78125 2.5 -4.1875 3.125 -4.1875 C 3.765625 -4.1875 3.6875 -3.8125 3.6875 -3.234375 L 3.6875 -0.921875 C 3.6875 -0.46875 3.765625 -0.640625 2.90625 -0.640625 L 2.90625 0.015625 L 4.21875 -0.03125 L 5.5 0.015625 Z M 5.5 -0.15625 \\\"\\/>\\n<\\/symbol>\\n<symbol overflow=\\\"visible\\\" id=\\\"glyph-1567442442225004-2-19\\\">\\n<path style=\\\"stroke:none;\\\" d=\\\"M 5.234375 -4.140625 L 5.234375 -4.640625 C 4.828125 -4.609375 4.546875 -4.59375 4.3125 -4.59375 L 3.265625 -4.640625 L 3.265625 -3.984375 C 3.8125 -3.984375 3.75 -3.90625 3.75 -3.71875 C 3.75 -3.625 3.734375 -3.59375 3.6875 -3.484375 L 2.671875 -0.9375 L 3.015625 -0.9375 L 1.90625 -3.71875 C 1.84375 -3.84375 1.796875 -3.78125 1.796875 -3.78125 L 1.84375 -3.890625 C 1.84375 -4.140625 2.0625 -3.984375 2.40625 -3.984375 L 2.40625 -4.640625 L 1.15625 -4.59375 C 0.890625 -4.59375 0.484375 -4.609375 0.015625 -4.640625 L 0.015625 -3.984375 C 0.8125 -3.984375 0.671875 -4.09375 0.8125 -3.78125 L 2.25 -0.234375 C 2.296875 -0.09375 2.5 0.109375 2.625 0.109375 C 2.765625 0.109375 2.96875 -0.140625 3.015625 -0.234375 L 4.3125 -3.484375 C 4.40625 -3.703125 4.40625 -3.984375 5.234375 -3.984375 Z M 5.234375 -4.140625 \\\"\\/>\\n<\\/symbol>\\n<symbol overflow=\\\"visible\\\" id=\\\"glyph-1567442442225004-3-0\\\">\\n<path style=\\\"stroke:none;\\\" d=\\\"\\\"\\/>\\n<\\/symbol>\\n<symbol overflow=\\\"visible\\\" id=\\\"glyph-1567442442225004-3-1\\\">\\n<path style=\\\"stroke:none;\\\" d=\\\"M -0.15625 -7.3125 L -0.640625 -7.3125 L -0.640625 -6.96875 C -0.640625 -6.375 -0.53125 -6.40625 -0.875 -6.296875 L -7.09375 -4.140625 C -7.234375 -4.09375 -7.46875 -3.890625 -7.46875 -3.734375 C -7.46875 -3.578125 -7.234375 -3.375 -7.09375 -3.3125 L -1.140625 -1.25 C -0.625 -1.078125 -0.640625 -0.859375 -0.640625 -0.140625 L 0.015625 -0.140625 L -0.03125 -1.328125 L 0.015625 -2.65625 L -0.640625 -2.65625 C -0.640625 -1.984375 -0.71875 -1.90625 -0.984375 -1.90625 C -1 -1.90625 -1 -1.859375 -1.09375 -1.90625 L -2.265625 -2.328125 L -2.265625 -4.5625 L -0.90625 -5.03125 C -0.875 -5.03125 -0.8125 -5.046875 -0.765625 -5.046875 C -0.46875 -5.046875 -0.640625 -4.671875 -0.640625 -4.234375 L 0.015625 -4.234375 C -0.03125 -4.765625 -0.03125 -5.46875 -0.03125 -5.84375 L 0.015625 -7.3125 Z M -2.90625 -4.5625 L -2.90625 -2.546875 L -5.984375 -3.609375 L -5.984375 -3.265625 L -2.90625 -4.328125 Z M -2.90625 -4.5625 \\\"\\/>\\n<\\/symbol>\\n<symbol overflow=\\\"visible\\\" id=\\\"glyph-1567442442225004-3-2\\\">\\n<path style=\\\"stroke:none;\\\" d=\\\"M -4.140625 -5.234375 L -4.640625 -5.234375 C -4.609375 -4.828125 -4.59375 -4.546875 -4.59375 -4.3125 L -4.640625 -3.265625 L -3.984375 -3.265625 C -3.984375 -3.8125 -3.90625 -3.75 -3.71875 -3.75 C -3.625 -3.75 -3.59375 -3.734375 -3.484375 -3.6875 L -0.9375 -2.671875 L -0.9375 -3.015625 L -3.71875 -1.90625 C -3.84375 -1.84375 -3.78125 -1.796875 -3.78125 -1.796875 L -3.890625 -1.84375 C -4.140625 -1.84375 -3.984375 -2.0625 -3.984375 -2.40625 L -4.640625 -2.40625 L -4.59375 -1.15625 C -4.59375 -0.890625 -4.609375 -0.484375 -4.640625 -0.015625 L -3.984375 -0.015625 C -3.984375 -0.8125 -4.09375 -0.671875 -3.78125 -0.8125 L -0.234375 -2.25 C -0.09375 -2.296875 0.109375 -2.5 0.109375 -2.625 C 0.109375 -2.765625 -0.140625 -2.96875 -0.234375 -3.015625 L -3.484375 -4.3125 C -3.703125 -4.40625 -3.984375 -4.40625 -3.984375 -5.234375 Z M -4.140625 -5.234375 \\\"\\/>\\n<\\/symbol>\\n<symbol overflow=\\\"visible\\\" id=\\\"glyph-1567442442225004-3-3\\\">\\n<path style=\\\"stroke:none;\\\" d=\\\"M -1.34375 -4.3125 C -1.453125 -4.3125 -1.640625 -4.0625 -1.640625 -4 C -1.640625 -3.921875 -1.40625 -3.71875 -1.328125 -3.703125 C -0.296875 -3.34375 -0.46875 -2.625 -0.46875 -2.53125 C -0.46875 -2.03125 -0.71875 -1.75 -1.09375 -1.53125 C -1.5625 -1.21875 -2.109375 -1.28125 -2.296875 -1.28125 L -2.296875 -3.890625 C -2.296875 -4.109375 -2.46875 -4.3125 -2.671875 -4.3125 C -3.65625 -4.3125 -4.796875 -3.59375 -4.796875 -2.359375 C -4.796875 -1.203125 -3.59375 -0.09375 -2.359375 -0.09375 C -1.015625 -0.09375 0.109375 -1.328125 0.109375 -2.46875 C 0.109375 -3.6875 -1.15625 -4.3125 -1.34375 -4.3125 Z M -2.84375 -3.484375 L -2.84375 -1.296875 C -4.15625 -1.34375 -4.25 -2.015625 -4.25 -2.359375 C -4.25 -3.375 -3.0625 -3.296875 -2.84375 -3.296875 Z M -2.84375 -3.484375 \\\"\\/>\\n<\\/symbol>\\n<symbol overflow=\\\"visible\\\" id=\\\"glyph-1567442442225004-3-4\\\">\\n<path style=\\\"stroke:none;\\\" d=\\\"M -3.953125 -3.796875 C -4.28125 -3.796875 -4.734375 -3.3125 -4.734375 -2.890625 C -4.734375 -2.15625 -3.890625 -1.625 -3.46875 -1.484375 L -3.46875 -1.828125 L -4.75 -1.828125 L -4.609375 -0.09375 L -3.984375 -0.09375 C -3.984375 -0.984375 -4.078125 -0.875 -3.59375 -0.875 L -0.921875 -0.875 C -0.46875 -0.875 -0.640625 -0.953125 -0.640625 -0.09375 L 0.015625 -0.09375 L -0.03125 -1.421875 C -0.03125 -1.8125 -0.03125 -2.28125 0.015625 -2.84375 L -0.640625 -2.84375 L -0.640625 -2.46875 C -0.640625 -1.734375 -0.578125 -1.890625 -0.9375 -1.890625 L -2.46875 -1.890625 C -3.453125 -1.890625 -4.1875 -2.140625 -4.1875 -2.890625 C -4.1875 -2.953125 -4.234375 -2.84375 -4.234375 -2.875 L -4.5 -3 C -4.5 -2.96875 -4.203125 -2.59375 -3.953125 -2.59375 C -3.671875 -2.59375 -3.359375 -2.984375 -3.359375 -3.203125 C -3.359375 -3.375 -3.640625 -3.796875 -3.953125 -3.796875 Z M -3.953125 -3.796875 \\\"\\/>\\n<\\/symbol>\\n<symbol overflow=\\\"visible\\\" id=\\\"glyph-1567442442225004-3-5\\\">\\n<path style=\\\"stroke:none;\\\" d=\\\"M -1.046875 -4.984375 L -1.78125 -4.984375 L -1.78125 -4.390625 L -1.046875 -4.390625 C -0.46875 -4.390625 -0.578125 -4.3125 -0.578125 -4.203125 C -0.578125 -3.875 -0.859375 -4 -0.90625 -4 L -2.90625 -4 C -3.3125 -4 -3.828125 -3.953125 -4.203125 -3.59375 C -4.578125 -3.203125 -4.796875 -2.59375 -4.796875 -2.109375 C -4.796875 -1.296875 -4.15625 -0.421875 -3.5 -0.421875 C -3.203125 -0.421875 -2.875 -0.8125 -2.875 -1.0625 C -2.875 -1.34375 -3.234375 -1.6875 -3.484375 -1.6875 C -3.609375 -1.6875 -4.109375 -1.46875 -4.109375 -1.34375 C -4.1875 -1.40625 -4.25 -1.78125 -4.25 -2.09375 C -4.25 -2.578125 -4.015625 -2.96875 -3.125 -2.96875 L -2.921875 -2.96875 C -2.90625 -2.640625 -2.875 -1.9375 -2.578125 -1.3125 C -2.234375 -0.5625 -1.546875 -0.140625 -1.109375 -0.140625 C -0.296875 -0.140625 0.109375 -1.28125 0.109375 -1.90625 C 0.109375 -2.578125 -0.453125 -3.203125 -0.921875 -3.390625 L -0.921875 -3.046875 C -0.515625 -3.078125 0.0625 -3.53125 0.0625 -4 C 0.0625 -4.203125 -0.234375 -4.984375 -1.046875 -4.984375 Z M -1.5625 -2.96875 C -0.609375 -2.96875 -0.4375 -2.4375 -0.4375 -1.984375 C -0.4375 -1.5 -0.625 -1.25 -1.109375 -1.25 C -1.671875 -1.25 -2.328125 -1.5 -2.375 -2.96875 Z M -1.5625 -2.96875 \\\"\\/>\\n<\\/symbol>\\n<symbol overflow=\\\"visible\\\" id=\\\"glyph-1567442442225004-3-6\\\">\\n<path style=\\\"stroke:none;\\\" d=\\\"M -4.1875 -5 C -4.359375 -5 -4.84375 -4.71875 -4.84375 -4.328125 C -4.84375 -4.125 -4.734375 -3.5625 -4.4375 -3.25 C -4.65625 -2.96875 -4.734375 -2.4375 -4.734375 -2.21875 C -4.734375 -1.28125 -3.875 -0.421875 -3.109375 -0.421875 C -2.671875 -0.421875 -2.1875 -0.6875 -2.078125 -0.8125 C -2.046875 -0.8125 -1.609375 -0.578125 -1.25 -0.578125 C -0.953125 -0.578125 -0.453125 -0.75 -0.421875 -0.796875 C -0.375 -0.59375 0.234375 -0.09375 0.625 -0.09375 C 1.34375 -0.09375 2.046875 -1.265625 2.046875 -2.484375 C 2.046875 -3.65625 1.390625 -4.859375 0.609375 -4.859375 C 0.265625 -4.859375 -0.375 -4.671875 -0.640625 -4.171875 C -0.921875 -3.640625 -0.984375 -2.9375 -0.984375 -2.328125 C -0.984375 -2.078125 -0.984375 -1.65625 -0.984375 -1.578125 C -1.03125 -1.265625 -1.171875 -1.21875 -1.484375 -1.21875 C -1.53125 -1.21875 -1.640625 -1.171875 -1.734375 -1.25 C -1.5625 -1.484375 -1.484375 -2.03125 -1.484375 -2.21875 C -1.484375 -3.140625 -2.328125 -4 -3.09375 -4 C -3.46875 -4 -3.953125 -3.78125 -4.078125 -3.671875 C -4.296875 -3.890625 -4.296875 -4.140625 -4.296875 -4.3125 L -4.34375 -4.4375 C -4.34375 -4.4375 -4.296875 -4.390625 -4.28125 -4.421875 L -4.609375 -4.421875 C -4.578125 -4.3125 -4.296875 -4.078125 -4.171875 -4.078125 C -4 -4.078125 -3.734375 -4.390625 -3.734375 -4.546875 C -3.734375 -4.640625 -3.953125 -5 -4.1875 -5 Z M -3.109375 -2.90625 C -2.84375 -2.90625 -2.640625 -2.9375 -2.390625 -2.796875 C -2.265625 -2.71875 -2.046875 -2.609375 -2.046875 -2.21875 C -2.046875 -1.34375 -2.875 -1.515625 -3.09375 -1.515625 C -3.375 -1.515625 -3.578125 -1.46875 -3.828125 -1.625 C -3.953125 -1.703125 -4.171875 -1.8125 -4.171875 -2.21875 C -4.171875 -3.078125 -3.34375 -2.90625 -3.109375 -2.90625 Z M 0.625 -4 C 1.171875 -4 1.5 -3.46875 1.5 -2.5 C 1.5 -1.484375 1.15625 -0.96875 0.625 -0.96875 C 0.171875 -0.96875 -0.046875 -1.171875 -0.0625 -1.609375 L -0.0625 -2.203125 C -0.0625 -3.0625 -0.234375 -4 0.625 -4 Z M 0.625 -4 \\\"\\/>\\n<\\/symbol>\\n<symbol overflow=\\\"visible\\\" id=\\\"glyph-1567442442225004-3-7\\\">\\n<path style=\\\"stroke:none;\\\" d=\\\"M -1.4375 -3.765625 C -1.96875 -3.765625 -2.375 -3.40625 -2.5 -3.296875 C -2.828125 -2.953125 -2.953125 -2.453125 -3.03125 -2.03125 C -3.140625 -1.46875 -3.09375 -0.984375 -3.671875 -0.984375 C -4.03125 -0.984375 -4.28125 -1.0625 -4.28125 -1.921875 C -4.28125 -3.015625 -3.53125 -2.890625 -3.234375 -2.90625 C -3.140625 -2.921875 -3.03125 -3.328125 -3.03125 -3.328125 L -2.984375 -3.203125 C -2.984375 -3.34375 -3.1875 -3.515625 -3.375 -3.515625 L -4.390625 -3.515625 C -4.5625 -3.515625 -4.796875 -3.34375 -4.796875 -3.234375 C -4.796875 -3.1875 -4.75 -3.03125 -4.625 -2.90625 C -4.578125 -2.875 -4.5 -2.765625 -4.5625 -2.84375 C -4.75 -2.609375 -4.796875 -2.078125 -4.796875 -1.921875 C -4.796875 -0.703125 -3.953125 -0.15625 -3.40625 -0.15625 C -3.046875 -0.15625 -2.65625 -0.359375 -2.4375 -0.625 C -2.1875 -0.953125 -2.078125 -1.359375 -1.9375 -2.078125 C -1.890625 -2.296875 -1.890625 -2.9375 -1.171875 -2.9375 C -0.671875 -2.9375 -0.4375 -2.765625 -0.4375 -1.984375 C -0.4375 -1.140625 -0.84375 -0.953125 -1.6875 -0.765625 C -1.8125 -0.734375 -2.03125 -0.5625 -2.03125 -0.453125 C -2.03125 -0.328125 -1.78125 -0.15625 -1.609375 -0.15625 L -0.296875 -0.15625 C -0.125 -0.15625 0.109375 -0.328125 0.109375 -0.4375 C 0.109375 -0.484375 0.046875 -0.625 -0.140625 -0.8125 C -0.15625 -0.828125 -0.171875 -0.828125 -0.234375 -0.890625 C 0.046875 -1.203125 0.109375 -1.78125 0.109375 -1.984375 C 0.109375 -3.125 -0.71875 -3.765625 -1.4375 -3.765625 Z M -1.4375 -3.765625 \\\"\\/>\\n<\\/symbol>\\n<symbol overflow=\\\"visible\\\" id=\\\"glyph-1567442442225004-3-8\\\">\\n<path style=\\\"stroke:none;\\\" d=\\\"M -0.15625 -5.5 L -0.640625 -5.5 C -0.640625 -4.640625 -0.53125 -4.71875 -1.03125 -4.71875 L -4.75 -4.71875 L -4.609375 -2.90625 L -3.984375 -2.90625 C -3.984375 -3.78125 -4.078125 -3.6875 -3.59375 -3.6875 L -1.8125 -3.6875 C -0.953125 -3.6875 -0.4375 -3.390625 -0.4375 -2.65625 C -0.4375 -1.828125 -0.734375 -1.953125 -1.25 -1.953125 L -4.75 -1.953125 L -4.609375 -0.140625 L -3.984375 -0.140625 C -3.984375 -1.09375 -4.109375 -0.921875 -3.234375 -0.921875 L -1.734375 -0.921875 C -0.953125 -0.921875 0.109375 -1.09375 0.109375 -2.609375 C 0.109375 -3.171875 -0.328125 -3.78125 -0.953125 -4.0625 L -0.953125 -3.71875 L 0.125 -3.71875 L -0.015625 -5.5 Z M -0.15625 -5.5 \\\"\\/>\\n<\\/symbol>\\n<symbol overflow=\\\"visible\\\" id=\\\"glyph-1567442442225004-3-9\\\">\\n<path style=\\\"stroke:none;\\\" d=\\\"M -1.34375 -4.3125 C -1.453125 -4.3125 -1.609375 -4.03125 -1.609375 -4 C -1.609375 -3.921875 -1.40625 -3.71875 -1.34375 -3.703125 C -0.421875 -3.40625 -0.46875 -2.9375 -0.46875 -2.578125 C -0.46875 -2.046875 -0.734375 -1.328125 -2.328125 -1.328125 C -3.953125 -1.328125 -4.21875 -1.984375 -4.21875 -2.515625 C -4.21875 -2.609375 -4.25 -3.09375 -4.15625 -3.203125 C -4.140625 -3.171875 -3.671875 -2.9375 -3.546875 -2.9375 C -3.296875 -2.9375 -2.9375 -3.296875 -2.9375 -3.5625 C -2.9375 -3.828125 -3.265625 -4.203125 -3.5625 -4.203125 C -4.234375 -4.203125 -4.796875 -3.265625 -4.796875 -2.5 C -4.796875 -1.25 -3.546875 -0.15625 -2.3125 -0.15625 C -1.03125 -0.15625 0.109375 -1.328125 0.109375 -2.484375 C 0.109375 -3.8125 -1.25 -4.3125 -1.34375 -4.3125 Z M -1.34375 -4.3125 \\\"\\/>\\n<\\/symbol>\\n<\\/g>\\n<clipPath id=\\\"clip-1567442442225004-1\\\">\\n  <path d=\\\"M 35.597656 49 L 229.871094 49 L 229.871094 138 L 35.597656 138 Z M 35.597656 49 \\\"\\/>\\n<\\/clipPath>\\n<clipPath id=\\\"clip-1567442442225004-2\\\">\\n  <path d=\\\"M 35.597656 21 L 229.871094 21 L 229.871094 105 L 35.597656 105 Z M 35.597656 21 \\\"\\/>\\n<\\/clipPath>\\n<clipPath id=\\\"clip-1567442442225004-3\\\">\\n  <path d=\\\"M 35.597656 25 L 229.871094 25 L 229.871094 167.925781 L 35.597656 167.925781 Z M 35.597656 25 \\\"\\/>\\n<\\/clipPath>\\n<\\/defs>\\n<g id=\\\"surface1\\\">\\n<path style=\\\"fill:none;stroke-width:0.19925;stroke-linecap:butt;stroke-linejoin:miter;stroke:rgb(50%,50%,50%);stroke-opacity:1;stroke-miterlimit:10;\\\" d=\\\"M 0.00165625 -0.00078125 L 0.00165625 4.253125 M 38.853219 -0.00078125 L 38.853219 4.253125 M 77.708687 -0.00078125 L 77.708687 4.253125 M 116.564156 -0.00078125 L 116.564156 4.253125 M 155.419625 -0.00078125 L 155.419625 4.253125 M 194.275094 -0.00078125 L 194.275094 4.253125 M 0.00165625 161.397656 L 0.00165625 157.14375 M 38.853219 161.397656 L 38.853219 157.14375 M 77.708687 161.397656 L 77.708687 157.14375 M 116.564156 161.397656 L 116.564156 157.14375 M 155.419625 161.397656 L 155.419625 157.14375 M 194.275094 161.397656 L 194.275094 157.14375 \\\" transform=\\\"matrix(1,0,0,-1,35.596,167.925)\\\"\\/>\\n<path style=\\\"fill:none;stroke-width:0.19925;stroke-linecap:butt;stroke-linejoin:miter;stroke:rgb(50%,50%,50%);stroke-opacity:1;stroke-miterlimit:10;\\\" d=\\\"M 0.00165625 -0.00078125 L 4.251656 -0.00078125 M 0.00165625 32.280469 L 4.251656 32.280469 M 0.00165625 64.557813 L 4.251656 64.557813 M 0.00165625 96.839063 L 4.251656 96.839063 M 0.00165625 129.116406 L 4.251656 129.116406 M 0.00165625 161.397656 L 4.251656 161.397656 M 194.275094 -0.00078125 L 190.021188 -0.00078125 M 194.275094 32.280469 L 190.021188 32.280469 M 194.275094 64.557813 L 190.021188 64.557813 M 194.275094 96.839063 L 190.021188 96.839063 M 194.275094 129.116406 L 190.021188 129.116406 M 194.275094 161.397656 L 190.021188 161.397656 \\\" transform=\\\"matrix(1,0,0,-1,35.596,167.925)\\\"\\/>\\n<path style=\\\"fill:none;stroke-width:0.3985;stroke-linecap:butt;stroke-linejoin:miter;stroke:rgb(0%,0%,0%);stroke-opacity:1;stroke-miterlimit:10;\\\" d=\\\"M 0.00165625 -0.00078125 L 0.00165625 161.397656 L 194.275094 161.397656 L 194.275094 -0.00078125 Z M 0.00165625 -0.00078125 \\\" transform=\\\"matrix(1,0,0,-1,35.596,167.925)\\\"\\/>\\n<g style=\\\"fill:rgb(0%,0%,0%);fill-opacity:1;\\\">\\n  <use xlink:href=\\\"#glyph-1567442442225004-0-1\\\" x=\\\"33.106\\\" y=\\\"177.866\\\"\\/>\\n<\\/g>\\n<g style=\\\"fill:rgb(0%,0%,0%);fill-opacity:1;\\\">\\n  <use xlink:href=\\\"#glyph-1567442442225004-0-2\\\" x=\\\"69.469\\\" y=\\\"177.866\\\"\\/>\\n  <use xlink:href=\\\"#glyph-1567442442225004-0-1\\\" x=\\\"74.45032\\\" y=\\\"177.866\\\"\\/>\\n<\\/g>\\n<g style=\\\"fill:rgb(0%,0%,0%);fill-opacity:1;\\\">\\n  <use xlink:href=\\\"#glyph-1567442442225004-0-3\\\" x=\\\"108.323\\\" y=\\\"177.866\\\"\\/>\\n  <use xlink:href=\\\"#glyph-1567442442225004-0-1\\\" x=\\\"113.30432\\\" y=\\\"177.866\\\"\\/>\\n<\\/g>\\n<g style=\\\"fill:rgb(0%,0%,0%);fill-opacity:1;\\\">\\n  <use xlink:href=\\\"#glyph-1567442442225004-0-4\\\" x=\\\"147.178\\\" y=\\\"177.866\\\"\\/>\\n  <use xlink:href=\\\"#glyph-1567442442225004-0-1\\\" x=\\\"152.15932\\\" y=\\\"177.866\\\"\\/>\\n<\\/g>\\n<g style=\\\"fill:rgb(0%,0%,0%);fill-opacity:1;\\\">\\n  <use xlink:href=\\\"#glyph-1567442442225004-0-5\\\" x=\\\"186.032\\\" y=\\\"177.866\\\"\\/>\\n  <use xlink:href=\\\"#glyph-1567442442225004-0-1\\\" x=\\\"191.01332\\\" y=\\\"177.866\\\"\\/>\\n<\\/g>\\n<g style=\\\"fill:rgb(0%,0%,0%);fill-opacity:1;\\\">\\n  <use xlink:href=\\\"#glyph-1567442442225004-0-6\\\" x=\\\"224.886\\\" y=\\\"177.866\\\"\\/>\\n  <use xlink:href=\\\"#glyph-1567442442225004-0-1\\\" x=\\\"229.86732\\\" y=\\\"177.866\\\"\\/>\\n<\\/g>\\n<g style=\\\"fill:rgb(0%,0%,0%);fill-opacity:1;\\\">\\n  <use xlink:href=\\\"#glyph-1567442442225004-0-1\\\" x=\\\"27.095\\\" y=\\\"171.136\\\"\\/>\\n<\\/g>\\n<g style=\\\"fill:rgb(0%,0%,0%);fill-opacity:1;\\\">\\n  <use xlink:href=\\\"#glyph-1567442442225004-0-1\\\" x=\\\"19.346\\\" y=\\\"138.857\\\"\\/>\\n<\\/g>\\n<g style=\\\"fill:rgb(0%,0%,0%);fill-opacity:1;\\\">\\n  <use xlink:href=\\\"#glyph-1567442442225004-1-1\\\" x=\\\"24.328\\\" y=\\\"138.857\\\"\\/>\\n<\\/g>\\n<g style=\\\"fill:rgb(0%,0%,0%);fill-opacity:1;\\\">\\n  <use xlink:href=\\\"#glyph-1567442442225004-0-3\\\" x=\\\"27.095\\\" y=\\\"138.857\\\"\\/>\\n<\\/g>\\n<g style=\\\"fill:rgb(0%,0%,0%);fill-opacity:1;\\\">\\n  <use xlink:href=\\\"#glyph-1567442442225004-0-1\\\" x=\\\"19.346\\\" y=\\\"106.578\\\"\\/>\\n<\\/g>\\n<g style=\\\"fill:rgb(0%,0%,0%);fill-opacity:1;\\\">\\n  <use xlink:href=\\\"#glyph-1567442442225004-1-1\\\" x=\\\"24.328\\\" y=\\\"106.578\\\"\\/>\\n<\\/g>\\n<g style=\\\"fill:rgb(0%,0%,0%);fill-opacity:1;\\\">\\n  <use xlink:href=\\\"#glyph-1567442442225004-0-5\\\" x=\\\"27.095\\\" y=\\\"106.578\\\"\\/>\\n<\\/g>\\n<g style=\\\"fill:rgb(0%,0%,0%);fill-opacity:1;\\\">\\n  <use xlink:href=\\\"#glyph-1567442442225004-0-1\\\" x=\\\"19.346\\\" y=\\\"74.299\\\"\\/>\\n<\\/g>\\n<g style=\\\"fill:rgb(0%,0%,0%);fill-opacity:1;\\\">\\n  <use xlink:href=\\\"#glyph-1567442442225004-1-1\\\" x=\\\"24.328\\\" y=\\\"74.299\\\"\\/>\\n<\\/g>\\n<g style=\\\"fill:rgb(0%,0%,0%);fill-opacity:1;\\\">\\n  <use xlink:href=\\\"#glyph-1567442442225004-0-7\\\" x=\\\"27.095\\\" y=\\\"74.299\\\"\\/>\\n<\\/g>\\n<g style=\\\"fill:rgb(0%,0%,0%);fill-opacity:1;\\\">\\n  <use xlink:href=\\\"#glyph-1567442442225004-0-1\\\" x=\\\"19.346\\\" y=\\\"42.02\\\"\\/>\\n<\\/g>\\n<g style=\\\"fill:rgb(0%,0%,0%);fill-opacity:1;\\\">\\n  <use xlink:href=\\\"#glyph-1567442442225004-1-1\\\" x=\\\"24.328\\\" y=\\\"42.02\\\"\\/>\\n<\\/g>\\n<g style=\\\"fill:rgb(0%,0%,0%);fill-opacity:1;\\\">\\n  <use xlink:href=\\\"#glyph-1567442442225004-0-8\\\" x=\\\"27.095\\\" y=\\\"42.02\\\"\\/>\\n<\\/g>\\n<g style=\\\"fill:rgb(0%,0%,0%);fill-opacity:1;\\\">\\n  <use xlink:href=\\\"#glyph-1567442442225004-0-2\\\" x=\\\"27.095\\\" y=\\\"9.741\\\"\\/>\\n<\\/g>\\n<g clip-path=\\\"url(#clip-1567442442225004-1)\\\" clip-rule=\\\"nonzero\\\">\\n<path style=\\\"fill:none;stroke-width:1.19553;stroke-linecap:butt;stroke-linejoin:miter;stroke:rgb(0%,0%,100%);stroke-opacity:1;stroke-miterlimit:10;\\\" d=\\\"M 3.884469 47.128125 L 7.771187 55.842969 L 11.657906 63.374219 L 15.540719 68.432813 L 19.427437 72.241406 L 23.314156 74.780469 L 27.196969 77.194531 L 31.083687 79.307813 L 34.970406 81.432813 L 38.853219 83.135938 L 42.739937 84.323438 L 46.626656 85.471875 L 50.509469 86.432813 L 54.396187 87.464063 L 58.282906 88.389844 L 62.165719 89.39375 L 66.052437 90.342969 L 69.939156 91.038281 L 73.825875 91.827344 L 77.708687 92.538281 L 81.595406 93.202344 L 85.482125 93.647656 L 89.364937 94.194531 L 93.251656 94.503125 L 97.138375 94.850781 L 101.021188 95.210156 L 104.907906 95.624219 L 108.794625 95.897656 L 112.677438 96.288281 L 116.564156 96.745313 L 120.450875 97.108594 L 124.333688 97.3625 L 128.220406 97.659375 L 132.107125 97.921094 L 135.989938 98.264844 L 139.876656 98.51875 L 143.763375 98.764844 L 147.650094 99.085156 L 151.532906 99.374219 L 155.419625 99.686719 L 159.306344 99.874219 L 163.189156 100.100781 L 167.075875 100.292188 L 170.962594 100.495313 L 174.845406 100.745313 L 178.732125 100.885938 L 182.618844 101.007031 L 186.501656 101.135938 L 190.388375 101.397656 L 194.275094 101.542188 \\\" transform=\\\"matrix(1,0,0,-1,35.596,167.925)\\\"\\/>\\n<\\/g>\\n<g clip-path=\\\"url(#clip-1567442442225004-2)\\\" clip-rule=\\\"nonzero\\\">\\n<path style=\\\"fill:none;stroke-width:1.19553;stroke-linecap:butt;stroke-linejoin:miter;stroke:rgb(100%,0%,0%);stroke-opacity:1;stroke-miterlimit:10;\\\" d=\\\"M 3.884469 79.889844 L 7.771187 85.944531 L 11.657906 92.05 L 15.540719 96.596875 L 19.427437 99.678906 L 23.314156 102.4875 L 27.196969 105.370313 L 31.083687 107.428906 L 34.970406 109.444531 L 38.853219 110.944531 L 42.739937 112.1125 L 46.626656 113.460156 L 50.509469 114.667188 L 54.396187 115.698438 L 58.282906 116.690625 L 62.165719 117.616406 L 66.052437 118.45625 L 69.939156 119.135938 L 73.825875 119.714063 L 77.708687 120.198438 L 81.595406 120.8 L 85.482125 121.405469 L 89.364937 121.811719 L 93.251656 122.272656 L 97.138375 122.776563 L 101.021188 123.20625 L 104.907906 123.604688 L 108.794625 124.124219 L 112.677438 124.51875 L 116.564156 124.823438 L 120.450875 125.198438 L 124.333688 125.342969 L 128.220406 125.651563 L 132.107125 125.95625 L 135.989938 126.229688 L 139.876656 126.534375 L 143.763375 126.815625 L 147.650094 127.167188 L 151.532906 127.491406 L 155.419625 127.667188 L 159.306344 127.870313 L 163.189156 128.1125 L 167.075875 128.276563 L 170.962594 128.460156 L 174.845406 128.624219 L 178.732125 128.835156 L 182.618844 129.034375 L 186.501656 129.229688 L 190.388375 129.382031 L 194.275094 129.510938 \\\" transform=\\\"matrix(1,0,0,-1,35.596,167.925)\\\"\\/>\\n<\\/g>\\n<g clip-path=\\\"url(#clip-1567442442225004-3)\\\" clip-rule=\\\"nonzero\\\">\\n<path style=\\\"fill:none;stroke-width:1.19553;stroke-linecap:butt;stroke-linejoin:miter;stroke:rgb(44.999695%,29.998779%,14.99939%);stroke-opacity:1;stroke-miterlimit:10;\\\" d=\\\"M 3.884469 15.655469 L 7.771187 29.616406 L 11.657906 41.8 L 15.540719 54.553906 L 19.427437 64.139844 L 23.314156 70.827344 L 27.196969 76.385938 L 31.083687 81.120313 L 34.970406 85.413281 L 38.853219 89.073438 L 42.739937 92.553906 L 46.626656 95.491406 L 50.509469 97.905469 L 54.396187 99.858594 L 58.282906 101.842969 L 62.165719 103.464063 L 66.052437 105.194531 L 69.939156 106.530469 L 73.825875 107.7375 L 77.708687 109.038281 L 81.595406 110.155469 L 85.482125 111.354688 L 89.364937 112.311719 L 93.251656 113.225781 L 97.138375 114.108594 L 101.021188 114.932813 L 104.907906 115.495313 L 108.794625 116.229688 L 112.677438 116.823438 L 116.564156 117.479688 L 120.450875 118.069531 L 124.333688 118.686719 L 128.220406 119.163281 L 132.107125 119.632031 L 135.989938 120.171094 L 139.876656 120.64375 L 143.763375 121.057813 L 147.650094 121.467969 L 151.532906 121.921094 L 155.419625 122.327344 L 159.306344 122.717969 L 163.189156 123.046094 L 167.075875 123.303906 L 170.962594 123.585156 L 174.845406 123.897656 L 178.732125 124.132031 L 182.618844 124.358594 L 186.501656 124.589063 L 190.388375 124.878125 L 194.275094 125.155469 \\\" transform=\\\"matrix(1,0,0,-1,35.596,167.925)\\\"\\/>\\n<\\/g>\\n<g style=\\\"fill:rgb(0%,0%,0%);fill-opacity:1;\\\">\\n  <use xlink:href=\\\"#glyph-1567442442225004-2-1\\\" x=\\\"121.838\\\" y=\\\"191.62\\\"\\/>\\n  <use xlink:href=\\\"#glyph-1567442442225004-2-2\\\" x=\\\"128.622558\\\" y=\\\"191.62\\\"\\/>\\n  <use xlink:href=\\\"#glyph-1567442442225004-2-3\\\" x=\\\"134.161786\\\" y=\\\"191.62\\\"\\/>\\n  <use xlink:href=\\\"#glyph-1567442442225004-2-3\\\" x=\\\"136.9314\\\" y=\\\"191.62\\\"\\/>\\n  <use xlink:href=\\\"#glyph-1567442442225004-2-4\\\" x=\\\"139.701014\\\" y=\\\"191.62\\\"\\/>\\n<\\/g>\\n<g style=\\\"fill:rgb(0%,0%,0%);fill-opacity:1;\\\">\\n  <use xlink:href=\\\"#glyph-1567442442225004-3-1\\\" x=\\\"10.454\\\" y=\\\"121.211\\\"\\/>\\n<\\/g>\\n<g style=\\\"fill:rgb(0%,0%,0%);fill-opacity:1;\\\">\\n  <use xlink:href=\\\"#glyph-1567442442225004-3-2\\\" x=\\\"10.454\\\" y=\\\"114.844873\\\"\\/>\\n<\\/g>\\n<g style=\\\"fill:rgb(0%,0%,0%);fill-opacity:1;\\\">\\n  <use xlink:href=\\\"#glyph-1567442442225004-3-3\\\" x=\\\"10.454\\\" y=\\\"109.863553\\\"\\/>\\n  <use xlink:href=\\\"#glyph-1567442442225004-3-4\\\" x=\\\"10.454\\\" y=\\\"105.440141\\\"\\/>\\n  <use xlink:href=\\\"#glyph-1567442442225004-3-5\\\" x=\\\"10.454\\\" y=\\\"101.534786\\\"\\/>\\n  <use xlink:href=\\\"#glyph-1567442442225004-3-6\\\" x=\\\"10.454\\\" y=\\\"96.553466\\\"\\/>\\n  <use xlink:href=\\\"#glyph-1567442442225004-3-3\\\" x=\\\"10.454\\\" y=\\\"91.572146\\\"\\/>\\n<\\/g>\\n<g style=\\\"fill:rgb(0%,0%,0%);fill-opacity:1;\\\">\\n  <use xlink:href=\\\"#glyph-1567442442225004-3-7\\\" x=\\\"10.454\\\" y=\\\"83.831175\\\"\\/>\\n  <use xlink:href=\\\"#glyph-1567442442225004-3-8\\\" x=\\\"10.454\\\" y=\\\"79.905895\\\"\\/>\\n  <use xlink:href=\\\"#glyph-1567442442225004-3-9\\\" x=\\\"10.454\\\" y=\\\"74.366667\\\"\\/>\\n  <use xlink:href=\\\"#glyph-1567442442225004-3-9\\\" x=\\\"10.454\\\" y=\\\"69.943255\\\"\\/>\\n  <use xlink:href=\\\"#glyph-1567442442225004-3-3\\\" x=\\\"10.454\\\" y=\\\"65.519842\\\"\\/>\\n  <use xlink:href=\\\"#glyph-1567442442225004-3-7\\\" x=\\\"10.454\\\" y=\\\"61.09643\\\"\\/>\\n  <use xlink:href=\\\"#glyph-1567442442225004-3-7\\\" x=\\\"10.454\\\" y=\\\"57.17115\\\"\\/>\\n<\\/g>\\n<path style=\\\"fill-rule:nonzero;fill:rgb(100%,100%,100%);fill-opacity:1;stroke-width:0.3985;stroke-linecap:butt;stroke-linejoin:miter;stroke:rgb(0%,0%,0%);stroke-opacity:1;stroke-miterlimit:10;\\\" d=\\\"M 114.3415 5.042188 L 188.24775 5.042188 L 188.24775 46.315625 L 114.3415 46.315625 Z M 114.3415 5.042188 \\\" transform=\\\"matrix(1,0,0,-1,35.596,167.925)\\\"\\/>\\n<path style=\\\"fill:none;stroke-width:1.19553;stroke-linecap:butt;stroke-linejoin:miter;stroke:rgb(0%,0%,100%);stroke-opacity:1;stroke-miterlimit:10;\\\" d=\\\"M 0.0014375 -0.00178125 L 17.00925 -0.00178125 \\\" transform=\\\"matrix(1,0,0,-1,153.522,129.799)\\\"\\/>\\n<g style=\\\"fill:rgb(0%,0%,0%);fill-opacity:1;\\\">\\n  <use xlink:href=\\\"#glyph-1567442442225004-2-5\\\" x=\\\"173.12\\\" y=\\\"132.509\\\"\\/>\\n  <use xlink:href=\\\"#glyph-1567442442225004-2-6\\\" x=\\\"177.543412\\\" y=\\\"132.509\\\"\\/>\\n  <use xlink:href=\\\"#glyph-1567442442225004-2-4\\\" x=\\\"183.08264\\\" y=\\\"132.509\\\"\\/>\\n<\\/g>\\n<g style=\\\"fill:rgb(0%,0%,0%);fill-opacity:1;\\\">\\n  <use xlink:href=\\\"#glyph-1567442442225004-2-7\\\" x=\\\"190.325479\\\" y=\\\"132.509\\\"\\/>\\n  <use xlink:href=\\\"#glyph-1567442442225004-2-8\\\" x=\\\"195.306799\\\" y=\\\"132.509\\\"\\/>\\n  <use xlink:href=\\\"#glyph-1567442442225004-2-5\\\" x=\\\"199.212154\\\" y=\\\"132.509\\\"\\/>\\n  <use xlink:href=\\\"#glyph-1567442442225004-2-5\\\" x=\\\"203.635566\\\" y=\\\"132.509\\\"\\/>\\n  <use xlink:href=\\\"#glyph-1567442442225004-2-9\\\" x=\\\"208.058978\\\" y=\\\"132.509\\\"\\/>\\n  <use xlink:href=\\\"#glyph-1567442442225004-2-10\\\" x=\\\"213.598206\\\" y=\\\"132.509\\\"\\/>\\n<\\/g>\\n<path style=\\\"fill:none;stroke-width:1.19553;stroke-linecap:butt;stroke-linejoin:miter;stroke:rgb(100%,0%,0%);stroke-opacity:1;stroke-miterlimit:10;\\\" d=\\\"M 0.0014375 0.00090625 L 17.00925 0.00090625 \\\" transform=\\\"matrix(1,0,0,-1,153.522,142.247)\\\"\\/>\\n<g style=\\\"fill:rgb(0%,0%,0%);fill-opacity:1;\\\">\\n  <use xlink:href=\\\"#glyph-1567442442225004-2-4\\\" x=\\\"173.12\\\" y=\\\"145.012\\\"\\/>\\n  <use xlink:href=\\\"#glyph-1567442442225004-2-11\\\" x=\\\"177.04528\\\" y=\\\"145.012\\\"\\/>\\n  <use xlink:href=\\\"#glyph-1567442442225004-2-12\\\" x=\\\"182.0266\\\" y=\\\"145.012\\\"\\/>\\n  <use xlink:href=\\\"#glyph-1567442442225004-2-13\\\" x=\\\"185.075168\\\" y=\\\"145.012\\\"\\/>\\n  <use xlink:href=\\\"#glyph-1567442442225004-2-14\\\" x=\\\"188.950635\\\" y=\\\"145.012\\\"\\/>\\n  <use xlink:href=\\\"#glyph-1567442442225004-2-15\\\" x=\\\"197.249514\\\" y=\\\"145.012\\\"\\/>\\n  <use xlink:href=\\\"#glyph-1567442442225004-2-16\\\" x=\\\"202.230834\\\" y=\\\"145.012\\\"\\/>\\n<\\/g>\\n<path style=\\\"fill:none;stroke-width:1.19553;stroke-linecap:butt;stroke-linejoin:miter;stroke:rgb(44.999695%,29.998779%,14.99939%);stroke-opacity:1;stroke-miterlimit:10;\\\" d=\\\"M 0.0014375 -0.0003125 L 17.00925 -0.0003125 \\\" transform=\\\"matrix(1,0,0,-1,153.522,154.695)\\\"\\/>\\n<g style=\\\"fill:rgb(0%,0%,0%);fill-opacity:1;\\\">\\n  <use xlink:href=\\\"#glyph-1567442442225004-2-17\\\" x=\\\"173.12\\\" y=\\\"157.405\\\"\\/>\\n  <use xlink:href=\\\"#glyph-1567442442225004-2-18\\\" x=\\\"175.889614\\\" y=\\\"157.405\\\"\\/>\\n<\\/g>\\n<g style=\\\"fill:rgb(0%,0%,0%);fill-opacity:1;\\\">\\n  <use xlink:href=\\\"#glyph-1567442442225004-2-13\\\" x=\\\"181.149888\\\" y=\\\"157.405\\\"\\/>\\n  <use xlink:href=\\\"#glyph-1567442442225004-2-5\\\" x=\\\"185.025355\\\" y=\\\"157.405\\\"\\/>\\n  <use xlink:href=\\\"#glyph-1567442442225004-2-8\\\" x=\\\"189.448767\\\" y=\\\"157.405\\\"\\/>\\n  <use xlink:href=\\\"#glyph-1567442442225004-2-19\\\" x=\\\"193.354122\\\" y=\\\"157.405\\\"\\/>\\n<\\/g>\\n<g style=\\\"fill:rgb(0%,0%,0%);fill-opacity:1;\\\">\\n  <use xlink:href=\\\"#glyph-1567442442225004-2-15\\\" x=\\\"198.056488\\\" y=\\\"157.405\\\"\\/>\\n  <use xlink:href=\\\"#glyph-1567442442225004-2-3\\\" x=\\\"203.037808\\\" y=\\\"157.405\\\"\\/>\\n<\\/g>\\n<\\/g>\\n<\\/svg>\\n\\n\"},\"nodeType\":\"DOM\",\"type\":\"node\",\"instanceArgs\":{\"namespace\":\"html\",\"tag\":\"div\"},\"children\":[]}]}}}},\"children\":[{\"props\":{},\"nodeType\":\"ObservableNode\",\"type\":\"node\",\"instanceArgs\":{\"id\":\"ob_69\",\"name\":\"obs-node\"},\"children\":[]}]}]},\n",
       "            window,\n",
       "        );\n",
       "    } else {\n",
       "        document\n",
       "            .querySelector('[data-webio-mountpoint=\"548620482820126331\"]')\n",
       "            .innerHTML = (\n",
       "                '<strong>WebIO not detected. Please read ' +\n",
       "                '<a href=\"https://juliagizmos.github.io/WebIO.jl/latest/troubleshooting/not-detected/\">the troubleshooting guide</a> ' +\n",
       "                'for more information on how to resolve this issue.' +\n",
       "                '</strong>'\n",
       "            );\n",
       "    }\n",
       "    </script>\n",
       "</div>\n"
      ],
      "text/plain": [
       "Node{WebIO.DOM}(WebIO.DOM(:html, :div), Any[Node{WebIO.DOM}(WebIO.DOM(:html, :div), Any[Scope(Node{WebIO.DOM}(WebIO.DOM(:html, :div), Any[Node{WebIO.DOM}(WebIO.DOM(:html, :div), Any[Node{WebIO.DOM}(WebIO.DOM(:html, :label), Any[\"epsgreedy\"], Dict{Symbol,Any}(:className => \"interact \",:style => Dict{Any,Any}(:padding => \"5px 10px 0px 10px\")))], Dict{Symbol,Any}(:className => \"interact-flex-row-left\")), Node{WebIO.DOM}(WebIO.DOM(:html, :div), Any[Node{WebIO.DOM}(WebIO.DOM(:html, :input), Any[], Dict{Symbol,Any}(:max => 11,:min => 1,:attributes => Dict{Any,Any}(:type => \"range\",Symbol(\"data-bind\") => \"numericValue: index, valueUpdate: 'input', event: {change: function (){this.changes(this.changes()+1)}}\",\"orient\" => \"horizontal\"),:step => 1,:className => \"slider slider is-fullwidth\",:style => Dict{Any,Any}()))], Dict{Symbol,Any}(:className => \"interact-flex-row-center\")), Node{WebIO.DOM}(WebIO.DOM(:html, :div), Any[Node{WebIO.DOM}(WebIO.DOM(:html, :p), Any[], Dict{Symbol,Any}(:attributes => Dict(\"data-bind\" => \"text: formatted_val\")))], Dict{Symbol,Any}(:className => \"interact-flex-row-right\"))], Dict{Symbol,Any}(:className => \"interact-flex-row interact-widget\")), Dict{String,Tuple{Observables.AbstractObservable,Union{Nothing, Bool}}}(\"changes\" => (Observable{Int64} with 1 listeners. Value:\n",
       "0, nothing),\"index\" => (Observable{Any} with 2 listeners. Value:\n",
       "6, nothing)), Set(String[]), nothing, Asset[Asset(\"js\", \"knockout\", \"C:\\\\Users\\\\rmoss\\\\.julia\\\\packages\\\\Knockout\\\\1sDlc\\\\src\\\\..\\\\assets\\\\knockout.js\"), Asset(\"js\", \"knockout_punches\", \"C:\\\\Users\\\\rmoss\\\\.julia\\\\packages\\\\Knockout\\\\1sDlc\\\\src\\\\..\\\\assets\\\\knockout_punches.js\"), Asset(\"js\", nothing, \"C:\\\\Users\\\\rmoss\\\\.julia\\\\packages\\\\InteractBase\\\\9mFwe\\\\src\\\\..\\\\assets\\\\all.js\"), Asset(\"css\", nothing, \"C:\\\\Users\\\\rmoss\\\\.julia\\\\packages\\\\InteractBase\\\\9mFwe\\\\src\\\\..\\\\assets\\\\style.css\"), Asset(\"css\", nothing, \"C:\\\\Users\\\\rmoss\\\\.julia\\\\packages\\\\Interact\\\\SbgIk\\\\src\\\\..\\\\assets\\\\bulma_confined.min.css\")], Dict{Any,Any}(\"changes\" => Any[WebIO.JSString(\"(function (val){return (val!=this.model[\\\"changes\\\"]()) ? (this.valueFromJulia[\\\"changes\\\"]=true, this.model[\\\"changes\\\"](val)) : undefined})\")],\"index\" => Any[WebIO.JSString(\"(function (val){return (val!=this.model[\\\"index\\\"]()) ? (this.valueFromJulia[\\\"index\\\"]=true, this.model[\\\"index\\\"](val)) : undefined})\")]), WebIO.ConnectionPool(Channel{Any}(sz_max:32,sz_curr:0), Set(AbstractConnection[]), Base.GenericCondition{Base.AlwaysLockedST}(Base.InvasiveLinkedList{Task}(Task (runnable) @0x0000000013576570, Task (runnable) @0x0000000013576570), Base.AlwaysLockedST(1))), WebIO.JSString[WebIO.JSString(\"function () {\\n    var handler = (function (ko, koPunches) {\\n    ko.punches.enableAll();\\n    ko.bindingHandlers.numericValue = {\\n        init: function(element, valueAccessor, allBindings, data, context) {\\n            var stringified = ko.observable(ko.unwrap(valueAccessor()));\\n            stringified.subscribe(function(value) {\\n                var val = parseFloat(value);\\n                if (!isNaN(val)) {\\n                    valueAccessor()(val);\\n                }\\n            });\\n            valueAccessor().subscribe(function(value) {\\n                var str = JSON.stringify(value);\\n                if ((str == \\\"0\\\") && ([\\\"-0\\\", \\\"-0.\\\"].indexOf(stringified()) >= 0))\\n                     return;\\n                 if ([\\\"null\\\", \\\"\\\"].indexOf(str) >= 0)\\n                     return;\\n                stringified(str);\\n            });\\n            ko.applyBindingsToNode(\\n                element,\\n                {\\n                    value: stringified,\\n                    valueUpdate: allBindings.get('valueUpdate'),\\n                },\\n                context,\\n            );\\n        }\\n    };\\n    var json_data = {\\\"formatted_vals\\\":[\\\"0.0\\\",\\\"0.1\\\",\\\"0.2\\\",\\\"0.3\\\",\\\"0.4\\\",\\\"0.5\\\",\\\"0.6\\\",\\\"0.7\\\",\\\"0.8\\\",\\\"0.9\\\",\\\"1.0\\\"],\\\"changes\\\":WebIO.getval({\\\"name\\\":\\\"changes\\\",\\\"scope\\\":\\\"14586342099903888509\\\",\\\"id\\\":\\\"ob_59\\\",\\\"type\\\":\\\"observable\\\"}),\\\"index\\\":WebIO.getval({\\\"name\\\":\\\"index\\\",\\\"scope\\\":\\\"14586342099903888509\\\",\\\"id\\\":\\\"ob_58\\\",\\\"type\\\":\\\"observable\\\"})};\\n    var self = this;\\n    function AppViewModel() {\\n        for (var key in json_data) {\\n            var el = json_data[key];\\n            this[key] = Array.isArray(el) ? ko.observableArray(el) : ko.observable(el);\\n        }\\n        \\n        [this[\\\"formatted_val\\\"]=ko.computed(    function(){\\n        return this.formatted_vals()[parseInt(this.index())-(1)];\\n    }\\n,this)]\\n        [this[\\\"changes\\\"].subscribe((function (val){!(this.valueFromJulia[\\\"changes\\\"]) ? (WebIO.setval({\\\"name\\\":\\\"changes\\\",\\\"scope\\\":\\\"14586342099903888509\\\",\\\"id\\\":\\\"ob_59\\\",\\\"type\\\":\\\"observable\\\"},val)) : undefined; return this.valueFromJulia[\\\"changes\\\"]=false}),self),this[\\\"index\\\"].subscribe((function (val){!(this.valueFromJulia[\\\"index\\\"]) ? (WebIO.setval({\\\"name\\\":\\\"index\\\",\\\"scope\\\":\\\"14586342099903888509\\\",\\\"id\\\":\\\"ob_58\\\",\\\"type\\\":\\\"observable\\\"},val)) : undefined; return this.valueFromJulia[\\\"index\\\"]=false}),self)]\\n        \\n    }\\n    self.model = new AppViewModel();\\n    self.valueFromJulia = {};\\n    for (var key in json_data) {\\n        self.valueFromJulia[key] = false;\\n    }\\n    ko.applyBindings(self.model, self.dom);\\n}\\n);\\n    (WebIO.importBlock({\\\"data\\\":[{\\\"name\\\":\\\"knockout\\\",\\\"type\\\":\\\"js\\\",\\\"url\\\":\\\"/assetserver/c20779c1e6a079277e91dddf7bd670ca92eea868-knockout.js\\\"},{\\\"name\\\":\\\"knockout_punches\\\",\\\"type\\\":\\\"js\\\",\\\"url\\\":\\\"/assetserver/5d0eeef6d78927a4d06f8ff08a99add46d138283-knockout_punches.js\\\"}],\\\"type\\\":\\\"async_block\\\"})).then((imports) => handler.apply(this, imports));\\n}\\n\")])], Dict{Symbol,Any}(:className => \"field interact-widget\")), Node{WebIO.DOM}(WebIO.DOM(:html, :div), Any[Scope(Node{WebIO.DOM}(WebIO.DOM(:html, :div), Any[Node{WebIO.DOM}(WebIO.DOM(:html, :div), Any[Node{WebIO.DOM}(WebIO.DOM(:html, :label), Any[\"softmax\"], Dict{Symbol,Any}(:className => \"interact \",:style => Dict{Any,Any}(:padding => \"5px 10px 0px 10px\")))], Dict{Symbol,Any}(:className => \"interact-flex-row-left\")), Node{WebIO.DOM}(WebIO.DOM(:html, :div), Any[Node{WebIO.DOM}(WebIO.DOM(:html, :input), Any[], Dict{Symbol,Any}(:max => 21,:min => 1,:attributes => Dict{Any,Any}(:type => \"range\",Symbol(\"data-bind\") => \"numericValue: index, valueUpdate: 'input', event: {change: function (){this.changes(this.changes()+1)}}\",\"orient\" => \"horizontal\"),:step => 1,:className => \"slider slider is-fullwidth\",:style => Dict{Any,Any}()))], Dict{Symbol,Any}(:className => \"interact-flex-row-center\")), Node{WebIO.DOM}(WebIO.DOM(:html, :div), Any[Node{WebIO.DOM}(WebIO.DOM(:html, :p), Any[], Dict{Symbol,Any}(:attributes => Dict(\"data-bind\" => \"text: formatted_val\")))], Dict{Symbol,Any}(:className => \"interact-flex-row-right\"))], Dict{Symbol,Any}(:className => \"interact-flex-row interact-widget\")), Dict{String,Tuple{Observables.AbstractObservable,Union{Nothing, Bool}}}(\"changes\" => (Observable{Int64} with 1 listeners. Value:\n",
       "0, nothing),\"index\" => (Observable{Any} with 2 listeners. Value:\n",
       "11, nothing)), Set(String[]), nothing, Asset[Asset(\"js\", \"knockout\", \"C:\\\\Users\\\\rmoss\\\\.julia\\\\packages\\\\Knockout\\\\1sDlc\\\\src\\\\..\\\\assets\\\\knockout.js\"), Asset(\"js\", \"knockout_punches\", \"C:\\\\Users\\\\rmoss\\\\.julia\\\\packages\\\\Knockout\\\\1sDlc\\\\src\\\\..\\\\assets\\\\knockout_punches.js\"), Asset(\"js\", nothing, \"C:\\\\Users\\\\rmoss\\\\.julia\\\\packages\\\\InteractBase\\\\9mFwe\\\\src\\\\..\\\\assets\\\\all.js\"), Asset(\"css\", nothing, \"C:\\\\Users\\\\rmoss\\\\.julia\\\\packages\\\\InteractBase\\\\9mFwe\\\\src\\\\..\\\\assets\\\\style.css\"), Asset(\"css\", nothing, \"C:\\\\Users\\\\rmoss\\\\.julia\\\\packages\\\\Interact\\\\SbgIk\\\\src\\\\..\\\\assets\\\\bulma_confined.min.css\")], Dict{Any,Any}(\"changes\" => Any[WebIO.JSString(\"(function (val){return (val!=this.model[\\\"changes\\\"]()) ? (this.valueFromJulia[\\\"changes\\\"]=true, this.model[\\\"changes\\\"](val)) : undefined})\")],\"index\" => Any[WebIO.JSString(\"(function (val){return (val!=this.model[\\\"index\\\"]()) ? (this.valueFromJulia[\\\"index\\\"]=true, this.model[\\\"index\\\"](val)) : undefined})\")]), WebIO.ConnectionPool(Channel{Any}(sz_max:32,sz_curr:0), Set(AbstractConnection[]), Base.GenericCondition{Base.AlwaysLockedST}(Base.InvasiveLinkedList{Task}(Task (runnable) @0x000000002bb8a850, Task (runnable) @0x000000002bb8a850), Base.AlwaysLockedST(1))), WebIO.JSString[WebIO.JSString(\"function () {\\n    var handler = (function (ko, koPunches) {\\n    ko.punches.enableAll();\\n    ko.bindingHandlers.numericValue = {\\n        init: function(element, valueAccessor, allBindings, data, context) {\\n            var stringified = ko.observable(ko.unwrap(valueAccessor()));\\n            stringified.subscribe(function(value) {\\n                var val = parseFloat(value);\\n                if (!isNaN(val)) {\\n                    valueAccessor()(val);\\n                }\\n            });\\n            valueAccessor().subscribe(function(value) {\\n                var str = JSON.stringify(value);\\n                if ((str == \\\"0\\\") && ([\\\"-0\\\", \\\"-0.\\\"].indexOf(stringified()) >= 0))\\n                     return;\\n                 if ([\\\"null\\\", \\\"\\\"].indexOf(str) >= 0)\\n                     return;\\n                stringified(str);\\n            });\\n            ko.applyBindingsToNode(\\n                element,\\n                {\\n                    value: stringified,\\n                    valueUpdate: allBindings.get('valueUpdate'),\\n                },\\n                context,\\n            );\\n        }\\n    };\\n    var json_data = {\\\"formatted_vals\\\":[\\\"0\\\",\\\"2\\\",\\\"4\\\",\\\"6\\\",\\\"8\\\",\\\"10\\\",\\\"12\\\",\\\"14\\\",\\\"16\\\",\\\"18\\\",\\\"20\\\",\\\"22\\\",\\\"24\\\",\\\"26\\\",\\\"28\\\",\\\"30\\\",\\\"32\\\",\\\"34\\\",\\\"36\\\",\\\"38\\\",\\\"40\\\"],\\\"changes\\\":WebIO.getval({\\\"name\\\":\\\"changes\\\",\\\"scope\\\":\\\"4790433905573750915\\\",\\\"id\\\":\\\"ob_62\\\",\\\"type\\\":\\\"observable\\\"}),\\\"index\\\":WebIO.getval({\\\"name\\\":\\\"index\\\",\\\"scope\\\":\\\"4790433905573750915\\\",\\\"id\\\":\\\"ob_61\\\",\\\"type\\\":\\\"observable\\\"})};\\n    var self = this;\\n    function AppViewModel() {\\n        for (var key in json_data) {\\n            var el = json_data[key];\\n            this[key] = Array.isArray(el) ? ko.observableArray(el) : ko.observable(el);\\n        }\\n        \\n        [this[\\\"formatted_val\\\"]=ko.computed(    function(){\\n        return this.formatted_vals()[parseInt(this.index())-(1)];\\n    }\\n,this)]\\n        [this[\\\"changes\\\"].subscribe((function (val){!(this.valueFromJulia[\\\"changes\\\"]) ? (WebIO.setval({\\\"name\\\":\\\"changes\\\",\\\"scope\\\":\\\"4790433905573750915\\\",\\\"id\\\":\\\"ob_62\\\",\\\"type\\\":\\\"observable\\\"},val)) : undefined; return this.valueFromJulia[\\\"changes\\\"]=false}),self),this[\\\"index\\\"].subscribe((function (val){!(this.valueFromJulia[\\\"index\\\"]) ? (WebIO.setval({\\\"name\\\":\\\"index\\\",\\\"scope\\\":\\\"4790433905573750915\\\",\\\"id\\\":\\\"ob_61\\\",\\\"type\\\":\\\"observable\\\"},val)) : undefined; return this.valueFromJulia[\\\"index\\\"]=false}),self)]\\n        \\n    }\\n    self.model = new AppViewModel();\\n    self.valueFromJulia = {};\\n    for (var key in json_data) {\\n        self.valueFromJulia[key] = false;\\n    }\\n    ko.applyBindings(self.model, self.dom);\\n}\\n);\\n    (WebIO.importBlock({\\\"data\\\":[{\\\"name\\\":\\\"knockout\\\",\\\"type\\\":\\\"js\\\",\\\"url\\\":\\\"/assetserver/c20779c1e6a079277e91dddf7bd670ca92eea868-knockout.js\\\"},{\\\"name\\\":\\\"knockout_punches\\\",\\\"type\\\":\\\"js\\\",\\\"url\\\":\\\"/assetserver/5d0eeef6d78927a4d06f8ff08a99add46d138283-knockout_punches.js\\\"}],\\\"type\\\":\\\"async_block\\\"})).then((imports) => handler.apply(this, imports));\\n}\\n\")])], Dict{Symbol,Any}(:className => \"field interact-widget\")), Node{WebIO.DOM}(WebIO.DOM(:html, :div), Any[Scope(Node{WebIO.DOM}(WebIO.DOM(:html, :div), Any[Node{WebIO.DOM}(WebIO.DOM(:html, :div), Any[Node{WebIO.DOM}(WebIO.DOM(:html, :label), Any[\"interval\"], Dict{Symbol,Any}(:className => \"interact \",:style => Dict{Any,Any}(:padding => \"5px 10px 0px 10px\")))], Dict{Symbol,Any}(:className => \"interact-flex-row-left\")), Node{WebIO.DOM}(WebIO.DOM(:html, :div), Any[Node{WebIO.DOM}(WebIO.DOM(:html, :input), Any[], Dict{Symbol,Any}(:max => 11,:min => 1,:attributes => Dict{Any,Any}(:type => \"range\",Symbol(\"data-bind\") => \"numericValue: index, valueUpdate: 'input', event: {change: function (){this.changes(this.changes()+1)}}\",\"orient\" => \"horizontal\"),:step => 1,:className => \"slider slider is-fullwidth\",:style => Dict{Any,Any}()))], Dict{Symbol,Any}(:className => \"interact-flex-row-center\")), Node{WebIO.DOM}(WebIO.DOM(:html, :div), Any[Node{WebIO.DOM}(WebIO.DOM(:html, :p), Any[], Dict{Symbol,Any}(:attributes => Dict(\"data-bind\" => \"text: formatted_val\")))], Dict{Symbol,Any}(:className => \"interact-flex-row-right\"))], Dict{Symbol,Any}(:className => \"interact-flex-row interact-widget\")), Dict{String,Tuple{Observables.AbstractObservable,Union{Nothing, Bool}}}(\"changes\" => (Observable{Int64} with 1 listeners. Value:\n",
       "0, nothing),\"index\" => (Observable{Any} with 2 listeners. Value:\n",
       "6, nothing)), Set(String[]), nothing, Asset[Asset(\"js\", \"knockout\", \"C:\\\\Users\\\\rmoss\\\\.julia\\\\packages\\\\Knockout\\\\1sDlc\\\\src\\\\..\\\\assets\\\\knockout.js\"), Asset(\"js\", \"knockout_punches\", \"C:\\\\Users\\\\rmoss\\\\.julia\\\\packages\\\\Knockout\\\\1sDlc\\\\src\\\\..\\\\assets\\\\knockout_punches.js\"), Asset(\"js\", nothing, \"C:\\\\Users\\\\rmoss\\\\.julia\\\\packages\\\\InteractBase\\\\9mFwe\\\\src\\\\..\\\\assets\\\\all.js\"), Asset(\"css\", nothing, \"C:\\\\Users\\\\rmoss\\\\.julia\\\\packages\\\\InteractBase\\\\9mFwe\\\\src\\\\..\\\\assets\\\\style.css\"), Asset(\"css\", nothing, \"C:\\\\Users\\\\rmoss\\\\.julia\\\\packages\\\\Interact\\\\SbgIk\\\\src\\\\..\\\\assets\\\\bulma_confined.min.css\")], Dict{Any,Any}(\"changes\" => Any[WebIO.JSString(\"(function (val){return (val!=this.model[\\\"changes\\\"]()) ? (this.valueFromJulia[\\\"changes\\\"]=true, this.model[\\\"changes\\\"](val)) : undefined})\")],\"index\" => Any[WebIO.JSString(\"(function (val){return (val!=this.model[\\\"index\\\"]()) ? (this.valueFromJulia[\\\"index\\\"]=true, this.model[\\\"index\\\"](val)) : undefined})\")]), WebIO.ConnectionPool(Channel{Any}(sz_max:32,sz_curr:0), Set(AbstractConnection[]), Base.GenericCondition{Base.AlwaysLockedST}(Base.InvasiveLinkedList{Task}(Task (runnable) @0x000000002bb8b3d0, Task (runnable) @0x000000002bb8b3d0), Base.AlwaysLockedST(1))), WebIO.JSString[WebIO.JSString(\"function () {\\n    var handler = (function (ko, koPunches) {\\n    ko.punches.enableAll();\\n    ko.bindingHandlers.numericValue = {\\n        init: function(element, valueAccessor, allBindings, data, context) {\\n            var stringified = ko.observable(ko.unwrap(valueAccessor()));\\n            stringified.subscribe(function(value) {\\n                var val = parseFloat(value);\\n                if (!isNaN(val)) {\\n                    valueAccessor()(val);\\n                }\\n            });\\n            valueAccessor().subscribe(function(value) {\\n                var str = JSON.stringify(value);\\n                if ((str == \\\"0\\\") && ([\\\"-0\\\", \\\"-0.\\\"].indexOf(stringified()) >= 0))\\n                     return;\\n                 if ([\\\"null\\\", \\\"\\\"].indexOf(str) >= 0)\\n                     return;\\n                stringified(str);\\n            });\\n            ko.applyBindingsToNode(\\n                element,\\n                {\\n                    value: stringified,\\n                    valueUpdate: allBindings.get('valueUpdate'),\\n                },\\n                context,\\n            );\\n        }\\n    };\\n    var json_data = {\\\"formatted_vals\\\":[\\\"0.5\\\",\\\"0.55\\\",\\\"0.6\\\",\\\"0.65\\\",\\\"0.7\\\",\\\"0.75\\\",\\\"0.8\\\",\\\"0.85\\\",\\\"0.9\\\",\\\"0.95\\\",\\\"1.0\\\"],\\\"changes\\\":WebIO.getval({\\\"name\\\":\\\"changes\\\",\\\"scope\\\":\\\"4006895676869635604\\\",\\\"id\\\":\\\"ob_65\\\",\\\"type\\\":\\\"observable\\\"}),\\\"index\\\":WebIO.getval({\\\"name\\\":\\\"index\\\",\\\"scope\\\":\\\"4006895676869635604\\\",\\\"id\\\":\\\"ob_64\\\",\\\"type\\\":\\\"observable\\\"})};\\n    var self = this;\\n    function AppViewModel() {\\n        for (var key in json_data) {\\n            var el = json_data[key];\\n            this[key] = Array.isArray(el) ? ko.observableArray(el) : ko.observable(el);\\n        }\\n        \\n        [this[\\\"formatted_val\\\"]=ko.computed(    function(){\\n        return this.formatted_vals()[parseInt(this.index())-(1)];\\n    }\\n,this)]\\n        [this[\\\"changes\\\"].subscribe((function (val){!(this.valueFromJulia[\\\"changes\\\"]) ? (WebIO.setval({\\\"name\\\":\\\"changes\\\",\\\"scope\\\":\\\"4006895676869635604\\\",\\\"id\\\":\\\"ob_65\\\",\\\"type\\\":\\\"observable\\\"},val)) : undefined; return this.valueFromJulia[\\\"changes\\\"]=false}),self),this[\\\"index\\\"].subscribe((function (val){!(this.valueFromJulia[\\\"index\\\"]) ? (WebIO.setval({\\\"name\\\":\\\"index\\\",\\\"scope\\\":\\\"4006895676869635604\\\",\\\"id\\\":\\\"ob_64\\\",\\\"type\\\":\\\"observable\\\"},val)) : undefined; return this.valueFromJulia[\\\"index\\\"]=false}),self)]\\n        \\n    }\\n    self.model = new AppViewModel();\\n    self.valueFromJulia = {};\\n    for (var key in json_data) {\\n        self.valueFromJulia[key] = false;\\n    }\\n    ko.applyBindings(self.model, self.dom);\\n}\\n);\\n    (WebIO.importBlock({\\\"data\\\":[{\\\"name\\\":\\\"knockout\\\",\\\"type\\\":\\\"js\\\",\\\"url\\\":\\\"/assetserver/c20779c1e6a079277e91dddf7bd670ca92eea868-knockout.js\\\"},{\\\"name\\\":\\\"knockout_punches\\\",\\\"type\\\":\\\"js\\\",\\\"url\\\":\\\"/assetserver/5d0eeef6d78927a4d06f8ff08a99add46d138283-knockout_punches.js\\\"}],\\\"type\\\":\\\"async_block\\\"})).then((imports) => handler.apply(this, imports));\\n}\\n\")])], Dict{Symbol,Any}(:className => \"field interact-widget\")), Observable{Any} with 0 listeners. Value:\n",
       "Node{WebIO.DOM}(WebIO.DOM(:html, :div), Any[Axis(PGFPlots.Plots.Plot[PGFPlots.Plots.Linear(Real[1.0 2.0 … 49.0 50.0; 0.292 0.346 … 0.6282448979591837 0.62914], \"none\", nothing, \"very thick\", \"eps greedy\", nothing, nothing), PGFPlots.Plots.Linear(Real[1.0 2.0 … 49.0 50.0; 0.495 0.5325 … 0.8016326530612246 0.80244], \"none\", nothing, \"very thick\", \"softmax\", nothing, nothing), PGFPlots.Plots.Linear(Real[1.0 2.0 … 49.0 50.0; 0.097 0.1835 … 0.773734693877551 0.77546], \"none\", nothing, \"very thick\", \"interval\", nothing, nothing)], nothing, \"Pulls\", nothing, \"Average success\", nothing, nothing, nothing, 0, 50, 0, 1, nothing, nothing, nothing, nothing, nothing, nothing, nothing, \"legend pos=south east\", nothing, nothing, nothing, nothing, nothing, nothing, nothing, nothing, \"axis\")], Dict{Symbol,Any}(:className => \"interact-flex-row interact-widget\"))], Dict{Symbol,Any}())"
      ]
     },
     "execution_count": 7,
     "metadata": {
      "application/vnd.webio.node+json": {
       "kernelId": "d28b9f55-0f48-4f9f-975f-a2bafbcbc949"
      }
     },
     "output_type": "execute_result"
    }
   ],
   "source": [
    "steps = 50\n",
    "iterations = 1000\n",
    "bandit = Bandit(collect(0.1:0.2:1))\n",
    "# bandit = Bandit(collect(1:-0.2:0.1))\n",
    "epsgreedy = 0.1\n",
    "softmax = 2\n",
    "interval = 0.05\n",
    "@manipulate for epsgreedy in 0:0.1:1, softmax in 0:2:40, interval in 0.5:0.05:1\n",
    "    epsGreedyResults = simulateAverage(bandit, EpsGreedy(epsgreedy), steps=steps, iterations = iterations)./collect(1:steps)\n",
    "    softMaxResults = simulateAverage(bandit, SoftMax(softmax), steps=steps, iterations = iterations)./collect(1:steps)\n",
    "    intervalResults = simulateAverage(bandit, IntervalExploration(interval), steps=steps, iterations = iterations)./collect(1:steps)\n",
    "    Axis([\n",
    "        Plots.Linear(epsGreedyResults, legendentry=\"eps greedy\", style=\"very thick\", mark=\"none\"),\n",
    "        Plots.Linear(softMaxResults, legendentry=\"softmax\", style=\"very thick\", mark=\"none\"),  \n",
    "        Plots.Linear(intervalResults, legendentry=\"interval\", style=\"very thick\", mark=\"none\")  \n",
    "        ], style=\"legend pos=south east\", ymin=0, ymax=1, xmin=0, xmax=steps, xlabel=\"Pulls\", ylabel=\"Average success\")\n",
    "end"
   ]
  }
 ],
 "metadata": {
  "@webio": {
   "lastCommId": "112869609423446ba86d3a88e94e7ced",
   "lastKernelId": "21615353-c0d3-4394-b9e9-28c4f4621f15"
  },
  "anaconda-cloud": {},
  "kernelspec": {
   "display_name": "Julia 1.2.0",
   "language": "julia",
   "name": "julia-1.2"
  },
  "language_info": {
   "file_extension": ".jl",
   "mimetype": "application/julia",
   "name": "julia",
   "version": "1.2.0"
  },
  "widgets": {
   "state": {
    "0e40d84f-ddb6-4ee1-8db6-a3bc8441d940": {
     "views": [
      {
       "cell_index": 3
      }
     ]
    },
    "18eb3a08-fff6-4cf8-aa7b-6fa1e51d7a20": {
     "views": [
      {
       "cell_index": 3
      }
     ]
    },
    "1d46ad8c-32f7-484a-8d3b-b2bed71d0614": {
     "views": [
      {
       "cell_index": 3
      }
     ]
    },
    "32f8a69d-a043-4097-a219-ad7ca74cc8de": {
     "views": [
      {
       "cell_index": 5
      }
     ]
    },
    "427bd531-52fb-4cc5-933c-02548bccf941": {
     "views": [
      {
       "cell_index": 10
      }
     ]
    },
    "434aff25-b296-444f-9302-4384eb672f20": {
     "views": [
      {
       "cell_index": 3
      }
     ]
    },
    "56d454f0-3968-4acf-a6ec-2d981cfdda41": {
     "views": [
      {
       "cell_index": 5
      }
     ]
    },
    "5811ad0d-93de-4a1c-a3ad-c01cca0e33d1": {
     "views": [
      {
       "cell_index": 3
      }
     ]
    },
    "5c0352ac-3c9a-476f-86b1-61add24305ce": {
     "views": [
      {
       "cell_index": 5
      }
     ]
    },
    "72f214ab-cea5-4048-b06f-6bb109825a3b": {
     "views": [
      {
       "cell_index": 5
      }
     ]
    },
    "74a51d51-fab5-4c88-b896-bfeb3a16d921": {
     "views": [
      {
       "cell_index": 10
      }
     ]
    },
    "828887f2-44eb-479f-8dbe-0c027d557c48": {
     "views": [
      {
       "cell_index": 10
      }
     ]
    },
    "9b4808d9-8bfa-41c8-9b4a-fe7918a54a03": {
     "views": [
      {
       "cell_index": 3
      }
     ]
    },
    "ca5363b2-0c70-4c86-8be5-c67f95dbf98f": {
     "views": [
      {
       "cell_index": 3
      }
     ]
    },
    "cb61d392-ec45-4bcc-b308-5332e560ac5b": {
     "views": [
      {
       "cell_index": 10
      }
     ]
    },
    "da711f52-4a08-4a83-8294-3f1263fc18fe": {
     "views": [
      {
       "cell_index": 3
      }
     ]
    },
    "dd506f94-f99b-46e1-8086-12e7edd51b47": {
     "views": [
      {
       "cell_index": 10
      }
     ]
    },
    "e0fc5f15-e407-4b0e-853f-e873c65200c2": {
     "views": [
      {
       "cell_index": 3
      }
     ]
    },
    "f81d86f3-720c-4a05-8685-290724eef008": {
     "views": [
      {
       "cell_index": 3
      }
     ]
    }
   },
   "version": "1.2.0"
  }
 },
 "nbformat": 4,
 "nbformat_minor": 1
}
