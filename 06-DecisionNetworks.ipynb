{
 "cells": [
  {
   "cell_type": "markdown",
   "metadata": {},
   "source": [
    "# Decision Networks"
   ]
  },
  {
   "cell_type": "code",
   "execution_count": 1,
   "metadata": {},
   "outputs": [],
   "source": [
    "using BayesNets\n",
    "using DataFrames"
   ]
  },
  {
   "cell_type": "code",
   "execution_count": 2,
   "metadata": {},
   "outputs": [
    {
     "data": {
      "image/svg+xml": [
       "<?xml version=\"1.0\" encoding=\"UTF-8\"?>\n",
       "<svg xmlns=\"http://www.w3.org/2000/svg\" xmlns:xlink=\"http://www.w3.org/1999/xlink\" width=\"76.066pt\" height=\"42.011pt\" viewBox=\"0 0 76.066 42.011\" version=\"1.1\">\n",
       "<defs>\n",
       "<g>\n",
       "<symbol overflow=\"visible\" id=\"glyph-1536453577330693-0-0\">\n",
       "<path style=\"stroke:none;\" d=\"\"/>\n",
       "</symbol>\n",
       "<symbol overflow=\"visible\" id=\"glyph-1536453577330693-0-1\">\n",
       "<path style=\"stroke:none;\" d=\"M 7.046875 -3.34375 C 7.046875 -5.25 5.703125 -6.8125 4 -6.8125 L 0.34375 -6.8125 L 0.34375 -6.5 L 0.59375 -6.5 C 1.359375 -6.5 1.375 -6.390625 1.375 -6.03125 L 1.375 -0.78125 C 1.375 -0.421875 1.359375 -0.3125 0.59375 -0.3125 L 0.34375 -0.3125 L 0.34375 0 L 4 0 C 5.671875 0 7.046875 -1.46875 7.046875 -3.34375 Z M 6.046875 -3.34375 C 6.046875 -2.25 5.859375 -1.640625 5.5 -1.15625 C 5.296875 -0.890625 4.734375 -0.3125 3.734375 -0.3125 L 2.71875 -0.3125 C 2.25 -0.3125 2.234375 -0.375 2.234375 -0.703125 L 2.234375 -6.09375 C 2.234375 -6.4375 2.25 -6.5 2.71875 -6.5 L 3.71875 -6.5 C 4.34375 -6.5 5.03125 -6.28125 5.53125 -5.578125 C 5.96875 -4.984375 6.046875 -4.125 6.046875 -3.34375 Z M 6.046875 -3.34375 \"/>\n",
       "</symbol>\n",
       "<symbol overflow=\"visible\" id=\"glyph-1536453577330693-0-2\">\n",
       "<path style=\"stroke:none;\" d=\"M 7.1875 -3.375 C 7.1875 -5.40625 5.6875 -7.03125 3.875 -7.03125 C 2.078125 -7.03125 0.5625 -5.4375 0.5625 -3.375 C 0.5625 -1.328125 2.09375 0.21875 3.875 0.21875 C 5.6875 0.21875 7.1875 -1.359375 7.1875 -3.375 Z M 6.15625 -3.515625 C 6.15625 -0.875 4.796875 -0.046875 3.875 -0.046875 C 2.921875 -0.046875 1.578125 -0.921875 1.578125 -3.515625 C 1.578125 -6.09375 3.046875 -6.78125 3.875 -6.78125 C 4.734375 -6.78125 6.15625 -6.078125 6.15625 -3.515625 Z M 6.15625 -3.515625 \"/>\n",
       "</symbol>\n",
       "<symbol overflow=\"visible\" id=\"glyph-1536453577330693-0-3\">\n",
       "<path style=\"stroke:none;\" d=\"M 4.5625 -1.703125 C 4.5625 -2.515625 3.921875 -3.296875 2.890625 -3.515625 C 3.703125 -3.78125 4.28125 -4.46875 4.28125 -5.265625 C 4.28125 -6.078125 3.40625 -6.640625 2.453125 -6.640625 C 1.453125 -6.640625 0.6875 -6.046875 0.6875 -5.28125 C 0.6875 -4.953125 0.90625 -4.765625 1.203125 -4.765625 C 1.5 -4.765625 1.703125 -4.984375 1.703125 -5.28125 C 1.703125 -5.765625 1.234375 -5.765625 1.09375 -5.765625 C 1.390625 -6.265625 2.046875 -6.390625 2.40625 -6.390625 C 2.828125 -6.390625 3.375 -6.171875 3.375 -5.28125 C 3.375 -5.15625 3.34375 -4.578125 3.09375 -4.140625 C 2.796875 -3.65625 2.453125 -3.625 2.203125 -3.625 C 2.125 -3.609375 1.890625 -3.59375 1.8125 -3.59375 C 1.734375 -3.578125 1.671875 -3.5625 1.671875 -3.46875 C 1.671875 -3.359375 1.734375 -3.359375 1.90625 -3.359375 L 2.34375 -3.359375 C 3.15625 -3.359375 3.53125 -2.6875 3.53125 -1.703125 C 3.53125 -0.34375 2.84375 -0.0625 2.40625 -0.0625 C 1.96875 -0.0625 1.21875 -0.234375 0.875 -0.8125 C 1.21875 -0.765625 1.53125 -0.984375 1.53125 -1.359375 C 1.53125 -1.71875 1.265625 -1.921875 0.984375 -1.921875 C 0.734375 -1.921875 0.421875 -1.78125 0.421875 -1.34375 C 0.421875 -0.4375 1.34375 0.21875 2.4375 0.21875 C 3.65625 0.21875 4.5625 -0.6875 4.5625 -1.703125 Z M 4.5625 -1.703125 \"/>\n",
       "</symbol>\n",
       "<symbol overflow=\"visible\" id=\"glyph-1536453577330693-0-4\">\n",
       "<path style=\"stroke:none;\" d=\"M 4.171875 0 L 4.171875 -0.3125 L 3.859375 -0.3125 C 2.953125 -0.3125 2.9375 -0.421875 2.9375 -0.78125 L 2.9375 -6.375 C 2.9375 -6.625 2.9375 -6.640625 2.703125 -6.640625 C 2.078125 -6 1.203125 -6 0.890625 -6 L 0.890625 -5.6875 C 1.09375 -5.6875 1.671875 -5.6875 2.1875 -5.953125 L 2.1875 -0.78125 C 2.1875 -0.421875 2.15625 -0.3125 1.265625 -0.3125 L 0.953125 -0.3125 L 0.953125 0 C 1.296875 -0.03125 2.15625 -0.03125 2.5625 -0.03125 C 2.953125 -0.03125 3.828125 -0.03125 4.171875 0 Z M 4.171875 0 \"/>\n",
       "</symbol>\n",
       "<symbol overflow=\"visible\" id=\"glyph-1536453577330693-0-5\">\n",
       "<path style=\"stroke:none;\" d=\"M 4.46875 -1.734375 L 4.234375 -1.734375 C 4.171875 -1.4375 4.109375 -1 4 -0.84375 C 3.9375 -0.765625 3.28125 -0.765625 3.0625 -0.765625 L 1.265625 -0.765625 L 2.328125 -1.796875 C 3.875 -3.171875 4.46875 -3.703125 4.46875 -4.703125 C 4.46875 -5.84375 3.578125 -6.640625 2.359375 -6.640625 C 1.234375 -6.640625 0.5 -5.71875 0.5 -4.828125 C 0.5 -4.28125 1 -4.28125 1.03125 -4.28125 C 1.203125 -4.28125 1.546875 -4.390625 1.546875 -4.8125 C 1.546875 -5.0625 1.359375 -5.328125 1.015625 -5.328125 C 0.9375 -5.328125 0.921875 -5.328125 0.890625 -5.3125 C 1.109375 -5.96875 1.65625 -6.328125 2.234375 -6.328125 C 3.140625 -6.328125 3.5625 -5.515625 3.5625 -4.703125 C 3.5625 -3.90625 3.078125 -3.125 2.515625 -2.5 L 0.609375 -0.375 C 0.5 -0.265625 0.5 -0.234375 0.5 0 L 4.203125 0 Z M 4.46875 -1.734375 \"/>\n",
       "</symbol>\n",
       "</g>\n",
       "</defs>\n",
       "<g id=\"surface1\">\n",
       "<path style=\"fill:none;stroke-width:0.3985;stroke-linecap:butt;stroke-linejoin:miter;stroke:rgb(0%,0%,0%);stroke-opacity:1;stroke-miterlimit:10;\" d=\"M -6.923625 -6.921531 L -20.880656 -20.882469 \" transform=\"matrix(1,0,0,-1,38.033,6.723)\"/>\n",
       "<path style=\"fill:none;stroke-width:0.31879;stroke-linecap:round;stroke-linejoin:round;stroke:rgb(0%,0%,0%);stroke-opacity:1;stroke-miterlimit:10;\" d=\"M -1.195883 1.595069 C -1.096448 0.998437 0.000131529 0.10072 0.298446 0.00127954 C 0.000130123 -0.0981569 -1.096462 -0.995858 -1.195905 -1.592489 \" transform=\"matrix(-0.70709,0.7071,0.7071,0.70709,17.15153,27.60447)\"/>\n",
       "<path style=\"fill:none;stroke-width:0.3985;stroke-linecap:butt;stroke-linejoin:miter;stroke:rgb(0%,0%,0%);stroke-opacity:1;stroke-miterlimit:10;\" d=\"M -0.00175 -6.921531 L -0.00175 -20.74575 \" transform=\"matrix(1,0,0,-1,38.033,6.723)\"/>\n",
       "<path style=\"fill:none;stroke-width:0.31879;stroke-linecap:round;stroke-linejoin:round;stroke:rgb(0%,0%,0%);stroke-opacity:1;stroke-miterlimit:10;\" d=\"M -1.196802 1.595906 C -1.09524 0.994344 -0.00149 0.0998125 0.299291 -0.00175 C -0.00149 -0.0994063 -1.09524 -0.997844 -1.196802 -1.5955 \" transform=\"matrix(0,1,1,0,38.033,27.47024)\"/>\n",
       "<path style=\"fill:none;stroke-width:0.3985;stroke-linecap:butt;stroke-linejoin:miter;stroke:rgb(0%,0%,0%);stroke-opacity:1;stroke-miterlimit:10;\" d=\"M 6.924031 -6.921531 L 20.881062 -20.882469 \" transform=\"matrix(1,0,0,-1,38.033,6.723)\"/>\n",
       "<path style=\"fill:none;stroke-width:0.31879;stroke-linecap:round;stroke-linejoin:round;stroke:rgb(0%,0%,0%);stroke-opacity:1;stroke-miterlimit:10;\" d=\"M -1.195618 1.592776 C -1.096175 0.996146 0.000417388 0.0984442 0.298734 -0.000992273 C 0.000418794 -0.100433 -1.096161 -0.99815 -1.195595 -1.594782 \" transform=\"matrix(0.70709,0.7071,0.7071,-0.70709,58.91447,27.60447)\"/>\n",
       "<g style=\"fill:rgb(0%,0%,0%);fill-opacity:1;\">\n",
       "  <use xlink:href=\"#glyph-1536453577330693-0-1\" x=\"34.227\" y=\"10.125\"/>\n",
       "</g>\n",
       "<g style=\"fill:rgb(0%,0%,0%);fill-opacity:1;\">\n",
       "  <use xlink:href=\"#glyph-1536453577330693-0-2\" x=\"3.321\" y=\"38.471\"/>\n",
       "  <use xlink:href=\"#glyph-1536453577330693-0-3\" x=\"11.071934\" y=\"38.471\"/>\n",
       "</g>\n",
       "<g style=\"fill:rgb(0%,0%,0%);fill-opacity:1;\">\n",
       "  <use xlink:href=\"#glyph-1536453577330693-0-2\" x=\"31.667\" y=\"38.471\"/>\n",
       "  <use xlink:href=\"#glyph-1536453577330693-0-4\" x=\"39.417934\" y=\"38.471\"/>\n",
       "</g>\n",
       "<g style=\"fill:rgb(0%,0%,0%);fill-opacity:1;\">\n",
       "  <use xlink:href=\"#glyph-1536453577330693-0-2\" x=\"60.013\" y=\"38.471\"/>\n",
       "  <use xlink:href=\"#glyph-1536453577330693-0-5\" x=\"67.763934\" y=\"38.471\"/>\n",
       "</g>\n",
       "</g>\n",
       "</svg>\n",
       "\n"
      ],
      "text/plain": [
       "BayesNet{CPD}({4, 3} directed simple Int64 graph, CPD[StaticCPD{Bernoulli{Float64}}(:D, Symbol[], Bernoulli{Float64}(p=0.01)), FunctionalCPD{Bernoulli}(:O3, Symbol[:D], ##5#6()), StaticCPD{Bernoulli{Float64}}(:O1, Symbol[:D], Bernoulli{Float64}(p=0.5)), FunctionalCPD{Bernoulli}(:O2, Symbol[:D], ##3#4())], Dict(:O2=>4,:D=>1,:O1=>3,:O3=>2))"
      ]
     },
     "execution_count": 2,
     "metadata": {},
     "output_type": "execute_result"
    }
   ],
   "source": [
    "b = BayesNet()\n",
    "push!(b, StaticCPD(:D, Bernoulli(0.01)))\n",
    "push!(b, StaticCPD(:O1, [:D], Bernoulli(0.5))) # no real signal of whether disease is present\n",
    "push!(b, FunctionalCPD{Bernoulli}(:O2, [:D], a->Bernoulli(a[:D] == true ? 0.9 : 0.01)))\n",
    "push!(b, FunctionalCPD{Bernoulli}(:O3, [:D], a->Bernoulli(a[:D] == true ? 0.6 : 0.3)))"
   ]
  },
  {
   "cell_type": "code",
   "execution_count": 3,
   "metadata": {},
   "outputs": [
    {
     "data": {
      "text/html": [
       "<table class=\"data-frame\"><thead><tr><th></th><th>T</th><th>D</th><th>U</th></tr></thead><tbody><tr><th>1</th><td>false</td><td>false</td><td>0</td></tr><tr><th>2</th><td>false</td><td>true</td><td>-10</td></tr><tr><th>3</th><td>true</td><td>false</td><td>-1</td></tr><tr><th>4</th><td>true</td><td>true</td><td>-1</td></tr></tbody></table>"
      ],
      "text/plain": [
       "4×3 DataFrame\n",
       "│ Row │ T     │ D     │ U   │\n",
       "├─────┼───────┼───────┼─────┤\n",
       "│ 1   │ false │ false │ 0   │\n",
       "│ 2   │ false │ true  │ -10 │\n",
       "│ 3   │ true  │ false │ -1  │\n",
       "│ 4   │ true  │ true  │ -1  │"
      ]
     },
     "execution_count": 3,
     "metadata": {},
     "output_type": "execute_result"
    }
   ],
   "source": [
    "U = DataFrame()\n",
    "U[:T] = [false, false, true, true]\n",
    "U[:D] = [false, true, false, true]\n",
    "U[:U] = [0, -10, -1, -1]\n",
    "U"
   ]
  },
  {
   "cell_type": "code",
   "execution_count": 4,
   "metadata": {},
   "outputs": [],
   "source": [
    "using Random\n",
    "function estimate_table(b::BayesNet, target::NodeName, consistent_with::Assignment; nsamples = 10000)\n",
    "    Random.seed!(0)\n",
    "    t = fit(Table, rand(b, LikelihoodWeightedSampler(consistent_with), nsamples))\n",
    "    normalize(sumout(t, setdiff(names(b), [target])))\n",
    "end;"
   ]
  },
  {
   "cell_type": "code",
   "execution_count": 5,
   "metadata": {},
   "outputs": [
    {
     "data": {
      "text/html": [
       "<table class=\"data-frame\"><thead><tr><th></th><th>D</th><th>p</th></tr></thead><tbody><tr><th>1</th><td>0</td><td>0.9899</td></tr><tr><th>2</th><td>1</td><td>0.0101</td></tr></tbody></table>"
      ],
      "text/plain": [
       "Table(2×2 DataFrame\n",
       "│ Row │ D │ p      │\n",
       "├─────┼───┼────────┤\n",
       "│ 1   │ 0 │ 0.9899 │\n",
       "│ 2   │ 1 │ 0.0101 │)"
      ]
     },
     "execution_count": 5,
     "metadata": {},
     "output_type": "execute_result"
    }
   ],
   "source": [
    "D = estimate_table(b, :D, Assignment(:O1=>true))"
   ]
  },
  {
   "cell_type": "code",
   "execution_count": 6,
   "metadata": {},
   "outputs": [
    {
     "data": {
      "text/html": [
       "<table class=\"data-frame\"><thead><tr><th></th><th>T</th><th>D</th><th>U</th><th>p</th></tr></thead><tbody><tr><th>1</th><td>false</td><td>false</td><td>0</td><td>0.9899</td></tr><tr><th>2</th><td>false</td><td>true</td><td>-10</td><td>0.0101</td></tr><tr><th>3</th><td>true</td><td>false</td><td>-1</td><td>0.9899</td></tr><tr><th>4</th><td>true</td><td>true</td><td>-1</td><td>0.0101</td></tr></tbody></table>"
      ],
      "text/plain": [
       "4×4 DataFrame\n",
       "│ Row │ T     │ D     │ U   │ p      │\n",
       "├─────┼───────┼───────┼─────┼────────┤\n",
       "│ 1   │ false │ false │ 0   │ 0.9899 │\n",
       "│ 2   │ false │ true  │ -10 │ 0.0101 │\n",
       "│ 3   │ true  │ false │ -1  │ 0.9899 │\n",
       "│ 4   │ true  │ true  │ -1  │ 0.0101 │"
      ]
     },
     "execution_count": 6,
     "metadata": {},
     "output_type": "execute_result"
    }
   ],
   "source": [
    "EU = join(U, D.potential, on = :D)"
   ]
  },
  {
   "cell_type": "code",
   "execution_count": 7,
   "metadata": {},
   "outputs": [
    {
     "data": {
      "text/html": [
       "<table class=\"data-frame\"><thead><tr><th></th><th>T</th><th>x1</th></tr></thead><tbody><tr><th>1</th><td>false</td><td>-0.101</td></tr><tr><th>2</th><td>true</td><td>-1.0</td></tr></tbody></table>"
      ],
      "text/plain": [
       "2×2 DataFrame\n",
       "│ Row │ T     │ x1     │\n",
       "├─────┼───────┼────────┤\n",
       "│ 1   │ false │ -0.101 │\n",
       "│ 2   │ true  │ -1.0   │"
      ]
     },
     "execution_count": 7,
     "metadata": {},
     "output_type": "execute_result"
    }
   ],
   "source": [
    "using LinearAlgebra\n",
    "by(EU, :T, df->LinearAlgebra.dot(df[:U], df[:p]))"
   ]
  },
  {
   "cell_type": "code",
   "execution_count": 8,
   "metadata": {},
   "outputs": [],
   "source": [
    "function diseaseEU(b::BayesNet, a::Assignment, U::DataFrame)\n",
    "    D = estimate_table(b, :D, a).potential\n",
    "    EU = join(U, D, on = :D)\n",
    "    t = by(EU, :T, df->LinearAlgebra.dot(df[:U], df[:p]))\n",
    "    rename!(t, :x1=>:EU)\n",
    "    t\n",
    "end;"
   ]
  },
  {
   "cell_type": "code",
   "execution_count": 9,
   "metadata": {},
   "outputs": [
    {
     "data": {
      "text/html": [
       "<table class=\"data-frame\"><thead><tr><th></th><th>T</th><th>EU</th></tr></thead><tbody><tr><th>1</th><td>false</td><td>-0.101</td></tr><tr><th>2</th><td>true</td><td>-1.0</td></tr></tbody></table>"
      ],
      "text/plain": [
       "2×2 DataFrame\n",
       "│ Row │ T     │ EU     │\n",
       "├─────┼───────┼────────┤\n",
       "│ 1   │ false │ -0.101 │\n",
       "│ 2   │ true  │ -1.0   │"
      ]
     },
     "execution_count": 9,
     "metadata": {},
     "output_type": "execute_result"
    }
   ],
   "source": [
    "diseaseEU(b, Assignment(:O1=>true), U)"
   ]
  },
  {
   "cell_type": "code",
   "execution_count": 10,
   "metadata": {},
   "outputs": [
    {
     "data": {
      "text/html": [
       "<table class=\"data-frame\"><thead><tr><th></th><th>T</th><th>EU</th></tr></thead><tbody><tr><th>1</th><td>false</td><td>-0.101</td></tr><tr><th>2</th><td>true</td><td>-1.0</td></tr></tbody></table>"
      ],
      "text/plain": [
       "2×2 DataFrame\n",
       "│ Row │ T     │ EU     │\n",
       "├─────┼───────┼────────┤\n",
       "│ 1   │ false │ -0.101 │\n",
       "│ 2   │ true  │ -1.0   │"
      ]
     },
     "execution_count": 10,
     "metadata": {},
     "output_type": "execute_result"
    }
   ],
   "source": [
    "diseaseEU(b, Assignment(:O1=>false), U)"
   ]
  },
  {
   "cell_type": "code",
   "execution_count": 11,
   "metadata": {},
   "outputs": [
    {
     "data": {
      "text/html": [
       "<table class=\"data-frame\"><thead><tr><th></th><th>T</th><th>EU</th></tr></thead><tbody><tr><th>1</th><td>false</td><td>-4.78698</td></tr><tr><th>2</th><td>true</td><td>-1.0</td></tr></tbody></table>"
      ],
      "text/plain": [
       "2×2 DataFrame\n",
       "│ Row │ T     │ EU       │\n",
       "├─────┼───────┼──────────┤\n",
       "│ 1   │ false │ -4.78698 │\n",
       "│ 2   │ true  │ -1.0     │"
      ]
     },
     "execution_count": 11,
     "metadata": {},
     "output_type": "execute_result"
    }
   ],
   "source": [
    "diseaseEU(b, Assignment(:O2=>true), U)"
   ]
  },
  {
   "cell_type": "code",
   "execution_count": 12,
   "metadata": {},
   "outputs": [
    {
     "data": {
      "text/html": [
       "<table class=\"data-frame\"><thead><tr><th></th><th>T</th><th>EU</th></tr></thead><tbody><tr><th>1</th><td>false</td><td>-0.19998</td></tr><tr><th>2</th><td>true</td><td>-1.0</td></tr></tbody></table>"
      ],
      "text/plain": [
       "2×2 DataFrame\n",
       "│ Row │ T     │ EU       │\n",
       "├─────┼───────┼──────────┤\n",
       "│ 1   │ false │ -0.19998 │\n",
       "│ 2   │ true  │ -1.0     │"
      ]
     },
     "execution_count": 12,
     "metadata": {},
     "output_type": "execute_result"
    }
   ],
   "source": [
    "diseaseEU(b, Assignment(:O3=>true), U)"
   ]
  }
 ],
 "metadata": {
  "kernelspec": {
   "display_name": "Julia 1.0.0",
   "language": "julia",
   "name": "julia-1.0"
  },
  "language_info": {
   "file_extension": ".jl",
   "mimetype": "application/julia",
   "name": "julia",
   "version": "1.0.0"
  }
 },
 "nbformat": 4,
 "nbformat_minor": 1
}
